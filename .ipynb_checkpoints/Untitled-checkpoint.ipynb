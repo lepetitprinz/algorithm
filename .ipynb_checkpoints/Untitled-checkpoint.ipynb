{
 "cells": [
  {
   "cell_type": "code",
   "execution_count": null,
   "id": "961f0d66",
   "metadata": {},
   "outputs": [],
   "source": [
    "from itertools import permutation\n",
    "\n",
    "def search_unscramble_word(word, dictionary):\n",
    "    unscramble_word = []\n",
    "    for w in permuation(word, len(word)):\n",
    "        unscramble_word.append(''.join(w))\n",
    "\n",
    "    return unscramble_word    \n",
    "        \n",
    "dictionary = []\n",
    "while True:\n",
    "    word = input()\n",
    "    if word == 'XXXXXX':\n",
    "        break\n",
    "    else:\n",
    "        dictionary.append(word)\n",
    "while True:\n",
    "    word = input()\n",
    "    if word == 'XXXXXX':\n",
    "        break\n",
    "    else:\n",
    "        \n",
    "        \n"
   ]
  },
  {
   "cell_type": "code",
   "execution_count": 8,
   "id": "f5ab74e8",
   "metadata": {},
   "outputs": [],
   "source": [
    "from itertools import permutations\n",
    "\n",
    "def search_unscramble_word(word):\n",
    "    unscramble_word = []\n",
    "    for w in permutations(word, len(word)):\n",
    "        unscramble_word.append(''.join(w))\n",
    "\n",
    "    return unscramble_word   "
   ]
  },
  {
   "cell_type": "code",
   "execution_count": 9,
   "id": "3f5344b7",
   "metadata": {},
   "outputs": [],
   "source": [
    "temp = search_unscramble_word('aptr')"
   ]
  },
  {
   "cell_type": "code",
   "execution_count": 10,
   "id": "9994ebbe",
   "metadata": {
    "scrolled": true
   },
   "outputs": [
    {
     "data": {
      "text/plain": [
       "['aptr',\n",
       " 'aprt',\n",
       " 'atpr',\n",
       " 'atrp',\n",
       " 'arpt',\n",
       " 'artp',\n",
       " 'patr',\n",
       " 'part',\n",
       " 'ptar',\n",
       " 'ptra',\n",
       " 'prat',\n",
       " 'prta',\n",
       " 'tapr',\n",
       " 'tarp',\n",
       " 'tpar',\n",
       " 'tpra',\n",
       " 'trap',\n",
       " 'trpa',\n",
       " 'rapt',\n",
       " 'ratp',\n",
       " 'rpat',\n",
       " 'rpta',\n",
       " 'rtap',\n",
       " 'rtpa']"
      ]
     },
     "execution_count": 10,
     "metadata": {},
     "output_type": "execute_result"
    }
   ],
   "source": [
    "temp"
   ]
  },
  {
   "cell_type": "code",
   "execution_count": null,
   "id": "a51f6299",
   "metadata": {},
   "outputs": [],
   "source": []
  }
 ],
 "metadata": {
  "kernelspec": {
   "display_name": "Python 3 (ipykernel)",
   "language": "python",
   "name": "python3"
  },
  "language_info": {
   "codemirror_mode": {
    "name": "ipython",
    "version": 3
   },
   "file_extension": ".py",
   "mimetype": "text/x-python",
   "name": "python",
   "nbconvert_exporter": "python",
   "pygments_lexer": "ipython3",
   "version": "3.8.10"
  }
 },
 "nbformat": 4,
 "nbformat_minor": 5
}
