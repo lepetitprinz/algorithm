{
 "cells": [
  {
   "cell_type": "code",
   "execution_count": null,
   "id": "519cb7d9",
   "metadata": {},
   "outputs": [],
   "source": [
    "t = int(input())\n",
    "for _ in range(t):\n",
    "    score = {'y': 0, 'k':0}\n",
    "    for _ in range(9):\n",
    "        y, k = map(int, input().split())\n",
    "            score['y'] += y\n",
    "            score['k'] += k\n",
    "        \n",
    "    if score['y'] > score['k']:\n",
    "        print('Yonsei')\n",
    "    elif score['y'] < score['k']:\n",
    "        print('Korea')\n",
    "    else:\n",
    "        print('Draw')"
   ]
  },
  {
   "cell_type": "code",
   "execution_count": 3,
   "id": "dfa07583",
   "metadata": {},
   "outputs": [
    {
     "name": "stdout",
     "output_type": "stream",
     "text": [
      "8\n",
      "28\n"
     ]
    }
   ],
   "source": [
    "from math import ceil\n",
    "from collections import deque\n",
    "\n",
    "n = int(input())\n",
    "total = 0\n",
    "queue = deque([n])\n",
    "while queue:\n",
    "    if set(queue) == set([1]):\n",
    "        break\n",
    "    value = queue.popleft()\n",
    "    mid = int(ceil(value/2))\n",
    "    other = value - mid\n",
    "    total += mid * other\n",
    "    queue.append(mid)\n",
    "    queue.append(other)\n",
    "    \n",
    "print(total)"
   ]
  },
  {
   "cell_type": "code",
   "execution_count": null,
   "id": "a52f6347",
   "metadata": {},
   "outputs": [],
   "source": []
  }
 ],
 "metadata": {
  "kernelspec": {
   "display_name": "Python 3 (ipykernel)",
   "language": "python",
   "name": "python3"
  },
  "language_info": {
   "codemirror_mode": {
    "name": "ipython",
    "version": 3
   },
   "file_extension": ".py",
   "mimetype": "text/x-python",
   "name": "python",
   "nbconvert_exporter": "python",
   "pygments_lexer": "ipython3",
   "version": "3.8.10"
  }
 },
 "nbformat": 4,
 "nbformat_minor": 5
}
