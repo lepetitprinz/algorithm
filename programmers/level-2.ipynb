{
 "cells": [
  {
   "cell_type": "code",
   "execution_count": 44,
   "id": "5bdebaf1",
   "metadata": {},
   "outputs": [],
   "source": [
    "def solution(land):\n",
    "    answer = land[0]\n",
    "    for l in land[1:]:\n",
    "        row1 = max(answer[1:])\n",
    "        row2 = max([answer[i] for i in [0,2,3]])\n",
    "        row3 = max([answer[i] for i in [0,1,3]])\n",
    "        row4 = max(answer[:-1])\n",
    "        answer = [l[0] + row1, l[1] + row2, l[2] + row3, l[3] + row4]\n",
    "    \n",
    "    result = max(answer)\n",
    "    \n",
    "    return result"
   ]
  },
  {
   "cell_type": "code",
   "execution_count": 45,
   "id": "b389fb77",
   "metadata": {},
   "outputs": [],
   "source": [
    "land = [[1,2,3,5],[5,6,7,8],[4,3,2,1]]\t"
   ]
  },
  {
   "cell_type": "code",
   "execution_count": 46,
   "id": "eb0fd18f",
   "metadata": {
    "scrolled": false
   },
   "outputs": [
    {
     "data": {
      "text/plain": [
       "16"
      ]
     },
     "execution_count": 46,
     "metadata": {},
     "output_type": "execute_result"
    }
   ],
   "source": [
    "solution(land)"
   ]
  },
  {
   "cell_type": "markdown",
   "id": "9d00498b",
   "metadata": {},
   "source": [
    "### 문자열 압축"
   ]
  },
  {
   "cell_type": "code",
   "execution_count": 56,
   "id": "81b2479b",
   "metadata": {},
   "outputs": [],
   "source": [
    "def solution(s):\n",
    "    if len(s) == 1:\n",
    "        result = 1\n",
    "    else:\n",
    "        split_list = split_string(s)\n",
    "        results = [len(compress(str_list)) for str_list in split_list]\n",
    "        result = min(results)\n",
    "\n",
    "    return result\n",
    "\n",
    "def split_string(s):\n",
    "    split_list = []\n",
    "    for i in range(1, (len(s)//2) + 1):\n",
    "        chunk = [s[j: j+i] for j in range(0, len(s), i)]\n",
    "        split_list.append(chunk)\n",
    "    \n",
    "    return split_list\n",
    "\n",
    "def compress(str_list):\n",
    "    length = len(str_list)\n",
    "    string = ''\n",
    "    cnt = 1\n",
    "    for i in range(length-1):\n",
    "        if str_list[i+1] == str_list[i]:\n",
    "            cnt += 1\n",
    "            if i == length-2:\n",
    "                string = string + str(cnt) + str_list[i]\n",
    "        else:\n",
    "            if cnt != 1:\n",
    "                string = string + str(cnt) + str_list[i]\n",
    "                cnt = 1\n",
    "            else:\n",
    "                string = string + str_list[i]\n",
    "            if i == length-2:\n",
    "                string = string + str_list[i+1]\n",
    "    \n",
    "    return string"
   ]
  },
  {
   "cell_type": "code",
   "execution_count": 57,
   "id": "b17908da",
   "metadata": {},
   "outputs": [],
   "source": [
    "s = \"aabbaccc\""
   ]
  },
  {
   "cell_type": "code",
   "execution_count": 62,
   "id": "43ea556d",
   "metadata": {
    "scrolled": true
   },
   "outputs": [
    {
     "data": {
      "text/plain": [
       "2"
      ]
     },
     "execution_count": 62,
     "metadata": {},
     "output_type": "execute_result"
    }
   ],
   "source": [
    "bin(10)[2:].count('1')"
   ]
  },
  {
   "cell_type": "markdown",
   "id": "cd7936b4",
   "metadata": {},
   "source": [
    "### 124 나라의 숫자"
   ]
  },
  {
   "cell_type": "code",
   "execution_count": 2,
   "id": "2465439b",
   "metadata": {},
   "outputs": [],
   "source": [
    "def solution(n):\n",
    "    chg_map = {'0':'1', '1': '2', '2': '4'}\n",
    "    converted = convert(n, 3)\n",
    "    result = [chg_map[string] for string in converted]\n",
    "    \n",
    "    return ''.join(result)\n",
    "    \n",
    "def convert(n, d):\n",
    "    result = ''\n",
    "    while n:\n",
    "        num = n - 1\n",
    "        result = str(num % d) + result\n",
    "        n = num // d\n",
    "        \n",
    "    return result"
   ]
  },
  {
   "cell_type": "code",
   "execution_count": 3,
   "id": "fd4d75af",
   "metadata": {},
   "outputs": [
    {
     "data": {
      "text/plain": [
       "'41'"
      ]
     },
     "execution_count": 3,
     "metadata": {},
     "output_type": "execute_result"
    }
   ],
   "source": [
    "solution(10)"
   ]
  },
  {
   "cell_type": "code",
   "execution_count": 4,
   "id": "8599a4b0",
   "metadata": {
    "pycharm": {
     "name": "#%%\n"
    }
   },
   "outputs": [
    {
     "data": {
      "text/plain": [
       "'02'"
      ]
     },
     "execution_count": 4,
     "metadata": {},
     "output_type": "execute_result"
    }
   ],
   "source": [
    "convert(6, 3)"
   ]
  },
  {
   "cell_type": "markdown",
   "id": "92015298",
   "metadata": {
    "pycharm": {
     "name": "#%% md\n"
    }
   },
   "source": [
    "### 오픈채팅방\n",
    "\n",
    "카카오톡 오픈채팅방에서는 친구가 아닌 사람들과 대화를 할 수 있는데, 본래 닉네임이 아닌 가상의 닉네임을 사용하여 채팅방에 들어갈 수 있다.\n",
    "\n",
    "신입사원인 김크루는 카카오톡 오픈 채팅방을 개설한 사람을 위해, 다양한 사람들이 들어오고, 나가는 것을 지켜볼 수 있는 관리자창을 만들기로 했다. 채팅방에 누군가 들어오면 다음 메시지가 출력된다.\n",
    "\n",
    "\"[닉네임]님이 들어왔습니다.\"\n",
    "\n",
    "채팅방에서 누군가 나가면 다음 메시지가 출력된다.\n",
    "\n",
    "\"[닉네임]님이 나갔습니다.\"\n",
    "\n",
    "채팅방에서 닉네임을 변경하는 방법은 다음과 같이 두 가지이다.\n",
    "\n",
    "채팅방을 나간 후, 새로운 닉네임으로 다시 들어간다.\n",
    "채팅방에서 닉네임을 변경한다.\n",
    "닉네임을 변경할 때는 기존에 채팅방에 출력되어 있던 메시지의 닉네임도 전부 변경된다.\n",
    "\n",
    "예를 들어, 채팅방에 \"Muzi\"와 \"Prodo\"라는 닉네임을 사용하는 사람이 순서대로 들어오면 채팅방에는 다음과 같이 메시지가 출력된다.\n",
    "\n",
    "\"Muzi님이 들어왔습니다.\"\n",
    "\"Prodo님이 들어왔습니다.\"\n",
    "\n",
    "채팅방에 있던 사람이 나가면 채팅방에는 다음과 같이 메시지가 남는다.\n",
    "\n",
    "\"Muzi님이 들어왔습니다.\"\n",
    "\"Prodo님이 들어왔습니다.\"\n",
    "\"Muzi님이 나갔습니다.\"\n",
    "\n",
    "Muzi가 나간후 다시 들어올 때, Prodo 라는 닉네임으로 들어올 경우 기존에 채팅방에 남아있던 Muzi도 Prodo로 다음과 같이 변경된다.\n",
    "\n",
    "\"Prodo님이 들어왔습니다.\"\n",
    "\"Prodo님이 들어왔습니다.\"\n",
    "\"Prodo님이 나갔습니다.\"\n",
    "\"Prodo님이 들어왔습니다.\"\n",
    "\n",
    "채팅방은 중복 닉네임을 허용하기 때문에, 현재 채팅방에는 Prodo라는 닉네임을 사용하는 사람이 두 명이 있다. 이제, 채팅방에 두 번째로 들어왔던 Prodo가 Ryan으로 닉네임을 변경하면 채팅방 메시지는 다음과 같이 변경된다.\n",
    "\n",
    "\"Prodo님이 들어왔습니다.\"\n",
    "\"Ryan님이 들어왔습니다.\"\n",
    "\"Prodo님이 나갔습니다.\"\n",
    "\"Prodo님이 들어왔습니다.\"\n",
    "\n",
    "채팅방에 들어오고 나가거나, 닉네임을 변경한 기록이 담긴 문자열 배열 record가 매개변수로 주어질 때, 모든 기록이 처리된 후, 최종적으로 방을 개설한 사람이 보게 되는 메시지를 문자열 배열 형태로 return 하도록 solution 함수를 완성하라."
   ]
  },
  {
   "cell_type": "code",
   "execution_count": 6,
   "id": "ff246b94",
   "metadata": {
    "pycharm": {
     "name": "#%%\n"
    }
   },
   "outputs": [],
   "source": [
    "comment = {'Enter': '님이 들어왔습니다.', 'Leave': '님이 나갔습니다.'}"
   ]
  },
  {
   "cell_type": "code",
   "execution_count": 25,
   "id": "a7abe479",
   "metadata": {
    "pycharm": {
     "name": "#%%\n"
    }
   },
   "outputs": [],
   "source": [
    "def solution(record):\n",
    "    record_hist = []\n",
    "    id_nick_map = {}\n",
    "\n",
    "    for rec in record:\n",
    "        rec = rec.split(\" \")\n",
    "        if rec[0] in ['Enter', 'Change']:\n",
    "            id_nick_map[rec[1]] = rec[2]\n",
    "\n",
    "        record_hist.append([rec[1], rec[0]])\n",
    "\n",
    "    result = [id_nick_map[id] + comment[action] for id, action in record_hist if action != 'Change']\n",
    "\n",
    "    return result"
   ]
  },
  {
   "cell_type": "code",
   "execution_count": 26,
   "id": "02da783c",
   "metadata": {
    "pycharm": {
     "name": "#%%\n"
    }
   },
   "outputs": [],
   "source": [
    "# Input Example\n",
    "record = [\"Enter uid1234 Muzi\", \"Enter uid4567 Prodo\", \"Leave uid1234\", \"Enter uid1234 Prodo\", \"Change uid4567 Ryan\"]"
   ]
  },
  {
   "cell_type": "code",
   "execution_count": 27,
   "id": "6eca7a01",
   "metadata": {
    "pycharm": {
     "name": "#%%\n"
    }
   },
   "outputs": [
    {
     "data": {
      "text/plain": [
       "['Prodo님이 들어왔습니다.', 'Ryan님이 들어왔습니다.', 'Prodo님이 나갔습니다.', 'Prodo님이 들어왔습니다.']"
      ]
     },
     "execution_count": 27,
     "metadata": {},
     "output_type": "execute_result"
    }
   ],
   "source": [
    "solution(record=record)"
   ]
  },
  {
   "cell_type": "code",
   "execution_count": 28,
   "id": "606f2e9c",
   "metadata": {
    "pycharm": {
     "name": "#%%\n"
    }
   },
   "outputs": [],
   "source": [
    "import numpy as np"
   ]
  },
  {
   "cell_type": "code",
   "execution_count": 32,
   "id": "b685265c",
   "metadata": {
    "pycharm": {
     "name": "#%%\n"
    }
   },
   "outputs": [],
   "source": [
    "temp1 = np.array(['a', 'b', 'c'])\n",
    "temp2 = np.array(['1', '2', '3'])\n",
    "np.core.defchararray.add(temp1, temp2).tolist()"
   ]
  },
  {
   "cell_type": "code",
   "execution_count": 40,
   "id": "512a64ed",
   "metadata": {
    "pycharm": {
     "name": "#%%\n"
    }
   },
   "outputs": [
    {
     "data": {
      "text/plain": [
       "['a1', 'b2', 'c3']"
      ]
     },
     "execution_count": 40,
     "metadata": {},
     "output_type": "execute_result"
    }
   ],
   "source": [
    "np.core.defchararray.add(temp1, temp2).tolist()"
   ]
  },
  {
   "cell_type": "markdown",
   "id": "e7659d49",
   "metadata": {
    "pycharm": {
     "name": "#%% md\n"
    }
   },
   "source": [
    "### 짝지어 제거하기"
   ]
  },
  {
   "cell_type": "code",
   "execution_count": 45,
   "id": "f02e3cfa",
   "metadata": {
    "pycharm": {
     "name": "#%%\n"
    }
   },
   "outputs": [],
   "source": [
    "def solution(s):\n",
    "    if len(s) % 2 == 1:\n",
    "        return 0\n",
    "\n",
    "    else:\n",
    "        temp = list(s)[:]\n",
    "        while temp:\n",
    "            for i in range(len(temp)-1):\n",
    "                if temp[i] == temp[i+1]:\n",
    "                    del temp[i:i+2]\n",
    "                    break\n",
    "            return 0\n",
    "        return 1"
   ]
  },
  {
   "cell_type": "code",
   "execution_count": 46,
   "id": "6e72a718",
   "metadata": {
    "pycharm": {
     "name": "#%%\n"
    }
   },
   "outputs": [
    {
     "data": {
      "text/plain": [
       "0"
      ]
     },
     "execution_count": 46,
     "metadata": {},
     "output_type": "execute_result"
    }
   ],
   "source": [
    "solution(s='baabaa')"
   ]
  },
  {
   "cell_type": "markdown",
   "id": "d95966aa",
   "metadata": {
    "pycharm": {
     "name": "#%% md\n"
    }
   },
   "source": [
    "### 숫자의 표현"
   ]
  },
  {
   "cell_type": "code",
   "execution_count": 47,
   "id": "5e23016d",
   "metadata": {
    "pycharm": {
     "name": "#%%\n"
    }
   },
   "outputs": [],
   "source": [
    "def solution(n):\n",
    "    cnt = 1\n",
    "    for i in range(1, n):\n",
    "        add = 1\n",
    "        sum = 0\n",
    "        while sum <= n:\n",
    "            sum += i + add\n",
    "            if sum == n:\n",
    "                cnt += 1\n",
    "                break\n",
    "            else:\n",
    "                add += 1\n",
    "\n",
    "    return cnt"
   ]
  },
  {
   "cell_type": "code",
   "execution_count": 49,
   "id": "e9ce5c9c",
   "metadata": {
    "pycharm": {
     "name": "#%%\n"
    }
   },
   "outputs": [
    {
     "data": {
      "text/plain": [
       "4"
      ]
     },
     "execution_count": 49,
     "metadata": {},
     "output_type": "execute_result"
    }
   ],
   "source": [
    "solution(n=21)"
   ]
  },
  {
   "cell_type": "markdown",
   "id": "6a459088",
   "metadata": {
    "pycharm": {
     "name": "#%% md\n"
    }
   },
   "source": [
    "### 프린트 큐"
   ]
  },
  {
   "cell_type": "code",
   "execution_count": null,
   "id": "8b740f2f",
   "metadata": {
    "pycharm": {
     "name": "#%%\n"
    }
   },
   "outputs": [],
   "source": [
    "test = int(input())\n",
    "\n",
    "for _ in range(test):\n",
    "    n, m = map(int, input().split())\n",
    "    doc = list(map(int, input().split()))\n",
    "\n",
    "    loc = m\n",
    "    cnt = 0\n",
    "    while True:\n",
    "        max_import = max(doc)\n",
    "        if doc[0] != max_import:\n",
    "            p = doc.pop(0)\n",
    "            doc.append(p)\n",
    "\n",
    "        else:\n",
    "            doc.pop(0)\n",
    "            cnt += 1\n",
    "            if loc == 0:\n",
    "                print(cnt)\n",
    "                break\n",
    "\n",
    "        loc = (loc - 1) % len(doc)"
   ]
  },
  {
   "cell_type": "markdown",
   "id": "500e364a",
   "metadata": {},
   "source": [
    "#### 멀리 뛰기"
   ]
  },
  {
   "cell_type": "code",
   "execution_count": 6,
   "id": "9c733e5d",
   "metadata": {},
   "outputs": [],
   "source": [
    "def solution(n):\n",
    "    d = [0] * n\n",
    "    d[0] = 1\n",
    "    if n > 1 :\n",
    "        d[1] = 2\n",
    "    for i in range(2, n):\n",
    "        d[i] = (d[i-1] + d[i-2]) % 1234567\n",
    "    \n",
    "    return d[n-1] % 1234567"
   ]
  },
  {
   "cell_type": "markdown",
   "id": "57d93d1b",
   "metadata": {},
   "source": [
    "#### 구명보트"
   ]
  },
  {
   "cell_type": "code",
   "execution_count": 13,
   "id": "309756b1",
   "metadata": {},
   "outputs": [],
   "source": [
    "def solution(people, limit):\n",
    "    answer = 0\n",
    "\n",
    "    people = sorted(people)\n",
    "    left = 0\n",
    "    right = len(people)-1\n",
    "\n",
    "    while left <= right:\n",
    "        if people[left] + people[right] > limit:\n",
    "            answer += 1\n",
    "            right -= 1\n",
    "        else:\n",
    "            answer += 1\n",
    "            right -= 1\n",
    "            left += 1\n",
    "\n",
    "    return answer"
   ]
  },
  {
   "cell_type": "code",
   "execution_count": 14,
   "id": "9294f42b",
   "metadata": {
    "scrolled": true
   },
   "outputs": [
    {
     "name": "stdout",
     "output_type": "stream",
     "text": [
      "3\n",
      "3\n"
     ]
    }
   ],
   "source": [
    "print(solution([70, 50, 80, 50], 100))\n",
    "print(solution([70, 50, 80], 100))"
   ]
  },
  {
   "cell_type": "markdown",
   "id": "4830c52a",
   "metadata": {},
   "source": [
    "#### 괄호 회전하기"
   ]
  },
  {
   "cell_type": "code",
   "execution_count": 18,
   "id": "d661e443",
   "metadata": {},
   "outputs": [],
   "source": [
    "def solution(s):\n",
    "    pair = {\"(\": \")\", \"[\": \"]\", \"{\": \"}\"}\n",
    "    s = list(s)\n",
    "\n",
    "    answer = 0\n",
    "    for i in range(len(s)):\n",
    "        rotated_s = s[i:] + s[:i]\n",
    "        answer += check(rotated_s, pair)\n",
    "\n",
    "    return answer\n",
    "\n",
    "\n",
    "def check(s, pair):\n",
    "    stack = []\n",
    "    for p in s:\n",
    "        if len(stack) == 0 or p in pair:\n",
    "            stack.append(p)\n",
    "        else:\n",
    "            if pair.get(stack[-1], \"\") == p:\n",
    "                stack.pop()\n",
    "    if len(stack) == 0:\n",
    "        return 1\n",
    "    else:\n",
    "        return 0"
   ]
  },
  {
   "cell_type": "code",
   "execution_count": 19,
   "id": "d3f62d3c",
   "metadata": {
    "collapsed": true
   },
   "outputs": [
    {
     "name": "stdout",
     "output_type": "stream",
     "text": [
      "3\n",
      "2\n",
      "0\n",
      "0\n"
     ]
    }
   ],
   "source": [
    "print(solution(\"[](){}\"))\n",
    "print(solution(\"}]()[{\"))\n",
    "print(solution(\"[)(]\"))\n",
    "print(solution(\"}}}\"))"
   ]
  },
  {
   "cell_type": "markdown",
   "id": "463a6514",
   "metadata": {},
   "source": [
    "#### 귤 고르기"
   ]
  },
  {
   "cell_type": "code",
   "execution_count": 30,
   "id": "de464ea4",
   "metadata": {},
   "outputs": [],
   "source": [
    "def solution(k, tangerine):\n",
    "    cnt = {}\n",
    "\n",
    "    for t in tangerine:\n",
    "        if t in cnt:\n",
    "            cnt[t] += 1\n",
    "        else:\n",
    "            cnt[t] = 1\n",
    "    sorted_cnt = sorted(cnt.items(), key=lambda x: -x[1])\n",
    "\n",
    "    rm_cnt = len(tangerine) - k\n",
    "    while rm_cnt > 0:\n",
    "        num, c = sorted_cnt.pop()\n",
    "        if c <= rm_cnt:\n",
    "            rm_cnt -= c\n",
    "        else:\n",
    "            sorted_cnt.append((num, c))\n",
    "\n",
    "    return len(sorted_cnt)"
   ]
  },
  {
   "cell_type": "code",
   "execution_count": null,
   "id": "2762ac7c",
   "metadata": {
    "scrolled": true
   },
   "outputs": [
    {
     "name": "stdout",
     "output_type": "stream",
     "text": [
      "3\n",
      "2\n"
     ]
    }
   ],
   "source": [
    "print(solution(6, [1, 3, 2, 5, 4, 5, 2, 3]))\n",
    "print(solution(4, [1, 3, 2, 5, 4, 5, 2, 3]))\n",
    "print(solution(2, [1, 1, 1, 1, 2, 2, 2, 3]))"
   ]
  },
  {
   "cell_type": "markdown",
   "id": "07527578",
   "metadata": {},
   "source": [
    "#### 숫자 블록"
   ]
  },
  {
   "cell_type": "code",
   "execution_count": 19,
   "id": "e2eaff63",
   "metadata": {},
   "outputs": [],
   "source": [
    "import math\n",
    "\n",
    "def solution(begin, end):\n",
    "    answer = []\n",
    "    for i in range(begin, end + 1):\n",
    "        if i == 1:\n",
    "            answer.append(0)\n",
    "        elif i % 2 == 0:\n",
    "            answer.append(i // 2)\n",
    "        elif is_prime(i):\n",
    "            answer.append(1)\n",
    "        else:\n",
    "            answer.append(decomposition(i))\n",
    "    \n",
    "    return answer\n",
    "\n",
    "def is_prime(n):\n",
    "    for i in range(2, int(math.sqrt(n)) + 1):\n",
    "        if n % i == 0:\n",
    "            return False \n",
    "    return True\n",
    "\n",
    "def decomposition(n):\n",
    "    d = 2\n",
    "    \n",
    "    max_val = 1\n",
    "    while d <= n:\n",
    "        if n % d == 0:\n",
    "            max_val = d\n",
    "            n = n / d\n",
    "        else:\n",
    "            d = d + 1\n",
    "            \n",
    "    return max_val"
   ]
  },
  {
   "cell_type": "code",
   "execution_count": 22,
   "id": "0b89fcae",
   "metadata": {
    "scrolled": true
   },
   "outputs": [
    {
     "name": "stdout",
     "output_type": "stream",
     "text": [
      "[0, 1, 1, 2, 1, 3, 1, 4, 3, 5, 1, 6, 1, 7, 5]\n"
     ]
    }
   ],
   "source": [
    "print(solution(1, 15))"
   ]
  },
  {
   "cell_type": "code",
   "execution_count": 21,
   "id": "c09cc1a6",
   "metadata": {},
   "outputs": [
    {
     "data": {
      "text/plain": [
       "[0, 1, 1, 2, 1, 3, 1, 4, 3, 5]"
      ]
     },
     "execution_count": 21,
     "metadata": {},
     "output_type": "execute_result"
    }
   ],
   "source": [
    "[0, 1, 1, 2, 1, 3, 1, 4, 3, 5]"
   ]
  },
  {
   "cell_type": "code",
   "execution_count": null,
   "id": "7f54147c",
   "metadata": {},
   "outputs": [],
   "source": []
  }
 ],
 "metadata": {
  "kernelspec": {
   "display_name": "Python 3 (ipykernel)",
   "language": "python",
   "name": "python3"
  },
  "language_info": {
   "codemirror_mode": {
    "name": "ipython",
    "version": 3
   },
   "file_extension": ".py",
   "mimetype": "text/x-python",
   "name": "python",
   "nbconvert_exporter": "python",
   "pygments_lexer": "ipython3",
   "version": "3.8.16"
  }
 },
 "nbformat": 4,
 "nbformat_minor": 5
}
