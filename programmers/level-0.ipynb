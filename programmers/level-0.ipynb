{
 "cells": [
  {
   "cell_type": "markdown",
   "id": "78ca7dcb",
   "metadata": {},
   "source": [
    "#### 옹알이 (1)"
   ]
  },
  {
   "cell_type": "code",
   "execution_count": null,
   "id": "bb01e5c2",
   "metadata": {},
   "outputs": [],
   "source": [
    "def solution(babbling):\n",
    "    words = {\"a\": \"aya\", \"y\": \"ye\", \"w\": \"woo\", \"m\": \"ma\"}\n",
    "    for word in babbling:\n",
    "        if len(word) < 11:\n",
    "            answer += check_validation(word, words)\n",
    "    \n",
    "    return answer\n",
    "\n",
    "def check_validation(word, words):\n",
    "    idx = 0\n",
    "    while idx < len(word):\n",
    "        if word[idx] in [\"a\", \"m\", \"y\", \"w\"]:\n",
    "            check_word = words[idx]\n",
    "            if word[i:i + len(check_word)] == check_word:\n",
    "                idx += len(check_word)\n",
    "            else:\n",
    "                return False\n",
    "        else:\n",
    "            return False\n",
    "        \n",
    "    return True"
   ]
  }
 ],
 "metadata": {
  "kernelspec": {
   "display_name": "Python 3 (ipykernel)",
   "language": "python",
   "name": "python3"
  },
  "language_info": {
   "codemirror_mode": {
    "name": "ipython",
    "version": 3
   },
   "file_extension": ".py",
   "mimetype": "text/x-python",
   "name": "python",
   "nbconvert_exporter": "python",
   "pygments_lexer": "ipython3",
   "version": "3.8.16"
  }
 },
 "nbformat": 4,
 "nbformat_minor": 5
}
