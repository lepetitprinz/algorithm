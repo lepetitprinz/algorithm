{
 "cells": [
  {
   "cell_type": "markdown",
   "metadata": {
    "collapsed": true,
    "pycharm": {
     "name": "#%% md\n"
    }
   },
   "source": [
    "### 시저암호"
   ]
  },
  {
   "cell_type": "code",
   "execution_count": 1,
   "metadata": {
    "pycharm": {
     "name": "#%%\n"
    }
   },
   "outputs": [],
   "source": [
    "from string import ascii_lowercase, ascii_uppercase"
   ]
  },
  {
   "cell_type": "code",
   "execution_count": 8,
   "metadata": {
    "pycharm": {
     "name": "#%%\n"
    }
   },
   "outputs": [],
   "source": [
    "alphabet = ascii_lowercase\n",
    "alpha_idx = {alpha: i for i, alpha in enumerate(alphabet)}\n",
    "\n",
    "def string_converter(alpha, n):\n",
    "    result = None\n",
    "    if alpha == ' ':\n",
    "        result = ' '\n",
    "    else:\n",
    "        idx = (alpha_idx[alpha.lower()] + n) % 26\n",
    "        temp = alphabet[idx]\n",
    "\n",
    "        if alpha.islower():\n",
    "            result = temp\n",
    "        else:\n",
    "            result = temp.upper()\n",
    "\n",
    "    return result\n",
    "\n",
    "def solution(s, n):\n",
    "    results = []\n",
    "    for alpha in s:\n",
    "        results.append(string_converter(alpha=alpha, n=n))\n",
    "\n",
    "    answer = ''.join(results)\n",
    "\n",
    "    return answer"
   ]
  },
  {
   "cell_type": "code",
   "execution_count": 9,
   "metadata": {
    "pycharm": {
     "name": "#%%\n"
    }
   },
   "outputs": [
    {
     "data": {
      "text/plain": [
       "'e F d'"
      ]
     },
     "execution_count": 9,
     "metadata": {},
     "output_type": "execute_result"
    }
   ],
   "source": [
    "solution('a B z', 4)"
   ]
  },
  {
   "cell_type": "markdown",
   "metadata": {
    "pycharm": {
     "name": "#%% md\n"
    }
   },
   "source": [
    "### 다트 게임"
   ]
  },
  {
   "cell_type": "code",
   "execution_count": 49,
   "metadata": {
    "pycharm": {
     "name": "#%%\n"
    }
   },
   "outputs": [],
   "source": [
    "number = [str(i) for i in range(10)]\n",
    "bonus = ['S', 'D', 'T']\n",
    "option = ['*', '#']"
   ]
  },
  {
   "cell_type": "code",
   "execution_count": 109,
   "metadata": {
    "pycharm": {
     "name": "#%%\n"
    }
   },
   "outputs": [],
   "source": [
    "def solution(dartResult):\n",
    "    score_list = split_score(dartResult)\n",
    "    scores = [calc_score(score) for score in score_list]\n",
    "    options = get_option(score_list)\n",
    "\n",
    "    result = update_score(scores, options)\n",
    "\n",
    "    return result"
   ]
  },
  {
   "cell_type": "code",
   "execution_count": 110,
   "metadata": {
    "pycharm": {
     "name": "#%%\n"
    }
   },
   "outputs": [],
   "source": [
    "def split_score(result):\n",
    "    length = len(result)\n",
    "    scores = []\n",
    "    temp = ''\n",
    "    for i, value in enumerate(result):\n",
    "        if value in number:\n",
    "            temp += value\n",
    "        elif value in bonus:\n",
    "            if i != length-1:\n",
    "                if result[i+1] not in option:\n",
    "                    temp += value\n",
    "                    scores.append(temp)\n",
    "                    temp = ''\n",
    "                else:\n",
    "                    temp += value\n",
    "            else:\n",
    "                temp += value\n",
    "                scores.append(temp)\n",
    "        elif value in option:\n",
    "            temp += value\n",
    "            scores.append(temp)\n",
    "            temp = ''\n",
    "\n",
    "    return scores"
   ]
  },
  {
   "cell_type": "code",
   "execution_count": 111,
   "metadata": {
    "pycharm": {
     "name": "#%%\n"
    }
   },
   "outputs": [],
   "source": [
    "def calc_score(value):\n",
    "    score = ''\n",
    "    b = ''\n",
    "\n",
    "    for v in value:\n",
    "        if v in number:\n",
    "            score += v\n",
    "        elif v in bonus:\n",
    "            b += v\n",
    "\n",
    "    score = int(score)\n",
    "\n",
    "    if b == 'D':\n",
    "        score = score ** 2\n",
    "    elif b == 'T':\n",
    "        score = score ** 3\n",
    "\n",
    "    return score"
   ]
  },
  {
   "cell_type": "code",
   "execution_count": 112,
   "metadata": {
    "pycharm": {
     "name": "#%%\n"
    }
   },
   "outputs": [],
   "source": [
    "def get_option(scores):\n",
    "    options = []\n",
    "    for score in scores:\n",
    "        if '*' in score:\n",
    "            options.append('*')\n",
    "        elif '#' in score:\n",
    "            options.append('#')\n",
    "        else:\n",
    "            options.append('')\n",
    "\n",
    "    return options"
   ]
  },
  {
   "cell_type": "code",
   "execution_count": 113,
   "metadata": {
    "pycharm": {
     "name": "#%%\n"
    }
   },
   "outputs": [],
   "source": [
    "def update_score(scores, options):\n",
    "    result = []\n",
    "    for i, (score, option) in enumerate(zip(scores, options)):\n",
    "        if option == '#':\n",
    "            score = score * (-1)\n",
    "            result.append(score)\n",
    "        elif option == '*':\n",
    "            if i == 0:\n",
    "                score = score * 2\n",
    "                result.append(score)\n",
    "            else:\n",
    "                score = score * 2\n",
    "                result[-1] = result[-1] * 2\n",
    "                result.append(score)\n",
    "        else:\n",
    "            result.append(score)\n",
    "\n",
    "    return result"
   ]
  },
  {
   "cell_type": "code",
   "execution_count": 114,
   "metadata": {
    "pycharm": {
     "name": "#%%\n"
    }
   },
   "outputs": [],
   "source": [
    "data_list = ['1S2D*3T', '1D2S#10S', '1D2S0T', '1S*2T*3S', '1D#2S*3S', '1T2D3D#', '1D2S3T*']"
   ]
  },
  {
   "cell_type": "markdown",
   "metadata": {
    "pycharm": {
     "name": "#%%\n"
    }
   },
   "source": [
    "### 실패율"
   ]
  },
  {
   "cell_type": "code",
   "execution_count": 58,
   "metadata": {},
   "outputs": [],
   "source": [
    "N = 5\n",
    "stages = [2, 1, 2, 6, 2, 4, 3, 3]"
   ]
  },
  {
   "cell_type": "code",
   "execution_count": 59,
   "metadata": {},
   "outputs": [],
   "source": [
    "from collections import Counter"
   ]
  },
  {
   "cell_type": "code",
   "execution_count": 83,
   "metadata": {},
   "outputs": [],
   "source": [
    "def solution(n, stages):\n",
    "    count, cum_cnt = set_count_and_cum_count(n=n, stages=stages)\n",
    "    fail_rate = calc_fail_rate(n=n, count=count, cum_cnt=cum_cnt)\n",
    "    result = get_order(fail_rate=fail_rate)\n",
    "    \n",
    "    return result\n",
    "\n",
    "def set_count_and_cum_count(n, stages):\n",
    "    count_map = dict(Counter(stages))\n",
    "    cum_count_map = {}\n",
    "    for i in range(n+1, 0, -1):\n",
    "        cnt = count_map.get(i, 0)\n",
    "        if i == n+1:\n",
    "            cum_cnt = cnt\n",
    "        else:\n",
    "            cum_cnt = cum_count_map[i+1] + cnt\n",
    "        cum_count_map[i] = cum_cnt\n",
    "\n",
    "    return count_map, cum_count_map\n",
    "\n",
    "def calc_fail_rate(n, count, cum_cnt):\n",
    "    fail_rate = []\n",
    "    for i in range(1, n+1):\n",
    "        if cum_cnt[i] == 0:\n",
    "            rate = 0\n",
    "        else:\n",
    "            rate = count.get(i,0) / cum_cnt[i]\n",
    "        fail_rate.append((i, rate))\n",
    "    \n",
    "    return fail_rate\n",
    "\n",
    "def get_order(fail_rate):\n",
    "    fail_rate = sorted(fail_rate, key=lambda x: (-x[1], x[0]))\n",
    "    order = [num for num, rate in fail_rate]\n",
    "    \n",
    "    return order"
   ]
  },
  {
   "cell_type": "code",
   "execution_count": 84,
   "metadata": {},
   "outputs": [
    {
     "data": {
      "text/plain": [
       "[3, 4, 2, 1, 5]"
      ]
     },
     "execution_count": 84,
     "metadata": {},
     "output_type": "execute_result"
    }
   ],
   "source": [
    "solution(n=N, stages=stages)"
   ]
  },
  {
   "cell_type": "markdown",
   "metadata": {},
   "source": [
    "### 신고결과 받기"
   ]
  },
  {
   "cell_type": "code",
   "execution_count": 137,
   "metadata": {},
   "outputs": [],
   "source": [
    "def solution(id_list, report, k):\n",
    "    #\n",
    "    report = list(set(report))\n",
    "    \n",
    "    # Get report count & repoted to reporter list\n",
    "    report_cnt, reported_reporter = make_report(report)\n",
    "    \n",
    "    # make ban list\n",
    "    ban_list = get_ban_list(report_cnt=report_cnt, k=k)\n",
    "    \n",
    "    mail_cnt = make_reporter_mail(ban_list, reported_reporter)\n",
    "    \n",
    "    result = make_result(id_list, mail_cnt)\n",
    "    \n",
    "    return result\n",
    "\n",
    "def make_report(report_list):\n",
    "    report_cnt = {}\n",
    "    reported_reporter = {}\n",
    "    \n",
    "    for report in report_list:\n",
    "        report_from, report_to = report.split(' ')\n",
    "        # make report counts\n",
    "        if report_to in report_cnt:\n",
    "            report_cnt[report_to] += 1\n",
    "        else:\n",
    "            report_cnt[report_to] = 1\n",
    "        # make reported - reporter map\n",
    "        if report_to in reported_reporter:\n",
    "            if report_from not in reported_reporter[report_to]:\n",
    "                reported_reporter[report_to].append(report_from)\n",
    "        else:\n",
    "            reported_reporter[report_to] = [report_from]\n",
    "    \n",
    "    return report_cnt, reported_reporter\n",
    "\n",
    "def get_ban_list(report_cnt, k):\n",
    "    ban_list = []\n",
    "    for person, cnt in report_cnt.items():\n",
    "        if cnt >= k:\n",
    "            ban_list.append(person)\n",
    "    \n",
    "    return ban_list\n",
    "\n",
    "def make_reporter_mail(ban_list, reported_reporter):\n",
    "    results = []\n",
    "    for ban in ban_list:\n",
    "        results.extend(reported_reporter[ban])\n",
    "    \n",
    "    mail_cnt = Counter(results)\n",
    "    \n",
    "    return mail_cnt\n",
    "\n",
    "def make_result(id_list, mail_cnt):\n",
    "    result = []\n",
    "    for id in id_list:\n",
    "        cnt = mail_cnt.get(id, 0)\n",
    "        result.append(cnt)\n",
    "    \n",
    "    return result"
   ]
  },
  {
   "cell_type": "code",
   "execution_count": 138,
   "metadata": {},
   "outputs": [],
   "source": [
    "id_list = [\"muzi\", \"frodo\", \"apeach\", \"neo\"]\n",
    "report = [\"muzi frodo\",\"apeach frodo\",\"frodo neo\",\"muzi neo\",\"apeach muzi\"]\n",
    "k = 2"
   ]
  },
  {
   "cell_type": "code",
   "execution_count": 139,
   "metadata": {
    "scrolled": true
   },
   "outputs": [
    {
     "data": {
      "text/plain": [
       "[2, 1, 1, 0]"
      ]
     },
     "execution_count": 139,
     "metadata": {},
     "output_type": "execute_result"
    }
   ],
   "source": [
    "solution(id_list, report, k)"
   ]
  },
  {
   "cell_type": "markdown",
   "metadata": {},
   "source": [
    "#### 삼총사"
   ]
  },
  {
   "cell_type": "code",
   "execution_count": 2,
   "metadata": {},
   "outputs": [],
   "source": [
    "from itertools import combinations\n",
    "\n",
    "def solution(number):\n",
    "    answer = 0\n",
    "    for nums in combinations(number, 3):\n",
    "        if sum(nums) == 0:\n",
    "            answer += 1\n",
    "    \n",
    "    return answer"
   ]
  },
  {
   "cell_type": "code",
   "execution_count": 4,
   "metadata": {},
   "outputs": [
    {
     "name": "stdout",
     "output_type": "stream",
     "text": [
      "2\n",
      "5\n"
     ]
    }
   ],
   "source": [
    "print(solution([-2, 3, 0, 2, -5]))\n",
    "print(solution([-3, -2, -1, 0, 1, 2, 3]))"
   ]
  },
  {
   "cell_type": "markdown",
   "metadata": {},
   "source": [
    "#### 크기가 작은 부분문자열"
   ]
  },
  {
   "cell_type": "code",
   "execution_count": 7,
   "metadata": {},
   "outputs": [],
   "source": [
    "def solution(t, p):\n",
    "    length = len(p)\n",
    "    p = int(p)\n",
    "    t = list(t)\n",
    "    num = t[:length]\n",
    "    \n",
    "    answer = 0\n",
    "    for add_num in t[length:]:\n",
    "        if int(''.join(num)) <= p:\n",
    "            answer += 1\n",
    "        num.pop(0)\n",
    "        num.append(add_num)\n",
    "    else:\n",
    "        if int(''.join(num)) <= p:\n",
    "            answer += 1\n",
    "        \n",
    "    return answer"
   ]
  },
  {
   "cell_type": "code",
   "execution_count": 10,
   "metadata": {},
   "outputs": [
    {
     "name": "stdout",
     "output_type": "stream",
     "text": [
      "2\n",
      "8\n",
      "3\n"
     ]
    }
   ],
   "source": [
    "print(solution(\"3141592\", \"271\"))\n",
    "print(solution(\"500220839878\", \"7\"))\n",
    "print(solution(\"10203\", \"15\"))"
   ]
  },
  {
   "cell_type": "markdown",
   "metadata": {},
   "source": [
    "#### 콜라 문제"
   ]
  },
  {
   "cell_type": "code",
   "execution_count": 10,
   "metadata": {},
   "outputs": [],
   "source": [
    "def solution(a, b, n):\n",
    "    answer = 0\n",
    "    \n",
    "    while n >= a:\n",
    "        give = n // a\n",
    "        answer += b * give\n",
    "        \n",
    "        n -= (a - b) * give\n",
    "    \n",
    "    return answer"
   ]
  },
  {
   "cell_type": "code",
   "execution_count": 11,
   "metadata": {
    "collapsed": true
   },
   "outputs": [
    {
     "name": "stdout",
     "output_type": "stream",
     "text": [
      "7\n",
      "5\n",
      "4\n",
      "3\n",
      "2\n",
      "16\n"
     ]
    }
   ],
   "source": [
    "print(solution(2, 1, 20))\n",
    "print(solution(3, 1, 20))\n",
    "print(solution(3, 2, 10))"
   ]
  },
  {
   "cell_type": "markdown",
   "metadata": {},
   "source": [
    "#### 연속 부분 수열 합의 개수"
   ]
  },
  {
   "cell_type": "code",
   "execution_count": 11,
   "metadata": {},
   "outputs": [],
   "source": [
    "def solution(elements):\n",
    "    length = len(elements)\n",
    "    values = set()\n",
    "\n",
    "    for width in range(1, length + 1):\n",
    "        left_idx = 0\n",
    "        s = sum(elements[:left_idx + width])\n",
    "        values.add(s)\n",
    "\n",
    "        for j in range(length):\n",
    "            s = s + elements[(j + width) % length] - elements[j]\n",
    "            values.add(s)\n",
    "            left_idx += 1\n",
    "\n",
    "    return len(values)"
   ]
  },
  {
   "cell_type": "code",
   "execution_count": 12,
   "metadata": {},
   "outputs": [
    {
     "name": "stdout",
     "output_type": "stream",
     "text": [
      "18\n"
     ]
    }
   ],
   "source": [
    "print(solution([7,9,1,1,4]))"
   ]
  },
  {
   "cell_type": "markdown",
   "metadata": {},
   "source": [
    "#### k진수에서 소수 개수 구하기"
   ]
  },
  {
   "cell_type": "code",
   "execution_count": 25,
   "metadata": {},
   "outputs": [],
   "source": [
    "import math\n",
    "\n",
    "\n",
    "def solution(n, k):\n",
    "    conv_n = conversion(n, k)\n",
    "    nums = []\n",
    "    for val in conv_n.split(\"0\"):\n",
    "        if val != \"\":\n",
    "            nums.append(int(val))\n",
    "    cnt = sum(is_prime(i) for i in nums if i != 1)\n",
    "\n",
    "    return cnt\n",
    "\n",
    "\n",
    "def conversion(n, q):\n",
    "    rev_base = ''\n",
    "\n",
    "    while n > 0:\n",
    "        n, mod = divmod(n, q)\n",
    "        rev_base += str(mod)\n",
    "\n",
    "    return rev_base[::-1]\n",
    "\n",
    "\n",
    "def is_prime(x):\n",
    "    for i in range(2, int(math.sqrt(x)) + 1):\n",
    "        if x % i == 0:\n",
    "            return False\n",
    "    return True "
   ]
  },
  {
   "cell_type": "code",
   "execution_count": 27,
   "metadata": {},
   "outputs": [
    {
     "name": "stdout",
     "output_type": "stream",
     "text": [
      "3\n",
      "2\n"
     ]
    }
   ],
   "source": [
    "print(solution(437674, 3))\n",
    "print(solution(110011, 10))"
   ]
  },
  {
   "cell_type": "markdown",
   "metadata": {},
   "source": [
    "#### 할인 행사"
   ]
  },
  {
   "cell_type": "code",
   "execution_count": 40,
   "metadata": {},
   "outputs": [],
   "source": [
    "def solution(want, number, discount):\n",
    "    want_hash = {want: i for i, want in enumerate(want)}\n",
    "    \n",
    "    cnt = 0\n",
    "    for i in range(10):\n",
    "        thing = discount[i]\n",
    "        if thing in want_hash:\n",
    "            thing_idx = want_hash[thing]\n",
    "            number[thing_idx] -= 1\n",
    "    \n",
    "    if set(number) == set([0]):\n",
    "        cnt += 1\n",
    "    \n",
    "    for i in range(len(discount) - 10):\n",
    "        remove_thing = discount[i]\n",
    "        if remove_thing in want_hash:\n",
    "            remove_idx = want_hash[remove_thing]\n",
    "            number[remove_idx] += 1\n",
    "        \n",
    "        add_thing = discount[i + 10]\n",
    "        if add_thing in want_hash:\n",
    "            add_idx = want_hash[add_thing]\n",
    "            number[add_idx] -= 1\n",
    "    \n",
    "        if set(number) == set([0]):\n",
    "            cnt += 1\n",
    "    \n",
    "    return cnt"
   ]
  },
  {
   "cell_type": "code",
   "execution_count": 41,
   "metadata": {},
   "outputs": [
    {
     "name": "stdout",
     "output_type": "stream",
     "text": [
      "3\n"
     ]
    }
   ],
   "source": [
    "answer = solution(\n",
    "    want=[\"banana\", \"apple\", \"rice\", \"pork\", \"pot\"],\n",
    "    number=[3, 2, 2, 2, 1],\n",
    "    discount=[\"chicken\", \"apple\", \"apple\", \"banana\", \"rice\", \"apple\", \"pork\", \"banana\", \"pork\", \"rice\", \"pot\", \"banana\", \"apple\", \"banana\"]\n",
    ")\n",
    "print(answer)"
   ]
  },
  {
   "cell_type": "code",
   "execution_count": 42,
   "metadata": {
    "scrolled": true
   },
   "outputs": [
    {
     "name": "stdout",
     "output_type": "stream",
     "text": [
      "0\n"
     ]
    }
   ],
   "source": [
    "answer = solution(\n",
    "    want=[\"apple\"],\n",
    "    number=[10],\n",
    "    discount=[\"banana\", \"banana\", \"banana\", \"banana\", \"banana\", \"banana\", \"banana\", \"banana\", \"banana\", \"banana\"]\n",
    ")\n",
    "print(answer)"
   ]
  },
  {
   "cell_type": "markdown",
   "metadata": {},
   "source": [
    "#### 가장 가까운 같은 글자"
   ]
  },
  {
   "cell_type": "code",
   "execution_count": 1,
   "metadata": {},
   "outputs": [],
   "source": [
    "# Hash\n",
    "def solution(s):\n",
    "    hash_table = {}\n",
    "    answer = []\n",
    "    for i, val in enumerate(s):\n",
    "        if val in hash_table:\n",
    "            answer.append(i - hash_table[val])\n",
    "            hash_table[val] = i\n",
    "        else:\n",
    "            answer.append(-1)\n",
    "            hash_table[val] = i\n",
    "    \n",
    "    return answer"
   ]
  },
  {
   "cell_type": "code",
   "execution_count": 2,
   "metadata": {},
   "outputs": [
    {
     "name": "stdout",
     "output_type": "stream",
     "text": [
      "[-1, -1, -1, 2, 2, 2]\n"
     ]
    }
   ],
   "source": [
    "print(solution(\"banana\"))"
   ]
  },
  {
   "cell_type": "markdown",
   "metadata": {},
   "source": [
    "#### 과일 장수"
   ]
  },
  {
   "cell_type": "code",
   "execution_count": 8,
   "metadata": {},
   "outputs": [],
   "source": [
    "# Greedy\n",
    "def solution(k, m, score):\n",
    "    score = sorted(score, reverse=True)\n",
    "    box = len(score) // m\n",
    "    answer = 0\n",
    "    for i in range(1, box + 1):\n",
    "        answer += score[i * m - 1]\n",
    "    \n",
    "    return answer * m"
   ]
  },
  {
   "cell_type": "markdown",
   "metadata": {},
   "source": [
    "#### 명예의 전당 (1)"
   ]
  },
  {
   "cell_type": "code",
   "execution_count": 17,
   "metadata": {},
   "outputs": [],
   "source": [
    "from heapq import heappush, heappop\n",
    "\n",
    "# Priority Queue\n",
    "def solution(k, score):\n",
    "    first_score = score[0]\n",
    "    answer = [first_score]\n",
    "    queue = [first_score]\n",
    "    \n",
    "    for val in score[1:]:\n",
    "        if len(queue) < k:\n",
    "            heappush(queue, val)\n",
    "        else:\n",
    "            min_val = heappop(queue)\n",
    "            if val > min_val:\n",
    "                heappush(queue, val)\n",
    "            else:\n",
    "                heappush(queue, min_val)\n",
    "                \n",
    "        last_val = heappop(queue)\n",
    "        answer.append(last_val)\n",
    "        heappush(queue, last_val)\n",
    "    \n",
    "    return answer"
   ]
  },
  {
   "cell_type": "code",
   "execution_count": 19,
   "metadata": {},
   "outputs": [
    {
     "name": "stdout",
     "output_type": "stream",
     "text": [
      "[10, 10, 10, 20, 20, 100, 100]\n",
      "[0, 0, 0, 0, 20, 40, 70, 70, 150, 300]\n"
     ]
    }
   ],
   "source": [
    "print(solution(3, [10, 100, 20, 150, 1, 100, 200]))\n",
    "print(solution(4, [0, 300, 40, 300, 20, 70, 150, 50, 500, 1000]))"
   ]
  },
  {
   "cell_type": "markdown",
   "metadata": {},
   "source": [
    "#### 추억 점수"
   ]
  },
  {
   "cell_type": "code",
   "execution_count": 20,
   "metadata": {},
   "outputs": [],
   "source": [
    "# hash\n",
    "def solution(name, yearning, photo):\n",
    "    hash_table = {name: score for name, score in zip(name, yearning)}\n",
    "    answer = []\n",
    "    for p in photo:\n",
    "        answer.append(sum(hash_table.get(n, 0) for n in p))\n",
    "    \n",
    "    return answer"
   ]
  },
  {
   "cell_type": "code",
   "execution_count": 21,
   "metadata": {},
   "outputs": [
    {
     "name": "stdout",
     "output_type": "stream",
     "text": [
      "[19, 15, 6]\n"
     ]
    }
   ],
   "source": [
    "name = [\"may\", \"kein\", \"kain\", \"radi\"]\n",
    "yearning = [5, 10, 1, 3]\n",
    "photo = [\n",
    "    [\"may\", \"kein\", \"kain\", \"radi\"],\n",
    "    [\"may\", \"kein\", \"brin\", \"deny\"], \n",
    "    [\"kon\", \"kain\", \"may\", \"coni\"]\n",
    "]\n",
    "print(solution(name, yearning, photo))"
   ]
  },
  {
   "cell_type": "markdown",
   "metadata": {},
   "source": [
    "#### 카드 뭉치\n"
   ]
  },
  {
   "cell_type": "code",
   "execution_count": null,
   "metadata": {},
   "outputs": [],
   "source": [
    "# Array\n",
    "def solution(cards1, cards2, goal):\n",
    "    for word in goal:\n",
    "        if len(cards1) > 0 and cards1[0] == word:\n",
    "            cards1.pop(0)\n",
    "        elif len(cards2) > 0 and cards2[0] == word:\n",
    "            cards2.pop(0)\n",
    "        else:\n",
    "            return \"No\"\n",
    "    return \"Yes\""
   ]
  },
  {
   "cell_type": "markdown",
   "metadata": {},
   "source": [
    "#### 덧칠하기"
   ]
  },
  {
   "cell_type": "code",
   "execution_count": 8,
   "metadata": {},
   "outputs": [],
   "source": [
    "from collections import deque\n",
    "\n",
    "# Array\n",
    "def solution(n, m, section):\n",
    "    queue = deque(section)\n",
    "    cnt = 0\n",
    "    while queue:\n",
    "        left = queue.popleft()\n",
    "        right = left + m\n",
    "        cnt += 1\n",
    "        while queue:\n",
    "            val = queue.popleft()\n",
    "            if val < right:\n",
    "                continue\n",
    "            else:\n",
    "                queue.appendleft(val)\n",
    "                break\n",
    "    \n",
    "    return cnt"
   ]
  },
  {
   "cell_type": "code",
   "execution_count": 9,
   "metadata": {},
   "outputs": [
    {
     "name": "stdout",
     "output_type": "stream",
     "text": [
      "3\n"
     ]
    }
   ],
   "source": [
    "print(solution(5, 1, [1, 3, 5]))"
   ]
  },
  {
   "cell_type": "markdown",
   "metadata": {},
   "source": [
    "#### 숫자 짝꿍"
   ]
  },
  {
   "cell_type": "code",
   "execution_count": 13,
   "metadata": {},
   "outputs": [],
   "source": [
    "# Data Structure\n",
    "from collections import Counter\n",
    "\n",
    "def solution(X, Y):\n",
    "    x_cnt = Counter(X)\n",
    "    y_cnt = Counter(Y)\n",
    "    common = set(x_cnt.keys()) & set(y_cnt.keys())\n",
    "    \n",
    "    if len(common) == 0:\n",
    "        return \"-1\"\n",
    "    nums = []\n",
    "    for num in common:\n",
    "        cnt = min(x_cnt[num], y_cnt[num])\n",
    "        nums.extend([num] * cnt)\n",
    "        \n",
    "    if set(nums) == set([\"0\"]):\n",
    "        nums = [\"0\"]\n",
    "    \n",
    "    return ''.join(sorted(nums, reverse=True))"
   ]
  },
  {
   "cell_type": "code",
   "execution_count": 14,
   "metadata": {
    "scrolled": true
   },
   "outputs": [
    {
     "name": "stdout",
     "output_type": "stream",
     "text": [
      "321\n"
     ]
    }
   ],
   "source": [
    "print(solution(\"12321\",\"42531\"))"
   ]
  },
  {
   "cell_type": "markdown",
   "metadata": {},
   "source": [
    "#### 옹알이 (2)"
   ]
  },
  {
   "cell_type": "code",
   "execution_count": 2,
   "metadata": {},
   "outputs": [],
   "source": [
    "def solution(babbling):\n",
    "    return sum(is_speakable(w) for w in babbling)\n",
    "\n",
    "def is_speakable(word):\n",
    "    words = {\"a\":\"aya\", \"y\": \"ye\", \"w\": \"woo\", \"m\": \"ma\"}\n",
    "    idx = 0\n",
    "    while idx < len(word):\n",
    "        if word[idx] in words:\n",
    "            comp_word = words[word[idx]]\n",
    "            if word[idx: idx + len(comp_word)] == comp_word:\n",
    "                idx += len(comp_word)\n",
    "            else:\n",
    "                return False\n",
    "        else:\n",
    "            return False\n",
    "    \n",
    "    return True"
   ]
  },
  {
   "cell_type": "code",
   "execution_count": 4,
   "metadata": {},
   "outputs": [
    {
     "name": "stdout",
     "output_type": "stream",
     "text": [
      "3\n"
     ]
    }
   ],
   "source": [
    "print(solution([\"ayaye\", \"uuu\", \"yeye\", \"yemawoo\", \"ayaayaa\"]))"
   ]
  },
  {
   "cell_type": "markdown",
   "metadata": {},
   "source": [
    "#### 문자열 나누기"
   ]
  },
  {
   "cell_type": "code",
   "execution_count": 17,
   "metadata": {},
   "outputs": [],
   "source": [
    "from collections import deque\n",
    "\n",
    "\n",
    "# queue\n",
    "def solution(s):\n",
    "    queue = deque(s)\n",
    "\n",
    "    answer = 0\n",
    "    target = None\n",
    "    target_cnt = 0\n",
    "    other_cnt = 0\n",
    "    while queue:\n",
    "        char = queue.popleft()\n",
    "        if target is None:\n",
    "            target = char\n",
    "            target_cnt = 1\n",
    "            other_cnt = 0\n",
    "        elif char == target:\n",
    "            target_cnt += 1\n",
    "        else:\n",
    "            other_cnt += 1\n",
    "            if other_cnt == target_cnt:\n",
    "                target = None\n",
    "                answer += 1\n",
    "    else:\n",
    "        if target is not None:\n",
    "            answer += 1\n",
    "\n",
    "    return answer"
   ]
  },
  {
   "cell_type": "code",
   "execution_count": 18,
   "metadata": {},
   "outputs": [
    {
     "name": "stdout",
     "output_type": "stream",
     "text": [
      "3\n",
      "6\n",
      "3\n"
     ]
    }
   ],
   "source": [
    "print(solution(\"banana\"))\n",
    "print(solution(\"abracadabra\"))\n",
    "print(solution(\"aaabbaccccabba\"))"
   ]
  },
  {
   "cell_type": "code",
   "execution_count": 25,
   "metadata": {},
   "outputs": [],
   "source": [
    "from string import ascii_lowercase\n",
    "\n",
    "# Array\n",
    "def solution(s, skip, index):\n",
    "    alpha = [char for char in ascii_lowercase if char not in skip]\n",
    "    length = len(alpha)\n",
    "    \n",
    "    answer = []\n",
    "    for char in s:\n",
    "        new_idx = (alpha.index(char) + index) % length\n",
    "        answer.append(alpha[new_idx])\n",
    "    \n",
    "    return ''.join(answer)"
   ]
  },
  {
   "cell_type": "code",
   "execution_count": 26,
   "metadata": {},
   "outputs": [
    {
     "name": "stdout",
     "output_type": "stream",
     "text": [
      "happy\n"
     ]
    }
   ],
   "source": [
    "print(solution(\"aukks\", \"wbqd\", 5))"
   ]
  },
  {
   "cell_type": "markdown",
   "metadata": {},
   "source": [
    "#### 성격 유형 검사하기"
   ]
  },
  {
   "cell_type": "code",
   "execution_count": 36,
   "metadata": {},
   "outputs": [],
   "source": [
    "def solution(survey, choices):\n",
    "    kinds = [['R', 'T'], ['C', 'F'], ['J', 'M'], ['A', 'N']]\n",
    "    score = {'A': 0, 'C': 0, 'F': 0, 'J': 0, 'M': 0, 'N': 0, 'R': 0, 'T': 0}\n",
    "    \n",
    "    for s, c in zip(survey, choices):\n",
    "        if c == 4:\n",
    "            continue\n",
    "        if c < 4:\n",
    "            kind = s[0]\n",
    "        elif c > 4:\n",
    "            kind = s[1]\n",
    "        score[kind] += abs(c - 4)\n",
    "    \n",
    "    answer = []\n",
    "    for a, b in kinds:\n",
    "        if score[a] >= score[b]:\n",
    "            answer.append(a)\n",
    "        else:\n",
    "            answer.append(b)\n",
    "    \n",
    "    return ''.join(answer)"
   ]
  },
  {
   "cell_type": "code",
   "execution_count": 37,
   "metadata": {},
   "outputs": [
    {
     "name": "stdout",
     "output_type": "stream",
     "text": [
      "TCMA\n",
      "RCJA\n",
      "RCJA\n"
     ]
    }
   ],
   "source": [
    "print(solution([\"AN\", \"CF\", \"MJ\", \"RT\", \"NA\"], [5, 3, 2, 7, 5]))\n",
    "print(solution([\"TR\", \"RT\", \"TR\"], [7, 1, 3]))\n",
    "print(solution([\"TR\", \"RT\", \"TR\"], [4, 4, 4]))"
   ]
  },
  {
   "cell_type": "markdown",
   "metadata": {},
   "source": [
    "#### 햄버거 만들기"
   ]
  },
  {
   "cell_type": "code",
   "execution_count": 2,
   "metadata": {},
   "outputs": [],
   "source": [
    "# stack\n",
    "def solution(ingredient):\n",
    "    cnt = 0\n",
    "    stack = []\n",
    "    for i in ingredient:\n",
    "        if len(stack) < 3or i != 1:\n",
    "            stack.append(i)\n",
    "        else:\n",
    "            if stack[-3:] == [1, 2, 3]:\n",
    "                cnt += 1\n",
    "                for _ in range(3):\n",
    "                    stack.pop()\n",
    "            else:\n",
    "                stack.append(i)\n",
    "    \n",
    "    return cnt"
   ]
  },
  {
   "cell_type": "code",
   "execution_count": 4,
   "metadata": {},
   "outputs": [
    {
     "name": "stdout",
     "output_type": "stream",
     "text": [
      "2\n",
      "0\n"
     ]
    }
   ],
   "source": [
    "print(solution([2, 1, 1, 2, 3, 1, 2, 3, 1]))\n",
    "print(solution([1, 3, 2, 1, 2, 1, 3, 1, 2]))"
   ]
  },
  {
   "cell_type": "markdown",
   "metadata": {},
   "source": [
    "#### 대충 만든 자판"
   ]
  },
  {
   "cell_type": "code",
   "execution_count": 18,
   "metadata": {},
   "outputs": [],
   "source": [
    "# greedy, hash\n",
    "def solution(keymap, targets):\n",
    "    answer = []\n",
    "    key_hash = make_key_hash(keymap)\n",
    "\n",
    "    for target in targets:\n",
    "        cnt = 0\n",
    "        for key in target:\n",
    "            if key in key_hash:\n",
    "                cnt += key_hash[key]\n",
    "            else:\n",
    "                cnt = -1\n",
    "                break\n",
    "        answer.append(cnt)\n",
    "\n",
    "    return answer\n",
    "\n",
    "\n",
    "def make_key_hash(keymap):\n",
    "    hash_map = {}\n",
    "    for km in keymap:\n",
    "        for i, key in enumerate(km):\n",
    "            if key not in hash_map:\n",
    "                hash_map[key] = i + 1\n",
    "            else:\n",
    "                if hash_map[key] > i + 1:\n",
    "                    hash_map[key] = i + 1\n",
    "\n",
    "    return hash_map"
   ]
  },
  {
   "cell_type": "code",
   "execution_count": 20,
   "metadata": {},
   "outputs": [
    {
     "name": "stdout",
     "output_type": "stream",
     "text": [
      "[9, 4]\n",
      "[-1]\n",
      "[4, 6]\n"
     ]
    }
   ],
   "source": [
    "print(solution([\"ABACD\", \"BCEFD\"], \t[\"ABCD\",\"AABB\"]))\n",
    "print(solution([\"AA\"], [\"B\"]))\n",
    "print(solution([\"AGZ\", \"BSSS\"], [\"ASA\",\"BGZ\"]))"
   ]
  },
  {
   "cell_type": "markdown",
   "metadata": {},
   "source": [
    "#### 달리기 경주"
   ]
  },
  {
   "cell_type": "code",
   "execution_count": 28,
   "metadata": {},
   "outputs": [],
   "source": [
    "def solution(players, callings):\n",
    "    player_order = {p: i for i, p in enumerate(players)}\n",
    "    order_player = {i: p for i, p in enumerate(players)}\n",
    "    \n",
    "    for call_player in callings:\n",
    "        call_order = player_order[call_player]\n",
    "        fw_player = order_player[call_order - 1]\n",
    "        \n",
    "        player_order[call_player], player_order[fw_player] = call_order - 1, call_order\n",
    "        order_player[call_order - 1], order_player[call_order] = call_player, fw_player\n",
    "    \n",
    "    final_order = sorted(order_player.items())\n",
    "    \n",
    "    return [p for _, p in final_order]"
   ]
  },
  {
   "cell_type": "code",
   "execution_count": 29,
   "metadata": {
    "scrolled": true
   },
   "outputs": [
    {
     "name": "stdout",
     "output_type": "stream",
     "text": [
      "['mumu', 'kai', 'mine', 'soe', 'poe']\n"
     ]
    }
   ],
   "source": [
    "print(solution(\n",
    "    [\"mumu\", \"soe\", \"poe\", \"kai\", \"mine\"], \n",
    "    [\"kai\", \"kai\", \"mine\", \"mine\"]))"
   ]
  },
  {
   "cell_type": "markdown",
   "metadata": {},
   "source": [
    "#### 공원 산책"
   ]
  },
  {
   "cell_type": "code",
   "execution_count": 1,
   "metadata": {},
   "outputs": [],
   "source": [
    "def solution(park, routes):\n",
    "    size = (len(park), len(park[0]))\n",
    "    moves = {'E': (0, 1), 'W': (0, -1), 'S': (1, 0), 'N': (-1, 0)}\n",
    "    loc = get_start_location(park)\n",
    "    \n",
    "    for route in routes:\n",
    "        loc = move(park, route, moves, size, loc)\n",
    "    \n",
    "    return loc\n",
    "\n",
    "def get_start_location(park: list) -> list:\n",
    "    for i, row in enumerate(park):\n",
    "        for j, v in enumerate(row):\n",
    "            if v == \"S\":\n",
    "                return [i, j]\n",
    "\n",
    "def move(park, route, moves, size, loc):\n",
    "    direction, distance = route.split(\" \")\n",
    "    move = [v * int(distance) for v in moves[direction]]\n",
    "    ni = loc[0] + move[0]\n",
    "    nj = loc[1] + move[1]\n",
    "    \n",
    "    new_loc = loc\n",
    "    if (0 <= ni < size[0]) and (0 <= nj < size[1]):\n",
    "        if check_obstacle(park, loc, (ni, nj)):\n",
    "            new_loc = [ni, nj]\n",
    "    \n",
    "    return new_loc\n",
    "    \n",
    "def check_obstacle(park, loc, move_range):\n",
    "    if loc[0] != move_range[0]:\n",
    "        for i in range(min(loc[0], move_range[0]), max(loc[0], move_range[0]) + 1):\n",
    "            if park[i][loc[1]] == \"X\":\n",
    "                return False\n",
    "    else:\n",
    "        for i in range(min(loc[1], move_range[1]), max(loc[1], move_range[1]) + 1):\n",
    "            if park[loc[0]][i] == \"X\":\n",
    "                return False\n",
    "    \n",
    "    return True"
   ]
  },
  {
   "cell_type": "code",
   "execution_count": null,
   "metadata": {},
   "outputs": [],
   "source": []
  }
 ],
 "metadata": {
  "kernelspec": {
   "display_name": "Python 3 (ipykernel)",
   "language": "python",
   "name": "python3"
  },
  "language_info": {
   "codemirror_mode": {
    "name": "ipython",
    "version": 3
   },
   "file_extension": ".py",
   "mimetype": "text/x-python",
   "name": "python",
   "nbconvert_exporter": "python",
   "pygments_lexer": "ipython3",
   "version": "3.8.10"
  }
 },
 "nbformat": 4,
 "nbformat_minor": 1
}
