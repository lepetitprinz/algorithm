{
 "cells": [
  {
   "cell_type": "markdown",
   "metadata": {
    "collapsed": true,
    "pycharm": {
     "name": "#%% md\n"
    }
   },
   "source": [
    "### 시저암호"
   ]
  },
  {
   "cell_type": "code",
   "execution_count": 1,
   "metadata": {
    "pycharm": {
     "name": "#%%\n"
    }
   },
   "outputs": [],
   "source": [
    "from string import ascii_lowercase, ascii_uppercase"
   ]
  },
  {
   "cell_type": "code",
   "execution_count": 8,
   "metadata": {
    "pycharm": {
     "name": "#%%\n"
    }
   },
   "outputs": [],
   "source": [
    "alphabet = ascii_lowercase\n",
    "alpha_idx = {alpha: i for i, alpha in enumerate(alphabet)}\n",
    "\n",
    "def string_converter(alpha, n):\n",
    "    result = None\n",
    "    if alpha == ' ':\n",
    "        result = ' '\n",
    "    else:\n",
    "        idx = (alpha_idx[alpha.lower()] + n) % 26\n",
    "        temp = alphabet[idx]\n",
    "\n",
    "        if alpha.islower():\n",
    "            result = temp\n",
    "        else:\n",
    "            result = temp.upper()\n",
    "\n",
    "    return result\n",
    "\n",
    "def solution(s, n):\n",
    "    results = []\n",
    "    for alpha in s:\n",
    "        results.append(string_converter(alpha=alpha, n=n))\n",
    "\n",
    "    answer = ''.join(results)\n",
    "\n",
    "    return answer"
   ]
  },
  {
   "cell_type": "code",
   "execution_count": 9,
   "metadata": {
    "pycharm": {
     "name": "#%%\n"
    }
   },
   "outputs": [
    {
     "data": {
      "text/plain": [
       "'e F d'"
      ]
     },
     "execution_count": 9,
     "metadata": {},
     "output_type": "execute_result"
    }
   ],
   "source": [
    "solution('a B z', 4)"
   ]
  },
  {
   "cell_type": "markdown",
   "metadata": {
    "pycharm": {
     "name": "#%% md\n"
    }
   },
   "source": [
    "### 다트 게임"
   ]
  },
  {
   "cell_type": "code",
   "execution_count": 49,
   "metadata": {
    "pycharm": {
     "name": "#%%\n"
    }
   },
   "outputs": [],
   "source": [
    "number = [str(i) for i in range(10)]\n",
    "bonus = ['S', 'D', 'T']\n",
    "option = ['*', '#']"
   ]
  },
  {
   "cell_type": "code",
   "execution_count": 109,
   "metadata": {
    "pycharm": {
     "name": "#%%\n"
    }
   },
   "outputs": [],
   "source": [
    "def solution(dartResult):\n",
    "    score_list = split_score(dartResult)\n",
    "    scores = [calc_score(score) for score in score_list]\n",
    "    options = get_option(score_list)\n",
    "\n",
    "    result = update_score(scores, options)\n",
    "\n",
    "    return result"
   ]
  },
  {
   "cell_type": "code",
   "execution_count": 110,
   "metadata": {
    "pycharm": {
     "name": "#%%\n"
    }
   },
   "outputs": [],
   "source": [
    "def split_score(result):\n",
    "    length = len(result)\n",
    "    scores = []\n",
    "    temp = ''\n",
    "    for i, value in enumerate(result):\n",
    "        if value in number:\n",
    "            temp += value\n",
    "        elif value in bonus:\n",
    "            if i != length-1:\n",
    "                if result[i+1] not in option:\n",
    "                    temp += value\n",
    "                    scores.append(temp)\n",
    "                    temp = ''\n",
    "                else:\n",
    "                    temp += value\n",
    "            else:\n",
    "                temp += value\n",
    "                scores.append(temp)\n",
    "        elif value in option:\n",
    "            temp += value\n",
    "            scores.append(temp)\n",
    "            temp = ''\n",
    "\n",
    "    return scores"
   ]
  },
  {
   "cell_type": "code",
   "execution_count": 111,
   "metadata": {
    "pycharm": {
     "name": "#%%\n"
    }
   },
   "outputs": [],
   "source": [
    "def calc_score(value):\n",
    "    score = ''\n",
    "    b = ''\n",
    "\n",
    "    for v in value:\n",
    "        if v in number:\n",
    "            score += v\n",
    "        elif v in bonus:\n",
    "            b += v\n",
    "\n",
    "    score = int(score)\n",
    "\n",
    "    if b == 'D':\n",
    "        score = score ** 2\n",
    "    elif b == 'T':\n",
    "        score = score ** 3\n",
    "\n",
    "    return score"
   ]
  },
  {
   "cell_type": "code",
   "execution_count": 112,
   "metadata": {
    "pycharm": {
     "name": "#%%\n"
    }
   },
   "outputs": [],
   "source": [
    "def get_option(scores):\n",
    "    options = []\n",
    "    for score in scores:\n",
    "        if '*' in score:\n",
    "            options.append('*')\n",
    "        elif '#' in score:\n",
    "            options.append('#')\n",
    "        else:\n",
    "            options.append('')\n",
    "\n",
    "    return options"
   ]
  },
  {
   "cell_type": "code",
   "execution_count": 113,
   "metadata": {
    "pycharm": {
     "name": "#%%\n"
    }
   },
   "outputs": [],
   "source": [
    "def update_score(scores, options):\n",
    "    result = []\n",
    "    for i, (score, option) in enumerate(zip(scores, options)):\n",
    "        if option == '#':\n",
    "            score = score * (-1)\n",
    "            result.append(score)\n",
    "        elif option == '*':\n",
    "            if i == 0:\n",
    "                score = score * 2\n",
    "                result.append(score)\n",
    "            else:\n",
    "                score = score * 2\n",
    "                result[-1] = result[-1] * 2\n",
    "                result.append(score)\n",
    "        else:\n",
    "            result.append(score)\n",
    "\n",
    "    return result"
   ]
  },
  {
   "cell_type": "code",
   "execution_count": 114,
   "metadata": {
    "pycharm": {
     "name": "#%%\n"
    }
   },
   "outputs": [],
   "source": [
    "data_list = ['1S2D*3T', '1D2S#10S', '1D2S0T', '1S*2T*3S', '1D#2S*3S', '1T2D3D#', '1D2S3T*']"
   ]
  },
  {
   "cell_type": "markdown",
   "metadata": {
    "pycharm": {
     "name": "#%%\n"
    }
   },
   "source": [
    "### 실패율"
   ]
  },
  {
   "cell_type": "code",
   "execution_count": 58,
   "metadata": {},
   "outputs": [],
   "source": [
    "N = 5\n",
    "stages = [2, 1, 2, 6, 2, 4, 3, 3]"
   ]
  },
  {
   "cell_type": "code",
   "execution_count": 59,
   "metadata": {},
   "outputs": [],
   "source": [
    "from collections import Counter"
   ]
  },
  {
   "cell_type": "code",
   "execution_count": 83,
   "metadata": {},
   "outputs": [],
   "source": [
    "def solution(n, stages):\n",
    "    count, cum_cnt = set_count_and_cum_count(n=n, stages=stages)\n",
    "    fail_rate = calc_fail_rate(n=n, count=count, cum_cnt=cum_cnt)\n",
    "    result = get_order(fail_rate=fail_rate)\n",
    "    \n",
    "    return result\n",
    "\n",
    "def set_count_and_cum_count(n, stages):\n",
    "    count_map = dict(Counter(stages))\n",
    "    cum_count_map = {}\n",
    "    for i in range(n+1, 0, -1):\n",
    "        cnt = count_map.get(i, 0)\n",
    "        if i == n+1:\n",
    "            cum_cnt = cnt\n",
    "        else:\n",
    "            cum_cnt = cum_count_map[i+1] + cnt\n",
    "        cum_count_map[i] = cum_cnt\n",
    "\n",
    "    return count_map, cum_count_map\n",
    "\n",
    "def calc_fail_rate(n, count, cum_cnt):\n",
    "    fail_rate = []\n",
    "    for i in range(1, n+1):\n",
    "        if cum_cnt[i] == 0:\n",
    "            rate = 0\n",
    "        else:\n",
    "            rate = count.get(i,0) / cum_cnt[i]\n",
    "        fail_rate.append((i, rate))\n",
    "    \n",
    "    return fail_rate\n",
    "\n",
    "def get_order(fail_rate):\n",
    "    fail_rate = sorted(fail_rate, key=lambda x: (-x[1], x[0]))\n",
    "    order = [num for num, rate in fail_rate]\n",
    "    \n",
    "    return order"
   ]
  },
  {
   "cell_type": "code",
   "execution_count": 84,
   "metadata": {},
   "outputs": [
    {
     "data": {
      "text/plain": [
       "[3, 4, 2, 1, 5]"
      ]
     },
     "execution_count": 84,
     "metadata": {},
     "output_type": "execute_result"
    }
   ],
   "source": [
    "solution(n=N, stages=stages)"
   ]
  },
  {
   "cell_type": "markdown",
   "metadata": {},
   "source": [
    "### 신고결과 받기"
   ]
  },
  {
   "cell_type": "code",
   "execution_count": 137,
   "metadata": {},
   "outputs": [],
   "source": [
    "def solution(id_list, report, k):\n",
    "    #\n",
    "    report = list(set(report))\n",
    "    \n",
    "    # Get report count & repoted to reporter list\n",
    "    report_cnt, reported_reporter = make_report(report)\n",
    "    \n",
    "    # make ban list\n",
    "    ban_list = get_ban_list(report_cnt=report_cnt, k=k)\n",
    "    \n",
    "    mail_cnt = make_reporter_mail(ban_list, reported_reporter)\n",
    "    \n",
    "    result = make_result(id_list, mail_cnt)\n",
    "    \n",
    "    return result\n",
    "\n",
    "def make_report(report_list):\n",
    "    report_cnt = {}\n",
    "    reported_reporter = {}\n",
    "    \n",
    "    for report in report_list:\n",
    "        report_from, report_to = report.split(' ')\n",
    "        # make report counts\n",
    "        if report_to in report_cnt:\n",
    "            report_cnt[report_to] += 1\n",
    "        else:\n",
    "            report_cnt[report_to] = 1\n",
    "        # make reported - reporter map\n",
    "        if report_to in reported_reporter:\n",
    "            if report_from not in reported_reporter[report_to]:\n",
    "                reported_reporter[report_to].append(report_from)\n",
    "        else:\n",
    "            reported_reporter[report_to] = [report_from]\n",
    "    \n",
    "    return report_cnt, reported_reporter\n",
    "\n",
    "def get_ban_list(report_cnt, k):\n",
    "    ban_list = []\n",
    "    for person, cnt in report_cnt.items():\n",
    "        if cnt >= k:\n",
    "            ban_list.append(person)\n",
    "    \n",
    "    return ban_list\n",
    "\n",
    "def make_reporter_mail(ban_list, reported_reporter):\n",
    "    results = []\n",
    "    for ban in ban_list:\n",
    "        results.extend(reported_reporter[ban])\n",
    "    \n",
    "    mail_cnt = Counter(results)\n",
    "    \n",
    "    return mail_cnt\n",
    "\n",
    "def make_result(id_list, mail_cnt):\n",
    "    result = []\n",
    "    for id in id_list:\n",
    "        cnt = mail_cnt.get(id, 0)\n",
    "        result.append(cnt)\n",
    "    \n",
    "    return result"
   ]
  },
  {
   "cell_type": "code",
   "execution_count": 138,
   "metadata": {},
   "outputs": [],
   "source": [
    "id_list = [\"muzi\", \"frodo\", \"apeach\", \"neo\"]\n",
    "report = [\"muzi frodo\",\"apeach frodo\",\"frodo neo\",\"muzi neo\",\"apeach muzi\"]\n",
    "k = 2"
   ]
  },
  {
   "cell_type": "code",
   "execution_count": 139,
   "metadata": {
    "scrolled": true
   },
   "outputs": [
    {
     "data": {
      "text/plain": [
       "[2, 1, 1, 0]"
      ]
     },
     "execution_count": 139,
     "metadata": {},
     "output_type": "execute_result"
    }
   ],
   "source": [
    "solution(id_list, report, k)"
   ]
  },
  {
   "cell_type": "markdown",
   "metadata": {},
   "source": [
    "#### 삼총사"
   ]
  },
  {
   "cell_type": "code",
   "execution_count": 2,
   "metadata": {},
   "outputs": [],
   "source": [
    "from itertools import combinations\n",
    "\n",
    "def solution(number):\n",
    "    answer = 0\n",
    "    for nums in combinations(number, 3):\n",
    "        if sum(nums) == 0:\n",
    "            answer += 1\n",
    "    \n",
    "    return answer"
   ]
  },
  {
   "cell_type": "code",
   "execution_count": 4,
   "metadata": {},
   "outputs": [
    {
     "name": "stdout",
     "output_type": "stream",
     "text": [
      "2\n",
      "5\n"
     ]
    }
   ],
   "source": [
    "print(solution([-2, 3, 0, 2, -5]))\n",
    "print(solution([-3, -2, -1, 0, 1, 2, 3]))"
   ]
  },
  {
   "cell_type": "markdown",
   "metadata": {},
   "source": [
    "#### 크기가 작은 부분문자열"
   ]
  },
  {
   "cell_type": "code",
   "execution_count": 7,
   "metadata": {},
   "outputs": [],
   "source": [
    "def solution(t, p):\n",
    "    length = len(p)\n",
    "    p = int(p)\n",
    "    t = list(t)\n",
    "    num = t[:length]\n",
    "    \n",
    "    answer = 0\n",
    "    for add_num in t[length:]:\n",
    "        if int(''.join(num)) <= p:\n",
    "            answer += 1\n",
    "        num.pop(0)\n",
    "        num.append(add_num)\n",
    "    else:\n",
    "        if int(''.join(num)) <= p:\n",
    "            answer += 1\n",
    "        \n",
    "    return answer"
   ]
  },
  {
   "cell_type": "code",
   "execution_count": 10,
   "metadata": {},
   "outputs": [
    {
     "name": "stdout",
     "output_type": "stream",
     "text": [
      "2\n",
      "8\n",
      "3\n"
     ]
    }
   ],
   "source": [
    "print(solution(\"3141592\", \"271\"))\n",
    "print(solution(\"500220839878\", \"7\"))\n",
    "print(solution(\"10203\", \"15\"))"
   ]
  },
  {
   "cell_type": "code",
   "execution_count": null,
   "metadata": {},
   "outputs": [],
   "source": []
  }
 ],
 "metadata": {
  "kernelspec": {
   "display_name": "Python 3 (ipykernel)",
   "language": "python",
   "name": "python3"
  },
  "language_info": {
   "codemirror_mode": {
    "name": "ipython",
    "version": 3
   },
   "file_extension": ".py",
   "mimetype": "text/x-python",
   "name": "python",
   "nbconvert_exporter": "python",
   "pygments_lexer": "ipython3",
   "version": "3.8.16"
  }
 },
 "nbformat": 4,
 "nbformat_minor": 1
}
