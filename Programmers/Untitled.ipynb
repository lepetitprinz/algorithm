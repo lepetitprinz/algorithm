{
 "cells": [
  {
   "cell_type": "markdown",
   "id": "7e4772bb",
   "metadata": {},
   "source": [
    "#### "
   ]
  },
  {
   "cell_type": "code",
   "execution_count": 4,
   "id": "212b3a20",
   "metadata": {},
   "outputs": [],
   "source": [
    "def solution(n, k, a, b, A):\n",
    "    A_set = set(A)\n",
    "    \n",
    "    answer = set()\n",
    "    for val in A_set:\n",
    "        candidate = get_overlap_window(val, k, a, b)\n",
    "        answer = answer.union(candidate)\n",
    "        \n",
    "    return len(answer)\n",
    "    \n",
    "def get_overlap_window(val, k, a, b):\n",
    "    min_val = val - k\n",
    "    max_val = val + k\n",
    "    \n",
    "    if min_val < a:\n",
    "        if max_val < a:\n",
    "            return set()\n",
    "        else:\n",
    "            return set(range(a, max_val+1))\n",
    "    else:\n",
    "        if max_val < b:\n",
    "            return set(range(min_val, max_val + 1))\n",
    "        else:\n",
    "            return set(range(min_val, b + 1))"
   ]
  },
  {
   "cell_type": "code",
   "execution_count": 6,
   "id": "035e9437",
   "metadata": {},
   "outputs": [
    {
     "name": "stdout",
     "output_type": "stream",
     "text": [
      "3\n",
      "12\n",
      "11\n"
     ]
    }
   ],
   "source": [
    "print(solution(4, 1, 1, 4, [1,2,1,2]))\n",
    "print(solution(4, 1, -2, 25, [1,5,9,18]))\n",
    "print(solution(4, 5, 0, 10, [0, 3, 7, 10]))"
   ]
  },
  {
   "cell_type": "code",
   "execution_count": null,
   "id": "6329b843",
   "metadata": {},
   "outputs": [],
   "source": []
  }
 ],
 "metadata": {
  "kernelspec": {
   "display_name": "Python 3 (ipykernel)",
   "language": "python",
   "name": "python3"
  },
  "language_info": {
   "codemirror_mode": {
    "name": "ipython",
    "version": 3
   },
   "file_extension": ".py",
   "mimetype": "text/x-python",
   "name": "python",
   "nbconvert_exporter": "python",
   "pygments_lexer": "ipython3",
   "version": "3.8.16"
  }
 },
 "nbformat": 4,
 "nbformat_minor": 5
}
