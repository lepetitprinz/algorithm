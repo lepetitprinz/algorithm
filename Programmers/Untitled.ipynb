{
 "cells": [
  {
   "cell_type": "code",
   "execution_count": 25,
   "id": "0a952551",
   "metadata": {},
   "outputs": [],
   "source": [
    "from math import ceil\n",
    "from itertools import combinations"
   ]
  },
  {
   "cell_type": "code",
   "execution_count": 20,
   "id": "01e4313f",
   "metadata": {},
   "outputs": [],
   "source": [
    "def solution(fuel, powers, distance):\n",
    "    for \n",
    "    \n",
    "    time_list = []\n",
    "    for \n",
    "    "
   ]
  },
  {
   "cell_type": "code",
   "execution_count": 18,
   "id": "1aead509",
   "metadata": {},
   "outputs": [],
   "source": [
    "def calc_time(fuel, power, distance):\n",
    "    time = (distance / (power * fuel))- 0.5 * fuel\n",
    "    \n",
    "    return ceil(time + fuel)"
   ]
  },
  {
   "cell_type": "code",
   "execution_count": 19,
   "id": "5d0a05f4",
   "metadata": {},
   "outputs": [
    {
     "data": {
      "text/plain": [
       "12"
      ]
     },
     "execution_count": 19,
     "metadata": {},
     "output_type": "execute_result"
    }
   ],
   "source": [
    "calc_time(4, 20, 750)"
   ]
  },
  {
   "cell_type": "code",
   "execution_count": null,
   "id": "4875086b",
   "metadata": {},
   "outputs": [],
   "source": []
  }
 ],
 "metadata": {
  "kernelspec": {
   "display_name": "Python 3 (ipykernel)",
   "language": "python",
   "name": "python3"
  },
  "language_info": {
   "codemirror_mode": {
    "name": "ipython",
    "version": 3
   },
   "file_extension": ".py",
   "mimetype": "text/x-python",
   "name": "python",
   "nbconvert_exporter": "python",
   "pygments_lexer": "ipython3",
   "version": "3.8.10"
  }
 },
 "nbformat": 4,
 "nbformat_minor": 5
}
