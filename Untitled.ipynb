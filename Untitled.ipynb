{
 "cells": [
  {
   "cell_type": "code",
   "execution_count": null,
   "id": "519cb7d9",
   "metadata": {},
   "outputs": [],
   "source": [
    "t = int(input())\n",
    "for _ in range(t):\n",
    "    score = {'y': 0, 'k':0}\n",
    "    for _ in range(9):\n",
    "        y, k = map(int, input().split())\n",
    "            score['y'] += y\n",
    "            score['k'] += k\n",
    "        \n",
    "    if score['y'] > score['k']:\n",
    "        print('Yonsei')\n",
    "    elif score['y'] < score['k']:\n",
    "        print('Korea')\n",
    "    else:\n",
    "        print('Draw')"
   ]
  },
  {
   "cell_type": "code",
   "execution_count": null,
   "id": "dfa07583",
   "metadata": {},
   "outputs": [],
   "source": [
    "from math import ceil\n",
    "from collections import deque\n",
    "\n",
    "n = int(input())\n",
    "total = 0\n",
    "queue = deque([n])\n",
    "while queue:\n",
    "    if set(queue) == set([1]):\n",
    "        break\n",
    "    value = queue.popleft()\n",
    "    mid = int(ceil(value/2))\n",
    "    other = value - mid\n",
    "    total += mid * other\n",
    "    queue.append(mid)\n",
    "    queue.append(other)\n",
    "    \n",
    "print(total)"
   ]
  },
  {
   "cell_type": "code",
   "execution_count": 1,
   "id": "369c54a6",
   "metadata": {},
   "outputs": [],
   "source": [
    "def is_prime_num(n):\n",
    "    arr = [True] * (n + 1) \n",
    "    arr[0] = False\n",
    "    arr[1] = False\n",
    "\n",
    "    for i in range(2, n + 1):\n",
    "        if arr[i] == True:\n",
    "            j = 2\n",
    "\n",
    "            while (i * j) <= n:\n",
    "                arr[i*j] = False\n",
    "                j += 1\n",
    "\n",
    "    return arr"
   ]
  },
  {
   "cell_type": "code",
   "execution_count": 2,
   "id": "0dbcdf5b",
   "metadata": {},
   "outputs": [
    {
     "name": "stdout",
     "output_type": "stream",
     "text": [
      "[False, False, True, True, False, True, False, True, False, False, False]\n"
     ]
    }
   ],
   "source": [
    "result = is_prime_num(10)\n",
    "print(result)"
   ]
  },
  {
   "cell_type": "code",
   "execution_count": null,
   "id": "93ac89e7",
   "metadata": {},
   "outputs": [],
   "source": []
  }
 ],
 "metadata": {
  "kernelspec": {
   "display_name": "Python 3 (ipykernel)",
   "language": "python",
   "name": "python3"
  },
  "language_info": {
   "codemirror_mode": {
    "name": "ipython",
    "version": 3
   },
   "file_extension": ".py",
   "mimetype": "text/x-python",
   "name": "python",
   "nbconvert_exporter": "python",
   "pygments_lexer": "ipython3",
   "version": "3.8.10"
  }
 },
 "nbformat": 4,
 "nbformat_minor": 5
}
