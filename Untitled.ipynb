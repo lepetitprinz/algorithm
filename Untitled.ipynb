{
 "cells": [
  {
   "cell_type": "markdown",
   "id": "7173c11a",
   "metadata": {},
   "source": [
    "#### 16174"
   ]
  },
  {
   "cell_type": "code",
   "execution_count": null,
   "id": "34fddcab",
   "metadata": {},
   "outputs": [],
   "source": [
    "from collections import deque\n",
    "\n",
    "def bfs(graph, start, visited):\n",
    "    r, c = start\n",
    "    visited[r][c] = True\n",
    "    queue = deque([[r, c]])\n",
    "\n",
    "    while queue\n",
    "    \n",
    "moves = [(1, 0), (0, 1)]"
   ]
  },
  {
   "cell_type": "markdown",
   "id": "5b1a2249",
   "metadata": {},
   "source": [
    "#### groom week 7 "
   ]
  },
  {
   "cell_type": "code",
   "execution_count": null,
   "id": "e41f2778",
   "metadata": {},
   "outputs": [],
   "source": [
    "from heapq import heappush, heappop\n",
    "\n",
    "def dijkstra(graph, start, distance):\n",
    "    queue = []\n",
    "    heappush(queue, (0, start))\n",
    "    distance[start] = 0\n",
    "    \n",
    "    while queue:\n",
    "        dist, curr = heappop(queue)\n",
    "        if distance[curr] < dist:\n",
    "            continue\n",
    "        for node, d in graph[curr]:\n",
    "            cost = dist + d\n",
    "            if cost < distance[node]:\n",
    "                distance[node] = cost\n",
    "                heappush(queue, (cost, node))\n",
    "        \n",
    "    return distance\n",
    "    \n",
    "INF = int(1e9)\n",
    "n, m, start = map(int, input().split())\n",
    "graph = [[] for _ in range(n)]\n",
    "distance = [INF for _ in range(n)]\n",
    "\n",
    "for _ in range(m):\n",
    "    u, v = map(int, input().split())\n",
    "    graph[u - 1].append((v - 1, 1))\n",
    "\n",
    "result = dijkstra(graph, start - 1, distance)\n",
    "print(\"\")"
   ]
  },
  {
   "cell_type": "code",
   "execution_count": 8,
   "id": "6398c755",
   "metadata": {},
   "outputs": [],
   "source": [
    "def print_col(*cols):\n",
    "    print(type(cols))\n",
    "    print(cols)\n",
    "    for col in cols:\n",
    "        print(col)"
   ]
  },
  {
   "cell_type": "code",
   "execution_count": 9,
   "id": "d4225277",
   "metadata": {},
   "outputs": [
    {
     "name": "stdout",
     "output_type": "stream",
     "text": [
      "<class 'tuple'>\n",
      "(['a', 'b', 'c'],)\n",
      "['a', 'b', 'c']\n"
     ]
    }
   ],
   "source": [
    "print_col([\"a\", \"b\", \"c\"])"
   ]
  },
  {
   "cell_type": "code",
   "execution_count": 10,
   "id": "51051e99",
   "metadata": {},
   "outputs": [
    {
     "name": "stdout",
     "output_type": "stream",
     "text": [
      "<class 'tuple'>\n",
      "('a',)\n",
      "a\n"
     ]
    }
   ],
   "source": [
    "print_col(\"a\")"
   ]
  },
  {
   "cell_type": "code",
   "execution_count": null,
   "id": "8748ed98",
   "metadata": {},
   "outputs": [],
   "source": []
  }
 ],
 "metadata": {
  "kernelspec": {
   "display_name": "Python 3 (ipykernel)",
   "language": "python",
   "name": "python3"
  },
  "language_info": {
   "codemirror_mode": {
    "name": "ipython",
    "version": 3
   },
   "file_extension": ".py",
   "mimetype": "text/x-python",
   "name": "python",
   "nbconvert_exporter": "python",
   "pygments_lexer": "ipython3",
   "version": "3.8.16"
  }
 },
 "nbformat": 4,
 "nbformat_minor": 5
}
