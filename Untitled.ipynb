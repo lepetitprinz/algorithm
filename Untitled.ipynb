{
 "cells": [
  {
   "cell_type": "code",
   "execution_count": 19,
   "id": "84b2c761",
   "metadata": {},
   "outputs": [],
   "source": [
    "from collections import Counter"
   ]
  },
  {
   "cell_type": "code",
   "execution_count": 52,
   "id": "57ebb576",
   "metadata": {},
   "outputs": [],
   "source": [
    "from collections import Counter\n",
    "\n",
    "match = {'(': ')', '[': ']', '{': '}'}\n",
    "\n",
    "def solution(s):\n",
    "    parenthesis = check(s)\n",
    "    \n",
    "    count = 0\n",
    "    for i in range(len(s) + 1):\n",
    "        new_s = s[:i] + parenthesis + s[i:]\n",
    "        if stack(new_s):\n",
    "            count += 1\n",
    "    \n",
    "    return count\n",
    "\n",
    "def check(s):\n",
    "    count = Counter(list(s))\n",
    "    result = ''\n",
    "    for kind in ['(', '[', '{']:\n",
    "        cnt_k = count[kind]\n",
    "        cnt_k_rev = count[match[kind]]\n",
    "        \n",
    "        if cnt_k - cnt_k_rev != 0:\n",
    "            if cnt_k > cnt_k_rev:\n",
    "                result = match[kind]\n",
    "            else:\n",
    "                result = kind\n",
    "            break\n",
    "    \n",
    "    return result\n",
    "\n",
    "def stack(s):\n",
    "    stack = [s[0]]\n",
    "    for p in s[1:]:\n",
    "        if stack:\n",
    "            if match.get(stack[-1], False) == p:\n",
    "                stack.pop()\n",
    "            else:\n",
    "                stack.append(p)\n",
    "        else:\n",
    "            stack.append(p)\n",
    "            \n",
    "    flag = True\n",
    "    if stack:\n",
    "        flag = False\n",
    "        \n",
    "    return flag"
   ]
  },
  {
   "cell_type": "code",
   "execution_count": 58,
   "id": "c3827bef",
   "metadata": {},
   "outputs": [],
   "source": [
    "test1 = \"[]([[]){}\"\n",
    "test2 = \"{([()]))}\"\n",
    "test3 = \"(()()()\"\n",
    "test4 = \"())\""
   ]
  },
  {
   "cell_type": "code",
   "execution_count": 59,
   "id": "7057097e",
   "metadata": {},
   "outputs": [
    {
     "data": {
      "text/plain": [
       "3"
      ]
     },
     "execution_count": 59,
     "metadata": {},
     "output_type": "execute_result"
    }
   ],
   "source": [
    "solution(test4)"
   ]
  },
  {
   "cell_type": "code",
   "execution_count": null,
   "id": "08c00f07",
   "metadata": {},
   "outputs": [],
   "source": []
  }
 ],
 "metadata": {
  "kernelspec": {
   "display_name": "Python 3 (ipykernel)",
   "language": "python",
   "name": "python3"
  },
  "language_info": {
   "codemirror_mode": {
    "name": "ipython",
    "version": 3
   },
   "file_extension": ".py",
   "mimetype": "text/x-python",
   "name": "python",
   "nbconvert_exporter": "python",
   "pygments_lexer": "ipython3",
   "version": "3.8.10"
  }
 },
 "nbformat": 4,
 "nbformat_minor": 5
}
