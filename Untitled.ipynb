{
 "cells": [
  {
   "cell_type": "markdown",
   "id": "7173c11a",
   "metadata": {},
   "source": [
    "#### 16174"
   ]
  },
  {
   "cell_type": "code",
   "execution_count": null,
   "id": "34fddcab",
   "metadata": {},
   "outputs": [],
   "source": [
    "from collections import deque\n",
    "\n",
    "def bfs(graph, start, visited):\n",
    "    r, c = start\n",
    "    visited[r][c] = True\n",
    "    queue = deque([[r, c]])\n",
    "\n",
    "    while queue\n",
    "    \n",
    "moves = [(1, 0), (0, 1)]"
   ]
  },
  {
   "cell_type": "markdown",
   "id": "5b1a2249",
   "metadata": {},
   "source": [
    "#### groom week 7 "
   ]
  },
  {
   "cell_type": "code",
   "execution_count": null,
   "id": "e41f2778",
   "metadata": {},
   "outputs": [],
   "source": [
    "from heapq import heappush, heappop\n",
    "\n",
    "def dijkstra(graph, start, distance):\n",
    "    queue = []\n",
    "    heappush(queue, (0, start))\n",
    "    distance[start] = 0\n",
    "    \n",
    "    while queue:\n",
    "        dist, curr = heappop(queue)\n",
    "        if distance[curr] < dist:\n",
    "            continue\n",
    "        for node, d in graph[curr]:\n",
    "            cost = dist + d\n",
    "            if cost < distance[node]:\n",
    "                distance[node] = cost\n",
    "                heappush(queue, (cost, node))\n",
    "        \n",
    "    return distance\n",
    "    \n",
    "INF = int(1e9)\n",
    "n, m, start = map(int, input().split())\n",
    "graph = [[] for _ in range(n)]\n",
    "distance = [INF for _ in range(n)]\n",
    "\n",
    "for _ in range(m):\n",
    "    u, v = map(int, input().split())\n",
    "    graph[u - 1].append((v - 1, 1))\n",
    "\n",
    "result = dijkstra(graph, start - 1, distance)\n",
    "print(\"\")"
   ]
  },
  {
   "cell_type": "code",
   "execution_count": 8,
   "id": "6398c755",
   "metadata": {},
   "outputs": [],
   "source": [
    "def print_col(*cols):\n",
    "    print(type(cols))\n",
    "    print(cols)\n",
    "    for col in cols:\n",
    "        print(col)"
   ]
  },
  {
   "cell_type": "code",
   "execution_count": 3,
   "id": "8748ed98",
   "metadata": {},
   "outputs": [],
   "source": [
    "from typing import List, Dict, Optional\n",
    "\n",
    "class TreeNode:\n",
    "    def __init__(self, val=0, left=None, right=None):\n",
    "        self.val = val\n",
    "        self.left = left\n",
    "        self.right = right\n",
    "        \n",
    "class Solution:\n",
    "    def levelOrder(self, root: Optional[TreeNode]) -> List[List[int]]:\n",
    "        if root is None:\n",
    "            return []\n",
    "        else:\n",
    "            nodes = self.recur(root, 1, {})\n",
    "            rst = list(nodes.values())\n",
    "            return rst\n",
    "        \n",
    "    def recur(self, node: TreeNode, depth: int, nodes: Dict[int, TreeNode]):\n",
    "        if nodes.get(depth, 0):\n",
    "            nodes[depth].append(node.val)\n",
    "        else:\n",
    "            nodes[depth] = [node.val]\n",
    "\n",
    "        for direction in (node.left, node.right):\n",
    "            if isinstance(direction, TreeNode):\n",
    "                nodes = self.recur(direction, depth + 1, nodes)\n",
    "            else:\n",
    "                for n in direction:\n",
    "                    nodes = self.recur(n, depth + 1, nodes)\n",
    "                    \n",
    "        return nodes"
   ]
  },
  {
   "cell_type": "code",
   "execution_count": 6,
   "id": "bc949751",
   "metadata": {},
   "outputs": [],
   "source": [
    "def solve(num: str):\n",
    "    prev = num\n",
    "    result = \"NFA\"\n",
    "    while len(num) > 1:\n",
    "        num = str(fa(num))\n",
    "        if num == prev:\n",
    "            result = \"FA\"\n",
    "            break\n",
    "        prev = num\n",
    "    else:\n",
    "        if num == prev:\n",
    "            result = \"FA\"\n",
    "    \n",
    "    return result\n",
    "    \n",
    "def fa(num):\n",
    "    return int(num[0]) * len(num)"
   ]
  },
  {
   "cell_type": "code",
   "execution_count": 7,
   "id": "1dad4ccd",
   "metadata": {},
   "outputs": [
    {
     "name": "stdout",
     "output_type": "stream",
     "text": [
      "FA\n"
     ]
    }
   ],
   "source": [
    "result = solve(\"932\")\n",
    "print(result)"
   ]
  },
  {
   "cell_type": "code",
   "execution_count": null,
   "id": "21852aab",
   "metadata": {},
   "outputs": [],
   "source": []
  }
 ],
 "metadata": {
  "kernelspec": {
   "display_name": "Python 3 (ipykernel)",
   "language": "python",
   "name": "python3"
  },
  "language_info": {
   "codemirror_mode": {
    "name": "ipython",
    "version": 3
   },
   "file_extension": ".py",
   "mimetype": "text/x-python",
   "name": "python",
   "nbconvert_exporter": "python",
   "pygments_lexer": "ipython3",
   "version": "3.8.16"
  }
 },
 "nbformat": 4,
 "nbformat_minor": 5
}
