{
 "cells": [
  {
   "cell_type": "markdown",
   "id": "b4dc5d40",
   "metadata": {},
   "source": [
    "### 15657. N과 M (8)"
   ]
  },
  {
   "cell_type": "code",
   "execution_count": null,
   "id": "d27c26ef",
   "metadata": {},
   "outputs": [],
   "source": [
    "n, m = map(int, input().split())\n",
    "nums = sorted(list(map(int, input().split())))\n",
    "\n",
    "depth = 0\n",
    "\n",
    "def backtrack(seq, )"
   ]
  }
 ],
 "metadata": {
  "kernelspec": {
   "display_name": "Python 3 (ipykernel)",
   "language": "python",
   "name": "python3"
  },
  "language_info": {
   "codemirror_mode": {
    "name": "ipython",
    "version": 3
   },
   "file_extension": ".py",
   "mimetype": "text/x-python",
   "name": "python",
   "nbconvert_exporter": "python",
   "pygments_lexer": "ipython3",
   "version": "3.8.10"
  }
 },
 "nbformat": 4,
 "nbformat_minor": 5
}
