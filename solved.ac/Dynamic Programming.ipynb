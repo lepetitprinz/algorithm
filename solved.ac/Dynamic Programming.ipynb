{
 "cells": [
  {
   "cell_type": "markdown",
   "id": "57772f00",
   "metadata": {},
   "source": [
    "#### 9625. BABBA"
   ]
  },
  {
   "cell_type": "code",
   "execution_count": 9,
   "id": "c5012e1a",
   "metadata": {},
   "outputs": [
    {
     "name": "stdout",
     "output_type": "stream",
     "text": [
      "10\n",
      "34 55\n"
     ]
    }
   ],
   "source": [
    "def solution(n):\n",
    "    d = [0, 1] + [0] * (n-1)\n",
    "    if n > 1:\n",
    "        for i in range(2, n+1):\n",
    "            d[i] = d[i-1] + d[i-2]\n",
    "            \n",
    "    return d[n-1], d[n]\n",
    "\n",
    "n = int(input())\n",
    "a, b = solution(n)\n",
    "print(f'{a} {b}')"
   ]
  },
  {
   "cell_type": "code",
   "execution_count": null,
   "id": "2ff6f7bb",
   "metadata": {},
   "outputs": [],
   "source": []
  }
 ],
 "metadata": {
  "kernelspec": {
   "display_name": "Python 3 (ipykernel)",
   "language": "python",
   "name": "python3"
  },
  "language_info": {
   "codemirror_mode": {
    "name": "ipython",
    "version": 3
   },
   "file_extension": ".py",
   "mimetype": "text/x-python",
   "name": "python",
   "nbconvert_exporter": "python",
   "pygments_lexer": "ipython3",
   "version": "3.8.10"
  }
 },
 "nbformat": 4,
 "nbformat_minor": 5
}
