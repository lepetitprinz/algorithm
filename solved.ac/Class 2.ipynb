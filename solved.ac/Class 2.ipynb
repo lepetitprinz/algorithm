{
 "cells": [
  {
   "cell_type": "markdown",
   "id": "12ce9a34",
   "metadata": {},
   "source": [
    "### 이항 계수 1 (11050)"
   ]
  },
  {
   "cell_type": "code",
   "execution_count": null,
   "id": "3708a37a",
   "metadata": {},
   "outputs": [],
   "source": [
    "def combination(n, k):\n",
    "    numerator = 1\n",
    "    for i in range(n, n-k, -1):\n",
    "        numerator *= i\n",
    "    \n",
    "    denominator = 1\n",
    "    for i in range(1, k+1):\n",
    "        denominator *= i\n",
    "    \n",
    "    return numerator // denominator\n",
    "\n",
    "n, k = map(int, input().split())"
   ]
  },
  {
   "cell_type": "code",
   "execution_count": null,
   "id": "5a44df1f",
   "metadata": {},
   "outputs": [],
   "source": [
    "combination(6, 3)"
   ]
  },
  {
   "cell_type": "markdown",
   "id": "8f3953b1",
   "metadata": {},
   "source": [
    "### 요세푸스 문제 0"
   ]
  },
  {
   "cell_type": "code",
   "execution_count": null,
   "id": "cd452958",
   "metadata": {
    "scrolled": false
   },
   "outputs": [],
   "source": [
    "from collections import deque\n",
    "\n",
    "n, k = map(int, input().split())\n",
    "\n",
    "queue = deque(list(range(1, n+1)))\n",
    "i = 1\n",
    "result = ''\n",
    "while queue:\n",
    "    val = queue.popleft()\n",
    "    if i % k == 0:\n",
    "        if len(queue) > 0:\n",
    "            result += str(val) + ', '\n",
    "        else:\n",
    "            result += str(val)\n",
    "    else:\n",
    "        queue.append(val)\n",
    "    i += 1\n",
    "\n",
    "print('<'+ result +'>')"
   ]
  },
  {
   "cell_type": "markdown",
   "id": "1418bcc0",
   "metadata": {},
   "source": [
    "### 부녀회장이 될테야"
   ]
  },
  {
   "cell_type": "code",
   "execution_count": null,
   "id": "2adc143c",
   "metadata": {},
   "outputs": [],
   "source": [
    "l = int(input())\n",
    "\n",
    "problems = []\n",
    "for _ in range(l):\n",
    "    problems.append((int(input()), int(input())))\n",
    "\n",
    "for k, n in problems:\n",
    "    floor = []\n",
    "    for i in range(k+1):\n",
    "        if i == 0:\n",
    "            floor.append(list(range(1, n+1)))\n",
    "        else:\n",
    "            floor.append([sum(floor[i-1][:j]) for j in range(1, n+1)])\n",
    "\n",
    "    print(floor[k][n-1])"
   ]
  },
  {
   "cell_type": "markdown",
   "id": "9b8fc9d5",
   "metadata": {},
   "source": [
    "### 균형잡힌 세상"
   ]
  },
  {
   "cell_type": "code",
   "execution_count": null,
   "id": "a16f0d83",
   "metadata": {},
   "outputs": [],
   "source": [
    "def check(text):\n",
    "    p1 = 0\n",
    "    p2 = 0\n",
    "    recent = []\n",
    "    for i, string in enumerate(list(text)):\n",
    "        if string == '(':\n",
    "            p1 += 1\n",
    "            recent.append('1')\n",
    "        elif string == ')':\n",
    "            if recent:\n",
    "                if recent[-1] == '2':\n",
    "                    return False\n",
    "                recent.pop()\n",
    "            p1 -= 1\n",
    "        elif string == '[':\n",
    "            p2 += 1\n",
    "            recent.append('2')\n",
    "        elif string == ']':\n",
    "            if recent:\n",
    "                if recent[-1] == '1':\n",
    "                    return False\n",
    "                recent.pop()\n",
    "            p2 -= 1\n",
    "        \n",
    "        if (p1 < 0) or (p2 < 0):\n",
    "            return False\n",
    "    \n",
    "    return (p1 == 0) & (p2 == 0)\n",
    "\n",
    "while True:\n",
    "    text = input()\n",
    "    if text == '.':\n",
    "        break\n",
    "    else:\n",
    "        if check(text):\n",
    "            print('yes')\n",
    "        else:\n",
    "            print('no')"
   ]
  },
  {
   "cell_type": "markdown",
   "id": "1df4a54d",
   "metadata": {},
   "source": [
    "### 수 정렬하기 3"
   ]
  },
  {
   "cell_type": "code",
   "execution_count": null,
   "id": "f212b959",
   "metadata": {},
   "outputs": [],
   "source": [
    "import sys\n",
    "cnt_list = [0] * 10000\n",
    "\n",
    "n = int(input())\n",
    "for _ in range(n):\n",
    "    cnt_list[int(sys.stdin.readline())-1] += 1\n",
    "\n",
    "for i, cnt in enumerate(cnt_list):\n",
    "    for _ in range(cnt):\n",
    "        print(i+1)"
   ]
  },
  {
   "cell_type": "markdown",
   "id": "af849eef",
   "metadata": {},
   "source": [
    "### 소수 구하기"
   ]
  },
  {
   "cell_type": "code",
   "execution_count": null,
   "id": "41bdda97",
   "metadata": {},
   "outputs": [],
   "source": [
    "import math\n",
    "\n",
    "def is_prime(x):\n",
    "    if (x == 0) or (x == 1):\n",
    "        return False\n",
    "    \n",
    "    for i in range(2, int(math.sqrt(x)) + 1):\n",
    "        if x % i == 0:\n",
    "            return False\n",
    "    return True\n",
    "\n",
    "n, m = map(int, input().split())\n",
    "for i in range(n, m+1):\n",
    "    if is_prime(i):\n",
    "        print(i)"
   ]
  },
  {
   "cell_type": "markdown",
   "id": "f085849d",
   "metadata": {},
   "source": [
    "### 달팽이는 올라가고 싶다"
   ]
  },
  {
   "cell_type": "code",
   "execution_count": null,
   "id": "0f50d987",
   "metadata": {},
   "outputs": [],
   "source": [
    "from math import ceil\n",
    "\n",
    "a, b, v = map(int, input().split())\n",
    "print(ceil((v-a) / (a-b)) + 1)"
   ]
  },
  {
   "cell_type": "markdown",
   "id": "262486dd",
   "metadata": {},
   "source": [
    "### 분해합"
   ]
  },
  {
   "cell_type": "code",
   "execution_count": null,
   "id": "83d1da58",
   "metadata": {},
   "outputs": [],
   "source": [
    "def check(n):\n",
    "    result = 0\n",
    "    for i in range(1, n):\n",
    "        if sum(map(int, list(str(i)))) + i == n:\n",
    "            result = i\n",
    "            break\n",
    "    return result\n",
    "\n",
    "n = int(input())\n",
    "print(check(n))"
   ]
  },
  {
   "cell_type": "code",
   "execution_count": null,
   "id": "eaa3c67a",
   "metadata": {},
   "outputs": [],
   "source": [
    "sum(map(int, list(str(216))))"
   ]
  },
  {
   "cell_type": "markdown",
   "id": "1d0a5b80",
   "metadata": {},
   "source": [
    "### 마인크래프트"
   ]
  },
  {
   "cell_type": "code",
   "execution_count": null,
   "id": "3ff80890",
   "metadata": {},
   "outputs": [],
   "source": [
    "from collections import Counter\n",
    "\n",
    "n, m, b = map(int, input().split())\n",
    "grounds = []\n",
    "for _ in range(n):\n",
    "    grounds.extend(list(map(int, input().split())))\n",
    "    \n",
    "count = Counter(grounds)\n",
    "\n",
    "total = sum(grounds)\n",
    "time, height = 256 * n * m * 2, -1\n",
    "\n",
    "for i in range(max(grounds) + 1):\n",
    "    times = 0\n",
    "    if i * (n * m) > total + b:\n",
    "        continue\n",
    "    else:\n",
    "        for hgt, num in count.items():\n",
    "            if hgt != i:\n",
    "                if hgt > i:\n",
    "                    times += 2 * (hgt - i) * num\n",
    "                elif hgt < i:\n",
    "                    times += (i - hgt) * num\n",
    "            if times > time:\n",
    "                break\n",
    "        if times < time:\n",
    "            time, height = times, i\n",
    "        elif times == time:\n",
    "            height = max(height, i)\n",
    "            \n",
    "print(time, height)"
   ]
  },
  {
   "cell_type": "code",
   "execution_count": null,
   "id": "92cabda7",
   "metadata": {},
   "outputs": [],
   "source": [
    "def check(height, b, land):\n",
    "    time = 0\n",
    "    for row in land:\n",
    "        for block in row:\n",
    "            temp = block - height\n",
    "            if temp > 0:\n",
    "                b += temp\n",
    "                time += 2 * temp\n",
    "            elif temp < 0:\n",
    "                if b > temp:\n",
    "                    return None\n",
    "                else:\n",
    "                    b += temp\n",
    "                    time += temp\n",
    "\n",
    "    return time, height"
   ]
  },
  {
   "cell_type": "code",
   "execution_count": null,
   "id": "522f2dca",
   "metadata": {},
   "outputs": [],
   "source": [
    "temp = [[1,2], [1, 5]]"
   ]
  },
  {
   "cell_type": "code",
   "execution_count": null,
   "id": "ef49c88b",
   "metadata": {},
   "outputs": [],
   "source": [
    "test = [1,2,3,4,5,5,5,2,3,8,4,5,7,7]\n",
    "t_cnt = dict(Counter(test))"
   ]
  },
  {
   "cell_type": "code",
   "execution_count": null,
   "id": "6464aed8",
   "metadata": {},
   "outputs": [],
   "source": [
    "min(t_cnt.keys())"
   ]
  },
  {
   "cell_type": "markdown",
   "id": "33fe2fd5",
   "metadata": {},
   "source": [
    "### 나무자르기"
   ]
  },
  {
   "cell_type": "code",
   "execution_count": 1,
   "id": "f2f6eb10",
   "metadata": {},
   "outputs": [
    {
     "name": "stdout",
     "output_type": "stream",
     "text": [
      "4 7\n",
      "20 15 10 17\n",
      "15\n"
     ]
    }
   ],
   "source": [
    "n, m = map(int, input().split())\n",
    "trees = list(map(int, input().split()))\n",
    "\n",
    "start = 0\n",
    "end = max(trees)\n",
    "\n",
    "result = 0\n",
    "while (start <= end):\n",
    "    total = 0\n",
    "    mid = (start + end) // 2\n",
    "    for tree in trees:\n",
    "        if tree > mid:\n",
    "            total += tree - mid\n",
    "    \n",
    "    if total < m:\n",
    "        end = mid - 1\n",
    "    else:\n",
    "        result = mid\n",
    "        start = mid + 1\n",
    "\n",
    "print(result)"
   ]
  },
  {
   "cell_type": "markdown",
   "id": "d34d9650",
   "metadata": {},
   "source": [
    "### 랜선자르기"
   ]
  },
  {
   "cell_type": "code",
   "execution_count": 2,
   "id": "e0365728",
   "metadata": {},
   "outputs": [
    {
     "name": "stdout",
     "output_type": "stream",
     "text": [
      "4 11\n",
      "802\n",
      "743\n",
      "457\n",
      "539\n",
      "200\n"
     ]
    }
   ],
   "source": [
    "k, n = map(int, input().split())\n",
    "lines = []\n",
    "for _ in range(k):\n",
    "    lines.append(int(input()))\n",
    "\n",
    "start = 0  \n",
    "end = max(lines)\n",
    "\n",
    "result = 0\n",
    "while (start <= end):\n",
    "    total = 0\n",
    "    mid = (start + end) // 2\n",
    "    for line in lines:\n",
    "        total += line // mid\n",
    "    \n",
    "    if total < n:\n",
    "        end = mid - 1\n",
    "    else:\n",
    "        result = mid\n",
    "        start = mid + 1\n",
    "    \n",
    "print(result)"
   ]
  },
  {
   "cell_type": "code",
   "execution_count": null,
   "id": "2a64610f",
   "metadata": {},
   "outputs": [],
   "source": []
  }
 ],
 "metadata": {
  "kernelspec": {
   "display_name": "Python 3 (ipykernel)",
   "language": "python",
   "name": "python3"
  },
  "language_info": {
   "codemirror_mode": {
    "name": "ipython",
    "version": 3
   },
   "file_extension": ".py",
   "mimetype": "text/x-python",
   "name": "python",
   "nbconvert_exporter": "python",
   "pygments_lexer": "ipython3",
   "version": "3.8.10"
  }
 },
 "nbformat": 4,
 "nbformat_minor": 5
}
