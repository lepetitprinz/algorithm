{
 "cells": [
  {
   "cell_type": "markdown",
   "id": "c51ddc69",
   "metadata": {},
   "source": [
    "## Graph Theory"
   ]
  },
  {
   "cell_type": "markdown",
   "id": "2e37e4d1",
   "metadata": {},
   "source": [
    "#### 1012. 유기농 배추"
   ]
  },
  {
   "cell_type": "code",
   "execution_count": 7,
   "id": "cae12966",
   "metadata": {},
   "outputs": [],
   "source": [
    "def dfs(graph, x, y):\n",
    "    if x <= -1 or x >= m or y <= -1 or y >=n:\n",
    "        return False\n",
    "    if graph[y][x] == 1:\n",
    "        graph[y][x] = 0\n",
    "        dfs(graph, x-1, y)\n",
    "        dfs(graph, x, y-1)\n",
    "        dfs(graph, x+1, y)\n",
    "        dfs(graph, x, y+1)\n",
    "        return True\n",
    "    \n",
    "    return False"
   ]
  },
  {
   "cell_type": "code",
   "execution_count": 9,
   "id": "16c22a02",
   "metadata": {},
   "outputs": [
    {
     "name": "stdout",
     "output_type": "stream",
     "text": [
      "1\n",
      "10 8 17\n",
      "0 0\n",
      "1 0\n",
      "1 1\n",
      "4 2\n",
      "4 3\n",
      "4 5\n",
      "2 4\n",
      "3 4\n",
      "7 4\n",
      "8 4\n",
      "9 4\n",
      "7 5\n",
      "8 5\n",
      "9 5\n",
      "7 6\n",
      "8 6\n",
      "9 6\n",
      "5\n"
     ]
    }
   ],
   "source": [
    "test = int(input())\n",
    "\n",
    "for _ in range(test):\n",
    "    m, n, k = map(int, input().split())\n",
    "    graph = [[0] * m for _ in range(n)]\n",
    "    for _ in range(k):\n",
    "        i, j = map(int, input().split())\n",
    "        graph[j][i] = 1\n",
    "        \n",
    "    result = 0\n",
    "    for i in range(n):\n",
    "        for j in range(m):\n",
    "            if dfs(graph, j, i):\n",
    "                result += 1\n",
    "    \n",
    "    print(result)"
   ]
  },
  {
   "cell_type": "code",
   "execution_count": null,
   "id": "b2222bd8",
   "metadata": {},
   "outputs": [],
   "source": [
    "def dfs(graph, x, y):\n",
    "    if x <= -1 or x >= m or y <= -1 or y >=n:\n",
    "        return False\n",
    "    if graph[y][x] == 1:\n",
    "        graph[y][x] = 0\n",
    "        dfs(x-1, y)\n",
    "        dfs(x, y-1)\n",
    "        dfs(x+1, y)\n",
    "        dfs(x, y+1)\n",
    "        return True\n",
    "    return False\n",
    "    "
   ]
  }
 ],
 "metadata": {
  "kernelspec": {
   "display_name": "Python 3 (ipykernel)",
   "language": "python",
   "name": "python3"
  },
  "language_info": {
   "codemirror_mode": {
    "name": "ipython",
    "version": 3
   },
   "file_extension": ".py",
   "mimetype": "text/x-python",
   "name": "python",
   "nbconvert_exporter": "python",
   "pygments_lexer": "ipython3",
   "version": "3.8.10"
  }
 },
 "nbformat": 4,
 "nbformat_minor": 5
}
