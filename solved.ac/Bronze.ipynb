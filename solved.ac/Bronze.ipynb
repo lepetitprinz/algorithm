{
 "cells": [
  {
   "cell_type": "markdown",
   "id": "e19101e3",
   "metadata": {},
   "source": [
    "#### 8689. Gra"
   ]
  },
  {
   "cell_type": "code",
   "execution_count": 32,
   "id": "0012984e",
   "metadata": {
    "scrolled": true
   },
   "outputs": [
    {
     "name": "stdout",
     "output_type": "stream",
     "text": [
      "7\n",
      "1 2 -1 4 -6 5 2\n",
      "14\n"
     ]
    }
   ],
   "source": [
    "n = int(input())\n",
    "vals = list(map(int, input().split()))\n",
    "d = [vals[0]] + [0] * (n-1)\n",
    "for i in range(1, n):\n",
    "    d[i] = vals[i] + max(d[max(0, i-6): i])\n",
    "    \n",
    "print(d[n-1])"
   ]
  },
  {
   "cell_type": "code",
   "execution_count": 31,
   "id": "23a455fa",
   "metadata": {},
   "outputs": [
    {
     "data": {
      "text/plain": [
       "[1, 0, 0, 0, 0, 0, 0]"
      ]
     },
     "execution_count": 31,
     "metadata": {},
     "output_type": "execute_result"
    }
   ],
   "source": [
    "7\n",
    "1 2 -1 4 -6 5 2"
   ]
  },
  {
   "cell_type": "markdown",
   "id": "a881e28d",
   "metadata": {},
   "source": [
    "#### 9655. 돌 게임"
   ]
  },
  {
   "cell_type": "code",
   "execution_count": 25,
   "id": "95434efc",
   "metadata": {},
   "outputs": [
    {
     "name": "stdout",
     "output_type": "stream",
     "text": [
      "4\n",
      "1 2 -1 1\n",
      "4\n"
     ]
    }
   ],
   "source": [
    "n = int(input())\n",
    "move = list(map(int, input().split()))\n",
    "max_val = 0\n",
    "for num in move:\n",
    "    if num > 0:\n",
    "        max_val += num\n",
    "print(max_val)"
   ]
  },
  {
   "cell_type": "markdown",
   "id": "f2762654",
   "metadata": {},
   "source": [
    "#### 17608 막대기"
   ]
  },
  {
   "cell_type": "code",
   "execution_count": 34,
   "id": "9cd8a412",
   "metadata": {
    "scrolled": false
   },
   "outputs": [
    {
     "name": "stdout",
     "output_type": "stream",
     "text": [
      "5\n",
      "5\n",
      "4\n",
      "3\n",
      "2\n",
      "1\n",
      "5\n"
     ]
    }
   ],
   "source": [
    "n = int(input())\n",
    "nums = [int(input()) for _ in range(n)]\n",
    "nums = nums[::-1]\n",
    "max_height = 0\n",
    "cnt = 0\n",
    "for num in nums:\n",
    "    if num > max_height:\n",
    "        cnt += 1\n",
    "        max_height = num\n",
    "\n",
    "print(cnt)"
   ]
  },
  {
   "cell_type": "markdown",
   "id": "e909f9c8",
   "metadata": {},
   "source": [
    "#### 15873 공백 없는 A+B"
   ]
  },
  {
   "cell_type": "code",
   "execution_count": 38,
   "id": "947e1a2d",
   "metadata": {},
   "outputs": [
    {
     "name": "stdout",
     "output_type": "stream",
     "text": [
      "110\n",
      "10\n"
     ]
    }
   ],
   "source": [
    "number = input()\n",
    "\n",
    "if len(number) == 2:\n",
    "    print(sum(map(int, list(number))))\n",
    "elif len(number) == 3:\n",
    "    if number[1] == '0':\n",
    "        print(10 + int(number[-1]))\n",
    "    else:\n",
    "        print(int(number[0]) + 10)\n",
    "elif len(number) == 4:\n",
    "    print(20)"
   ]
  },
  {
   "cell_type": "code",
   "execution_count": null,
   "id": "46bca818",
   "metadata": {},
   "outputs": [],
   "source": [
    "test = 'baekjoon online judge'"
   ]
  },
  {
   "cell_type": "code",
   "execution_count": 4,
   "id": "358632e1",
   "metadata": {},
   "outputs": [
    {
     "name": "stdout",
     "output_type": "stream",
     "text": [
      "english is a west germanic language originating in england and is the first language for most people in the united kingdom the united states canada australia new zealand ireland and the anglophone caribbean it is used extensively as a second language and as an official language throughout the world especially in common wealth countries and in many international organizations\n",
      "a"
     ]
    }
   ],
   "source": [
    "from collections import Counter\n",
    "\n",
    "i = 0\n",
    "sentence = ''\n",
    "while i < 50:\n",
    "    try:\n",
    "        sentence += input().replace(' ', '')\n",
    "        i += 1\n",
    "    except:\n",
    "        break\n",
    "        \n",
    "alpha_cnt = Counter(sentence)\n",
    "max_cnt_alphabet = sorted(alpha_cnt.items(), key=lambda x: (-x[1], x[0]))\n",
    "max_cnt = max_cnt_alphabet[0][1]\n",
    "for k, v in max_cnt_alphabet:\n",
    "    if max_cnt == v:\n",
    "        print(k, end='')\n",
    "    else:\n",
    "        break"
   ]
  },
  {
   "cell_type": "code",
   "execution_count": null,
   "id": "4050fbe5",
   "metadata": {},
   "outputs": [
    {
     "name": "stdout",
     "output_type": "stream",
     "text": [
      "5 7\n",
      "0010000\n",
      "0000100\n",
      "0111010\n",
      "0101110\n"
     ]
    }
   ],
   "source": [
    "n, m = map(int, input().split())\n",
    "for _ in range(n):\n",
    "    print(input()[::-1])"
   ]
  },
  {
   "cell_type": "code",
   "execution_count": null,
   "id": "641b5aee",
   "metadata": {},
   "outputs": [],
   "source": [
    "0010000\n",
    "0111010\n",
    "1111111\n",
    "0111010\n",
    "0010000"
   ]
  }
 ],
 "metadata": {
  "kernelspec": {
   "display_name": "Python 3 (ipykernel)",
   "language": "python",
   "name": "python3"
  },
  "language_info": {
   "codemirror_mode": {
    "name": "ipython",
    "version": 3
   },
   "file_extension": ".py",
   "mimetype": "text/x-python",
   "name": "python",
   "nbconvert_exporter": "python",
   "pygments_lexer": "ipython3",
   "version": "3.8.10"
  }
 },
 "nbformat": 4,
 "nbformat_minor": 5
}
