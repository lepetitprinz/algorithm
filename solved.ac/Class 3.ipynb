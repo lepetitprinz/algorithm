{
 "cells": [
  {
   "cell_type": "markdown",
   "id": "c4317870",
   "metadata": {},
   "source": [
    "### 17219. 비밀번호 찾기"
   ]
  },
  {
   "cell_type": "code",
   "execution_count": null,
   "id": "a9d9f5ae",
   "metadata": {},
   "outputs": [],
   "source": [
    "n, m = map(int, input().split())\n",
    "\n",
    "address_map = {}\n",
    "for _ in range(n):\n",
    "    site, pw = input().split()\n",
    "    address_map[site] = pw\n",
    "\n",
    "for _ in range(m):\n",
    "    site = input()\n",
    "    print(address_map[site])"
   ]
  },
  {
   "cell_type": "markdown",
   "id": "ead4687a",
   "metadata": {},
   "source": [
    "### 1, 2, 3, 더하기"
   ]
  },
  {
   "cell_type": "code",
   "execution_count": null,
   "id": "f43c4b64",
   "metadata": {},
   "outputs": [],
   "source": [
    "def solve(n):\n",
    "    d = [0] * 11\n",
    "    d[1] = 1\n",
    "    d[2] = 2\n",
    "    d[3] = 4\n",
    "\n",
    "    for i in range(4, n+1):\n",
    "        d[i] = d[i-1] + d[i-2] + d[i-3]\n",
    "    \n",
    "    return(d[n])\n",
    "\n",
    "n = int(input())\n",
    "for _ in range(n):\n",
    "    print(solve(int(input())))"
   ]
  },
  {
   "cell_type": "markdown",
   "id": "e1e01cab",
   "metadata": {},
   "source": [
    "### 피보나치 함수"
   ]
  },
  {
   "cell_type": "code",
   "execution_count": null,
   "id": "fe1a8c0d",
   "metadata": {
    "scrolled": true
   },
   "outputs": [],
   "source": [
    "def fibo_cnt(number):\n",
    "    zero = [1, 0, 1] \n",
    "    one = [0, 1, 1]\n",
    "    if number >= 3:\n",
    "        for i in range(3, number + 1):\n",
    "            zero.append(zero[i-1] + zero[i-2])\n",
    "            one.append(one[i-1] + one[i-2])\n",
    "    print(f'{zero[number]} {one[number]}')    \n",
    "    \n",
    "n = int(input())\n",
    "for _ in range(n):\n",
    "    fibo_cnt(number=int(input()))\n"
   ]
  },
  {
   "cell_type": "markdown",
   "id": "8ad52487",
   "metadata": {},
   "source": [
    "### 구간  합 구하기 4"
   ]
  },
  {
   "cell_type": "code",
   "execution_count": null,
   "id": "f5d95cb9",
   "metadata": {
    "scrolled": true
   },
   "outputs": [],
   "source": [
    "# Memorization\n",
    "\n",
    "n, m = map(int, input().split())\n",
    "nums = list(map(int, input().split()))\n",
    "\n",
    "cum_sum = 0\n",
    "cum_sum_list = [0] * (len(nums)+1)\n",
    "for i, num in enumerate(nums):\n",
    "    cum_sum += num\n",
    "    cum_sum_list[i+1] = cum_sum\n",
    "\n",
    "for _ in range(m):\n",
    "    idx_from, idx_to = map(int, input().split())\n",
    "    print(cum_sum_list[idx_to] - cum_sum_list[idx_from-1])"
   ]
  },
  {
   "cell_type": "markdown",
   "id": "b79d953a",
   "metadata": {},
   "source": [
    "### 1620. 나는야 포켓몬 마스터 이다솜"
   ]
  },
  {
   "cell_type": "code",
   "execution_count": null,
   "id": "fa0c4967",
   "metadata": {},
   "outputs": [],
   "source": [
    "n, m = map(int, input().split())\n",
    "\n",
    "name_id = {}\n",
    "id_name ={}\n",
    "for i in range(n):\n",
    "    name = input()\n",
    "    name_id[name] = str(i+1)\n",
    "    id_name[str(i+1)] = name\n",
    "\n",
    "for _ in range(m):\n",
    "    value = str(input())\n",
    "    if value in name_id:\n",
    "        print(name_id[value])\n",
    "    else:\n",
    "        print(id_name[value])"
   ]
  },
  {
   "cell_type": "code",
   "execution_count": 45,
   "id": "4ac6fb38",
   "metadata": {},
   "outputs": [
    {
     "name": "stdout",
     "output_type": "stream",
     "text": [
      "6 2 5\n",
      "600\n"
     ]
    }
   ],
   "source": [
    "from collections import Counter\n",
    "a, b, c = map(int, input().split())\n",
    "\n",
    "cnt = Counter([a,b,c])\n",
    "\n",
    "if len(cnt) == 3:\n",
    "    print(max(cnt)* 100)\n",
    "elif len(cnt) == 2:\n",
    "    print(cnt.most_common(1)[0][0] * 100 + 1000)\n",
    "else:\n",
    "    print(cnt.most_common(1)[0][0] * 1000 + 10000)"
   ]
  },
  {
   "cell_type": "code",
   "execution_count": 54,
   "id": "f72ec780",
   "metadata": {},
   "outputs": [],
   "source": [
    "def check(string):\n",
    "    memory = []\n",
    "    for i in range(len(string)-1):\n",
    "        if string[i+1] in memory:\n",
    "            return False\n",
    "        if string[i+1] == string[i]:\n",
    "            continue\n",
    "        else:\n",
    "            memory.append(string[i])\n",
    "    \n",
    "    return True"
   ]
  },
  {
   "cell_type": "code",
   "execution_count": 65,
   "id": "50d2dc09",
   "metadata": {},
   "outputs": [],
   "source": [
    "from math import floor"
   ]
  },
  {
   "cell_type": "code",
   "execution_count": 70,
   "id": "2b3508d3",
   "metadata": {},
   "outputs": [
    {
     "name": "stdout",
     "output_type": "stream",
     "text": [
      "10\n",
      "3628800\n"
     ]
    }
   ],
   "source": [
    "n = int(input())\n",
    "\n",
    "def factorial(n):\n",
    "    if n == 1:\n",
    "        return 1\n",
    "    return n * factorial(n-1)\n",
    "\n",
    "if n == 0:\n",
    "    print(1)\n",
    "else:\n",
    "    print(factorial(n))"
   ]
  },
  {
   "cell_type": "code",
   "execution_count": null,
   "id": "1eedac37",
   "metadata": {},
   "outputs": [],
   "source": []
  }
 ],
 "metadata": {
  "kernelspec": {
   "display_name": "Python 3 (ipykernel)",
   "language": "python",
   "name": "python3"
  },
  "language_info": {
   "codemirror_mode": {
    "name": "ipython",
    "version": 3
   },
   "file_extension": ".py",
   "mimetype": "text/x-python",
   "name": "python",
   "nbconvert_exporter": "python",
   "pygments_lexer": "ipython3",
   "version": "3.8.10"
  }
 },
 "nbformat": 4,
 "nbformat_minor": 5
}
