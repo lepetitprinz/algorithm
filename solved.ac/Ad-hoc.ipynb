{
 "cells": [
  {
   "cell_type": "code",
   "execution_count": 8,
   "id": "b4b07c7c",
   "metadata": {},
   "outputs": [
    {
     "name": "stdout",
     "output_type": "stream",
     "text": [
      "6 4\n",
      "4 1\n",
      "8\n",
      "0 1\n"
     ]
    }
   ],
   "source": [
    "w, h = map(int, input().split())\n",
    "p, q = map(int, input().split())\n",
    "t = int(input())\n",
    "\n",
    "t_w = (p + t) % w\n",
    "t_h = (q + t) % h\n",
    "\n",
    "w_div = (p + t) // w\n",
    "h_div = (q + t) // h\n",
    "\n",
    "if w_div % 2 == 0:\n",
    "    x = t_w\n",
    "else:\n",
    "    x = w - t_w\n",
    "    \n",
    "if h_div % 2 == 0:\n",
    "    y = t_h\n",
    "else:\n",
    "    y = h - t_h\n",
    "\n",
    "print(f'{x} {y}')"
   ]
  },
  {
   "cell_type": "code",
   "execution_count": null,
   "id": "cb62d6a8",
   "metadata": {},
   "outputs": [],
   "source": [
    "6 4\n",
    "4 1\n",
    "8"
   ]
  }
 ],
 "metadata": {
  "kernelspec": {
   "display_name": "Python 3 (ipykernel)",
   "language": "python",
   "name": "python3"
  },
  "language_info": {
   "codemirror_mode": {
    "name": "ipython",
    "version": 3
   },
   "file_extension": ".py",
   "mimetype": "text/x-python",
   "name": "python",
   "nbconvert_exporter": "python",
   "pygments_lexer": "ipython3",
   "version": "3.8.10"
  }
 },
 "nbformat": 4,
 "nbformat_minor": 5
}
