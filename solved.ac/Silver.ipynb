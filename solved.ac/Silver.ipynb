{
 "cells": [
  {
   "cell_type": "code",
   "execution_count": 62,
   "id": "fc966778",
   "metadata": {},
   "outputs": [
    {
     "name": "stdout",
     "output_type": "stream",
     "text": [
      "42393338\n",
      "YES\n"
     ]
    }
   ],
   "source": [
    "def multiply_list(nums):\n",
    "    result = 1\n",
    "    for number in nums:\n",
    "        result *= int(number)\n",
    "    \n",
    "    return result\n",
    "\n",
    "number = input()\n",
    "flag = 'NO'\n",
    "for i in range(1, len(number)):\n",
    "    forward = number[:i]\n",
    "    backward = number[i:]\n",
    "    if multiply_list(list(forward)) == multiply_list(list(backward)):\n",
    "        flag = 'YES'\n",
    "        break\n",
    "\n",
    "print(flag)"
   ]
  },
  {
   "cell_type": "code",
   "execution_count": 57,
   "id": "f8f03bfa",
   "metadata": {
    "scrolled": true
   },
   "outputs": [
    {
     "name": "stdout",
     "output_type": "stream",
     "text": [
      "a bcd\n",
      "ab cd\n",
      "abc d\n"
     ]
    }
   ],
   "source": [
    "test = 'abcd'\n",
    "for i in range(1, len(test)):\n",
    "    print(f'{test[:i]} {test[i:]}')"
   ]
  },
  {
   "cell_type": "markdown",
   "id": "f9611727",
   "metadata": {},
   "source": [
    "#### 25206. 너의 평점은"
   ]
  },
  {
   "cell_type": "code",
   "execution_count": 6,
   "id": "df2125d9",
   "metadata": {
    "scrolled": false
   },
   "outputs": [
    {
     "name": "stdout",
     "output_type": "stream",
     "text": [
      "ObjectOrientedProgramming1 3.0 A+\n",
      "IntroductiontoComputerEngineering 3.0 A+\n",
      "ObjectOrientedProgramming2 3.0 A0\n",
      "CreativeComputerEngineeringDesign 3.0 A+\n",
      "AssemblyLanguage 3.0 A+\n",
      "InternetProgramming 3.0 B0\n",
      "ApplicationProgramminginJava 3.0 A0\n",
      "SystemProgramming 3.0 B0\n",
      "OperatingSystem 3.0 B0\n",
      "WirelessCommunicationsandNetworking 3.0 C+\n",
      "LogicCircuits 3.0 B0\n",
      "DataStructure 4.0 A+\n",
      "MicroprocessorApplication 3.0 B+\n",
      "EmbeddedSoftware 3.0 C0\n",
      "ComputerSecurity 3.0 D+\n",
      "Database 3.0 C+\n",
      "Algorithm 3.0 B0\n",
      "CapstoneDesigninCSE 3.0 B+\n",
      "CompilerDesign 3.0 D0\n",
      "ProblemSolving 4.0 P\n",
      "10.0263158\n"
     ]
    }
   ],
   "source": [
    "grade = {'A+': 4.5, 'A0': 4.0, 'B+': 3.5, 'B0': 3.0, 'C+': 2.5, 'C0': 2.0, 'D+': 1.5,\n",
    "         'D0': 1.0, 'F': 0.0}\n",
    "total = 0\n",
    "cnt = 0\n",
    "for _ in range(20):\n",
    "    c, n, g = input().split()\n",
    "    if g != 'P':\n",
    "        g_val = grade[g]\n",
    "        total += float(n) * g_val\n",
    "        cnt += float(n)\n",
    "\n",
    "print(total/cnt)"
   ]
  },
  {
   "cell_type": "code",
   "execution_count": null,
   "id": "ff1cd629",
   "metadata": {},
   "outputs": [],
   "source": []
  }
 ],
 "metadata": {
  "kernelspec": {
   "display_name": "Python 3 (ipykernel)",
   "language": "python",
   "name": "python3"
  },
  "language_info": {
   "codemirror_mode": {
    "name": "ipython",
    "version": 3
   },
   "file_extension": ".py",
   "mimetype": "text/x-python",
   "name": "python",
   "nbconvert_exporter": "python",
   "pygments_lexer": "ipython3",
   "version": "3.8.10"
  }
 },
 "nbformat": 4,
 "nbformat_minor": 5
}
