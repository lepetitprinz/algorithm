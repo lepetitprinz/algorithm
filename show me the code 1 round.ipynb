{
 "cells": [
  {
   "cell_type": "markdown",
   "id": "ef42ca5b",
   "metadata": {},
   "source": [
    "### 문제\n",
    "준겸이는 모험가이다. 모험을 떠나기 위해서는 철저한 사전 준비를 갖추어야 한다.\n",
    "\n",
    "준겸이는 모험을 떠나기 전 $N$종류의 물약을 모두 구매하려고 한다. 물약 상점에 들른 준겸이는 각 물약이 $1$번부터 $N$번까지 번호가 매겨져 있다는 것을 알아냈다. 그런데, 물약 상점에서는 오늘 특별한 이벤트를 하고 있었다. 특정 물약을 구매하면, 어떤 다른 물약들을 할인해준다는 것이었다.\n",
    "\n",
    "원래 $i$번째 물약의 가격은 동전 $c_i$개이다. 만약 $i$번째 물약을 구매하면, $p_i$종류의 다른 물약의 가격이 내려간다.\n",
    "\n",
    "할인은 중첩된다. 예를 들어 $1$번 물약을 구매하면 $3$번 물약의 가격이 동전 $1$개만큼 할인되고, $2$번 물약을 구매하면 역시 $3$번 물약의 가격이 동전 $2$개만큼 할인된다고 하자. 그러면 두 물약을 모두 구매하고 나서 $3$번 물약을 구매할 때 동전 $3$개만큼의 할인을 받을 수 있다. 단, 물약의 가격이 내려가더라도 $0$ 이하로 내려가지는 않는다. 예를 들어, 원래 가격이 동전 $5$개인 물약이 동전 $4$개를 넘는 만큼 할인되더라도 가격은 동전 $1$개가 된다. \n",
    "\n",
    "준겸이는 신나서 물약을 구매하려다가, 물약을 구매하는 순서가 중요하다는 사실을 깨달았다. 준겸이를 위해 물약을 가장 싸게 샀을 때 그 비용을 알려주자."
   ]
  },
  {
   "cell_type": "markdown",
   "id": "d6c66aab",
   "metadata": {},
   "source": [
    "### 입력\n",
    "첫째 줄에 물약의 종류 $N$이 주어진다.\n",
    "\n",
    "둘째 줄에 물약의 가격 $c_i$가 공백을 사이에 두고 주어진다($1 \\le i \\le N$). \n",
    "\n",
    "다음 줄부터, 물약 할인 정보가 $N$개 주어진다. $i$번째로 주어지는 물약 할인 정보는 다음과 같다($1 \\le i \\le N$). \n",
    "\n",
    " $p_i$가 주어진다. 다음 $p_i$개의 줄에, 물약 번호 $a_j$와 할인되는 가격 $d_j$가 주어진다. 이는 $i$번 물약을 구매하고 나면 물약 $a_j$가 동전 $d_j$개만큼 할인된다는 뜻이다."
   ]
  },
  {
   "cell_type": "code",
   "execution_count": 38,
   "id": "0aa699f4",
   "metadata": {},
   "outputs": [
    {
     "name": "stdout",
     "output_type": "stream",
     "text": [
      "4\n",
      "10 15 20 25\n",
      "2\n",
      "3 10\n",
      "2 20\n",
      "0\n",
      "1\n",
      "4 10\n",
      "1\n",
      "1 10\n"
     ]
    }
   ],
   "source": [
    "from copy import deepcopy\n",
    "from itertools import permutations\n",
    "\n",
    "kind_n = int(input())\n",
    "price = list(map(int, input().split()))\n",
    "\n",
    "disc_map = {}\n",
    "for i in range(kind_n):\n",
    "    cnt_i = int(input())\n",
    "    temp = {}\n",
    "    for j in range(cnt_i):\n",
    "        number, discount = map(int, input().split())\n",
    "        temp[number-1] = discount\n",
    "    disc_map[i] = temp\n",
    "    \n",
    "seq_list = list(permutations(range(4)))"
   ]
  },
  {
   "cell_type": "code",
   "execution_count": 157,
   "id": "540e58ee",
   "metadata": {},
   "outputs": [],
   "source": [
    "price_list = [10, 15, 20, 25]\n",
    "disc_map = {0: {2: 10, 1: 20}, 1: {}, 2: {3: 10}, 3: {0: 10}}"
   ]
  },
  {
   "cell_type": "code",
   "execution_count": 158,
   "id": "9ef378fd",
   "metadata": {},
   "outputs": [
    {
     "data": {
      "text/plain": [
       "36"
      ]
     },
     "execution_count": 158,
     "metadata": {},
     "output_type": "execute_result"
    }
   ],
   "source": [
    "calc_price(price_list, disc_map)"
   ]
  },
  {
   "cell_type": "code",
   "execution_count": 156,
   "id": "9be6708e",
   "metadata": {},
   "outputs": [],
   "source": [
    "def calc_price(price_list, disc_map):\n",
    "    price_min = 0\n",
    "    for _ in range(len(price_list)):\n",
    "        min_idx = search_min(price_list, disc_map)\n",
    "        price_min += price_list[min_idx]\n",
    "        price_list, disc_map = update_price(min_idx, price_list, disc_map)\n",
    "    \n",
    "    return price_min"
   ]
  },
  {
   "cell_type": "code",
   "execution_count": 149,
   "id": "fcd3510c",
   "metadata": {},
   "outputs": [],
   "source": [
    "def search_min(price_list, disc_map):\n",
    "    diff_sum_list = []\n",
    "    for idx, disc in disc_map.items():\n",
    "        diff_sum = 0\n",
    "        for k, v in disc.items():\n",
    "            if price_list[k] - v >= 1:\n",
    "                diff = price_list[k] - v\n",
    "            else:\n",
    "                diff = price_list[k] - 1\n",
    "            diff_sum += diff\n",
    "        diff_sum_list.append((idx, diff_sum))\n",
    "    diff_sum_list = sorted(diff_sum_list, key=lambda x: x[1], reverse=True)\n",
    "    choose_idx = diff_sum_list[0][0]\n",
    "    \n",
    "    return choose_idx"
   ]
  },
  {
   "cell_type": "code",
   "execution_count": 153,
   "id": "7f2f004e",
   "metadata": {},
   "outputs": [],
   "source": [
    "def update_price(idx, price_list, disc_map):\n",
    "    disc = disc_map[idx]\n",
    "    for k, v in disc.items():\n",
    "        price = price_list[k] - v\n",
    "        if price < 1:\n",
    "            price = 1\n",
    "        price_list[k] = price\n",
    "    disc_map.pop(idx, None)\n",
    "    \n",
    "    return price_list, disc_map"
   ]
  },
  {
   "cell_type": "code",
   "execution_count": 116,
   "id": "bce59f99",
   "metadata": {
    "scrolled": true
   },
   "outputs": [
    {
     "name": "stdout",
     "output_type": "stream",
     "text": [
      "4\n",
      "10 15 20 25\n",
      "2\n",
      "3 10\n",
      "2 20\n",
      "0\n",
      "1\n",
      "4 10\n",
      "1\n",
      "1 10\n",
      "36\n"
     ]
    }
   ],
   "source": [
    "def calc_price(price_list, disc_map):\n",
    "    price_min = 0\n",
    "    for _ in range(len(price_list)):\n",
    "        min_idx = search_min(price_list, disc_map)\n",
    "        price_min += min_idx_price\n",
    "        price_list, disc_map = update_price(min_idx, price_list, disc_map)\n",
    "    \n",
    "    return price_min\n",
    "\n",
    "def search_min(price_list, disc_map):\n",
    "    diff_sum_list = []\n",
    "    for idx, disc in disc_map.items():\n",
    "        diff_sum = 0\n",
    "        for k, v in disc.items():\n",
    "            if price_list[k-1] - v >= 1:\n",
    "                diff = price_list[k] - v\n",
    "            else:\n",
    "                diff = price_list[k] - 1\n",
    "            diff_sum += diff\n",
    "        diff_sum_list.append((idx, diff_sum))\n",
    "    diff_sum_list = sorted(diff_sum_list, key=lambda x: x[1], reverse=True)\n",
    "    choose_idx = diff_sum_list[0][0]\n",
    "    \n",
    "    return choose_idx\n",
    "\n",
    "def update_price(idx, price_list, disc_map):\n",
    "    disc = disc_map[idx]\n",
    "    for k, v in disc.items():\n",
    "        price = price_list[k] - v\n",
    "        if price < 1:\n",
    "            price = 1\n",
    "        price_list[k] = price\n",
    "    disc_map.pop(idx, None)\n",
    "    \n",
    "    return price_list, disc_map\n",
    "\n",
    "kind_n = int(input())\n",
    "price_list = list(map(int, input().split()))\n",
    "\n",
    "disc_map = {}\n",
    "for i in range(kind_n):\n",
    "    cnt_i = int(input())\n",
    "    temp = {}\n",
    "    for j in range(cnt_i):\n",
    "        number, discount = map(int, input().split())\n",
    "        temp[number-1] = discount\n",
    "    disc_map[i] = temp\n",
    "\n",
    "print(calc_price(price_list, disc_map))"
   ]
  },
  {
   "cell_type": "markdown",
   "id": "1fa0e184",
   "metadata": {},
   "source": [
    "### Q3"
   ]
  },
  {
   "cell_type": "code",
   "execution_count": null,
   "id": "ba7ebcfd",
   "metadata": {},
   "outputs": [],
   "source": [
    "length = int(input())\n",
    "s = 'WAHEWHEE'\n",
    "\n",
    "idx_w = []\n",
    "idx_h = []\n",
    "idx_e = []\n",
    "for i, string in enumerate(s):\n",
    "    if string == 'W':\n",
    "        idx_w.append(i)\n",
    "    elif string == 'H':\n",
    "        idx_h.append(i)\n",
    "    elif string == 'E':\n",
    "        idx_e.append(i)\n",
    "\n",
    "cnt = 0\n",
    "for idx in"
   ]
  }
 ],
 "metadata": {
  "kernelspec": {
   "display_name": "Python 3 (ipykernel)",
   "language": "python",
   "name": "python3"
  },
  "language_info": {
   "codemirror_mode": {
    "name": "ipython",
    "version": 3
   },
   "file_extension": ".py",
   "mimetype": "text/x-python",
   "name": "python",
   "nbconvert_exporter": "python",
   "pygments_lexer": "ipython3",
   "version": "3.8.10"
  }
 },
 "nbformat": 4,
 "nbformat_minor": 5
}
