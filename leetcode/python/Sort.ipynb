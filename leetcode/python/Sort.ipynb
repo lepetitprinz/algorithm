{
 "cells": [
  {
   "cell_type": "markdown",
   "id": "00b9b97a",
   "metadata": {},
   "source": [
    "#### 88. Merge Sorted Array"
   ]
  },
  {
   "cell_type": "code",
   "execution_count": 26,
   "id": "c39c376a",
   "metadata": {},
   "outputs": [],
   "source": [
    "import heapq\n",
    "\n",
    "def merge(nums1, m, nums2, n):\n",
    "    \"\"\"\n",
    "    :type nums1: List[int]\n",
    "    :type m: int\n",
    "    :type nums2: List[int]\n",
    "    :type n: int\n",
    "    :rtype: None Do not return anything, modify nums1 in-place instead.\n",
    "    \"\"\"\n",
    "    result = list(heapq.merge(nums1[:m], nums2))\n",
    "    for i, v in enumerate(result):\n",
    "        nums1[i] = v"
   ]
  },
  {
   "cell_type": "code",
   "execution_count": null,
   "id": "40395f7f",
   "metadata": {},
   "outputs": [],
   "source": []
  }
 ],
 "metadata": {
  "kernelspec": {
   "display_name": "Python 3 (ipykernel)",
   "language": "python",
   "name": "python3"
  },
  "language_info": {
   "codemirror_mode": {
    "name": "ipython",
    "version": 3
   },
   "file_extension": ".py",
   "mimetype": "text/x-python",
   "name": "python",
   "nbconvert_exporter": "python",
   "pygments_lexer": "ipython3",
   "version": "3.8.16"
  }
 },
 "nbformat": 4,
 "nbformat_minor": 5
}
