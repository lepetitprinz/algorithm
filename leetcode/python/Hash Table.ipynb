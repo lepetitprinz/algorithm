{
 "cells": [
  {
   "cell_type": "markdown",
   "id": "9bd99926",
   "metadata": {},
   "source": [
    "#### 169. Majority Element"
   ]
  },
  {
   "cell_type": "code",
   "execution_count": 5,
   "id": "307571f5",
   "metadata": {},
   "outputs": [],
   "source": [
    "from typing import List\n",
    "\n",
    "def majorityElement(nums: List[int]) -> int:\n",
    "    cnt = {}\n",
    "    for num in nums:\n",
    "        if num in cnt:\n",
    "            cnt[num] += 1\n",
    "        else:\n",
    "            cnt[num] = 1\n",
    "    \n",
    "    max_cnt_val = sorted(cnt.items(), key=lambda x: -x[1])\n",
    "    \n",
    "    return max_cnt_val[0][0]"
   ]
  },
  {
   "cell_type": "code",
   "execution_count": 6,
   "id": "9a870e88",
   "metadata": {},
   "outputs": [
    {
     "name": "stdout",
     "output_type": "stream",
     "text": [
      "4\n"
     ]
    }
   ],
   "source": [
    "print(majorityElement(nums=[1,2,3,4,4,4]))"
   ]
  },
  {
   "cell_type": "code",
   "execution_count": null,
   "id": "a28ba766",
   "metadata": {},
   "outputs": [],
   "source": []
  }
 ],
 "metadata": {
  "kernelspec": {
   "display_name": "Python 3 (ipykernel)",
   "language": "python",
   "name": "python3"
  },
  "language_info": {
   "codemirror_mode": {
    "name": "ipython",
    "version": 3
   },
   "file_extension": ".py",
   "mimetype": "text/x-python",
   "name": "python",
   "nbconvert_exporter": "python",
   "pygments_lexer": "ipython3",
   "version": "3.8.16"
  }
 },
 "nbformat": 4,
 "nbformat_minor": 5
}
