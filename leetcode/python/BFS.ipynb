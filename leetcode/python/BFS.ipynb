{
 "cells": [
  {
   "cell_type": "code",
   "execution_count": 4,
   "id": "1905c6ed",
   "metadata": {},
   "outputs": [],
   "source": [
    "from typing import List"
   ]
  },
  {
   "cell_type": "markdown",
   "id": "507f4e66",
   "metadata": {},
   "source": [
    "#### 733. Flood Fill"
   ]
  },
  {
   "cell_type": "code",
   "execution_count": 5,
   "id": "15f86dec",
   "metadata": {},
   "outputs": [],
   "source": [
    "from collections import deque\n",
    "\n",
    "def floodFill(image: List[List[int]], sr: int, sc: int, color: int) -> List[List[int]]:\n",
    "    n, m = len(image), len(image[0])\n",
    "    moves = [(0, 1), (1, 0), (0, -1), (-1, 0)]\n",
    "    \n",
    "    search_color = image[sr][sc]\n",
    "    visited = [[False] * m for _ in range(n)]\n",
    "    \n",
    "    queue = deque([(sr, sc)])\n",
    "    image[sr][sc] = color\n",
    "    visited[sr][sc] = True\n",
    "    while queue:\n",
    "        r, c = queue.popleft()\n",
    "        \n",
    "        for move in moves:\n",
    "            nr = r + move[0]\n",
    "            nc = c + move[1]\n",
    "            \n",
    "            if (0 <= nr < n) and (0 <= nc < m):\n",
    "                if not visited[nr][nc] and image[nr][nc] == search_color:\n",
    "                    image[nr][nc] = color\n",
    "                    visited[nr][nc] = True\n",
    "                    queue.append((nr, nc))\n",
    "    \n",
    "    return image"
   ]
  },
  {
   "cell_type": "markdown",
   "id": "e7523587",
   "metadata": {},
   "source": [
    "#### 695. Max Area of Island"
   ]
  },
  {
   "cell_type": "code",
   "execution_count": null,
   "id": "36b81aa5",
   "metadata": {},
   "outputs": [],
   "source": [
    "from collections import deque\n",
    "\n",
    "def maxAreaOfIsland(grid: List[List[int]]) -> int:\n",
    "    n, m = len(grid), len(grid[0])\n",
    "    visited = [[False] * m for _ in range(n)]\n",
    "\n",
    "    max_area = 0\n",
    "    moves = [(0, 1), (1, 0), (0, -1), (-1, 0)]\n",
    "    for i in range(n):\n",
    "        for j in range(m):\n",
    "            if not visited[i][j] and grid[i][j] == 1:\n",
    "                area, visited = bfs(grid, (i, j), visited, moves)\n",
    "                max_area = max(max_area, area)\n",
    "                \n",
    "    return max_area\n",
    "                \n",
    "def bfs(grid, start, visited, moves):\n",
    "    r, c = start\n",
    "    queue = deque([(r, c)])\n",
    "    visited[r][c] = True\n",
    "    \n",
    "    area = 1\n",
    "    while queue:\n",
    "        r, c = queue.popleft()\n",
    "        \n",
    "        for move in moves:\n",
    "            nr = r + move[0]\n",
    "            nc = c + move[1]\n",
    "        \n",
    "            if (0 <= nr < n) and (0 <= nc < m):\n",
    "                if not visited[nr][nc] and grid[nc][nc] == 1:\n",
    "                    area += 1\n",
    "                    queue.append((nr, nc)\n",
    "                    visited[nr][nc] = True\n",
    "        \n",
    "    return area\n",
    "    "
   ]
  },
  {
   "cell_type": "markdown",
   "id": "e1a18562",
   "metadata": {},
   "source": [
    "#### 542. 01 Matrix"
   ]
  },
  {
   "cell_type": "code",
   "execution_count": 6,
   "id": "da17a636",
   "metadata": {},
   "outputs": [],
   "source": [
    "from typing import List\n",
    "from collections import deque\n",
    "\n",
    "\n",
    "def updateMatrix(mat: List[List[int]]) -> List[List[int]]:\n",
    "    n, m = len(mat), len(mat[0])\n",
    "    dist = [[0] * m for _ in range(n)]\n",
    "    moves = [(0, 1), (1, 0), (0, -1), (-1, 0)]\n",
    "    \n",
    "    for i in range(n):\n",
    "        for j in range(m):\n",
    "            if mat[i][j] == 1:\n",
    "                dist = bfs(mat, dist, moves, (i, j), (n, m))\n",
    "    \n",
    "    return dist\n",
    "    \n",
    "def bfs(mat, dist, moves, start, size):\n",
    "    n, m = size\n",
    "    r, c = start\n",
    "    visited = [[False] * m for _ in range(n)]\n",
    "    \n",
    "    queue = deque([(r, c, 0)])\n",
    "    min_d = n + m\n",
    "    while queue:\n",
    "        r, c, d = queue.popleft()\n",
    "        \n",
    "        for move in moves:\n",
    "            nr = r + move[0]\n",
    "            nc = c + move[1]\n",
    "            if (0 <= nr < n) and (0 <= nc < m):\n",
    "                if not visited[nr][nc]:\n",
    "                    if mat[nr][nc] == 1:\n",
    "                        queue.append((nr, nc, d + 1))\n",
    "                        visited[nr][nc] = True\n",
    "                    else:\n",
    "                        min_d = min(min_d, d + 1)\n",
    "                        visited[nr][nc] = True\n",
    "    else:\n",
    "        dist[start[0]][start[1]] = min_d\n",
    "    \n",
    "    return dist"
   ]
  },
  {
   "cell_type": "code",
   "execution_count": 7,
   "id": "7f173274",
   "metadata": {},
   "outputs": [
    {
     "name": "stdout",
     "output_type": "stream",
     "text": [
      "[[0, 0, 0], [0, 1, 0], [1, 2, 1]]\n"
     ]
    }
   ],
   "source": [
    "mat = [[0,0,0],[0,1,0],[1,1,1]]\n",
    "ans = updateMatrix(mat)\n",
    "print(ans)"
   ]
  },
  {
   "cell_type": "code",
   "execution_count": null,
   "id": "27b66782",
   "metadata": {},
   "outputs": [],
   "source": []
  }
 ],
 "metadata": {
  "kernelspec": {
   "display_name": "Python 3 (ipykernel)",
   "language": "python",
   "name": "python3"
  },
  "language_info": {
   "codemirror_mode": {
    "name": "ipython",
    "version": 3
   },
   "file_extension": ".py",
   "mimetype": "text/x-python",
   "name": "python",
   "nbconvert_exporter": "python",
   "pygments_lexer": "ipython3",
   "version": "3.8.16"
  }
 },
 "nbformat": 4,
 "nbformat_minor": 5
}
