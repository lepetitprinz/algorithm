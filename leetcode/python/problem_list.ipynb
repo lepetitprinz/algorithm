{
 "cells": [
  {
   "cell_type": "markdown",
   "id": "aa9cf666",
   "metadata": {},
   "source": [
    "#### 2. Add Two Numbers"
   ]
  },
  {
   "cell_type": "code",
   "execution_count": 11,
   "id": "6915af89",
   "metadata": {},
   "outputs": [],
   "source": [
    "def addTwoNumbers(l1, l2):\n",
    "        \n",
    "    return l1, l2"
   ]
  },
  {
   "cell_type": "markdown",
   "id": "0e0d6d8c",
   "metadata": {},
   "source": [
    "#### 3. Longest Substring Without Repeating Characters"
   ]
  },
  {
   "cell_type": "code",
   "execution_count": 49,
   "id": "27fc1cee",
   "metadata": {},
   "outputs": [],
   "source": [
    "def lengthOfLongestSubstring(self, s: str) -> int:\n",
    "    str_length = len(s)\n",
    "    if str_length == 1:\n",
    "        max_sub_string_length = 1\n",
    "    else:\n",
    "        max_sub_string_length = 0\n",
    "\n",
    "    for i in range(str_length):\n",
    "        length = 0\n",
    "        history = set()\n",
    "        for j in range(i, str_length):\n",
    "            char = s[j]\n",
    "            if char in history:\n",
    "                if length > max_sub_string_length:\n",
    "                    max_sub_string_length = length\n",
    "                length = 1\n",
    "                history = {char}\n",
    "            else:\n",
    "                length += 1\n",
    "                history.add(char)\n",
    "        else:\n",
    "            if length > max_sub_string_length:\n",
    "                max_sub_string_length = length\n",
    "\n",
    "    return max_sub_string_length"
   ]
  },
  {
   "cell_type": "markdown",
   "id": "e1fedde3",
   "metadata": {},
   "source": [
    "#### 1480. Running Sum of 1d Array"
   ]
  },
  {
   "cell_type": "code",
   "execution_count": 57,
   "id": "c659425f",
   "metadata": {},
   "outputs": [],
   "source": [
    "from typing import List\n",
    "\n",
    "def runningSum(nums: List[int]) -> List[int]:\n",
    "    i = 1\n",
    "    while(i < len(nums)):\n",
    "        nums[i] += nums[i - 1]\n",
    "        i += 1\n",
    "\n",
    "    return nums"
   ]
  },
  {
   "cell_type": "code",
   "execution_count": 58,
   "id": "3283d637",
   "metadata": {},
   "outputs": [
    {
     "name": "stdout",
     "output_type": "stream",
     "text": [
      "[1, 3, 6, 10, 15]\n"
     ]
    }
   ],
   "source": [
    "q = [1, 2, 3, 4, 5]\n",
    "print(runningSum(q))"
   ]
  },
  {
   "cell_type": "code",
   "execution_count": null,
   "id": "70e9b750",
   "metadata": {},
   "outputs": [],
   "source": []
  }
 ],
 "metadata": {
  "kernelspec": {
   "display_name": "Python 3 (ipykernel)",
   "language": "python",
   "name": "python3"
  },
  "language_info": {
   "codemirror_mode": {
    "name": "ipython",
    "version": 3
   },
   "file_extension": ".py",
   "mimetype": "text/x-python",
   "name": "python",
   "nbconvert_exporter": "python",
   "pygments_lexer": "ipython3",
   "version": "3.8.16"
  }
 },
 "nbformat": 4,
 "nbformat_minor": 5
}
