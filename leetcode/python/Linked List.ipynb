{
 "cells": [
  {
   "cell_type": "code",
   "execution_count": 1,
   "id": "e5376646",
   "metadata": {},
   "outputs": [],
   "source": [
    "from typing import Optional\n",
    "\n",
    "class ListNode:\n",
    "    def __init__(self, val=0, next=None):\n",
    "        self.val = val\n",
    "        self.next = next\n",
    "\n",
    "def LinkedList(head):\n",
    "    nodes = []\n",
    "    for val in head:\n",
    "        node = ListNode(val)\n",
    "        if len(nodes) > 0:\n",
    "            nodes[-1].next = node\n",
    "        nodes.append(node)\n",
    "    nodes[-1].next = None\n",
    "\n",
    "    return nodes[0]    "
   ]
  },
  {
   "cell_type": "markdown",
   "id": "8b821ebc",
   "metadata": {},
   "source": [
    "#### 141. Linked List Cycle"
   ]
  },
  {
   "cell_type": "code",
   "execution_count": 32,
   "id": "6351a6f2",
   "metadata": {},
   "outputs": [],
   "source": [
    "def hasCycle(head: Optional[ListNode]) -> bool:\n",
    "    node_set = set()\n",
    "    while(head):\n",
    "        if head in node_set:\n",
    "            return True\n",
    "        node_set.add(head)\n",
    "        head = head.next\n",
    "\n",
    "    return False"
   ]
  },
  {
   "cell_type": "code",
   "execution_count": 33,
   "id": "8c4caeef",
   "metadata": {
    "collapsed": true
   },
   "outputs": [
    {
     "name": "stdout",
     "output_type": "stream",
     "text": [
      "True\n",
      "True\n",
      "False\n"
     ]
    }
   ],
   "source": [
    "head = [3, 2, 0, -4]\n",
    "pos = 1\n",
    "linked_list = LinkedList(head, pos)\n",
    "print(hasCycle(linked_list[0]))\n",
    "\n",
    "head = [1, 2]\n",
    "pos = 0\n",
    "linked_list = LinkedList(head, pos)\n",
    "print(hasCycle(linked_list[0]))\n",
    "\n",
    "head = [1]\n",
    "pos = -1\n",
    "linked_list = LinkedList(head, pos)\n",
    "print(hasCycle(linked_list[0]))"
   ]
  },
  {
   "cell_type": "markdown",
   "id": "46b88716",
   "metadata": {},
   "source": [
    "#### 21. Merge Two Sorted Lists"
   ]
  },
  {
   "cell_type": "code",
   "execution_count": 8,
   "id": "29f38908",
   "metadata": {},
   "outputs": [],
   "source": [
    "def mergeTwoLists(list1: Optional[ListNode], list2: Optional[ListNode]) -> Optional[ListNode]:\n",
    "    curr = temp = ListNode()\n",
    "    while list1 and list2:\n",
    "        if list1.val < list2.val:\n",
    "            curr.next = list1\n",
    "            curr = curr.next\n",
    "            list1 = list1.next\n",
    "        else:\n",
    "            curr.next = list2\n",
    "            curr = curr.next\n",
    "            list2 = list2.next\n",
    "\n",
    "    if list1 or list2:\n",
    "        curr.next = list1 if list1 else list2\n",
    "\n",
    "    return temp.next"
   ]
  },
  {
   "cell_type": "code",
   "execution_count": 12,
   "id": "4bfdfe8c",
   "metadata": {},
   "outputs": [
    {
     "name": "stdout",
     "output_type": "stream",
     "text": [
      "1 1 2 3 4 4\n"
     ]
    }
   ],
   "source": [
    "list1 = [1, 2, 4]\n",
    "list2 = [1, 3, 4]\n",
    "linked_list1 = linked_list(list1)\n",
    "linked_list2 = linked_list(list2)\n",
    "result = mergeTwoLists(linked_list1, linked_list2)\n",
    "ans = []\n",
    "while result:\n",
    "    ans.append(result.val)\n",
    "    result = result.next\n",
    "print(*ans)"
   ]
  },
  {
   "cell_type": "markdown",
   "id": "312f45e4",
   "metadata": {},
   "source": [
    "#### 203. Remove Linked List Elements"
   ]
  },
  {
   "cell_type": "code",
   "execution_count": 15,
   "id": "82b537bb",
   "metadata": {},
   "outputs": [],
   "source": [
    "def removeElements(head: Optional[ListNode], val: int) -> Optional[ListNode]:\n",
    "    curr = dummy = ListNode()\n",
    "    while head:\n",
    "        if head.val != val:\n",
    "            curr.next = head\n",
    "            curr = curr.next\n",
    "        head = head.next\n",
    "    else:\n",
    "        if curr.next is not None and curr.next.val == val:\n",
    "            curr.next = None\n",
    "\n",
    "    return dummy.next"
   ]
  },
  {
   "cell_type": "code",
   "execution_count": 16,
   "id": "92b2f770",
   "metadata": {},
   "outputs": [
    {
     "name": "stdout",
     "output_type": "stream",
     "text": [
      "1 2 3 4 5\n"
     ]
    }
   ],
   "source": [
    "head = [1,2,6,3,4,5,6]\n",
    "val = 6\n",
    "linked_list = LinkedList(head)\n",
    "\n",
    "result = removeElements(linked_list, val)\n",
    "ans = []\n",
    "while result:\n",
    "    ans.append(result.val)\n",
    "    result = result.next\n",
    "print(*ans)"
   ]
  },
  {
   "cell_type": "markdown",
   "id": "6b2d0943",
   "metadata": {},
   "source": [
    "#### 876. Middle of the Linked List"
   ]
  },
  {
   "cell_type": "code",
   "execution_count": 14,
   "id": "2860fb53",
   "metadata": {},
   "outputs": [],
   "source": [
    "from math import floor\n",
    "        \n",
    "def middleNode(head: Optional[ListNode]) -> Optional[ListNode]:\n",
    "    dummy = ListNode()\n",
    "    length = 0\n",
    "    while head:\n",
    "        length += 1\n",
    "        dummy.next = head\n",
    "        head = head.next\n",
    "        \n",
    "    mid = length // 2 + 1\n",
    "    \n",
    "    while dummy and mid > 0:\n",
    "        dummy = dummy.next\n",
    "        mid -= 1\n",
    "        \n",
    "    return dummy\n",
    "\n",
    "def middleNode(head: Optional[ListNode]) -> Optional[ListNode]:\n",
    "    mid=head\n",
    "    end=head\n",
    "    while end!=None and end.next!=None:\n",
    "        mid=mid.next\n",
    "        end=end.next.next\n",
    "        \n",
    "    return mid"
   ]
  },
  {
   "cell_type": "code",
   "execution_count": 15,
   "id": "98011a7d",
   "metadata": {},
   "outputs": [
    {
     "name": "stdout",
     "output_type": "stream",
     "text": [
      "3\n",
      "3\n"
     ]
    }
   ],
   "source": [
    "ans1 = middleNode(LinkedList([1, 2, 3, 4, 5]))\n",
    "print(ans1.val)\n",
    "ans2 = middleNode(LinkedList([1, 2, 3, 4]))\n",
    "print(ans2.val)"
   ]
  },
  {
   "cell_type": "markdown",
   "id": "d169fd87",
   "metadata": {},
   "source": [
    "#### 19. Remove Nth Node From End of List"
   ]
  },
  {
   "cell_type": "code",
   "execution_count": 22,
   "id": "da888a83",
   "metadata": {},
   "outputs": [],
   "source": [
    "def removeNthFromEnd(head: Optional[ListNode], n: int) -> Optional[ListNode]:\n",
    "    length = 0\n",
    "    curr = dummy = ListNode()\n",
    "    while head:\n",
    "        length += 1\n",
    "        dummy.next = head\n",
    "        dummy = dummy.next\n",
    "        head = head.next\n",
    "    \n",
    "    loc = length - n + 1\n",
    "    dummy = curr\n",
    "    cnt = 0\n",
    "    while curr:\n",
    "        cnt += 1\n",
    "        if cnt == loc:\n",
    "            curr.next = curr.next.next\n",
    "            break\n",
    "        curr = curr.next\n",
    "            \n",
    "    return dummy.next\n",
    "\n",
    "def removeNthFromEnd(head, n):\n",
    "    l, r = head, head\n",
    "    for i in range(n):\n",
    "        r = r.next\n",
    "    if not r:\n",
    "        return head.next\n",
    "    while r.next:\n",
    "        l = l.next\n",
    "        r = r.next\n",
    "    l.next = l.next.next\n",
    "    return head"
   ]
  },
  {
   "cell_type": "code",
   "execution_count": 23,
   "id": "9a186102",
   "metadata": {},
   "outputs": [],
   "source": [
    "linked_list = LinkedList([1,2,3,4,5])\n",
    "ans = removeNthFromEnd(linked_list, 2)\n",
    "ans.val"
   ]
  },
  {
   "cell_type": "markdown",
   "id": "efadffc3",
   "metadata": {},
   "source": [
    "#### 206. Reverse Linked List"
   ]
  },
  {
   "cell_type": "code",
   "execution_count": null,
   "id": "a9850d7c",
   "metadata": {},
   "outputs": [],
   "source": [
    "def reverseList(head: Optional[ListNode]) -> Optional[ListNode]:\n",
    "    "
   ]
  }
 ],
 "metadata": {
  "kernelspec": {
   "display_name": "Python 3 (ipykernel)",
   "language": "python",
   "name": "python3"
  },
  "language_info": {
   "codemirror_mode": {
    "name": "ipython",
    "version": 3
   },
   "file_extension": ".py",
   "mimetype": "text/x-python",
   "name": "python",
   "nbconvert_exporter": "python",
   "pygments_lexer": "ipython3",
   "version": "3.8.16"
  }
 },
 "nbformat": 4,
 "nbformat_minor": 5
}
