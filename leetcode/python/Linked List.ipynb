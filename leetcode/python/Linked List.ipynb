{
 "cells": [
  {
   "cell_type": "code",
   "execution_count": 1,
   "id": "e5376646",
   "metadata": {},
   "outputs": [],
   "source": [
    "from typing import Optional"
   ]
  },
  {
   "cell_type": "markdown",
   "id": "8b821ebc",
   "metadata": {},
   "source": [
    "#### 141. Linked List Cycle"
   ]
  },
  {
   "cell_type": "code",
   "execution_count": 32,
   "id": "6351a6f2",
   "metadata": {},
   "outputs": [],
   "source": [
    "class ListNode:\n",
    "    def __init__(self, x):\n",
    "        self.val = x\n",
    "        self.next = None\n",
    "\n",
    "def LinkedList(head, pos):\n",
    "    nodes = []\n",
    "    for val in head:\n",
    "        node = ListNode(val)\n",
    "        if len(nodes) > 0:\n",
    "            nodes[-1].next = node\n",
    "        nodes.append(node)\n",
    "\n",
    "    if pos != -1:\n",
    "        nodes[-1].next = nodes[pos]\n",
    "    \n",
    "    return nodes\n",
    "        \n",
    "def hasCycle(head: Optional[ListNode]) -> bool:\n",
    "    node_set = set()\n",
    "    while(head):\n",
    "        if head in node_set:\n",
    "            return True\n",
    "        node_set.add(head)\n",
    "        head = head.next\n",
    "\n",
    "    return False"
   ]
  },
  {
   "cell_type": "code",
   "execution_count": 33,
   "id": "8c4caeef",
   "metadata": {},
   "outputs": [
    {
     "name": "stdout",
     "output_type": "stream",
     "text": [
      "True\n",
      "True\n",
      "False\n"
     ]
    }
   ],
   "source": [
    "head = [3, 2, 0, -4]\n",
    "pos = 1\n",
    "linked_list = LinkedList(head, pos)\n",
    "print(hasCycle(linked_list[0]))\n",
    "\n",
    "head = [1, 2]\n",
    "pos = 0\n",
    "linked_list = LinkedList(head, pos)\n",
    "print(hasCycle(linked_list[0]))\n",
    "\n",
    "head = [1]\n",
    "pos = -1\n",
    "linked_list = LinkedList(head, pos)\n",
    "print(hasCycle(linked_list[0]))"
   ]
  },
  {
   "cell_type": "code",
   "execution_count": null,
   "id": "7189481b",
   "metadata": {},
   "outputs": [],
   "source": []
  }
 ],
 "metadata": {
  "kernelspec": {
   "display_name": "Python 3 (ipykernel)",
   "language": "python",
   "name": "python3"
  },
  "language_info": {
   "codemirror_mode": {
    "name": "ipython",
    "version": 3
   },
   "file_extension": ".py",
   "mimetype": "text/x-python",
   "name": "python",
   "nbconvert_exporter": "python",
   "pygments_lexer": "ipython3",
   "version": "3.8.16"
  }
 },
 "nbformat": 4,
 "nbformat_minor": 5
}
