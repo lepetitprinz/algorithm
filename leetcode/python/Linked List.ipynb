{
 "cells": [
  {
   "cell_type": "code",
   "execution_count": 1,
   "id": "e5376646",
   "metadata": {},
   "outputs": [],
   "source": [
    "from typing import Optional"
   ]
  },
  {
   "cell_type": "markdown",
   "id": "8b821ebc",
   "metadata": {},
   "source": [
    "#### 141. Linked List Cycle"
   ]
  },
  {
   "cell_type": "code",
   "execution_count": 32,
   "id": "6351a6f2",
   "metadata": {},
   "outputs": [],
   "source": [
    "class ListNode:\n",
    "    def __init__(self, x):\n",
    "        self.val = x\n",
    "        self.next = None\n",
    "\n",
    "def LinkedList(head, pos):\n",
    "    nodes = []\n",
    "    for val in head:\n",
    "        node = ListNode(val)\n",
    "        if len(nodes) > 0:\n",
    "            nodes[-1].next = node\n",
    "        nodes.append(node)\n",
    "\n",
    "    if pos != -1:\n",
    "        nodes[-1].next = nodes[pos]\n",
    "    \n",
    "    return nodes\n",
    "        \n",
    "def hasCycle(head: Optional[ListNode]) -> bool:\n",
    "    node_set = set()\n",
    "    while(head):\n",
    "        if head in node_set:\n",
    "            return True\n",
    "        node_set.add(head)\n",
    "        head = head.next\n",
    "\n",
    "    return False"
   ]
  },
  {
   "cell_type": "code",
   "execution_count": 33,
   "id": "8c4caeef",
   "metadata": {
    "collapsed": true
   },
   "outputs": [
    {
     "name": "stdout",
     "output_type": "stream",
     "text": [
      "True\n",
      "True\n",
      "False\n"
     ]
    }
   ],
   "source": [
    "head = [3, 2, 0, -4]\n",
    "pos = 1\n",
    "linked_list = LinkedList(head, pos)\n",
    "print(hasCycle(linked_list[0]))\n",
    "\n",
    "head = [1, 2]\n",
    "pos = 0\n",
    "linked_list = LinkedList(head, pos)\n",
    "print(hasCycle(linked_list[0]))\n",
    "\n",
    "head = [1]\n",
    "pos = -1\n",
    "linked_list = LinkedList(head, pos)\n",
    "print(hasCycle(linked_list[0]))"
   ]
  },
  {
   "cell_type": "markdown",
   "id": "46b88716",
   "metadata": {},
   "source": [
    "#### 21. Merge Two Sorted Lists"
   ]
  },
  {
   "cell_type": "code",
   "execution_count": 8,
   "id": "29f38908",
   "metadata": {},
   "outputs": [],
   "source": [
    "class ListNode:\n",
    "    def __init__(self, val=0, next=None):\n",
    "        self.val = val\n",
    "        self.next = next\n",
    "        \n",
    "def linked_list(head):\n",
    "    nodes = []\n",
    "    for val in head:\n",
    "        node = ListNode(val)\n",
    "        if len(nodes) > 0:\n",
    "            nodes[-1].next = node\n",
    "        nodes.append(node)\n",
    "    nodes[-1].next = None\n",
    "\n",
    "    return nodes[0]\n",
    "\n",
    "def mergeTwoLists(list1: Optional[ListNode], list2: Optional[ListNode]) -> Optional[ListNode]:\n",
    "    curr = temp = ListNode()\n",
    "    while list1 and list2:\n",
    "        if list1.val < list2.val:\n",
    "            curr.next = list1\n",
    "            curr = curr.next\n",
    "            list1 = list1.next\n",
    "        else:\n",
    "            curr.next = list2\n",
    "            curr = curr.next\n",
    "            list2 = list2.next\n",
    "\n",
    "    if list1 or list2:\n",
    "        curr.next = list1 if list1 else list2\n",
    "\n",
    "    return temp.next"
   ]
  },
  {
   "cell_type": "code",
   "execution_count": 12,
   "id": "4bfdfe8c",
   "metadata": {},
   "outputs": [
    {
     "name": "stdout",
     "output_type": "stream",
     "text": [
      "1 1 2 3 4 4\n"
     ]
    }
   ],
   "source": [
    "list1 = [1, 2, 4]\n",
    "list2 = [1, 3, 4]\n",
    "linked_list1 = linked_list(list1)\n",
    "linked_list2 = linked_list(list2)\n",
    "result = mergeTwoLists(linked_list1, linked_list2)\n",
    "ans = []\n",
    "while result:\n",
    "    ans.append(result.val)\n",
    "    result = result.next\n",
    "print(*ans)"
   ]
  },
  {
   "cell_type": "markdown",
   "id": "312f45e4",
   "metadata": {},
   "source": [
    "#### 203. Remove Linked List Elements"
   ]
  },
  {
   "cell_type": "code",
   "execution_count": 15,
   "id": "82b537bb",
   "metadata": {},
   "outputs": [],
   "source": [
    "class ListNode:\n",
    "    def __init__(self, val=0, next=None):\n",
    "        self.val = val\n",
    "        self.next = next\n",
    "\n",
    "\n",
    "def LinkedList(head):\n",
    "    nodes = []\n",
    "    for val in head:\n",
    "        node = ListNode(val)\n",
    "        if len(nodes) > 0:\n",
    "            nodes[-1].next = node\n",
    "        nodes.append(node)\n",
    "    nodes[-1].next = None\n",
    "\n",
    "    return nodes[0]\n",
    "\n",
    "\n",
    "def removeElements(head: Optional[ListNode], val: int) -> Optional[ListNode]:\n",
    "    curr = dummy = ListNode()\n",
    "    while head:\n",
    "        if head.val != val:\n",
    "            curr.next = head\n",
    "            curr = curr.next\n",
    "        head = head.next\n",
    "    else:\n",
    "        if curr.next is not None and curr.next.val == val:\n",
    "            curr.next = None\n",
    "\n",
    "    return dummy.next"
   ]
  },
  {
   "cell_type": "code",
   "execution_count": 16,
   "id": "92b2f770",
   "metadata": {},
   "outputs": [
    {
     "name": "stdout",
     "output_type": "stream",
     "text": [
      "1 2 3 4 5\n"
     ]
    }
   ],
   "source": [
    "head = [1,2,6,3,4,5,6]\n",
    "val = 6\n",
    "linked_list = LinkedList(head)\n",
    "\n",
    "result = removeElements(linked_list, val)\n",
    "ans = []\n",
    "while result:\n",
    "    ans.append(result.val)\n",
    "    result = result.next\n",
    "print(*ans)"
   ]
  },
  {
   "cell_type": "code",
   "execution_count": null,
   "id": "7b8ee0f0",
   "metadata": {},
   "outputs": [],
   "source": []
  }
 ],
 "metadata": {
  "kernelspec": {
   "display_name": "Python 3 (ipykernel)",
   "language": "python",
   "name": "python3"
  },
  "language_info": {
   "codemirror_mode": {
    "name": "ipython",
    "version": 3
   },
   "file_extension": ".py",
   "mimetype": "text/x-python",
   "name": "python",
   "nbconvert_exporter": "python",
   "pygments_lexer": "ipython3",
   "version": "3.8.16"
  }
 },
 "nbformat": 4,
 "nbformat_minor": 5
}
