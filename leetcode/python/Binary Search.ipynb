{
 "cells": [
  {
   "cell_type": "code",
   "execution_count": 3,
   "id": "b8ce3caf",
   "metadata": {},
   "outputs": [],
   "source": [
    "from typing import List"
   ]
  },
  {
   "cell_type": "markdown",
   "id": "38f57ddd",
   "metadata": {},
   "source": [
    "#### 704. Binary Search"
   ]
  },
  {
   "cell_type": "code",
   "execution_count": 8,
   "id": "dd7a2aa6",
   "metadata": {},
   "outputs": [],
   "source": [
    "def search(nums: List[int], target: int) -> int:\n",
    "    start = 0\n",
    "    end = len(nums) - 1\n",
    "    \n",
    "    while start <= end:\n",
    "        mid = (start + end) // 2\n",
    "        \n",
    "        num = nums[mid]\n",
    "        if num == target:\n",
    "            return mid\n",
    "        elif num < target:\n",
    "            start = mid + 1\n",
    "        else:\n",
    "            end = mid - 1\n",
    "    else:\n",
    "        return -1"
   ]
  },
  {
   "cell_type": "code",
   "execution_count": 9,
   "id": "e58b4628",
   "metadata": {
    "collapsed": true
   },
   "outputs": [
    {
     "name": "stdout",
     "output_type": "stream",
     "text": [
      "4\n",
      "-1\n"
     ]
    },
    {
     "ename": "IndexError",
     "evalue": "list index out of range",
     "output_type": "error",
     "traceback": [
      "\u001b[0;31m---------------------------------------------------------------------------\u001b[0m",
      "\u001b[0;31mIndexError\u001b[0m                                Traceback (most recent call last)",
      "Cell \u001b[0;32mIn [9], line 3\u001b[0m\n\u001b[1;32m      1\u001b[0m \u001b[38;5;28mprint\u001b[39m(search(nums\u001b[38;5;241m=\u001b[39m[\u001b[38;5;241m-\u001b[39m\u001b[38;5;241m1\u001b[39m,\u001b[38;5;241m0\u001b[39m,\u001b[38;5;241m3\u001b[39m,\u001b[38;5;241m5\u001b[39m,\u001b[38;5;241m9\u001b[39m,\u001b[38;5;241m12\u001b[39m], target\u001b[38;5;241m=\u001b[39m\u001b[38;5;241m9\u001b[39m))\n\u001b[1;32m      2\u001b[0m \u001b[38;5;28mprint\u001b[39m(search(nums\u001b[38;5;241m=\u001b[39m[\u001b[38;5;241m-\u001b[39m\u001b[38;5;241m1\u001b[39m,\u001b[38;5;241m0\u001b[39m,\u001b[38;5;241m3\u001b[39m,\u001b[38;5;241m5\u001b[39m,\u001b[38;5;241m9\u001b[39m,\u001b[38;5;241m12\u001b[39m], target\u001b[38;5;241m=\u001b[39m\u001b[38;5;241m2\u001b[39m))\n\u001b[0;32m----> 3\u001b[0m \u001b[38;5;28mprint\u001b[39m(\u001b[43msearch\u001b[49m\u001b[43m(\u001b[49m\u001b[43mnums\u001b[49m\u001b[38;5;241;43m=\u001b[39;49m\u001b[43m[\u001b[49m\u001b[38;5;241;43m-\u001b[39;49m\u001b[38;5;241;43m1\u001b[39;49m\u001b[43m,\u001b[49m\u001b[38;5;241;43m0\u001b[39;49m\u001b[43m,\u001b[49m\u001b[38;5;241;43m3\u001b[39;49m\u001b[43m,\u001b[49m\u001b[38;5;241;43m5\u001b[39;49m\u001b[43m,\u001b[49m\u001b[38;5;241;43m9\u001b[39;49m\u001b[43m,\u001b[49m\u001b[38;5;241;43m12\u001b[39;49m\u001b[43m]\u001b[49m\u001b[43m,\u001b[49m\u001b[43m \u001b[49m\u001b[43mtarget\u001b[49m\u001b[38;5;241;43m=\u001b[39;49m\u001b[38;5;241;43m13\u001b[39;49m\u001b[43m)\u001b[49m)\n",
      "Cell \u001b[0;32mIn [8], line 8\u001b[0m, in \u001b[0;36msearch\u001b[0;34m(nums, target)\u001b[0m\n\u001b[1;32m      5\u001b[0m \u001b[38;5;28;01mwhile\u001b[39;00m start \u001b[38;5;241m<\u001b[39m\u001b[38;5;241m=\u001b[39m end:\n\u001b[1;32m      6\u001b[0m     mid \u001b[38;5;241m=\u001b[39m (start \u001b[38;5;241m+\u001b[39m end) \u001b[38;5;241m/\u001b[39m\u001b[38;5;241m/\u001b[39m \u001b[38;5;241m2\u001b[39m\n\u001b[0;32m----> 8\u001b[0m     num \u001b[38;5;241m=\u001b[39m \u001b[43mnums\u001b[49m\u001b[43m[\u001b[49m\u001b[43mmid\u001b[49m\u001b[43m]\u001b[49m\n\u001b[1;32m      9\u001b[0m     \u001b[38;5;28;01mif\u001b[39;00m num \u001b[38;5;241m==\u001b[39m target:\n\u001b[1;32m     10\u001b[0m         \u001b[38;5;28;01mreturn\u001b[39;00m mid\n",
      "\u001b[0;31mIndexError\u001b[0m: list index out of range"
     ]
    }
   ],
   "source": [
    "print(search(nums=[-1,0,3,5,9,12], target=9))\n",
    "print(search(nums=[-1,0,3,5,9,12], target=2))\n",
    "print(search(nums=[-1,0,3,5,9,12], target=13))"
   ]
  },
  {
   "cell_type": "markdown",
   "id": "25b110eb",
   "metadata": {},
   "source": [
    "#### 74. Search a 2D Matrix"
   ]
  },
  {
   "cell_type": "code",
   "execution_count": 4,
   "id": "bbb38a83",
   "metadata": {},
   "outputs": [],
   "source": [
    "def searchMatrix(matrix: List[List[int]], target: int) -> bool:\n",
    "    height = len(matrix) \n",
    "    width = len(matrix[0])\n",
    "    \n",
    "    start = 0\n",
    "    end = height * width- 1\n",
    "    while start <= end:\n",
    "        mid = (start + end) // 2\n",
    "        value = matrix[mid // width][mid % width]\n",
    "        if value == target:\n",
    "            return True\n",
    "        elif value < target:\n",
    "            start = mid + 1\n",
    "        else:\n",
    "            end = mid - 1\n",
    "    \n",
    "    return False"
   ]
  },
  {
   "cell_type": "code",
   "execution_count": 6,
   "id": "154fcc86",
   "metadata": {
    "scrolled": true
   },
   "outputs": [
    {
     "name": "stdout",
     "output_type": "stream",
     "text": [
      "False\n"
     ]
    }
   ],
   "source": [
    "matrix = [[1,3,5,7],[10,11,16,20],[23,30,34,60]]\n",
    "target = 3\n",
    "print(searchMatrix(matrix, target))"
   ]
  },
  {
   "cell_type": "markdown",
   "id": "ee477708",
   "metadata": {},
   "source": [
    "#### 278. First Bad Version"
   ]
  },
  {
   "cell_type": "code",
   "execution_count": 18,
   "id": "37f66e23",
   "metadata": {},
   "outputs": [],
   "source": [
    "class IsBadVersionApi():\n",
    "    def __init__(self, bad: int):\n",
    "        self.bad = bad\n",
    "    \n",
    "    def isBadVersion(self, n: int) -> bool:\n",
    "        if n < self.bad:\n",
    "            return False\n",
    "        else:\n",
    "            return True\n",
    "\n",
    "def firstBadVersion(n: int, api) -> int:\n",
    "    start, end = 1, n + 1\n",
    "\n",
    "    while start < end:\n",
    "        mid = (start + end) // 2\n",
    "        if api.isBadVersion(mid):\n",
    "            end = mid\n",
    "        else:\n",
    "            start = mid + 1\n",
    "            \n",
    "    return start"
   ]
  },
  {
   "cell_type": "code",
   "execution_count": 19,
   "id": "146a3fb7",
   "metadata": {},
   "outputs": [
    {
     "data": {
      "text/plain": [
       "4"
      ]
     },
     "execution_count": 19,
     "metadata": {},
     "output_type": "execute_result"
    }
   ],
   "source": [
    "n = 5\n",
    "bad = 4\n",
    "api = IsBadVersionApi(bad=4)\n",
    "firstBadVersion(n, api)"
   ]
  },
  {
   "cell_type": "markdown",
   "id": "5cdf4e0e",
   "metadata": {},
   "source": [
    "#### 35. Search Insert Position"
   ]
  },
  {
   "cell_type": "code",
   "execution_count": 30,
   "id": "213dd705",
   "metadata": {},
   "outputs": [],
   "source": [
    "def searchInsert(nums: List[int], target: int) -> int:\n",
    "    left = 0\n",
    "    right = len(nums)\n",
    "\n",
    "    ans = 0\n",
    "    while left <= right:\n",
    "        mid = (left + right) // 2\n",
    "        num = nums[mid]\n",
    "        if num > target:\n",
    "            right = mid - 1\n",
    "        elif num < target:\n",
    "            left = mid + 1\n",
    "            ans = mid + 1\n",
    "        else:\n",
    "            return mid\n",
    "        \n",
    "    return ans"
   ]
  },
  {
   "cell_type": "code",
   "execution_count": null,
   "id": "ddb8b216",
   "metadata": {},
   "outputs": [],
   "source": [
    "print(searchInsert(nums = [1,3,5,6], target=5))\n",
    "print(searchInsert(nums = [1,3,5,6], target=2))\n",
    "print(searchInsert(nums = [1,3,5,6], target=7))\n",
    "print(searchInsert(nums = [1,3,5,6], target=0))\n",
    "print(searchInsert(nums = [1,3], target=2))"
   ]
  },
  {
   "cell_type": "markdown",
   "id": "5579c0d9",
   "metadata": {},
   "source": [
    "#### 167. Two Sum II - Input Array Is Sorted"
   ]
  },
  {
   "cell_type": "code",
   "execution_count": 7,
   "id": "85c06b61",
   "metadata": {},
   "outputs": [],
   "source": [
    "from typing import List\n",
    "\n",
    "def twoSum(numbers: List[int], target: int) -> List[int]:\n",
    "    length = len(numbers)\n",
    "    \n",
    "    for i, number in enumerate(numbers):\n",
    "        idx = binary_search(numbers, number, i + 1, length - 1, target)\n",
    "        if idx != -1:\n",
    "            break\n",
    "            \n",
    "    return [i + 1, idx + 1]\n",
    "    \n",
    "def binary_search(numbers, number, left, right, target):\n",
    "    while left <= right:\n",
    "        mid = (left + right) // 2\n",
    "        two_sum = number + numbers[mid]\n",
    "        if two_sum < target:\n",
    "            left = mid + 1\n",
    "        elif two_sum > target:\n",
    "            right = mid - 1\n",
    "        else:\n",
    "            return mid\n",
    "    \n",
    "    return -1"
   ]
  },
  {
   "cell_type": "code",
   "execution_count": 5,
   "id": "15f7b394",
   "metadata": {},
   "outputs": [],
   "source": [
    "from bisect import bisect_right, bisect_left\n",
    "\n",
    "def twoSum(numbers: List[int], target: int) -> List[int]:\n",
    "    sup = min(bisect_right(numbers, max(target, target - numbers[0])), len(numbers) - 1)\n",
    "\n",
    "    for right in range(sup, 0, -1):\n",
    "        left = bisect_left(numbers[:right], target - numbers[right])\n",
    "        if numbers[left] + numbers[right] == target:\n",
    "            return [left + 1, right + 1]"
   ]
  },
  {
   "cell_type": "code",
   "execution_count": 8,
   "id": "1dcc9c2a",
   "metadata": {},
   "outputs": [
    {
     "name": "stdout",
     "output_type": "stream",
     "text": [
      "[1, 2]\n",
      "[1, 3]\n",
      "[1, 2]\n"
     ]
    }
   ],
   "source": [
    "print(twoSum([2,7,11,15], 9))\n",
    "print(twoSum([2,3,4], 6))\n",
    "print(twoSum([-1, 0], -1))"
   ]
  },
  {
   "cell_type": "code",
   "execution_count": null,
   "id": "65fbc9bf",
   "metadata": {},
   "outputs": [],
   "source": []
  }
 ],
 "metadata": {
  "kernelspec": {
   "display_name": "Python 3 (ipykernel)",
   "language": "python",
   "name": "python3"
  },
  "language_info": {
   "codemirror_mode": {
    "name": "ipython",
    "version": 3
   },
   "file_extension": ".py",
   "mimetype": "text/x-python",
   "name": "python",
   "nbconvert_exporter": "python",
   "pygments_lexer": "ipython3",
   "version": "3.8.16"
  }
 },
 "nbformat": 4,
 "nbformat_minor": 5
}
