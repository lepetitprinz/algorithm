{
 "cells": [
  {
   "cell_type": "markdown",
   "id": "442d4010",
   "metadata": {},
   "source": [
    "#### 53. Maximum Subarray"
   ]
  },
  {
   "cell_type": "code",
   "execution_count": 8,
   "id": "295b90e4",
   "metadata": {},
   "outputs": [],
   "source": [
    "def maxSubArray(nums):\n",
    "    length = len(nums)\n",
    "    d = [0] * length\n",
    "    d[0] = nums[0]\n",
    "    \n",
    "    for i in range(1, length):\n",
    "        num = nums[i]\n",
    "        d[i] = max(num, d[i - 1] + num)\n",
    "    \n",
    "    return max(d)\n",
    "\n",
    "def maxSubArray(nums):\n",
    "    length = len(nums)\n",
    "    prev = nums[0]\n",
    "    \n",
    "    max_val = prev\n",
    "    for i in range(1, length):\n",
    "        num = nums[i]\n",
    "        curr = max(num, prev + num)\n",
    "        if curr > max_val:\n",
    "            max_val = curr\n",
    "        prev = curr\n",
    "    \n",
    "    return max_val"
   ]
  },
  {
   "cell_type": "code",
   "execution_count": 19,
   "id": "5d979c87",
   "metadata": {},
   "outputs": [
    {
     "name": "stdout",
     "output_type": "stream",
     "text": [
      "6\n",
      "23\n"
     ]
    }
   ],
   "source": [
    "nums = [-2,1,-3,4,-1,2,1,-5,4]\n",
    "print(maxSubArray(nums))\n",
    "\n",
    "nums = [5,4,-1,7,8]\n",
    "print(maxSubArray(nums))"
   ]
  },
  {
   "cell_type": "code",
   "execution_count": 21,
   "id": "0acf7a8f",
   "metadata": {
    "scrolled": false
   },
   "outputs": [
    {
     "data": {
      "text/plain": [
       "'test'"
      ]
     },
     "execution_count": 21,
     "metadata": {},
     "output_type": "execute_result"
    }
   ],
   "source": [
    "\"Test\".lower()"
   ]
  },
  {
   "cell_type": "markdown",
   "id": "a026db53",
   "metadata": {},
   "source": [
    "#### 121. Best Time to Buy and Sell Stock"
   ]
  },
  {
   "cell_type": "code",
   "execution_count": 7,
   "id": "3dbbb0f0",
   "metadata": {},
   "outputs": [],
   "source": [
    "def maxProfit(prices):\n",
    "    d = [0] * len(prices)\n",
    "    min_price = prices[0]\n",
    "    for i, price in enumerate(prices[1:]):\n",
    "        max_diff = d[i]\n",
    "        if price < min_price:\n",
    "            diff = max(prices[i + 1:]) - price\n",
    "            if diff > max_diff:\n",
    "                d[i + 1] = diff\n",
    "            min_price = price\n",
    "        else:\n",
    "            d[i + 1] = max_diff\n",
    "\n",
    "    return d[-1]"
   ]
  },
  {
   "cell_type": "code",
   "execution_count": 8,
   "id": "10109959",
   "metadata": {},
   "outputs": [
    {
     "name": "stdout",
     "output_type": "stream",
     "text": [
      "5\n"
     ]
    }
   ],
   "source": [
    "print(maxProfit([7,1,5,3,6,4]))"
   ]
  },
  {
   "cell_type": "code",
   "execution_count": null,
   "id": "28898548",
   "metadata": {},
   "outputs": [],
   "source": []
  }
 ],
 "metadata": {
  "kernelspec": {
   "display_name": "Python 3 (ipykernel)",
   "language": "python",
   "name": "python3"
  },
  "language_info": {
   "codemirror_mode": {
    "name": "ipython",
    "version": 3
   },
   "file_extension": ".py",
   "mimetype": "text/x-python",
   "name": "python",
   "nbconvert_exporter": "python",
   "pygments_lexer": "ipython3",
   "version": "3.8.16"
  }
 },
 "nbformat": 4,
 "nbformat_minor": 5
}
