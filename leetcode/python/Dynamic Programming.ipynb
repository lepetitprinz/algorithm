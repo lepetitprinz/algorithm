{
 "cells": [
  {
   "cell_type": "markdown",
   "id": "442d4010",
   "metadata": {},
   "source": [
    "#### 53. Maximum Subarray"
   ]
  },
  {
   "cell_type": "code",
   "execution_count": 8,
   "id": "295b90e4",
   "metadata": {},
   "outputs": [],
   "source": [
    "def maxSubArray(nums):\n",
    "    length = len(nums)\n",
    "    d = [0] * length\n",
    "    d[0] = nums[0]\n",
    "    \n",
    "    for i in range(1, length):\n",
    "        num = nums[i]\n",
    "        d[i] = max(num, d[i - 1] + num)\n",
    "    \n",
    "    return max(d)\n",
    "\n",
    "def maxSubArray(nums):\n",
    "    length = len(nums)\n",
    "    prev = nums[0]\n",
    "    \n",
    "    max_val = prev\n",
    "    for i in range(1, length):\n",
    "        num = nums[i]\n",
    "        curr = max(num, prev + num)\n",
    "        if curr > max_val:\n",
    "            max_val = curr\n",
    "        prev = curr\n",
    "    \n",
    "    return max_val"
   ]
  },
  {
   "cell_type": "code",
   "execution_count": 19,
   "id": "5d979c87",
   "metadata": {},
   "outputs": [
    {
     "name": "stdout",
     "output_type": "stream",
     "text": [
      "6\n",
      "23\n"
     ]
    }
   ],
   "source": [
    "nums = [-2,1,-3,4,-1,2,1,-5,4]\n",
    "print(maxSubArray(nums))\n",
    "\n",
    "nums = [5,4,-1,7,8]\n",
    "print(maxSubArray(nums))"
   ]
  },
  {
   "cell_type": "code",
   "execution_count": 21,
   "id": "0acf7a8f",
   "metadata": {
    "scrolled": false
   },
   "outputs": [
    {
     "data": {
      "text/plain": [
       "'test'"
      ]
     },
     "execution_count": 21,
     "metadata": {},
     "output_type": "execute_result"
    }
   ],
   "source": [
    "\"Test\".lower()"
   ]
  },
  {
   "cell_type": "markdown",
   "id": "a026db53",
   "metadata": {},
   "source": [
    "#### 121. Best Time to Buy and Sell Stock"
   ]
  },
  {
   "cell_type": "code",
   "execution_count": 7,
   "id": "3dbbb0f0",
   "metadata": {},
   "outputs": [],
   "source": [
    "def maxProfit(prices):\n",
    "    d = [0] * len(prices)\n",
    "    min_price = prices[0]\n",
    "    for i, price in enumerate(prices[1:]):\n",
    "        max_diff = d[i]\n",
    "        if price < min_price:\n",
    "            diff = max(prices[i + 1:]) - price\n",
    "            if diff > max_diff:\n",
    "                d[i + 1] = diff\n",
    "            min_price = price\n",
    "        else:\n",
    "            d[i + 1] = max_diff\n",
    "\n",
    "    return d[-1]"
   ]
  },
  {
   "cell_type": "code",
   "execution_count": 8,
   "id": "10109959",
   "metadata": {
    "scrolled": true
   },
   "outputs": [
    {
     "name": "stdout",
     "output_type": "stream",
     "text": [
      "5\n"
     ]
    }
   ],
   "source": [
    "print(maxProfit([7,1,5,3,6,4]))"
   ]
  },
  {
   "cell_type": "markdown",
   "id": "627a9f0d",
   "metadata": {},
   "source": [
    "#### 118. Pascal's Triangle"
   ]
  },
  {
   "cell_type": "code",
   "execution_count": 11,
   "id": "28898548",
   "metadata": {},
   "outputs": [],
   "source": [
    "def generate(numRows):\n",
    "    \"\"\"\n",
    "    :type numRows: int\n",
    "    :rtype: List[List[int]]\n",
    "    \"\"\"\n",
    "    ans = [[1]]\n",
    "    if numRows > 1:\n",
    "        ans.append([1, 1])\n",
    "\n",
    "    if numRows > 2:\n",
    "        for i in range(numRows - 2):\n",
    "            prev = ans[-1]\n",
    "            temp = [1]\n",
    "            for j in range(i + 1):\n",
    "                temp.append(prev[j] + prev[j + 1])\n",
    "            temp.append(1)\n",
    "            ans.append(temp)\n",
    "\n",
    "    return ans"
   ]
  },
  {
   "cell_type": "markdown",
   "id": "0d055a00",
   "metadata": {},
   "source": [
    "#### 542. 01 Matrix"
   ]
  },
  {
   "cell_type": "code",
   "execution_count": 1,
   "id": "8376acc5",
   "metadata": {},
   "outputs": [
    {
     "ename": "SyntaxError",
     "evalue": "invalid syntax (3902389259.py, line 5)",
     "output_type": "error",
     "traceback": [
      "\u001b[0;36m  Cell \u001b[0;32mIn [1], line 5\u001b[0;36m\u001b[0m\n\u001b[0;31m    for move in moves;\u001b[0m\n\u001b[0m                     ^\u001b[0m\n\u001b[0;31mSyntaxError\u001b[0m\u001b[0;31m:\u001b[0m invalid syntax\n"
     ]
    }
   ],
   "source": [
    "from typing import List\n",
    "\n",
    "def calc_dist(mat, dist, moves, size, loc):\n",
    "    r, c = loc\n",
    "    \n",
    "    bins = []\n",
    "    distances = []\n",
    "    for move in moves:\n",
    "        nr = r + move[0]\n",
    "        nc = c + move[1]\n",
    "        if is_movable():\n",
    "            values.append(mat[nr][nc])\n",
    "            distances.aappend(dist[nr][nc])\n",
    "    \n",
    "    if 0 in bins:\n",
    "        return 1\n",
    "    else:\n",
    "        return min(distances) + 1\n",
    "        \n",
    "def is_movable(size, loc):\n",
    "    return (0 <= loc[0] < size[0]) and (0 <= loc[1] < size[1])\n",
    "\n",
    "def updateMatrix(mat: List[List[int]]) -> List[List[int]]:\n",
    "    n, m = len(mat), len(mat[0])\n",
    "    dist = [[0] * m for _ in range(n)]\n",
    "    moves = [(0, 1), (1, 0), (0, -1), (-1, 0)]\n",
    "    \n",
    "    for i in range(n):\n",
    "        for j in range(m):\n",
    "            if mat[i][j] == 1:\n",
    "                dist[i][j] = calc_dist(mat, dist, moves, (n, m), (i, j))\n",
    "                \n",
    "    return dist"
   ]
  },
  {
   "cell_type": "markdown",
   "id": "fca342c0",
   "metadata": {},
   "source": [
    "#### 70. Climbing Stairs"
   ]
  },
  {
   "cell_type": "code",
   "execution_count": 14,
   "id": "e2de4461",
   "metadata": {},
   "outputs": [],
   "source": [
    "def climbStairs(n: int) -> int:\n",
    "    d = [1, 2] + [0] * (n - 2)\n",
    "    \n",
    "    for i in range(2, n):\n",
    "        d[i] = d[i - 1] + d[i - 2]\n",
    "    \n",
    "    return d[n - 1]\n",
    "\n",
    "def climbStairs(n: int) -> int:\n",
    "    prev = 1\n",
    "    nxt = 2\n",
    "    for i in range(n - 1):\n",
    "        prev, nxt = nxt, prev + nxt\n",
    "\n",
    "    return prev"
   ]
  },
  {
   "cell_type": "code",
   "execution_count": 16,
   "id": "19ad8ce0",
   "metadata": {
    "scrolled": true
   },
   "outputs": [
    {
     "name": "stdout",
     "output_type": "stream",
     "text": [
      "3\n"
     ]
    }
   ],
   "source": [
    "ans = climbStairs(3)\n",
    "print(ans)"
   ]
  },
  {
   "cell_type": "markdown",
   "id": "9826c01d",
   "metadata": {},
   "source": [
    "#### 120. Triangle"
   ]
  },
  {
   "cell_type": "code",
   "execution_count": 22,
   "id": "e2cf5566",
   "metadata": {},
   "outputs": [],
   "source": [
    "from typing import List\n",
    "\n",
    "def minimumTotal(triangle: List[List[int]]) -> int:\n",
    "    step = len(triangle)\n",
    "    path = [[0] * i for i in range(1, step + 1)]\n",
    "    path[0] = [triangle[0][0]]\n",
    "\n",
    "    for i in range(1, step):\n",
    "        for j in range(i + 1):\n",
    "            if j == 0:\n",
    "                path[i][j] = path[i - 1][j] + triangle[i][j]\n",
    "            elif j == i:\n",
    "                path[i][j] = path[i - 1][j - 1] + triangle[i][j]\n",
    "            else:\n",
    "                path[i][j] = min(path[i - 1][j - 1], path[i - 1][j]) + triangle[i][j]\n",
    "\n",
    "    return min(path[step - 1])"
   ]
  },
  {
   "cell_type": "code",
   "execution_count": 23,
   "id": "cf8a8eba",
   "metadata": {},
   "outputs": [
    {
     "name": "stdout",
     "output_type": "stream",
     "text": [
      "11\n"
     ]
    }
   ],
   "source": [
    "triangle = [[2],[3,4],[6,5,7],[4,1,8,3]]\n",
    "ans = minimumTotal(triangle)\n",
    "print(ans)"
   ]
  },
  {
   "cell_type": "markdown",
   "id": "5132c4fe",
   "metadata": {},
   "source": [
    "#### 198. House Robber"
   ]
  },
  {
   "cell_type": "code",
   "execution_count": 24,
   "id": "997d1eb9",
   "metadata": {},
   "outputs": [],
   "source": [
    "from typing import List\n",
    "\n",
    "def rob(nums: List[int]) -> int:\n",
    "    length = len(nums)\n",
    "    if length == 1:\n",
    "        return nums[0]\n",
    "    if length == 2:\n",
    "        return max(nums)\n",
    "    prev = nums[0]\n",
    "    curr = max(prev, nums[1])\n",
    "    for i in range(2, length):\n",
    "        nxt = max(prev + nums[i], curr)\n",
    "        curr = nxt\n",
    "        prev = curr\n",
    "    \n",
    "    return nxt"
   ]
  },
  {
   "cell_type": "code",
   "execution_count": 25,
   "id": "6d6e21a6",
   "metadata": {},
   "outputs": [
    {
     "name": "stdout",
     "output_type": "stream",
     "text": [
      "5\n"
     ]
    }
   ],
   "source": [
    "nums = [1,2,3,1]\n",
    "ans = rob(nums)\n",
    "print(ans)"
   ]
  },
  {
   "cell_type": "code",
   "execution_count": null,
   "id": "a0b2a16f",
   "metadata": {},
   "outputs": [],
   "source": []
  }
 ],
 "metadata": {
  "kernelspec": {
   "display_name": "Python 3 (ipykernel)",
   "language": "python",
   "name": "python3"
  },
  "language_info": {
   "codemirror_mode": {
    "name": "ipython",
    "version": 3
   },
   "file_extension": ".py",
   "mimetype": "text/x-python",
   "name": "python",
   "nbconvert_exporter": "python",
   "pygments_lexer": "ipython3",
   "version": "3.8.16"
  }
 },
 "nbformat": 4,
 "nbformat_minor": 5
}
