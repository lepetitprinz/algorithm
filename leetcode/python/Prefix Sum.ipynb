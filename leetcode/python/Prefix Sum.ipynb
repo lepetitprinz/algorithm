{
 "cells": [
  {
   "cell_type": "code",
   "execution_count": 2,
   "id": "7d888671",
   "metadata": {},
   "outputs": [],
   "source": [
    "from typing import List"
   ]
  },
  {
   "cell_type": "markdown",
   "id": "26ca32b7",
   "metadata": {},
   "source": [
    "#### 1480. Running Sum of 1d Array"
   ]
  },
  {
   "cell_type": "code",
   "execution_count": 1,
   "id": "f3cdc0db",
   "metadata": {},
   "outputs": [],
   "source": [
    "def runningSum(nums: List[int]) -> List[int]:\n",
    "    i = 1\n",
    "    while(i < len(nums)):\n",
    "        nums[i] += nums[i - 1]\n",
    "        i += 1\n",
    "\n",
    "    return nums"
   ]
  },
  {
   "cell_type": "code",
   "execution_count": 3,
   "id": "e0dd07aa",
   "metadata": {},
   "outputs": [
    {
     "name": "stdout",
     "output_type": "stream",
     "text": [
      "[1, 3, 6, 10, 15]\n"
     ]
    }
   ],
   "source": [
    "print(runningSum([1, 2, 3, 4, 5]))"
   ]
  },
  {
   "cell_type": "markdown",
   "id": "d47f51c8",
   "metadata": {},
   "source": [
    "#### 724. Find Pivot Index"
   ]
  },
  {
   "cell_type": "code",
   "execution_count": null,
   "id": "ca7bff68",
   "metadata": {},
   "outputs": [],
   "source": [
    "def pivotIndex(nums: List[int]) -> int:\n",
    "    left_sum = 0\n",
    "    right_sum = sum(nums)\n",
    "    for idx, num in enumerate(nums):\n",
    "        right_sum -= num\n",
    "        if left_sum == right_sum:\n",
    "            return idx\n",
    "        left_sum += num\n",
    "    \n",
    "    return -1"
   ]
  },
  {
   "cell_type": "code",
   "execution_count": null,
   "id": "d9d01daa",
   "metadata": {},
   "outputs": [],
   "source": []
  }
 ],
 "metadata": {
  "kernelspec": {
   "display_name": "Python 3 (ipykernel)",
   "language": "python",
   "name": "python3"
  },
  "language_info": {
   "codemirror_mode": {
    "name": "ipython",
    "version": 3
   },
   "file_extension": ".py",
   "mimetype": "text/x-python",
   "name": "python",
   "nbconvert_exporter": "python",
   "pygments_lexer": "ipython3",
   "version": "3.8.16"
  }
 },
 "nbformat": 4,
 "nbformat_minor": 5
}
