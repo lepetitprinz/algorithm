{
 "cells": [
  {
   "cell_type": "code",
   "execution_count": 1,
   "id": "94ed5db2",
   "metadata": {},
   "outputs": [],
   "source": [
    "from typing import List"
   ]
  },
  {
   "cell_type": "markdown",
   "id": "5bd03bbd",
   "metadata": {},
   "source": [
    "#### 77. Combinations"
   ]
  },
  {
   "cell_type": "code",
   "execution_count": 6,
   "id": "e3e7e6d6",
   "metadata": {},
   "outputs": [],
   "source": [
    "from itertools import combinations\n",
    "\n",
    "def combine(n: int, k: int) -> List[List[int]]:\n",
    "    return list(combinations(range(1, n+1), k))"
   ]
  },
  {
   "cell_type": "code",
   "execution_count": 7,
   "id": "6ade0b8d",
   "metadata": {
    "scrolled": true
   },
   "outputs": [
    {
     "name": "stdout",
     "output_type": "stream",
     "text": [
      "[(1, 2), (1, 3), (1, 4), (2, 3), (2, 4), (3, 4)]\n"
     ]
    }
   ],
   "source": [
    "ans = combine(4, 2)\n",
    "print(ans)"
   ]
  },
  {
   "cell_type": "markdown",
   "id": "b850a9c6",
   "metadata": {},
   "source": [
    "#### 46. Permutations"
   ]
  },
  {
   "cell_type": "code",
   "execution_count": 11,
   "id": "9fbd7d6b",
   "metadata": {},
   "outputs": [],
   "source": [
    "from itertools import permutations\n",
    "\n",
    "def permute(nums: List[int]) -> List[List[int]]:\n",
    "    return list(permutations(nums))"
   ]
  },
  {
   "cell_type": "code",
   "execution_count": 13,
   "id": "3b5810ba",
   "metadata": {
    "scrolled": true
   },
   "outputs": [
    {
     "name": "stdout",
     "output_type": "stream",
     "text": [
      "[(1, 2, 3), (1, 3, 2), (2, 1, 3), (2, 3, 1), (3, 1, 2), (3, 2, 1)]\n"
     ]
    }
   ],
   "source": [
    "ans = permute([1,2,3])\n",
    "print(ans)"
   ]
  },
  {
   "cell_type": "markdown",
   "id": "4473a70d",
   "metadata": {},
   "source": [
    "#### 784. Letter Case Permutation"
   ]
  },
  {
   "cell_type": "code",
   "execution_count": 16,
   "id": "bf7a5311",
   "metadata": {},
   "outputs": [
    {
     "data": {
      "text/plain": [
       "True"
      ]
     },
     "execution_count": 16,
     "metadata": {},
     "output_type": "execute_result"
    }
   ],
   "source": [
    "'s'.isalpha()"
   ]
  },
  {
   "cell_type": "code",
   "execution_count": 17,
   "id": "e235905e",
   "metadata": {},
   "outputs": [
    {
     "data": {
      "text/plain": [
       "'s'"
      ]
     },
     "execution_count": 17,
     "metadata": {},
     "output_type": "execute_result"
    }
   ],
   "source": [
    "'s'.lower()"
   ]
  },
  {
   "cell_type": "code",
   "execution_count": null,
   "id": "c4a0a8f5",
   "metadata": {},
   "outputs": [],
   "source": []
  }
 ],
 "metadata": {
  "kernelspec": {
   "display_name": "Python 3 (ipykernel)",
   "language": "python",
   "name": "python3"
  },
  "language_info": {
   "codemirror_mode": {
    "name": "ipython",
    "version": 3
   },
   "file_extension": ".py",
   "mimetype": "text/x-python",
   "name": "python",
   "nbconvert_exporter": "python",
   "pygments_lexer": "ipython3",
   "version": "3.8.16"
  }
 },
 "nbformat": 4,
 "nbformat_minor": 5
}
