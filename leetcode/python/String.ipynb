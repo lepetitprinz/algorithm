{
 "cells": [
  {
   "cell_type": "markdown",
   "id": "68ba2904",
   "metadata": {},
   "source": [
    "#### 205. Isomorphic Strings"
   ]
  },
  {
   "cell_type": "code",
   "execution_count": 8,
   "id": "8945ff3a",
   "metadata": {},
   "outputs": [],
   "source": [
    "def isIsomorphic(s: str, t: str) -> bool:\n",
    "    s_t_map = {}\n",
    "    t_s_map = {}\n",
    "\n",
    "    flag = False\n",
    "    for s_char, t_char in zip(s, t):\n",
    "        if s_char in s_t_map:\n",
    "            if s_t_map[s_char] != t_char:\n",
    "                break\n",
    "        else:\n",
    "            s_t_map[s_char] = t_char\n",
    "\n",
    "        if t_char in t_s_map:\n",
    "            if t_s_map[t_char] != s_char:\n",
    "                break\n",
    "        else:\n",
    "            t_s_map[t_char] = s_char\n",
    "\n",
    "    else:\n",
    "        flag = True\n",
    "\n",
    "    return flag"
   ]
  },
  {
   "cell_type": "code",
   "execution_count": 11,
   "id": "51746787",
   "metadata": {},
   "outputs": [
    {
     "name": "stdout",
     "output_type": "stream",
     "text": [
      "True\n",
      "False\n"
     ]
    }
   ],
   "source": [
    "# test 1\n",
    "s = \"egg\"\n",
    "t = \"add\"\n",
    "print(isIsomorphic(s, t))\n",
    "\n",
    "# test 2\n",
    "s = \"badc\"\n",
    "t = \"baba\"\n",
    "print(isIsomorphic(s, t))"
   ]
  },
  {
   "cell_type": "markdown",
   "id": "32e5c6d5",
   "metadata": {},
   "source": [
    "#### 323. Is Subsequence"
   ]
  },
  {
   "cell_type": "code",
   "execution_count": 17,
   "id": "1ad18448",
   "metadata": {},
   "outputs": [],
   "source": [
    "from collections import deque\n",
    "\n",
    "def isSubsequence(s: str, t: str) -> bool:\n",
    "    flag = True\n",
    "    \n",
    "    if set(s).issubset(set(t)):\n",
    "        queue_s = deque(s)\n",
    "        queue_t = deque(t)\n",
    "        while queue_s:\n",
    "            char_s = queue_s.popleft()\n",
    "            while queue_t:\n",
    "                char_t = queue_t.popleft()\n",
    "                if char_t == char_s:\n",
    "                    break\n",
    "            else:\n",
    "                flag = False\n",
    "    else:\n",
    "        flag = False\n",
    "\n",
    "    return flag"
   ]
  },
  {
   "cell_type": "code",
   "execution_count": 18,
   "id": "97f71e8a",
   "metadata": {},
   "outputs": [
    {
     "name": "stdout",
     "output_type": "stream",
     "text": [
      "True\n",
      "False\n",
      "False\n"
     ]
    }
   ],
   "source": [
    "print(isSubsequence(\"abc\", \"ahbgdc\"))\n",
    "print(isSubsequence(\"axc\", \"ahbgdc\"))\n",
    "print(isSubsequence(\"acb\", \"ahbgdc\"))"
   ]
  },
  {
   "cell_type": "markdown",
   "id": "9341f05d",
   "metadata": {},
   "source": [
    "#### 387. First Unique Character in a String"
   ]
  },
  {
   "cell_type": "code",
   "execution_count": 21,
   "id": "73ef62df",
   "metadata": {},
   "outputs": [],
   "source": [
    "from collections import OrderedDict\n",
    "\n",
    "def firstUniqChar(s):\n",
    "    \"\"\"\n",
    "    :type s: str\n",
    "    :rtype: int\n",
    "    \"\"\"\n",
    "    cnt = OrderedDict()\n",
    "    for char in s:\n",
    "        if char in cnt:\n",
    "            cnt[char] += 1\n",
    "        else:\n",
    "            cnt[char] = 1\n",
    "            \n",
    "    ans = -1\n",
    "    for char, c in cnt.items():\n",
    "        if c == 1:\n",
    "            ans = s.find(char)\n",
    "            break\n",
    "            \n",
    "    return ans"
   ]
  },
  {
   "cell_type": "code",
   "execution_count": 22,
   "id": "c82d0342",
   "metadata": {},
   "outputs": [
    {
     "name": "stdout",
     "output_type": "stream",
     "text": [
      "0\n",
      "2\n",
      "-1\n"
     ]
    }
   ],
   "source": [
    "print(firstUniqChar(\"leetcode\"))\n",
    "print(firstUniqChar(\"loveleetcode\"))\n",
    "print(firstUniqChar(\"aabb\"))"
   ]
  },
  {
   "cell_type": "code",
   "execution_count": 23,
   "id": "f385dc1d",
   "metadata": {},
   "outputs": [],
   "source": [
    "def firstUniqChar(s):\n",
    "    \"\"\"\n",
    "    :type s: str\n",
    "    :rtype: int\n",
    "    \"\"\"\n",
    "    cnt = {}\n",
    "    for char in s:\n",
    "        if char in cnt:\n",
    "            cnt[char] += 1\n",
    "        else:\n",
    "            cnt[char] = 1\n",
    "            \n",
    "    for i, char in enumerate(s):\n",
    "        if cnt[char] == 1:\n",
    "            return i\n",
    "\n",
    "    return -1"
   ]
  },
  {
   "cell_type": "code",
   "execution_count": 24,
   "id": "ae13e9f3",
   "metadata": {},
   "outputs": [
    {
     "name": "stdout",
     "output_type": "stream",
     "text": [
      "0\n",
      "2\n",
      "-1\n"
     ]
    }
   ],
   "source": [
    "print(firstUniqChar(\"leetcode\"))\n",
    "print(firstUniqChar(\"loveleetcode\"))\n",
    "print(firstUniqChar(\"aabb\"))"
   ]
  },
  {
   "cell_type": "markdown",
   "id": "33b0a493",
   "metadata": {},
   "source": [
    "#### 383. Ransom Note"
   ]
  },
  {
   "cell_type": "code",
   "execution_count": 5,
   "id": "7c68fe06",
   "metadata": {},
   "outputs": [],
   "source": [
    "from collections import Counter\n",
    "\n",
    "def canConstruct(ransomNote: str, magazine: str) -> bool:\n",
    "    r_cnt = Counter(ransomNote)\n",
    "    m_cnt = Counter(magazine)\n",
    "    \n",
    "    flag = False\n",
    "    for note, cnt in r_cnt.items():\n",
    "        if cnt <= m_cnt.get(note, 0):\n",
    "            continue\n",
    "        else:\n",
    "            break\n",
    "    else:\n",
    "        flag = True\n",
    "        \n",
    "    return flag\n",
    "\n",
    "def canConstruct(ransomNote: str, magazine: str) -> bool:\n",
    "    r_cnt = Counter(ransomNote)\n",
    "    m_cnt = Counter(magazine)\n",
    "        \n",
    "    return r_cnt == r_cnt & m_cnt"
   ]
  },
  {
   "cell_type": "code",
   "execution_count": 6,
   "id": "dac7e115",
   "metadata": {},
   "outputs": [
    {
     "name": "stdout",
     "output_type": "stream",
     "text": [
      "False\n",
      "False\n",
      "True\n"
     ]
    }
   ],
   "source": [
    "print(canConstruct(\"a\", \"b\"))\n",
    "print(canConstruct(\"aa\", \"ab\"))\n",
    "print(canConstruct(\"aa\", \"aab\"))"
   ]
  },
  {
   "cell_type": "markdown",
   "id": "31677c47",
   "metadata": {},
   "source": [
    "#### 242. Valid Anagram"
   ]
  },
  {
   "cell_type": "code",
   "execution_count": 13,
   "id": "d2dcadd7",
   "metadata": {},
   "outputs": [],
   "source": [
    "from collections import Counter\n",
    "\n",
    "def isAnagram(s: str, t: str) -> bool:\n",
    "    return Counter(s) == Counter(t)\n",
    "\n",
    "def isAnagram(s: str, t: str) -> bool:\n",
    "    if len(s) != len(t):\n",
    "        return False\n",
    "\n",
    "    for i in set(s):\n",
    "        if s.count(i) > t.count(i):\n",
    "            return False\n",
    "    return True"
   ]
  },
  {
   "cell_type": "markdown",
   "id": "bf94ec00",
   "metadata": {},
   "source": [
    "#### 557. Reverse Words in a String III"
   ]
  },
  {
   "cell_type": "code",
   "execution_count": 4,
   "id": "ae029a2c",
   "metadata": {},
   "outputs": [],
   "source": [
    "def reverseWords(s: str) -> str:\n",
    "    words_rev = [word[::-1] for word in s.split(\" \")]\n",
    "    return ' '.join(words_rev)"
   ]
  },
  {
   "cell_type": "code",
   "execution_count": 5,
   "id": "fd19570b",
   "metadata": {},
   "outputs": [
    {
     "name": "stdout",
     "output_type": "stream",
     "text": [
      "s'teL ekat edoCteeL tsetnoc\n"
     ]
    }
   ],
   "source": [
    "print(reverseWords(\"Let's take LeetCode contest\"))"
   ]
  },
  {
   "cell_type": "code",
   "execution_count": null,
   "id": "fde7396c",
   "metadata": {},
   "outputs": [],
   "source": []
  }
 ],
 "metadata": {
  "kernelspec": {
   "display_name": "Python 3 (ipykernel)",
   "language": "python",
   "name": "python3"
  },
  "language_info": {
   "codemirror_mode": {
    "name": "ipython",
    "version": 3
   },
   "file_extension": ".py",
   "mimetype": "text/x-python",
   "name": "python",
   "nbconvert_exporter": "python",
   "pygments_lexer": "ipython3",
   "version": "3.8.16"
  }
 },
 "nbformat": 4,
 "nbformat_minor": 5
}
