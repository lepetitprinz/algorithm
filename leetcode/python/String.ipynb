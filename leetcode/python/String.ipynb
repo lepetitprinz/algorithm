{
 "cells": [
  {
   "cell_type": "markdown",
   "id": "68ba2904",
   "metadata": {},
   "source": [
    "#### 205. Isomorphic Strings"
   ]
  },
  {
   "cell_type": "code",
   "execution_count": 8,
   "id": "8945ff3a",
   "metadata": {},
   "outputs": [],
   "source": [
    "def isIsomorphic(s: str, t: str) -> bool:\n",
    "    s_t_map = {}\n",
    "    t_s_map = {}\n",
    "\n",
    "    flag = False\n",
    "    for s_char, t_char in zip(s, t):\n",
    "        if s_char in s_t_map:\n",
    "            if s_t_map[s_char] != t_char:\n",
    "                break\n",
    "        else:\n",
    "            s_t_map[s_char] = t_char\n",
    "\n",
    "        if t_char in t_s_map:\n",
    "            if t_s_map[t_char] != s_char:\n",
    "                break\n",
    "        else:\n",
    "            t_s_map[t_char] = s_char\n",
    "\n",
    "    else:\n",
    "        flag = True\n",
    "\n",
    "    return flag"
   ]
  },
  {
   "cell_type": "code",
   "execution_count": 11,
   "id": "51746787",
   "metadata": {},
   "outputs": [
    {
     "name": "stdout",
     "output_type": "stream",
     "text": [
      "True\n",
      "False\n"
     ]
    }
   ],
   "source": [
    "# test 1\n",
    "s = \"egg\"\n",
    "t = \"add\"\n",
    "print(isIsomorphic(s, t))\n",
    "\n",
    "# test 2\n",
    "s = \"badc\"\n",
    "t = \"baba\"\n",
    "print(isIsomorphic(s, t))"
   ]
  },
  {
   "cell_type": "markdown",
   "id": "32e5c6d5",
   "metadata": {},
   "source": [
    "#### 323. Is Subsequence"
   ]
  },
  {
   "cell_type": "code",
   "execution_count": 17,
   "id": "1ad18448",
   "metadata": {},
   "outputs": [],
   "source": [
    "from collections import deque\n",
    "\n",
    "def isSubsequence(s: str, t: str) -> bool:\n",
    "    flag = True\n",
    "    \n",
    "    if set(s).issubset(set(t)):\n",
    "        queue_s = deque(s)\n",
    "        queue_t = deque(t)\n",
    "        while queue_s:\n",
    "            char_s = queue_s.popleft()\n",
    "            while queue_t:\n",
    "                char_t = queue_t.popleft()\n",
    "                if char_t == char_s:\n",
    "                    break\n",
    "            else:\n",
    "                flag = False\n",
    "    else:\n",
    "        flag = False\n",
    "\n",
    "    return flag"
   ]
  },
  {
   "cell_type": "code",
   "execution_count": 18,
   "id": "97f71e8a",
   "metadata": {},
   "outputs": [
    {
     "name": "stdout",
     "output_type": "stream",
     "text": [
      "True\n",
      "False\n",
      "False\n"
     ]
    }
   ],
   "source": [
    "print(isSubsequence(\"abc\", \"ahbgdc\"))\n",
    "print(isSubsequence(\"axc\", \"ahbgdc\"))\n",
    "print(isSubsequence(\"acb\", \"ahbgdc\"))"
   ]
  },
  {
   "cell_type": "code",
   "execution_count": null,
   "id": "ddec1140",
   "metadata": {},
   "outputs": [],
   "source": []
  }
 ],
 "metadata": {
  "kernelspec": {
   "display_name": "Python 3 (ipykernel)",
   "language": "python",
   "name": "python3"
  },
  "language_info": {
   "codemirror_mode": {
    "name": "ipython",
    "version": 3
   },
   "file_extension": ".py",
   "mimetype": "text/x-python",
   "name": "python",
   "nbconvert_exporter": "python",
   "pygments_lexer": "ipython3",
   "version": "3.8.16"
  }
 },
 "nbformat": 4,
 "nbformat_minor": 5
}
