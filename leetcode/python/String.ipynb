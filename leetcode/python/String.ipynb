{
 "cells": [
  {
   "cell_type": "markdown",
   "id": "68ba2904",
   "metadata": {},
   "source": [
    "#### 205. Isomorphic Strings"
   ]
  },
  {
   "cell_type": "code",
   "execution_count": 8,
   "id": "8945ff3a",
   "metadata": {},
   "outputs": [],
   "source": [
    "def isIsomorphic(s: str, t: str) -> bool:\n",
    "    s_t_map = {}\n",
    "    t_s_map = {}\n",
    "\n",
    "    flag = False\n",
    "    for s_char, t_char in zip(s, t):\n",
    "        if s_char in s_t_map:\n",
    "            if s_t_map[s_char] != t_char:\n",
    "                break\n",
    "        else:\n",
    "            s_t_map[s_char] = t_char\n",
    "\n",
    "        if t_char in t_s_map:\n",
    "            if t_s_map[t_char] != s_char:\n",
    "                break\n",
    "        else:\n",
    "            t_s_map[t_char] = s_char\n",
    "\n",
    "    else:\n",
    "        flag = True\n",
    "\n",
    "    return flag"
   ]
  },
  {
   "cell_type": "code",
   "execution_count": 11,
   "id": "51746787",
   "metadata": {},
   "outputs": [
    {
     "name": "stdout",
     "output_type": "stream",
     "text": [
      "True\n",
      "False\n"
     ]
    }
   ],
   "source": [
    "# test 1\n",
    "s = \"egg\"\n",
    "t = \"add\"\n",
    "print(isIsomorphic(s, t))\n",
    "\n",
    "# test 2\n",
    "s = \"badc\"\n",
    "t = \"baba\"\n",
    "print(isIsomorphic(s, t))"
   ]
  },
  {
   "cell_type": "code",
   "execution_count": null,
   "id": "ac88a344",
   "metadata": {},
   "outputs": [],
   "source": []
  }
 ],
 "metadata": {
  "kernelspec": {
   "display_name": "Python 3 (ipykernel)",
   "language": "python",
   "name": "python3"
  },
  "language_info": {
   "codemirror_mode": {
    "name": "ipython",
    "version": 3
   },
   "file_extension": ".py",
   "mimetype": "text/x-python",
   "name": "python",
   "nbconvert_exporter": "python",
   "pygments_lexer": "ipython3",
   "version": "3.8.16"
  }
 },
 "nbformat": 4,
 "nbformat_minor": 5
}
