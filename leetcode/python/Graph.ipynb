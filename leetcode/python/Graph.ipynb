{
 "cells": [
  {
   "cell_type": "markdown",
   "id": "a16446e2",
   "metadata": {},
   "source": [
    "#### 1791. Find Center of Star Graph"
   ]
  },
  {
   "cell_type": "code",
   "execution_count": 1,
   "id": "b9c70339",
   "metadata": {},
   "outputs": [],
   "source": [
    "from typing import List\n",
    "\n",
    "\n",
    "def findJudge(n: int, trust: List[List[int]]) -> int:\n",
    "    cnt = [0 for _ in range(n)]\n",
    "    relation = set()\n",
    "    for a, b in trust:\n",
    "        cnt[b - 1] += 1\n",
    "        relation.add(a)\n",
    "    max_cnt = max(cnt)\n",
    "    max_num = cnt.index(max_cnt) + 1\n",
    "    if (max_cnt == n - 1) and (max_num not in relation):\n",
    "        return max_num\n",
    "\n",
    "    return -1"
   ]
  },
  {
   "cell_type": "markdown",
   "id": "1172148e",
   "metadata": {},
   "source": [
    "#### 997. Find the Town Judge"
   ]
  },
  {
   "cell_type": "code",
   "execution_count": 2,
   "id": "e78ed839",
   "metadata": {},
   "outputs": [],
   "source": [
    "from typing import List\n",
    "\n",
    "def findJudge(n: int, trust: List[List[int]]) -> int:\n",
    "    cnt = [0 for _ in range(n)]\n",
    "    relation = set()\n",
    "    for a, b in trust:\n",
    "        cnt[b - 1] += 1\n",
    "        relation.add(a)\n",
    "        \n",
    "    max_cnt = max(cnt)\n",
    "    max_num = cnt.index(max_cnt) + 1\n",
    "    \n",
    "    if (max_cnt == n - 1) and (max_num not in relation):\n",
    "        return max_num\n",
    "\n",
    "    return -1"
   ]
  },
  {
   "cell_type": "markdown",
   "id": "de5fd5c5",
   "metadata": {},
   "source": [
    "#### 1971. Find if Path Exists in Graph"
   ]
  },
  {
   "cell_type": "code",
   "execution_count": null,
   "id": "e51a87a1",
   "metadata": {},
   "outputs": [],
   "source": [
    "from collections import deque\n",
    "\n",
    "class Solution:\n",
    "    def validPath(self, n: int, edges: List[List[int]], source: int, destination: int) -> bool:\n",
    "        graph = [[] for _ in range(n)]\n",
    "        for u, v in edges:\n",
    "            graph[u].append(v)\n",
    "            graph[v].append(u)\n",
    "        \n",
    "        visited = [False for _ in range(n)]\n",
    "        res = self.bfs(graph, visited, source, destination)\n",
    "\n",
    "        return res\n",
    "\n",
    "    def bfs(self, graph, visited, source, destination):\n",
    "        queue = deque([source])\n",
    "        visited[source] = True\n",
    "\n",
    "        while queue:\n",
    "            val = queue.popleft()\n",
    "            if val == destination:\n",
    "                return True\n",
    "            for node in graph[val]:\n",
    "                if not visited[node]:\n",
    "                    queue.append(node)\n",
    "                    visited[node] = True\n",
    "        \n",
    "        return False"
   ]
  }
 ],
 "metadata": {
  "kernelspec": {
   "display_name": "Python 3 (ipykernel)",
   "language": "python",
   "name": "python3"
  },
  "language_info": {
   "codemirror_mode": {
    "name": "ipython",
    "version": 3
   },
   "file_extension": ".py",
   "mimetype": "text/x-python",
   "name": "python",
   "nbconvert_exporter": "python",
   "pygments_lexer": "ipython3",
   "version": "3.8.16"
  }
 },
 "nbformat": 4,
 "nbformat_minor": 5
}
