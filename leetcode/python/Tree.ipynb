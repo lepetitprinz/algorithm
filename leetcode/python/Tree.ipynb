{
 "cells": [
  {
   "cell_type": "markdown",
   "id": "17e3db6d",
   "metadata": {},
   "source": [
    "#### 589. N-ary Tree Preorder Traversal"
   ]
  },
  {
   "cell_type": "code",
   "execution_count": null,
   "id": "6cecd601",
   "metadata": {},
   "outputs": [],
   "source": [
    "class Node(object):\n",
    "    def __init__(self, val=None, children=None):\n",
    "        self.val = val\n",
    "        self.children = children\n",
    "        \n",
    "def preorder(self, root):\n",
    "    \"\"\"\n",
    "    :type root: Node\n",
    "    :rtype: List[int]\n",
    "    \"\"\"\n",
    "    \n",
    "    for i in range(len(root) - 1):\n",
    "        "
   ]
  }
 ],
 "metadata": {
  "kernelspec": {
   "display_name": "Python 3 (ipykernel)",
   "language": "python",
   "name": "python3"
  },
  "language_info": {
   "codemirror_mode": {
    "name": "ipython",
    "version": 3
   },
   "file_extension": ".py",
   "mimetype": "text/x-python",
   "name": "python",
   "nbconvert_exporter": "python",
   "pygments_lexer": "ipython3",
   "version": "3.8.16"
  }
 },
 "nbformat": 4,
 "nbformat_minor": 5
}
