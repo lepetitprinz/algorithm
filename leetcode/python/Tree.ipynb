{
 "cells": [
  {
   "cell_type": "code",
   "execution_count": 9,
   "id": "5e608d83",
   "metadata": {},
   "outputs": [],
   "source": [
    "from typing import Optional"
   ]
  },
  {
   "cell_type": "markdown",
   "id": "f56b2e8c",
   "metadata": {},
   "source": [
    "#### 617. Merge Two Binary Trees"
   ]
  },
  {
   "cell_type": "code",
   "execution_count": 7,
   "id": "269ea18f",
   "metadata": {},
   "outputs": [],
   "source": [
    "class TreeNode:\n",
    "    def __init__(self, val=0, left=None, right=None):\n",
    "        self.val = val\n",
    "        self.left = left\n",
    "        self.right = right\n",
    "\n",
    "# Recursion\n",
    "def mergeTrees(root1: Optional[TreeNode], root2: Optional[TreeNode]) -> Optional[TreeNode]:\n",
    "    if root1 is None:\n",
    "        return root2\n",
    "    if root2 is None:\n",
    "        return root1\n",
    "    \n",
    "    root1.val += root2.val\n",
    "    root1.left = mergeTrees(root1.left, root2.left)\n",
    "    root1.right = mergeTrees(root1.right, root2.right)\n",
    "    \n",
    "    return root1"
   ]
  },
  {
   "cell_type": "markdown",
   "id": "0c6610ec",
   "metadata": {},
   "source": [
    "#### 116. Populating Next Right Pointers in Each Node"
   ]
  },
  {
   "cell_type": "code",
   "execution_count": 8,
   "id": "acaea279",
   "metadata": {},
   "outputs": [],
   "source": [
    "class Node:\n",
    "    def __init__(self, val: int = 0, left: 'Node' = None, right: 'Node' = None, next: 'Node' = None):\n",
    "        self.val = val\n",
    "        self.left = left\n",
    "        self.right = right\n",
    "        self.next = next"
   ]
  },
  {
   "cell_type": "code",
   "execution_count": null,
   "id": "fa6ec67c",
   "metadata": {},
   "outputs": [],
   "source": [
    "from collections import deque\n",
    "\n",
    "def connect(root: 'Optional[Node]') -> 'Optional[Node]':\n",
    "    if not root:\n",
    "        return root\n",
    "    \n",
    "    queue = deque([root])\n",
    "    while queue:\n",
    "        size = len(queue)\n",
    "        \n",
    "        for i in range(size):\n",
    "            node = queue.popleft()\n",
    "            \n",
    "            if i < size - 1:\n",
    "                node.next = queue[0]\n",
    "                \n",
    "            if node.left:\n",
    "                queue.append(node.left)\n",
    "            \n",
    "            if node.right:\n",
    "                queue.append(node.right)\n",
    "                \n",
    "    return root\n",
    "\n",
    "def connect(root: 'Optional[Node]') -> 'Optional[Node]':\n",
    "    if not root: \n",
    "        return\n",
    "    left, right, n = root.left, root.right, root.next\n",
    "    if left:\n",
    "        left.next = right\n",
    "        if n: \n",
    "            right.next = n.left\n",
    "        self.connect(left)\n",
    "        self.connect(right)\n",
    "        \n",
    "    return root"
   ]
  }
 ],
 "metadata": {
  "kernelspec": {
   "display_name": "Python 3 (ipykernel)",
   "language": "python",
   "name": "python3"
  },
  "language_info": {
   "codemirror_mode": {
    "name": "ipython",
    "version": 3
   },
   "file_extension": ".py",
   "mimetype": "text/x-python",
   "name": "python",
   "nbconvert_exporter": "python",
   "pygments_lexer": "ipython3",
   "version": "3.8.16"
  }
 },
 "nbformat": 4,
 "nbformat_minor": 5
}
