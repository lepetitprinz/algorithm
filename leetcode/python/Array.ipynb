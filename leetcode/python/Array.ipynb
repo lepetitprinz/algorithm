{
 "cells": [
  {
   "cell_type": "code",
   "execution_count": 5,
   "id": "be47b820",
   "metadata": {},
   "outputs": [],
   "source": [
    "from typing import List"
   ]
  },
  {
   "cell_type": "markdown",
   "id": "9e883ba3",
   "metadata": {},
   "source": [
    "#### 217. Contains Duplicate"
   ]
  },
  {
   "cell_type": "code",
   "execution_count": null,
   "id": "6a7ad2a9",
   "metadata": {},
   "outputs": [],
   "source": [
    "def containsDuplicate(nums: List[int]) -> bool:\n",
    "    flag = True\n",
    "    if len(nums) == len(set(nums)):\n",
    "        flag = False\n",
    "    \n",
    "    return flag"
   ]
  },
  {
   "cell_type": "code",
   "execution_count": null,
   "id": "f935cb20",
   "metadata": {},
   "outputs": [],
   "source": [
    "def containsDuplicate(nums: List[int]) -> bool:\n",
    "    return len(nums) != len(set(nums))"
   ]
  },
  {
   "cell_type": "markdown",
   "id": "c9544c42",
   "metadata": {},
   "source": [
    "#### 350. Intersection of Two Arrays II"
   ]
  },
  {
   "cell_type": "code",
   "execution_count": 23,
   "id": "7da2734c",
   "metadata": {},
   "outputs": [],
   "source": [
    "from collections import Counter\n",
    "\n",
    "def intersect(nums1, nums2):\n",
    "    \"\"\"\n",
    "    :type nums1: List[int]\n",
    "    :type nums2: List[int]\n",
    "    :rtype: List[int]\n",
    "    \"\"\"\n",
    "    if len(nums1) > len(nums2): \n",
    "        return intersect(nums2, nums1)\n",
    "    \n",
    "    counter = Counter(nums1)\n",
    "    result = []\n",
    "    for num in nums2:\n",
    "        if counter[num] > 0:\n",
    "            result.append(num)\n",
    "            counter[num] -= 1\n",
    "    \n",
    "    return result"
   ]
  },
  {
   "cell_type": "markdown",
   "id": "6ef2cf83",
   "metadata": {},
   "source": [
    "#### 566. Reshape the Matrix"
   ]
  },
  {
   "cell_type": "code",
   "execution_count": 11,
   "id": "313b2449",
   "metadata": {},
   "outputs": [],
   "source": [
    "    def matrixReshape(mat, r, c):\n",
    "        \"\"\"\n",
    "        :type mat: List[List[int]]\n",
    "        :type r: int\n",
    "        :type c: int\n",
    "        :rtype: List[List[int]]\n",
    "        \"\"\"\n",
    "        arr_len = len(mat) * len(mat[0])\n",
    "        if r * c != arr_len:\n",
    "            return mat\n",
    "        \n",
    "        new_mat = []\n",
    "        temp = []\n",
    "        col = 0\n",
    "        for row in mat:\n",
    "            for val in row:\n",
    "                if col < c:\n",
    "                    temp.append(val)\n",
    "                    col += 1\n",
    "                else:\n",
    "                    new_mat.append(temp)\n",
    "                    temp = [val]\n",
    "                    col = 1\n",
    "        else:\n",
    "            new_mat.append(temp)\n",
    "        \n",
    "        return new_mat"
   ]
  },
  {
   "cell_type": "code",
   "execution_count": 13,
   "id": "d7c294f8",
   "metadata": {},
   "outputs": [
    {
     "name": "stdout",
     "output_type": "stream",
     "text": [
      "[[1, 2, 3, 4]]\n",
      "[[1, 2], [3, 3], [4, 5]]\n",
      "[[1, 2, 3], [3, 4, 5]]\n"
     ]
    }
   ],
   "source": [
    "mat = [[1,2],[3,4]]\n",
    "r = 1\n",
    "c = 4\n",
    "print(matrixReshape(mat, r, c))\n",
    "\n",
    "mat = [[1,2,3],[3,4,5]]\n",
    "r = 3\n",
    "c = 2\n",
    "print(matrixReshape(mat, r, c))\n",
    "\n",
    "mat = [[1,2,3],[3,4,5]]\n",
    "r = 5\n",
    "c = 2\n",
    "print(matrixReshape(mat, r, c))"
   ]
  },
  {
   "cell_type": "markdown",
   "id": "19bb2fc4",
   "metadata": {},
   "source": [
    "#### 36. Valid Sudoku"
   ]
  },
  {
   "cell_type": "code",
   "execution_count": 37,
   "id": "e831a00b",
   "metadata": {},
   "outputs": [],
   "source": [
    "def isValidSudoku(board):\n",
    "    \"\"\"\n",
    "    :type board: List[List[str]]\n",
    "    :rtype: bool\n",
    "    \"\"\"\n",
    "    # check rows\n",
    "    is_valid_row = check_row(board)\n",
    "    is_valid_col = check_col(board)\n",
    "    is_valid_mat = check_mat(board)\n",
    "    \n",
    "    return is_valid_row and is_valid_col and is_valid_mat\n",
    "\n",
    "def check_row(board):\n",
    "    for row in board:\n",
    "        nums = set()\n",
    "        for value in row:\n",
    "            if value != \".\":\n",
    "                if value in nums:\n",
    "                    return False\n",
    "                else:\n",
    "                    nums.add(value)\n",
    "    \n",
    "    return True\n",
    "\n",
    "def check_col(board):\n",
    "    for i in range(9):\n",
    "        nums = set()\n",
    "        for j in range(9):\n",
    "            value = board[j][i]\n",
    "            if value != \".\":\n",
    "                if value in nums:\n",
    "                    return False\n",
    "                else:\n",
    "                    nums.add(value)\n",
    "            \n",
    "    return True\n",
    "\n",
    "def check_mat(board):\n",
    "    for i in range(3):\n",
    "        for j in range(3):\n",
    "            nums = set()\n",
    "            for m in range(3):\n",
    "                for n in range(3):\n",
    "                    value = board[i * 3 + m][j * 3 + n]\n",
    "                    if value != \".\":\n",
    "                        if value in nums:\n",
    "                            return False\n",
    "                        else:\n",
    "                            nums.add(value)\n",
    "                            \n",
    "    return True"
   ]
  },
  {
   "cell_type": "code",
   "execution_count": 42,
   "id": "9ac127ea",
   "metadata": {},
   "outputs": [
    {
     "name": "stdout",
     "output_type": "stream",
     "text": [
      "True\n"
     ]
    }
   ],
   "source": [
    "board = [\n",
    "    [\"5\",\"3\",\".\",\".\",\"7\",\".\",\".\",\".\",\".\"],\n",
    "    [\"6\",\".\",\".\",\"1\",\"9\",\"5\",\".\",\".\",\".\"],\n",
    "    [\".\",\"9\",\"8\",\".\",\".\",\".\",\".\",\"6\",\".\"],\n",
    "    [\"8\",\".\",\".\",\".\",\"6\",\".\",\".\",\".\",\"3\"],\n",
    "    [\"4\",\".\",\".\",\"8\",\".\",\"3\",\".\",\".\",\"1\"],\n",
    "    [\"7\",\".\",\".\",\".\",\"2\",\".\",\".\",\".\",\"6\"],\n",
    "    [\".\",\"6\",\".\",\".\",\".\",\".\",\"2\",\"8\",\".\"],\n",
    "    [\".\",\".\",\".\",\"4\",\"1\",\"9\",\".\",\".\",\"5\"],\n",
    "    [\".\",\".\",\".\",\".\",\"8\",\".\",\".\",\"7\",\"9\"]]\n",
    "\n",
    "print(isValidSudoku(board))\n",
    "\n",
    "board = [\n",
    "    [\".\",\".\",\".\",\".\",\"5\",\".\",\".\",\"1\",\".\"],\n",
    "    [\".\",\"4\",\".\",\"3\",\".\",\".\",\".\",\".\",\".\"],\n",
    "    [\".\",\".\",\".\",\".\",\".\",\"3\",\".\",\".\",\"1\"],\n",
    "    [\"8\",\".\",\".\",\".\",\".\",\".\",\".\",\"2\",\".\"],\n",
    "    [\".\",\".\",\"2\",\".\",\"7\",\".\",\".\",\".\",\".\"],\n",
    "    [\".\",\"1\",\"5\",\".\",\".\",\".\",\".\",\".\",\".\"],\n",
    "    [\".\",\".\",\".\",\".\",\".\",\"2\",\".\",\".\",\".\"],\n",
    "    [\".\",\"2\",\".\",\"9\",\".\",\".\",\".\",\".\",\".\"],\n",
    "    [\".\",\".\",\"4\",\".\",\".\",\".\",\".\",\".\",\".\"]]\n",
    "\n",
    "print(isValidSudoku(board))"
   ]
  },
  {
   "cell_type": "markdown",
   "id": "d30922a0",
   "metadata": {},
   "source": [
    "####  74. Search a 2D Matrix"
   ]
  },
  {
   "cell_type": "code",
   "execution_count": 3,
   "id": "64bac531",
   "metadata": {},
   "outputs": [],
   "source": [
    "def searchMatrix(self, matrix: List[List[int]], target: int) -> bool:\n",
    "    for row in matrix:\n",
    "        if row[-1] >= target:\n",
    "            return target in row\n",
    "        \n",
    "    return False"
   ]
  },
  {
   "cell_type": "markdown",
   "id": "241b4ade",
   "metadata": {},
   "source": [
    "#### 189. Rotate Array"
   ]
  },
  {
   "cell_type": "code",
   "execution_count": 9,
   "id": "09eb1aee",
   "metadata": {},
   "outputs": [],
   "source": [
    "# speed\n",
    "def rotate(nums: List[int], k: int) -> None:\n",
    "    \"\"\"\n",
    "    Do not return anything, modify nums in-place instead.\n",
    "    \"\"\"\n",
    "    k= k % len(nums)\n",
    "    nums[:] = nums[-k:] + nums[:-k]\n",
    "\n",
    "# memory\n",
    "def rotate(nums: List[int], k: int) -> None:\n",
    "    \"\"\"\n",
    "    Do not return anything, modify nums in-place instead.\n",
    "    \"\"\"\n",
    "    def ireverse(l: List[int], i1: int = 0, i2: int = -1) -> List[int]:\n",
    "        i = 0\n",
    "        ln = len(l[i1:i2])+ 1\n",
    "\n",
    "        while i < ln//2:\n",
    "            l[i1+i], l[i2-i] = l[i2-i], l[i1+i]\n",
    "            i += 1\n",
    "\n",
    "    k = k % len(nums)\n",
    "    ireverse(nums, len(nums)-k)\n",
    "    ireverse(nums, 0, len(nums)-k-1)\n",
    "    ireverse(nums)"
   ]
  },
  {
   "cell_type": "code",
   "execution_count": 10,
   "id": "8e5e357f",
   "metadata": {
    "scrolled": true
   },
   "outputs": [
    {
     "name": "stdout",
     "output_type": "stream",
     "text": [
      "[5, 6, 7, 1, 2, 3, 4]\n"
     ]
    }
   ],
   "source": [
    "print(rotate([1,2,3,4,5,6,7], 3))"
   ]
  },
  {
   "cell_type": "markdown",
   "id": "b2c0cc7e",
   "metadata": {},
   "source": [
    "#### 485. Max Consecutive Ones"
   ]
  },
  {
   "cell_type": "code",
   "execution_count": 2,
   "id": "0982eec6",
   "metadata": {},
   "outputs": [],
   "source": [
    "from typing import List\n",
    "\n",
    "def findMaxConsecutiveOnes(nums: List[int]) -> int:\n",
    "    max_cnt = 0\n",
    "    cnt = 0\n",
    "    for num in nums:\n",
    "        if num == 1:\n",
    "            cnt += 1\n",
    "        else:\n",
    "            max_cnt = max(max_cnt, cnt)\n",
    "            cnt = 0\n",
    "\n",
    "    return max(max_cnt, cnt)"
   ]
  },
  {
   "cell_type": "markdown",
   "id": "2747914d",
   "metadata": {},
   "source": [
    "#### 1295. Find Numbers with Even Number of Digits"
   ]
  },
  {
   "cell_type": "code",
   "execution_count": 5,
   "id": "4bfaefc8",
   "metadata": {},
   "outputs": [],
   "source": [
    "from typing import List\n",
    "\n",
    "def findNumbers(nums: List[int]) -> int:\n",
    "    return len([num for num in nums if len(str(num)) % 2 == 0])"
   ]
  },
  {
   "cell_type": "code",
   "execution_count": null,
   "id": "b399b12f",
   "metadata": {},
   "outputs": [],
   "source": []
  }
 ],
 "metadata": {
  "kernelspec": {
   "display_name": "Python 3 (ipykernel)",
   "language": "python",
   "name": "python3"
  },
  "language_info": {
   "codemirror_mode": {
    "name": "ipython",
    "version": 3
   },
   "file_extension": ".py",
   "mimetype": "text/x-python",
   "name": "python",
   "nbconvert_exporter": "python",
   "pygments_lexer": "ipython3",
   "version": "3.8.16"
  }
 },
 "nbformat": 4,
 "nbformat_minor": 5
}
