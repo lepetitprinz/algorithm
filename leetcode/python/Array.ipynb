{
 "cells": [
  {
   "cell_type": "code",
   "execution_count": 1,
   "id": "be47b820",
   "metadata": {},
   "outputs": [],
   "source": [
    "from typing import List"
   ]
  },
  {
   "cell_type": "markdown",
   "id": "9e883ba3",
   "metadata": {},
   "source": [
    "#### 217. Contains Duplicate"
   ]
  },
  {
   "cell_type": "code",
   "execution_count": null,
   "id": "6a7ad2a9",
   "metadata": {},
   "outputs": [],
   "source": [
    "def containsDuplicate(nums: List[int]) -> bool:\n",
    "    flag = True\n",
    "    if len(nums) == len(set(nums)):\n",
    "        flag = False\n",
    "    \n",
    "    return flag"
   ]
  },
  {
   "cell_type": "code",
   "execution_count": null,
   "id": "f935cb20",
   "metadata": {},
   "outputs": [],
   "source": [
    "def containsDuplicate(nums: List[int]) -> bool:\n",
    "    return len(nums) != len(set(nums))"
   ]
  }
 ],
 "metadata": {
  "kernelspec": {
   "display_name": "Python 3 (ipykernel)",
   "language": "python",
   "name": "python3"
  },
  "language_info": {
   "codemirror_mode": {
    "name": "ipython",
    "version": 3
   },
   "file_extension": ".py",
   "mimetype": "text/x-python",
   "name": "python",
   "nbconvert_exporter": "python",
   "pygments_lexer": "ipython3",
   "version": "3.8.16"
  }
 },
 "nbformat": 4,
 "nbformat_minor": 5
}
