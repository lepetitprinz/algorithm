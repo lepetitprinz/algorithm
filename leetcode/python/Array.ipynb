{
 "cells": [
  {
   "cell_type": "code",
   "execution_count": 1,
   "id": "be47b820",
   "metadata": {},
   "outputs": [],
   "source": [
    "from typing import List"
   ]
  },
  {
   "cell_type": "markdown",
   "id": "9e883ba3",
   "metadata": {},
   "source": [
    "#### 217. Contains Duplicate"
   ]
  },
  {
   "cell_type": "code",
   "execution_count": null,
   "id": "6a7ad2a9",
   "metadata": {},
   "outputs": [],
   "source": [
    "def containsDuplicate(nums: List[int]) -> bool:\n",
    "    flag = True\n",
    "    if len(nums) == len(set(nums)):\n",
    "        flag = False\n",
    "    \n",
    "    return flag"
   ]
  },
  {
   "cell_type": "code",
   "execution_count": null,
   "id": "f935cb20",
   "metadata": {},
   "outputs": [],
   "source": [
    "def containsDuplicate(nums: List[int]) -> bool:\n",
    "    return len(nums) != len(set(nums))"
   ]
  },
  {
   "cell_type": "markdown",
   "id": "c9544c42",
   "metadata": {},
   "source": [
    "#### 350. Intersection of Two Arrays II"
   ]
  },
  {
   "cell_type": "code",
   "execution_count": 23,
   "id": "7da2734c",
   "metadata": {},
   "outputs": [],
   "source": [
    "from collections import Counter\n",
    "\n",
    "def intersect(nums1, nums2):\n",
    "    \"\"\"\n",
    "    :type nums1: List[int]\n",
    "    :type nums2: List[int]\n",
    "    :rtype: List[int]\n",
    "    \"\"\"\n",
    "    if len(nums1) > len(nums2): \n",
    "        return intersect(nums2, nums1)\n",
    "    \n",
    "    counter = Counter(nums1)\n",
    "    result = []\n",
    "    for num in nums2:\n",
    "        if counter[num] > 0:\n",
    "            result.append(num)\n",
    "            counter[num] -= 1\n",
    "    \n",
    "    return result"
   ]
  },
  {
   "cell_type": "markdown",
   "id": "6ef2cf83",
   "metadata": {},
   "source": [
    "#### 566. Reshape the Matrix"
   ]
  },
  {
   "cell_type": "code",
   "execution_count": 11,
   "id": "313b2449",
   "metadata": {},
   "outputs": [],
   "source": [
    "    def matrixReshape(mat, r, c):\n",
    "        \"\"\"\n",
    "        :type mat: List[List[int]]\n",
    "        :type r: int\n",
    "        :type c: int\n",
    "        :rtype: List[List[int]]\n",
    "        \"\"\"\n",
    "        arr_len = len(mat) * len(mat[0])\n",
    "        if r * c != arr_len:\n",
    "            return mat\n",
    "        \n",
    "        new_mat = []\n",
    "        temp = []\n",
    "        col = 0\n",
    "        for row in mat:\n",
    "            for val in row:\n",
    "                if col < c:\n",
    "                    temp.append(val)\n",
    "                    col += 1\n",
    "                else:\n",
    "                    new_mat.append(temp)\n",
    "                    temp = [val]\n",
    "                    col = 1\n",
    "        else:\n",
    "            new_mat.append(temp)\n",
    "        \n",
    "        return new_mat"
   ]
  },
  {
   "cell_type": "code",
   "execution_count": 13,
   "id": "d7c294f8",
   "metadata": {},
   "outputs": [
    {
     "name": "stdout",
     "output_type": "stream",
     "text": [
      "[[1, 2, 3, 4]]\n",
      "[[1, 2], [3, 3], [4, 5]]\n",
      "[[1, 2, 3], [3, 4, 5]]\n"
     ]
    }
   ],
   "source": [
    "mat = [[1,2],[3,4]]\n",
    "r = 1\n",
    "c = 4\n",
    "print(matrixReshape(mat, r, c))\n",
    "\n",
    "mat = [[1,2,3],[3,4,5]]\n",
    "r = 3\n",
    "c = 2\n",
    "print(matrixReshape(mat, r, c))\n",
    "\n",
    "mat = [[1,2,3],[3,4,5]]\n",
    "r = 5\n",
    "c = 2\n",
    "print(matrixReshape(mat, r, c))"
   ]
  },
  {
   "cell_type": "markdown",
   "id": "19bb2fc4",
   "metadata": {},
   "source": [
    "#### 36. Valid Sudoku"
   ]
  },
  {
   "cell_type": "code",
   "execution_count": 37,
   "id": "e831a00b",
   "metadata": {},
   "outputs": [],
   "source": [
    "def isValidSudoku(board):\n",
    "    \"\"\"\n",
    "    :type board: List[List[str]]\n",
    "    :rtype: bool\n",
    "    \"\"\"\n",
    "    # check rows\n",
    "    is_valid_row = check_row(board)\n",
    "    is_valid_col = check_col(board)\n",
    "    is_valid_mat = check_mat(board)\n",
    "    \n",
    "    return is_valid_row and is_valid_col and is_valid_mat\n",
    "\n",
    "def check_row(board):\n",
    "    for row in board:\n",
    "        nums = set()\n",
    "        for value in row:\n",
    "            if value != \".\":\n",
    "                if value in nums:\n",
    "                    return False\n",
    "                else:\n",
    "                    nums.add(value)\n",
    "    \n",
    "    return True\n",
    "\n",
    "def check_col(board):\n",
    "    for i in range(9):\n",
    "        nums = set()\n",
    "        for j in range(9):\n",
    "            value = board[j][i]\n",
    "            if value != \".\":\n",
    "                if value in nums:\n",
    "                    return False\n",
    "                else:\n",
    "                    nums.add(value)\n",
    "            \n",
    "    return True\n",
    "\n",
    "def check_mat(board):\n",
    "    for i in range(3):\n",
    "        for j in range(3):\n",
    "            nums = set()\n",
    "            for m in range(3):\n",
    "                for n in range(3):\n",
    "                    value = board[i * 3 + m][j * 3 + n]\n",
    "                    if value != \".\":\n",
    "                        if value in nums:\n",
    "                            return False\n",
    "                        else:\n",
    "                            nums.add(value)\n",
    "                            \n",
    "    return True"
   ]
  },
  {
   "cell_type": "code",
   "execution_count": 42,
   "id": "9ac127ea",
   "metadata": {},
   "outputs": [
    {
     "name": "stdout",
     "output_type": "stream",
     "text": [
      "True\n"
     ]
    }
   ],
   "source": [
    "board = [\n",
    "    [\"5\",\"3\",\".\",\".\",\"7\",\".\",\".\",\".\",\".\"],\n",
    "    [\"6\",\".\",\".\",\"1\",\"9\",\"5\",\".\",\".\",\".\"],\n",
    "    [\".\",\"9\",\"8\",\".\",\".\",\".\",\".\",\"6\",\".\"],\n",
    "    [\"8\",\".\",\".\",\".\",\"6\",\".\",\".\",\".\",\"3\"],\n",
    "    [\"4\",\".\",\".\",\"8\",\".\",\"3\",\".\",\".\",\"1\"],\n",
    "    [\"7\",\".\",\".\",\".\",\"2\",\".\",\".\",\".\",\"6\"],\n",
    "    [\".\",\"6\",\".\",\".\",\".\",\".\",\"2\",\"8\",\".\"],\n",
    "    [\".\",\".\",\".\",\"4\",\"1\",\"9\",\".\",\".\",\"5\"],\n",
    "    [\".\",\".\",\".\",\".\",\"8\",\".\",\".\",\"7\",\"9\"]]\n",
    "\n",
    "print(isValidSudoku(board))"
   ]
  },
  {
   "cell_type": "code",
   "execution_count": 43,
   "id": "f4551da0",
   "metadata": {},
   "outputs": [
    {
     "name": "stdout",
     "output_type": "stream",
     "text": [
      "False\n"
     ]
    }
   ],
   "source": [
    "board = [\n",
    "    [\".\",\".\",\".\",\".\",\"5\",\".\",\".\",\"1\",\".\"],\n",
    "    [\".\",\"4\",\".\",\"3\",\".\",\".\",\".\",\".\",\".\"],\n",
    "    [\".\",\".\",\".\",\".\",\".\",\"3\",\".\",\".\",\"1\"],\n",
    "    [\"8\",\".\",\".\",\".\",\".\",\".\",\".\",\"2\",\".\"],\n",
    "    [\".\",\".\",\"2\",\".\",\"7\",\".\",\".\",\".\",\".\"],\n",
    "    [\".\",\"1\",\"5\",\".\",\".\",\".\",\".\",\".\",\".\"],\n",
    "    [\".\",\".\",\".\",\".\",\".\",\"2\",\".\",\".\",\".\"],\n",
    "    [\".\",\"2\",\".\",\"9\",\".\",\".\",\".\",\".\",\".\"],\n",
    "    [\".\",\".\",\"4\",\".\",\".\",\".\",\".\",\".\",\".\"]]\n",
    "\n",
    "print(isValidSudoku(board))"
   ]
  },
  {
   "cell_type": "code",
   "execution_count": null,
   "id": "bd0da893",
   "metadata": {},
   "outputs": [],
   "source": []
  }
 ],
 "metadata": {
  "kernelspec": {
   "display_name": "Python 3 (ipykernel)",
   "language": "python",
   "name": "python3"
  },
  "language_info": {
   "codemirror_mode": {
    "name": "ipython",
    "version": 3
   },
   "file_extension": ".py",
   "mimetype": "text/x-python",
   "name": "python",
   "nbconvert_exporter": "python",
   "pygments_lexer": "ipython3",
   "version": "3.8.16"
  }
 },
 "nbformat": 4,
 "nbformat_minor": 5
}
