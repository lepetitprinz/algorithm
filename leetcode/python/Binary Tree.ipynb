{
 "cells": [
  {
   "cell_type": "markdown",
   "id": "4f4342d2",
   "metadata": {},
   "source": [
    "#### 144. Binary Tree Preorder Traversal"
   ]
  },
  {
   "cell_type": "code",
   "execution_count": 1,
   "id": "5a4869b2",
   "metadata": {},
   "outputs": [],
   "source": [
    "from typing import Optional, List\n",
    "\n",
    "\n",
    "class TreeNode:\n",
    "    def __init__(self, val=0, left=None, right=None):\n",
    "        self.val = val\n",
    "        self.left = left\n",
    "        self.right = right\n",
    "\n",
    "def preorderTraversal(root: Optional[TreeNode]) -> List[int]:\n",
    "    def preOrder(curr):\n",
    "    if curr:\n",
    "        yield curr.val\n",
    "        for i in preOrder(curr.left):\n",
    "            yield i\n",
    "        for j in preOrder(curr.right):\n",
    "            yield j\n",
    "    \n",
    "    pre_order = preOrder(root)\n",
    "    ans = []\n",
    "    for i in pre_order:\n",
    "        ans.append(i)\n",
    "    \n",
    "    return ans\n",
    "    \n",
    "def preorderTraversal(root: Optional[TreeNode]) -> List[int]:\n",
    "    if not root: return []\n",
    "    \n",
    "    stack = [root]\n",
    "    output = []\n",
    "    \n",
    "    while stack:\n",
    "        node = stack.pop()\n",
    "        output.append(node.val)\n",
    "        \n",
    "        if node.right:\n",
    "            stack.append(node.right)\n",
    "        if node.left:\n",
    "            stack.append(node.left)\n",
    "            \n",
    "    return output"
   ]
  }
 ],
 "metadata": {
  "kernelspec": {
   "display_name": "Python 3 (ipykernel)",
   "language": "python",
   "name": "python3"
  },
  "language_info": {
   "codemirror_mode": {
    "name": "ipython",
    "version": 3
   },
   "file_extension": ".py",
   "mimetype": "text/x-python",
   "name": "python",
   "nbconvert_exporter": "python",
   "pygments_lexer": "ipython3",
   "version": "3.8.16"
  }
 },
 "nbformat": 4,
 "nbformat_minor": 5
}
