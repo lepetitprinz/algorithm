{
 "cells": [
  {
   "cell_type": "code",
   "execution_count": null,
   "id": "82a3459f",
   "metadata": {},
   "outputs": [],
   "source": [
    "def checkInclusion(s1: str, s2: str) -> bool:\n",
    "    len_s1 = len(s1)\n",
    "    if len_s1 > len(s2):\n",
    "        return False\n",
    "    \n",
    "    s1_cnt = [0] * 26\n",
    "    s2_cnt = [0] * 26\n",
    "    for i in range(len_s1):\n",
    "        s1_cnt[ord(s1[i]) - ord('a')] += 1\n",
    "        s2_cnt[ord(s2[i]) - ord('a')] += 1\n",
    "        \n",
    "    if s2_cnt == s1_cnt:\n",
    "        return True\n",
    "    \n",
    "    for i in range(len(s1) - len_s1):\n",
    "        s2_cnt[ord(s2[i]) - ord('a')] -= 1\n",
    "        s2_cnt[ord(s2[i + len_s1]) - ord('a')] += 1\n",
    "        if s2_cnt == s1_cnt:\n",
    "            return True\n",
    "    \n",
    "    return False"
   ]
  },
  {
   "cell_type": "markdown",
   "id": "3e59571d",
   "metadata": {},
   "source": [
    "#### 3. Longest Substring Without Repeating Characters"
   ]
  },
  {
   "cell_type": "code",
   "execution_count": 11,
   "id": "c49bc6d2",
   "metadata": {},
   "outputs": [],
   "source": [
    "from collections import deque\n",
    "\n",
    "def lengthOfLongestSubstring(s: str) -> int:\n",
    "    max_len = 0\n",
    "    queue = deque([])\n",
    "    \n",
    "    for char in s:\n",
    "        if char in queue:\n",
    "            length = len(queue)\n",
    "            if length > max_len:\n",
    "                max_len = length\n",
    "            \n",
    "            while True:\n",
    "                pop_char = queue.popleft()\n",
    "                if pop_char == char:\n",
    "                    break\n",
    "            queue.append(char)\n",
    "        else:\n",
    "            queue.append(char)\n",
    "    \n",
    "    return max_len"
   ]
  },
  {
   "cell_type": "code",
   "execution_count": 14,
   "id": "247b2f51",
   "metadata": {},
   "outputs": [
    {
     "name": "stdout",
     "output_type": "stream",
     "text": [
      "3\n",
      "1\n",
      "3\n"
     ]
    }
   ],
   "source": [
    "print(lengthOfLongestSubstring(\"abcabcbb\"))\n",
    "print(lengthOfLongestSubstring(\"bbbbb\"))\n",
    "print(lengthOfLongestSubstring(\"pwwkew\"))"
   ]
  },
  {
   "cell_type": "code",
   "execution_count": null,
   "id": "2d4598e3",
   "metadata": {},
   "outputs": [],
   "source": []
  }
 ],
 "metadata": {
  "kernelspec": {
   "display_name": "Python 3 (ipykernel)",
   "language": "python",
   "name": "python3"
  },
  "language_info": {
   "codemirror_mode": {
    "name": "ipython",
    "version": 3
   },
   "file_extension": ".py",
   "mimetype": "text/x-python",
   "name": "python",
   "nbconvert_exporter": "python",
   "pygments_lexer": "ipython3",
   "version": "3.8.16"
  }
 },
 "nbformat": 4,
 "nbformat_minor": 5
}
