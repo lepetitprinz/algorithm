{
 "cells": [
  {
   "cell_type": "markdown",
   "id": "48a7af0a",
   "metadata": {},
   "source": [
    "#### 12847. 꿀 아르바이트"
   ]
  },
  {
   "cell_type": "code",
   "execution_count": 8,
   "id": "bd5a271e",
   "metadata": {
    "scrolled": false
   },
   "outputs": [
    {
     "name": "stdout",
     "output_type": "stream",
     "text": [
      "5 0\n",
      "1 2 3 4 5\n",
      "0\n"
     ]
    }
   ],
   "source": [
    "n, m = map(int, input().split())\n",
    "data = list(map(int, input().split()))\n",
    "\n",
    "\n",
    "slide_sum = sum(data[:m])\n",
    "max_sum = slide_sum\n",
    "\n",
    "for s, e in zip(data[:n - m], data[m:]):\n",
    "    slide_sum = slide_sum - s + e\n",
    "    if slide_sum > max_sum:\n",
    "        max_sum = slide_sum\n",
    "        \n",
    "print(max_sum)"
   ]
  },
  {
   "cell_type": "markdown",
   "id": "7392e087",
   "metadata": {},
   "source": [
    "#### 2167. 2차원 배열의 합"
   ]
  },
  {
   "cell_type": "code",
   "execution_count": null,
   "id": "e523de7d",
   "metadata": {},
   "outputs": [
    {
     "name": "stdout",
     "output_type": "stream",
     "text": [
      "2 3\n",
      "1 2 4\n"
     ]
    }
   ],
   "source": [
    "n, m = map(int, input().split())\n",
    "arr = []\n",
    "for _ in range(n):\n",
    "    row = list(map(int, input().split()))\n",
    "    cum_sum = 0\n",
    "    cum_sum_row = []\n",
    "    for val in row:\n",
    "        cum_sum += val\n",
    "        cum_sum_row.append(cum_sum)\n",
    "\n",
    "    arr.append(cum_sum_row)\n",
    "    \n",
    "def add(arr, x1, y1, x2, y2):\n",
    "    result = 0\n",
    "    for i in range(x1, x2 + 1):\n",
    "        if y1 == 0:\n",
    "            result += arr[i][y2]\n",
    "        else:\n",
    "            result += arr[i][y2] - arr[i][y1 - 1]\n",
    "    \n",
    "    return result\n",
    "    \n",
    "k = int(input())\n",
    "for _ in range(k):\n",
    "    x1, y1, x2, y2 = map(int, input().split())\n",
    "    result = add(arr, x1-1, y1-1, x2-1, y2-1)\n",
    "    print(result)"
   ]
  },
  {
   "cell_type": "code",
   "execution_count": null,
   "id": "2154ebae",
   "metadata": {},
   "outputs": [],
   "source": [
    "2 3\n",
    "1 2 4\n",
    "8 16 32\n",
    "3\n",
    "1 1 2 3\n",
    "1 2 1 2\n",
    "1 3 2 3"
   ]
  }
 ],
 "metadata": {
  "kernelspec": {
   "display_name": "Python 3 (ipykernel)",
   "language": "python",
   "name": "python3"
  },
  "language_info": {
   "codemirror_mode": {
    "name": "ipython",
    "version": 3
   },
   "file_extension": ".py",
   "mimetype": "text/x-python",
   "name": "python",
   "nbconvert_exporter": "python",
   "pygments_lexer": "ipython3",
   "version": "3.8.16"
  }
 },
 "nbformat": 4,
 "nbformat_minor": 5
}
