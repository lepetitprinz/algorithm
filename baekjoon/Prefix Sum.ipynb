{
 "cells": [
  {
   "cell_type": "markdown",
   "id": "48a7af0a",
   "metadata": {},
   "source": [
    "#### 12847. 꿀 아르바이트"
   ]
  },
  {
   "cell_type": "code",
   "execution_count": 8,
   "id": "bd5a271e",
   "metadata": {},
   "outputs": [
    {
     "name": "stdout",
     "output_type": "stream",
     "text": [
      "5 0\n",
      "1 2 3 4 5\n",
      "0\n"
     ]
    }
   ],
   "source": [
    "n, m = map(int, input().split())\n",
    "data = list(map(int, input().split()))\n",
    "\n",
    "\n",
    "slide_sum = sum(data[:m])\n",
    "max_sum = slide_sum\n",
    "\n",
    "for s, e in zip(data[:n - m], data[m:]):\n",
    "    slide_sum = slide_sum - s + e\n",
    "    if slide_sum > max_sum:\n",
    "        max_sum = slide_sum\n",
    "        \n",
    "print(max_sum)"
   ]
  }
 ],
 "metadata": {
  "kernelspec": {
   "display_name": "Python 3 (ipykernel)",
   "language": "python",
   "name": "python3"
  },
  "language_info": {
   "codemirror_mode": {
    "name": "ipython",
    "version": 3
   },
   "file_extension": ".py",
   "mimetype": "text/x-python",
   "name": "python",
   "nbconvert_exporter": "python",
   "pygments_lexer": "ipython3",
   "version": "3.8.15"
  }
 },
 "nbformat": 4,
 "nbformat_minor": 5
}
