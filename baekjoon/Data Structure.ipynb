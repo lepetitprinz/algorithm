{
 "cells": [
  {
   "cell_type": "markdown",
   "id": "7d78bc28",
   "metadata": {},
   "source": [
    "#### 10799. 쇠막대기"
   ]
  },
  {
   "cell_type": "code",
   "execution_count": 19,
   "id": "e0351646",
   "metadata": {},
   "outputs": [
    {
     "name": "stdout",
     "output_type": "stream",
     "text": [
      "()(((()())(())()))(())\n",
      "137\n"
     ]
    }
   ],
   "source": [
    "stick = input()\n",
    "result = 0\n",
    "stack = []\n",
    "for i in range(len(stick)):\n",
    "    if stick[i] == '(':\n",
    "        stack.append(stick[i])\n",
    "    else:\n",
    "        if stick[i-1] == '(': \n",
    "            stack.pop()\n",
    "            result += len(stick)\n",
    "        else:\n",
    "            stack.pop()\n",
    "            result += 1\n",
    "print(result)"
   ]
  },
  {
   "cell_type": "markdown",
   "id": "a320c9b1",
   "metadata": {},
   "source": [
    "#### 11507"
   ]
  },
  {
   "cell_type": "code",
   "execution_count": 13,
   "id": "e5533610",
   "metadata": {},
   "outputs": [
    {
     "name": "stdout",
     "output_type": "stream",
     "text": [
      "P01K02H03H04\n",
      "12 12 11 13\n"
     ]
    }
   ],
   "source": [
    "def append_card(cards, card_sort):\n",
    "    kind = {'P': 13, 'K': 13, 'H': 13, 'T': 13}\n",
    "    for card in cards:\n",
    "        if card in card_sort[card[0]]:\n",
    "            return ['GRESKA']\n",
    "        else:\n",
    "            card_sort[card[0]].append(card)\n",
    "    \n",
    "    result = []\n",
    "    for k in kind:\n",
    "        result.append(kind[k] - len(card_sort[k]))\n",
    "    \n",
    "    return result\n",
    "\n",
    "card_sort = {'P': [], 'K': [], 'H': [], 'T': []}\n",
    "answer = ''\n",
    "\n",
    "string = input()\n",
    "cards = [string[i: i+3] for i in range(0, len(string), 3)]\n",
    "result = append_card(cards, card_sort)\n",
    "print(*result)"
   ]
  },
  {
   "cell_type": "markdown",
   "id": "68f69397",
   "metadata": {},
   "source": [
    "#### 1927. 최소 힙"
   ]
  },
  {
   "cell_type": "code",
   "execution_count": 1,
   "id": "b80c0ee8",
   "metadata": {},
   "outputs": [],
   "source": [
    "from heapq import heappush, heappop\n",
    "\n",
    "n = int(input())\n",
    "heap = []\n",
    "for _ in range(n):\n",
    "    val = int(input())\n",
    "    if val == 0:\n",
    "        if len(heap) == 0:\n",
    "            print(0)\n",
    "        else:\n",
    "            print(heappop(heap))\n",
    "    else:\n",
    "        heappush(heap, val)"
   ]
  },
  {
   "cell_type": "markdown",
   "id": "21f91e51",
   "metadata": {},
   "source": [
    "#### 11101. 꿍의 여친 만들기"
   ]
  },
  {
   "cell_type": "code",
   "execution_count": 6,
   "id": "30289ef2",
   "metadata": {},
   "outputs": [
    {
     "name": "stdout",
     "output_type": "stream",
     "text": [
      "1\n",
      "a:14,b:13,c:14,d:11\n",
      "a&b&c|d&a&c|a|b&d\n",
      "13\n"
     ]
    }
   ],
   "source": [
    "t = int(input())\n",
    "\n",
    "for _ in range(t):\n",
    "    # make ability hash map\n",
    "    abilities = {}\n",
    "    for ability_score in input().split(','):\n",
    "        ability, score = ability_score.split(':')\n",
    "        abilities[ability] = int(score)\n",
    "    \n",
    "    min_time = 1000\n",
    "    for cand_group in input().split('|'):\n",
    "        candidates = cand_group.split('&')\n",
    "        time = max([abilities[cand] for cand in candidates])\n",
    "        if time < min_time:\n",
    "            min_time = time\n",
    "    print(min_time)"
   ]
  },
  {
   "cell_type": "markdown",
   "id": "3ee8276e",
   "metadata": {},
   "source": [
    "#### 5430. AC"
   ]
  },
  {
   "cell_type": "code",
   "execution_count": 1,
   "id": "0dbe3d17",
   "metadata": {},
   "outputs": [],
   "source": [
    "input = lambda: sys.stdin.readline().strip()\n",
    "from collections import deque\n",
    "\n",
    "t = int(input())\n",
    "for _ in range(t):\n",
    "    command = list(input())\n",
    "    n = int(input())\n",
    "    data = eval(input())\n",
    "    if command.count('D') > n:\n",
    "        print('error')\n",
    "    else:\n",
    "        queue = deque(data)\n",
    "        rev_cnt = 0\n",
    "        for c in command:\n",
    "            if c == 'R':\n",
    "                rev_cnt += 1\n",
    "            else:\n",
    "                if rev_cnt % 2 == 1:\n",
    "                    queue.pop()\n",
    "                else:\n",
    "                    queue.popleft()\n",
    "        if rev_cnt % 2 == 1:\n",
    "            queue.reverse()   \n",
    "        result = str(list(queue)).replace(' ', '')\n",
    "        print(result)"
   ]
  },
  {
   "cell_type": "code",
   "execution_count": 21,
   "id": "61b74047",
   "metadata": {},
   "outputs": [
    {
     "name": "stdout",
     "output_type": "stream",
     "text": [
      "1\n",
      "RDD\n",
      "4\n",
      "[1,2,3,4]\n",
      "[2,1]\n"
     ]
    }
   ],
   "source": [
    "import sys\n",
    "from collections import deque\n",
    "# input = lambda: sys.stdin.readline().strip()\n",
    "\n",
    "def solve(data: list) -> str:\n",
    "    rev_cnt = 0\n",
    "    queue = deque(data)\n",
    "    for c in command:\n",
    "        if c == 'R':\n",
    "            rev_cnt += 1\n",
    "        else:\n",
    "            if not queue:\n",
    "                return 'error'\n",
    "            if rev_cnt % 2:\n",
    "                queue.pop()\n",
    "            else:\n",
    "                queue.popleft()\n",
    "    if rev_cnt % 2:\n",
    "        queue.reverse()\n",
    "    \n",
    "    return f\"[{','.join(map(str, queue))}]\"\n",
    "\n",
    "t = int(input())\n",
    "for _ in range(t):\n",
    "    command = list(input())\n",
    "    n = int(input())\n",
    "    data = eval(input())\n",
    "    print(solve(data))"
   ]
  },
  {
   "cell_type": "markdown",
   "id": "518d62b5",
   "metadata": {},
   "source": [
    "#### 25328. 문자열 집합 조합하기"
   ]
  },
  {
   "cell_type": "code",
   "execution_count": 40,
   "id": "97abbc87",
   "metadata": {},
   "outputs": [
    {
     "name": "stdout",
     "output_type": "stream",
     "text": [
      "a\n",
      "b\n",
      "cde\n",
      "1\n",
      "-1\n"
     ]
    }
   ],
   "source": [
    "from itertools import combinations\n",
    "from collections import Counter\n",
    "\n",
    "str_a = list(input())\n",
    "str_b = list(input())\n",
    "str_c = list(input())\n",
    "k = int(input())\n",
    "\n",
    "comb = []\n",
    "for string in [str_a, str_b, str_c]:\n",
    "    comb.extend(list(combinations(string, k)))\n",
    "\n",
    "result = []\n",
    "for key, val in Counter(comb).items():\n",
    "    if val >= 2:\n",
    "        result.append(''.join(key))\n",
    "\n",
    "if len(result) == 0:\n",
    "    print(-1)\n",
    "else:\n",
    "    result = sorted(result)\n",
    "    print(*result, sep='\\n')"
   ]
  },
  {
   "cell_type": "code",
   "execution_count": null,
   "id": "440ae94b",
   "metadata": {},
   "outputs": [],
   "source": []
  }
 ],
 "metadata": {
  "kernelspec": {
   "display_name": "Python 3 (ipykernel)",
   "language": "python",
   "name": "python3"
  },
  "language_info": {
   "codemirror_mode": {
    "name": "ipython",
    "version": 3
   },
   "file_extension": ".py",
   "mimetype": "text/x-python",
   "name": "python",
   "nbconvert_exporter": "python",
   "pygments_lexer": "ipython3",
   "version": "3.8.10"
  }
 },
 "nbformat": 4,
 "nbformat_minor": 5
}
