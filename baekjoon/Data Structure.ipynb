{
 "cells": [
  {
   "cell_type": "markdown",
   "id": "7d78bc28",
   "metadata": {},
   "source": [
    "#### 10799. 쇠막대기"
   ]
  },
  {
   "cell_type": "code",
   "execution_count": 19,
   "id": "e0351646",
   "metadata": {},
   "outputs": [
    {
     "name": "stdout",
     "output_type": "stream",
     "text": [
      "()(((()())(())()))(())\n",
      "137\n"
     ]
    }
   ],
   "source": [
    "stick = input()\n",
    "result = 0\n",
    "stack = []\n",
    "for i in range(len(stick)):\n",
    "    if stick[i] == '(':\n",
    "        stack.append(stick[i])\n",
    "    else:\n",
    "        if stick[i-1] == '(': \n",
    "            stack.pop()\n",
    "            result += len(stick)\n",
    "        else:\n",
    "            stack.pop()\n",
    "            result += 1\n",
    "print(result)"
   ]
  },
  {
   "cell_type": "code",
   "execution_count": null,
   "id": "a21033bb",
   "metadata": {},
   "outputs": [],
   "source": [
    "()(((()())(())()))(())"
   ]
  }
 ],
 "metadata": {
  "kernelspec": {
   "display_name": "Python 3 (ipykernel)",
   "language": "python",
   "name": "python3"
  },
  "language_info": {
   "codemirror_mode": {
    "name": "ipython",
    "version": 3
   },
   "file_extension": ".py",
   "mimetype": "text/x-python",
   "name": "python",
   "nbconvert_exporter": "python",
   "pygments_lexer": "ipython3",
   "version": "3.8.10"
  }
 },
 "nbformat": 4,
 "nbformat_minor": 5
}
