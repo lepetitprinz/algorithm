{
 "cells": [
  {
   "cell_type": "markdown",
   "id": "c3fe104f",
   "metadata": {},
   "source": [
    "#### 11053. 가장 긴 증가하는 부분 수열"
   ]
  },
  {
   "cell_type": "code",
   "execution_count": null,
   "id": "b3f3a799",
   "metadata": {},
   "outputs": [],
   "source": [
    "def dp(nums):\n",
    "    d = [[1, nums[0]]] + [[0, 0] for _ in range(len(nums) - 1)]\n",
    "    prev = nums[0]\n",
    "    for i, num in enumerate(nums[1:]):\n",
    "        if num > prev:\n",
    "            d[i] = [d[i-1][0] +1, ]\n",
    "        elif num < prev:\n",
    "            d[i] = count_prev(nums[:i+1])\n",
    "        else:\n",
    "            d[i] = d[i-1]\n",
    "    \n",
    "    return max(d)\n",
    "    \n",
    "n = int(input())\n",
    "nums = list(map(int, input().split()))\n",
    "print(dp(nums))"
   ]
  },
  {
   "cell_type": "markdown",
   "id": "99cbaa97",
   "metadata": {},
   "source": [
    "### 1912. 연속합"
   ]
  },
  {
   "cell_type": "code",
   "execution_count": null,
   "id": "85b48b6b",
   "metadata": {},
   "outputs": [],
   "source": [
    "n = int(input())\n",
    "nums = list(map(int, input().split()))\n",
    "\n",
    "max_val = -1000\n",
    "cumsum = 0\n",
    "for num in nums:        \n",
    "    cumsum += num\n",
    "    if cumsum > max_val:\n",
    "        max_val = cumsum\n",
    "    if cumsum < 0:\n",
    "        cumsum = 0\n",
    "        \n",
    "print(max_val)"
   ]
  },
  {
   "cell_type": "markdown",
   "id": "0da3e729",
   "metadata": {},
   "source": [
    "### 1149.RGB거리"
   ]
  },
  {
   "cell_type": "code",
   "execution_count": null,
   "id": "40f229e3",
   "metadata": {},
   "outputs": [],
   "source": [
    "n = int(input())\n",
    "\n",
    "d = list(map(int, input().split()))\n",
    "for _ in range(n-1):\n",
    "    a, b, c = map(int, input().split())\n",
    "    d[0], d[1], d[2] = a + min(d[1], d[2]), b + min(d[0], d[2]), c + min(d[0], d[1])\n",
    "    \n",
    "print(min(d))"
   ]
  },
  {
   "cell_type": "markdown",
   "id": "c1ecfc77",
   "metadata": {},
   "source": [
    "#### 4916. 거스름돈"
   ]
  },
  {
   "cell_type": "code",
   "execution_count": null,
   "id": "b213bc9a",
   "metadata": {},
   "outputs": [],
   "source": [
    "n = int(input())\n",
    "\n",
    "cnt = -1\n",
    "for i in range(n//5, -1, -1):\n",
    "    value = 5 * i\n",
    "    if n - value == 0:\n",
    "        cnt = i \n",
    "        break\n",
    "    elif (n - value) % 2 == 0:\n",
    "        cnt = i + (n - value) // 2 \n",
    "        break\n",
    "print(cnt)"
   ]
  },
  {
   "cell_type": "code",
   "execution_count": null,
   "id": "db835121",
   "metadata": {},
   "outputs": [],
   "source": [
    "n = int(input())\n",
    "dp = [0] + [-1] * n\n",
    "for i in range(n+1):\n",
    "    if i >= 5:\n",
    "        if dp[i-5] >= 0 and dp[i-2] >= 0:\n",
    "            dp[i] = min(dp[i-5] + 1, dp[i-2] + 1)\n",
    "        elif dp[i-5] >= 0:\n",
    "            dp[i] = dp[i-5] + 1\n",
    "        elif dp[i-2] >= 0:\n",
    "            dp[i] = dp[i-2] + 1\n",
    "\n",
    "    else:\n",
    "        if i % 2 == 0:\n",
    "            dp[i] = i // 2\n",
    "if dp[n] == 0:\n",
    "    print(-1)\n",
    "else:\n",
    "    print(dp[n])"
   ]
  },
  {
   "cell_type": "markdown",
   "id": "3179e2ea",
   "metadata": {},
   "source": [
    "#### 2491. 수열"
   ]
  },
  {
   "cell_type": "code",
   "execution_count": null,
   "id": "fb114b47",
   "metadata": {},
   "outputs": [],
   "source": [
    "n = int(input())\n",
    "data = list(map(int, input().split()))\n",
    "if n == 1:\n",
    "    print(1)\n",
    "else:\n",
    "    asc_list = []\n",
    "    des_list = []\n",
    "    ascend = 1\n",
    "    descend = 1\n",
    "    prev = data[0]\n",
    "    for num in data[1:]:\n",
    "        if num >= prev:\n",
    "            ascend += 1 \n",
    "        else:\n",
    "            asc_list.append(ascend)\n",
    "            ascend = 1\n",
    "        if num <= prev:\n",
    "            descend += 1\n",
    "        else:\n",
    "            des_list.append(descend)\n",
    "            descend = 1\n",
    "        prev = num\n",
    "    asc_list.append(ascend)\n",
    "    des_list.append(descend)\n",
    "\n",
    "    print(max(asc_list + des_list))"
   ]
  },
  {
   "cell_type": "markdown",
   "id": "ac322345",
   "metadata": {},
   "source": [
    "### 25214. 크림 파스타"
   ]
  },
  {
   "cell_type": "code",
   "execution_count": null,
   "id": "fd095f2b",
   "metadata": {},
   "outputs": [],
   "source": [
    "n = int(input())\n",
    "data = list(map(int, input().split()))\n",
    "result = []\n",
    "min_val = data[0]\n",
    "diff = 0\n",
    "for num in data:\n",
    "    if num < min_val:\n",
    "        min_val = num\n",
    "    if num - min_val > diff:\n",
    "        diff = num - min_val\n",
    "    result.append(diff)\n",
    "\n",
    "print(*result)"
   ]
  },
  {
   "cell_type": "markdown",
   "id": "9ad2a3c2",
   "metadata": {},
   "source": [
    "#### 2579. 계단 오르기"
   ]
  },
  {
   "cell_type": "code",
   "execution_count": null,
   "id": "33a35d6c",
   "metadata": {},
   "outputs": [],
   "source": [
    "def solution(n, stairs):\n",
    "    dp = [stairs[0]] + [0] * (n-1)\n",
    "    if n >= 1:\n",
    "        dp[1] = max(dp[0], stairs[1])\n",
    "    for i in range(2, n):\n",
    "        dp[i] = max(dp[i-1] + stairs[i-2], dp[i-1] + stairs[i])\n",
    "    \n",
    "    return dp\n",
    "\n",
    "n = int(input())\n",
    "stairs = [int(input()) for _ in range(n)]\n",
    "print(solution(n, stairs))"
   ]
  },
  {
   "cell_type": "markdown",
   "id": "5083a918",
   "metadata": {},
   "source": [
    "#### 13699. 점화식"
   ]
  },
  {
   "cell_type": "code",
   "execution_count": null,
   "id": "0efdcb30",
   "metadata": {},
   "outputs": [],
   "source": [
    "def dp(n):\n",
    "    d = [1] + [0] * (n)\n",
    "    \n",
    "    for i in range(1, n+1):\n",
    "        for j in range(n):\n",
    "            d[i] += d[j] * d[i+1]"
   ]
  },
  {
   "cell_type": "markdown",
   "id": "8178ff5f",
   "metadata": {},
   "source": [
    "#### 2670. 연속부분최대곱"
   ]
  },
  {
   "cell_type": "code",
   "execution_count": null,
   "id": "c8715300",
   "metadata": {},
   "outputs": [],
   "source": [
    "n = int(input())\n",
    "arr = list(float(input()) for _ in range(n))\n",
    "\n",
    "for i in range(1, n):\n",
    "    arr[i] = max(arr[i], arr[i] * arr[i - 1])\n",
    "print(f'{max(arr):.3f}')"
   ]
  },
  {
   "cell_type": "markdown",
   "id": "f99b61f4",
   "metadata": {},
   "source": [
    "#### 16395. 파스칼의 삼각형"
   ]
  },
  {
   "cell_type": "code",
   "execution_count": null,
   "id": "c90435d9",
   "metadata": {},
   "outputs": [],
   "source": [
    "def dp(n, k):\n",
    "    d = [[1] for _ in range(n+1)]\n",
    "    d[1].append(1)\n",
    "    for i in range(2, n):\n",
    "        before = d[i-1]\n",
    "        for j in range(i-1):\n",
    "            d[i].append(before[j] + before[j+1])\n",
    "        d[i].append(1)\n",
    "        \n",
    "    return d[n-1][k-1]\n",
    "    \n",
    "n, k = map(int, input().split())\n",
    "result = dp(n, k)\n",
    "print(result)"
   ]
  },
  {
   "cell_type": "markdown",
   "id": "4d481f69",
   "metadata": {},
   "source": [
    "#### 11726. 2xn 타일링"
   ]
  },
  {
   "cell_type": "code",
   "execution_count": null,
   "id": "aacafecd",
   "metadata": {},
   "outputs": [],
   "source": [
    "def dp(n):\n",
    "    d = [0, 1, 2] + [0] * (n-2)\n",
    "    for i in range(3, n+1):\n",
    "        d[i] = d[i-1] + d[i-2]\n",
    "    \n",
    "    return d[n] % 10007\n",
    "\n",
    "n = int(input())\n",
    "print(dp(n))"
   ]
  },
  {
   "cell_type": "markdown",
   "id": "3d229db7",
   "metadata": {},
   "source": [
    "#### 11727. 2xn 타일링 2"
   ]
  },
  {
   "cell_type": "code",
   "execution_count": null,
   "id": "db93e9bb",
   "metadata": {},
   "outputs": [],
   "source": [
    "def dp(n):\n",
    "    d = [0, 1, 3] + [0] * (n-2)\n",
    "    for i in range(3, n+1):\n",
    "        d[i] = d[i-1] + 2 * d[i-2]\n",
    "    \n",
    "    return d[n] % 10007\n",
    "    \n",
    "n = int(input())\n",
    "print(dp(n))"
   ]
  },
  {
   "cell_type": "markdown",
   "id": "6143e582",
   "metadata": {},
   "source": [
    "#### 10211. Maximum Subarray"
   ]
  },
  {
   "cell_type": "code",
   "execution_count": null,
   "id": "f24aafea",
   "metadata": {},
   "outputs": [],
   "source": [
    "def dp(data, n):\n",
    "    d = [data[0]] + [0] * (n-1)\n",
    "    for i in range(1, n):\n",
    "        d[i] = max(data[i], data[i] + d[i-1])\n",
    "        \n",
    "    return max(d)\n",
    "\n",
    "test = int(input())\n",
    "for _ in range(test):\n",
    "    n = int(input())\n",
    "    data = list(map(int, input().split()))\n",
    "    result = dp(data, n)\n",
    "    print(result)"
   ]
  },
  {
   "cell_type": "markdown",
   "id": "8441e53e",
   "metadata": {},
   "source": [
    "#### 16493 최대 페이지 수"
   ]
  },
  {
   "cell_type": "code",
   "execution_count": null,
   "id": "8a70e422",
   "metadata": {},
   "outputs": [],
   "source": [
    "n, m = map(int, input().split())\n",
    "data = []\n",
    "for _ in range(m):\n",
    "    data.append(list(map(int, input().split())))\n",
    "    "
   ]
  },
  {
   "cell_type": "markdown",
   "id": "7ed33236",
   "metadata": {},
   "source": [
    "#### 11444. 피보나치 수 6"
   ]
  },
  {
   "cell_type": "code",
   "execution_count": null,
   "id": "7992fcb2",
   "metadata": {},
   "outputs": [],
   "source": [
    "def dp(n):\n",
    "    bf = 0\n",
    "    af = 1\n",
    "    cnt = 1\n",
    "    while cnt < n:\n",
    "        af, bf = (af + bf) % 1000000007, af % 1000000007\n",
    "        cnt += 1\n",
    "    \n",
    "    return af % 1000000007\n",
    "\n",
    "n = int(input())\n",
    "print(dp(n))"
   ]
  },
  {
   "cell_type": "markdown",
   "id": "f2a2cf40",
   "metadata": {},
   "source": [
    "#### 17212. 달나라 토끼를 위한 구매대금 지불 도우미"
   ]
  },
  {
   "cell_type": "code",
   "execution_count": 7,
   "id": "98805aa9",
   "metadata": {},
   "outputs": [
    {
     "name": "stdout",
     "output_type": "stream",
     "text": [
      "21\n",
      "3\n"
     ]
    }
   ],
   "source": [
    "n = int(input())\n",
    "\n",
    "d = [0] * (n + 1)\n",
    "for i in range(1, n + 1):\n",
    "    d[i] = d[i - 1] + 1\n",
    "    if i > 1:\n",
    "        d[i] = min(d[i], d[i - 2] + 1)\n",
    "    if i > 4:\n",
    "        d[i] = min(d[i], d[i - 2] + 1, d[i - 5] + 1)\n",
    "    if i > 6:\n",
    "        d[i] = min(d[i],  d[i - 2] + 1, d[i - 5] + 1, d[i - 7] + 1)\n",
    "\n",
    "print(d[n])"
   ]
  },
  {
   "cell_type": "markdown",
   "id": "66fe909a",
   "metadata": {},
   "source": [
    "#### 15489. 파스칼 삼각형"
   ]
  },
  {
   "cell_type": "code",
   "execution_count": 21,
   "id": "2e929883",
   "metadata": {},
   "outputs": [
    {
     "name": "stdout",
     "output_type": "stream",
     "text": [
      "3 1 4\n",
      "42\n"
     ]
    }
   ],
   "source": [
    "def dp(n):\n",
    "    d = [[1] * i for i in range(1, n + 1)]\n",
    "    for i in range(1, n):\n",
    "        for j in range(1, i):\n",
    "            d[i][j] = d[i-1][j-1] + d[i-1][j]\n",
    "    \n",
    "    return d\n",
    "\n",
    "def sum_triangle(data, row_start, row_end, start_index):\n",
    "    total = 0\n",
    "    end_index = start_index + 1\n",
    "    for i in range(row_start, row_end):\n",
    "        for j in range(start_index, end_index):\n",
    "            total += data[i][j]\n",
    "        end_index += 1\n",
    "    \n",
    "    return total\n",
    "\n",
    "r, c, w = map(int, input().split())\n",
    "pascal = dp(r + w - 1)\n",
    "result = sum_triangle(pascal, r-1, r + w -1, c-1)\n",
    "print(result)"
   ]
  },
  {
   "cell_type": "code",
   "execution_count": null,
   "id": "49f54ced",
   "metadata": {},
   "outputs": [],
   "source": []
  }
 ],
 "metadata": {
  "kernelspec": {
   "display_name": "Python 3 (ipykernel)",
   "language": "python",
   "name": "python3"
  },
  "language_info": {
   "codemirror_mode": {
    "name": "ipython",
    "version": 3
   },
   "file_extension": ".py",
   "mimetype": "text/x-python",
   "name": "python",
   "nbconvert_exporter": "python",
   "pygments_lexer": "ipython3",
   "version": "3.8.10"
  }
 },
 "nbformat": 4,
 "nbformat_minor": 5
}
