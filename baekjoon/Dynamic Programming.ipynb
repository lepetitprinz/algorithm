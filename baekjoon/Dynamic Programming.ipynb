{
 "cells": [
  {
   "cell_type": "markdown",
   "id": "58ed21c5",
   "metadata": {},
   "source": [
    "### 9461 파도반 수열"
   ]
  },
  {
   "cell_type": "markdown",
   "id": "f011ed77",
   "metadata": {},
   "source": [
    "def seq(n):\n",
    "    if n == 0:\n",
    "        return 0\n",
    "    elif n < 4:\n",
    "        return 1\n",
    "    elif n < 6:\n",
    "        return 2\n",
    "    if memory[n] != 0:\n",
    "        return memory[n]\n",
    "    memory[n] = seq(n-1) + seq(n-5)\n",
    "    \n",
    "    return memory[n]\n",
    "\n",
    "n = int(input())\n",
    "\n",
    "for _ in range(n):\n",
    "    test = int(input())\n",
    "    memory = [0] * (test+1)\n",
    "    print(seq(test))"
   ]
  },
  {
   "cell_type": "markdown",
   "id": "c3fe104f",
   "metadata": {},
   "source": [
    "### 11053. 가장 긴 증가하는 부분 수열"
   ]
  },
  {
   "cell_type": "code",
   "execution_count": null,
   "id": "b3f3a799",
   "metadata": {},
   "outputs": [],
   "source": [
    "n = int(input())\n",
    "nums = list(map(int, input().split()))\n",
    "\n",
    "cnt_max = 0\n",
    "cnt = 1\n",
    "number = 1001\n",
    "for i, num in enumerate(nums):\n",
    "    if num < number:\n",
    "        temp = 0\n",
    "        for comp in nums[i+1:]:\n",
    "            if comp > num:\n",
    "                cnt += 1\n",
    "                num = comp\n",
    "        if cnt > cnt_max:\n",
    "            cnt_max = cnt\n",
    "        cnt = 1\n",
    "        number = num\n",
    "\n",
    "print(cnt_max)"
   ]
  },
  {
   "cell_type": "markdown",
   "id": "99cbaa97",
   "metadata": {},
   "source": [
    "### 1912. 연속합"
   ]
  },
  {
   "cell_type": "code",
   "execution_count": null,
   "id": "85b48b6b",
   "metadata": {},
   "outputs": [],
   "source": [
    "n = int(input())\n",
    "nums = list(map(int, input().split()))\n",
    "\n",
    "max_val = -1000\n",
    "cumsum = 0\n",
    "for num in nums:        \n",
    "    cumsum += num\n",
    "    if cumsum > max_val:\n",
    "        max_val = cumsum\n",
    "    if cumsum < 0:\n",
    "        cumsum = 0\n",
    "        \n",
    "print(max_val)"
   ]
  },
  {
   "cell_type": "markdown",
   "id": "0da3e729",
   "metadata": {},
   "source": [
    "### 1149.RGB거리"
   ]
  },
  {
   "cell_type": "code",
   "execution_count": 3,
   "id": "40f229e3",
   "metadata": {},
   "outputs": [
    {
     "name": "stdout",
     "output_type": "stream",
     "text": [
      "6\n",
      "30 19 5\n",
      "64 77 64\n",
      "15 19 97\n",
      "4 71 57\n",
      "90 86 84\n",
      "93 32 91\n",
      "208\n"
     ]
    }
   ],
   "source": [
    "n = int(input())\n",
    "\n",
    "d = list(map(int, input().split()))\n",
    "for _ in range(n-1):\n",
    "    a, b, c = map(int, input().split())\n",
    "    d[0], d[1], d[2] = a + min(d[1], d[2]), b + min(d[0], d[2]), c + min(d[0], d[1])\n",
    "    \n",
    "print(min(d))"
   ]
  },
  {
   "cell_type": "code",
   "execution_count": null,
   "id": "ad94ab36",
   "metadata": {},
   "outputs": [],
   "source": [
    "     /~\\\n",
    "    ( oo|\n",
    "    _\\=/_\n",
    "   /  _  \\\n",
    "  //|/.\\|\\\\\n",
    " ||  \\ /  ||\n",
    "============\n",
    "|          |\n",
    "|          |\n",
    "|          |"
   ]
  },
  {
   "cell_type": "code",
   "execution_count": 14,
   "id": "e31f0e83",
   "metadata": {},
   "outputs": [
    {
     "name": "stdout",
     "output_type": "stream",
     "text": [
      "     /~\\\n",
      "    ( oo|\n",
      "    _\\=/_\n",
      "   /  _  \\\n",
      "  //|/.\\|\\\\\n",
      " ||  \\ /  ||\n",
      "============\n",
      "|          |\n",
      "|          |\n",
      "|          |\n"
     ]
    }
   ],
   "source": [
    "total = 0\n",
    "for _ in range(5):\n",
    "    int(input)"
   ]
  },
  {
   "cell_type": "code",
   "execution_count": null,
   "id": "21a126d4",
   "metadata": {},
   "outputs": [],
   "source": []
  }
 ],
 "metadata": {
  "kernelspec": {
   "display_name": "Python 3 (ipykernel)",
   "language": "python",
   "name": "python3"
  },
  "language_info": {
   "codemirror_mode": {
    "name": "ipython",
    "version": 3
   },
   "file_extension": ".py",
   "mimetype": "text/x-python",
   "name": "python",
   "nbconvert_exporter": "python",
   "pygments_lexer": "ipython3",
   "version": "3.8.10"
  }
 },
 "nbformat": 4,
 "nbformat_minor": 5
}
