{
 "cells": [
  {
   "cell_type": "markdown",
   "id": "99cbaa97",
   "metadata": {},
   "source": [
    "#### 1912. 연속합"
   ]
  },
  {
   "cell_type": "code",
   "execution_count": null,
   "id": "85b48b6b",
   "metadata": {},
   "outputs": [],
   "source": [
    "n = int(input())\n",
    "nums = list(map(int, input().split()))\n",
    "\n",
    "max_val = -1000\n",
    "cumsum = 0\n",
    "for num in nums:        \n",
    "    cumsum += num\n",
    "    if cumsum > max_val:\n",
    "        max_val = cumsum\n",
    "    if cumsum < 0:\n",
    "        cumsum = 0\n",
    "        \n",
    "print(max_val)"
   ]
  },
  {
   "cell_type": "markdown",
   "id": "0da3e729",
   "metadata": {},
   "source": [
    "#### 1149.RGB거리"
   ]
  },
  {
   "cell_type": "code",
   "execution_count": null,
   "id": "40f229e3",
   "metadata": {},
   "outputs": [],
   "source": [
    "n = int(input())\n",
    "\n",
    "d = list(map(int, input().split()))\n",
    "for _ in range(n-1):\n",
    "    a, b, c = map(int, input().split())\n",
    "    d[0], d[1], d[2] = a + min(d[1], d[2]), b + min(d[0], d[2]), c + min(d[0], d[1])\n",
    "    \n",
    "print(min(d))"
   ]
  },
  {
   "cell_type": "markdown",
   "id": "c1ecfc77",
   "metadata": {},
   "source": [
    "#### 4916. 거스름돈"
   ]
  },
  {
   "cell_type": "code",
   "execution_count": null,
   "id": "b213bc9a",
   "metadata": {},
   "outputs": [],
   "source": [
    "n = int(input())\n",
    "\n",
    "cnt = -1\n",
    "for i in range(n//5, -1, -1):\n",
    "    value = 5 * i\n",
    "    if n - value == 0:\n",
    "        cnt = i \n",
    "        break\n",
    "    elif (n - value) % 2 == 0:\n",
    "        cnt = i + (n - value) // 2 \n",
    "        break\n",
    "print(cnt)"
   ]
  },
  {
   "cell_type": "code",
   "execution_count": null,
   "id": "db835121",
   "metadata": {},
   "outputs": [],
   "source": [
    "n = int(input())\n",
    "dp = [0] + [-1] * n\n",
    "for i in range(n+1):\n",
    "    if i >= 5:\n",
    "        if dp[i-5] >= 0 and dp[i-2] >= 0:\n",
    "            dp[i] = min(dp[i-5] + 1, dp[i-2] + 1)\n",
    "        elif dp[i-5] >= 0:\n",
    "            dp[i] = dp[i-5] + 1\n",
    "        elif dp[i-2] >= 0:\n",
    "            dp[i] = dp[i-2] + 1\n",
    "\n",
    "    else:\n",
    "        if i % 2 == 0:\n",
    "            dp[i] = i // 2\n",
    "if dp[n] == 0:\n",
    "    print(-1)\n",
    "else:\n",
    "    print(dp[n])"
   ]
  },
  {
   "cell_type": "markdown",
   "id": "3179e2ea",
   "metadata": {},
   "source": [
    "#### 2491. 수열"
   ]
  },
  {
   "cell_type": "code",
   "execution_count": null,
   "id": "fb114b47",
   "metadata": {},
   "outputs": [],
   "source": [
    "n = int(input())\n",
    "data = list(map(int, input().split()))\n",
    "if n == 1:\n",
    "    print(1)\n",
    "else:\n",
    "    asc_list = []\n",
    "    des_list = []\n",
    "    ascend = 1\n",
    "    descend = 1\n",
    "    prev = data[0]\n",
    "    for num in data[1:]:\n",
    "        if num >= prev:\n",
    "            ascend += 1 \n",
    "        else:\n",
    "            asc_list.append(ascend)\n",
    "            ascend = 1\n",
    "        if num <= prev:\n",
    "            descend += 1\n",
    "        else:\n",
    "            des_list.append(descend)\n",
    "            descend = 1\n",
    "        prev = num\n",
    "    asc_list.append(ascend)\n",
    "    des_list.append(descend)\n",
    "\n",
    "    print(max(asc_list + des_list))"
   ]
  },
  {
   "cell_type": "markdown",
   "id": "ac322345",
   "metadata": {},
   "source": [
    "### 25214. 크림 파스타"
   ]
  },
  {
   "cell_type": "code",
   "execution_count": null,
   "id": "fd095f2b",
   "metadata": {},
   "outputs": [],
   "source": [
    "n = int(input())\n",
    "data = list(map(int, input().split()))\n",
    "result = []\n",
    "min_val = data[0]\n",
    "diff = 0\n",
    "for num in data:\n",
    "    if num < min_val:\n",
    "        min_val = num\n",
    "    if num - min_val > diff:\n",
    "        diff = num - min_val\n",
    "    result.append(diff)\n",
    "\n",
    "print(*result)"
   ]
  },
  {
   "cell_type": "markdown",
   "id": "9ad2a3c2",
   "metadata": {},
   "source": [
    "#### 2579. 계단 오르기"
   ]
  },
  {
   "cell_type": "code",
   "execution_count": null,
   "id": "33a35d6c",
   "metadata": {},
   "outputs": [],
   "source": [
    "def solution(n, stairs):\n",
    "    dp = [stairs[0]] + [0] * (n-1)\n",
    "    if n >= 1:\n",
    "        dp[1] = max(dp[0], stairs[1])\n",
    "    for i in range(2, n):\n",
    "        dp[i] = max(dp[i-1] + stairs[i-2], dp[i-1] + stairs[i])\n",
    "    \n",
    "    return dp\n",
    "\n",
    "n = int(input())\n",
    "stairs = [int(input()) for _ in range(n)]\n",
    "print(solution(n, stairs))"
   ]
  },
  {
   "cell_type": "markdown",
   "id": "5083a918",
   "metadata": {},
   "source": [
    "#### 13699. 점화식"
   ]
  },
  {
   "cell_type": "code",
   "execution_count": null,
   "id": "0efdcb30",
   "metadata": {},
   "outputs": [],
   "source": [
    "def dp(n):\n",
    "    d = [1] + [0] * (n)\n",
    "    \n",
    "    for i in range(1, n+1):\n",
    "        for j in range(n):\n",
    "            d[i] += d[j] * d[i+1]"
   ]
  },
  {
   "cell_type": "markdown",
   "id": "8178ff5f",
   "metadata": {},
   "source": [
    "#### 2670. 연속부분최대곱"
   ]
  },
  {
   "cell_type": "code",
   "execution_count": null,
   "id": "c8715300",
   "metadata": {},
   "outputs": [],
   "source": [
    "n = int(input())\n",
    "arr = list(float(input()) for _ in range(n))\n",
    "\n",
    "for i in range(1, n):\n",
    "    arr[i] = max(arr[i], arr[i] * arr[i - 1])\n",
    "print(f'{max(arr):.3f}')"
   ]
  },
  {
   "cell_type": "markdown",
   "id": "f99b61f4",
   "metadata": {},
   "source": [
    "#### 16395. 파스칼의 삼각형"
   ]
  },
  {
   "cell_type": "code",
   "execution_count": null,
   "id": "c90435d9",
   "metadata": {},
   "outputs": [],
   "source": [
    "def dp(n, k):\n",
    "    d = [[1] for _ in range(n+1)]\n",
    "    d[1].append(1)\n",
    "    for i in range(2, n):\n",
    "        before = d[i-1]\n",
    "        for j in range(i-1):\n",
    "            d[i].append(before[j] + before[j+1])\n",
    "        d[i].append(1)\n",
    "        \n",
    "    return d[n-1][k-1]\n",
    "    \n",
    "n, k = map(int, input().split())\n",
    "result = dp(n, k)\n",
    "print(result)"
   ]
  },
  {
   "cell_type": "markdown",
   "id": "4d481f69",
   "metadata": {},
   "source": [
    "#### 11726. 2xn 타일링"
   ]
  },
  {
   "cell_type": "code",
   "execution_count": null,
   "id": "aacafecd",
   "metadata": {},
   "outputs": [],
   "source": [
    "def dp(n):\n",
    "    d = [0, 1, 2] + [0] * (n-2)\n",
    "    for i in range(3, n+1):\n",
    "        d[i] = d[i-1] + d[i-2]\n",
    "    \n",
    "    return d[n] % 10007\n",
    "\n",
    "n = int(input())\n",
    "print(dp(n))"
   ]
  },
  {
   "cell_type": "markdown",
   "id": "3d229db7",
   "metadata": {},
   "source": [
    "#### 11727. 2xn 타일링 2"
   ]
  },
  {
   "cell_type": "code",
   "execution_count": null,
   "id": "db93e9bb",
   "metadata": {},
   "outputs": [],
   "source": [
    "def dp(n):\n",
    "    d = [0, 1, 3] + [0] * (n-2)\n",
    "    for i in range(3, n+1):\n",
    "        d[i] = d[i-1] + 2 * d[i-2]\n",
    "    \n",
    "    return d[n] % 10007\n",
    "    \n",
    "n = int(input())\n",
    "print(dp(n))"
   ]
  },
  {
   "cell_type": "markdown",
   "id": "6143e582",
   "metadata": {},
   "source": [
    "#### 10211. Maximum Subarray"
   ]
  },
  {
   "cell_type": "code",
   "execution_count": null,
   "id": "f24aafea",
   "metadata": {},
   "outputs": [],
   "source": [
    "def dp(data, n):\n",
    "    d = [data[0]] + [0] * (n-1)\n",
    "    for i in range(1, n):\n",
    "        d[i] = max(data[i], data[i] + d[i-1])\n",
    "        \n",
    "    return max(d)\n",
    "\n",
    "test = int(input())\n",
    "for _ in range(test):\n",
    "    n = int(input())\n",
    "    data = list(map(int, input().split()))\n",
    "    result = dp(data, n)\n",
    "    print(result)"
   ]
  },
  {
   "cell_type": "markdown",
   "id": "8441e53e",
   "metadata": {},
   "source": [
    "#### 16493 최대 페이지 수"
   ]
  },
  {
   "cell_type": "code",
   "execution_count": null,
   "id": "8a70e422",
   "metadata": {},
   "outputs": [],
   "source": [
    "n, m = map(int, input().split())\n",
    "data = []\n",
    "for _ in range(m):\n",
    "    data.append(list(map(int, input().split())))\n",
    "    "
   ]
  },
  {
   "cell_type": "markdown",
   "id": "7ed33236",
   "metadata": {},
   "source": [
    "#### 11444. 피보나치 수 6"
   ]
  },
  {
   "cell_type": "code",
   "execution_count": null,
   "id": "7992fcb2",
   "metadata": {},
   "outputs": [],
   "source": [
    "def dp(n):\n",
    "    bf = 0\n",
    "    af = 1\n",
    "    cnt = 1\n",
    "    while cnt < n:\n",
    "        af, bf = (af + bf) % 1000000007, af % 1000000007\n",
    "        cnt += 1\n",
    "    \n",
    "    return af % 1000000007\n",
    "\n",
    "n = int(input())\n",
    "print(dp(n))"
   ]
  },
  {
   "cell_type": "markdown",
   "id": "f2a2cf40",
   "metadata": {},
   "source": [
    "#### 17212. 달나라 토끼를 위한 구매대금 지불 도우미"
   ]
  },
  {
   "cell_type": "code",
   "execution_count": 7,
   "id": "98805aa9",
   "metadata": {},
   "outputs": [
    {
     "name": "stdout",
     "output_type": "stream",
     "text": [
      "21\n",
      "3\n"
     ]
    }
   ],
   "source": [
    "n = int(input())\n",
    "\n",
    "d = [0] * (n + 1)\n",
    "for i in range(1, n + 1):\n",
    "    d[i] = d[i - 1] + 1\n",
    "    if i > 1:\n",
    "        d[i] = min(d[i], d[i - 2] + 1)\n",
    "    if i > 4:\n",
    "        d[i] = min(d[i], d[i - 2] + 1, d[i - 5] + 1)\n",
    "    if i > 6:\n",
    "        d[i] = min(d[i],  d[i - 2] + 1, d[i - 5] + 1, d[i - 7] + 1)\n",
    "\n",
    "print(d[n])"
   ]
  },
  {
   "cell_type": "markdown",
   "id": "66fe909a",
   "metadata": {},
   "source": [
    "#### 15489. 파스칼 삼각형"
   ]
  },
  {
   "cell_type": "code",
   "execution_count": 21,
   "id": "2e929883",
   "metadata": {},
   "outputs": [
    {
     "name": "stdout",
     "output_type": "stream",
     "text": [
      "3 1 4\n",
      "42\n"
     ]
    }
   ],
   "source": [
    "def dp(n):\n",
    "    d = [[1] * i for i in range(1, n + 1)]\n",
    "    for i in range(1, n):\n",
    "        for j in range(1, i):\n",
    "            d[i][j] = d[i-1][j-1] + d[i-1][j]\n",
    "    \n",
    "    return d\n",
    "\n",
    "def sum_triangle(data, row_start, row_end, start_index):\n",
    "    total = 0\n",
    "    end_index = start_index + 1\n",
    "    for i in range(row_start, row_end):\n",
    "        for j in range(start_index, end_index):\n",
    "            total += data[i][j]\n",
    "        end_index += 1\n",
    "    \n",
    "    return total\n",
    "\n",
    "r, c, w = map(int, input().split())\n",
    "pascal = dp(r + w - 1)\n",
    "result = sum_triangle(pascal, r-1, r + w -1, c-1)\n",
    "print(result)"
   ]
  },
  {
   "cell_type": "markdown",
   "id": "244d174e",
   "metadata": {},
   "source": [
    "#### 2579. 계단 오르기"
   ]
  },
  {
   "cell_type": "code",
   "execution_count": 1,
   "id": "f0c7c9e8",
   "metadata": {},
   "outputs": [
    {
     "name": "stdout",
     "output_type": "stream",
     "text": [
      "6\n",
      "10\n",
      "20\n",
      "15\n",
      "25\n",
      "10\n",
      "20\n",
      "75\n"
     ]
    }
   ],
   "source": [
    "def dp(stairs, n):\n",
    "    d = [0] * n\n",
    "    d[0] = stairs[0]\n",
    "    if n > 1:\n",
    "        d[1] = max(d[0], 0) + stairs[1]\n",
    "    if n > 2:\n",
    "        d[2] = max(stairs[0], stairs[1]) + stairs[2]\n",
    "    if n > 3:\n",
    "        for i in range(3, n):\n",
    "            d[i] = max(d[i - 3] + stairs[i-1], d[i - 2]) + stairs[i]\n",
    "    \n",
    "    return d[n - 1]\n",
    "        \n",
    "n = int(input())\n",
    "stairs = [int(input()) for _ in range(n)]\n",
    "result = dp(stairs, n)\n",
    "print(result)\n"
   ]
  },
  {
   "cell_type": "markdown",
   "id": "df5d5ca7",
   "metadata": {},
   "source": [
    "#### 3976. 역습"
   ]
  },
  {
   "cell_type": "code",
   "execution_count": 1,
   "id": "3d68ab02",
   "metadata": {
    "collapsed": true
   },
   "outputs": [
    {
     "name": "stdout",
     "output_type": "stream",
     "text": [
      "a\n"
     ]
    },
    {
     "ename": "ValueError",
     "evalue": "invalid literal for int() with base 10: 'a'",
     "output_type": "error",
     "traceback": [
      "\u001b[0;31m---------------------------------------------------------------------------\u001b[0m",
      "\u001b[0;31mValueError\u001b[0m                                Traceback (most recent call last)",
      "Input \u001b[0;32mIn [1]\u001b[0m, in \u001b[0;36m<cell line: 16>\u001b[0;34m()\u001b[0m\n\u001b[1;32m     12\u001b[0m     r2 \u001b[38;5;241m=\u001b[39m dp[n\u001b[38;5;241m-\u001b[39m\u001b[38;5;241m1\u001b[39m][\u001b[38;5;241m1\u001b[39m] \u001b[38;5;241m+\u001b[39m s2\n\u001b[1;32m     14\u001b[0m     \u001b[38;5;28;01mreturn\u001b[39;00m \u001b[38;5;28mmin\u001b[39m(r1, r2)\n\u001b[0;32m---> 16\u001b[0m t \u001b[38;5;241m=\u001b[39m \u001b[38;5;28;43mint\u001b[39;49m\u001b[43m(\u001b[49m\u001b[38;5;28;43minput\u001b[39;49m\u001b[43m(\u001b[49m\u001b[43m)\u001b[49m\u001b[43m)\u001b[49m\n\u001b[1;32m     17\u001b[0m \u001b[38;5;28;01mfor\u001b[39;00m _ \u001b[38;5;129;01min\u001b[39;00m \u001b[38;5;28mrange\u001b[39m(t):\n\u001b[1;32m     18\u001b[0m     n, l1, l2, s1, s2 \u001b[38;5;241m=\u001b[39m \u001b[38;5;28mmap\u001b[39m(\u001b[38;5;28mint\u001b[39m, \u001b[38;5;28minput\u001b[39m()\u001b[38;5;241m.\u001b[39msplit())\n",
      "\u001b[0;31mValueError\u001b[0m: invalid literal for int() with base 10: 'a'"
     ]
    }
   ],
   "source": [
    "def dp(n, l1, l2, s1, s2, p1, d1, p2, d2):\n",
    "    dp = [[0, 0] for _ in range(n)]\n",
    "    l = min(l1, l2)\n",
    "    dp[0][0] = l\n",
    "    dp[0][1] = l\n",
    "    \n",
    "    for i in range(1, n):\n",
    "        dp[i][0] = min(dp[i-1][0] + d1[i-1], dp[i-1][1] + p2[i-1])\n",
    "        dp[i][1] = min(dp[i-1][1] + d2[i-1], dp[i-1][0] + p1[i-1])\n",
    "        \n",
    "    r1 = dp[n-1][0] + s1\n",
    "    r2 = dp[n-1][1] + s2\n",
    "    \n",
    "    return min(r1, r2)\n",
    "\n",
    "t = int(input())\n",
    "for _ in range(t):\n",
    "    n, l1, l2, s1, s2 = map(int, input().split())\n",
    "    p1 = list(map(int, input().split()))\n",
    "    d1 = list(map(int, input().split()))\n",
    "    p2 = list(map(int, input().split()))\n",
    "    d2 = list(map(int, input().split()))\n",
    "    \n",
    "    result = dp(n, l1, l2, s1, s2, p1, d1, p2, d2)\n",
    "    print(result)"
   ]
  },
  {
   "cell_type": "markdown",
   "id": "4b989b31",
   "metadata": {},
   "source": [
    "#### 2225. 합분해"
   ]
  },
  {
   "cell_type": "code",
   "execution_count": 5,
   "id": "2f69e520",
   "metadata": {},
   "outputs": [
    {
     "name": "stdout",
     "output_type": "stream",
     "text": [
      "6 4\n",
      "0\n"
     ]
    }
   ],
   "source": [
    "def dp(n, k):\n",
    "    dp = [[0] * (n + 1) for _ in range(k + 1)]\n",
    "    dp[0] = [1] * (n + 1)\n",
    "    \n",
    "    for i in range(1, k + 1):\n",
    "        for j in range(n + 1):\n",
    "            dp[i][j] = sum(dp[i][l] for l in range(0, j + 1))\n",
    "    \n",
    "    return dp[k][n-1]\n",
    "\n",
    "n, k = map(int, input().split())\n",
    "result = dp(n, k)\n",
    "print(result)"
   ]
  },
  {
   "cell_type": "markdown",
   "id": "806f6fee",
   "metadata": {},
   "source": [
    "#### 14501. 퇴사"
   ]
  },
  {
   "cell_type": "code",
   "execution_count": 2,
   "id": "044384cd",
   "metadata": {
    "collapsed": true
   },
   "outputs": [
    {
     "name": "stdout",
     "output_type": "stream",
     "text": [
      "7\n",
      "3 10\n",
      "5 20\n",
      "1 10\n",
      "1 20\n",
      "2 15\n",
      "4 40\n",
      "2 200\n"
     ]
    },
    {
     "ename": "ValueError",
     "evalue": "min() arg is an empty sequence",
     "output_type": "error",
     "traceback": [
      "\u001b[0;31m---------------------------------------------------------------------------\u001b[0m",
      "\u001b[0;31mValueError\u001b[0m                                Traceback (most recent call last)",
      "Input \u001b[0;32mIn [2]\u001b[0m, in \u001b[0;36m<cell line: 23>\u001b[0;34m()\u001b[0m\n\u001b[1;32m     20\u001b[0m     time\u001b[38;5;241m.\u001b[39mappend(t)\n\u001b[1;32m     21\u001b[0m     profit\u001b[38;5;241m.\u001b[39mappend(p)\n\u001b[0;32m---> 23\u001b[0m result \u001b[38;5;241m=\u001b[39m \u001b[43mdp\u001b[49m\u001b[43m(\u001b[49m\u001b[43mtime\u001b[49m\u001b[43m,\u001b[49m\u001b[43m \u001b[49m\u001b[43mprofit\u001b[49m\u001b[43m,\u001b[49m\u001b[43m \u001b[49m\u001b[43mn\u001b[49m\u001b[43m)\u001b[49m\n\u001b[1;32m     24\u001b[0m \u001b[38;5;28mprint\u001b[39m(result)\n",
      "Input \u001b[0;32mIn [2]\u001b[0m, in \u001b[0;36mdp\u001b[0;34m(time, profit, n)\u001b[0m\n\u001b[1;32m      9\u001b[0m         \u001b[38;5;28;01mif\u001b[39;00m time[j] \u001b[38;5;241m==\u001b[39m i \u001b[38;5;241m-\u001b[39m j:\n\u001b[1;32m     10\u001b[0m             temp\u001b[38;5;241m.\u001b[39mappend(d[j] \u001b[38;5;241m+\u001b[39m profit[j])\n\u001b[0;32m---> 11\u001b[0m     d[i] \u001b[38;5;241m=\u001b[39m \u001b[38;5;28;43mmin\u001b[39;49m\u001b[43m(\u001b[49m\u001b[43mtemp\u001b[49m\u001b[43m)\u001b[49m\n\u001b[1;32m     13\u001b[0m \u001b[38;5;28;01mreturn\u001b[39;00m d[n\u001b[38;5;241m-\u001b[39m\u001b[38;5;241m1\u001b[39m]\n",
      "\u001b[0;31mValueError\u001b[0m: min() arg is an empty sequence"
     ]
    }
   ],
   "source": [
    "def dp(n, time, profit, d):\n",
    "    for i in range(n - 1, -1, -1):\n",
    "        if day[i] + i > n: \n",
    "            d[i] = d[i+1]\n",
    "        else:\n",
    "            d[i] = max(d[i+1], profit[i] + d[i + time[i]])\n",
    "\n",
    "    return dp[0]\n",
    "\n",
    "n = int(input())\n",
    "time = []\n",
    "profit = []\n",
    "d = []\n",
    "for i in range(n):\n",
    "    t, p = map(int, input().split())\n",
    "    time.append(t)\n",
    "    profit.append(p)\n",
    "    d.append(y)\n",
    "d.append(0)  \n",
    "\n",
    "result = dp(n, time, profit, d)\n",
    "print(result)"
   ]
  },
  {
   "cell_type": "markdown",
   "id": "a67b6958",
   "metadata": {},
   "source": [
    "#### 14606. 피자 (Small)"
   ]
  },
  {
   "cell_type": "code",
   "execution_count": 1,
   "id": "9195520f",
   "metadata": {},
   "outputs": [
    {
     "name": "stdout",
     "output_type": "stream",
     "text": [
      "5\n",
      "10\n"
     ]
    }
   ],
   "source": [
    "def dp(n):\n",
    "    d = [0] * n\n",
    "    if n > 1:\n",
    "        for i in range(1, n):\n",
    "            d[i] = d[i-1] + i\n",
    "\n",
    "    return d[n -1]\n",
    "\n",
    "n = int(input())\n",
    "\n",
    "result = dp(n)\n",
    "print(result)"
   ]
  },
  {
   "cell_type": "markdown",
   "id": "b4db50d3",
   "metadata": {},
   "source": [
    "#### 14607. 피자 (Large)"
   ]
  },
  {
   "cell_type": "code",
   "execution_count": 14,
   "id": "58e7191a",
   "metadata": {
    "scrolled": true
   },
   "outputs": [
    {
     "name": "stdout",
     "output_type": "stream",
     "text": [
      "5\n",
      "10\n"
     ]
    }
   ],
   "source": [
    "def dp(n):\n",
    "    temp = 0\n",
    "    if n > 1:\n",
    "        for i in range(1, n):\n",
    "            temp += i\n",
    "            \n",
    "    return temp\n",
    "\n",
    "n = int(input())\n",
    "\n",
    "result = dp(n)\n",
    "print(result)"
   ]
  },
  {
   "cell_type": "markdown",
   "id": "c0260348",
   "metadata": {},
   "source": [
    "#### 1699. 제곱수의 합"
   ]
  },
  {
   "cell_type": "code",
   "execution_count": 2,
   "id": "7dce8e38",
   "metadata": {},
   "outputs": [
    {
     "name": "stdout",
     "output_type": "stream",
     "text": [
      "7\n",
      "4\n"
     ]
    }
   ],
   "source": [
    "from math import ceil\n",
    "\n",
    "def dp(n):\n",
    "    d = [0] * (n + 1)\n",
    "    square_list = [i ** 2 for i in range(1, int(ceil(10**5)))]\n",
    "    for i in range(1, n + 1):\n",
    "        square = []\n",
    "        for j in square_list:\n",
    "            if j > i:\n",
    "                break\n",
    "            else:\n",
    "                square.append(d[i - j])\n",
    "        d[i] = min(square) + 1\n",
    "    \n",
    "    return d[n]\n",
    "    \n",
    "n = int(input())\n",
    "result = dp(n)\n",
    "print(result)"
   ]
  },
  {
   "cell_type": "markdown",
   "id": "4933c0f5",
   "metadata": {},
   "source": [
    "#### 15312. 이름 궁합 "
   ]
  },
  {
   "cell_type": "code",
   "execution_count": 5,
   "id": "e373fadc",
   "metadata": {
    "collapsed": true
   },
   "outputs": [
    {
     "name": "stdout",
     "output_type": "stream",
     "text": [
      "CJM\n",
      "HER\n"
     ]
    },
    {
     "ename": "IndexError",
     "evalue": "list index out of range",
     "output_type": "error",
     "traceback": [
      "\u001b[0;31m---------------------------------------------------------------------------\u001b[0m",
      "\u001b[0;31mIndexError\u001b[0m                                Traceback (most recent call last)",
      "Input \u001b[0;32mIn [5]\u001b[0m, in \u001b[0;36m<cell line: 28>\u001b[0;34m()\u001b[0m\n\u001b[1;32m     25\u001b[0m \u001b[38;5;28;01mfor\u001b[39;00m h, s \u001b[38;5;129;01min\u001b[39;00m \u001b[38;5;28mzip\u001b[39m(he, she):\n\u001b[1;32m     26\u001b[0m     seq\u001b[38;5;241m.\u001b[39mextend([h, s])\n\u001b[0;32m---> 28\u001b[0m result \u001b[38;5;241m=\u001b[39m \u001b[43mdp\u001b[49m\u001b[43m(\u001b[49m\u001b[43mseq\u001b[49m\u001b[43m)\u001b[49m\n\u001b[1;32m     29\u001b[0m \u001b[38;5;28mprint\u001b[39m(result)\n",
      "Input \u001b[0;32mIn [5]\u001b[0m, in \u001b[0;36mdp\u001b[0;34m(seq)\u001b[0m\n\u001b[1;32m     16\u001b[0m \u001b[38;5;28;01mfor\u001b[39;00m i \u001b[38;5;129;01min\u001b[39;00m \u001b[38;5;28mrange\u001b[39m(\u001b[38;5;241m1\u001b[39m, length):\n\u001b[1;32m     17\u001b[0m     \u001b[38;5;28;01mfor\u001b[39;00m j \u001b[38;5;129;01min\u001b[39;00m \u001b[38;5;28mrange\u001b[39m(i\u001b[38;5;241m-\u001b[39m\u001b[38;5;241m1\u001b[39m):\n\u001b[0;32m---> 18\u001b[0m         d[i][j] \u001b[38;5;241m=\u001b[39m d[i\u001b[38;5;241m-\u001b[39m\u001b[38;5;241m1\u001b[39m][j] \u001b[38;5;241m+\u001b[39m \u001b[43md\u001b[49m\u001b[43m[\u001b[49m\u001b[43mi\u001b[49m\u001b[38;5;241;43m-\u001b[39;49m\u001b[38;5;241;43m1\u001b[39;49m\u001b[43m]\u001b[49m\u001b[43m[\u001b[49m\u001b[43mj\u001b[49m\u001b[38;5;241;43m+\u001b[39;49m\u001b[38;5;241;43m1\u001b[39;49m\u001b[43m]\u001b[49m\n\u001b[1;32m     20\u001b[0m \u001b[38;5;28;01mreturn\u001b[39;00m d[length\u001b[38;5;241m-\u001b[39m\u001b[38;5;241m1\u001b[39m][\u001b[38;5;241m0\u001b[39m]\n",
      "\u001b[0;31mIndexError\u001b[0m: list index out of range"
     ]
    }
   ],
   "source": [
    "alpha = {\n",
    "    'A': 3, 'B': 2, 'C': 1, 'D': 2, 'E': 3, 'F': 3, 'G': 2, 'H': 3, 'I': 3, 'J': 2, 'K': 2, \n",
    "    'L': 1, 'M': 2, 'N': 2, 'O': 1, 'P': 2, 'Q': 2, 'R': 2, 'S': 1, 'T': 2, 'U': 1, 'V': 1, \n",
    "    'W': 1, 'X': 2, 'Y': 2, 'Z': 1,\n",
    "}\n",
    "\n",
    "def dp(seq):\n",
    "    length = len(seq)\n",
    "    \n",
    "    d = []\n",
    "    for i in range(length, 0, -1):\n",
    "        d.append([0] * i)\n",
    "    \n",
    "    d[0] = [alpha[s] for s in seq]\n",
    "        \n",
    "    for i in range(1, length):\n",
    "        for j in range(i-1):\n",
    "            d[i][j] = d[i-1][j] + d[i-1][j+1]\n",
    "        \n",
    "    return d[length-1][0]\n",
    "    \n",
    "he = input()\n",
    "she = input()\n",
    "seq = []\n",
    "for h, s in zip(he, she):\n",
    "    seq.extend([h, s])\n",
    "\n",
    "result = dp(seq)\n",
    "print(result)"
   ]
  },
  {
   "cell_type": "markdown",
   "id": "998edba3",
   "metadata": {},
   "source": [
    "#### 1788. 피보나치 수의 확장"
   ]
  },
  {
   "cell_type": "code",
   "execution_count": 22,
   "id": "577c54b9",
   "metadata": {},
   "outputs": [
    {
     "name": "stdout",
     "output_type": "stream",
     "text": [
      "-7\n",
      "1\n",
      "13\n"
     ]
    }
   ],
   "source": [
    "def dp(n, sign):\n",
    "    result = 0\n",
    "    if n == 0:\n",
    "        result = 0\n",
    "    elif n == 1:\n",
    "        result = 1\n",
    "    else:\n",
    "        prev2 = 0\n",
    "        prev1 = 1\n",
    "        for i in range(n - 1):\n",
    "            result = (prev2 + prev1) % int(1e9)\n",
    "            prev1, prev2 = result, prev1\n",
    "    \n",
    "    if sign == 'minus':\n",
    "        if n % 2 == 0:\n",
    "            s = -1\n",
    "        else:\n",
    "            s = 1\n",
    "    elif sign == 'plus':\n",
    "        s = 1\n",
    "    else:\n",
    "        s = 0\n",
    "    \n",
    "    return result % int(1e9), s\n",
    "\n",
    "n = int(input())\n",
    "\n",
    "sign = None\n",
    "if n > 0:\n",
    "    sign = 'plus'\n",
    "elif n < 0:\n",
    "    sign = 'minus'\n",
    "else:\n",
    "    sign = 'zero'\n",
    "    \n",
    "result, sign = dp(abs(n), sign)\n",
    "print(sign)\n",
    "print(result)"
   ]
  },
  {
   "cell_type": "markdown",
   "id": "e2192001",
   "metadata": {},
   "source": [
    "#### 1965. 상자넣기"
   ]
  },
  {
   "cell_type": "code",
   "execution_count": 11,
   "id": "cebbeae6",
   "metadata": {
    "scrolled": true
   },
   "outputs": [
    {
     "name": "stdout",
     "output_type": "stream",
     "text": [
      "6\n",
      "10 20 10 30 20 50\n",
      "4\n"
     ]
    }
   ],
   "source": [
    "def dp(n, boxes):\n",
    "    dp = [0] * n\n",
    "    dp[0] = 1\n",
    "    \n",
    "    for i in range(1, n):\n",
    "        curr_size = boxes[i]\n",
    "        prev = []\n",
    "        for j in range(i):\n",
    "            if boxes[j] < curr_size:\n",
    "                prev.append(dp[j])\n",
    "        \n",
    "        if len(prev) > 0:\n",
    "            dp[i] = max(prev) + 1\n",
    "        else:\n",
    "            dp[i] = 1\n",
    "    \n",
    "    return max(dp)\n",
    "\n",
    "n = int(input())\n",
    "boxes = list(map(int, input().split()))\n",
    "result = dp(n, boxes)\n",
    "print(result)"
   ]
  },
  {
   "cell_type": "markdown",
   "id": "b7838018",
   "metadata": {},
   "source": [
    "#### 17484. 진우의 달 여행 (Small)"
   ]
  },
  {
   "cell_type": "code",
   "execution_count": 1,
   "id": "271a3c3b",
   "metadata": {
    "collapsed": true
   },
   "outputs": [
    {
     "name": "stdout",
     "output_type": "stream",
     "text": [
      "ㄴ\n"
     ]
    },
    {
     "ename": "ValueError",
     "evalue": "invalid literal for int() with base 10: 'ㄴ'",
     "output_type": "error",
     "traceback": [
      "\u001b[0;31m---------------------------------------------------------------------------\u001b[0m",
      "\u001b[0;31mValueError\u001b[0m                                Traceback (most recent call last)",
      "Input \u001b[0;32mIn [1]\u001b[0m, in \u001b[0;36m<cell line: 1>\u001b[0;34m()\u001b[0m\n\u001b[0;32m----> 1\u001b[0m n, m \u001b[38;5;241m=\u001b[39m \u001b[38;5;28mmap\u001b[39m(\u001b[38;5;28mint\u001b[39m, \u001b[38;5;28minput\u001b[39m()\u001b[38;5;241m.\u001b[39msplit())\n\u001b[1;32m      2\u001b[0m fuels \u001b[38;5;241m=\u001b[39m [[\u001b[38;5;241m1000\u001b[39m]\u001b[38;5;241m*\u001b[39m\u001b[38;5;241m3\u001b[39m] \u001b[38;5;241m+\u001b[39m [[\u001b[38;5;241m0\u001b[39m]\u001b[38;5;241m*\u001b[39m\u001b[38;5;241m3\u001b[39m \u001b[38;5;28;01mfor\u001b[39;00m _ \u001b[38;5;129;01min\u001b[39;00m \u001b[38;5;28mrange\u001b[39m(m)] \u001b[38;5;241m+\u001b[39m [[\u001b[38;5;241m1000\u001b[39m]\u001b[38;5;241m*\u001b[39m\u001b[38;5;241m3\u001b[39m]\n\u001b[1;32m      3\u001b[0m min_fuel \u001b[38;5;241m=\u001b[39m \u001b[38;5;241m1000\u001b[39m\n",
      "\u001b[0;31mValueError\u001b[0m: invalid literal for int() with base 10: 'ㄴ'"
     ]
    }
   ],
   "source": [
    "n, m = map(int, input().split())\n",
    "fuels = [[1000]*3] + [[0]*3 for _ in range(m)] + [[1000]*3]\n",
    "min_fuel = 1000\n",
    "for _ in range(n):\n",
    "    min_fuel = 1000\n",
    "    fuel = list(map(int, input().split()))\n",
    "    tmp = [[1000]*3] + [[] for _ in range(m)] + [[1000]*3]\n",
    "    for i in range(m):\n",
    "        tmp[i+1].append(min(fuels[i][1:])+fuel[i])\n",
    "        tmp[i+1].append(min(fuels[i+1][0],fuels[i+1][2])+fuel[i])\n",
    "        tmp[i+1].append(min(fuels[i+2][:2])+fuel[i])\n",
    "        min_fuel = min(min_fuel, min(tmp[i+1]))\n",
    "    fuels = tmp\n",
    "    \n",
    "print(min_fuel)"
   ]
  },
  {
   "cell_type": "markdown",
   "id": "8234ec7f",
   "metadata": {},
   "source": [
    "#### 14494. 다이나믹이 뭐에요?"
   ]
  },
  {
   "cell_type": "code",
   "execution_count": 8,
   "id": "46239f57",
   "metadata": {},
   "outputs": [
    {
     "name": "stdout",
     "output_type": "stream",
     "text": [
      "1000 1000\n",
      "910657857\n"
     ]
    }
   ],
   "source": [
    "def dp(n, m):\n",
    "    d = [[1] * m for _ in range(n)]\n",
    "    \n",
    "    for i in range(1, n):\n",
    "        for j in range(1, m):\n",
    "            d[i][j] = d[i-1][j-1] + d[i - 1][j] + d[i][j - 1]\n",
    "            d[i][j] = d[i][j] % mod\n",
    "    \n",
    "    return d[n - 1][m - 1] % mod\n",
    "\n",
    "mod = int(1e9) + 7 \n",
    "n, m = map(int, input().split())\n",
    "result = dp(n, m)\n",
    "print(result)"
   ]
  },
  {
   "cell_type": "markdown",
   "id": "e87f0ad1",
   "metadata": {},
   "source": [
    "#### 10164. 격자상의 경로"
   ]
  },
  {
   "cell_type": "code",
   "execution_count": 5,
   "id": "06c489c2",
   "metadata": {},
   "outputs": [
    {
     "name": "stdout",
     "output_type": "stream",
     "text": [
      "7 11 76\n",
      "5005\n"
     ]
    }
   ],
   "source": [
    "def calc_coordinate(c, p):\n",
    "    quotient = p // c\n",
    "    remainder = p % c\n",
    "    \n",
    "    if remainder == 0:\n",
    "        i = quotient\n",
    "        j = c\n",
    "    else:\n",
    "        i = quotient + 1\n",
    "        j = remainder\n",
    "\n",
    "    return i, j\n",
    "    \n",
    "def dp(r, c):\n",
    "    d = [[1] * c for _ in range(r)]\n",
    "    for i in range(1, r):\n",
    "        for j in range(1, c):\n",
    "            d[i][j] = d[i - 1][j] + d[i][j - 1]\n",
    "    \n",
    "    return d[r - 1][c - 1]\n",
    "    \n",
    "r, c, p = map(int, input().split())\n",
    "\n",
    "result = 0\n",
    "if p != 0:\n",
    "    i, j = calc_coordinate(c, p)\n",
    "    r1 = dp(i, j)\n",
    "    r2 = dp(r - i + 1, c - j + 1)\n",
    "    result = r1 * r2\n",
    "    \n",
    "else:\n",
    "    result = dp(r, c)\n",
    "    \n",
    "print(result)"
   ]
  },
  {
   "cell_type": "markdown",
   "id": "550bb40d",
   "metadata": {},
   "source": [
    "#### 9251. LCS"
   ]
  },
  {
   "cell_type": "code",
   "execution_count": 5,
   "id": "93770361",
   "metadata": {
    "scrolled": true
   },
   "outputs": [
    {
     "name": "stdout",
     "output_type": "stream",
     "text": [
      "ACAYKP\n",
      "CAP\n",
      "3\n"
     ]
    }
   ],
   "source": [
    "def dp(a, b):\n",
    "    r, c = len(a), len(b)\n",
    "    d = [[0] * (c + 1) for _ in range(r + 1)]\n",
    "    \n",
    "    for i in range(r):\n",
    "        for j in range(c):\n",
    "            if a[i] == b[j]:\n",
    "                d[i + 1][j + 1] = d[i][j] + 1\n",
    "            else:\n",
    "                d[i + 1][j + 1] = max(d[i][j + 1], d[i + 1][j])\n",
    "                \n",
    "    result = max(max(row) for row in d)\n",
    "    \n",
    "    return result\n",
    "    \n",
    "a = input()\n",
    "b = input()\n",
    "result = dp(a, b)\n",
    "print(result)"
   ]
  },
  {
   "cell_type": "markdown",
   "id": "ce18d333",
   "metadata": {},
   "source": [
    "#### 11055. 가장 큰 증가 부분 수열"
   ]
  },
  {
   "cell_type": "code",
   "execution_count": 2,
   "id": "233ece34",
   "metadata": {},
   "outputs": [
    {
     "name": "stdout",
     "output_type": "stream",
     "text": [
      "10\n",
      "1 100 2 50 60 3 5 6 7 8\n",
      "113\n"
     ]
    }
   ],
   "source": [
    "def dp(n, seq):\n",
    "    d = [0] * n\n",
    "    d[0] = seq[0]\n",
    "    \n",
    "    for i in range(1, n):\n",
    "        curr_size = seq[i]\n",
    "        prev = []\n",
    "        for j in range(i):\n",
    "            if seq[j] < curr_size:\n",
    "                prev.append(d[j])\n",
    "            \n",
    "        if len(prev) > 0:\n",
    "            d[i] = max(prev) + curr_size\n",
    "        else:\n",
    "            d[i] = curr_size\n",
    "    \n",
    "    return max(d)\n",
    "\n",
    "n = int(input())\n",
    "seq = list(map(int, input().split()))\n",
    "result = dp(n, seq)\n",
    "print(result)"
   ]
  },
  {
   "cell_type": "markdown",
   "id": "3d1f6c18",
   "metadata": {},
   "source": [
    "#### 2193. 이친수"
   ]
  },
  {
   "cell_type": "code",
   "execution_count": 3,
   "id": "6bfca8e8",
   "metadata": {},
   "outputs": [
    {
     "name": "stdout",
     "output_type": "stream",
     "text": [
      "5\n",
      "5\n"
     ]
    }
   ],
   "source": [
    "def dp(n):\n",
    "    d = [1, 1] + [0] * (n - 2)\n",
    "    for i in range(2, n):\n",
    "        d[i] = d[i - 1] + d[i - 2]\n",
    "\n",
    "    return d[n-1]    \n",
    "        \n",
    "n = int(input())\n",
    "result = dp(n)\n",
    "print(result)"
   ]
  },
  {
   "cell_type": "markdown",
   "id": "b57c4734",
   "metadata": {},
   "source": [
    "#### 25706. 자전거 묘기"
   ]
  },
  {
   "cell_type": "code",
   "execution_count": 12,
   "id": "60ab9dcc",
   "metadata": {},
   "outputs": [
    {
     "name": "stdout",
     "output_type": "stream",
     "text": [
      "1\n",
      "200000\n",
      "1\n"
     ]
    }
   ],
   "source": [
    "def dp(n, j):\n",
    "    d = [0] * n\n",
    "    d[n - 1] = 1\n",
    "    for i in range(n - 2, -1, -1):\n",
    "        interval = j[i]\n",
    "        if interval == 0:\n",
    "            d[i] = d[i + 1] + 1\n",
    "        elif i + interval + 1 < n:\n",
    "            d[i] = d[i + interval + 1] + 1\n",
    "        else:\n",
    "            d[i] = 1\n",
    "    \n",
    "    return d\n",
    "    \n",
    "n = int(input())\n",
    "j = list(map(int, input().split()))\n",
    "result = dp(n, j)\n",
    "print(*result)"
   ]
  },
  {
   "cell_type": "markdown",
   "id": "49553151",
   "metadata": {},
   "source": [
    "#### 2156. 포도주 시식"
   ]
  },
  {
   "cell_type": "code",
   "execution_count": 7,
   "id": "f4589339",
   "metadata": {
    "scrolled": true
   },
   "outputs": [
    {
     "name": "stdout",
     "output_type": "stream",
     "text": [
      "1\n",
      "10\n",
      "10\n"
     ]
    }
   ],
   "source": [
    "def dp(data, n):\n",
    "    d = [0] * n\n",
    "    d[0] = data[0]\n",
    "    if n > 1:\n",
    "        d[1] = max(data[0], 0) + data[1]\n",
    "    if n > 2:\n",
    "        d[2] = max(data[0], data[1]) + data[2]\n",
    "    if n > 3:\n",
    "        for i in range(3, n):\n",
    "            d[i] = max(d[i - 3] + data[i - 1], d[i - 2]) + data[i]\n",
    "    \n",
    "    return max(d)\n",
    "    \n",
    "n = int(input())\n",
    "data = [int(input()) for _ in range(n)]\n",
    "result = dp(data, n)\n",
    "print(result)"
   ]
  },
  {
   "cell_type": "markdown",
   "id": "62f32050",
   "metadata": {},
   "source": [
    "#### 10844.쉬운 계단의 수"
   ]
  },
  {
   "cell_type": "code",
   "execution_count": 10,
   "id": "e09f8359",
   "metadata": {},
   "outputs": [
    {
     "name": "stdout",
     "output_type": "stream",
     "text": [
      "1\n",
      "9\n"
     ]
    }
   ],
   "source": [
    "def dp(n):\n",
    "    d = [{}] * n\n",
    "    d[0] = {0: 0, 1: 1, 2: 1, 3: 1, 4: 1, 5: 1, 6: 1, 7: 1, 8: 1, 9: 1}\n",
    "    for i in range(1, n):\n",
    "        temp = {i: 0 for i in range(10)}\n",
    "        for k, v in d[i - 1].items():\n",
    "            if k == 0:\n",
    "                temp[1] += v\n",
    "            elif k == 9:\n",
    "                temp[8] += v\n",
    "            else:\n",
    "                temp[k - 1] += v\n",
    "                temp[k + 1] += v\n",
    "        d[i] = temp\n",
    "\n",
    "    result = sum(v for v in d[n - 1].values())\n",
    "\n",
    "    return result % int(1e9)\n",
    "\n",
    "n = int(input())\n",
    "result = dp(n)\n",
    "print(result)"
   ]
  },
  {
   "cell_type": "markdown",
   "id": "db1e0a57",
   "metadata": {},
   "source": [
    "#### 1446. 지름길"
   ]
  },
  {
   "cell_type": "code",
   "execution_count": 4,
   "id": "0a081754",
   "metadata": {
    "collapsed": true
   },
   "outputs": [
    {
     "name": "stdout",
     "output_type": "stream",
     "text": [
      "5 150\n",
      "0 50 10\n",
      "0 50 20\n",
      "50 100 10\n",
      "100 151 10\n",
      "110 140 90\n",
      "d\n"
     ]
    },
    {
     "ename": "ValueError",
     "evalue": "invalid literal for int() with base 10: 'd'",
     "output_type": "error",
     "traceback": [
      "\u001b[0;31m---------------------------------------------------------------------------\u001b[0m",
      "\u001b[0;31mValueError\u001b[0m                                Traceback (most recent call last)",
      "Input \u001b[0;32mIn [4]\u001b[0m, in \u001b[0;36m<cell line: 28>\u001b[0;34m()\u001b[0m\n\u001b[1;32m     26\u001b[0m n, dist \u001b[38;5;241m=\u001b[39m \u001b[38;5;28mmap\u001b[39m(\u001b[38;5;28mint\u001b[39m, \u001b[38;5;28minput\u001b[39m()\u001b[38;5;241m.\u001b[39msplit())\n\u001b[1;32m     27\u001b[0m path \u001b[38;5;241m=\u001b[39m get_path(n, dist)\n\u001b[0;32m---> 28\u001b[0m result \u001b[38;5;241m=\u001b[39m \u001b[43mget_path\u001b[49m\u001b[43m(\u001b[49m\u001b[43mdist\u001b[49m\u001b[43m,\u001b[49m\u001b[43m \u001b[49m\u001b[43mpath\u001b[49m\u001b[43m)\u001b[49m\n\u001b[1;32m     29\u001b[0m \u001b[38;5;28mprint\u001b[39m(result)\n",
      "Input \u001b[0;32mIn [4]\u001b[0m, in \u001b[0;36mget_path\u001b[0;34m(n, dist)\u001b[0m\n\u001b[1;32m      2\u001b[0m path \u001b[38;5;241m=\u001b[39m {}\n\u001b[1;32m      3\u001b[0m \u001b[38;5;28;01mfor\u001b[39;00m _ \u001b[38;5;129;01min\u001b[39;00m \u001b[38;5;28mrange\u001b[39m(n):\n\u001b[0;32m----> 4\u001b[0m     f, t, l \u001b[38;5;241m=\u001b[39m \u001b[38;5;28mmap\u001b[39m(\u001b[38;5;28mint\u001b[39m, \u001b[38;5;28minput\u001b[39m()\u001b[38;5;241m.\u001b[39msplit())\n\u001b[1;32m      5\u001b[0m     \u001b[38;5;28;01mif\u001b[39;00m t \u001b[38;5;241m<\u001b[39m\u001b[38;5;241m=\u001b[39m dist:\n\u001b[1;32m      6\u001b[0m         \u001b[38;5;28;01mif\u001b[39;00m t \u001b[38;5;129;01min\u001b[39;00m path:\n",
      "\u001b[0;31mValueError\u001b[0m: invalid literal for int() with base 10: 'd'"
     ]
    }
   ],
   "source": [
    "def get_path(n, dist):\n",
    "    path = {}\n",
    "    for _ in range(n):\n",
    "        f, t, l = map(int, input().split())\n",
    "        if t <= dist:\n",
    "            if t in path:\n",
    "                path[t].append((f, l))\n",
    "            else:\n",
    "                path[t] = [(f, l)]\n",
    "\n",
    "    return path\n",
    "\n",
    "def dp(dist, path):\n",
    "    d = [0] * (dist + 1)\n",
    "    for i in range(1, dist + 1):\n",
    "        if i in path:\n",
    "            route = [d[i - 1] + 1]\n",
    "            for f, length in path[i]:\n",
    "                route.append(d[f] + length)\n",
    "            d[i] = min(route)\n",
    "        else:\n",
    "            d[i] = d[i - 1] + 1\n",
    "            \n",
    "    return d[dist]\n",
    "    \n",
    "n, dist = map(int, input().split())\n",
    "path = get_path(n, dist)\n",
    "result = dp(dist, path)\n",
    "\n",
    "print(result)"
   ]
  },
  {
   "cell_type": "markdown",
   "id": "fdc43ecc",
   "metadata": {},
   "source": [
    "#### 9465. 스티커"
   ]
  },
  {
   "cell_type": "code",
   "execution_count": 12,
   "id": "1f04392f",
   "metadata": {
    "scrolled": true
   },
   "outputs": [
    {
     "name": "stdout",
     "output_type": "stream",
     "text": [
      "1\n",
      "5\n",
      "50 10 100 20 40\n",
      "30 50 70 10 60\n",
      "[[50, 30], [40, 100], [200, 120], [140, 210], [250, 260]]\n",
      "260\n"
     ]
    }
   ],
   "source": [
    "def dp(n, s):\n",
    "    d = [[0, 0] for _ in range(n)]\n",
    "    d[0][0] = s[0][0]\n",
    "    d[0][1] = s[1][0]\n",
    "    \n",
    "    if n > 1:\n",
    "        d[1][0] = s[1][0] + s[0][1]\n",
    "        d[1][1] = s[0][0] + s[1][1]\n",
    "    \n",
    "    if n > 2:\n",
    "        for i in range(2, n):\n",
    "            d[i][0] = max(d[i - 2][0], d[i - 2][1], d[i - 1][1]) + s[0][i]\n",
    "            d[i][1] = max(d[i - 2][0], d[i - 2][1], d[i - 1][0]) + s[1][i]\n",
    "    \n",
    "    return max(d[n - 1])\n",
    "    \n",
    "t = int(input())\n",
    "for _ in range(t):\n",
    "    n = int(input())\n",
    "    stickers = []\n",
    "    stickers.append(list(map(int, input().split())))\n",
    "    stickers.append(list(map(int, input().split())))\n",
    "    \n",
    "    result = dp(n, stickers)\n",
    "    print(result)"
   ]
  },
  {
   "cell_type": "markdown",
   "id": "44137510",
   "metadata": {},
   "source": [
    "#### 12852. 1로 만들기 2"
   ]
  },
  {
   "cell_type": "code",
   "execution_count": 7,
   "id": "9404699d",
   "metadata": {
    "scrolled": true
   },
   "outputs": [
    {
     "name": "stdout",
     "output_type": "stream",
     "text": [
      "3\n",
      "0\n",
      "3 2 1\n"
     ]
    }
   ],
   "source": [
    "def dp(n):\n",
    "    d = [[0, []] for _ in range(n + 1)]\n",
    "    d[1][0] = 0\n",
    "    d[1][1] = [1]\n",
    "    \n",
    "    for i in range(2, n + 1):\n",
    "        d[i][0] = d[i - 1][0]\n",
    "        d[i][1] = d[i - 1][1] + [i]\n",
    "        \n",
    "        if i % 3 == 0:\n",
    "            bf = d[i // 3][0]\n",
    "            if bf + 1 < d[i][0]:\n",
    "                d[i][0] = bf + 1\n",
    "                d[i][1] = d[i // 3][1] + [i]\n",
    "                \n",
    "        if i % 2 == 0:\n",
    "            bf = d[i // 2][0]\n",
    "            if bf + 1 < d[i][0]:\n",
    "                d[i][0] = bf + 1\n",
    "                d[i][1] = d[i // 2][1] + [i]\n",
    "\n",
    "    return d, d[n][0], reversed(d[n][1])\n",
    "    \n",
    "n = int(input())\n",
    "d, val, route = dp(n)\n",
    "\n",
    "print(val)\n",
    "print(*route)"
   ]
  },
  {
   "cell_type": "markdown",
   "id": "fa2d4ab5",
   "metadata": {},
   "source": [
    "#### 9507. Generations of Tribbles"
   ]
  },
  {
   "cell_type": "code",
   "execution_count": 2,
   "id": "997be459",
   "metadata": {
    "collapsed": true
   },
   "outputs": [
    {
     "name": "stdout",
     "output_type": "stream",
     "text": [
      "8\n",
      "0\n",
      "1\n",
      "1\n",
      "1\n",
      "2\n",
      "2\n",
      "3\n",
      "4\n",
      "4\n",
      "8\n",
      "5\n",
      "15\n",
      "30\n",
      "201061985\n",
      "67\n",
      "7057305768232953720\n"
     ]
    }
   ],
   "source": [
    "def dp(n):\n",
    "    d = [1, 1, 2, 4]\n",
    "    if n <= 3:\n",
    "        reuslt = d[n]\n",
    "    else:\n",
    "        d = d + [0] * (n - 2)\n",
    "        for i in range(4, n + 1):\n",
    "            d[i] = d[i - 1] + d[i - 2] + d[i - 3] + d[i - 4]\n",
    "    \n",
    "    return d[n]\n",
    "    \n",
    "t = int(input())\n",
    "for _ in range(t):\n",
    "    n = int(input())\n",
    "    result = dp(n)\n",
    "    print(result)"
   ]
  },
  {
   "cell_type": "markdown",
   "id": "c736f3d8",
   "metadata": {},
   "source": [
    "#### 11057. 오르막 수"
   ]
  },
  {
   "cell_type": "code",
   "execution_count": 25,
   "id": "204b37ec",
   "metadata": {},
   "outputs": [],
   "source": [
    "def solve(n):\n",
    "    arr = [[1] * 10]\n",
    "    \n",
    "    for step in range(1, n):\n",
    "        prev_row = arr[step - 1]\n",
    "        temp = []\n",
    "        for i in range(0 , 10):\n",
    "            val = sum(prev_row[i:]) % 10007\n",
    "            temp.append(val)\n",
    "        arr.append(temp)\n",
    "\n",
    "    return sum(arr[-1]) % 10007\n",
    "\n",
    "n = int(input())\n",
    "result = solve(n)\n",
    "print(result)"
   ]
  },
  {
   "cell_type": "markdown",
   "id": "948ff296",
   "metadata": {},
   "source": [
    "#### 11722. 가장 긴 감소하는 부분 수열"
   ]
  },
  {
   "cell_type": "code",
   "execution_count": 3,
   "id": "2a444c79",
   "metadata": {
    "scrolled": true
   },
   "outputs": [
    {
     "name": "stdout",
     "output_type": "stream",
     "text": [
      "6\n",
      "10 30 10 20 20 10\n",
      "3\n"
     ]
    }
   ],
   "source": [
    "def dp(n, data):\n",
    "    d = [0 for _ in range(n)]\n",
    "    d[n - 1] = 1\n",
    "    \n",
    "    for i in range(n - 2, -1, -1):\n",
    "        num = data[i]\n",
    "        candidates = []\n",
    "        \n",
    "        for j in range(i, n):\n",
    "            temp = data[j]\n",
    "            if temp < num:\n",
    "                candidates.append(d[j])\n",
    "            \n",
    "        if len(candidates) > 0:\n",
    "            d[i] = max(candidates) + 1\n",
    "        else:\n",
    "            d[i] = 1\n",
    "        \n",
    "    return max(d)\n",
    "        \n",
    "\n",
    "n = int(input())\n",
    "data = list(map(int, input().split()))\n",
    "result = dp(n, data)\n",
    "print(result)"
   ]
  },
  {
   "cell_type": "markdown",
   "id": "364b7d49",
   "metadata": {},
   "source": [
    "#### 2156. 포도주 시식"
   ]
  },
  {
   "cell_type": "code",
   "execution_count": 2,
   "id": "654b374a",
   "metadata": {
    "collapsed": true
   },
   "outputs": [
    {
     "name": "stdout",
     "output_type": "stream",
     "text": [
      "6\n",
      "6\n",
      "10\n",
      "13\n",
      "9\n",
      "8\n",
      "1\n",
      "101\n"
     ]
    }
   ],
   "source": [
    "def dp(data, n):\n",
    "    d = [0 for _ in range(n)]\n",
    "    d[0] = data[0]\n",
    "    \n",
    "    if n > 1:\n",
    "        d[1] = data[0] + data[1]\n",
    "    if n > 2:\n",
    "        d[2] = max(data[2] + data[1], data[2] + data[0], d[1])\n",
    "    if n > 3:\n",
    "        for i in range(3, n):\n",
    "            d[i] = max(d[i-1], d[i-3] + data[i-1] + data[i], d[i-2] + data[i])\n",
    "\n",
    "    return d[n-1]\n",
    "            \n",
    "n = int(input())\n",
    "data = [int(input()) for _ in range(n)]\n",
    "result = dp(data, n)\n",
    "print(result)"
   ]
  }
 ],
 "metadata": {
  "kernelspec": {
   "display_name": "Python 3 (ipykernel)",
   "language": "python",
   "name": "python3"
  },
  "language_info": {
   "codemirror_mode": {
    "name": "ipython",
    "version": 3
   },
   "file_extension": ".py",
   "mimetype": "text/x-python",
   "name": "python",
   "nbconvert_exporter": "python",
   "pygments_lexer": "ipython3",
   "version": "3.8.16"
  }
 },
 "nbformat": 4,
 "nbformat_minor": 5
}
