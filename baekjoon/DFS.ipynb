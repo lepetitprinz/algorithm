{
 "cells": [
  {
   "cell_type": "markdown",
   "id": "a8426d30",
   "metadata": {},
   "source": [
    "#### 1520. 내리막 길"
   ]
  },
  {
   "cell_type": "code",
   "execution_count": 1,
   "id": "f85e82cc",
   "metadata": {},
   "outputs": [
    {
     "name": "stdout",
     "output_type": "stream",
     "text": [
      "4 5\n",
      "50 45 37 32 30\n",
      "35 50 40 20 25\n",
      "30 30 25 17 28\n",
      "27 24 22 15 10\n"
     ]
    }
   ],
   "source": [
    "r, c = map(int, input().split())\n",
    "arr = [list(map(int, input().split())) for _ in range(r)]"
   ]
  },
  {
   "cell_type": "code",
   "execution_count": null,
   "id": "c07fb572",
   "metadata": {},
   "outputs": [],
   "source": [
    "moves = [(-1,0),(1,0),(0,-1),(0,1)]\n",
    "\n",
    "def dfs(height, row, col, h, w):\n",
    "    cnt = 0\n",
    "    if row == h - 1 and col == w - 1:\n",
    "        cnt = 1\n",
    "    else:\n",
    "        for move in moves:\n",
    "            move_r = move[0] + row\n",
    "            move_c = move[1] + col\n",
    "            if move_r < 0 or move_r >= h or move_c < 0 or move_c >= w:\n",
    "                continue\n",
    "            if maps[move_r][move_c] < height:\n",
    "                if dp[move_r][move_c] >= 0:\n",
    "                    cnt += dp[move_r][move_c]\n",
    "                else:\n",
    "                    cnt += dfs(maps[move_r][move_c], move_r, move_c, h, w)\n",
    "    dp[row][col] = cnt\n",
    "    \n",
    "    return cnt"
   ]
  },
  {
   "cell_type": "markdown",
   "id": "64caf18c",
   "metadata": {},
   "source": [
    "#### 16173. 점프왕 젤리"
   ]
  },
  {
   "cell_type": "code",
   "execution_count": null,
   "id": "1f452cbb",
   "metadata": {},
   "outputs": [],
   "source": [
    "n = int(input())\n",
    "arr = [list(map(int, input().split())) for _ in range(n)]\n",
    "\n",
    "moves = [[0, 1], [1, 0]]\n",
    "def dfs(r, c, n):\n",
    "    if move_r < 0 or move_r >= n or move_c < 0 or move_c >= n:\n",
    "        return False\n",
    "    if r == 2 and c == 2:\n",
    "        return True\n",
    "    else:\n",
    "        for move in moves:\n",
    "            move_r = move[0] * arr[r][c] + r\n",
    "            move_c = move[1] * arr[r][c] + c\n",
    "            else:\n",
    "                flag = dfs(move_r, move_c, arr[r][c], n)\n",
    "\n",
    "    return flag"
   ]
  },
  {
   "cell_type": "markdown",
   "id": "2b64613f",
   "metadata": {},
   "source": [
    "#### 1388. 바닥 장식"
   ]
  },
  {
   "cell_type": "code",
   "execution_count": 14,
   "id": "9e656825",
   "metadata": {
    "scrolled": true
   },
   "outputs": [
    {
     "name": "stdout",
     "output_type": "stream",
     "text": [
      "2 9\n",
      "-||--||--\n",
      "--||--||-\n",
      "14\n"
     ]
    }
   ],
   "source": [
    "def dfs(x, y, arr, visited):\n",
    "    if visited[x][y]:\n",
    "        return False\n",
    "    else:\n",
    "        visited[x][y] = 1\n",
    "\n",
    "    if arr[x][y] == '-':\n",
    "        if y - 1 >= 0:\n",
    "            if arr[x][y - 1] == '-':\n",
    "                dfs(x, y - 1, arr, visited)\n",
    "        if y + 1 < m:\n",
    "            if arr[x][y + 1] == '-':\n",
    "                dfs(x, y + 1, arr, visited)\n",
    "    else:\n",
    "        if x - 1 >= 0:\n",
    "            if arr[x - 1][y] == '|':\n",
    "                dfs(x - 1, y, arr, visited)\n",
    "        if x + 1 < n:\n",
    "            if arr[x + 1][y] == '|':\n",
    "                dfs(x + 1, y, arr, visited)\n",
    "\n",
    "    return True\n",
    "\n",
    "\n",
    "n, m = map(int, input().split())\n",
    "arr = []\n",
    "for _ in range(n):\n",
    "    arr.append(input().rstrip())\n",
    "\n",
    "visited = [[0] * m for _ in range(n)]\n",
    "cnt = 0\n",
    "for i in range(n):\n",
    "    for j in range(m):\n",
    "        cnt += dfs(i, j, arr, visited)\n",
    "\n",
    "print(cnt)"
   ]
  },
  {
   "cell_type": "markdown",
   "id": "f06b4dfe",
   "metadata": {},
   "source": [
    "#### 24482. 알고리즘 수업 - 깊이 우선 탐색"
   ]
  },
  {
   "cell_type": "code",
   "execution_count": null,
   "id": "d4c9c4db",
   "metadata": {},
   "outputs": [
    {
     "name": "stdout",
     "output_type": "stream",
     "text": [
      "5 5 1\n",
      "1 4\n",
      "1 2\n",
      "2 3\n",
      "2 4\n",
      "3 4\n"
     ]
    }
   ],
   "source": [
    "import sys\n",
    "sys.setrecursionlimit(1000000)\n",
    "\n",
    "def dfs(graph, r, visited, history, seq):\n",
    "    visited[r-1] = True\n",
    "    history[r-1] = seq\n",
    "    for i in graph[r-1]:\n",
    "        if not visited[i]:\n",
    "            history = dfs(graph, i, visited, history, seq+1)\n",
    "            \n",
    "    return history\n",
    "\n",
    "n, m, r = map(int, input().split())\n",
    "graph = [[] for _ in range(n)]\n",
    "visited = [0] * n\n",
    "history = {i: -1 for i in range(n)}\n",
    "for _ in range(m):\n",
    "    u, v = map(int, input().split())\n",
    "    graph[u-1].append(v-1)\n",
    "    graph[v-1].append(u-1)\n",
    "\n",
    "for i in range(n):\n",
    "    graph[i] = sorted(graph[i], reverse=True)\n",
    "\n",
    "result = dfs(graph, r, visited, history, seq=0)"
   ]
  },
  {
   "cell_type": "code",
   "execution_count": 1,
   "id": "490ef615",
   "metadata": {},
   "outputs": [
    {
     "ename": "NameError",
     "evalue": "name 'graph' is not defined",
     "output_type": "error",
     "traceback": [
      "\u001b[0;31m---------------------------------------------------------------------------\u001b[0m",
      "\u001b[0;31mNameError\u001b[0m                                 Traceback (most recent call last)",
      "Input \u001b[0;32mIn [1]\u001b[0m, in \u001b[0;36m<cell line: 1>\u001b[0;34m()\u001b[0m\n\u001b[0;32m----> 1\u001b[0m \u001b[43mgraph\u001b[49m\n",
      "\u001b[0;31mNameError\u001b[0m: name 'graph' is not defined"
     ]
    }
   ],
   "source": [
    "graph"
   ]
  },
  {
   "cell_type": "code",
   "execution_count": null,
   "id": "b5b93e87",
   "metadata": {},
   "outputs": [],
   "source": [
    "5 5 1\n",
    "1 4\n",
    "1 2\n",
    "2 3\n",
    "2 4\n",
    "3 4"
   ]
  }
 ],
 "metadata": {
  "kernelspec": {
   "display_name": "Python 3 (ipykernel)",
   "language": "python",
   "name": "python3"
  },
  "language_info": {
   "codemirror_mode": {
    "name": "ipython",
    "version": 3
   },
   "file_extension": ".py",
   "mimetype": "text/x-python",
   "name": "python",
   "nbconvert_exporter": "python",
   "pygments_lexer": "ipython3",
   "version": "3.8.10"
  }
 },
 "nbformat": 4,
 "nbformat_minor": 5
}
