{
 "cells": [
  {
   "cell_type": "markdown",
   "id": "5540619d",
   "metadata": {},
   "source": [
    "### Graph"
   ]
  },
  {
   "cell_type": "markdown",
   "id": "ea8b9a89",
   "metadata": {},
   "source": [
    "### 2210. 숫자판 점프"
   ]
  },
  {
   "cell_type": "code",
   "execution_count": 18,
   "id": "fc8e3383",
   "metadata": {},
   "outputs": [
    {
     "name": "stdout",
     "output_type": "stream",
     "text": [
      "15\n"
     ]
    }
   ],
   "source": [
    "def dfs(r, c, seq):\n",
    "    if len(seq) == 6:\n",
    "        if seq not in result:\n",
    "            result.append(seq)\n",
    "        return\n",
    "    \n",
    "    for move in moves:\n",
    "        move_r = r + move[0]\n",
    "        move_c = c + move[1]\n",
    "        if 0 <= move_r < 5 and 0 <= move_c < 5:\n",
    "            dfs(move_r, move_c, seq + arr[move_c][move_r])\n",
    "\n",
    "arr = [list(map(str, input().split())) for _ in range(5)]\n",
    "moves = [(-1,0),(1,0),(0,-1),(0,1)]\n",
    "result = []\n",
    "for i in range(5):\n",
    "    for j in range(5):\n",
    "        dfs(i, j, arr[i][j])\n",
    "        \n",
    "print(len(result))"
   ]
  },
  {
   "cell_type": "markdown",
   "id": "7c68e95a",
   "metadata": {},
   "source": [
    "#### 14248. 점프 점프"
   ]
  },
  {
   "cell_type": "code",
   "execution_count": 9,
   "id": "98c38dc2",
   "metadata": {
    "collapsed": true
   },
   "outputs": [
    {
     "name": "stdout",
     "output_type": "stream",
     "text": [
      "5\n",
      "1 4 2 2 1\n",
      "3\n",
      "5\n"
     ]
    }
   ],
   "source": [
    "n = int(input())\n",
    "jump = {i: num for i, num in enumerate(list(map(int, input().split())))}\n",
    "loc = int(input()) - 1\n",
    "\n",
    "result = [loc]\n",
    "queue = deque([loc])\n",
    "while queue:\n",
    "    loc = queue.popleft()\n",
    "    move = jump[loc]\n",
    "    left = loc - move\n",
    "    right = loc + move\n",
    "    \n",
    "    if (left not in result) & (0 <= left < n):\n",
    "        result.append(left)\n",
    "        queue.append(left)\n",
    "    if (right not in result) & (0 <= right < n):\n",
    "        result.append(right)\n",
    "        queue.append(right)\n",
    "    \n",
    "print(len(result))"
   ]
  },
  {
   "cell_type": "markdown",
   "id": "b6328970",
   "metadata": {},
   "source": [
    "#### 2232. 지뢰"
   ]
  },
  {
   "cell_type": "code",
   "execution_count": 34,
   "id": "f16341eb",
   "metadata": {
    "collapsed": true
   },
   "outputs": [
    {
     "name": "stdout",
     "output_type": "stream",
     "text": [
      "9\n",
      "1\n",
      "2\n",
      "5\n",
      "4\n",
      "3\n",
      "3\n",
      "6\n",
      "6\n",
      "2\n"
     ]
    }
   ],
   "source": [
    "import heapq\n",
    "\n",
    "def check(data, idx, direction, visit):\n",
    "    move = idx + direction\n",
    "    if 0 <= move < length:\n",
    "        if not visit.get(move, 0):\n",
    "            if data[move] < data[idx]:\n",
    "                visit[move] = 1\n",
    "                visit = check(data, move, direction, visit)\n",
    "\n",
    "    return visit\n",
    "\n",
    "n = int(input())\n",
    "data = []\n",
    "heap = []\n",
    "for i in range(n):\n",
    "    num = int(input())\n",
    "    data.append(num)\n",
    "    heapq.heappush(heap, (-num, i))\n",
    "\n",
    "visit = {}\n",
    "result = []\n",
    "length = len(data)\n",
    "while True:\n",
    "    val, idx = heapq.heappop(heap)\n",
    "    visit[idx] = 1\n",
    "    result.append(idx+1)\n",
    "    visit = check(data, idx, 1, visit)\n",
    "    visit = check(data, idx, -1, visit)\n",
    "\n",
    "    if len(visit) == length:\n",
    "        break\n",
    "        \n",
    "result = sorted(result)\n",
    "print(*result, sep='\\n')"
   ]
  },
  {
   "cell_type": "markdown",
   "id": "03f0c57c",
   "metadata": {},
   "source": [
    "#### 11265. 끝나지 않는 파티"
   ]
  },
  {
   "cell_type": "code",
   "execution_count": 8,
   "id": "9a656a05",
   "metadata": {
    "collapsed": true
   },
   "outputs": [
    {
     "name": "stdout",
     "output_type": "stream",
     "text": [
      "5 10\n",
      "0 4 4 8 7\n",
      "7 0 7 7 4\n",
      "1 4 0 5 4\n",
      "5 2 2 0 7\n",
      "1 4 1 6 0\n"
     ]
    }
   ],
   "source": [
    "n, m = map(int, input().split())\n",
    "\n",
    "# Floyd–warshall\n",
    "inf = int(1e10)\n",
    "graph = [[inf] * (n) for _ in range(n)]\n",
    "for i in range(n):\n",
    "    graph[i][i] = 0\n",
    "\n",
    "for i in range(n):\n",
    "    row = list(map(int, input().split()))\n",
    "    for j, val in enumerate(row):\n",
    "        graph[i][j] = val\n",
    "\n",
    "for k in range(n):\n",
    "    for i in range(n):\n",
    "        for j in range(n):\n",
    "            graph[i][j] = min(graph[i][j], graph[i][k] + graph[k][j])\n",
    "            \n",
    "for _ in range(m):\n",
    "    i, j, hour = map(int, input().split())\n",
    "    if graph[i-1][j-1] > hour:\n",
    "        print(\"Stay here\")\n",
    "    else:\n",
    "        print(\"Enjoy other party\")"
   ]
  },
  {
   "cell_type": "code",
   "execution_count": null,
   "id": "2deab313",
   "metadata": {
    "collapsed": true
   },
   "outputs": [
    {
     "name": "stdout",
     "output_type": "stream",
     "text": [
      "5\n",
      "NYNNN\n",
      "YNYNN\n",
      "NNYNY\n",
      "NNNYN\n"
     ]
    }
   ],
   "source": [
    "def conversion(string):\n",
    "    val = 0\n",
    "    if string == 'Y':\n",
    "        val = 1\n",
    "    return val\n",
    "\n",
    "n = int(input())\n",
    "graph = [[0] * n for _ in range(n)]\n",
    "\n",
    "for i in range(n):\n",
    "    row = list(map(conversion, input()))\n",
    "    for j in range(n):\n",
    "        graph[i][j] = row[j]\n",
    "\n",
    "result = 0\n",
    "for k in range(1, n):\n",
    "    for j in range(1, n):\n",
    "        graph[0][j] = max(graph[0][j], graph[0][k] + graph[k][j])\n",
    "        result = max(result, graph[0][j])\n",
    "\n",
    "print(result)"
   ]
  },
  {
   "cell_type": "markdown",
   "id": "94901a1a",
   "metadata": {},
   "source": [
    "#### 2644. 촌수계산"
   ]
  },
  {
   "cell_type": "code",
   "execution_count": 8,
   "id": "f0e77826",
   "metadata": {
    "collapsed": true
   },
   "outputs": [
    {
     "name": "stdout",
     "output_type": "stream",
     "text": [
      "9\n",
      "7 3\n",
      "7\n",
      "1 2\n",
      "1 3\n",
      "2 7\n",
      "2 8\n",
      "2 9\n",
      "4 5\n",
      "4 6\n",
      "3\n"
     ]
    }
   ],
   "source": [
    "n = int(input())\n",
    "x, y = map(int, input().split())\n",
    "m = int(input())\n",
    "\n",
    "inf = int(1e4)\n",
    "graph = [[inf] * n for _ in range(n)]\n",
    "for i in range(n):\n",
    "    graph[i][i] = 0\n",
    "\n",
    "for _ in range(m):\n",
    "    t, f = map(int, input().split())\n",
    "    graph[f-1][t-1] = 1\n",
    "    graph[t-1][f-1] = 1\n",
    "    \n",
    "for k in range(n):\n",
    "    for i in range(n):\n",
    "        for j in range(n):\n",
    "            graph[i][j] = min(graph[i][j] , graph[i][k] + graph[k][j])\n",
    "            \n",
    "print(graph[x-1][y-1])"
   ]
  },
  {
   "cell_type": "code",
   "execution_count": null,
   "id": "c258f43c",
   "metadata": {},
   "outputs": [],
   "source": [
    "n = int(input())\n",
    "x, y = map(int, input().split())\n",
    "m = int(input())\n",
    "\n",
    "graph = [[-1] * n for _ in range(n)]\n",
    "for i in range(n):\n",
    "    graph[i][i] = 0\n",
    "\n",
    "for _ in range(m):\n",
    "    t, f = map(int, input().split())\n",
    "    graph[f-1][t-1] = 1\n",
    "    graph[t-1][f-1] = 1\n",
    "    \n",
    "for k in range(n):\n",
    "    for i in range(n):\n",
    "        if graph[i][k] > 0:\n",
    "            for j in range(i+1, n):\n",
    "                if graph[k][j] > 0:\n",
    "                    graph[i][j] = min(graph[i][j] , graph[i][k] + graph[k][j])\n",
    "                    graph[j][i] = graph[i][j]\n",
    "            \n",
    "print(graph[x-1][y-1])"
   ]
  },
  {
   "cell_type": "markdown",
   "id": "f6945754",
   "metadata": {},
   "source": [
    "#### 1260. DFS와 BFS"
   ]
  },
  {
   "cell_type": "code",
   "execution_count": 5,
   "id": "b9a4e9c1",
   "metadata": {
    "collapsed": true
   },
   "outputs": [
    {
     "name": "stdout",
     "output_type": "stream",
     "text": [
      "5 5 3\n",
      "5 4\n",
      "5 2\n",
      "1 2\n",
      "3 4\n",
      "3 1\n",
      "3 1 2 5 4 \n",
      "3 1 4 2 5 "
     ]
    }
   ],
   "source": [
    "from collections import deque\n",
    "\n",
    "def dfs(graph, v, visited):\n",
    "    visited[v] = True\n",
    "    print(v, end=' ')\n",
    "    \n",
    "    for i in graph[v]:\n",
    "        if not visited[i]:\n",
    "            dfs(graph, i, visited)\n",
    "\n",
    "def bfs(graph, start, visited):\n",
    "    visited[start] = True\n",
    "    \n",
    "    queue = deque([start])\n",
    "    while queue:\n",
    "        v = queue.popleft()\n",
    "        print(v, end=' ')\n",
    "        for i in graph[v]:\n",
    "            if not visited[i]:\n",
    "                queue.append(i)\n",
    "                visited[i] = True\n",
    "            \n",
    "n, m, v = map(int, input().split())\n",
    "graph = [[] for _ in range(n+1)]\n",
    "for _ in range(m):\n",
    "    f, t = map(int, input().split())\n",
    "    graph[f].append(t)\n",
    "    graph[t].append(f)\n",
    "    \n",
    "for g in graph:\n",
    "    g.sort()\n",
    "    \n",
    "visited = [False] * (n+1)\n",
    "dfs(graph, v, visited)\n",
    "print('')\n",
    "visited = [False] * (n+1)\n",
    "bfs(graph, v, visited)"
   ]
  },
  {
   "cell_type": "markdown",
   "id": "55b3a20b",
   "metadata": {},
   "source": [
    "#### 1389. 케빈 베이컨의 6단계 법칙"
   ]
  },
  {
   "cell_type": "code",
   "execution_count": 22,
   "id": "54ea7f02",
   "metadata": {
    "collapsed": true
   },
   "outputs": [
    {
     "name": "stdout",
     "output_type": "stream",
     "text": [
      "5 5\n",
      "1 3\n",
      "1 4\n",
      "4 5\n",
      "4 3\n",
      "3 2\n",
      "3\n"
     ]
    }
   ],
   "source": [
    "n, m = map(int, input().split())\n",
    "\n",
    "graph = [[int(1e3)] * (n+1) for _ in range(n+1)]\n",
    "for i in range(n+1):\n",
    "    graph[i][i] = 0\n",
    "\n",
    "for _ in range(m):\n",
    "    f, t = map(int, input().split())\n",
    "    graph[f][t] = 1\n",
    "    graph[t][f] = 1\n",
    "    \n",
    "for k in range(n+1):\n",
    "    for i in range(n+1):\n",
    "        for j in range(n+1):\n",
    "            graph[i][j] = min(graph[i][j], graph[i][k] + graph[k][j])\n",
    "\n",
    "result = [sum(g) for g in graph]\n",
    "print(result.index(min(result)))"
   ]
  },
  {
   "cell_type": "markdown",
   "id": "bb72b46c",
   "metadata": {},
   "source": [
    "#### 11724. 연결 요소의 개수"
   ]
  },
  {
   "cell_type": "code",
   "execution_count": 2,
   "id": "dfcd6383",
   "metadata": {
    "collapsed": true
   },
   "outputs": [
    {
     "name": "stdout",
     "output_type": "stream",
     "text": [
      "6 5\n",
      "1 2\n",
      "2 5\n",
      "5 1\n",
      "3 4\n",
      "4 6\n",
      "2\n"
     ]
    }
   ],
   "source": [
    "from collections import deque\n",
    "\n",
    "def bfs(graph, start, visited):\n",
    "    visited[start] = True\n",
    "    \n",
    "    queue = deque([start])\n",
    "    while queue:\n",
    "        v = queue.popleft()\n",
    "        for i in graph[v]:\n",
    "            if not visited[i]:\n",
    "                queue.append(i)\n",
    "                visited[i] = True\n",
    "            \n",
    "n, m = map(int, input().split())\n",
    "visited = [False] * (n + 1)\n",
    "graph = [[] for _ in range(n + 1)]\n",
    "\n",
    "for _ in range(m):\n",
    "    u, v = map(int, input().split())\n",
    "    graph[u].append(v)\n",
    "    graph[v].append(u)\n",
    "\n",
    "count = 0\n",
    "for i in range(1, n + 1):\n",
    "    if not visited[i]:\n",
    "        if not graph[i]:\n",
    "            count += 1\n",
    "            visited[i] = True\n",
    "        else:\n",
    "            bfs(graph, i, visited)\n",
    "            count += 1\n",
    "\n",
    "print(count)"
   ]
  },
  {
   "cell_type": "markdown",
   "id": "8361b546",
   "metadata": {},
   "source": [
    "#### 11725. 트리의 부모 찾기"
   ]
  },
  {
   "cell_type": "code",
   "execution_count": 9,
   "id": "77140dc7",
   "metadata": {},
   "outputs": [
    {
     "name": "stdout",
     "output_type": "stream",
     "text": [
      "7\n",
      "1 6\n",
      "6 3\n",
      "3 5\n",
      "4 1\n",
      "2 4\n",
      "4 7\n"
     ]
    }
   ],
   "source": [
    "from collections import deque\n",
    "\n",
    "def bfs(graph, start, visited):\n",
    "    queue = deque([start])\n",
    "    visited[start] = True\n",
    "    \n",
    "    while queue:\n",
    "        value = queue.popleft()\n",
    "        for i in graph[value]:\n",
    "            if not visited[i]:\n",
    "                queue.append(i)\n",
    "                visited[i] = True\n",
    "                result[i-1] = value\n",
    "\n",
    "n = int(input())\n",
    "graph = [[] for _ in range(n + 1)]\n",
    "for _ in range(n-1):\n",
    "    u, v = map(int, input().split())\n",
    "    graph[u].append(v)\n",
    "    graph[v].append(u)\n",
    "\n",
    "visited = [False] * (n + 1)\n",
    "result = [0] * n\n",
    "bfs(graph, 1, visited)\n",
    "print(*result[1:], sep='\\n')"
   ]
  },
  {
   "cell_type": "markdown",
   "id": "e374ca1b",
   "metadata": {},
   "source": [
    "#### 2667. 단지번호붙이기"
   ]
  },
  {
   "cell_type": "code",
   "execution_count": 1,
   "id": "d4388b17",
   "metadata": {},
   "outputs": [],
   "source": [
    "from collections import deque\n",
    "\n",
    "def bfs(graph, start, visited):\n",
    "    col, row = start\n",
    "    queue = deque([start])\n",
    "    visited[col][row] = True\n",
    "    \n",
    "    number = 1\n",
    "    while queue:\n",
    "        col, row = queue.popleft()\n",
    "        \n",
    "        for move in moves:\n",
    "            move_col = col + move[0]\n",
    "            move_row = row + move[1]\n",
    "            if (0 <= move_col < n) and (0 <= move_row < n):\n",
    "                if graph[col][row] == '1':\n",
    "                    if not visited[move_col][move_row]:\n",
    "                        number += 1\n",
    "                        queue.append([move_col, move_row])\n",
    "                        visited[move_col][move_row] = True\n",
    "                        \n",
    "    return number\n",
    "\n",
    "n = int(input())\n",
    "graph = [list(input()) for _ in range(n)]\n",
    "visited = [[False] * n for _ in range(n)]\n",
    "\n",
    "moves = [(0, 1), (1, 0), (0, -1), (-1, 0)]\n",
    "result = []\n",
    "cnt = 0\n",
    "for col in range(n):\n",
    "    for row in range(n):\n",
    "        if graph[col][row] != '0':\n",
    "            if not visited[col][row]:\n",
    "                cnt += 1\n",
    "                result.append(bfs(graph, [col, row], visited))\n",
    "\n",
    "print(cnt)\n",
    "print(*result, sep='\\n')"
   ]
  },
  {
   "cell_type": "markdown",
   "id": "8b2d7bfe",
   "metadata": {},
   "source": [
    "#### 4963. 섬의 개수"
   ]
  },
  {
   "cell_type": "code",
   "execution_count": null,
   "id": "d050ce07",
   "metadata": {},
   "outputs": [],
   "source": [
    "from collections import deque\n",
    "\n",
    "moves = [(0, 1), (1, 0), (0, -1), (-1, 0), (-1, 1), (1, -1), (-1, -1), (1, 1)]\n",
    "\n",
    "def bfs(graph, start, visited):\n",
    "    queue = deque([start])\n",
    "    col, row = start\n",
    "    visited[col][row] = True\n",
    "    \n",
    "    while queue:\n",
    "        col, row = queue.popleft()\n",
    "        \n",
    "        for c, r in moves:\n",
    "            move_col = col + c \n",
    "            move_row = row + r\n",
    "            if (0 <= move_col < h) and (0 <= move_row < w):\n",
    "                if graph[move_col][move_row] == 1 and not visited[move_col][move_row]:\n",
    "                    queue.append([move_col, move_row])\n",
    "                    visited[move_col][move_row] = True\n",
    "\n",
    "while True:\n",
    "    w, h = map(int, input().split())\n",
    "    if w == 0 and h == 0:\n",
    "        break\n",
    "    else:\n",
    "        graph = [list(map(int, input().split())) for _ in range(h)]\n",
    "        visited = [[False] * w for _ in range(h)]\n",
    "        \n",
    "        count = 0\n",
    "        for i in range(h):\n",
    "            for j in range(w):\n",
    "                if graph[i][j] == 1 and not visited[i][j]:\n",
    "                    bfs(graph, [i, j], visited)\n",
    "                    count += 1\n",
    "        \n",
    "        print(count)\n",
    "        "
   ]
  },
  {
   "cell_type": "markdown",
   "id": "bc6e04cb",
   "metadata": {},
   "source": [
    "#### 영역 구하기"
   ]
  },
  {
   "cell_type": "code",
   "execution_count": null,
   "id": "9f5dc5e5",
   "metadata": {},
   "outputs": [],
   "source": [
    "from collections import deque\n",
    "\n",
    "def draw_rectangle(graph, p1, p2):\n",
    "    x1, y1 = p1\n",
    "    x2, y2 = p2\n",
    "    for i in range(y1, y2):\n",
    "        for j in range(x1, x2):\n",
    "            graph[i][j] = True\n",
    "\n",
    "    return graph\n",
    "\n",
    "\n",
    "def bfs(start, visited, moves):\n",
    "    queue = deque([start])\n",
    "    c, r = start\n",
    "    visited[c][r] = True\n",
    "\n",
    "    area = 1\n",
    "    while queue:\n",
    "        c, r = queue.popleft()\n",
    "        for move in moves:\n",
    "            move_c = c + move[0]\n",
    "            move_r = r + move[1]\n",
    "            if (0 <= move_c < m) and (0 <= move_r < n):\n",
    "                if not visited[move_c][move_r]:\n",
    "                    area += 1\n",
    "                    visited[move_c][move_r] = True\n",
    "                    queue.append([move_c, move_r])\n",
    "\n",
    "    return area\n",
    "\n",
    "\n",
    "m, n, k = map(int, input().split())\n",
    "visited = [[False] * n for _ in range(m)]\n",
    "for _ in range(k):\n",
    "    x1, y1, x2, y2 = map(int, input().split())\n",
    "    visited = draw_rectangle(visited, (x1, y1), (x2, y2))\n",
    "\n",
    "moves = [(1, 0), (0, 1), (-1, 0), (0, -1)]\n",
    "count = 0\n",
    "areas = []\n",
    "for i in range(m):\n",
    "    for j in range(n):\n",
    "        if not visited[i][j]:\n",
    "            count += 1\n",
    "            areas.append(bfs(start=[i, j], visited=visited, moves=moves))\n",
    "\n",
    "print(count)\n",
    "print(*sorted(areas))"
   ]
  },
  {
   "cell_type": "markdown",
   "id": "50434fad",
   "metadata": {},
   "source": [
    "#### 2468. 안전 영역"
   ]
  },
  {
   "cell_type": "code",
   "execution_count": 16,
   "id": "b191660d",
   "metadata": {
    "collapsed": true
   },
   "outputs": [
    {
     "name": "stdout",
     "output_type": "stream",
     "text": [
      "2\n",
      "1 1\n",
      "1 1\n",
      "1\n"
     ]
    }
   ],
   "source": [
    "from collections import deque\n",
    "\n",
    "\n",
    "def bfs(graph, start, visited, height):\n",
    "    queue = deque([start])\n",
    "    col, row = start\n",
    "    visited[col][row] = True\n",
    "\n",
    "    while queue:\n",
    "        col, row = queue.popleft()\n",
    "\n",
    "        for direction in directions:\n",
    "            d_col = col + direction[0]\n",
    "            d_row = row + direction[1]\n",
    "            if (0 <= d_col < n) and (0 <= d_row < n):\n",
    "                if graph[d_col][d_row] > height:\n",
    "                    if not visited[d_col][d_row]:\n",
    "                        queue.append([d_col, d_row])\n",
    "                        visited[d_col][d_row] = True\n",
    "\n",
    "\n",
    "n = int(input())\n",
    "graph = []\n",
    "heights = set()\n",
    "for _ in range(n):\n",
    "    height = list(map(int, input().split()))\n",
    "    graph.append(height)\n",
    "    heights.update(height)\n",
    "\n",
    "counts = []\n",
    "directions = [(0, 1), (1, 0), (0, -1), (-1, 0)]\n",
    "for height in heights:\n",
    "    count = 0\n",
    "    visited = [[False] * n for _ in range(n)]\n",
    "    for c in range(n):\n",
    "        for r in range(n):\n",
    "            if graph[c][r] > height:\n",
    "                if not visited[c][r]:\n",
    "                    count += 1\n",
    "                    bfs(graph, [c, r], visited, height)\n",
    "    counts.append(count)\n",
    "\n",
    "print(max(max(counts), 1))"
   ]
  },
  {
   "cell_type": "markdown",
   "id": "a4ea5615",
   "metadata": {},
   "source": [
    "#### 1325. 효율적인 해킹"
   ]
  },
  {
   "cell_type": "code",
   "execution_count": 5,
   "id": "5d7e37f8",
   "metadata": {
    "collapsed": true
   },
   "outputs": [
    {
     "name": "stdout",
     "output_type": "stream",
     "text": [
      "5 4\n",
      "3 1\n",
      "3 2\n",
      "4 3\n",
      "5 3\n",
      "1 2\n"
     ]
    }
   ],
   "source": [
    "from collections import deque\n",
    "\n",
    "def bfs(graph, start, visited):\n",
    "    queue = deque([start])\n",
    "    visited[start] = True\n",
    "    \n",
    "    depth = 0\n",
    "    while queue:\n",
    "        node = queue.popleft()\n",
    "        \n",
    "        for i in graph[node]:\n",
    "            if not visited[i]:\n",
    "                visited[i] = True\n",
    "                queue.append(i)\n",
    "                depth += 1\n",
    "    \n",
    "    return depth\n",
    "\n",
    "n, m = map(int, input().split())\n",
    "graph = [[] for _ in range(n+1)]\n",
    "for _ in range(m):\n",
    "    u, v = map(int, input().split())\n",
    "    graph[v].append(u)\n",
    "\n",
    "result = {}\n",
    "for i in range(1, n+1):\n",
    "    visited = [False] * (n+1)\n",
    "    depth = bfs(graph, i, visited)\n",
    "    if depth in result:\n",
    "        result[depth].append(i)\n",
    "    else:\n",
    "        result[depth] = [i]\n",
    "\n",
    "print(*sorted(result[max(result)]))"
   ]
  },
  {
   "cell_type": "markdown",
   "id": "951c0e26",
   "metadata": {},
   "source": [
    "#### 11403. 경로 찾기"
   ]
  },
  {
   "cell_type": "code",
   "execution_count": 5,
   "id": "f5ee8fb5",
   "metadata": {
    "collapsed": true
   },
   "outputs": [
    {
     "name": "stdout",
     "output_type": "stream",
     "text": [
      "3\n",
      "0 1 0\n",
      "0 0 1\n",
      "1 0 0\n",
      "1 1 1\n",
      "1 1 1\n",
      "1 1 1\n"
     ]
    }
   ],
   "source": [
    "n = int(input())\n",
    "graph = [list(map(int, input().split())) for _ in range(n)]\n",
    "\n",
    "for k in range(n):\n",
    "    for i in range(n):\n",
    "        for j in range(n):\n",
    "            if graph[i][k] and graph[k][j]:\n",
    "                graph[i][j] = 1\n",
    "for row in graph:\n",
    "    print(*row)"
   ]
  },
  {
   "cell_type": "markdown",
   "id": "4e0c67b4",
   "metadata": {},
   "source": [
    "#### 10026. 적록색약"
   ]
  },
  {
   "cell_type": "code",
   "execution_count": 4,
   "id": "df0c5d78",
   "metadata": {
    "collapsed": true
   },
   "outputs": [
    {
     "name": "stdout",
     "output_type": "stream",
     "text": [
      "5\n",
      "RRRBB\n",
      "GGBBB\n",
      "BBBRR\n",
      "BBRRR\n",
      "RRRRR\n",
      "4 3\n"
     ]
    }
   ],
   "source": [
    "from collections import deque\n",
    "\n",
    "def bfs(graph, start, color, visited):\n",
    "    col, row = start\n",
    "    queue = deque([[col, row]])\n",
    "    \n",
    "    while queue:\n",
    "        col, row = queue.popleft()\n",
    "        \n",
    "        for move in moves:\n",
    "            nc = col + move[0]\n",
    "            nr = row + move[1]\n",
    "            if (0 <= nc < n) and (0 <= nr < n):\n",
    "                if not visited[nc][nr] and graph[nc][nr] == color:\n",
    "                    visited[nc][nr] = True\n",
    "                    queue.append([nc, nr])\n",
    "\n",
    "n = int(input())\n",
    "rgb_map = {'R': 'G'}\n",
    "graph1 = [[] for _ in range(n)]\n",
    "graph2 = [[] for _ in range(n)]\n",
    "for _ in range(n):\n",
    "    row = input()\n",
    "    for i, rgb in enumerate(row):\n",
    "        graph1[i].append(rgb)\n",
    "        graph2[i].append(rgb_map.get(rgb, rgb))\n",
    "        \n",
    "count1 = 0\n",
    "count2 = 0\n",
    "visited1 = [[False] * n for _ in range(n)]\n",
    "visited2 = [[False] * n for _ in range(n)]\n",
    "moves = [(0, 1) ,(1, 0) ,(0, -1) ,(-1, 0)]\n",
    "for c in range(n):\n",
    "    for r in range(n):\n",
    "        if not visited1[c][r]:\n",
    "            bfs(graph1, [c, r], graph1[c][r], visited1)\n",
    "            count1 += 1\n",
    "        if not visited2[c][r]:\n",
    "            count2 += 1\n",
    "            bfs(graph2, [c, r], graph2[c][r], visited2)\n",
    "            \n",
    "print(f'{count1} {count2}')"
   ]
  },
  {
   "cell_type": "markdown",
   "id": "0357ec9e",
   "metadata": {},
   "source": [
    "#### 1005. ACM Craft"
   ]
  },
  {
   "cell_type": "code",
   "execution_count": null,
   "id": "78dc4a28",
   "metadata": {},
   "outputs": [],
   "source": [
    "from collections import deque\n",
    "\n",
    "def bfs(graph, start, visited, times):\n",
    "    queue = deque([[start, 0]])\n",
    "    visited[start] = True\n",
    "    \n",
    "    step = 0\n",
    "    result = {i: 0 for i in range(1, len(times))}\n",
    "    while queue:\n",
    "        node, step = queue.popleft()\n",
    "        \n",
    "        for i in graph[node]:\n",
    "            if not visited[i]:\n",
    "                visited[i] = True\n",
    "                queue.append([node, step + 1])\n",
    "                if result[step + 1] < times[i-1]:\n",
    "                    result[step + 1] = times[i-1]\n",
    "    \n",
    "    return result\n",
    "\n",
    "t = int(input())\n",
    "\n",
    "for _ in range(t):\n",
    "    n, k = map(int, input().split())\n",
    "    times = list(map(int, input().split()))\n",
    "    graph = [[] for _ in range(n)]\n",
    "    for _ in range(k):\n",
    "        u, v = map(int, input().split())\n",
    "        graph[v].append(u)\n",
    "    w = int(input())\n",
    "\n",
    "    visited = [False] * (n + 1)\n",
    "    result = bfs(graph, w, visited, times)\n",
    "    print(result)"
   ]
  },
  {
   "cell_type": "code",
   "execution_count": null,
   "id": "ce876f93",
   "metadata": {},
   "outputs": [],
   "source": [
    "from collections import deque\n",
    "\n",
    "t = int(input())\n",
    "for _ in range(t):\n",
    "    n, k = map(int, input().split())\n",
    "    times = list(map(int, input().split()))\n",
    "    prev_cnt = [0]*n\n",
    "    conn = {i:[] for i in range(n)}\n",
    "    prev = {i:[] for i in range(n)}\n",
    "    poss = set(list(range(n)))\n",
    "    for _ in range(k):\n",
    "        x, y = map(int, input().split())\n",
    "        prev_cnt[y-1] += 1\n",
    "        conn[x-1].append(y-1)\n",
    "        prev[y-1].append(x-1)\n",
    "        poss.discard(y-1)\n",
    "\n",
    "    num = int(input())\n",
    "\n",
    "    poss = deque(list(poss))\n",
    "    rst = [0] * n\n",
    "    while poss:\n",
    "        building = poss.popleft()\n",
    "        time = 0\n",
    "        for b in prev[building]:\n",
    "            time = max(time, rst[b])\n",
    "        rst[building] = time + times[building]\n",
    "        if building == num-1:\n",
    "            print(rst[building])\n",
    "            break\n",
    "\n",
    "        for b in conn[building]:\n",
    "            prev_cnt[b] -= 1\n",
    "            if prev_cnt[b] == 0:\n",
    "                poss.append(b)\n"
   ]
  },
  {
   "cell_type": "markdown",
   "id": "803c502c",
   "metadata": {},
   "source": [
    "#### 17204. 죽음의 게임"
   ]
  },
  {
   "cell_type": "code",
   "execution_count": 3,
   "id": "d8c4dbcd",
   "metadata": {
    "collapsed": true
   },
   "outputs": [
    {
     "name": "stdout",
     "output_type": "stream",
     "text": [
      "6 2\n",
      "1\n",
      "3\n",
      "5\n",
      "4\n",
      "0\n",
      "2\n",
      "6\n"
     ]
    }
   ],
   "source": [
    "n, k = map(int, input().split())\n",
    "\n",
    "direction = {}\n",
    "for i in range(n):\n",
    "    direction[i] = int(input())\n",
    "\n",
    "count = 0\n",
    "loc = 0\n",
    "while count < n:\n",
    "    count += 1\n",
    "    loc = direction[loc]\n",
    "    if loc == k:\n",
    "        break\n",
    "\n",
    "if count != n:\n",
    "    print(count)\n",
    "else:\n",
    "    print(-1)"
   ]
  },
  {
   "cell_type": "markdown",
   "id": "24ffb704",
   "metadata": {},
   "source": [
    "#### 16236. 아기 상어"
   ]
  },
  {
   "cell_type": "code",
   "execution_count": 19,
   "id": "245c1d52",
   "metadata": {
    "collapsed": true
   },
   "outputs": [
    {
     "name": "stdout",
     "output_type": "stream",
     "text": [
      "3\n",
      "0 0 1\n",
      "0 0 0\n",
      "0 9 0\n"
     ]
    },
    {
     "ename": "IndexError",
     "evalue": "list index out of range",
     "output_type": "error",
     "traceback": [
      "\u001b[0;31m---------------------------------------------------------------------------\u001b[0m",
      "\u001b[0;31mIndexError\u001b[0m                                Traceback (most recent call last)",
      "Input \u001b[0;32mIn [19]\u001b[0m, in \u001b[0;36m<cell line: 88>\u001b[0;34m()\u001b[0m\n\u001b[1;32m     86\u001b[0m moves \u001b[38;5;241m=\u001b[39m [(\u001b[38;5;241m-\u001b[39m\u001b[38;5;241m1\u001b[39m, \u001b[38;5;241m0\u001b[39m), (\u001b[38;5;241m0\u001b[39m, \u001b[38;5;241m-\u001b[39m\u001b[38;5;241m1\u001b[39m), (\u001b[38;5;241m1\u001b[39m, \u001b[38;5;241m0\u001b[39m), (\u001b[38;5;241m0\u001b[39m, \u001b[38;5;241m1\u001b[39m)]\n\u001b[1;32m     87\u001b[0m visited \u001b[38;5;241m=\u001b[39m [[\u001b[38;5;28;01mFalse\u001b[39;00m] \u001b[38;5;241m*\u001b[39m n \u001b[38;5;28;01mfor\u001b[39;00m _ \u001b[38;5;129;01min\u001b[39;00m \u001b[38;5;28mrange\u001b[39m(n)]\n\u001b[0;32m---> 88\u001b[0m result \u001b[38;5;241m=\u001b[39m \u001b[43msimulation\u001b[49m\u001b[43m(\u001b[49m\u001b[43marr\u001b[49m\u001b[43m,\u001b[49m\u001b[43m \u001b[49m\u001b[43mstart\u001b[49m\u001b[43m \u001b[49m\u001b[38;5;241;43m+\u001b[39;49m\u001b[43m \u001b[49m\u001b[43m[\u001b[49m\u001b[38;5;241;43m0\u001b[39;49m\u001b[43m]\u001b[49m\u001b[43m,\u001b[49m\u001b[43m \u001b[49m\u001b[43mloc\u001b[49m\u001b[43m,\u001b[49m\u001b[43m \u001b[49m\u001b[43mvisited\u001b[49m\u001b[43m)\u001b[49m\n\u001b[1;32m     89\u001b[0m \u001b[38;5;28mprint\u001b[39m(result)\n",
      "Input \u001b[0;32mIn [19]\u001b[0m, in \u001b[0;36msimulation\u001b[0;34m(arr, start, loc, visited)\u001b[0m\n\u001b[1;32m     14\u001b[0m     \u001b[38;5;28;01mbreak\u001b[39;00m\n\u001b[1;32m     16\u001b[0m \u001b[38;5;66;03m# Seach fish\u001b[39;00m\n\u001b[0;32m---> 17\u001b[0m target, loc \u001b[38;5;241m=\u001b[39m \u001b[43mget_shortest_distance\u001b[49m\u001b[43m(\u001b[49m\u001b[43mloc\u001b[49m\u001b[38;5;241;43m=\u001b[39;49m\u001b[43mloc\u001b[49m\u001b[43m,\u001b[49m\u001b[43m \u001b[49m\u001b[43mcurr\u001b[49m\u001b[38;5;241;43m=\u001b[39;49m\u001b[43m(\u001b[49m\u001b[43mr\u001b[49m\u001b[43m,\u001b[49m\u001b[43m \u001b[49m\u001b[43mc\u001b[49m\u001b[43m)\u001b[49m\u001b[43m,\u001b[49m\u001b[43m \u001b[49m\u001b[43msize\u001b[49m\u001b[38;5;241;43m=\u001b[39;49m\u001b[43msize\u001b[49m\u001b[43m)\u001b[49m\n\u001b[1;32m     18\u001b[0m r, c, t, size, growth \u001b[38;5;241m=\u001b[39m bfs(queue, target, size, growth, visited)\n\u001b[1;32m     20\u001b[0m \u001b[38;5;66;03m# initialization\u001b[39;00m\n",
      "Input \u001b[0;32mIn [19]\u001b[0m, in \u001b[0;36mget_shortest_distance\u001b[0;34m(loc, curr, size)\u001b[0m\n\u001b[1;32m     49\u001b[0m             dist\u001b[38;5;241m.\u001b[39mappend([r, c, d, fish])\n\u001b[1;32m     51\u001b[0m dist \u001b[38;5;241m=\u001b[39m \u001b[38;5;28msorted\u001b[39m(dist, key\u001b[38;5;241m=\u001b[39m\u001b[38;5;28;01mlambda\u001b[39;00m x: (\u001b[38;5;241m-\u001b[39mx[\u001b[38;5;241m2\u001b[39m], \u001b[38;5;241m-\u001b[39mx[\u001b[38;5;241m1\u001b[39m], \u001b[38;5;241m-\u001b[39mx[\u001b[38;5;241m0\u001b[39m]))\n\u001b[0;32m---> 52\u001b[0m r, c, d, fish \u001b[38;5;241m=\u001b[39m \u001b[43mdist\u001b[49m\u001b[43m[\u001b[49m\u001b[38;5;241;43m0\u001b[39;49m\u001b[43m]\u001b[49m\n\u001b[1;32m     53\u001b[0m loc[fish]\u001b[38;5;241m.\u001b[39mremove((r, c))\n\u001b[1;32m     54\u001b[0m target \u001b[38;5;241m=\u001b[39m (r, c)\n",
      "\u001b[0;31mIndexError\u001b[0m: list index out of range"
     ]
    }
   ],
   "source": [
    "from collections import deque\n",
    "\n",
    "def simulation(arr, start, loc, visited):\n",
    "    size = 2\n",
    "    growth = 0\n",
    "    end = set([0])\n",
    "    r, c, t = start\n",
    "    queue = deque([start])\n",
    "    visited[r][c] = True\n",
    "    while True:\n",
    "        # Check the end point\n",
    "        fish = set(loc.keys())\n",
    "        if fish == end:\n",
    "            break\n",
    "        \n",
    "        # Seach fish\n",
    "        target, loc = get_shortest_distance(loc=loc, curr=(r, c), size=size)\n",
    "        r, c, t, size, growth = bfs(queue, target, size, growth, visited)\n",
    "        \n",
    "        # initialization\n",
    "        queue = deque([[r, c, t]])\n",
    "        visited = [[False] * n for _ in range(n)]\n",
    "\n",
    "    return t\n",
    "    \n",
    "def bfs(queue, target, size, growth, visited):\n",
    "    while queue:\n",
    "        r, c, t = queue.popleft()\n",
    "        if r == target[0] and c == target[1]:\n",
    "            size, growth = update_size(size, growth)\n",
    "            \n",
    "            return r, c, t, size, growth\n",
    "\n",
    "        for move in moves:\n",
    "            nr = r + move[0]\n",
    "            nc = c + move[1]\n",
    "            if 0 <= nr < n and 0 <= nc < n:\n",
    "                if not visited[nr][nc]:\n",
    "                    visited[nr][nc] = True\n",
    "                    queue.append([nr, nc, t+1])\n",
    "    \n",
    "                                           \n",
    "def get_shortest_distance(loc, curr, size):\n",
    "    dist = []\n",
    "    for fish in loc:\n",
    "        if fish < size:\n",
    "            for r, c in loc[fish]:\n",
    "                d = manhatten_distance(curr, (r, c))\n",
    "                dist.append([r, c, d, fish])\n",
    "    \n",
    "    dist = sorted(dist, key=lambda x: (-x[2], -x[1], -x[0]))\n",
    "    r, c, d, fish = dist[0]\n",
    "    loc[fish].remove((r, c))\n",
    "    target = (r, c)\n",
    "    \n",
    "    return target, loc\n",
    "        \n",
    "def manhatten_distance(p1, p2):\n",
    "    return abs(p1[0] - p2[0]) + abs(p1[1] - p2[1])\n",
    "\n",
    "def update_size(size, growth):\n",
    "    # update shark size\n",
    "    if growth == size:\n",
    "        size += 1\n",
    "        growth = 0\n",
    "    else:\n",
    "        growth += 1\n",
    "        \n",
    "    return size, growth\n",
    "\n",
    "n = int(input())\n",
    "arr = [list(map(int, input().split())) for _ in range(n)]\n",
    "\n",
    "loc = {}\n",
    "start = None\n",
    "for i, row in enumerate(arr):\n",
    "    for j, value in enumerate(row):\n",
    "        if value == 9:\n",
    "            start = [i, j]\n",
    "        else:\n",
    "            if value in loc:\n",
    "                loc[value].append((i, j))\n",
    "            else:\n",
    "                loc[value] = [(i, j)]\n",
    "                \n",
    "moves = [(-1, 0), (0, -1), (1, 0), (0, 1)]\n",
    "visited = [[False] * n for _ in range(n)]\n",
    "result = simulation(arr, start + [0], loc, visited)\n",
    "print(result)"
   ]
  },
  {
   "cell_type": "markdown",
   "id": "b26ab4dc",
   "metadata": {},
   "source": [
    "#### 1043. 거짓말"
   ]
  },
  {
   "cell_type": "code",
   "execution_count": 5,
   "id": "f2576a6b",
   "metadata": {
    "collapsed": true
   },
   "outputs": [
    {
     "name": "stdout",
     "output_type": "stream",
     "text": [
      "4 5\n",
      "1 1\n",
      "1 1\n",
      "1 2\n",
      "1 3\n",
      "1 4\n",
      "2 4 1\n",
      "2\n"
     ]
    }
   ],
   "source": [
    "from collections import deque\n",
    "from itertools import combinations\n",
    "\n",
    "def bfs(graph, start, visited):\n",
    "    queue = deque([start])\n",
    "    visited[start] = True\n",
    "    \n",
    "    result = [start]\n",
    "    while queue:\n",
    "        value = queue.popleft()\n",
    "        for i in graph[value]:\n",
    "            if not visited[i]:\n",
    "                visited[i] = True\n",
    "                queue.append(i)\n",
    "                result.append(i)\n",
    "    \n",
    "    return result\n",
    "\n",
    "n, m = map(int, input().split())\n",
    "truth = list(map(int, input().split()))[1:]\n",
    "\n",
    "party = []\n",
    "graph = [set() for _ in range(n+1)]\n",
    "truth_all = set()\n",
    "for _ in range(m):\n",
    "    data = list(map(int, input().split()))[1:]\n",
    "    party.append(set(data))\n",
    "    if len(data) > 1:\n",
    "        for u, v in combinations(data, 2):\n",
    "            graph[u].add(v)\n",
    "            graph[v].add(u)\n",
    "\n",
    "for t in truth:\n",
    "    visited = [False] * (n + 1)\n",
    "    result = bfs(graph, t, visited)\n",
    "    truth_all.update(result)\n",
    "\n",
    "count = 0\n",
    "for p in party:\n",
    "    if not p.issubset(truth_all):\n",
    "        count += 1\n",
    "\n",
    "print(count)"
   ]
  },
  {
   "cell_type": "markdown",
   "id": "77ad7e50",
   "metadata": {},
   "source": [
    "#### 1916. 최소비용 구하기"
   ]
  },
  {
   "cell_type": "code",
   "execution_count": 18,
   "id": "8e561697",
   "metadata": {
    "collapsed": true
   },
   "outputs": [
    {
     "name": "stdout",
     "output_type": "stream",
     "text": [
      "5\n",
      "8\n",
      "1 2 2\n",
      "1 3 3\n",
      "1 4 1\n",
      "1 5 10\n",
      "2 4 2\n",
      "3 4 1\n",
      "3 5 1\n",
      "4 5 3\n",
      "1 5\n",
      "10\n"
     ]
    }
   ],
   "source": [
    "def dijkstra(graph, cost, start, end):\n",
    "    c = cost[start]\n",
    "    node_sorted = sorted(range(n), key=lambda x: c[x])\n",
    "    for node in node_sorted:\n",
    "        c_node = c[node]\n",
    "        for i in graph[node]:\n",
    "            cost[start][node] = min(c_node, cost[start][i] + cost[i][node])\n",
    "\n",
    "    return cost[start][end]\n",
    "            \n",
    "n = int(input())\n",
    "m = int(input())\n",
    "\n",
    "inf = 10 * 12\n",
    "graph = [[] for _ in range(n)]\n",
    "cost = [[inf] * n for _ in range(n)]\n",
    "\n",
    "for _ in range(m):\n",
    "    u, v, c = map(int, input().split())\n",
    "    u, v = u - 1, v - 1\n",
    "    graph[u].append(v)\n",
    "    cost[u][v] = c\n",
    "\n",
    "s, e = map(int, input().split())\n",
    "result = dijkstra(graph, cost, s-1, e-1)\n",
    "print(result)"
   ]
  },
  {
   "cell_type": "markdown",
   "id": "95f7e8f0",
   "metadata": {},
   "source": [
    "#### 1167. 트리의 지름"
   ]
  },
  {
   "cell_type": "code",
   "execution_count": 4,
   "id": "d08ade66",
   "metadata": {},
   "outputs": [
    {
     "name": "stdout",
     "output_type": "stream",
     "text": [
      "5\n",
      "1 3 2 -1\n",
      "2 4 4 -1\n",
      "3 1 2 4 3 -1\n",
      "4 2 4 3 3 5 6 -1\n",
      "5 4 6 -1\n"
     ]
    }
   ],
   "source": [
    "from heapq import heappush, heappop\n",
    "\n",
    "def dijkstra(graph, start, distance):\n",
    "    queue = []\n",
    "    heappush(queue, (0, start))\n",
    "    \n",
    "    while queue:\n",
    "        dist, curr = heappop(queue)\n",
    "        if distance[curr] < dist:\n",
    "            continue\n",
    "        for node, d in graph[curr]:\n",
    "            cost = dist + d\n",
    "            if cost < distance[node]:\n",
    "                distance[node] = cost\n",
    "                heappush(queue, (cost, node))\n",
    "    \n",
    "    return distance\n",
    "\n",
    "n = int(input())\n",
    "INF = int(1e7)\n",
    "graph = [[] for _ in range(n + 1)]\n",
    "for _ in range(n):\n",
    "    data = list(map(int, input().split()))\n",
    "    i = 1\n",
    "    node = data[0]\n",
    "    while True:\n",
    "        if data[i] == -1:\n",
    "            break\n",
    "        else:\n",
    "            graph[node].append((data[i], data[i+1]))\n",
    "            i += 2\n",
    "\n",
    "distance = [INF] * (n + 1)\n",
    "dist1 = dijkstra(graph, 1, distance)\n",
    "start = dist1.index(max(dist1))\n",
    "distance = [INF] * (n + 1)\n",
    "dist2 = dijkstra(graph, start, distance)\n",
    "print(max(dist2))"
   ]
  },
  {
   "cell_type": "markdown",
   "id": "e33a7bb6",
   "metadata": {},
   "source": [
    "#### 1058. 친구"
   ]
  },
  {
   "cell_type": "code",
   "execution_count": null,
   "id": "e8fd54f2",
   "metadata": {},
   "outputs": [],
   "source": [
    "n = int(input())\n",
    "graph = [[0] * n for _ in range(n)]\n",
    "\n",
    "for i in range(n):\n",
    "    for j, val in enumerate(input()):\n",
    "        if val == 'Y':\n",
    "            graph[i][j] = 1\n",
    "        else:\n",
    "            graph[i][j] = 0\n",
    "\n",
    "for k in range(n):\n",
    "    for i in range(n):\n",
    "        for j in range(n):\n",
    "            if graph[i][k] & graph[k][j]:\n",
    "                graph[i][j] = 1\n",
    "            else:\n",
    "                graph[i][j] = 0\n",
    "result = []\n",
    "for row in graph:\n",
    "    result.append(sum(row))\n",
    "\n",
    "print(max(result))"
   ]
  },
  {
   "cell_type": "markdown",
   "id": "868615f7",
   "metadata": {},
   "source": [
    "#### 5567. 결혼식"
   ]
  },
  {
   "cell_type": "code",
   "execution_count": 3,
   "id": "1c0a4d84",
   "metadata": {},
   "outputs": [
    {
     "name": "stdout",
     "output_type": "stream",
     "text": [
      "6\n",
      "5\n",
      "2 3\n",
      "3 4\n",
      "4 5\n",
      "5 6\n",
      "2 5\n",
      "0\n"
     ]
    }
   ],
   "source": [
    "from collections import deque\n",
    "\n",
    "def bfs(graph, start, visited):\n",
    "    queue = deque([(start, 0)])\n",
    "    visited[start] = True\n",
    "    \n",
    "    result = set()\n",
    "    while queue:\n",
    "        node, cnt = queue.popleft()\n",
    "        if cnt <= 2:\n",
    "            result.add(node)\n",
    "            \n",
    "            for i in graph[node]:\n",
    "                if not visited[i]:\n",
    "                    queue.append((i, cnt + 1))\n",
    "                    visited[i] = True\n",
    "                    \n",
    "    return len(result) - 1\n",
    "    \n",
    "n = int(input())\n",
    "m = int(input())\n",
    "\n",
    "graph = [[] for i in range(n + 1)]\n",
    "for _ in range(m):\n",
    "    u, v = map(int, input().split())\n",
    "    graph[u].append(v)\n",
    "    graph[v].append(u)\n",
    "    \n",
    "visited = [False] * (n + 1)\n",
    "result = bfs(graph, 1, visited)\n",
    "print(result)"
   ]
  },
  {
   "cell_type": "markdown",
   "id": "00963cd3",
   "metadata": {},
   "source": [
    "#### 13565. 침투"
   ]
  },
  {
   "cell_type": "code",
   "execution_count": null,
   "id": "ee96aa48",
   "metadata": {},
   "outputs": [],
   "source": [
    "from collections import deque\n",
    "\n",
    "def bfs(graph, start, visited):\n",
    "    r, c = start\n",
    "    queue = deque([start])\n",
    "    visited[r][c] = True\n",
    "    \n",
    "    while queue:\n",
    "        r, c = queue.popleft()\n",
    "        if r == m - 1\n",
    "            flag = True\n",
    "            break\n",
    "            \n",
    "        for move in moves:\n",
    "            nr = r + move[0]\n",
    "            nc = c + move[1]\n",
    "            if (0 <= nr < m) and (0 <= nc < n) and not visited[nr][nc]:\n",
    "                visited[nr][nc] = True\n",
    "    else:\n",
    "        flag = False\n",
    "    \n",
    "    return flag\n",
    "\n",
    "m, n = map(int, input().split())\n",
    "graph = [list(map(int, list(input()))) for _ in range(m)]\n",
    "\n",
    "moves = [(1, 0), (0, 1), (-1, 0), (0, -1)]\n",
    "result = 0\n",
    "for i, val in enumerate(graph[0]):\n",
    "    if val == 0:\n",
    "        visited = [[False] * n for _ in range(m)]\n",
    "        result += bfs(graph, [0, i], visited)\n",
    "\n",
    "if result > 0:\n",
    "    print('YES')"
   ]
  },
  {
   "cell_type": "markdown",
   "id": "b7c2c20c",
   "metadata": {},
   "source": [
    "#### 16502. 그녀를 찾아서"
   ]
  },
  {
   "cell_type": "code",
   "execution_count": 2,
   "id": "dce78435",
   "metadata": {
    "scrolled": false
   },
   "outputs": [
    {
     "name": "stdout",
     "output_type": "stream",
     "text": [
      "2\n",
      "6\n",
      "A B 1.0\n",
      "B C 0.3\n",
      "B D 0.7\n",
      "C A 0.6\n",
      "C D 0.4\n",
      "D D 1.0\n",
      "0.027\n",
      "0.027\n",
      "0.0081\n",
      "0.39514\n"
     ]
    }
   ],
   "source": [
    "t = int(input())\n",
    "n = int(input())\n",
    "\n",
    "nodes = ['A', 'B', 'C', 'D']\n",
    "graph = {node: [] for node in nodes}\n",
    "prob = {node: 0.25 for node in nodes}\n",
    "for _ in range(n):\n",
    "    u, v, p = input().split()\n",
    "    graph[v].append((u, float(p)))\n",
    "    \n",
    "for _ in range(t):\n",
    "    prob_update = {node: 0 for node in nodes}\n",
    "    for node in nodes:\n",
    "        prob_new = 0\n",
    "        for i, p in graph[node]:\n",
    "            prob_new += prob[i] * p\n",
    "        prob_update[node] = prob_new\n",
    "    prob\n",
    "\n",
    "for p in prob.values():\n",
    "    print(100 * p)"
   ]
  },
  {
   "cell_type": "markdown",
   "id": "24b82dbe",
   "metadata": {},
   "source": [
    "#### 11581. 구호물자"
   ]
  },
  {
   "cell_type": "code",
   "execution_count": 6,
   "id": "9a371f06",
   "metadata": {
    "collapsed": true
   },
   "outputs": [
    {
     "name": "stdout",
     "output_type": "stream",
     "text": [
      "3\n",
      "2\n",
      "2 3\n",
      "2\n",
      "1 3\n",
      "CYCLE\n"
     ]
    }
   ],
   "source": [
    "from collections import deque\n",
    "\n",
    "def bfs(graph, start, visited):\n",
    "    queue = deque([start])\n",
    "    visited[start] = True\n",
    "    \n",
    "    while queue:\n",
    "        node = queue.popleft()\n",
    "        for i in graph[node]:\n",
    "            if visited[i]:\n",
    "                return False\n",
    "            else:\n",
    "                queue.append(i)\n",
    "                if i != n:\n",
    "                    visited[i] = True\n",
    "    else:\n",
    "        return True\n",
    "    \n",
    "n = int(input())\n",
    "graph = [[] for _ in range(n + 1)]\n",
    "for i in range(1, n):\n",
    "    l = int(input())\n",
    "    conn = list(map(int, input().split()))\n",
    "    graph[i].extend(conn)\n",
    "\n",
    "visited = [False for _ in range(n + 1)]\n",
    "result = bfs(graph, 1, visited)\n",
    "if result:\n",
    "    print(\"NO CYCLE\")\n",
    "else:\n",
    "    print(\"CYCLE\")"
   ]
  },
  {
   "cell_type": "markdown",
   "id": "fb559098",
   "metadata": {},
   "source": [
    "#### 11123. 양 한마리... 양 두마리..."
   ]
  },
  {
   "cell_type": "code",
   "execution_count": 2,
   "id": "1993a292",
   "metadata": {
    "collapsed": true
   },
   "outputs": [
    {
     "name": "stdout",
     "output_type": "stream",
     "text": [
      "2\n",
      "4 4\n",
      "#.#.\n",
      ".#.#\n",
      "#.##\n",
      ".#.#\n",
      "6\n",
      "3 5\n",
      "###.#\n",
      "..#..\n",
      "#.###\n",
      "3\n"
     ]
    }
   ],
   "source": [
    "from collections import deque\n",
    "\n",
    "def bfs(start, moves, visited):\n",
    "    r, c = start\n",
    "    queue = deque([start])\n",
    "    visited[r][c] = True\n",
    "    \n",
    "    while queue:\n",
    "        r, c = queue.popleft()\n",
    "        for move in moves:\n",
    "            nr = r + move[0]\n",
    "            nc = c + move[1]\n",
    "            \n",
    "            if (0 <= nr < h) and (0 <= nc < w) and not visited[nr][nc]:\n",
    "                queue.append([nr, nc])\n",
    "                visited[nr][nc] = True\n",
    "    \n",
    "    return visited\n",
    "\n",
    "hash_map = {'#': 0, '.': 1}\n",
    "moves = [(1, 0), (0, 1), (-1, 0), (0, -1)]\n",
    "t = int(input())\n",
    "for _ in range(t):\n",
    "    h, w = map(int, input().split())\n",
    "    visited = []\n",
    "    for _ in range(h):\n",
    "        row = list(input())\n",
    "        conv_row = [hash_map[v] for v in row]\n",
    "        visited.append(conv_row)\n",
    "\n",
    "    cnt = 0\n",
    "    for i in range(h):\n",
    "        for j in range(w):\n",
    "            if not visited[i][j]:\n",
    "                cnt += 1\n",
    "                visited = bfs([i, j], moves, visited)\n",
    "\n",
    "    print(cnt)"
   ]
  },
  {
   "cell_type": "markdown",
   "id": "24470fd7",
   "metadata": {},
   "source": [
    "#### 10451. 순열 사이클"
   ]
  },
  {
   "cell_type": "code",
   "execution_count": 1,
   "id": "4e249edf",
   "metadata": {
    "scrolled": true
   },
   "outputs": [
    {
     "name": "stdout",
     "output_type": "stream",
     "text": [
      "2\n",
      "8\n",
      "3 2 7 8 1 4 5 6\n",
      "3\n",
      "10\n",
      "2 1 3 4 5 6 7 9 10 8\n",
      "7\n"
     ]
    }
   ],
   "source": [
    "from collections import deque\n",
    "\n",
    "def bfs(graph, start, visited):\n",
    "    queue = deque([start])\n",
    "    visited[start] = True\n",
    "    \n",
    "    while queue:\n",
    "        node = queue.popleft()\n",
    "        for i in graph[node]:\n",
    "            if not visited[i]:\n",
    "                queue.append(i)\n",
    "                visited[i] = True\n",
    "    \n",
    "    return visited\n",
    "\n",
    "t = int(input())\n",
    "for _ in range(t):\n",
    "    n = int(input())\n",
    "    data = list(map(int, input().split()))\n",
    "    \n",
    "    graph = [[] for _ in range(n + 1)]\n",
    "    for u, v in enumerate(data):\n",
    "        graph[u + 1].append(v)\n",
    "    \n",
    "    visited = [False] * (n + 1)\n",
    "    \n",
    "    cycle = 0\n",
    "    for i in range(n):\n",
    "        if not visited[i + 1]:\n",
    "            cycle += 1\n",
    "            visited = bfs(graph, i + 1, visited)\n",
    "    \n",
    "    print(cycle)"
   ]
  },
  {
   "cell_type": "markdown",
   "id": "033aba06",
   "metadata": {},
   "source": [
    "#### 3182. 한동이는 공부가 하기 싫어!"
   ]
  },
  {
   "cell_type": "code",
   "execution_count": 16,
   "id": "da4a250a",
   "metadata": {
    "collapsed": true
   },
   "outputs": [
    {
     "name": "stdout",
     "output_type": "stream",
     "text": [
      "6\n",
      "2\n",
      "3\n",
      "4\n",
      "3\n",
      "1\n",
      "1\n",
      "5\n"
     ]
    }
   ],
   "source": [
    "from collections import deque\n",
    "\n",
    "def bfs(graph, start, visited):\n",
    "    queue = deque([[start, 1]])\n",
    "    visited[start] = True\n",
    "    \n",
    "    while queue:\n",
    "        node, cnt = queue.popleft()\n",
    "        \n",
    "        for i in graph[node]:\n",
    "            if not visited[i]:\n",
    "                queue.append([i, cnt + 1])\n",
    "                visited[node] = True\n",
    "    \n",
    "    return cnt\n",
    "    \n",
    "    \n",
    "    \n",
    "n = int(input())\n",
    "graph = [[] for _ in range(n + 1)]\n",
    "for i in range(n):\n",
    "    graph[i + 1].append(int(input()))\n",
    "\n",
    "results = []\n",
    "for i in range(1, n + 1):\n",
    "    visited = [False] * (n + 1)\n",
    "    cnt = bfs(graph, i, visited)\n",
    "    results.append([i, cnt])\n",
    "\n",
    "result = sorted(results, key=lambda x: (-x[1], x[0]))[0]\n",
    "print(result[0])"
   ]
  },
  {
   "cell_type": "markdown",
   "id": "f3b11bde",
   "metadata": {},
   "source": [
    "#### 2823. 유턴 싫어"
   ]
  },
  {
   "cell_type": "code",
   "execution_count": null,
   "id": "b5422978",
   "metadata": {},
   "outputs": [],
   "source": [
    "from collections import deque\n",
    "\n",
    "def bfs(graph, start, visited):\n",
    "    queue = deque([start])\n",
    "    r, c = start\n",
    "    visited[r][c] = True\n",
    "    \n",
    "    flag = False\n",
    "    while queue:\n",
    "        r, c = queue.popleft()\n",
    "        \n",
    "        if (r, c) == start:\n",
    "            flag = True\n",
    "            break\n",
    "        \n",
    "        for move in moves:\n",
    "            nr = r + move[0]\n",
    "            nc = c + move[1]\n",
    "        \n",
    "            if graph[nr][nc] == \".\":\n",
    "                if not visited[nr][nc]:\n",
    "                    queue.append((nr, nc))\n",
    "                    visited[nr][nc] = True\n",
    "                \n",
    "        \n",
    "\n",
    "r, c = map(int, input())\n",
    "graph = [list(input()) for _ in range(r)]\n",
    "visited = [[False] * c for _ in range(r)]\n",
    "\n",
    "moves = [(0, 1), (1, 0), (0, -1), (-1, 0)]"
   ]
  },
  {
   "cell_type": "markdown",
   "id": "5332ebf2",
   "metadata": {},
   "source": [
    "#### 6186. Best Grass"
   ]
  },
  {
   "cell_type": "code",
   "execution_count": 3,
   "id": "13e9b771",
   "metadata": {
    "collapsed": true
   },
   "outputs": [
    {
     "name": "stdout",
     "output_type": "stream",
     "text": [
      "5 6\n",
      ".#....\n",
      "..#...\n",
      "..#..#\n",
      "...##.\n",
      ".#....\n",
      "0 1\n",
      "1 2\n",
      "2 2\n",
      "2 5\n",
      "3 3\n",
      "3 4\n",
      "4 1\n",
      "7\n"
     ]
    }
   ],
   "source": [
    "from collections import deque\n",
    "\n",
    "def bfs(arr, start, visited):\n",
    "    r, c = start\n",
    "    queue = deque([(r, c)])\n",
    "    visited[r][c] = True\n",
    "\n",
    "    moves = [(0, 1), (1, 0), (-1, 0), (0, -1)]\n",
    "    \n",
    "    while queue:\n",
    "        r, c = queue.popleft()\n",
    "        \n",
    "        for move in moves:\n",
    "            nr = r + move[0]\n",
    "            nc = c + move[1]\n",
    "            \n",
    "            if 0 <= nr < r and 0 <= nc < c:\n",
    "                if arr[nr][nc] == \"#\" and not visited[nr][nc]:\n",
    "                    queue.append((nr, nc))\n",
    "                    visited[nr][nc] = True\n",
    "\n",
    "    return visited\n",
    "\n",
    "r, c = map(int, input().split())\n",
    "arr = [list(input()) for _ in range(r)]\n",
    "\n",
    "cnt = 0\n",
    "visited = [[False] * c for _ in range(r)]\n",
    "for i in range(r):\n",
    "    for j in range(c):\n",
    "        if arr[i][j] == '#' and not visited[i][j]:\n",
    "            cnt += 1\n",
    "            visited = bfs(arr, (i, j), visited)\n",
    "\n",
    "print(cnt)"
   ]
  },
  {
   "cell_type": "markdown",
   "id": "b4a62127",
   "metadata": {},
   "source": [
    "#### 3098. 소셜네트워크"
   ]
  },
  {
   "cell_type": "code",
   "execution_count": 3,
   "id": "7f616b82",
   "metadata": {
    "collapsed": true
   },
   "outputs": [
    {
     "name": "stdout",
     "output_type": "stream",
     "text": [
      "3 2\n",
      "1 2\n",
      "2 3\n"
     ]
    },
    {
     "ename": "KeyboardInterrupt",
     "evalue": "",
     "output_type": "error",
     "traceback": [
      "\u001b[0;31m---------------------------------------------------------------------------\u001b[0m",
      "\u001b[0;31mKeyboardInterrupt\u001b[0m                         Traceback (most recent call last)",
      "Cell \u001b[0;32mIn [3], line 41\u001b[0m\n\u001b[1;32m     38\u001b[0m     time \u001b[38;5;241m+\u001b[39m\u001b[38;5;241m=\u001b[39m \u001b[38;5;241m1\u001b[39m\n\u001b[1;32m     39\u001b[0m     relations\u001b[38;5;241m.\u001b[39mappend(update_relation)\n\u001b[0;32m---> 41\u001b[0m     \u001b[38;5;28;01mif\u001b[39;00m \u001b[43mcheck_relation\u001b[49m\u001b[43m(\u001b[49m\u001b[43mn\u001b[49m\u001b[43m,\u001b[49m\u001b[43m \u001b[49m\u001b[43mgraph\u001b[49m\u001b[43m)\u001b[49m:\n\u001b[1;32m     42\u001b[0m         \u001b[38;5;28;01mbreak\u001b[39;00m\n\u001b[1;32m     44\u001b[0m \u001b[38;5;28mprint\u001b[39m(time)\n",
      "\u001b[0;31mKeyboardInterrupt\u001b[0m: "
     ]
    }
   ],
   "source": [
    "def bfs(n, graph, start):\n",
    "    new_friends = []\n",
    "    \n",
    "    friends = graph[start]\n",
    "    visited = [False for _ in range(n)]\n",
    "    for i in friends:\n",
    "        for j in graph[i]:\n",
    "            if j not in friends and not visited[j]:\n",
    "                visited[j] = True\n",
    "                new_friends.append(j)\n",
    "    \n",
    "    graph[start] = graph[start] + new_friends\n",
    "    \n",
    "    return graph, len(new_friends)\n",
    "        \n",
    "    \n",
    "def check_relation(n, graph):\n",
    "    count = sum(len(row) for row in graph)\n",
    "    \n",
    "    return count == n * (n - 1)\n",
    "    \n",
    "n, m = map(int, input().split())\n",
    "graph = [[] for _ in range(n)]\n",
    "\n",
    "for _ in range(m):\n",
    "    u, v = map(int, input().split())\n",
    "    graph[u - 1].append(v - 1)\n",
    "    graph[v - 1].append(u - 1)\n",
    "    \n",
    "time = 0\n",
    "relations = []\n",
    "while True:\n",
    "    update_relation = 0\n",
    "    for i in range(n):\n",
    "        graph, new_friends = bfs(n, graph, i)\n",
    "        update_relation += new_friends\n",
    "    \n",
    "    time += 1\n",
    "    relations.append(update_relation)\n",
    "    \n",
    "    if check_relation(n, graph):\n",
    "        break\n",
    "    \n",
    "print(time)\n",
    "print(*relations, sep=\"\\n\")"
   ]
  },
  {
   "cell_type": "markdown",
   "id": "e3abfa30",
   "metadata": {},
   "source": [
    "#### 15886. 내 선물을 받아줘 2 "
   ]
  },
  {
   "cell_type": "code",
   "execution_count": 10,
   "id": "baa58707",
   "metadata": {},
   "outputs": [
    {
     "name": "stdout",
     "output_type": "stream",
     "text": [
      "7\n",
      "EEEEEWW\n",
      "1\n"
     ]
    }
   ],
   "source": [
    "n = int(input())\n",
    "seq = input()\n",
    "\n",
    "cnt = 0\n",
    "for i in range(n - 1):\n",
    "    if seq[i] == 'E' and seq[i + 1] == 'W':\n",
    "        cnt += 1\n",
    "        \n",
    "print(cnt)"
   ]
  },
  {
   "cell_type": "markdown",
   "id": "49987007",
   "metadata": {},
   "source": [
    "#### 1987. 알파벳"
   ]
  },
  {
   "cell_type": "code",
   "execution_count": null,
   "id": "ab5a7d82",
   "metadata": {},
   "outputs": [],
   "source": [
    "def bfs(x, y, result):\n",
    "    queue = set([[x, y, [arr[x][y]]]])\n",
    "    while queue:\n",
    "        x, y, history = queue.pop()\n",
    "        for move in moves:\n",
    "            nx = x + move[0]\n",
    "            ny = y + move[1]\n",
    "            if (0 <= nx < r) and (0 <= ny < c):\n",
    "                new_alpha = arr[nx][ny]\n",
    "                if new_alpha not in history:\n",
    "                    queue.add([nx, ny, history + [new_alpha]])\n",
    "                    result = max(result, len(history) + 1)\n",
    "\n",
    "    return result\n",
    "\n",
    "\n",
    "r, c = map(int, input().split())\n",
    "arr = [list(input()) for _ in range(r)]\n",
    "\n",
    "moves = [(1, 0), (0, 1), (-1, 0), (0, -1)]\n",
    "result = bfs(0, 0, 0)\n",
    "print(result)"
   ]
  },
  {
   "cell_type": "markdown",
   "id": "fa4671ed",
   "metadata": {},
   "source": [
    "#### 2589. 보물섬"
   ]
  },
  {
   "cell_type": "code",
   "execution_count": 1,
   "id": "daa51a97",
   "metadata": {
    "collapsed": true
   },
   "outputs": [
    {
     "ename": "IndentationError",
     "evalue": "expected an indented block (3317617613.py, line 33)",
     "output_type": "error",
     "traceback": [
      "\u001b[0;36m  Cell \u001b[0;32mIn [1], line 33\u001b[0;36m\u001b[0m\n\u001b[0;31m    return route, visited\u001b[0m\n\u001b[0m    ^\u001b[0m\n\u001b[0;31mIndentationError\u001b[0m\u001b[0;31m:\u001b[0m expected an indented block\n"
     ]
    }
   ],
   "source": [
    "from collections import deque\n",
    "\n",
    "def solution(graph, visited):\n",
    "    moves = [(1, 0), (0, 1), (-1, 0), (0, -1)]\n",
    "    \n",
    "    max_route = 1\n",
    "    for i in range(h):\n",
    "        for j in range(w):\n",
    "            if not visited[i][j] and graph[i][j] == \"L\":\n",
    "                route, visited = bfs(graph, (i, j), visited, moves)\n",
    "                if route > max_route:\n",
    "                    max_route = route\n",
    "                    \n",
    "    return max_route\n",
    "    \n",
    "\n",
    "def bfs(graph, start, visited, moves):\n",
    "    r, c = start\n",
    "    queue = deque([(r, c, 1)])\n",
    "    visited[r][c] = True\n",
    "    \n",
    "    max_route = 1\n",
    "    while queue:\n",
    "        r, c, route = queue.popleft()\n",
    "        if route > max_route:\n",
    "            max_route = route\n",
    "        \n",
    "        for move in moves:\n",
    "            nr = r + move[0]\n",
    "            nc = c + move[1]\n",
    "            \n",
    "            if (0 <= nr < h) and (0 <= nc < w):\n",
    "                if not visited[nr][nc] and graph[nr][nc] == \"L\":\n",
    "                    queue.append((nr, nc, route + 1))\n",
    "                    visited[nr][nc] = True\n",
    "\n",
    "    return max_route, visited\n",
    "    \n",
    "    \n",
    "h, w = map(int, input().split())\n",
    "graph = [list(input().split()) for _ in range(r)]\n",
    "visited = [[False] * w for _ in range(h)]\n",
    "\n",
    "ans = solution(graph, visited)\n",
    "print(ans)"
   ]
  },
  {
   "cell_type": "markdown",
   "id": "a1c37dea",
   "metadata": {},
   "source": [
    "#### 26169. 세 번 이내에 사과를 먹자"
   ]
  },
  {
   "cell_type": "code",
   "execution_count": null,
   "id": "9c01ef20",
   "metadata": {},
   "outputs": [],
   "source": [
    "from collections import deque\n",
    "\n",
    "def bfs(graph, start, visited):\n",
    "    r, c = start\n",
    "    queue = deque((r, c, 0, 0))\n",
    "    visited[r][c] = True\n",
    "    directions = [(1, 0), (0, 1), (-1, 0), (0, -1)]\n",
    "    \n",
    "    while queue:\n",
    "        r, c, move, score = queue.popleft()\n",
    "        if move == 3:\n",
    "            continue\n",
    "        \n",
    "        if score == 2:\n",
    "            return True\n",
    "        \n",
    "        for direction in directions:\n",
    "            nr = r + direction[0]\n",
    "            nc = c + direction[1]\n",
    "            \n",
    "            if (0 <= nr < 5) and (0 <= nc < 5):\n",
    "                if not visited[nr][nc] and graph[nr][nc] != -1:\n",
    "                    visited[nr][nc] = True\n",
    "                    queue.append((nr, nc, move + 1, score + graph[nr][nc]))\n",
    "            \n",
    "    else:\n",
    "        return False\n",
    "    \n",
    "\n",
    "graph = [list(map(int, input().split())) for _ in range(5)]\n",
    "m, n = map(int, input().split())\n",
    "visited = [[False] * 5 for _ in range(5)]\n",
    "ans = bfs(graph, (m, n), visited)\n",
    "print(ans)"
   ]
  },
  {
   "cell_type": "markdown",
   "id": "3f32caad",
   "metadata": {},
   "source": [
    "#### 2573. 빙산"
   ]
  },
  {
   "cell_type": "code",
   "execution_count": null,
   "id": "dd0c42bf",
   "metadata": {},
   "outputs": [],
   "source": [
    "import sys\n",
    "from collections import deque\n",
    "\n",
    "input = lambda: sys.stdin.readline().rstrip()\n",
    "\n",
    "def calc_total_level(graph):\n",
    "    total = 0\n",
    "    for row in graph:\n",
    "        total += sum(row)\n",
    "\n",
    "    return total\n",
    "\n",
    "\n",
    "def splitable(graph):\n",
    "    count = 0\n",
    "    visited = [[False] * m for _ in range(n)]\n",
    "\n",
    "    for i in range(n):\n",
    "        for j in range(m):\n",
    "            if graph[i][j] != 0 and not visited[i][j]:\n",
    "                count += 1\n",
    "                if count > 1:\n",
    "                    return True\n",
    "                visited = connect(graph, (i, j), visited)\n",
    "\n",
    "    return False\n",
    "\n",
    "\n",
    "def connect(graph, start, visited):\n",
    "    r, c = start\n",
    "    queue = deque([(r, c)])\n",
    "    visited[r][c] = True\n",
    "\n",
    "    while queue:\n",
    "        r, c = queue.popleft()\n",
    "        for move in moves:\n",
    "            nr = r + move[0]\n",
    "            nc = c + move[1]\n",
    "            if (0 <= nr < n) and (0 <= nc < m):\n",
    "                if not visited[nr][nc] and graph[nr][nc] != 0:\n",
    "                    queue.append((nr, nc))\n",
    "                    visited[nr][nc] = True\n",
    "\n",
    "    return visited\n",
    "\n",
    "\n",
    "def melt(graph):\n",
    "    melt_point = {}\n",
    "    for i in range(n):\n",
    "        for j in range(m):\n",
    "            if graph[i][j] != 0:\n",
    "                melt_level = calc_melt_level(graph, (i, j))\n",
    "                melt_point[(i, j)] = melt_level\n",
    "\n",
    "    for (r, c), level in melt_point.items():\n",
    "        graph[r][c] = max(0, graph[r][c] - level)\n",
    "\n",
    "    return graph\n",
    "\n",
    "\n",
    "def calc_melt_level(graph, location):\n",
    "    r, c = location\n",
    "    level = 0\n",
    "    for move in moves:\n",
    "        nr = r + move[0]\n",
    "        nc = c + move[1]\n",
    "        if (0 <= nr < n) and (0 <= nc < m):\n",
    "            if graph[nr][nc] == 0:\n",
    "                level += 1\n",
    "\n",
    "    return level\n",
    "\n",
    "\n",
    "n, m = map(int, input().split())\n",
    "graph = [list(map(int, input().split())) for _ in range(n)]\n",
    "moves = [(1, 0), (0, 1), (-1, 0), (0, -1)]\n",
    "\n",
    "period = 0\n",
    "while calc_total_level(graph) > 0:\n",
    "    if splitable(graph):\n",
    "        break\n",
    "\n",
    "    period += 1\n",
    "    graph = melt(graph)\n",
    "    \n",
    "else:\n",
    "    period = 0\n",
    "\n",
    "print(period)"
   ]
  }
 ],
 "metadata": {
  "kernelspec": {
   "display_name": "Python 3 (ipykernel)",
   "language": "python",
   "name": "python3"
  },
  "language_info": {
   "codemirror_mode": {
    "name": "ipython",
    "version": 3
   },
   "file_extension": ".py",
   "mimetype": "text/x-python",
   "name": "python",
   "nbconvert_exporter": "python",
   "pygments_lexer": "ipython3",
   "version": "3.8.16"
  }
 },
 "nbformat": 4,
 "nbformat_minor": 5
}
