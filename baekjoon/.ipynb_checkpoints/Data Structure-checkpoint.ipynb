{
 "cells": [
  {
   "cell_type": "markdown",
   "id": "b1d48cf0",
   "metadata": {},
   "source": [
    "#### 10799. 쇠막대기"
   ]
  },
  {
   "cell_type": "code",
   "execution_count": 18,
   "id": "ce9c7c54",
   "metadata": {},
   "outputs": [
    {
     "name": "stdout",
     "output_type": "stream",
     "text": [
      "()(((()())(())()))(())\n",
      "0\n",
      "3\n",
      "3\n",
      "4\n",
      "4\n",
      "5\n",
      "19\n"
     ]
    }
   ],
   "source": [
    "stick = input()\n"
   ]
  },
  {
   "cell_type": "code",
   "execution_count": null,
   "id": "db81cd32",
   "metadata": {},
   "outputs": [],
   "source": [
    "()(((()())(())()))(())"
   ]
  }
 ],
 "metadata": {
  "kernelspec": {
   "display_name": "Python 3 (ipykernel)",
   "language": "python",
   "name": "python3"
  },
  "language_info": {
   "codemirror_mode": {
    "name": "ipython",
    "version": 3
   },
   "file_extension": ".py",
   "mimetype": "text/x-python",
   "name": "python",
   "nbconvert_exporter": "python",
   "pygments_lexer": "ipython3",
   "version": "3.8.10"
  }
 },
 "nbformat": 4,
 "nbformat_minor": 5
}
