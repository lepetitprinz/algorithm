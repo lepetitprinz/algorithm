{
 "cells": [
  {
   "cell_type": "code",
   "execution_count": null,
   "id": "bb04b49d",
   "metadata": {},
   "outputs": [],
   "source": [
    "from collections import Counter\n",
    "\n",
    "x1, y1 = map(int, input().split())\n",
    "x2, y2 = map(int, input().split())\n",
    "x3, y3 = map(int, input().split())\n",
    "x = dict(Counter([x1, x2, x3]))\n",
    "y = dict(Counter([y1, y2, y3]))\n",
    "\n",
    "for k, v in x.items():\n",
    "    if v == 1:\n",
    "        r_x = k\n",
    "for k, v in y.items():\n",
    "    if v == 1:\n",
    "        r_y = k\n",
    "\n",
    "print(r_x, r_y)"
   ]
  },
  {
   "cell_type": "code",
   "execution_count": null,
   "id": "cfb8e5a3",
   "metadata": {},
   "outputs": [],
   "source": [
    "dict(x)"
   ]
  },
  {
   "cell_type": "markdown",
   "id": "1bf11ad0",
   "metadata": {},
   "source": [
    "### 1004. 어린 왕자"
   ]
  },
  {
   "cell_type": "code",
   "execution_count": null,
   "id": "2f01b1b4",
   "metadata": {},
   "outputs": [],
   "source": [
    "from math import sqrt"
   ]
  },
  {
   "cell_type": "code",
   "execution_count": null,
   "id": "d83aa8b0",
   "metadata": {
    "scrolled": true
   },
   "outputs": [],
   "source": [
    "def distance(p1, p2):\n",
    "    return sqrt((p1[0] - p2[0])**2 + (p1[1] - p2[1])** 2)\n",
    "\n",
    "test = int(input())\n",
    "for _ in range(test):\n",
    "    result = 0\n",
    "    x1, y1, x2, y2 = map(int, input().split())\n",
    "    n_circle = int(input())\n",
    "    for _ in range(n_circle):\n",
    "        cx, cy, r = map(int, input().split())\n",
    "        d1 = distance(p1=(x1,y1), p2=(cx, cy))\n",
    "        d2 = distance(p1=(x2,y2), p2=(cx, cy))\n",
    "        \n",
    "        if (d1 < r) and (d2 < r):\n",
    "            continue\n",
    "        elif (d1 < r) or (d2 < r):\n",
    "            result += 1\n",
    "    print(result)"
   ]
  },
  {
   "cell_type": "markdown",
   "id": "97e8cd43",
   "metadata": {},
   "source": [
    "### 2477. 참외밭"
   ]
  },
  {
   "cell_type": "code",
   "execution_count": 2,
   "id": "a6732b1c",
   "metadata": {},
   "outputs": [
    {
     "name": "stdout",
     "output_type": "stream",
     "text": [
      "7\n",
      "4 50\n",
      "2 160\n",
      "3 30\n",
      "1 60\n",
      "3 20\n",
      "1 100\n",
      "47600\n"
     ]
    }
   ],
   "source": [
    "from collections import Counter\n",
    "key = {(1, 4): 3, (2, 3): 4, (1, 3): 2,(2, 4): 1}\n",
    "\n",
    "multiple = int(input())\n",
    "direction = []\n",
    "length = []\n",
    "d_l_map = {}\n",
    "for _ in range(6):\n",
    "    d, l = map(int, input().split())\n",
    "    direction.append(d)\n",
    "    length.append(l)\n",
    "    d_l_map[d] = l\n",
    "\n",
    "cnt = Counter(direction)\n",
    "angle = sorted([k for k, v in cnt.most_common(2)])\n",
    "\n",
    "start = key[tuple(angle)]\n",
    "start_idx = direction.index(start)\n",
    "if start_idx + 2 < 6:\n",
    "    angle_idx1 = start_idx + 2\n",
    "else:\n",
    "    angle_idx1 = start_idx - 4\n",
    "\n",
    "if angle_idx1 + 1 < 6:\n",
    "    angle_idx2 = angle_idx1 + 1\n",
    "else:\n",
    "    angle_idx2 = angle_idx1 - 5\n",
    "    \n",
    "entire_length = [d_l_map[val] for val in direction if val not in angle]\n",
    "entire_size = entire_length[0] * entire_length[1]\n",
    "angle_size = length[angle_idx1] * length[angle_idx2]\n",
    "\n",
    "print(multiple * (entire_size - angle_size))"
   ]
  },
  {
   "cell_type": "code",
   "execution_count": null,
   "id": "adf90939",
   "metadata": {},
   "outputs": [],
   "source": [
    "4 50\n",
    "2 160\n",
    "3 30\n",
    "1 60\n",
    "3 20\n",
    "1 100"
   ]
  },
  {
   "cell_type": "markdown",
   "id": "dc4c27d0",
   "metadata": {},
   "source": [
    "#### 5073 삼각형과 세 변"
   ]
  },
  {
   "cell_type": "code",
   "execution_count": 2,
   "id": "fa3b579d",
   "metadata": {},
   "outputs": [
    {
     "name": "stdout",
     "output_type": "stream",
     "text": [
      "7 7 7\n",
      "Equilateral\n",
      "6 5 4\n",
      "Scalene\n",
      "3 2 5\n",
      "Invalid\n",
      "6 2 6\n",
      "Isosceles\n",
      "0 0 0\n"
     ]
    }
   ],
   "source": [
    "while True:\n",
    "    length = sorted(list(map(int, input().split())))\n",
    "    if length == [0,0,0]:\n",
    "        break\n",
    "    s = set(length)\n",
    "    l = len(s)\n",
    "    if length[2] >= length[0] + length[1]:\n",
    "        print('Invalid')\n",
    "    elif l == 1:\n",
    "        print('Equilateral')\n",
    "    elif l == 2:\n",
    "        print('Isosceles')\n",
    "    else:\n",
    "        print('Scalene')"
   ]
  }
 ],
 "metadata": {
  "kernelspec": {
   "display_name": "Python 3 (ipykernel)",
   "language": "python",
   "name": "python3"
  },
  "language_info": {
   "codemirror_mode": {
    "name": "ipython",
    "version": 3
   },
   "file_extension": ".py",
   "mimetype": "text/x-python",
   "name": "python",
   "nbconvert_exporter": "python",
   "pygments_lexer": "ipython3",
   "version": "3.8.10"
  }
 },
 "nbformat": 4,
 "nbformat_minor": 5
}
