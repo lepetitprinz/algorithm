{
 "cells": [
  {
   "cell_type": "markdown",
   "id": "7038318c",
   "metadata": {},
   "source": [
    "## Floyd–warshall"
   ]
  },
  {
   "cell_type": "markdown",
   "id": "a7a56312",
   "metadata": {},
   "source": [
    "#### 11403. 경로 찾기"
   ]
  },
  {
   "cell_type": "code",
   "execution_count": null,
   "id": "c6477443",
   "metadata": {},
   "outputs": [],
   "source": [
    "n = int(input())\n",
    "graph = [list(map(int, input().split())) for _ in range(n)]\n",
    "\n",
    "for k in range(n):\n",
    "    for i in range(n):\n",
    "        for j in range(n):\n",
    "            if graph[i][k] and graph[k][j]:\n",
    "                graph[i][j] = 1\n",
    "                \n",
    "for row in graph:\n",
    "    print(*row)"
   ]
  },
  {
   "cell_type": "markdown",
   "id": "44d85306",
   "metadata": {},
   "source": [
    "#### 1389. 케빈 베이컨의 6단계 법칙"
   ]
  },
  {
   "cell_type": "code",
   "execution_count": null,
   "id": "80631760",
   "metadata": {},
   "outputs": [],
   "source": [
    "n, m = map(int, input().split())\n",
    "\n",
    "graph = [[int(1e3)] * (n+1) for _ in range(n+1)]\n",
    "for i in range(n+1):\n",
    "    graph[i][i] = 0\n",
    "\n",
    "for _ in range(m):\n",
    "    f, t = map(int, input().split())\n",
    "    graph[f][t] = 1\n",
    "    graph[t][f] = 1\n",
    "    \n",
    "for k in range(n+1):\n",
    "    for i in range(n+1):\n",
    "        for j in range(n+1):\n",
    "            graph[i][j] = min(graph[i][j], graph[i][k] + graph[k][j])\n",
    "\n",
    "result = [sum(g) for g in graph]\n",
    "print(result.index(min(result)))"
   ]
  },
  {
   "cell_type": "markdown",
   "id": "82778b69",
   "metadata": {},
   "source": [
    "#### 11265. 끝나지 않는 파티"
   ]
  },
  {
   "cell_type": "code",
   "execution_count": null,
   "id": "89193ad4",
   "metadata": {},
   "outputs": [],
   "source": [
    "n, m = map(int, input().split())\n",
    "\n",
    "inf = int(1e11)\n",
    "graph = [[inf] * (n) for _ in range(n)]\n",
    "for i in range(n):\n",
    "    graph[i][i] = 0\n",
    "\n",
    "for i in range(n):\n",
    "    row = list(map(int, input().split()))\n",
    "    for j, val in enumerate(row):\n",
    "        graph[i][j] = val\n",
    "\n",
    "for k in range(n):\n",
    "    for i in range(n):\n",
    "        for j in range(n):\n",
    "            graph[i][j] = min(graph[i][j], graph[i][k] + graph[k][j])\n",
    "            \n",
    "for _ in range(m):\n",
    "    i, j, hour = map(int, sys.stdin.readline().split())\n",
    "    if graph[i-1][j-1] > hour:\n",
    "        print(\"Stay here\")\n",
    "    else:\n",
    "        print(\"Enjoy other party\")"
   ]
  },
  {
   "cell_type": "markdown",
   "id": "cd42e09c",
   "metadata": {},
   "source": [
    "#### 11404. 플로이드"
   ]
  },
  {
   "cell_type": "code",
   "execution_count": null,
   "id": "665f4b63",
   "metadata": {},
   "outputs": [],
   "source": [
    "n = int(input())\n",
    "m = int(input())\n",
    "\n",
    "inf = int(1e10)\n",
    "graph = [[inf] * n for _ in range(n)]\n",
    "\n",
    "for i in range(n):\n",
    "    graph[i][i] = 0\n",
    "    \n",
    "for _ in range(m):\n",
    "    u, v, c = map(int, input().split())\n",
    "    if graph[u - 1][v - 1] < c:\n",
    "        graph[u - 1][v - 1] = c\n",
    "\n",
    "for k in range(n):\n",
    "    for i in range(n):\n",
    "        for j in range(n):\n",
    "            graph[i][j] = min(graph[i][j], graph[i][k] + graph[k][j])\n",
    "\n",
    "for i in range(n):\n",
    "    for j in range(n):\n",
    "        graph[i][j] == inf:\n",
    "            graph[i][j] = 0\n",
    "            \n",
    "for row in graph:\n",
    "    print(*row)"
   ]
  },
  {
   "cell_type": "code",
   "execution_count": null,
   "id": "24cf9c05",
   "metadata": {},
   "outputs": [],
   "source": [
    "n = int(input())\n",
    "\n",
    "INF = int(1e6)\n",
    "graph = [[INF] * n for _ in range(n)]\n",
    "for i in range(n):\n",
    "    graph[i][i] = 0\n",
    "    \n",
    "for _ in range(m):\n",
    "\n",
    "\n",
    "graph = [[] for _ in range(n + 1)]\n",
    "for i in range(1, n):\n",
    "    l = int(input())\n",
    "    conn = list(map(int, input().split()))\n",
    "    graph[i].extend(conn)"
   ]
  }
 ],
 "metadata": {
  "kernelspec": {
   "display_name": "Python 3 (ipykernel)",
   "language": "python",
   "name": "python3"
  },
  "language_info": {
   "codemirror_mode": {
    "name": "ipython",
    "version": 3
   },
   "file_extension": ".py",
   "mimetype": "text/x-python",
   "name": "python",
   "nbconvert_exporter": "python",
   "pygments_lexer": "ipython3",
   "version": "3.8.10"
  }
 },
 "nbformat": 4,
 "nbformat_minor": 5
}
