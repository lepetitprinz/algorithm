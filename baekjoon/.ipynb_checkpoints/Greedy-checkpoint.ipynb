{
 "cells": [
  {
   "cell_type": "code",
   "execution_count": 4,
   "id": "246ab4e8",
   "metadata": {},
   "outputs": [],
   "source": [
    "import re"
   ]
  },
  {
   "cell_type": "code",
   "execution_count": 32,
   "id": "88cd3022",
   "metadata": {
    "scrolled": false
   },
   "outputs": [
    {
     "name": "stdout",
     "output_type": "stream",
     "text": [
      "1-2+3+4+5+6-10\n",
      "-29\n"
     ]
    }
   ],
   "source": [
    "problem = input()\n",
    "nums = [int(num) for num in (re.split('-|\\+', problem))]\n",
    "operator = [o for o in problem if o in ['+', '-']]\n",
    "\n",
    "sign = 1\n",
    "result = [nums[0]]\n",
    "for num, o in zip(nums[1:], operator):\n",
    "    if o == '-':\n",
    "        sign = -1\n",
    "        result.append(num * sign)\n",
    "    else:\n",
    "        result.append(num * sign)\n",
    "\n",
    "print(sum(result))"
   ]
  },
  {
   "cell_type": "code",
   "execution_count": 39,
   "id": "cec63293",
   "metadata": {},
   "outputs": [
    {
     "name": "stdout",
     "output_type": "stream",
     "text": [
      "2022\n",
      "7\n",
      "4\n"
     ]
    }
   ],
   "source": [
    "import datetime as dt\n",
    "\n",
    "now = dt.datetime.today()\n",
    "diff = now - dt.timedelta(hours=9)\n",
    "print(diff.year)\n",
    "print(diff.month)\n",
    "print(diff.day)"
   ]
  },
  {
   "cell_type": "markdown",
   "id": "3fcc684a",
   "metadata": {},
   "source": [
    "#### 2217. 로프"
   ]
  },
  {
   "cell_type": "code",
   "execution_count": 6,
   "id": "ae59cf26",
   "metadata": {},
   "outputs": [
    {
     "name": "stdout",
     "output_type": "stream",
     "text": [
      "2\n",
      "10\n",
      "15\n",
      "20\n"
     ]
    }
   ],
   "source": [
    "n = int(input())\n",
    "data = sorted([int(input()) for _ in range(n)])\n",
    "result = []\n",
    "for i in range(1, n+1):\n",
    "    result.append(data.pop() * i)\n",
    "\n",
    "print(max(result))"
   ]
  },
  {
   "cell_type": "code",
   "execution_count": 4,
   "id": "aef2d791",
   "metadata": {},
   "outputs": [
    {
     "data": {
      "text/plain": [
       "[10, 30]"
      ]
     },
     "execution_count": 4,
     "metadata": {},
     "output_type": "execute_result"
    }
   ],
   "source": [
    "result"
   ]
  },
  {
   "cell_type": "markdown",
   "id": "a26cb902",
   "metadata": {},
   "source": [
    "#### 1049. 기타줄"
   ]
  },
  {
   "cell_type": "code",
   "execution_count": null,
   "id": "c2c4a009",
   "metadata": {},
   "outputs": [
    {
     "name": "stdout",
     "output_type": "stream",
     "text": [
      "15 1\n"
     ]
    }
   ],
   "source": [
    "from math import ceil\n",
    "\n",
    "n, m = map(int, input().split())\n",
    "min_set = 1000\n",
    "min_each = 1000\n",
    "\n",
    "for _ in range(m):\n",
    "    s, e = map(int, input().split())\n",
    "    if s < min_set:\n",
    "        min_set = s\n",
    "    if e < min_each:\n",
    "        min_each = e\n",
    "\n",
    "each_price = n * min_each\n",
    "set_price = ceil(n / 6) * min_set\n",
    "multi_price = (n // 6) * min_set + (n % 6) * min_each\n",
    "print(min(each_price, set_price, multi_price))\n"
   ]
  },
  {
   "cell_type": "code",
   "execution_count": 11,
   "id": "87438718",
   "metadata": {},
   "outputs": [
    {
     "data": {
      "text/plain": [
       "(4, 20)"
      ]
     },
     "execution_count": 11,
     "metadata": {},
     "output_type": "execute_result"
    }
   ],
   "source": [
    "min_each, min_set"
   ]
  },
  {
   "cell_type": "markdown",
   "id": "e5f04d57",
   "metadata": {},
   "source": [
    "#### 2828. 사과 담기 게임"
   ]
  },
  {
   "cell_type": "code",
   "execution_count": 6,
   "id": "71d676d7",
   "metadata": {},
   "outputs": [
    {
     "name": "stdout",
     "output_type": "stream",
     "text": [
      "5 2\n",
      "3\n",
      "1\n",
      "5\n",
      "3\n",
      "4\n"
     ]
    }
   ],
   "source": [
    "n, m = map(int, input().split())\n",
    "left = 1\n",
    "right = m\n",
    "move_cnt = 0\n",
    "n_apple = int(input())\n",
    "for _ in range(n_apple):\n",
    "    apple = int(input())\n",
    "    if apple < left:\n",
    "        diff = left - apple\n",
    "        move_cnt += diff\n",
    "        left -= diff\n",
    "        right -= diff\n",
    "    elif apple > right:\n",
    "        diff = apple - right\n",
    "        move_cnt += diff\n",
    "        left += diff\n",
    "        right += diff\n",
    "        \n",
    "print(move_cnt)"
   ]
  },
  {
   "cell_type": "code",
   "execution_count": null,
   "id": "616e4525",
   "metadata": {},
   "outputs": [],
   "source": []
  }
 ],
 "metadata": {
  "kernelspec": {
   "display_name": "Python 3 (ipykernel)",
   "language": "python",
   "name": "python3"
  },
  "language_info": {
   "codemirror_mode": {
    "name": "ipython",
    "version": 3
   },
   "file_extension": ".py",
   "mimetype": "text/x-python",
   "name": "python",
   "nbconvert_exporter": "python",
   "pygments_lexer": "ipython3",
   "version": "3.8.10"
  }
 },
 "nbformat": 4,
 "nbformat_minor": 5
}
