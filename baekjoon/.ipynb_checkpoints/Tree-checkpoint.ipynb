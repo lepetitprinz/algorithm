{
 "cells": [
  {
   "cell_type": "markdown",
   "id": "aaf05126",
   "metadata": {},
   "source": [
    "#### 1991. 트리 순회"
   ]
  },
  {
   "cell_type": "code",
   "execution_count": 3,
   "id": "c4f62838",
   "metadata": {},
   "outputs": [
    {
     "name": "stdout",
     "output_type": "stream",
     "text": [
      "7\n",
      "A B C\n",
      "B D .\n",
      "C E F\n",
      "E . .\n",
      "F . G\n",
      "D . .\n",
      "G . .\n",
      "ABDCEFG\n",
      "DBAECFG\n",
      "DBEGFCA"
     ]
    }
   ],
   "source": [
    "class Node(object):\n",
    "    def __init__(self, item, left, right):\n",
    "        self.item = item\n",
    "        self.left = left\n",
    "        self.right = right\n",
    "        \n",
    "def preorder(node, tree):\n",
    "    print(node.item, end='')\n",
    "    if node.left != '.':\n",
    "        preorder(tree[node.left], tree)\n",
    "    if node.right != '.':\n",
    "        preorder(tree[node.right], tree)\n",
    "        \n",
    "def inorder(node, tree):\n",
    "    if node.left != '.':\n",
    "        inorder(tree[node.left], tree)\n",
    "    print(node.item, end='')\n",
    "    if node.right != '.':\n",
    "        inorder(tree[node.right], tree)\n",
    "    \n",
    "def postorder(node, tree):\n",
    "    if node.left != '.':\n",
    "        postorder(tree[node.left], tree)\n",
    "    if node.right != '.':\n",
    "        postorder(tree[node.right], tree)\n",
    "    print(node.item, end='')\n",
    "    \n",
    "n = int(input())\n",
    "tree = {}\n",
    "for _ in range(n):\n",
    "    i, l, f = input().split()\n",
    "    tree[i] = Node(i, l, f)\n",
    "preorder(tree['A'], tree)\n",
    "print()\n",
    "inorder(tree['A'], tree)\n",
    "print()\n",
    "postorder(tree['A'], tree)"
   ]
  },
  {
   "cell_type": "markdown",
   "id": "83da236e",
   "metadata": {},
   "source": [
    "#### 9934. 완전 이진 트리"
   ]
  },
  {
   "cell_type": "code",
   "execution_count": null,
   "id": "cf225d6b",
   "metadata": {},
   "outputs": [],
   "source": [
    "class TreeNode:\n",
    "    def __init__(self, val=0, left=None, right=None):\n",
    "        self.val = val\n",
    "        self.left = left\n",
    "        self.right = right\n",
    "    \n",
    "k = int(input())\n",
    "node = Tr"
   ]
  }
 ],
 "metadata": {
  "kernelspec": {
   "display_name": "Python 3 (ipykernel)",
   "language": "python",
   "name": "python3"
  },
  "language_info": {
   "codemirror_mode": {
    "name": "ipython",
    "version": 3
   },
   "file_extension": ".py",
   "mimetype": "text/x-python",
   "name": "python",
   "nbconvert_exporter": "python",
   "pygments_lexer": "ipython3",
   "version": "3.8.16"
  }
 },
 "nbformat": 4,
 "nbformat_minor": 5
}
