{
 "cells": [
  {
   "cell_type": "markdown",
   "id": "82d65376",
   "metadata": {},
   "source": [
    "#### 1753. 최단경로"
   ]
  },
  {
   "cell_type": "code",
   "execution_count": 4,
   "id": "95a339f9",
   "metadata": {
    "collapsed": true
   },
   "outputs": [
    {
     "name": "stdout",
     "output_type": "stream",
     "text": [
      "5 6\n",
      "1\n",
      "5 1 1\n",
      "1 2 2\n",
      "1 3 3\n",
      "2 3 4\n",
      "2 4 5\n",
      "3 4 6\n",
      "0\n",
      "2\n",
      "3\n",
      "7\n",
      "INF\n"
     ]
    }
   ],
   "source": [
    "from heapq import heappush, heappop\n",
    "\n",
    "def dijkstra(graph, start, distance):\n",
    "    queue = []\n",
    "    heappush(queue, (0, start))\n",
    "    distance[start] = 0\n",
    "    \n",
    "    while queue:\n",
    "        dist, curr = heappop(queue)\n",
    "        if distance[curr] < dist:\n",
    "            continue\n",
    "        \n",
    "        for node, d in graph[curr]:\n",
    "            cost = dist + d\n",
    "            if cost < distance[node]:\n",
    "                distance[node] = cost\n",
    "                heappush(queue, (cost, node))\n",
    "    \n",
    "INF = int(1e9)\n",
    "n, e = map(int, input().split())\n",
    "start = int(input())\n",
    "distance = [INF] * (n + 1)\n",
    "\n",
    "graph = [[] for _ in range(n + 1)]\n",
    "for _ in range(e):\n",
    "    u, v, w = map(int, input().split())\n",
    "    graph[u].append((v, w))\n",
    "    \n",
    "dijkstra(graph, start, distance)\n",
    "\n",
    "for i in range(1, n + 1):\n",
    "    if distance[i] == INF:\n",
    "        print('INF')\n",
    "    else:\n",
    "        print(distance[i])"
   ]
  },
  {
   "cell_type": "markdown",
   "id": "f154a846",
   "metadata": {},
   "source": [
    "#### 최소비용 구하기"
   ]
  },
  {
   "cell_type": "code",
   "execution_count": 9,
   "id": "42756554",
   "metadata": {
    "collapsed": true
   },
   "outputs": [
    {
     "name": "stdout",
     "output_type": "stream",
     "text": [
      "5\n",
      "8\n",
      "1 2 2\n",
      "1 3 3\n",
      "1 4 1\n",
      "1 5 10\n",
      "2 4 2\n",
      "3 4 1\n",
      "3 5 1\n",
      "4 5 3\n",
      "1 5\n",
      "4\n"
     ]
    }
   ],
   "source": [
    "from heapq import heappush, heappop\n",
    "\n",
    "def dijkstra(graph, start, end, distance):\n",
    "    queue = []\n",
    "    heappush(queue, (0, start))\n",
    "    distance[start] = 0\n",
    "    \n",
    "    while queue:\n",
    "        dist, curr = heappop(queue)\n",
    "        if distance[curr] < dist:\n",
    "            continue\n",
    "            \n",
    "        for node, d in graph[curr]:\n",
    "            cost = dist + d\n",
    "            if cost < distance[node]:\n",
    "                distance[node] = cost\n",
    "                heappush(queue, (cost, node))\n",
    "    \n",
    "    return distance[end]\n",
    "\n",
    "n = int(input())\n",
    "e = int(input())\n",
    "INF = int(1e9)\n",
    "\n",
    "distance = [INF] * (n + 1)\n",
    "graph = [[] for _ in range(n + 1)]\n",
    "for _ in range(e):\n",
    "    u, v, c = map(int, input().split())\n",
    "    graph[u].append((v, c))\n",
    "\n",
    "start, end = map(int, input().split())  \n",
    "result = dijkstra(graph, start, end, distance)\n",
    "print(result)"
   ]
  },
  {
   "cell_type": "markdown",
   "id": "a01479c7",
   "metadata": {},
   "source": [
    "#### 1504. 특정한 최단 경로"
   ]
  },
  {
   "cell_type": "code",
   "execution_count": 2,
   "id": "5462cac5",
   "metadata": {
    "collapsed": true
   },
   "outputs": [
    {
     "name": "stdout",
     "output_type": "stream",
     "text": [
      "4 6\n",
      "1 2 3\n",
      "2 3 3\n",
      "3 4 1\n",
      "1 3 5\n",
      "2 4 5\n",
      "1 4 4\n",
      "2 3\n",
      "9\n"
     ]
    }
   ],
   "source": [
    "from heapq import heappush, heappop\n",
    "\n",
    "def dijkstra(graph, start, distance):\n",
    "    queue = []\n",
    "    heappush(queue, (0, start))\n",
    "    distance[start] = 0\n",
    "\n",
    "    while queue:\n",
    "        dist, curr = heappop(queue)\n",
    "        if distance[curr] < dist:\n",
    "            continue\n",
    "        for node, d in graph[curr]:\n",
    "            cost = dist + d\n",
    "            if cost < distance[node]:\n",
    "                distance[node] = cost\n",
    "                heappush(queue, (cost, node))\n",
    "    \n",
    "    return distance\n",
    "\n",
    "def compare_route(graph):\n",
    "    result1, result2 = (0, 0)\n",
    "    for start in [1, v1, v2]:\n",
    "        distance = [INF] * (n + 1)\n",
    "        distance = dijkstra(graph, start, distance)\n",
    "        if start == 1:\n",
    "            result1 += distance[v1]\n",
    "            result2 += distance[v2]\n",
    "        elif start == v1:\n",
    "            v1_v2 = distance[v2]\n",
    "            if v1_v2 == INF:\n",
    "                return -1\n",
    "            result1 += distance[v2]\n",
    "            result2 += distance[n]\n",
    "        elif start == v2:\n",
    "            result1 += distance[n]\n",
    "            v2_v1 = distance[v1]\n",
    "            if v2_v1 == INF:\n",
    "                return -1\n",
    "            result2 += distance[v1]\n",
    "    result = min(result1, result2)\n",
    "    \n",
    "    return result\n",
    "        \n",
    "n, e = map(int, input().split())\n",
    "INF = int(1e9)\n",
    "graph = [[] for _ in range(n + 1)]\n",
    "for _ in range(e):\n",
    "    v, u, c = map(int, input().split())\n",
    "    graph[v].append((u, c))\n",
    "    graph[u].append((v, c))\n",
    "    \n",
    "v1, v2 = map(int, input().split())\n",
    "result = compare_route(graph)\n",
    "print(result)"
   ]
  },
  {
   "cell_type": "markdown",
   "id": "b6481699",
   "metadata": {},
   "source": [
    "#### 1238. 파티"
   ]
  },
  {
   "cell_type": "code",
   "execution_count": 13,
   "id": "7c2eae9a",
   "metadata": {
    "collapsed": true
   },
   "outputs": [
    {
     "name": "stdout",
     "output_type": "stream",
     "text": [
      "4 8 2\n",
      "1 2 4\n",
      "1 3 2\n",
      "1 4 7\n",
      "2 1 1\n",
      "2 3 5\n",
      "3 1 2\n",
      "3 4 4\n",
      "4 2 3\n",
      "10\n"
     ]
    }
   ],
   "source": [
    "from heapq import heappush, heappop\n",
    "\n",
    "def dijkstra(graph, start, distance):\n",
    "    queue = []\n",
    "    heappush(queue, (0, start))\n",
    "    distance[start] = 0\n",
    "\n",
    "    while queue:\n",
    "        dist, curr = heappop(queue)\n",
    "        if distance[curr] < dist:\n",
    "            continue\n",
    "        for node, d in graph[curr]:\n",
    "            cost = dist + d\n",
    "            if cost < distance[node]:\n",
    "                distance[node] = cost\n",
    "                heappush(queue, (cost, node))\n",
    "    \n",
    "    return distance\n",
    "\n",
    "INF = int(1e9)\n",
    "n, m, x = map(int, input().split())\n",
    "graph = [[] for _ in range(n + 1)]\n",
    "for _ in range(m):\n",
    "    u, v, c = map(int, input().split())\n",
    "    graph[u].append((v, c))\n",
    "\n",
    "distance = [INF] * (n + 1)\n",
    "b_dist = dijkstra(graph, x, distance)\n",
    "r1 = {i: b_dist[i] for i in range(1, n + 1) if i != x}\n",
    "r2 = {}\n",
    "for i in range(1, n + 1):\n",
    "    if i != x:\n",
    "        distance = [INF] * (n + 1)\n",
    "        a_dist = dijkstra(graph, i, distance)[x]\n",
    "        r2[i] = a_dist\n",
    "        \n",
    "result = []\n",
    "for i in range(1, n + 1):\n",
    "    if i != x:\n",
    "        result.append(r1[i] + r2[i])\n",
    "print(max(result))"
   ]
  },
  {
   "cell_type": "code",
   "execution_count": null,
   "id": "29a2f5ca",
   "metadata": {},
   "outputs": [],
   "source": []
  }
 ],
 "metadata": {
  "kernelspec": {
   "display_name": "Python 3 (ipykernel)",
   "language": "python",
   "name": "python3"
  },
  "language_info": {
   "codemirror_mode": {
    "name": "ipython",
    "version": 3
   },
   "file_extension": ".py",
   "mimetype": "text/x-python",
   "name": "python",
   "nbconvert_exporter": "python",
   "pygments_lexer": "ipython3",
   "version": "3.8.10"
  }
 },
 "nbformat": 4,
 "nbformat_minor": 5
}
