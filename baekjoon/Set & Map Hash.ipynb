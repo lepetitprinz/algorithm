{
 "cells": [
  {
   "cell_type": "markdown",
   "id": "13546c9e",
   "metadata": {},
   "source": [
    "### 10815. 숫자 카드"
   ]
  },
  {
   "cell_type": "code",
   "execution_count": null,
   "id": "9e8418b1",
   "metadata": {},
   "outputs": [],
   "source": [
    "n = int(input())\n",
    "nums = list(map(int, input().split()))\n",
    "num_map = {num: '1' for num in nums}\n",
    "\n",
    "m = int(input())\n",
    "prob = list(map(int, input().split()))\n",
    "z\n",
    "result = [num_map.get(num, '0') for num in prob]\n",
    "print(' '.join(result))"
   ]
  },
  {
   "cell_type": "markdown",
   "id": "ce1793c2",
   "metadata": {},
   "source": [
    "### 14425. 문자열 집합"
   ]
  },
  {
   "cell_type": "code",
   "execution_count": null,
   "id": "b89a8cca",
   "metadata": {},
   "outputs": [],
   "source": [
    "n, m = map(int, input().split())\n",
    "data = {input(): 1 for _ in range(n)}\n",
    "result = sum(data.get(input(), 0) for _ in range(m))\n",
    "print(result)"
   ]
  },
  {
   "cell_type": "markdown",
   "id": "556c109a",
   "metadata": {},
   "source": [
    "### 1764. 듣보잡"
   ]
  },
  {
   "cell_type": "code",
   "execution_count": null,
   "id": "45f69cbc",
   "metadata": {},
   "outputs": [],
   "source": [
    "n, m = map(int, input().split())\n",
    "n_list = [input() for _ in range(n)]\n",
    "m_list = [input() for _ in range(m)]\n",
    "intersection = set(n_list).intersection(set(m_list))\n",
    "\n",
    "print(len(intersection))\n",
    "for string in intersection:\n",
    "    print(string)"
   ]
  },
  {
   "cell_type": "markdown",
   "id": "bd5283a5",
   "metadata": {},
   "source": [
    "### 1269. 대칭 차집합"
   ]
  },
  {
   "cell_type": "code",
   "execution_count": null,
   "id": "5635a2e7",
   "metadata": {},
   "outputs": [],
   "source": [
    "n, m = map(int, input().split())\n",
    "set_n = set(map(int, input().split())) \n",
    "set_m = set(map(int, input().split()))\n",
    "print(len(set_n.union(set_m) - set_n.intersection(set_m)))"
   ]
  },
  {
   "cell_type": "markdown",
   "id": "206618c0",
   "metadata": {},
   "source": [
    "### 11478. 서로 다른 부분 문자열의 개수"
   ]
  },
  {
   "cell_type": "code",
   "execution_count": null,
   "id": "7e1e61e2",
   "metadata": {},
   "outputs": [],
   "source": [
    "string = input()\n",
    "str_list = []\n",
    "for i in range(1, len(string) + 1):\n",
    "    for j in range(len(string) + 1 - i):\n",
    "        str_list.append(string[j: j+i])\n",
    "print()"
   ]
  },
  {
   "cell_type": "markdown",
   "id": "a40ec169",
   "metadata": {},
   "source": [
    "#### 4158. CD"
   ]
  },
  {
   "cell_type": "code",
   "execution_count": null,
   "id": "31f78f6c",
   "metadata": {},
   "outputs": [],
   "source": [
    "while True:\n",
    "    n, m = map(int, input().split())\n",
    "    n_hash = {int(input()): 1 for _ in range(n)}\n",
    "    result = sum(n_hash.get(int(input()), 0) for _ in range(m))\n",
    "    end = input()\n",
    "    print(result)"
   ]
  },
  {
   "cell_type": "markdown",
   "id": "2e7260d9",
   "metadata": {},
   "source": [
    "#### 21980. 비슷한 번호판"
   ]
  },
  {
   "cell_type": "code",
   "execution_count": null,
   "id": "185ad179",
   "metadata": {},
   "outputs": [],
   "source": [
    "def rule(word):\n",
    "    upper = sum(char.isupper() for char in word)\n",
    "    kinds = ''.join(sorted(list(word.lower())))\n",
    "    \n",
    "    return upper, kinds\n",
    "\n",
    "def combination(n):\n",
    "    return n * (n - 1) // 2\n",
    "\n",
    "test = int(input())\n",
    "for _ in range(test):\n",
    "    n, k = map(int, input().split())\n",
    "    data = list(input().split())    \n",
    "    \n",
    "    cnt = {}\n",
    "    for word in data:\n",
    "        upper, kinds = rule(word)\n",
    "        if (upper, kinds) in cnt:\n",
    "            cnt[(upper, kinds)] += 1\n",
    "        else:\n",
    "            cnt[(upper, kinds)] = 1\n",
    "            \n",
    "    result = sum(combination(i) for i in cnt.values())   \n",
    "    print(result)"
   ]
  },
  {
   "cell_type": "markdown",
   "id": "f07e4030",
   "metadata": {},
   "source": [
    "#### 13414. 수강신청"
   ]
  },
  {
   "cell_type": "code",
   "execution_count": null,
   "id": "3094f213",
   "metadata": {},
   "outputs": [],
   "source": [
    "k, l = map(int, input().split())\n",
    "memory = {}\n",
    "for i in range(l):\n",
    "    person = input()\n",
    "    memory[person] = i\n",
    "\n",
    "result = sorted(memory.items(), key= lambda x:x[1])\n",
    "for i in range(k):\n",
    "    print(result[i][0])"
   ]
  },
  {
   "cell_type": "code",
   "execution_count": null,
   "id": "a267c8bc",
   "metadata": {},
   "outputs": [],
   "source": [
    "cnt = 0\n",
    "for p, order in result:\n",
    "    if cnt  <  k:\n",
    "        print(p)\n",
    "        cnt += 1\n",
    "    else:\n",
    "        break"
   ]
  },
  {
   "cell_type": "markdown",
   "id": "6763027b",
   "metadata": {},
   "source": [
    "#### 1822. 차집합"
   ]
  },
  {
   "cell_type": "code",
   "execution_count": null,
   "id": "7a05a9cc",
   "metadata": {},
   "outputs": [],
   "source": [
    "a, b = map(int, input().split())\n",
    "set_a = set(map(int, input().split()))\n",
    "set_b = set(map(int, input().split()))\n",
    "diff = sorted(list(set_a - set_b))\n",
    "if len(diff) == 0:\n",
    "    print(0)\n",
    "else:\n",
    "    print(len(diff))\n",
    "    print(*diff)"
   ]
  },
  {
   "cell_type": "markdown",
   "id": "5b2939fd",
   "metadata": {},
   "source": [
    "#### 2358. 평행선"
   ]
  },
  {
   "cell_type": "code",
   "execution_count": null,
   "id": "841f043c",
   "metadata": {},
   "outputs": [],
   "source": [
    "n = int(input())\n",
    "x_map = {}\n",
    "y_map = {}\n",
    "for _ in range(n):\n",
    "    x, y = map(int, input().split())\n",
    "    if x in x_map:\n",
    "        x_map[x] += 1\n",
    "    else:\n",
    "        x_map[x] = 1\n",
    "    if y in y_map:\n",
    "        y_map[y] += 1\n",
    "    else:\n",
    "        y_map[y] = 1\n",
    "\n",
    "result = 0\n",
    "result += sum(1 for cnt in x_map.values() if cnt > 1)\n",
    "result += sum(1 for cnt in y_map.values() if cnt > 1)\n",
    "print(result)"
   ]
  },
  {
   "cell_type": "markdown",
   "id": "9886cbd0",
   "metadata": {},
   "source": [
    "#### 3018. 캠프파이어"
   ]
  },
  {
   "cell_type": "code",
   "execution_count": null,
   "id": "baf9a3ea",
   "metadata": {},
   "outputs": [],
   "source": [
    "n = int(input())\n",
    "e = int(input())\n",
    "tot_song = []\n",
    "\n",
    "data = {i: set() for i in range(1, n + 1)}\n",
    "for song in range(e):\n",
    "    people = set(list(map(int, input().split()))[1:])\n",
    "    if 1 in people:\n",
    "        tot_song.append(song)\n",
    "        for p in people:\n",
    "            data[p].add(song)\n",
    "    else:\n",
    "        total = set()\n",
    "        for s in data.values():\n",
    "            total = total | s\n",
    "        for p in people:\n",
    "            data[p] = total.copy()\n",
    "\n",
    "length = len(tot_song)\n",
    "for p, song in data.items():\n",
    "    if len(song) == length:\n",
    "        print(p)"
   ]
  }
 ],
 "metadata": {
  "kernelspec": {
   "display_name": "Python 3 (ipykernel)",
   "language": "python",
   "name": "python3"
  },
  "language_info": {
   "codemirror_mode": {
    "name": "ipython",
    "version": 3
   },
   "file_extension": ".py",
   "mimetype": "text/x-python",
   "name": "python",
   "nbconvert_exporter": "python",
   "pygments_lexer": "ipython3",
   "version": "3.8.15"
  }
 },
 "nbformat": 4,
 "nbformat_minor": 5
}
