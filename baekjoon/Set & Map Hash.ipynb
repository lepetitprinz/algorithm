{
 "cells": [
  {
   "cell_type": "markdown",
   "id": "13546c9e",
   "metadata": {},
   "source": [
    "### 10815. 숫자 카드"
   ]
  },
  {
   "cell_type": "code",
   "execution_count": null,
   "id": "9e8418b1",
   "metadata": {},
   "outputs": [],
   "source": [
    "n = int(input())\n",
    "nums = list(map(int, input().split()))\n",
    "num_map = {num: '1' for num in nums}\n",
    "\n",
    "m = int(input())\n",
    "prob = list(map(int, input().split()))\n",
    "z\n",
    "result = [num_map.get(num, '0') for num in prob]\n",
    "print(' '.join(result))"
   ]
  },
  {
   "cell_type": "markdown",
   "id": "ce1793c2",
   "metadata": {},
   "source": [
    "### 14425. 문자열 집합"
   ]
  },
  {
   "cell_type": "code",
   "execution_count": null,
   "id": "b89a8cca",
   "metadata": {},
   "outputs": [],
   "source": [
    "n, m = map(int, input().split())\n",
    "data = {input(): 1 for _ in range(n)}\n",
    "result = sum(data.get(input(), 0) for _ in range(m))\n",
    "print(result)"
   ]
  },
  {
   "cell_type": "markdown",
   "id": "556c109a",
   "metadata": {},
   "source": [
    "### 1764. 듣보잡"
   ]
  },
  {
   "cell_type": "code",
   "execution_count": null,
   "id": "45f69cbc",
   "metadata": {},
   "outputs": [],
   "source": [
    "n, m = map(int, input().split())\n",
    "n_list = [input() for _ in range(n)]\n",
    "m_list = [input() for _ in range(m)]\n",
    "intersection = set(n_list).intersection(set(m_list))\n",
    "\n",
    "print(len(intersection))\n",
    "for string in intersection:\n",
    "    print(string)"
   ]
  },
  {
   "cell_type": "markdown",
   "id": "bd5283a5",
   "metadata": {},
   "source": [
    "### 1269. 대칭 차집합"
   ]
  },
  {
   "cell_type": "code",
   "execution_count": null,
   "id": "5635a2e7",
   "metadata": {},
   "outputs": [],
   "source": [
    "n, m = map(int, input().split())\n",
    "set_n = set(map(int, input().split())) \n",
    "set_m = set(map(int, input().split()))\n",
    "print(len(set_n.union(set_m) - set_n.intersection(set_m)))"
   ]
  },
  {
   "cell_type": "markdown",
   "id": "206618c0",
   "metadata": {},
   "source": [
    "### 11478. 서로 다른 부분 문자열의 개수"
   ]
  },
  {
   "cell_type": "code",
   "execution_count": null,
   "id": "7e1e61e2",
   "metadata": {},
   "outputs": [],
   "source": [
    "string = input()\n",
    "str_list = []\n",
    "for i in range(1, len(string) + 1):\n",
    "    for j in range(len(string) + 1 - i):\n",
    "        str_list.append(string[j: j+i])\n",
    "print()"
   ]
  },
  {
   "cell_type": "markdown",
   "id": "a40ec169",
   "metadata": {},
   "source": [
    "#### 4158. CD"
   ]
  },
  {
   "cell_type": "code",
   "execution_count": null,
   "id": "31f78f6c",
   "metadata": {},
   "outputs": [],
   "source": [
    "while True:\n",
    "    n, m = map(int, input().split())\n",
    "    n_hash = {int(input()): 1 for _ in range(n)}\n",
    "    result = sum(n_hash.get(int(input()), 0) for _ in range(m))\n",
    "    end = input()\n",
    "    print(result)"
   ]
  },
  {
   "cell_type": "markdown",
   "id": "2e7260d9",
   "metadata": {},
   "source": [
    "#### 21980. 비슷한 번호판"
   ]
  },
  {
   "cell_type": "code",
   "execution_count": null,
   "id": "185ad179",
   "metadata": {},
   "outputs": [],
   "source": [
    "def rule(word):\n",
    "    upper = sum(char.isupper() for char in word)\n",
    "    kinds = ''.join(sorted(list(word.lower())))\n",
    "    \n",
    "    return upper, kinds\n",
    "\n",
    "def combination(n):\n",
    "    return n * (n - 1) // 2\n",
    "\n",
    "test = int(input())\n",
    "for _ in range(test):\n",
    "    n, k = map(int, input().split())\n",
    "    data = list(input().split())    \n",
    "    \n",
    "    cnt = {}\n",
    "    for word in data:\n",
    "        upper, kinds = rule(word)\n",
    "        if (upper, kinds) in cnt:\n",
    "            cnt[(upper, kinds)] += 1\n",
    "        else:\n",
    "            cnt[(upper, kinds)] = 1\n",
    "            \n",
    "    result = sum(combination(i) for i in cnt.values())   \n",
    "    print(result)"
   ]
  },
  {
   "cell_type": "markdown",
   "id": "f07e4030",
   "metadata": {},
   "source": [
    "#### 13414. 수강신청"
   ]
  },
  {
   "cell_type": "code",
   "execution_count": null,
   "id": "3094f213",
   "metadata": {},
   "outputs": [],
   "source": [
    "k, l = map(int, input().split())\n",
    "memory = {}\n",
    "for i in range(l):\n",
    "    person = input()\n",
    "    memory[person] = i\n",
    "\n",
    "result = sorted(memory.items(), key= lambda x:x[1])\n",
    "for i in range(k):\n",
    "    print(result[i][0])"
   ]
  },
  {
   "cell_type": "code",
   "execution_count": null,
   "id": "a267c8bc",
   "metadata": {},
   "outputs": [],
   "source": [
    "cnt = 0\n",
    "for p, order in result:\n",
    "    if cnt  <  k:\n",
    "        print(p)\n",
    "        cnt += 1\n",
    "    else:\n",
    "        break"
   ]
  },
  {
   "cell_type": "markdown",
   "id": "6763027b",
   "metadata": {},
   "source": [
    "#### 1822. 차집합"
   ]
  },
  {
   "cell_type": "code",
   "execution_count": null,
   "id": "7a05a9cc",
   "metadata": {},
   "outputs": [],
   "source": [
    "a, b = map(int, input().split())\n",
    "set_a = set(map(int, input().split()))\n",
    "set_b = set(map(int, input().split()))\n",
    "diff = sorted(list(set_a - set_b))\n",
    "if len(diff) == 0:\n",
    "    print(0)\n",
    "else:\n",
    "    print(len(diff))\n",
    "    print(*diff)"
   ]
  },
  {
   "cell_type": "markdown",
   "id": "5b2939fd",
   "metadata": {},
   "source": [
    "#### 2358. 평행선"
   ]
  },
  {
   "cell_type": "code",
   "execution_count": null,
   "id": "841f043c",
   "metadata": {},
   "outputs": [],
   "source": [
    "n = int(input())\n",
    "x_map = {}\n",
    "y_map = {}\n",
    "for _ in range(n):\n",
    "    x, y = map(int, input().split())\n",
    "    if x in x_map:\n",
    "        x_map[x] += 1\n",
    "    else:\n",
    "        x_map[x] = 1\n",
    "    if y in y_map:\n",
    "        y_map[y] += 1\n",
    "    else:\n",
    "        y_map[y] = 1\n",
    "\n",
    "result = 0\n",
    "result += sum(1 for cnt in x_map.values() if cnt > 1)\n",
    "result += sum(1 for cnt in y_map.values() if cnt > 1)\n",
    "print(result)"
   ]
  },
  {
   "cell_type": "markdown",
   "id": "9886cbd0",
   "metadata": {},
   "source": [
    "#### 3018. 캠프파이어"
   ]
  },
  {
   "cell_type": "code",
   "execution_count": null,
   "id": "baf9a3ea",
   "metadata": {},
   "outputs": [],
   "source": [
    "n = int(input())\n",
    "e = int(input())\n",
    "tot_song = []\n",
    "\n",
    "data = {i: set() for i in range(1, n + 1)}\n",
    "for song in range(e):\n",
    "    people = set(list(map(int, input().split()))[1:])\n",
    "    if 1 in people:\n",
    "        tot_song.append(song)\n",
    "        for p in people:\n",
    "            data[p].add(song)\n",
    "    else:\n",
    "        total = set()\n",
    "        for s in data.values():\n",
    "            total = total | s\n",
    "        for p in people:\n",
    "            data[p] = total.copy()\n",
    "\n",
    "length = len(tot_song)\n",
    "for p, song in data.items():\n",
    "    if len(song) == length:\n",
    "        print(p)"
   ]
  },
  {
   "cell_type": "markdown",
   "id": "8f0ce907",
   "metadata": {},
   "source": [
    "#### 2776. 암기왕"
   ]
  },
  {
   "cell_type": "code",
   "execution_count": 1,
   "id": "68389136",
   "metadata": {
    "collapsed": true
   },
   "outputs": [
    {
     "name": "stdout",
     "output_type": "stream",
     "text": [
      "1\n",
      "5\n",
      "4 1 5 2 3\n",
      "5\n",
      "1 3 7 9 5\n",
      "1\n",
      "1\n",
      "0\n",
      "0\n",
      "1\n"
     ]
    }
   ],
   "source": [
    "t = int(input()) \n",
    "for _ in range(t):\n",
    "    n = int(input())\n",
    "    n_map = {num:1 for num in list(map(int, input().split()))}\n",
    "    m = int(input())\n",
    "    m_list = list(map(int, input().split()))\n",
    "    result = [n_map.get(i, 0) for i in m_list]\n",
    "    print(*result, sep='\\n')"
   ]
  },
  {
   "cell_type": "markdown",
   "id": "4cbaf227",
   "metadata": {},
   "source": [
    "#### 9322. 철벽 보안 알고리즘"
   ]
  },
  {
   "cell_type": "code",
   "execution_count": 7,
   "id": "7da01a44",
   "metadata": {},
   "outputs": [
    {
     "name": "stdout",
     "output_type": "stream",
     "text": [
      "1\n",
      "3\n",
      "SECURITY THROUGH OBSCURITY\n",
      "OBSCURITY THROUGH SECURITY\n",
      "TOMORROW ATTACK WE\n",
      "WE ATTACK TOMORROW\n"
     ]
    }
   ],
   "source": [
    "t = int(input())\n",
    "for _ in range(t):\n",
    "    n = int(input())\n",
    "    o1 = list(input().split())\n",
    "    o2 = list(input().split())\n",
    "    \n",
    "    o1_map = {w: i for i, w in enumerate(o1)}\n",
    "    encrypt = {i: o1_map[w] for i, w in enumerate(o2)}\n",
    "    p = list(input().split())\n",
    "    \n",
    "    result = [None] * len(p)\n",
    "    for i, w in enumerate(p):\n",
    "        result[encrypt[i]] = w\n",
    "    \n",
    "    print(*result)"
   ]
  },
  {
   "cell_type": "code",
   "execution_count": 21,
   "id": "df1b58d0",
   "metadata": {
    "collapsed": true
   },
   "outputs": [
    {
     "name": "stdout",
     "output_type": "stream",
     "text": [
      "4\n",
      "mislav\n",
      "stanko\n",
      "mislav\n",
      "ana\n",
      "stanko\n",
      "ana\n",
      "mislav\n",
      "mislav\n"
     ]
    }
   ],
   "source": [
    "n = int(input())\n",
    "entry = {}\n",
    "\n",
    "for _ in range(n):\n",
    "    p = input()\n",
    "    if p in entry:\n",
    "        entry[p] += 1\n",
    "    else:\n",
    "        entry[p] = 1\n",
    "for _ in range(n-1):\n",
    "    p = input()\n",
    "    entry[p] -= 1\n",
    "    if entry[p] == 0:\n",
    "        del entry[p]\n",
    "        \n",
    "print(list(entry.keys())[0])"
   ]
  },
  {
   "cell_type": "markdown",
   "id": "31237ab2",
   "metadata": {},
   "source": [
    "#### 11652. 카드"
   ]
  },
  {
   "cell_type": "code",
   "execution_count": 1,
   "id": "737b39b0",
   "metadata": {},
   "outputs": [
    {
     "name": "stdout",
     "output_type": "stream",
     "text": [
      "5\n",
      "1\n",
      "2\n",
      "1\n",
      "2\n",
      "1\n"
     ]
    }
   ],
   "source": [
    "n = int(input())\n",
    "data = {}\n",
    "for _ in range(n):\n",
    "    value = int(input())\n",
    "    if value in data:\n",
    "        data[value] += 1\n",
    "    else:\n",
    "        data[value] = 1\n",
    "\n",
    "data = sorted(data.items(), key=lambda x: (-x[1], x[0]))\n",
    "print(result = data[0][0])"
   ]
  },
  {
   "cell_type": "code",
   "execution_count": 3,
   "id": "82dc52df",
   "metadata": {},
   "outputs": [
    {
     "data": {
      "text/plain": [
       "1"
      ]
     },
     "execution_count": 3,
     "metadata": {},
     "output_type": "execute_result"
    }
   ],
   "source": [
    "result[0][0]"
   ]
  },
  {
   "cell_type": "markdown",
   "id": "998e7f2a",
   "metadata": {},
   "source": [
    "#### 1270. 전쟁 - 땅따먹기"
   ]
  },
  {
   "cell_type": "code",
   "execution_count": 3,
   "id": "604bbf15",
   "metadata": {
    "scrolled": false
   },
   "outputs": [
    {
     "name": "stdout",
     "output_type": "stream",
     "text": [
      "4\n",
      "10 1 2 3 1 2 3 1 2 3 1\n",
      "SYJKGW\n",
      "5 1 1 1 2 2\n",
      "1\n",
      "6 10 10 2 10 10 2\n",
      "10\n",
      "6 1 1 1 2 2 2 \n",
      "SYJKGW\n"
     ]
    }
   ],
   "source": [
    "def count_people(people, length):\n",
    "    count = {}\n",
    "    for p in people:\n",
    "        if p not in count:\n",
    "            count[p] = 1\n",
    "        else:\n",
    "            count[p] += 1\n",
    "\n",
    "    most = sorted(count.items(), key=lambda x: x[1], reverse=True)[0]\n",
    "    \n",
    "    result = 'SYJKGW'\n",
    "    if most[1] > (length/2):\n",
    "        result = most[0]\n",
    "    \n",
    "    return result\n",
    "\n",
    "n = int(input())\n",
    "for _ in range(n):\n",
    "    data = list(map(int, input().split()))\n",
    "    k, people = data[0], data[1:]\n",
    "    result = count_people(people, k)\n",
    "    print(result)"
   ]
  },
  {
   "cell_type": "markdown",
   "id": "978268cf",
   "metadata": {},
   "source": [
    "#### 3077. 임진왜란"
   ]
  },
  {
   "cell_type": "code",
   "execution_count": null,
   "id": "dd90c105",
   "metadata": {},
   "outputs": [],
   "source": [
    "from itertools import combinations\n",
    "\n",
    "n = int(input())\n",
    "total_score = n * (n-1) // 2\n",
    "data = list(input().split())\n",
    "seq = {word: i for i, word in enumerate(data)}\n",
    "answer = list(input().split())\n",
    "\n",
    "score = 0\n",
    "for forward, backward in combinations(answer, 2):\n",
    "    if "
   ]
  },
  {
   "cell_type": "markdown",
   "id": "b0a47795",
   "metadata": {},
   "source": [
    "#### 13915. 현수의 열기구 교실"
   ]
  },
  {
   "cell_type": "code",
   "execution_count": null,
   "id": "a18b2e00",
   "metadata": {},
   "outputs": [],
   "source": [
    "while True:\n",
    "    try:\n",
    "        record = []\n",
    "        n = int(input())\n",
    "        for _ in range(n):\n",
    "            data = set(list(input()))\n",
    "            if data not in record:\n",
    "                record.append(data)\n",
    "        print(len(record))\n",
    "\n",
    "    except:\n",
    "        break"
   ]
  },
  {
   "cell_type": "markdown",
   "id": "74f9eba6",
   "metadata": {},
   "source": [
    "#### 25329. 학생별 통화 요금 계산"
   ]
  },
  {
   "cell_type": "code",
   "execution_count": 3,
   "id": "86c3eef4",
   "metadata": {
    "collapsed": true
   },
   "outputs": [
    {
     "name": "stdout",
     "output_type": "stream",
     "text": [
      "7\n",
      "00:10 aaa\n",
      "00:30 aaa\n",
      "01:15 bbb\n",
      "01:00 ccc\n",
      "01:00 bbb\n",
      "02:10 aaa\n",
      "03:10 ccc\n"
     ]
    },
    {
     "ename": "NameError",
     "evalue": "name 'calc_fee' is not defined",
     "output_type": "error",
     "traceback": [
      "\u001b[0;31m---------------------------------------------------------------------------\u001b[0m",
      "\u001b[0;31mNameError\u001b[0m                                 Traceback (most recent call last)",
      "Input \u001b[0;32mIn [3]\u001b[0m, in \u001b[0;36m<cell line: 21>\u001b[0;34m()\u001b[0m\n\u001b[1;32m     18\u001b[0m     \u001b[38;5;28;01melse\u001b[39;00m:\n\u001b[1;32m     19\u001b[0m         fee[name] \u001b[38;5;241m=\u001b[39m tot_time\n\u001b[0;32m---> 21\u001b[0m result \u001b[38;5;241m=\u001b[39m [[name, calc_fee(time)] \u001b[38;5;28;01mfor\u001b[39;00m name, time \u001b[38;5;129;01min\u001b[39;00m fee\u001b[38;5;241m.\u001b[39mitems()]\n\u001b[1;32m     22\u001b[0m result \u001b[38;5;241m=\u001b[39m \u001b[38;5;28msorted\u001b[39m(result, key\u001b[38;5;241m=\u001b[39m\u001b[38;5;28;01mlambda\u001b[39;00m x: (\u001b[38;5;241m-\u001b[39mx[\u001b[38;5;241m1\u001b[39m], x[\u001b[38;5;241m0\u001b[39m]))\n\u001b[1;32m     23\u001b[0m \u001b[38;5;28;01mfor\u001b[39;00m name, time \u001b[38;5;129;01min\u001b[39;00m result:\n",
      "Input \u001b[0;32mIn [3]\u001b[0m, in \u001b[0;36m<listcomp>\u001b[0;34m(.0)\u001b[0m\n\u001b[1;32m     18\u001b[0m     \u001b[38;5;28;01melse\u001b[39;00m:\n\u001b[1;32m     19\u001b[0m         fee[name] \u001b[38;5;241m=\u001b[39m tot_time\n\u001b[0;32m---> 21\u001b[0m result \u001b[38;5;241m=\u001b[39m [[name, \u001b[43mcalc_fee\u001b[49m(time)] \u001b[38;5;28;01mfor\u001b[39;00m name, time \u001b[38;5;129;01min\u001b[39;00m fee\u001b[38;5;241m.\u001b[39mitems()]\n\u001b[1;32m     22\u001b[0m result \u001b[38;5;241m=\u001b[39m \u001b[38;5;28msorted\u001b[39m(result, key\u001b[38;5;241m=\u001b[39m\u001b[38;5;28;01mlambda\u001b[39;00m x: (\u001b[38;5;241m-\u001b[39mx[\u001b[38;5;241m1\u001b[39m], x[\u001b[38;5;241m0\u001b[39m]))\n\u001b[1;32m     23\u001b[0m \u001b[38;5;28;01mfor\u001b[39;00m name, time \u001b[38;5;129;01min\u001b[39;00m result:\n",
      "\u001b[0;31mNameError\u001b[0m: name 'calc_fee' is not defined"
     ]
    }
   ],
   "source": [
    "from math import ceil\n",
    "\n",
    "def calc_fee(time):\n",
    "    fee = 10\n",
    "    time = max(0, time - 100)\n",
    "    fee += ceil(time / 50)\n",
    "    \n",
    "    return int(fee)\n",
    "\n",
    "n = int(input())\n",
    "fee = {}\n",
    "for _ in range(n):\n",
    "    time, name = input().split()\n",
    "    h, m = map(int, time.split(':'))\n",
    "    tot_time = h * 60 + m\n",
    "    if name in fee:\n",
    "        fee[name] += tot_time\n",
    "    else:\n",
    "        fee[name] = tot_time\n",
    "\n",
    "result = [[name, calc_fee(time)] for name, time in fee.items()]\n",
    "result = sorted(result, key=lambda x: (-x[1], x[0]))\n",
    "for name, time in result:\n",
    "    print(name, time)"
   ]
  },
  {
   "cell_type": "markdown",
<<<<<<< Updated upstream
   "id": "519537da",
   "metadata": {},
   "source": [
    "#### 9575. 행운의 수"
   ]
  },
  {
   "cell_type": "code",
   "execution_count": null,
   "id": "2abde62a",
   "metadata": {},
   "outputs": [],
   "source": [
    "def solve(a, b, c):\n",
    "    sum_set = set()\n",
    "    for i in a:\n",
    "        for j in b:\n",
    "            for k in c:\n",
    "                sum_set.add(str(i + j + k))\n",
    "    cnt = 0\n",
    "    check = set(['5', '8'])\n",
    "    for val in sum_set:\n",
    "        vals = set(val)\n",
    "        if vals.issubset(check):\n",
    "            cnt += 1\n",
    "\n",
    "    return cnt\n",
    "\n",
    "\n",
    "t = int(input())\n",
    "for _ in range(t):\n",
    "    n_a = int(input())\n",
    "    a = set(map(int, input().split()))\n",
    "    n_b = int(input())\n",
    "    b = set(map(int, input().split()))\n",
    "    n_c = int(input())\n",
    "    c = set(map(int, input().split()))\n",
    "\n",
    "    result = solve(a, b, c)\n",
    "    print(result)"
=======
   "id": "a11ba2c0",
   "metadata": {},
   "source": [
    "#### 16165. 걸그룹 마스터 준석이"
>>>>>>> Stashed changes
   ]
  },
  {
   "cell_type": "code",
   "execution_count": null,
<<<<<<< Updated upstream
   "id": "96205c58",
=======
   "id": "580ec280",
>>>>>>> Stashed changes
   "metadata": {},
   "outputs": [],
   "source": [
    "def set_data(n):\n",
    "    team = {}\n",
    "    member = {}\n",
    "    for _ in range(n):\n",
    "        team_name = input()\n",
    "        n = int(input())\n",
    "        team_list = []\n",
    "        for _ in range(n):\n",
    "            m = input()\n",
    "            team_list.append(m)\n",
    "            member[m] = team_name\n",
    "        team[team_name] = team_list\n",
    "        \n",
    "    return team, member\n",
    "\n",
    "def quiz(m, team, member):\n",
    "    for _ in range(m):\n",
    "        kind = int(input())\n",
    "        q = input()\n",
    "        if kind == 0:\n",
    "            result = team[q]\n",
    "            print(*result, sep='\\n')\n",
    "        else:\n",
    "            result = member[q]\n",
    "            print(result)\n",
    "\n",
    "n, m = map(int, input().split())\n",
    "team, member = set_data(n)\n",
    "quize(m, team, member)"
   ]
  }
 ],
 "metadata": {
  "kernelspec": {
   "display_name": "Python 3 (ipykernel)",
   "language": "python",
   "name": "python3"
  },
  "language_info": {
   "codemirror_mode": {
    "name": "ipython",
    "version": 3
   },
   "file_extension": ".py",
   "mimetype": "text/x-python",
   "name": "python",
   "nbconvert_exporter": "python",
   "pygments_lexer": "ipython3",
   "version": "3.8.15"
  }
 },
 "nbformat": 4,
 "nbformat_minor": 5
}
