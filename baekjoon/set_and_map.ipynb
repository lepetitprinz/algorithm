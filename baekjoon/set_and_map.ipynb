{
 "cells": [
  {
   "cell_type": "markdown",
   "id": "13546c9e",
   "metadata": {},
   "source": [
    "### 10815. 숫자 카드"
   ]
  },
  {
   "cell_type": "code",
   "execution_count": 4,
   "id": "9e8418b1",
   "metadata": {},
   "outputs": [
    {
     "name": "stdout",
     "output_type": "stream",
     "text": [
      "5\n",
      "6 3 2 10 -10\n",
      "8\n",
      "10 9 -5 2 3 4 5 -10\n",
      "1 0 0 1 1 0 0 1\n"
     ]
    }
   ],
   "source": [
    "n = int(input())\n",
    "nums = list(map(int, input().split()))\n",
    "num_map = {num: '1' for num in nums}\n",
    "\n",
    "m = int(input())\n",
    "prob = list(map(int, input().split()))\n",
    "z\n",
    "result = [num_map.get(num, '0') for num in prob]\n",
    "print(' '.join(result))"
   ]
  },
  {
   "cell_type": "markdown",
   "id": "ce1793c2",
   "metadata": {},
   "source": [
    "### 14425. 문자열 집합"
   ]
  },
  {
   "cell_type": "markdown",
   "id": "08ec1d87",
   "metadata": {},
   "source": [
    "총 N개의 문자열로 이루어진 집합 S가 주어진다.\n",
    "\n",
    "입력으로 주어지는 M개의 문자열 중에서 집합 S에 포함되어 있는 것이 총 몇 개인지 구하는 프로그램을 작성하시오."
   ]
  },
  {
   "cell_type": "code",
   "execution_count": 3,
   "id": "b89a8cca",
   "metadata": {
    "scrolled": true
   },
   "outputs": [
    {
     "name": "stdout",
     "output_type": "stream",
     "text": [
      "5 10\n",
      "a\n",
      "b\n",
      "c\n",
      "d\n",
      "e\n",
      "a\n",
      "b\n",
      "c\n",
      "d\n",
      "t\n",
      "t\n",
      "t\n",
      "t\n",
      "t\n",
      "t\n"
     ]
    }
   ],
   "source": [
    "n, m = map(int, input().split())\n",
    "data = {input(): 1 for _ in range(n)}\n",
    "result = sum(data.get(input(), 0) for _ in range(m))\n",
    "print(result)"
   ]
  },
  {
   "cell_type": "markdown",
   "id": "556c109a",
   "metadata": {},
   "source": [
    "### 1764. 듣보잡"
   ]
  },
  {
   "cell_type": "markdown",
   "id": "6f28f007",
   "metadata": {},
   "source": [
    "김진영이 듣도 못한 사람의 명단과, 보도 못한 사람의 명단이 주어질 때, 듣도 보도 못한 사람의 명단을 구하는 프로그램을 작성하시오."
   ]
  },
  {
   "cell_type": "code",
   "execution_count": 8,
   "id": "45f69cbc",
   "metadata": {},
   "outputs": [
    {
     "name": "stdout",
     "output_type": "stream",
     "text": [
      "3 4\n",
      "a\n",
      "b\n",
      "c\n",
      "a\n",
      "b\n",
      "d\n",
      "e\n",
      "2\n",
      "b\n",
      "a\n"
     ]
    }
   ],
   "source": [
    "n, m = map(int, input().split())\n",
    "n_list = [input() for _ in range(n)]\n",
    "m_list = [input() for _ in range(m)]\n",
    "intersection = set(n_list).intersection(set(m_list))\n",
    "\n",
    "print(len(intersection))\n",
    "for string in intersection:\n",
    "    print(string)"
   ]
  },
  {
   "cell_type": "markdown",
   "id": "bd5283a5",
   "metadata": {},
   "source": [
    "### 1269. 대칭 차집합"
   ]
  },
  {
   "cell_type": "markdown",
   "id": "893fc638",
   "metadata": {},
   "source": [
    "자연수를 원소로 갖는 공집합이 아닌 두 집합 A와 B가 있다. 이때, 두 집합의 대칭 차집합의 원소의 개수를 출력하는 프로그램을 작성하시오. 두 집합 A와 B가 있을 때, (A-B)와 (B-A)의 합집합을 A와 B의 대칭 차집합이라고 한다.\n",
    "\n",
    "예를 들어, A = { 1, 2, 4 } 이고, B = { 2, 3, 4, 5, 6 } 라고 할 때,  A-B = { 1 } 이고, B-A = { 3, 5, 6 } 이므로, 대칭 차집합의 원소의 개수는 1 + 3 = 4개이다."
   ]
  },
  {
   "cell_type": "code",
   "execution_count": 12,
   "id": "5635a2e7",
   "metadata": {
    "scrolled": true
   },
   "outputs": [
    {
     "name": "stdout",
     "output_type": "stream",
     "text": [
      "3 5\n",
      "1 2 4\n",
      "2 3 4 5 6\n",
      "4\n"
     ]
    }
   ],
   "source": [
    "n, m = map(int, input().split())\n",
    "set_n = set(map(int, input().split())) \n",
    "set_m = set(map(int, input().split()))\n",
    "print(len(set_n.union(set_m) - set_n.intersection(set_m)))"
   ]
  },
  {
   "cell_type": "markdown",
   "id": "206618c0",
   "metadata": {},
   "source": [
    "### 11478. 서로 다른 부분 문자열의 개수"
   ]
  },
  {
   "cell_type": "code",
   "execution_count": 13,
   "id": "7e1e61e2",
   "metadata": {},
   "outputs": [
    {
     "name": "stdout",
     "output_type": "stream",
     "text": [
      "abcab\n"
     ]
    }
   ],
   "source": [
    "string = input()\n",
    "str_list = []\n",
    "for i in range(1, len(string) + 1):\n",
    "    for j in range(len(string) + 1 - i):\n",
    "        str_list.append(string[j: j+i])\n",
    "print()"
   ]
  },
  {
   "cell_type": "code",
   "execution_count": null,
   "id": "b60e29b4",
   "metadata": {},
   "outputs": [],
   "source": []
  }
 ],
 "metadata": {
  "kernelspec": {
   "display_name": "Python 3 (ipykernel)",
   "language": "python",
   "name": "python3"
  },
  "language_info": {
   "codemirror_mode": {
    "name": "ipython",
    "version": 3
   },
   "file_extension": ".py",
   "mimetype": "text/x-python",
   "name": "python",
   "nbconvert_exporter": "python",
   "pygments_lexer": "ipython3",
   "version": "3.8.10"
  }
 },
 "nbformat": 4,
 "nbformat_minor": 5
}
