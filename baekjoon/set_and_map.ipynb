{
 "cells": [
  {
   "cell_type": "markdown",
   "id": "13546c9e",
   "metadata": {},
   "source": [
    "### 10815. 숫자 카드"
   ]
  },
  {
   "cell_type": "code",
   "execution_count": 4,
   "id": "9e8418b1",
   "metadata": {},
   "outputs": [
    {
     "name": "stdout",
     "output_type": "stream",
     "text": [
      "5\n",
      "6 3 2 10 -10\n",
      "8\n",
      "10 9 -5 2 3 4 5 -10\n",
      "1 0 0 1 1 0 0 1\n"
     ]
    }
   ],
   "source": [
    "n = int(input())\n",
    "nums = list(map(int, input().split()))\n",
    "num_map = {num: '1' for num in nums}\n",
    "\n",
    "m = int(input())\n",
    "prob = list(map(int, input().split()))\n",
    "z\n",
    "result = [num_map.get(num, '0') for num in prob]\n",
    "print(' '.join(result))"
   ]
  },
  {
   "cell_type": "code",
   "execution_count": null,
   "id": "b835b176",
   "metadata": {},
   "outputs": [],
   "source": []
  }
 ],
 "metadata": {
  "kernelspec": {
   "display_name": "Python 3 (ipykernel)",
   "language": "python",
   "name": "python3"
  },
  "language_info": {
   "codemirror_mode": {
    "name": "ipython",
    "version": 3
   },
   "file_extension": ".py",
   "mimetype": "text/x-python",
   "name": "python",
   "nbconvert_exporter": "python",
   "pygments_lexer": "ipython3",
   "version": "3.8.10"
  }
 },
 "nbformat": 4,
 "nbformat_minor": 5
}
