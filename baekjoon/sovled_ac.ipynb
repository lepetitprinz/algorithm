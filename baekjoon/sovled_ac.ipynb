{
 "cells": [
  {
   "cell_type": "code",
   "execution_count": 12,
   "id": "ae79ce60",
   "metadata": {},
   "outputs": [
    {
     "name": "stdout",
     "output_type": "stream",
     "text": [
      "18\n",
      "4\n"
     ]
    }
   ],
   "source": [
    "n = int(input())\n",
    "\n",
    "a = n // 5\n",
    "b = n // 3\n",
    "case = set()\n",
    "for i in range(a+1):\n",
    "    for j in range(b+1):\n",
    "        if (5*i) + (3*j) == n:\n",
    "            case.add(i+j)\n",
    "if len(case) == 0:\n",
    "    print(-1)\n",
    "else:\n",
    "    case_sorted = sorted(case)\n",
    "    print(case_sorted[0])"
   ]
  },
  {
   "cell_type": "code",
   "execution_count": 17,
   "id": "6ea8575e",
   "metadata": {},
   "outputs": [
    {
     "name": "stdout",
     "output_type": "stream",
     "text": [
      "4\n",
      "1 3 5 7\n",
      "3\n"
     ]
    }
   ],
   "source": [
    "import math\n",
    "\n",
    "def prime_check(x):\n",
    "    if x == 1:\n",
    "        return False\n",
    "    for i in range(2, int(math.sqrt(x))+1):\n",
    "    \tif x % i == 0:\n",
    "        \treturn False\n",
    "    return True\n",
    "\n",
    "n = int(input())\n",
    "nums = list(map(int, input().split()))\n",
    "\n",
    "prime_cnt = 0\n",
    "for num in nums:\n",
    "    if prime_check(num):\n",
    "        prime_cnt += 1\n",
    "        \n",
    "print(prime_cnt)"
   ]
  },
  {
   "cell_type": "code",
   "execution_count": 10,
   "id": "7209de85",
   "metadata": {},
   "outputs": [],
   "source": [
    "def solution(n: int):\n",
    "    a = n//5\n",
    "\n",
    "    for i in range(a, 0, -1):\n",
    "        cnt = 0\n",
    "        sum = 5 * i\n",
    "        while sum <= n:\n",
    "            if sum == n:\n",
    "                return i + cnt\n",
    "            else:\n",
    "                cnt += 1\n",
    "                sum += 3"
   ]
  },
  {
   "cell_type": "code",
   "execution_count": 11,
   "outputs": [
    {
     "data": {
      "text/plain": "4"
     },
     "execution_count": 11,
     "metadata": {},
     "output_type": "execute_result"
    }
   ],
   "source": [
    "solution(18)"
   ],
   "metadata": {
    "collapsed": false,
    "pycharm": {
     "name": "#%%\n"
    }
   }
  },
  {
   "cell_type": "code",
   "execution_count": 14,
   "outputs": [
    {
     "name": "stdout",
     "output_type": "stream",
     "text": [
      "1 -1\n",
      "1 2\n",
      "2 2\n",
      "3 3\n",
      "0 4\n"
     ]
    }
   ],
   "source": [
    "n = int(input())\n",
    "\n",
    "data = []\n",
    "for _ in range(n):\n",
    "    data.append(list(map(int, input().split())))\n",
    "\n",
    "data_sorted = sorted(data, key=lambda x: x[1])\n",
    "\n",
    "for x, y in data_sorted:\n",
    "    print(str(x) + ' ' + str(y))"
   ],
   "metadata": {
    "collapsed": false,
    "pycharm": {
     "name": "#%%\n"
    }
   }
  },
  {
   "cell_type": "code",
   "execution_count": 15,
   "outputs": [
    {
     "data": {
      "text/plain": "[1, 2]"
     },
     "execution_count": 15,
     "metadata": {},
     "output_type": "execute_result"
    }
   ],
   "source": [
    "test = [1,2,3]\n",
    "test.pop()\n",
    "test"
   ],
   "metadata": {
    "collapsed": false,
    "pycharm": {
     "name": "#%%\n"
    }
   }
  },
  {
   "cell_type": "code",
   "execution_count": null,
   "outputs": [],
   "source": [],
   "metadata": {
    "collapsed": false,
    "pycharm": {
     "name": "#%%\n"
    }
   }
  }
 ],
 "metadata": {
  "kernelspec": {
   "display_name": "Python 3 (ipykernel)",
   "language": "python",
   "name": "python3"
  },
  "language_info": {
   "codemirror_mode": {
    "name": "ipython",
    "version": 3
   },
   "file_extension": ".py",
   "mimetype": "text/x-python",
   "name": "python",
   "nbconvert_exporter": "python",
   "pygments_lexer": "ipython3",
   "version": "3.8.10"
  }
 },
 "nbformat": 4,
 "nbformat_minor": 5
}