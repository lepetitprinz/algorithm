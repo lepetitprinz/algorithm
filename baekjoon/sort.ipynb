{
 "cells": [
  {
   "cell_type": "markdown",
   "id": "6d34d378",
   "metadata": {},
   "source": [
    "### 2750. 수 정렬하기"
   ]
  },
  {
   "cell_type": "markdown",
   "id": "7e3706f7",
   "metadata": {},
   "source": [
    "N개의 수가 주어졌을 때, 이를 오름차순으로 정렬하는 프로그램을 작성하시오."
   ]
  },
  {
   "cell_type": "code",
   "execution_count": 5,
   "id": "a44bdd24",
   "metadata": {},
   "outputs": [
    {
     "name": "stdout",
     "output_type": "stream",
     "text": [
      "5\n",
      "1\n",
      "4\n",
      "7\n",
      "3\n",
      "45\n",
      "1\n",
      "4\n",
      "7\n",
      "3\n",
      "45\n"
     ]
    }
   ],
   "source": [
    "n = int(input())\n",
    "nums = [int(input()) for _ in range(n)]\n",
    "nums_sorted = sorted(nums)\n",
    "for num in nums:\n",
    "    print(num)"
   ]
  },
  {
   "cell_type": "markdown",
   "id": "26171ba0",
   "metadata": {},
   "source": [
    "### 1427. 소트인사이드"
   ]
  },
  {
   "cell_type": "markdown",
   "id": "4e735275",
   "metadata": {},
   "source": [
    "배열을 정렬하는 것은 쉽다. 수가 주어지면, 그 수의 각 자리수를 내림차순으로 정렬해보자"
   ]
  },
  {
   "cell_type": "code",
   "execution_count": 9,
   "id": "1608a12e",
   "metadata": {},
   "outputs": [
    {
     "name": "stdout",
     "output_type": "stream",
     "text": [
      "1209823\n",
      "9832210\n"
     ]
    }
   ],
   "source": [
    "n = input()\n",
    "result = ''.join(sorted(list(n), reverse=True))\n",
    "print(result)"
   ]
  },
  {
   "cell_type": "markdown",
   "id": "e3e4b8dc",
   "metadata": {},
   "source": [
    "### 좌표 압축"
   ]
  },
  {
   "cell_type": "markdown",
   "id": "da518754",
   "metadata": {},
   "source": [
    "수직선 위에 N개의 좌표 X1, X2, ..., XN이 있다. 이 좌표에 좌표 압축을 적용하려고 한다.\n",
    "\n",
    "Xi를 좌표 압축한 결과 X'i의 값은 Xi > Xj를 만족하는 서로 다른 좌표의 개수와 같아야 한다.\n",
    "\n",
    "X1, X2, ..., XN에 좌표 압축을 적용한 결과 X'1, X'2, ..., X'N를 출력해보자."
   ]
  },
  {
   "cell_type": "code",
   "execution_count": 17,
   "id": "b3a7534a",
   "metadata": {},
   "outputs": [
    {
     "name": "stdout",
     "output_type": "stream",
     "text": [
      "5\n",
      "2 4 -10 4 -9\n",
      "2 3 0 3 1\n"
     ]
    }
   ],
   "source": [
    "n = int(input())\n",
    "nums = list(map(int, input().split()))\n",
    "sort_map = {num: i for i, num in enumerate(sorted(list(set(nums))))}\n",
    "print(' '.join([str(sort_map[num]) for num in nums]))"
   ]
  },
  {
   "cell_type": "code",
   "execution_count": 14,
   "id": "59cb46a4",
   "metadata": {},
   "outputs": [
    {
     "data": {
      "text/plain": [
       "{-10: 0, -9: 1, 2: 2, 4: 3}"
      ]
     },
     "execution_count": 14,
     "metadata": {},
     "output_type": "execute_result"
    }
   ],
   "source": [
    "sort_map"
   ]
  }
 ],
 "metadata": {
  "kernelspec": {
   "display_name": "Python 3 (ipykernel)",
   "language": "python",
   "name": "python3"
  },
  "language_info": {
   "codemirror_mode": {
    "name": "ipython",
    "version": 3
   },
   "file_extension": ".py",
   "mimetype": "text/x-python",
   "name": "python",
   "nbconvert_exporter": "python",
   "pygments_lexer": "ipython3",
   "version": "3.8.10"
  }
 },
 "nbformat": 4,
 "nbformat_minor": 5
}
