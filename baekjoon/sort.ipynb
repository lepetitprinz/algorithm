{
 "cells": [
  {
   "cell_type": "markdown",
   "id": "6d34d378",
   "metadata": {},
   "source": [
    "### 2750. 수 정렬하기"
   ]
  },
  {
   "cell_type": "code",
   "execution_count": null,
   "id": "a44bdd24",
   "metadata": {},
   "outputs": [],
   "source": [
    "n = int(input())\n",
    "nums = [int(input()) for _ in range(n)]\n",
    "nums_sorted = sorted(nums)\n",
    "for num in nums:\n",
    "    print(num)"
   ]
  },
  {
   "cell_type": "markdown",
   "id": "26171ba0",
   "metadata": {},
   "source": [
    "### 1427. 소트인사이드"
   ]
  },
  {
   "cell_type": "code",
   "execution_count": null,
   "id": "1608a12e",
   "metadata": {},
   "outputs": [],
   "source": [
    "n = input()\n",
    "result = ''.join(sorted(list(n), reverse=True))\n",
    "print(result)"
   ]
  },
  {
   "cell_type": "markdown",
   "id": "e3e4b8dc",
   "metadata": {},
   "source": [
    "### 좌표 압축"
   ]
  },
  {
   "cell_type": "code",
   "execution_count": null,
   "id": "b3a7534a",
   "metadata": {},
   "outputs": [],
   "source": [
    "n = int(input())\n",
    "nums = list(map(int, input().split()))\n",
    "sort_map = {num: i for i, num in enumerate(sorted(list(set(nums))))}\n",
    "print(' '.join([str(sort_map[num]) for num in nums]))"
   ]
  },
  {
   "cell_type": "markdown",
   "id": "e946c25b",
   "metadata": {},
   "source": [
    "#### 1015. 수열 정렬"
   ]
  },
  {
   "cell_type": "code",
   "execution_count": null,
   "id": "aaf9c5c9",
   "metadata": {},
   "outputs": [],
   "source": [
    "n = int(input())\n",
    "nums = list(map(int, input().split()))\n",
    "\n",
    "num_map = {}\n",
    "for i, num in enumerate(nums):\n",
    "    if num in num_map:\n",
    "        num_map[num].append(i)\n",
    "    else:\n",
    "        num_map[num] = [i]\n",
    "num_map = sorted(num_map.items(), key=lambda x: x[0])\n",
    "        \n",
    "result = [0] * n\n",
    "temp = 0\n",
    "for k, nums in num_map:\n",
    "    for num in nums:\n",
    "        result[num] = temp\n",
    "        temp += 1\n",
    "\n",
    "print(*result)"
   ]
  },
  {
   "cell_type": "markdown",
   "id": "f28019a5",
   "metadata": {},
   "source": [
    "#### 2309. 일곱 난쟁이"
   ]
  },
  {
   "cell_type": "code",
   "execution_count": null,
   "id": "099977c0",
   "metadata": {},
   "outputs": [],
   "source": [
    "from itertools import combinations\n",
    "\n",
    "data = []\n",
    "for _ in range(9):\n",
    "    data.append(int(input()))\n",
    "    \n",
    "result = []\n",
    "for c in combinations(data, 7):\n",
    "    if sum(c) == 100:\n",
    "        result = c\n",
    "        break\n",
    "\n",
    "result = sorted(result)\n",
    "for num in result:\n",
    "    print(num)"
   ]
  },
  {
   "cell_type": "markdown",
   "id": "19433387",
   "metadata": {},
   "source": [
    "#### 8979. 올림픽"
   ]
  },
  {
   "cell_type": "code",
   "execution_count": null,
   "id": "594c2596",
   "metadata": {},
   "outputs": [],
   "source": [
    "n, k = map(int, input().split())\n",
    "data = [list(map(int, input().split())) for _ in range(n)]\n",
    "data = sorted(data, key=lambda x: (-x[1], -x[2], -x[3]))\n",
    "\n",
    "result = 0\n",
    "rank = 1\n",
    "p, prev = data[0][0], data[0][1:]\n",
    "if p == k:\n",
    "    result = rank\n",
    "else:\n",
    "    for i, row in enumerate(data[1:]):\n",
    "        if row[1:] != prev:\n",
    "            rank = i + 2\n",
    "            prev = row[1:]\n",
    "\n",
    "        if row[0] == k:\n",
    "            break\n",
    "\n",
    "print(rank)"
   ]
  },
  {
   "cell_type": "markdown",
   "id": "49dfc3bd",
   "metadata": {},
   "source": [
    "#### 5800. 성적 통계"
   ]
  },
  {
   "cell_type": "code",
   "execution_count": null,
   "id": "867f4464",
   "metadata": {},
   "outputs": [],
   "source": [
    "n = int(input())\n",
    "for i in range(1, n+1):\n",
    "    data = list(map(int, input().split()))\n",
    "    k = data[0]\n",
    "    scores = sorted(data[1:])\n",
    "    max_score = max(scores)\n",
    "    min_score = min(scores)\n",
    "    gap = 0\n",
    "    for j in range(k-1):\n",
    "        temp = scores[j+1] - scores[j]\n",
    "        if temp > gap:\n",
    "            gap = temp\n",
    "    print(f'Class {i}')\n",
    "    print(f'Max {max_score}, Min {min_score}, Largest gap {gap}')"
   ]
  },
  {
   "cell_type": "markdown",
   "id": "dcc45158",
   "metadata": {},
   "source": [
    "#### 6996. 애너그램"
   ]
  },
  {
   "cell_type": "code",
   "execution_count": null,
   "id": "1e9bee67",
   "metadata": {},
   "outputs": [],
   "source": [
    "n = int(input())\n",
    "for _ in range(n):\n",
    "    a, b = input().split()\n",
    "    result = 'NOT anagrams'\n",
    "    if sorted(a) == sorted(b):\n",
    "        result = 'anagrams'\n",
    "    print(f'{a} & {b} are {result}.')"
   ]
  },
  {
   "cell_type": "markdown",
   "id": "7fe7fd74",
   "metadata": {},
   "source": [
    "#### 21600. 계단"
   ]
  },
  {
   "cell_type": "code",
   "execution_count": null,
   "id": "81c0b27a",
   "metadata": {},
   "outputs": [],
   "source": [
    "n = int(input())\n",
    "stairs = list(map(int, input().split()))\n",
    "\n",
    "max_stair = 0\n",
    "curr_stair = 0\n",
    "for stair in stairs:\n",
    "    if stair > curr_stair:\n",
    "        curr_stair += 1\n",
    "        max_stair = max(max_stair, curr_stair)\n",
    "    else:\n",
    "        curr_stair = stair\n",
    "\n",
    "print(max_stair)"
   ]
  },
  {
   "cell_type": "markdown",
   "id": "7d70b6a5",
   "metadata": {},
   "source": [
    "#### 25305. 커트라인"
   ]
  },
  {
   "cell_type": "code",
   "execution_count": null,
   "id": "4cfef176",
   "metadata": {},
   "outputs": [],
   "source": [
    "n, k = map(int, input().split())\n",
    "grades = sorted(list(map(int, input().split())), reverse=True)\n",
    "print(grades[k-1])"
   ]
  },
  {
   "cell_type": "markdown",
   "id": "898455ad",
   "metadata": {},
   "source": [
    "#### 6159. 코스튬 파티"
   ]
  },
  {
   "cell_type": "code",
   "execution_count": null,
   "id": "af9c1b1f",
   "metadata": {
    "scrolled": true
   },
   "outputs": [],
   "source": [
    "n, s = map(int, input().split())\n",
    "data = sorted([int(input()) for _ in range(n)], reverse=True)\n",
    "\n",
    "count = 0\n",
    "for i, cow1 in enumerate(data):\n",
    "    for j, cow2 in enumerate(data[i+1:]):\n",
    "        gap = s - cow1\n",
    "        if gap > 0:\n",
    "            if cow2 <= gap:\n",
    "                print(n - j - 1)\n",
    "                count += n - j\n",
    "                break\n",
    "\n",
    "print(count)"
   ]
  },
  {
   "cell_type": "markdown",
   "id": "5ba4a367",
   "metadata": {},
   "source": [
    "#### 18310. 안테나"
   ]
  },
  {
   "cell_type": "code",
   "execution_count": null,
   "id": "f9475be5",
   "metadata": {},
   "outputs": [],
   "source": [
    "from math import floor\n",
    "\n",
    "def median(data, n):\n",
    "    middle = n // 2\n",
    "    if n % 2 == 1:\n",
    "        median = data[middle]\n",
    "    else:\n",
    "        median = (data[middle] + data[middle -1]) / 2\n",
    "    \n",
    "    return median\n",
    "\n",
    "n = int(input())\n",
    "data = sorted(list(map(int, input().split())))\n",
    "avg = median(data, n)\n",
    "\n",
    "if n <= 2:\n",
    "    print(data[0])\n",
    "else:\n",
    "    diff = 200000 \n",
    "    idx = n // 2\n",
    "    i = 0\n",
    "    result = -1\n",
    "    while abs(data[idx - i] - avg) <= diff:\n",
    "        diff = abs(data[idx - i] - avg)\n",
    "        result = data[idx - i]\n",
    "        i += 1\n",
    "\n",
    "    i = 0    \n",
    "    while abs(data[idx + 1] - avg) < diff:\n",
    "        diff = abs(data[idx + i] - avg)\n",
    "        result = data[idx + i]\n",
    "        i += 1\n",
    "\n",
    "    print(result)"
   ]
  },
  {
   "cell_type": "markdown",
   "id": "e0295ef9",
   "metadata": {},
   "source": [
    "#### 7507. 올림픽 게임"
   ]
  },
  {
   "cell_type": "code",
   "execution_count": null,
   "id": "fbc692a1",
   "metadata": {},
   "outputs": [],
   "source": [
    "def sort_times_on_day(day_time):\n",
    "    day_time_sort = {}\n",
    "    for day, times in day_time.items():\n",
    "        times = sorted(times, key=lambda x: (x[1], x[0]))\n",
    "        day_time_sort[day] = times\n",
    "\n",
    "    return day_time_sort\n",
    "\n",
    "test = int(input())\n",
    "for t in range(1, test + 1):\n",
    "    n = int(input())\n",
    "    day_time = {}\n",
    "    for _ in range(n):\n",
    "        d, s, e = map(int, input().split())\n",
    "        if d in day_time:\n",
    "            day_time[d].append([s, e])\n",
    "        else:\n",
    "            day_time[d] = [[s, e]]\n",
    "\n",
    "    day_time_sort = sort_times_on_day(day_time)\n",
    "    tot_count = 0\n",
    "    for day, times in day_time_sort.items():\n",
    "        count = 1\n",
    "        end = times[0][1]\n",
    "        for s, e in times[1:]:\n",
    "            if s >= end:\n",
    "                count += 1\n",
    "                end = s\n",
    "        tot_count += count\n",
    "\n",
    "    print(f'Scenario #{t}:')\n",
    "    print(tot_count)\n",
    "    if t != test:\n",
    "        print('')"
   ]
  },
  {
   "cell_type": "markdown",
   "id": "4dda2da7",
   "metadata": {},
   "source": [
    "#### 7795. 먹을 것인가 먹힐 것인가"
   ]
  },
  {
   "cell_type": "code",
   "execution_count": null,
   "id": "aeb87c20",
   "metadata": {
    "scrolled": false
   },
   "outputs": [],
   "source": [
    "test = int(input())\n",
    "for _ in range(test):\n",
    "    n, m = map(int, input().split())\n",
    "    n_list = sorted(list(map(int, input().split())), reverse=True)\n",
    "    m_list = sorted(list(map(int, input().split())), reverse=True)\n",
    "    \n",
    "    count = 0\n",
    "    for a in n_list:\n",
    "        for i, b in enumerate(m_list):\n",
    "            if a > b:\n",
    "                count += m - i \n",
    "                break\n",
    "    print(count)"
   ]
  },
  {
   "cell_type": "markdown",
   "id": "8ffee55a",
   "metadata": {},
   "source": [
    "#### 9196. 정수 직사각형"
   ]
  },
  {
   "cell_type": "code",
   "execution_count": 1,
   "id": "0b064192",
   "metadata": {
    "collapsed": true
   },
   "outputs": [
    {
     "name": "stdout",
     "output_type": "stream",
     "text": [
      "1 2\n",
      "1 3\n",
      "1 3\n",
      "2 3\n",
      "2 3\n",
      "1 4\n",
      "1 4\n",
      "2 4\n",
      "5 6\n",
      "1 8\n",
      "1 8\n",
      "4 7\n",
      "98 100\n",
      "3 140\n",
      "99 100\n",
      "89 109\n",
      "4 7\n",
      "2 8\n",
      "0 0\n"
     ]
    }
   ],
   "source": [
    "def search_next_rectangle(h, w):\n",
    "    diagonal = h ** 2 + w ** 2\n",
    "    result = search_same_length(w, diagonal)\n",
    "    if not result:\n",
    "        result = search_larger_rectangle(diagonal)\n",
    "\n",
    "    return result\n",
    "\n",
    "\n",
    "def search_same_length(w, diagonal):\n",
    "    for i in range(1, w):\n",
    "        for j in range(1, w):\n",
    "            if i < j:\n",
    "                length = i ** 2 + j ** 2\n",
    "                if length == diagonal:\n",
    "                    return i, j\n",
    "                elif length > diagonal:\n",
    "                    break\n",
    "\n",
    "    return False\n",
    "\n",
    "\n",
    "def search_larger_rectangle(diagonal):\n",
    "    while True:\n",
    "        diagonal += 1\n",
    "        max_val = int(diagonal ** 0.5) + 2\n",
    "        for i in range(1, max_val):\n",
    "            for j in range(1, max_val):\n",
    "                if i < j:\n",
    "                    length = i ** 2 + j ** 2\n",
    "                    if length == diagonal:\n",
    "                        return i, j\n",
    "                    elif length > diagonal:\n",
    "                        break\n",
    "\n",
    "\n",
    "while True:\n",
    "    h, w = map(int, input().split())\n",
    "    if h == 0 and w == 0:\n",
    "        break\n",
    "    else:\n",
    "        result = search_next_rectangle(h, w)\n",
    "        print(*result)"
   ]
  },
  {
   "cell_type": "code",
   "execution_count": null,
   "id": "e72b269c",
   "metadata": {},
   "outputs": [],
   "source": []
  }
 ],
 "metadata": {
  "kernelspec": {
   "display_name": "Python 3 (ipykernel)",
   "language": "python",
   "name": "python3"
  },
  "language_info": {
   "codemirror_mode": {
    "name": "ipython",
    "version": 3
   },
   "file_extension": ".py",
   "mimetype": "text/x-python",
   "name": "python",
   "nbconvert_exporter": "python",
   "pygments_lexer": "ipython3",
   "version": "3.8.10"
  }
 },
 "nbformat": 4,
 "nbformat_minor": 5
}
