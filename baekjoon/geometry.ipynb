{
 "cells": [
  {
   "cell_type": "code",
   "execution_count": null,
   "id": "bb04b49d",
   "metadata": {},
   "outputs": [],
   "source": [
    "from collections import Counter\n",
    "\n",
    "x1, y1 = map(int, input().split())\n",
    "x2, y2 = map(int, input().split())\n",
    "x3, y3 = map(int, input().split())\n",
    "x = dict(Counter([x1, x2, x3]))\n",
    "y = dict(Counter([y1, y2, y3]))\n",
    "\n",
    "for k, v in x.items():\n",
    "    if v == 1:\n",
    "        r_x = k\n",
    "for k, v in y.items():\n",
    "    if v == 1:\n",
    "        r_y = k\n",
    "\n",
    "print(r_x, r_y)"
   ]
  },
  {
   "cell_type": "code",
   "execution_count": null,
   "id": "cfb8e5a3",
   "metadata": {},
   "outputs": [],
   "source": [
    "dict(x)"
   ]
  },
  {
   "cell_type": "markdown",
   "id": "1bf11ad0",
   "metadata": {},
   "source": [
    "### 1004. 어린 왕자"
   ]
  },
  {
   "cell_type": "code",
   "execution_count": null,
   "id": "2f01b1b4",
   "metadata": {},
   "outputs": [],
   "source": [
    "from math import sqrt"
   ]
  },
  {
   "cell_type": "code",
   "execution_count": null,
   "id": "d83aa8b0",
   "metadata": {
    "scrolled": true
   },
   "outputs": [],
   "source": [
    "def distance(p1, p2):\n",
    "    return sqrt((p1[0] - p2[0])**2 + (p1[1] - p2[1])** 2)\n",
    "\n",
    "test = int(input())\n",
    "for _ in range(test):\n",
    "    result = 0\n",
    "    x1, y1, x2, y2 = map(int, input().split())\n",
    "    n_circle = int(input())\n",
    "    for _ in range(n_circle):\n",
    "        cx, cy, r = map(int, input().split())\n",
    "        d1 = distance(p1=(x1,y1), p2=(cx, cy))\n",
    "        d2 = distance(p1=(x2,y2), p2=(cx, cy))\n",
    "        \n",
    "        if (d1 < r) and (d2 < r):\n",
    "            continue\n",
    "        elif (d1 < r) or (d2 < r):\n",
    "            result += 1\n",
    "    print(result)"
   ]
  },
  {
   "cell_type": "markdown",
   "id": "97e8cd43",
   "metadata": {},
   "source": [
    "### 2477. 참외밭"
   ]
  },
  {
   "cell_type": "code",
   "execution_count": 2,
   "id": "a6732b1c",
   "metadata": {},
   "outputs": [
    {
     "name": "stdout",
     "output_type": "stream",
     "text": [
      "7\n",
      "4 50\n",
      "2 160\n",
      "3 30\n",
      "1 60\n",
      "3 20\n",
      "1 100\n",
      "47600\n"
     ]
    }
   ],
   "source": [
    "from collections import Counter\n",
    "key = {(1, 4): 3, (2, 3): 4, (1, 3): 2,(2, 4): 1}\n",
    "\n",
    "multiple = int(input())\n",
    "direction = []\n",
    "length = []\n",
    "d_l_map = {}\n",
    "for _ in range(6):\n",
    "    d, l = map(int, input().split())\n",
    "    direction.append(d)\n",
    "    length.append(l)\n",
    "    d_l_map[d] = l\n",
    "\n",
    "cnt = Counter(direction)\n",
    "angle = sorted([k for k, v in cnt.most_common(2)])\n",
    "\n",
    "start = key[tuple(angle)]\n",
    "start_idx = direction.index(start)\n",
    "if start_idx + 2 < 6:\n",
    "    angle_idx1 = start_idx + 2\n",
    "else:\n",
    "    angle_idx1 = start_idx - 4\n",
    "\n",
    "if angle_idx1 + 1 < 6:\n",
    "    angle_idx2 = angle_idx1 + 1\n",
    "else:\n",
    "    angle_idx2 = angle_idx1 - 5\n",
    "    \n",
    "entire_length = [d_l_map[val] for val in direction if val not in angle]\n",
    "entire_size = entire_length[0] * entire_length[1]\n",
    "angle_size = length[angle_idx1] * length[angle_idx2]\n",
    "\n",
    "print(multiple * (entire_size - angle_size))"
   ]
  },
  {
   "cell_type": "code",
   "execution_count": null,
   "id": "adf90939",
   "metadata": {},
   "outputs": [],
   "source": [
    "4 50\n",
    "2 160\n",
    "3 30\n",
    "1 60\n",
    "3 20\n",
    "1 100"
   ]
  },
  {
   "cell_type": "markdown",
   "id": "dc4c27d0",
   "metadata": {},
   "source": [
    "#### 5073 삼각형과 세 변"
   ]
  },
  {
   "cell_type": "code",
   "execution_count": 2,
   "id": "fa3b579d",
   "metadata": {
    "scrolled": false
   },
   "outputs": [
    {
     "name": "stdout",
     "output_type": "stream",
     "text": [
      "7 7 7\n",
      "Equilateral\n",
      "6 5 4\n",
      "Scalene\n",
      "3 2 5\n",
      "Invalid\n",
      "6 2 6\n",
      "Isosceles\n",
      "0 0 0\n"
     ]
    }
   ],
   "source": [
    "while True:\n",
    "    length = sorted(list(map(int, input().split())))\n",
    "    if length == [0,0,0]:\n",
    "        break\n",
    "    s = set(length)\n",
    "    l = len(s)\n",
    "    if length[2] >= length[0] + length[1]:\n",
    "        print('Invalid')\n",
    "    elif l == 1:\n",
    "        print('Equilateral')\n",
    "    elif l == 2:\n",
    "        print('Isosceles')\n",
    "    else:\n",
    "        print('Scalene')"
   ]
  },
  {
   "cell_type": "markdown",
   "id": "3e2be827",
   "metadata": {},
   "source": [
    "#### 2121, 넷이 놀기"
   ]
  },
  {
   "cell_type": "code",
   "execution_count": 13,
   "id": "4441f5dc",
   "metadata": {},
   "outputs": [
    {
     "name": "stdout",
     "output_type": "stream",
     "text": [
      "6\n",
      "2 3\n",
      "0 0 \n",
      "2 0 \n",
      "2 3\n",
      "0 3\n",
      "4 0\n",
      "4 3\n",
      "2\n"
     ]
    }
   ],
   "source": [
    "n = int(input())\n",
    "a, b = map(int, input().split())\n",
    "data = {}\n",
    "for _ in range(n):\n",
    "    data[tuple(map(int, input().split()))] = 1\n",
    "\n",
    "cnt = 0\n",
    "for x, y in data:\n",
    "    if data.get((x + a, y), 0) & data.get((x, y + b), 0) & data.get((x + a, y + b), 0):\n",
    "        cnt += 1\n",
    "\n",
    "print(cnt)"
   ]
  },
  {
   "cell_type": "markdown",
   "id": "975f8ed4",
   "metadata": {},
   "source": [
    "#### 1064. 평행사변형"
   ]
  },
  {
   "cell_type": "code",
   "execution_count": 6,
   "id": "4e8640ab",
   "metadata": {},
   "outputs": [
    {
     "name": "stdout",
     "output_type": "stream",
     "text": [
      "2 -1 -7 2 -1 0\n",
      "-1\n"
     ]
    }
   ],
   "source": [
    "from math import sqrt\n",
    "\n",
    "def calc_length(p1, p2):\n",
    "    return sqrt( (p1[0] - p2[0])**2 + (p1[1] - p2[1])**2)\n",
    "\n",
    "def compare(x1, y1, x2, y2, x3, y3):\n",
    "    p1 = (x1, y1)\n",
    "    p2 = (x2, y2)\n",
    "    p3 = (x3, y3)\n",
    "    l1 = calc_length(p1, p2)\n",
    "    l2 = calc_length(p2 ,p3)\n",
    "    l3 = calc_length(p1, p3)\n",
    "    result = (max(l1, l2, l3) - min(l1, l2, l3)) * 2\n",
    "    \n",
    "    return result\n",
    "\n",
    "x1, y1, x2, y2, x3, y3 = map(int, input().split())\n",
    "if (x1 == x2 == x3) or (y1 == y2 == y3):\n",
    "    result = -1\n",
    "elif (x1 != x2) & (x2 != x3):\n",
    "    if (y3-y2) / (x3-x2) == (y2-y1) / (x2-x1):\n",
    "        result = -1\n",
    "    else:\n",
    "        result = compare(x1, y1, x2, y2, x3, y3)\n",
    "else:\n",
    "    result = compare(x1, y1, x2, y2, x3, y3)\n",
    "    \n",
    "print(result)"
   ]
  },
  {
   "cell_type": "code",
   "execution_count": 15,
   "id": "96779d0e",
   "metadata": {
    "collapsed": true
   },
   "outputs": [
    {
     "name": "stdout",
     "output_type": "stream",
     "text": [
      "1 1\n",
      "5 5\n",
      "7 3\n",
      "-1\n"
     ]
    }
   ],
   "source": [
    "x1, y1 = map(int, input().split())\n",
    "x2, y2 = map(int, input().split())\n",
    "x3, y3 = map(int, input().split())\n",
    "\n",
    "d1 = x1*y2 + x2*y3 + x3*y1\n",
    "d2 = x2*y1 + x3*y2 + x1*y3\n",
    "\n",
    "result = d1 - d2\n",
    "if result > 0:\n",
    "    print(1)\n",
    "elif result == 0:\n",
    "    print(0)\n",
    "else:\n",
    "    print(-1)"
   ]
  },
  {
   "cell_type": "markdown",
   "id": "f1badc1d",
   "metadata": {},
   "source": [
    "#### 15803. PLAYERJINAH’S BOTTLEGROUNDS"
   ]
  },
  {
   "cell_type": "code",
   "execution_count": 1,
   "id": "b7b55528",
   "metadata": {},
   "outputs": [
    {
     "name": "stdout",
     "output_type": "stream",
     "text": [
      "12 10\n",
      "24 20\n",
      "36 30\n",
      "WHERE IS MY CHICKEN?\n"
     ]
    }
   ],
   "source": [
    "x1, y1 = map(int, input().split())\n",
    "x2, y2 = map(int, input().split())\n",
    "x3, y3 = map(int, input().split())\n",
    "\n",
    "if x1 == x2:\n",
    "    inclination1 = 'inf'\n",
    "else:\n",
    "    inclination1 = (y2 - y1) / (x2 - x1)\n",
    "if x2 == x3:\n",
    "    inclination2 = 'inf'\n",
    "else:\n",
    "    inclination2 = (y3 - y2) / (x3 - x2)\n",
    "    \n",
    "if inclination1 == inclination2:\n",
    "    print('WHERE IS MY CHICKEN?')\n",
    "else:\n",
    "    print('WINNER WINNER CHICKEN DINNER!')"
   ]
  },
  {
   "cell_type": "markdown",
   "id": "256a82c6",
   "metadata": {},
   "source": [
    "#### 10216. Count Circle Groups"
   ]
  },
  {
   "cell_type": "code",
   "execution_count": null,
   "id": "5d0fa3a4",
   "metadata": {},
   "outputs": [],
   "source": [
    "t = int(input())\n",
    "for _ in range(t):\n",
    "    n = int(input())\n",
    "    "
   ]
  },
  {
   "cell_type": "markdown",
   "id": "78771a99",
   "metadata": {},
   "source": [
    "#### 13411. 하늘에서 정의가 빗발친다!"
   ]
  },
  {
   "cell_type": "code",
   "execution_count": 1,
   "id": "0d81a6e5",
   "metadata": {},
   "outputs": [
    {
     "name": "stdout",
     "output_type": "stream",
     "text": [
      "4\n",
      "3 3 1\n",
      "-3 2 3\n",
      "-3 -3 1\n",
      "4 -4 4\n",
      "2\n",
      "4\n",
      "1\n",
      "3\n"
     ]
    }
   ],
   "source": [
    "from math import sqrt\n",
    "\n",
    "def calc_duration(x, y, v):\n",
    "    return sqrt(x**2 + y**2) / v\n",
    "    \n",
    "n = int(input())\n",
    "\n",
    "result = []\n",
    "for i in range(1, n+1):\n",
    "    x, y, v = map(int, input().split())\n",
    "    duration = calc_duration(x, y, v)\n",
    "    result.append([i, duration])\n",
    "    \n",
    "result = sorted(result, key=lambda x: (x[1], x[0]))\n",
    "result = [num for num, sec in result]\n",
    "print(*result, sep='\\n')"
   ]
  },
  {
   "cell_type": "markdown",
   "id": "8190ab7b",
   "metadata": {},
   "source": [
    "#### 2022. 사다리"
   ]
  },
  {
   "cell_type": "code",
   "execution_count": 7,
   "id": "65487538",
   "metadata": {},
   "outputs": [
    {
     "name": "stdout",
     "output_type": "stream",
     "text": [
      "10 10 1\n",
      "9.797958731651306\n"
     ]
    }
   ],
   "source": [
    "def calculate(x, y, w):\n",
    "    h1 = (x**2 - w**2) ** 0.5\n",
    "    h2 = (y**2 - w**2) ** 0.5\n",
    "    \n",
    "    return h1 * h2 / (h1 + h2)\n",
    "\n",
    "x, y, c = map(float, input().split())\n",
    "start = 0\n",
    "end = min(x, y)\n",
    "width = 0\n",
    "while end - start > 0.000001:\n",
    "    middle = (start + end) / 2\n",
    "    if calculate(x, y, middle) >= c:\n",
    "        start = middle\n",
    "        width = middle\n",
    "    else:\n",
    "        end = middle\n",
    "        \n",
    "print(width)    "
   ]
  },
  {
   "cell_type": "markdown",
   "id": "5924977e",
   "metadata": {},
   "source": [
    "#### TV 크기"
   ]
  },
  {
   "cell_type": "code",
   "execution_count": 5,
   "id": "77af9590",
   "metadata": {},
   "outputs": [
    {
     "name": "stdout",
     "output_type": "stream",
     "text": [
      "13 7 10\n",
      "7 10\n"
     ]
    }
   ],
   "source": [
    "from math import floor\n",
    "\n",
    "d, h, w = map(int, input().split())\n",
    "solve = (d**2 / (h**2 + w**2)) ** 0.5\n",
    "s_h = floor(h * solve)\n",
    "s_w = floor(w * solve)\n",
    "print(f'{s_h} {s_w}')"
   ]
  },
  {
   "cell_type": "markdown",
   "id": "eb7c7ec8",
   "metadata": {},
   "source": [
    "#### 25558. 내비게이션"
   ]
  },
  {
   "cell_type": "code",
   "execution_count": null,
   "id": "02f5b72e",
   "metadata": {},
   "outputs": [],
   "source": [
    "def calc_distance(points):\n",
    "    distance = 0\n",
    "    for i in range(len(points) - 1):\n",
    "        distance += manhatten_distance(points[i], points[i +1])\n",
    "    \n",
    "    return distance\n",
    "\n",
    "def manhatten_distance(start, end):\n",
    "    x_s, y_s = start\n",
    "    x_e, y_e = end\n",
    "    \n",
    "    return abs(x_e - x_s) + abs(y_e - y_s)\n",
    "\n",
    "n = int(input())\n",
    "x_s, y_s, x_e, y_e = map(int, input().split())\n",
    "\n",
    "results = []\n",
    "for i in range(1, n+1):\n",
    "    points = [[x_s, y_s]]\n",
    "    for _ in range(int(input())):\n",
    "        points.append(list(map(int, input().split())))\n",
    "    points.append([x_e, y_e])\n",
    "    distance = calc_distance(points)\n",
    "    results.append([i, distance])"
   ]
  },
  {
   "cell_type": "markdown",
   "id": "b0de9235",
   "metadata": {},
   "source": [
    "#### 3063. 게시판"
   ]
  },
  {
   "cell_type": "code",
   "execution_count": 13,
   "id": "382365a1",
   "metadata": {},
   "outputs": [
    {
     "name": "stdout",
     "output_type": "stream",
     "text": [
      "1\n",
      "6 6 8 8 1 1 4 4 \n",
      "4\n"
     ]
    }
   ],
   "source": [
    "def calc_area(p1, p2):\n",
    "    x1, y1 = p1\n",
    "    x2, y2 = p2\n",
    "    \n",
    "    width = abs(x2 - x1)\n",
    "    height = abs(y2 - y1)\n",
    "\n",
    "    return width * height\n",
    "    \n",
    "def compare_location(a1, a2, a3, a4):\n",
    "    length = 0\n",
    "    if a2 > a4:\n",
    "        if a1 > a3:\n",
    "            length = a4 - a1\n",
    "        else:\n",
    "            length = a4 - a3\n",
    "    else:\n",
    "        if a1 > a3:\n",
    "            length = a2 - a1\n",
    "        else:\n",
    "            length = a2 - a3\n",
    "    \n",
    "    return length\n",
    "    \n",
    "t = int(input())\n",
    "for _ in range(t):\n",
    "    x1, y1, x2, y2, x3, y3, x4, y4 = map(int, input().split())\n",
    "    area1 = calc_area(p1=(x1, y1), p2=(x2, y2))\n",
    "    \n",
    "    if (x3 >= x2 and y3 >= y2) or (x1 > x4 and y1 > y4):\n",
    "        result = area1\n",
    "    else:\n",
    "        width = compare_location(x1, x2, x3, x4)\n",
    "        height = compare_location(y1, y2, y3, y4)\n",
    "        area2 = width * height\n",
    "        result = area1 - area2\n",
    "    \n",
    "    print(result)"
   ]
  },
  {
   "cell_type": "markdown",
   "id": "260dfe95",
   "metadata": {},
   "source": [
    "#### 23826. 와이파이"
   ]
  },
  {
   "cell_type": "code",
   "execution_count": 4,
   "id": "8f34cd4a",
   "metadata": {
    "scrolled": false
   },
   "outputs": [
    {
     "name": "stdout",
     "output_type": "stream",
     "text": [
      "1\n",
      "1 4 15\n",
      "13 5 4\n",
      "IMPOSSIBLE\n"
     ]
    }
   ],
   "source": [
    "def calc_distance(x1, y1, x2, y2):\n",
    "    return abs(x2- x1) + abs(y2 - y1)\n",
    "    \n",
    "\n",
    "n = int(input())\n",
    "data = []\n",
    "for _ in range(n + 1):\n",
    "    x, y, e = map(int, input().split())\n",
    "    data.append([x, y, e])\n",
    "    \n",
    "result = []\n",
    "x0, y0, e0 = data[0]\n",
    "for x1, y1, _ in data[1:]:\n",
    "    distance = calc_distance(x0, y0, x1, y1)\n",
    "    strength = max(0, e0 - distance)\n",
    "    \n",
    "    total_strength = 0\n",
    "    for x2, y2, e in data[1:]:\n",
    "        if e != 0:\n",
    "            hot_spot_distance = calc_distance(x1, y1, x2, y2)\n",
    "            hot_spot_strength = max(0, e - hot_spot_distance)\n",
    "            total_strength += hot_spot_strength\n",
    "            \n",
    "    result.append(strength - total_strength)\n",
    "\n",
    "max_value = max(result)\n",
    "if max_value > 0:\n",
    "    print(max_value)\n",
    "else:\n",
    "    print(\"IMPOSSIBLE\")"
   ]
  },
  {
   "cell_type": "markdown",
   "id": "a3352ed4",
   "metadata": {},
   "source": [
    "#### 2936. 채식주의자"
   ]
  },
  {
   "cell_type": "code",
   "execution_count": 22,
   "id": "85d37e34",
   "metadata": {},
   "outputs": [
    {
     "name": "stdout",
     "output_type": "stream",
     "text": [
      "125 125\n",
      "0.00 0.00\n"
     ]
    }
   ],
   "source": [
    "x, y = map(int, input().split())\n",
    "half_size = 125 ** 2\n",
    "\n",
    "result = []\n",
    "if x == 0:\n",
    "    if y >= 125:\n",
    "        answer = round(half_size * 2 / y, 2)\n",
    "        result = [answer, 0]\n",
    "    else:\n",
    "        answer_x = round(half_size * 2 / (250 - y), 2)\n",
    "        answer_y = 250 - answer_x\n",
    "        result = [answer_x, answer_y]\n",
    "elif y == 0:\n",
    "    if x >= 125:\n",
    "        answer = round(half_size * 2 / x, 2)\n",
    "        result = [0, answer]\n",
    "    else:\n",
    "        answer_y = round(half_size * 2 / (250 - x), 2)\n",
    "        answer_x = 250 - answer_y\n",
    "        result = [answer_x, answer_y]\n",
    "else:\n",
    "    if x >= 125:\n",
    "        answer = 250 - round(half_size * 2 / x, 2)\n",
    "        result = [0, answer]\n",
    "    else:\n",
    "        answer = 250 - round(half_size * 2 / y, 2)\n",
    "        result = [answer, 0]\n",
    "        \n",
    "print(f'{result[0]:.2f} {result[1]:.2f}')"
   ]
  },
  {
   "cell_type": "code",
   "execution_count": 23,
   "id": "cfcc2ba3",
   "metadata": {},
   "outputs": [
    {
     "data": {
      "text/plain": [
       "5.0"
      ]
     },
     "execution_count": 23,
     "metadata": {},
     "output_type": "execute_result"
    }
   ],
   "source": [
    "25 ** 0.5"
   ]
  },
  {
   "cell_type": "code",
   "execution_count": 26,
   "id": "5294087e",
   "metadata": {},
   "outputs": [
    {
     "data": {
      "text/plain": [
       "106.48474069086143"
      ]
     },
     "execution_count": 26,
     "metadata": {},
     "output_type": "execute_result"
    }
   ],
   "source": [
    "11339 ** 0.5"
   ]
  },
  {
   "cell_type": "code",
   "execution_count": 41,
   "id": "c91225d2",
   "metadata": {},
   "outputs": [
    {
     "name": "stdout",
     "output_type": "stream",
     "text": [
      "48\n",
      "3\n"
     ]
    }
   ],
   "source": [
    "def solution(n):\n",
    "    sqrt_n = n ** 0.5\n",
    "    if sqrt_n == int(sqrt_n):\n",
    "        return 1\n",
    "    else:\n",
    "        max_val = int(sqrt_n)\n",
    "        for i in range(max_val, 0, -1):\n",
    "            for j in range(1, max_val + 1):\n",
    "                value = i ** 2 + j ** 2\n",
    "                if value == n:\n",
    "                    return 2\n",
    "                elif value > n:\n",
    "                    break\n",
    "        \n",
    "        for i in range(max_val, 0, -1):\n",
    "            for j in range(1, max_val + 1):\n",
    "                for k in range(1, max_val + 1):\n",
    "                    value = i ** 2 + j ** 2 + k ** 2\n",
    "                    if value == n:\n",
    "                        return 3\n",
    "                    elif value > n:\n",
    "                        break\n",
    "        \n",
    "    return 4\n",
    "\n",
    "n = int(input())\n",
    "result = solution(n)\n",
    "print(result)"
   ]
  },
  {
   "cell_type": "code",
   "execution_count": 45,
   "id": "52be197d",
   "metadata": {},
   "outputs": [
    {
     "name": "stdout",
     "output_type": "stream",
     "text": [
      "11339\n",
      "3\n"
     ]
    }
   ],
   "source": [
    "# Dynamic Programming Method\n",
    "n = int(input())\n",
    "dp = [4] * (n + 1)\n",
    "dp[0] = 0\n",
    "for i in range(1, n + 1):\n",
    "    for j in range(1, i + 1):\n",
    "        val = j * j\n",
    "        if val > i:\n",
    "            break\n",
    "        dp[i] = min(dp[i], dp[i - val] + 1)\n",
    "\n",
    "print(dp[n])"
   ]
  },
  {
   "cell_type": "code",
   "execution_count": null,
   "id": "93d10080",
   "metadata": {},
   "outputs": [],
   "source": []
  }
 ],
 "metadata": {
  "kernelspec": {
   "display_name": "Python 3 (ipykernel)",
   "language": "python",
   "name": "python3"
  },
  "language_info": {
   "codemirror_mode": {
    "name": "ipython",
    "version": 3
   },
   "file_extension": ".py",
   "mimetype": "text/x-python",
   "name": "python",
   "nbconvert_exporter": "python",
   "pygments_lexer": "ipython3",
   "version": "3.8.10"
  }
 },
 "nbformat": 4,
 "nbformat_minor": 5
}
