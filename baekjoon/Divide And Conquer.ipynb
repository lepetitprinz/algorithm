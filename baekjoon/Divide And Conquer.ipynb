{
 "cells": [
  {
   "cell_type": "markdown",
   "id": "9910b827",
   "metadata": {},
   "source": [
    "#### 1780. 종이의 개수"
   ]
  },
  {
   "cell_type": "code",
   "execution_count": null,
   "id": "4da4cc5f",
   "metadata": {},
   "outputs": [],
   "source": [
    "def split_arr(arr):\n",
    "    length = len(arr)\n",
    "    if length == 1:\n",
    "        return arr[0]\n",
    "    \n",
    "    fst = arr[0][0]\n",
    "    flag = True\n",
    "    for i in range(length):\n",
    "        for j in range(length):\n",
    "            if arr[i][j] != fst:\n",
    "                flag = False\n",
    "                break\n",
    "    if flag:\n",
    "        return fst\n",
    "    else:\n",
    "        for\n",
    "    \n",
    "    return fst\n",
    "    \n",
    "n = int(input())\n"
   ]
  },
  {
   "cell_type": "markdown",
   "id": "4650b3e6",
   "metadata": {},
   "source": [
    "#### 2630. 색종이 만들기"
   ]
  },
  {
   "cell_type": "code",
   "execution_count": null,
   "id": "c8144c40",
   "metadata": {},
   "outputs": [],
   "source": [
    "def solution(x, y, n) :\n",
    "    value = arr[x][y]\n",
    "    for i in range(x, x + n) :\n",
    "        for j in range(y, y + n):\n",
    "            if value != arr[i][j]:\n",
    "                solution(x, y, n//2)\n",
    "                solution(x, y + n//2, n//2)\n",
    "                solution(x + n//2, y, n//2)\n",
    "                solution(x + n//2, y + n//2, n//2)\n",
    "                return\n",
    "            \n",
    "    result.append(value)\n",
    "\n",
    "n = int(sys.stdin.readline())\n",
    "arr = [list(map(int, sys.stdin.readline().split())) for _ in range(n)] \n",
    "\n",
    "result = []\n",
    "solution(0,0, n)\n",
    "print(result.count(0))\n",
    "print(result.count(1))"
   ]
  },
  {
   "cell_type": "markdown",
   "id": "63689097",
   "metadata": {},
   "source": [
    "#### 1922. 쿼드트리"
   ]
  },
  {
   "cell_type": "code",
   "execution_count": 5,
   "id": "0528ba91",
   "metadata": {},
   "outputs": [
    {
     "name": "stdout",
     "output_type": "stream",
     "text": [
      "8\n",
      "((110(0101))(0010)1(0001))\n"
     ]
    }
   ],
   "source": [
    "def solution(arr, x, y, n):\n",
    "    value = arr[x][y]\n",
    "    for i in range(x, x + n):\n",
    "        for j in range(y, y + n):\n",
    "            if value != arr[i][j]:\n",
    "                result.append('(')\n",
    "                solution(arr, x, y, n//2)\n",
    "                solution(arr, x, y + n//2, n//2)\n",
    "                solution(arr, x + n//2, y, n//2)\n",
    "                solution(arr, x + n//2, y + n//2, n//2)\n",
    "                result.append(')')\n",
    "                return\n",
    "    \n",
    "    result.append(value)\n",
    "    \n",
    "n = int(input())\n",
    "arr = [input() for _ in range(n)]\n",
    "result = []\n",
    "solution(arr, 0, 0, n)\n",
    "print(''.join(result))"
   ]
  },
  {
   "cell_type": "markdown",
   "id": "db3c34f9",
   "metadata": {},
   "source": [
    "#### 1780. 종이의 개수"
   ]
  },
  {
   "cell_type": "code",
   "execution_count": 2,
   "id": "5f17371d",
   "metadata": {},
   "outputs": [
    {
     "name": "stdout",
     "output_type": "stream",
     "text": [
      "9\n",
      "0 0 0 1 1 1 -1 -1 -1\n",
      "0 0 0 1 1 1 -1 -1 -1\n",
      "0 0 0 1 1 1 -1 -1 -1\n",
      "1 1 1 0 0 0 0 0 0\n",
      "1 1 1 0 0 0 0 0 0\n",
      "1 1 1 0 0 0 0 0 0\n",
      "0 1 -1 0 1 -1 0 1 -1\n",
      "0 -1 1 0 1 -1 0 1 -1\n",
      "0 1 -1 1 0 -1 0 1 -1\n",
      "10\n",
      "88\n",
      "11\n"
     ]
    }
   ],
   "source": [
    "def solution(arr, r, c, n):\n",
    "    value = arr[r][c]\n",
    "    for i in range(r, r + n):\n",
    "        for j in range(c, c + n):\n",
    "            if arr[i][j] != value:\n",
    "                n = n // 3\n",
    "                solution(arr, r, c, n)\n",
    "                solution(arr, r, c + n, n)\n",
    "                solution(arr, r, c + 2 * n, n)\n",
    "                solution(arr, r + n, c, n)\n",
    "                solution(arr, r + n, c + n, n)\n",
    "                solution(arr, r + n, c + 2 * n, n)\n",
    "                solution(arr, r + 2 * n, c, n)\n",
    "                solution(arr, r + 2 * n, c + n, n)\n",
    "                solution(arr, r + 2 * n, c + 2 * n, n)\n",
    "                return\n",
    "                \n",
    "    result[value] += 1\n",
    "    \n",
    "n = int(input())\n",
    "arr = [list(map(int, input().split())) for _ in range(n)]\n",
    "\n",
    "result = {-1: 0, 0: 0, 1: 0}\n",
    "solution(arr, 0, 0, n)\n",
    "for val in result.values():\n",
    "    print(val)"
   ]
  },
  {
   "cell_type": "code",
   "execution_count": null,
   "id": "8b3c4c16",
   "metadata": {},
   "outputs": [],
   "source": []
  }
 ],
 "metadata": {
  "kernelspec": {
   "display_name": "Python 3 (ipykernel)",
   "language": "python",
   "name": "python3"
  },
  "language_info": {
   "codemirror_mode": {
    "name": "ipython",
    "version": 3
   },
   "file_extension": ".py",
   "mimetype": "text/x-python",
   "name": "python",
   "nbconvert_exporter": "python",
   "pygments_lexer": "ipython3",
   "version": "3.8.10"
  }
 },
 "nbformat": 4,
 "nbformat_minor": 5
}
