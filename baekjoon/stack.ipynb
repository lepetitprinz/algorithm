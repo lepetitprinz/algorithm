{
 "cells": [
  {
   "cell_type": "markdown",
   "id": "43876cb7",
   "metadata": {},
   "source": [
    "### Stack"
   ]
  },
  {
   "cell_type": "markdown",
   "id": "feba6f12",
   "metadata": {},
   "source": [
    "### 17298. 오큰수"
   ]
  },
  {
   "cell_type": "code",
   "execution_count": null,
   "id": "af7721d0",
   "metadata": {},
   "outputs": [],
   "source": [
    "from collections import deque"
   ]
  },
  {
   "cell_type": "code",
   "execution_count": null,
   "id": "58e20276",
   "metadata": {},
   "outputs": [],
   "source": [
    "n = int(input())\n",
    "queue = deque(list(map(int, input().split())))\n",
    "\n",
    "stack = []\n",
    "answer = ['-1' for _ in range(n)]\n",
    "i = n - 1\n",
    "while queue:\n",
    "    number = queue.pop()\n",
    "    if len(stack) == 0:\n",
    "        stack.append((i, number))\n",
    "        answer[i] = '-1'\n",
    "    else:\n",
    "        idx, stack_last = stack[-1]\n",
    "        if number < stack_last:\n",
    "            stack.append((i, number))\n",
    "            answer[i] = str(stack_last)\n",
    "        else:\n",
    "            if answer[idx] == '-1':\n",
    "                answer[i] = '-1'\n",
    "                stack.append((i, number))\n",
    "            else:\n",
    "                if int(answer[idx]) > number:\n",
    "                    answer[i] = answer[idx]\n",
    "                else:\n",
    "                    answer[i] = '-1'\n",
    "                    for j in range(len(stack) - 2, -1, -1):\n",
    "                        if stack[j][1] > number:\n",
    "                            answer[i] = str(stack[j][1])\n",
    "                            break\n",
    "                        else:\n",
    "                            if int(answer[j]) > number:\n",
    "                                answer[i] = answer[j]\n",
    "                                break\n",
    "                stack.append((i, number))\n",
    "    i -= 1\n",
    "                \n",
    "\n",
    "print(' '.join(answer))\n"
   ]
  },
  {
   "cell_type": "code",
   "execution_count": null,
   "id": "e3ac1fbb",
   "metadata": {},
   "outputs": [],
   "source": [
    "def hanoi(n, from_row, to_row, temp_row, cnt=0, track=[]):\n",
    "    if n == 1:\n",
    "        track.append(f'{from_row} {to_row}')\n",
    "        return cnt+1, track\n",
    "    \n",
    "    cnt, track = hanoi(n-1, from_row, temp_row, to_row, cnt, track)\n",
    "    track.append(f'{from_row} {to_row}')\n",
    "    cnt, track = hanoi(n-1, temp_row, to_row, from_row, cnt+1, track)\n",
    "    \n",
    "    return cnt, track"
   ]
  },
  {
   "cell_type": "code",
   "execution_count": null,
   "id": "a5fcf7af",
   "metadata": {},
   "outputs": [],
   "source": [
    "cnt, track = hanoi(3, 1, 3, 2)\n",
    "cnt"
   ]
  },
  {
   "cell_type": "markdown",
   "id": "c5898b29",
   "metadata": {},
   "source": [
    "#### 3986. 좋은 단어"
   ]
  },
  {
   "cell_type": "code",
   "execution_count": null,
   "id": "e6df8ca4",
   "metadata": {},
   "outputs": [],
   "source": [
    "def check(string):\n",
    "    flag = False\n",
    "    if len(string) % 2 == 0:\n",
    "        stack = [string[0]]\n",
    "        for s in string[1:]:\n",
    "            if len(stack) == 0:\n",
    "                stack.append(s)\n",
    "            else:\n",
    "                if s == stack[-1]:\n",
    "                    stack.pop()\n",
    "                else:\n",
    "                    stack.append(s)\n",
    "        if len(stack) == 0:\n",
    "            flag = True\n",
    "    \n",
    "    return flag\n",
    "\n",
    "test = int(input())\n",
    "result = 0\n",
    "for _ in range(test):\n",
    "    string = input()\n",
    "    result += check(string)\n",
    "    \n",
    "print(result)"
   ]
  },
  {
   "cell_type": "markdown",
   "id": "ed611821",
   "metadata": {},
   "source": [
    "#### 11899. 괄호 끼워넣기"
   ]
  },
  {
   "cell_type": "code",
   "execution_count": null,
   "id": "d471d7ce",
   "metadata": {},
   "outputs": [],
   "source": [
    "string = input()\n",
    "stack = [string[0]]\n",
    "\n",
    "for s in string[1:]:\n",
    "    if len(stack) == 0:\n",
    "        stack.append(s)\n",
    "    else:\n",
    "        if (stack[-1] == '(') & (s == ')'):\n",
    "            stack.pop()\n",
    "        else:\n",
    "            stack.append(s)\n",
    "\n",
    "print(len(stack))"
   ]
  },
  {
   "cell_type": "markdown",
   "id": "f24f7111",
   "metadata": {},
   "source": [
    "#### 17413. 단어 뒤집기2"
   ]
  },
  {
   "cell_type": "code",
   "execution_count": null,
   "id": "7c90fd89",
   "metadata": {},
   "outputs": [],
   "source": [
    "string = input()\n",
    "result = ''\n",
    "temp = ''\n",
    "flag = True\n",
    "for s in string:\n",
    "    if (s == ' ') & flag:\n",
    "        result += temp[::-1]\n",
    "        result += ' '\n",
    "        temp = ''\n",
    "    elif s == '<':\n",
    "        result += temp[::-1]\n",
    "        temp = s\n",
    "        flag = False\n",
    "    elif s == '>':\n",
    "        result = result + temp + s\n",
    "        temp = ''\n",
    "        flag = True\n",
    "    else:\n",
    "        temp += s\n",
    "if flag:\n",
    "    result += temp[::-1]\n",
    "else:\n",
    "    result += temp\n",
    "        \n",
    "print(result)"
   ]
  },
  {
   "cell_type": "markdown",
   "id": "3f5e7ac5",
   "metadata": {},
   "source": [
    "#### 1406. 에디터"
   ]
  },
  {
   "cell_type": "code",
   "execution_count": null,
   "id": "27d6e40f",
   "metadata": {},
   "outputs": [],
   "source": [
    "data = list(input())\n",
    "length = len(data)\n",
    "\n",
    "m = int(input())\n",
    "idx = length\n",
    "for _ in range(m):\n",
    "    command = input().split()\n",
    "    if command[0] == 'P':\n",
    "        data.insert(idx, command[1])\n",
    "        idx += 1\n",
    "    elif command[0] == 'L':\n",
    "        idx = max(0, idx - 1)\n",
    "    elif command[0] == 'D':\n",
    "        idx = min(idx+1, length-1)\n",
    "    elif command[0] == 'B':\n",
    "        if idx > 0:\n",
    "            data.pop(idx-1)\n",
    "            idx -= 1\n",
    "\n",
    "print(''.join(data))"
   ]
  },
  {
   "cell_type": "markdown",
   "id": "a2d6d80d",
   "metadata": {},
   "source": [
    "#### 10432. 데이터 스트림의 섬"
   ]
  },
  {
   "cell_type": "code",
   "execution_count": 6,
   "id": "56a56324",
   "metadata": {},
   "outputs": [
    {
     "name": "stdout",
     "output_type": "stream",
     "text": [
      "1\n",
      "4 0 1 2 3 4 5 6 7 8 9 10 0\n",
      "11\n"
     ]
    }
   ],
   "source": [
    "def stack(values):\n",
    "    cnt = 0\n",
    "    stack = []\n",
    "    for val in values:\n",
    "        if stack:\n",
    "            prev = stack[-1]\n",
    "            if val > prev:\n",
    "                stack.append(val)\n",
    "                cnt += 1\n",
    "            elif val == prev:\n",
    "                continue\n",
    "            else:\n",
    "                while stack:\n",
    "                    if stack[-1] >= val:\n",
    "                        stack.pop()\n",
    "                    else:\n",
    "                        break\n",
    "        else:\n",
    "            stack.append(val)\n",
    "            cnt += 1\n",
    "    \n",
    "    return cnt\n",
    "\n",
    "t = int(input())\n",
    "for _ in range(t):\n",
    "    data = list(map(int, input().split()))\n",
    "    t = data[0]\n",
    "    values = data[1:]\n",
    "    result = stack(values)\n",
    "    print(result)"
   ]
  },
  {
   "cell_type": "code",
   "execution_count": null,
   "id": "31f47e4b",
   "metadata": {},
   "outputs": [],
   "source": []
  }
 ],
 "metadata": {
  "kernelspec": {
   "display_name": "Python 3 (ipykernel)",
   "language": "python",
   "name": "python3"
  },
  "language_info": {
   "codemirror_mode": {
    "name": "ipython",
    "version": 3
   },
   "file_extension": ".py",
   "mimetype": "text/x-python",
   "name": "python",
   "nbconvert_exporter": "python",
   "pygments_lexer": "ipython3",
   "version": "3.8.10"
  }
 },
 "nbformat": 4,
 "nbformat_minor": 5
}
