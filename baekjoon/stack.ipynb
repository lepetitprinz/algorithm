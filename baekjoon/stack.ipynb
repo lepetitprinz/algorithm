{
 "cells": [
  {
   "cell_type": "markdown",
   "id": "43876cb7",
   "metadata": {},
   "source": [
    "### Stack"
   ]
  },
  {
   "cell_type": "markdown",
   "id": "feba6f12",
   "metadata": {},
   "source": [
    "### 17298. 오큰수"
   ]
  },
  {
   "cell_type": "code",
   "execution_count": null,
   "id": "af7721d0",
   "metadata": {},
   "outputs": [],
   "source": [
    "from collections import deque"
   ]
  },
  {
   "cell_type": "code",
   "execution_count": null,
   "id": "58e20276",
   "metadata": {},
   "outputs": [],
   "source": [
    "n = int(input())\n",
    "queue = deque(list(map(int, input().split())))\n",
    "\n",
    "stack = []\n",
    "answer = ['-1' for _ in range(n)]\n",
    "i = n - 1\n",
    "while queue:\n",
    "    number = queue.pop()\n",
    "    if len(stack) == 0:\n",
    "        stack.append((i, number))\n",
    "        answer[i] = '-1'\n",
    "    else:\n",
    "        idx, stack_last = stack[-1]\n",
    "        if number < stack_last:\n",
    "            stack.append((i, number))\n",
    "            answer[i] = str(stack_last)\n",
    "        else:\n",
    "            if answer[idx] == '-1':\n",
    "                answer[i] = '-1'\n",
    "                stack.append((i, number))\n",
    "            else:\n",
    "                if int(answer[idx]) > number:\n",
    "                    answer[i] = answer[idx]\n",
    "                else:\n",
    "                    answer[i] = '-1'\n",
    "                    for j in range(len(stack) - 2, -1, -1):\n",
    "                        if stack[j][1] > number:\n",
    "                            answer[i] = str(stack[j][1])\n",
    "                            break\n",
    "                        else:\n",
    "                            if int(answer[j]) > number:\n",
    "                                answer[i] = answer[j]\n",
    "                                break\n",
    "                stack.append((i, number))\n",
    "    i -= 1\n",
    "                \n",
    "\n",
    "print(' '.join(answer))\n"
   ]
  },
  {
   "cell_type": "code",
   "execution_count": 24,
   "id": "e3ac1fbb",
   "metadata": {},
   "outputs": [],
   "source": [
    "def hanoi(n, from_row, to_row, temp_row, cnt=0, track=[]):\n",
    "    if n == 1:\n",
    "        track.append(f'{from_row} {to_row}')\n",
    "        return cnt+1, track\n",
    "    \n",
    "    cnt, track = hanoi(n-1, from_row, temp_row, to_row, cnt, track)\n",
    "    track.append(f'{from_row} {to_row}')\n",
    "    cnt, track = hanoi(n-1, temp_row, to_row, from_row, cnt+1, track)\n",
    "    \n",
    "    return cnt, track"
   ]
  },
  {
   "cell_type": "code",
   "execution_count": 25,
   "id": "a5fcf7af",
   "metadata": {},
   "outputs": [
    {
     "data": {
      "text/plain": [
       "7"
      ]
     },
     "execution_count": 25,
     "metadata": {},
     "output_type": "execute_result"
    }
   ],
   "source": [
    "cnt, track = hanoi(3, 1, 3, 2)\n",
    "cnt"
   ]
  },
  {
   "cell_type": "code",
   "execution_count": 26,
   "id": "7aaf8012",
   "metadata": {},
   "outputs": [
    {
     "data": {
      "text/plain": [
       "['1 3', '1 2', '3 2', '1 3', '2 1', '2 3', '1 3']"
      ]
     },
     "execution_count": 26,
     "metadata": {},
     "output_type": "execute_result"
    }
   ],
   "source": [
    "track"
   ]
  },
  {
   "cell_type": "code",
   "execution_count": null,
   "id": "58565c74",
   "metadata": {},
   "outputs": [],
   "source": []
  }
 ],
 "metadata": {
  "kernelspec": {
   "display_name": "Python 3 (ipykernel)",
   "language": "python",
   "name": "python3"
  },
  "language_info": {
   "codemirror_mode": {
    "name": "ipython",
    "version": 3
   },
   "file_extension": ".py",
   "mimetype": "text/x-python",
   "name": "python",
   "nbconvert_exporter": "python",
   "pygments_lexer": "ipython3",
   "version": "3.8.10"
  }
 },
 "nbformat": 4,
 "nbformat_minor": 5
}
