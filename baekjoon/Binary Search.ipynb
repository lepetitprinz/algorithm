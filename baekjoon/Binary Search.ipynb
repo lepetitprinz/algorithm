{
 "cells": [
  {
   "cell_type": "markdown",
   "id": "fe45aaa0",
   "metadata": {},
   "source": [
    "#### 12738. 가장 긴 증가하는 부분 수열 3"
   ]
  },
  {
   "cell_type": "code",
   "execution_count": null,
   "id": "bfdfa6b8",
   "metadata": {},
   "outputs": [],
   "source": [
    "def binary_search(start, end, target):\n",
    "    if start > end:\n",
    "        return start\n",
    "    \n",
    "    mid = (start + end) // 2\n",
    "    \n",
    "    mid_val = result[mid]\n",
    "    if mid_val > target:\n",
    "        return binary_search(start, mid - 1, target)\n",
    "\n",
    "    elif mid_val == target:\n",
    "        return mid\n",
    "    else:\n",
    "        return binary_search(mid + 1, end, target)\n",
    "    \n",
    "n = int(input())\n",
    "data = list(map(int, input().split(\" \")))\n",
    "\n",
    "\n",
    "result = [data[0]]\n",
    "for i in range(1, n):\n",
    "    value = data[i]\n",
    "    if result[-1] < value:\n",
    "        result.append(value)\n",
    "    else:\n",
    "        idx = binary_search(0, len(result) - 1, value)\n",
    "        result[idx] = value\n",
    "        \n",
    "print(len(result))"
   ]
  },
  {
   "cell_type": "markdown",
   "id": "a761ebc5",
   "metadata": {},
   "source": [
    "#### 2512. 예산"
   ]
  },
  {
   "cell_type": "code",
   "execution_count": 10,
   "id": "31bcf57a",
   "metadata": {},
   "outputs": [
    {
     "name": "stdout",
     "output_type": "stream",
     "text": [
      "4\n",
      "120 110 140 150\n",
      "485\n",
      "128\n"
     ]
    }
   ],
   "source": [
    "def binary_search(start, end, threshold):\n",
    "    while start <= end:\n",
    "        mid = (start + end) // 2\n",
    "        sum_budget = 0\n",
    "        for i, budget in enumerate(budgets):\n",
    "            if budget <= mid:\n",
    "                sum_budget += budget\n",
    "            else:\n",
    "                sum_budget += mid * (n - i)\n",
    "                break\n",
    "        \n",
    "        if sum_budget <= threshold:\n",
    "            start = mid + 1\n",
    "        else:\n",
    "            end = mid - 1\n",
    "            \n",
    "    return mid -1\n",
    "    \n",
    "n = int(input())\n",
    "budgets = sorted(list(map(int, input().split())))\n",
    "threshold = int(input())\n",
    "\n",
    "result = 0\n",
    "if sum(budgets) <= threshold:\n",
    "    result = budgets[-1]\n",
    "else:\n",
    "    result = binary_search(0, budgets[-1], threshold)\n",
    "\n",
    "print(result)"
   ]
  },
  {
   "cell_type": "markdown",
   "id": "03c31709",
   "metadata": {},
   "source": [
    "#### 2110. 공유기 설치"
   ]
  },
  {
   "cell_type": "code",
   "execution_count": 1,
   "id": "1112a171",
   "metadata": {
    "collapsed": true
   },
   "outputs": [
    {
     "name": "stdout",
     "output_type": "stream",
     "text": [
      "a\n"
     ]
    },
    {
     "ename": "ValueError",
     "evalue": "invalid literal for int() with base 10: 'a'",
     "output_type": "error",
     "traceback": [
      "\u001b[0;31m---------------------------------------------------------------------------\u001b[0m",
      "\u001b[0;31mValueError\u001b[0m                                Traceback (most recent call last)",
      "Input \u001b[0;32mIn [1]\u001b[0m, in \u001b[0;36m<cell line: 25>\u001b[0;34m()\u001b[0m\n\u001b[1;32m     21\u001b[0m             last_loc \u001b[38;5;241m=\u001b[39m l\n\u001b[1;32m     23\u001b[0m     \u001b[38;5;28;01mreturn\u001b[39;00m cnt\n\u001b[0;32m---> 25\u001b[0m n, c \u001b[38;5;241m=\u001b[39m \u001b[38;5;28mmap\u001b[39m(\u001b[38;5;28mint\u001b[39m, \u001b[38;5;28minput\u001b[39m()\u001b[38;5;241m.\u001b[39msplit())\n\u001b[1;32m     26\u001b[0m loc \u001b[38;5;241m=\u001b[39m \u001b[38;5;28msorted\u001b[39m([\u001b[38;5;28mint\u001b[39m(\u001b[38;5;28minput\u001b[39m()) \u001b[38;5;28;01mfor\u001b[39;00m _ \u001b[38;5;129;01min\u001b[39;00m \u001b[38;5;28mrange\u001b[39m(n)])\n\u001b[1;32m     27\u001b[0m ans \u001b[38;5;241m=\u001b[39m binary_search(loc, c \u001b[38;5;241m-\u001b[39m \u001b[38;5;241m2\u001b[39m)\n",
      "\u001b[0;31mValueError\u001b[0m: invalid literal for int() with base 10: 'a'"
     ]
    }
   ],
   "source": [
    "def binary_search(loc, n, c):\n",
    "    left = 1\n",
    "    right = loc[-1] - loc[0] + 1\n",
    "    \n",
    "    while left < right:\n",
    "        mid = (left + right) // 2\n",
    "        if is_installable(loc, mid) < c:\n",
    "            right = mid\n",
    "        else:\n",
    "            left = mid + 1\n",
    "    \n",
    "    return left - 1\n",
    "    \n",
    "def is_installable(loc, distance):\n",
    "    cnt = 1\n",
    "    last_loc = loc[0]\n",
    "    \n",
    "    for l in loc:\n",
    "        if l - last_loc >= distance:\n",
    "            cnt += 1\n",
    "            last_loc = l\n",
    "    \n",
    "    return cnt\n",
    "    \n",
    "n, c = map(int, input().split())\n",
    "loc = sorted([int(input()) for _ in range(n)])\n",
    "ans = binary_search(loc, c - 2)"
   ]
  }
 ],
 "metadata": {
  "kernelspec": {
   "display_name": "Python 3 (ipykernel)",
   "language": "python",
   "name": "python3"
  },
  "language_info": {
   "codemirror_mode": {
    "name": "ipython",
    "version": 3
   },
   "file_extension": ".py",
   "mimetype": "text/x-python",
   "name": "python",
   "nbconvert_exporter": "python",
   "pygments_lexer": "ipython3",
   "version": "3.8.10"
  }
 },
 "nbformat": 4,
 "nbformat_minor": 5
}
