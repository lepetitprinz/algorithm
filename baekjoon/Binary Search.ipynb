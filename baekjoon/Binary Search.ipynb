{
 "cells": [
  {
   "cell_type": "markdown",
   "id": "fe45aaa0",
   "metadata": {},
   "source": [
    "#### 12738. 가장 긴 증가하는 부분 수열 3"
   ]
  },
  {
   "cell_type": "code",
   "execution_count": null,
   "id": "bfdfa6b8",
   "metadata": {},
   "outputs": [],
   "source": [
    "def binary_search(start, end, target):\n",
    "    if start > end:\n",
    "        return start\n",
    "    \n",
    "    mid = (start + end) // 2\n",
    "    \n",
    "    mid_val = result[mid]\n",
    "    if mid_val > target:\n",
    "        return binary_search(start, mid - 1, target)\n",
    "\n",
    "    elif mid_val == target:\n",
    "        return mid\n",
    "    else:\n",
    "        return binary_search(mid + 1, end, target)\n",
    "    \n",
    "n = int(input())\n",
    "data = list(map(int, input().split(\" \")))\n",
    "\n",
    "\n",
    "result = [data[0]]\n",
    "for i in range(1, n):\n",
    "    value = data[i]\n",
    "    if result[-1] < value:\n",
    "        result.append(value)\n",
    "    else:\n",
    "        idx = binary_search(0, len(result) - 1, value)\n",
    "        result[idx] = value\n",
    "        \n",
    "print(len(result))"
   ]
  },
  {
   "cell_type": "markdown",
   "id": "a761ebc5",
   "metadata": {},
   "source": [
    "#### 2512. 예산"
   ]
  },
  {
   "cell_type": "code",
   "execution_count": 10,
   "id": "31bcf57a",
   "metadata": {},
   "outputs": [
    {
     "name": "stdout",
     "output_type": "stream",
     "text": [
      "4\n",
      "120 110 140 150\n",
      "485\n",
      "128\n"
     ]
    }
   ],
   "source": [
    "def binary_search(start, end, threshold):\n",
    "    while start <= end:\n",
    "        mid = (start + end) // 2\n",
    "        sum_budget = 0\n",
    "        for i, budget in enumerate(budgets):\n",
    "            if budget <= mid:\n",
    "                sum_budget += budget\n",
    "            else:\n",
    "                sum_budget += mid * (n - i)\n",
    "                break\n",
    "        \n",
    "        if sum_budget <= threshold:\n",
    "            start = mid + 1\n",
    "        else:\n",
    "            end = mid - 1\n",
    "            \n",
    "    return mid -1\n",
    "    \n",
    "n = int(input())\n",
    "budgets = sorted(list(map(int, input().split())))\n",
    "threshold = int(input())\n",
    "\n",
    "result = 0\n",
    "if sum(budgets) <= threshold:\n",
    "    result = budgets[-1]\n",
    "else:\n",
    "    result = binary_search(0, budgets[-1], threshold)\n",
    "\n",
    "print(result)"
   ]
  },
  {
   "cell_type": "code",
   "execution_count": null,
   "id": "89ad0590",
   "metadata": {},
   "outputs": [],
   "source": []
  }
 ],
 "metadata": {
  "kernelspec": {
   "display_name": "Python 3 (ipykernel)",
   "language": "python",
   "name": "python3"
  },
  "language_info": {
   "codemirror_mode": {
    "name": "ipython",
    "version": 3
   },
   "file_extension": ".py",
   "mimetype": "text/x-python",
   "name": "python",
   "nbconvert_exporter": "python",
   "pygments_lexer": "ipython3",
   "version": "3.8.16"
  }
 },
 "nbformat": 4,
 "nbformat_minor": 5
}
