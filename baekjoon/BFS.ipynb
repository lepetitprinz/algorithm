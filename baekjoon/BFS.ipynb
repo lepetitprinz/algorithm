{
 "cells": [
  {
   "cell_type": "markdown",
   "id": "2aa6a317",
   "metadata": {},
   "source": [
    "#### 14562. 태권왕"
   ]
  },
  {
   "cell_type": "code",
   "execution_count": 1,
   "id": "b8bbae53",
   "metadata": {
    "collapsed": true
   },
   "outputs": [
    {
     "name": "stdout",
     "output_type": "stream",
     "text": [
      "66\n",
      "10 20\n"
     ]
    },
    {
     "ename": "NameError",
     "evalue": "name 'score' is not defined",
     "output_type": "error",
     "traceback": [
      "\u001b[0;31m---------------------------------------------------------------------------\u001b[0m",
      "\u001b[0;31mNameError\u001b[0m                                 Traceback (most recent call last)",
      "Input \u001b[0;32mIn [1]\u001b[0m, in \u001b[0;36m<cell line: 16>\u001b[0;34m()\u001b[0m\n\u001b[1;32m     17\u001b[0m a, b \u001b[38;5;241m=\u001b[39m \u001b[38;5;28mmap\u001b[39m(\u001b[38;5;28mint\u001b[39m, \u001b[38;5;28minput\u001b[39m()\u001b[38;5;241m.\u001b[39msplit())\n\u001b[1;32m     18\u001b[0m queue\u001b[38;5;241m.\u001b[39mappend([a, b, \u001b[38;5;241m0\u001b[39m])\n\u001b[0;32m---> 19\u001b[0m result \u001b[38;5;241m=\u001b[39m \u001b[43mbfs\u001b[49m\u001b[43m(\u001b[49m\u001b[43mqueue\u001b[49m\u001b[43m,\u001b[49m\u001b[43m \u001b[49m\u001b[43mb\u001b[49m\u001b[43m \u001b[49m\u001b[38;5;241;43m-\u001b[39;49m\u001b[43m \u001b[49m\u001b[43ma\u001b[49m\u001b[43m)\u001b[49m\n\u001b[1;32m     20\u001b[0m \u001b[38;5;28mprint\u001b[39m(result)\n",
      "Input \u001b[0;32mIn [1]\u001b[0m, in \u001b[0;36mbfs\u001b[0;34m(queue, min_cnt)\u001b[0m\n\u001b[1;32m      4\u001b[0m \u001b[38;5;28;01mwhile\u001b[39;00m queue:\n\u001b[1;32m      5\u001b[0m     s, t, cnt \u001b[38;5;241m=\u001b[39m queue\u001b[38;5;241m.\u001b[39mpopleft()\n\u001b[0;32m----> 6\u001b[0m     \u001b[38;5;28;01mif\u001b[39;00m \u001b[43mscore\u001b[49m \u001b[38;5;241m*\u001b[39m \u001b[38;5;241m2\u001b[39m \u001b[38;5;241m<\u001b[39m\u001b[38;5;241m=\u001b[39m target \u001b[38;5;241m+\u001b[39m \u001b[38;5;241m3\u001b[39m:\n\u001b[1;32m      7\u001b[0m         queue\u001b[38;5;241m.\u001b[39mappend([s \u001b[38;5;241m*\u001b[39m \u001b[38;5;241m2\u001b[39m, t \u001b[38;5;241m+\u001b[39m \u001b[38;5;241m3\u001b[39m, cnt \u001b[38;5;241m+\u001b[39m \u001b[38;5;241m1\u001b[39m])\n\u001b[1;32m      8\u001b[0m         queue\u001b[38;5;241m.\u001b[39mappend([s \u001b[38;5;241m+\u001b[39m \u001b[38;5;241m1\u001b[39m, t, cnt \u001b[38;5;241m+\u001b[39m \u001b[38;5;241m1\u001b[39m])\n",
      "\u001b[0;31mNameError\u001b[0m: name 'score' is not defined"
     ]
    }
   ],
   "source": [
    "from collections import deque\n",
    "\n",
    "def bfs(queue, min_cnt):\n",
    "    while queue:\n",
    "        s, t, cnt = queue.popleft()\n",
    "        if s * 2 <= t + 3:\n",
    "            queue.append([s * 2, t + 3, cnt + 1])\n",
    "            queue.append([s + 1, t, cnt + 1])\n",
    "        else:\n",
    "            min_cnt = min(min_cnt, cnt + (target - score))\n",
    "    \n",
    "    return min_cnt\n",
    "\n",
    "t = int(input())\n",
    "queue = deque()\n",
    "for _ in range(t):\n",
    "    a, b = map(int, input().split())\n",
    "    queue.append([a, b, 0])\n",
    "    result = bfs(queue, b - a)\n",
    "    print(result)\n",
    "    "
   ]
  },
  {
   "cell_type": "code",
   "execution_count": null,
   "id": "3ad1d4ab",
   "metadata": {},
   "outputs": [],
   "source": [
    "from collections import deque\n",
    "\n",
    "t = int(input())\n",
    "q = deque()\n",
    "for _ in range(t):\n",
    "    a, b = map(int, input().split())\n",
    "    q.append((a, b, 0))\n",
    "    min_cnt = b-a\n",
    "    while q:\n",
    "        score, target, cnt = q.popleft()\n",
    "        if score * 2 <= target + 3:\n",
    "            q.append((score*2, target+3, cnt+1))\n",
    "            q.append((score+1, target, cnt+1))\n",
    "        else:\n",
    "            min_cnt = min(min_cnt, cnt + (target - score))\n",
    "    print(min_cnt)"
   ]
  },
  {
   "cell_type": "code",
   "execution_count": 4,
   "id": "ffa7d4dc",
   "metadata": {
    "collapsed": true
   },
   "outputs": [
    {
     "name": "stdout",
     "output_type": "stream",
     "text": [
      "5 17\n",
      "5\n",
      "4\n",
      "6\n",
      "10\n",
      "3\n",
      "8\n",
      "7\n",
      "12\n",
      "9\n",
      "11\n",
      "20\n",
      "2\n",
      "7\n",
      "9\n",
      "16\n",
      "14\n",
      "11\n",
      "13\n",
      "24\n",
      "18\n",
      "22\n",
      "19\n",
      "21\n",
      "40\n",
      "1\n",
      "14\n",
      "18\n",
      "15\n",
      "17\n",
      "28\n"
     ]
    }
   ],
   "source": [
    "from collections import deque\n",
    "\n",
    "n, k = map(int, input().split())\n",
    "visited = [False] * 100001\n",
    "queue = deque([(n, 0)])\n",
    "\n",
    "while queue:\n",
    "    v, cnt = queue.popleft()\n",
    "    visited[v] = True\n",
    "    if v == k:\n",
    "        break\n",
    "    else:\n",
    "        for i in [v - 1, v + 1, 2 * v]:\n",
    "            if i >= 0 and i <= 100000 and not visited[i]:\n",
    "                queue.append((i, cnt+1))\n",
    "\n",
    "print(cnt)"
   ]
  },
  {
   "cell_type": "markdown",
   "id": "26af6549",
   "metadata": {},
   "source": [
    "#### 2178. 미로 탐색"
   ]
  },
  {
   "cell_type": "code",
   "execution_count": null,
   "id": "2ed3778a",
   "metadata": {},
   "outputs": [],
   "source": [
    "from collections import deque\n",
    "\n",
    "def bfs(x, y, visited):\n",
    "    queue = deque([start])\n",
    "    visited[x][y] = True\n",
    "    \n",
    "    while queue:\n",
    "        x, y, cnt = queue.popleft()\n",
    "        for r, c in move:\n",
    "            move_x = x + r\n",
    "            move_y = y + c\n",
    "            cnt += 1\n",
    "            if move_x == n-1 and move_y == m-1:\n",
    "                return cnt\n",
    "            if move_x >= 0 and move_x < n and move_y >= 0 and move_y < m:\n",
    "                if not visited[(move_x, move_y)]:\n",
    "                    queue.append((move_x, move_y, cnt))\n",
    "                    visited[move_x][move_y] = True\n",
    "\n",
    "n, m = map(int, input().split())\n",
    "\n",
    "move = [(1, 0), (0, 1), (-1, 0), (0, -1)]\n",
    "visited = [list(map(int, input().split())) for _ in range(n)]\n",
    "result = bfs(x=0, y=0, visited=visited)\n",
    "print(result)"
   ]
  },
  {
   "cell_type": "markdown",
   "id": "50b9ca2b",
   "metadata": {},
   "source": [
    "#### 13549. 숨바꼭질 3"
   ]
  },
  {
   "cell_type": "code",
   "execution_count": 1,
   "id": "083c1646",
   "metadata": {},
   "outputs": [
    {
     "name": "stdout",
     "output_type": "stream",
     "text": [
      "5 17\n",
      "2\n"
     ]
    }
   ],
   "source": [
    "from collections import deque\n",
    "\n",
    "n, k = map(int, input().split())\n",
    "visited = [False] * 100001\n",
    "queue = deque([(n, 0)])\n",
    "\n",
    "while queue:\n",
    "    v, cnt = queue.popleft()\n",
    "    visited[v] = True\n",
    "    if v == k:\n",
    "        break\n",
    "    else:\n",
    "        \n",
    "        for i in [v - 1, v + 1]:\n",
    "            if i >= 0 and i <= 100000 and not visited[i]:\n",
    "                queue.append((i, cnt+1))\n",
    "        i = 2 * v\n",
    "        if i >= 0 and i <= 100000 and not visited[i]:\n",
    "                queue.append((i, cnt))\n",
    "\n",
    "print(cnt)"
   ]
  },
  {
   "cell_type": "markdown",
   "id": "983d18d2",
   "metadata": {},
   "source": [
    "#### 7562. 나이트의 이동"
   ]
  },
  {
   "cell_type": "code",
   "execution_count": 4,
   "id": "6669dbfe",
   "metadata": {
    "collapsed": true
   },
   "outputs": [
    {
     "name": "stdout",
     "output_type": "stream",
     "text": [
      "3\n",
      "8\n",
      "0 0\n",
      "7 0\n",
      "5\n",
      "100\n",
      "0 0\n",
      "30 50\n",
      "28\n",
      "10\n",
      "1 1\n",
      "1 1\n",
      "0\n"
     ]
    }
   ],
   "source": [
    "from collections import deque\n",
    "\n",
    "def bfs(start, end, visited):\n",
    "    col, row = start\n",
    "    queue = deque([[col, row, 0]])\n",
    "    \n",
    "    while queue:\n",
    "        col, row, cnt = queue.popleft()\n",
    "        if (col == end[0]) and (row == end[1]):\n",
    "            break\n",
    "        \n",
    "        for move in moves:\n",
    "            m_col = col + move[0]\n",
    "            m_row = row + move[1]\n",
    "            if (0 <= m_col < l) and (0 <= m_row < l):\n",
    "                if not visited[m_col][m_row]:\n",
    "                    visited[m_col][m_row] = True\n",
    "                    queue.append([m_col, m_row, cnt + 1])\n",
    "    \n",
    "    return cnt\n",
    "\n",
    "moves = [(1, 2), (2, 1), (-1, 2), (2, -1), (1, -2), (-2, 1), (-1, -2), (-2, -1)]\n",
    "test = int(input())\n",
    "for _ in range(test):\n",
    "    l = int(input())\n",
    "    start = list(map(int, input().split()))\n",
    "    end = list(map(int, input().split()))\n",
    "    visited = [[False] * l for _ in range(l)]\n",
    "    cnt = bfs(start, end, visited)\n",
    "    print(cnt)"
   ]
  },
  {
   "cell_type": "markdown",
   "id": "312b5bc7",
   "metadata": {},
   "source": [
    "#### 뱀과 사다리 게임"
   ]
  },
  {
   "cell_type": "code",
   "execution_count": null,
   "id": "c99db436",
   "metadata": {},
   "outputs": [],
   "source": [
    "from collections import deque\n",
    "\n",
    "def bfs(forward, backward, start):\n",
    "    queue = deque([(start, 0)])\n",
    "    \n",
    "    cnt = 0\n",
    "    while queue:\n",
    "        loc, cnt = queue.popleft()\n",
    "        if loc == 100:\n",
    "            break\n",
    "        \n",
    "        for move in [1, 2, 3, 4, 5, 6]:\n",
    "            new_loc = loc + move\n",
    "            new_loc = backward.get(new_loc, new_loc)\n",
    "            new_loc = forward.get(new_loc, new_loc)\n",
    "            queue.append((new_loc, cnt + 1))\n",
    "\n",
    "    return cnt\n",
    "    \n",
    "n, m = map(int, input().split())\n",
    "\n",
    "forward = {}\n",
    "backward = {}\n",
    "for _ in range(n):\n",
    "    start, end = map(int, input().split())\n",
    "    forward[start] = end\n",
    "\n",
    "for _ in range(m):\n",
    "    start, end = map(int, input().split())\n",
    "    backward[start] = end\n",
    "\n",
    "result = bfs(forward, backward, 1)\n",
    "print(result)"
   ]
  },
  {
   "cell_type": "markdown",
   "id": "50de0581",
   "metadata": {},
   "source": [
    "#### 7576. 토마토"
   ]
  },
  {
   "cell_type": "code",
   "execution_count": null,
   "id": "be905499",
   "metadata": {},
   "outputs": [],
   "source": [
    "from collections import deque\n",
    "\n",
    "\n",
    "def bfs(graph, start, directions):\n",
    "    queue = deque(start)\n",
    "\n",
    "    day = 0\n",
    "    while queue:\n",
    "        col, row, day = queue.popleft()\n",
    "\n",
    "        for direction in directions:\n",
    "            d_col = col + direction[0]\n",
    "            d_row = row + direction[1]\n",
    "            if 0 <= d_col < n and 0 <= d_row < m:\n",
    "                if graph[d_col][d_row] == 0:\n",
    "                    graph[d_col][d_row] = 1\n",
    "                    queue.append([d_col, d_row, day + 1])\n",
    "\n",
    "    return day\n",
    "\n",
    "\n",
    "def check_zero(arr):\n",
    "    flag = True\n",
    "    for row in arr:\n",
    "        if 0 in row:\n",
    "            flag = False\n",
    "            break\n",
    "\n",
    "    return flag\n",
    "\n",
    "\n",
    "m, n = map(int, input().split())\n",
    "arr = [list(map(int, input().split())) for _ in range(n)]\n",
    "move = [(1, 0), (-1, 0), (0, 1), (0, -1)]\n",
    "\n",
    "start_points = []\n",
    "for c in range(n):\n",
    "    for r in range(m):\n",
    "        if arr[c][r] == 1:\n",
    "            start_points.append([c, r, 0])\n",
    "\n",
    "result = bfs(graph=arr, start=start_points, directions=move)\n",
    "if check_zero(arr=arr):\n",
    "    print(result)\n",
    "else:\n",
    "    print(-1)\n"
   ]
  },
  {
   "cell_type": "markdown",
   "id": "f3147ca7",
   "metadata": {},
   "source": [
    "#### 7569. 토마토"
   ]
  },
  {
   "cell_type": "code",
   "execution_count": null,
   "id": "6e2052c1",
   "metadata": {},
   "outputs": [],
   "source": [
    "from collections import deque\n",
    "\n",
    "\n",
    "def bfs(graph, start_list, directions):\n",
    "    queue = deque(start_list)\n",
    "\n",
    "    day = 0\n",
    "    while queue:\n",
    "        height, col, row, day = queue.popleft()\n",
    "        for direction in directions:\n",
    "            d_height = height + direction[0]\n",
    "            d_col = col + direction[1]\n",
    "            d_row = row + direction[2]\n",
    "            if 0 <= d_col < n and 0 <= d_row < m and 0 <= d_height < h:\n",
    "                if graph[d_height][d_col][d_row] == 0:\n",
    "                    graph[d_height][d_col][d_row] = 1\n",
    "                    queue.append([d_height, d_col, d_row, day + 1])\n",
    "\n",
    "    return day, graph\n",
    "\n",
    "\n",
    "def check_zero(graph):\n",
    "    flag = True\n",
    "    for arr in graph:\n",
    "        for row in arr:\n",
    "            if 0 in row:\n",
    "                flag = False\n",
    "                break\n",
    "\n",
    "    return flag\n",
    "\n",
    "\n",
    "m, n, h = map(int, input().split())\n",
    "graph = []\n",
    "for i in range(h):\n",
    "    arr = []\n",
    "    for j in range(n):\n",
    "        arr.append(list(map(int, input().split())))\n",
    "    graph.append(arr)\n",
    "\n",
    "start_list = []\n",
    "for k in range(h):\n",
    "    for c in range(n):\n",
    "        for r in range(m):\n",
    "            if graph[k][c][r] == 1:\n",
    "                start_list.append([k, c, r, 0])\n",
    "\n",
    "directions = [(1, 0, 0), (-1, 0, 0), (0, 1, 0), (0, -1, 0), (0, 0, 1), (0, 0, -1)]\n",
    "result, graph = bfs(graph, start_list, directions)\n",
    "if check_zero(graph):\n",
    "    print(result)\n",
    "else:\n",
    "    print(-1)"
   ]
  },
  {
   "cell_type": "markdown",
   "id": "e0f47648",
   "metadata": {},
   "source": [
    "#### 17086. 아기 상어 2"
   ]
  },
  {
   "cell_type": "code",
   "execution_count": 4,
   "id": "7918d03b",
   "metadata": {
    "collapsed": true
   },
   "outputs": [
    {
     "name": "stdout",
     "output_type": "stream",
     "text": [
      "7 4\n",
      "0 0 0 1\n",
      "0 1 0 0\n",
      "0 0 0 0\n",
      "0 0 0 1\n",
      "0 0 0 0\n",
      "0 1 0 0\n",
      "0 0 0 1\n",
      "2\n"
     ]
    }
   ],
   "source": [
    "from collections import deque\n",
    "\n",
    "def bfs(graph, start, visited, moves):\n",
    "    queue = deque(start)\n",
    "    \n",
    "    cnt = 0\n",
    "    cnt_set = set()\n",
    "    while queue:\n",
    "        r, c, cnt = queue.popleft()\n",
    "        cnt_set.add(cnt)\n",
    "        \n",
    "        for move in moves:\n",
    "            nr = r + move[0]\n",
    "            nc = c + move[1]\n",
    "            if (0 <= nr < n) and (0 <= nc < m):\n",
    "                if not visited[nr][nc] and not graph[nr][nc]:\n",
    "                    visited[nr][nc] = True\n",
    "                    queue.append([nr, nc, cnt + 1])\n",
    "    \n",
    "    return max(cnt_set)\n",
    "    \n",
    "n, m = map(int, input().split())\n",
    "graph = [list(map(int, input().split())) for _ in range(n)]\n",
    "moves = [(1, 0), (0, 1), (-1, 0), (0, -1), (1, 1), (-1, -1), (1, -1), (-1, 1)]\n",
    "\n",
    "result = 0\n",
    "start = []\n",
    "visited = [[False] * m for _ in range(n)]\n",
    "for i in range(n):\n",
    "    for j in range(m):\n",
    "        if graph[i][j]:\n",
    "            start.append([i, j, 0])\n",
    "result = bfs(graph, start, visited, moves)\n",
    "print(result)"
   ]
  },
  {
   "cell_type": "markdown",
   "id": "f45502f0",
   "metadata": {},
   "source": [
    "#### 9019. DSLR"
   ]
  },
  {
   "cell_type": "code",
   "execution_count": 23,
   "id": "65457d97",
   "metadata": {
    "collapsed": true
   },
   "outputs": [
    {
     "name": "stdout",
     "output_type": "stream",
     "text": [
      "3\n",
      "1234 3412\n",
      "LL\n",
      "1000 1\n",
      "L\n",
      "1 16\n",
      "DDDD\n"
     ]
    }
   ],
   "source": [
    "from collections import deque\n",
    "\n",
    "def bfs(start, target, visited):\n",
    "    queue = deque([[start, []]])\n",
    "    visited[start] = True\n",
    "    \n",
    "    while queue:\n",
    "        val, result = queue.popleft()\n",
    "        if val == target:\n",
    "            break\n",
    "        for method in ['D', 'S', 'L', 'R']:\n",
    "            new_val = conv_val(val, method)\n",
    "            if not visited[new_val]:\n",
    "                visited[new_val] = True\n",
    "                queue.append([new_val, result + [method]])\n",
    "\n",
    "    return result\n",
    "\n",
    "def conv_val(val, method):\n",
    "    if method == 'D':\n",
    "        val *= 2\n",
    "        if val > 9999:\n",
    "            val = val % 10000\n",
    "    elif method == 'S':\n",
    "        if val == 0:\n",
    "            val = 9999\n",
    "        else:\n",
    "            val -= 1\n",
    "    else:\n",
    "        val = str(val).zfill(4)\n",
    "        if method == 'L':\n",
    "            val = int(val[1:] + val[0])\n",
    "        else:\n",
    "            val = int(val[-1] + val[:-1])\n",
    "    \n",
    "    return val\n",
    "\n",
    "test = int(input())\n",
    "for _ in range(test):\n",
    "    start, target = map(int, input().split())\n",
    "    \n",
    "    visited = [False] * 10000\n",
    "    result = bfs(start, target, visited)\n",
    "    print(''.join(result))"
   ]
  },
  {
   "cell_type": "markdown",
   "id": "e7814f64",
   "metadata": {},
   "source": [
    "#### 1326. 폴짝폴짝"
   ]
  },
  {
   "cell_type": "code",
   "execution_count": 13,
   "id": "507ee08b",
   "metadata": {
    "scrolled": true
   },
   "outputs": [
    {
     "name": "stdout",
     "output_type": "stream",
     "text": [
      "3\n",
      "3 3 3\n",
      "1 3\n",
      "-1\n"
     ]
    }
   ],
   "source": [
    "from collections import deque\n",
    "\n",
    "def bfs(bridge, start, end, visited):\n",
    "    queue = deque([[start, 0]])\n",
    "    visited[start] = True\n",
    "    \n",
    "    while queue:\n",
    "        loc, cnt = queue.popleft()\n",
    "        if loc == end:\n",
    "            return cnt\n",
    "        \n",
    "        m = bridge[loc]\n",
    "        moves = [m * i for i in range(1, 10000 // m)]\n",
    "        moves += [m * i * -1 for i in range(1, 10000 // m)]\n",
    "        for move in moves:\n",
    "            new_loc = loc + move\n",
    "            if 0 <= new_loc < n and not visited[new_loc]:\n",
    "                queue.append((new_loc, cnt +1))\n",
    "                visitedn[new_loc] = True\n",
    "    \n",
    "    return -1\n",
    "    \n",
    "n = int(input())\n",
    "bridge = list(map(int, input().split()))\n",
    "start, end = map(int, input().split())\n",
    "visited = [False] * n\n",
    "result = bfs(bridge, start-1, end-1, visited)\n",
    "print(result)"
   ]
  },
  {
   "cell_type": "code",
   "execution_count": 3,
   "id": "916e5305",
   "metadata": {},
   "outputs": [
    {
     "name": "stdout",
     "output_type": "stream",
     "text": [
      "7 77\n",
      "7\n"
     ]
    }
   ],
   "source": [
    "from collections import deque\n",
    "\n",
    "def bfs(start, end, visited):\n",
    "    queue = deque([[start, 0]])\n",
    "    visited[start] = True\n",
    "    \n",
    "    while queue:\n",
    "        val, cnt = queue.popleft()\n",
    "        if val == end:\n",
    "            break\n",
    "        \n",
    "        vals = [val + 1, val * 2]\n",
    "        for v in vals:\n",
    "            if v <= end and not visited[v]:\n",
    "                queue.append([v, cnt + 1])\n",
    "                visited[v] =True\n",
    "                \n",
    "    return cnt\n",
    "\n",
    "start, end = map(int, input().split())\n",
    "visited = [False] * (end + 1)\n",
    "result = bfs(start, end, visited)\n",
    "print(result)"
   ]
  },
  {
   "cell_type": "markdown",
   "id": "dbe7a5c3",
   "metadata": {},
   "source": [
    "#### 2206. 벽 부수고 이동하기"
   ]
  },
  {
   "cell_type": "code",
   "execution_count": null,
   "id": "ffca0f16",
   "metadata": {},
   "outputs": [],
   "source": [
    "from collections import deque\n",
    "\n",
    "def bfs(graph, visited):\n",
    "    queue = deque([[0, 0, 1, 0]])\n",
    "    visited[0][0] = True\n",
    "    \n",
    "    while queue:\n",
    "        r, c, cnt, b = queue.popleft()\n",
    "        if r == n - 1 and c == m - 1:\n",
    "            break\n",
    "        \n",
    "        for move in moves:\n",
    "            nr = r + move[0]\n",
    "            nc = c + move[1]\n",
    "            if 0 <= nr < n and 0 <= nc < m:\n",
    "                if not visited[nr][nc]:\n",
    "                    if graph[nr][nc] == '0':\n",
    "                        queue.append([nr, nc, cnt + 1, b])\n",
    "                        visited[nr][nc] = True\n",
    "                    else:\n",
    "                        if b == 0:\n",
    "                            queue.append([nr, nc, cnt + 1, b + 1])\n",
    "                            visited[nr][nc] = True\n",
    "        \n",
    "    else:\n",
    "        cnt = -1\n",
    "        \n",
    "    return cnt\n",
    "\n",
    "n, m = map(int, input().split())\n",
    "graph = [input() for _ in range(n)]\n",
    "visited = [[False] * m for _ in range(n)]\n",
    "moves = [(0, 1), (1, 0), (0, -1), (-1, 0)]\n",
    "result = bfs(graph, visited)\n",
    "print(result)"
   ]
  }
 ],
 "metadata": {
  "kernelspec": {
   "display_name": "Python 3 (ipykernel)",
   "language": "python",
   "name": "python3"
  },
  "language_info": {
   "codemirror_mode": {
    "name": "ipython",
    "version": 3
   },
   "file_extension": ".py",
   "mimetype": "text/x-python",
   "name": "python",
   "nbconvert_exporter": "python",
   "pygments_lexer": "ipython3",
   "version": "3.8.10"
  }
 },
 "nbformat": 4,
 "nbformat_minor": 5
}
