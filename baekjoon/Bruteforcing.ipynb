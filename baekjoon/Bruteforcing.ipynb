{
 "cells": [
  {
   "cell_type": "markdown",
   "id": "2f99a86f",
   "metadata": {},
   "source": [
    "### Bruteforcing"
   ]
  },
  {
   "cell_type": "code",
   "execution_count": 1,
   "id": "d760cd5b",
   "metadata": {},
   "outputs": [],
   "source": [
    "cases = [\n",
    "    # ㅣ\n",
    "    [(0,0),(0,1),(0,2),(0,3)],\n",
    "    [(0,0),(1,0),(2,0),(3,0)],\n",
    "    # ㄱㄴ\n",
    "    [(0,0),(0,1),(1,1),(1,2)],\n",
    "    [(0,0),(1,0),(1,-1),(2,-1)],\n",
    "    # ㄱ\n",
    "    [(0,0),(0,1),(0,2),(1,2)],\n",
    "    [(0,0),(1,0),(2,0),(2,-1)],\n",
    "    [(0,0),(1,0),(1,1),(1,2)],\n",
    "    [(0,0),(0, -1),(1,-1),(2,-1)],\n",
    "    # ㅓ\n",
    "    [(0,0),(1,0),(1, -1),(2,0)],\n",
    "    [(0,0),(0,1),(-1,1),(0,2)],\n",
    "    [(0,0),(1,0),(1,1),(2,0)],\n",
    "    [(0,0),(0,1),(1,1),(0,2)],\n",
    "    # ㅁ\n",
    "    [(0,0),(1,0),(0,1),(1,1)]\n",
    "]"
   ]
  },
  {
   "cell_type": "code",
   "execution_count": null,
   "id": "6f2cdad9",
   "metadata": {
    "scrolled": true
   },
   "outputs": [
    {
     "name": "stdout",
     "output_type": "stream",
     "text": [
      "4\n",
      "70 2 1 7\n",
      "7 1 30 6\n",
      "4 30 30 5\n",
      "3 1 30 2\n",
      "120\n",
      "4\n",
      "-70 -2 -1 -7\n",
      "-7 -1 -30 -6\n",
      "-4 -30 -30 -5\n",
      "-3 -1 -30 -2\n",
      "-11\n"
     ]
    }
   ],
   "source": [
    "while True:\n",
    "    n = int(input())\n",
    "    if n == 0:\n",
    "        break\n",
    "    else:\n",
    "        arr = [list(map(int, input().split())) for _ in range(n)]\n",
    "        result = -4000000\n",
    "        for i in range(n):\n",
    "            for j in range(n):\n",
    "                for case in cases:\n",
    "                    temp = 0\n",
    "                    end = True\n",
    "                    for c in case:\n",
    "                        x, y = c\n",
    "                        x, y = x+i, y+j\n",
    "                        if x < 0 or x > n-1 or y < 0 or y > n-1:\n",
    "                            end = False\n",
    "                            break\n",
    "                        temp += arr[x][y]\n",
    "                    if end and temp > result:\n",
    "                        result = temp\n",
    "        print(result)"
   ]
  },
  {
   "cell_type": "markdown",
   "id": "4513f923",
   "metadata": {},
   "source": [
    "#### 4\n",
    "70  2  1 7\n",
    " 7  1 30 6 \n",
    " 4 30 30 5 \n",
    " 3  1 30 2 "
   ]
  }
 ],
 "metadata": {
  "kernelspec": {
   "display_name": "Python 3 (ipykernel)",
   "language": "python",
   "name": "python3"
  },
  "language_info": {
   "codemirror_mode": {
    "name": "ipython",
    "version": 3
   },
   "file_extension": ".py",
   "mimetype": "text/x-python",
   "name": "python",
   "nbconvert_exporter": "python",
   "pygments_lexer": "ipython3",
   "version": "3.8.10"
  }
 },
 "nbformat": 4,
 "nbformat_minor": 5
}
