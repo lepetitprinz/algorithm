{
 "cells": [
  {
   "cell_type": "markdown",
   "id": "2f99a86f",
   "metadata": {},
   "source": [
    "### Bruteforcing"
   ]
  },
  {
   "cell_type": "code",
   "execution_count": 1,
   "id": "d760cd5b",
   "metadata": {},
   "outputs": [],
   "source": [
    "cases = [\n",
    "    # ㅣ\n",
    "    [(0,0),(0,1),(0,2),(0,3)],\n",
    "    [(0,0),(1,0),(2,0),(3,0)],\n",
    "    # ㄱㄴ\n",
    "    [(0,0),(0,1),(1,1),(1,2)],\n",
    "    [(0,0),(1,0),(1,-1),(2,-1)],\n",
    "    # ㄱ\n",
    "    [(0,0),(0,1),(0,2),(1,2)],\n",
    "    [(0,0),(1,0),(2,0),(2,-1)],\n",
    "    [(0,0),(1,0),(1,1),(1,2)],\n",
    "    [(0,0),(0, -1),(1,-1),(2,-1)],\n",
    "    # ㅓ\n",
    "    [(0,0),(1,0),(1, -1),(2,0)],\n",
    "    [(0,0),(0,1),(-1,1),(0,2)],\n",
    "    [(0,0),(1,0),(1,1),(2,0)],\n",
    "    [(0,0),(0,1),(1,1),(0,2)],\n",
    "    # ㅁ\n",
    "    [(0,0),(1,0),(0,1),(1,1)]\n",
    "]"
   ]
  },
  {
   "cell_type": "code",
   "execution_count": null,
   "id": "6f2cdad9",
   "metadata": {
    "collapsed": true
   },
   "outputs": [
    {
     "name": "stdout",
     "output_type": "stream",
     "text": [
      "4\n",
      "70 2 1 7\n",
      "7 1 30 6\n",
      "4 30 30 5\n",
      "3 1 30 2\n",
      "120\n",
      "4\n",
      "-70 -2 -1 -7\n",
      "-7 -1 -30 -6\n",
      "-4 -30 -30 -5\n",
      "-3 -1 -30 -2\n",
      "-11\n"
     ]
    }
   ],
   "source": [
    "while True:\n",
    "    n = int(input())\n",
    "    if n == 0:\n",
    "        break\n",
    "    else:\n",
    "        arr = [list(map(int, input().split())) for _ in range(n)]\n",
    "        result = -4000000\n",
    "        for i in range(n):\n",
    "            for j in range(n):\n",
    "                for case in cases:\n",
    "                    temp = 0\n",
    "                    end = True\n",
    "                    for c in case:\n",
    "                        x, y = c\n",
    "                        x, y = x+i, y+j\n",
    "                        if x < 0 or x > n-1 or y < 0 or y > n-1:\n",
    "                            end = False\n",
    "                            break\n",
    "                        temp += arr[x][y]\n",
    "                    if end and temp > result:\n",
    "                        result = temp\n",
    "        print(result)"
   ]
  },
  {
   "cell_type": "markdown",
   "id": "37d902c2",
   "metadata": {},
   "source": [
    "\n",
    "#### 5568. 카드 놓기"
   ]
  },
  {
   "cell_type": "code",
   "execution_count": 6,
   "id": "ee4131ac",
   "metadata": {
    "collapsed": true
   },
   "outputs": [
    {
     "name": "stdout",
     "output_type": "stream",
     "text": [
      "6\n",
      "3\n",
      "72\n",
      "2\n",
      "12\n",
      "7\n",
      "2\n",
      "1\n",
      "68\n"
     ]
    }
   ],
   "source": [
    "from itertools import permutations\n",
    "\n",
    "n = int(input())\n",
    "k = int(input())\n",
    "data = [input() for _ in range(n)]\n",
    "\n",
    "result = set()\n",
    "for p in permutations(data, k):\n",
    "    result.add(''.join(p))\n",
    "\n",
    "print(len(result))"
   ]
  },
  {
   "cell_type": "markdown",
   "id": "0b19811b",
   "metadata": {},
   "source": [
    "#### 3407. 맹세"
   ]
  },
  {
   "cell_type": "code",
   "execution_count": 4,
   "id": "75561b1f",
   "metadata": {
    "collapsed": true
   },
   "outputs": [
    {
     "name": "stdout",
     "output_type": "stream",
     "text": [
      "4\n",
      "contest\n",
      "NO\n",
      "a\n",
      "NO\n",
      "a\n",
      "NO\n",
      "a\n",
      "NO\n"
     ]
    }
   ],
   "source": [
    "from collections import deque\n",
    "\n",
    "element = set([\n",
    "    'h','he','li','be','b','c','n','o','f','ne','na','mg',\n",
    "    'al','si','p','s','cl','ar','k','ca','sc','ti','v','cr',\n",
    "    'mn','fe','co','ni','cu','zn','ga','ge','as','se','br','kr',\n",
    "    'rb','sr','y','zr','nb','mo','tc','ru','rh','pd','ag','cd',\n",
    "    'in','sn','sb','te','i','xe','cs','ba','hf','ta','w','re',\n",
    "    'os','ir','pt','au','hg','tl','pb','bi','po','at','rn','fr',\n",
    "    'ra','rf','db','sg','bh','hs','mt','ds','rg','cn','fl',\n",
    "    'lv','la','ce','pr','nd','pm','sm','eu','gd','tb','dy',\n",
    "    'ho','er','tm','yb','lu','ac','th','pa','u','np','pu','am',\n",
    "    'cm','bk','cf','es','fm','md','no','lr'\n",
    "])\n",
    "\n",
    "def check(word):\n",
    "    queue = deque(word)\n",
    "    while queue:\n",
    "        w = queue.popleft()\n",
    "        for i in range(2):\n",
    "            if len(w) > i:\n",
    "                if w[0:i+1] in element:\n",
    "                    queue.append(w[i+1:])\n",
    "    \n",
    "n = int(input())\n",
    "for _ in range(n):\n",
    "    word = input()\n",
    "    if check(word):\n",
    "        print('YES')\n",
    "    else:\n",
    "        print(\"NO\")"
   ]
  },
  {
   "cell_type": "markdown",
   "id": "20e9bd7a",
   "metadata": {},
   "source": [
    "#### 2851. 슈퍼 마리오"
   ]
  },
  {
   "cell_type": "code",
   "execution_count": 5,
   "id": "3d1ac566",
   "metadata": {},
   "outputs": [
    {
     "name": "stdout",
     "output_type": "stream",
     "text": [
      "1\n",
      "2\n",
      "3\n",
      "5\n",
      "8\n",
      "13\n",
      "21\n",
      "34\n",
      "55\n",
      "89\n",
      "87\n"
     ]
    }
   ],
   "source": [
    "score = []\n",
    "for _ in range(10):\n",
    "    score.append(int(input()))\n",
    "    \n",
    "total = 0\n",
    "idx = 9\n",
    "for i in range(10):\n",
    "    total += score[i]\n",
    "    if total >= 100:\n",
    "        idx = i\n",
    "        break\n",
    "\n",
    "diff_bf = abs(total - score[idx] - 100)\n",
    "diff_af = abs(total - 100)\n",
    "if diff_bf == diff_af:\n",
    "    result = total\n",
    "elif diff_af < diff_bf:\n",
    "    result = total\n",
    "else:\n",
    "    result = total - score[idx]\n",
    "\n",
    "print(result)"
   ]
  },
  {
   "cell_type": "markdown",
   "id": "2ec6e1be",
   "metadata": {},
   "source": [
    "#### 1107. 리모컨"
   ]
  },
  {
   "cell_type": "code",
   "execution_count": null,
   "id": "30c33951",
   "metadata": {},
   "outputs": [],
   "source": [
    "n = int(input())\n",
    "m = int(input())\n",
    "nums = list(map(int, input().split()))\n",
    "\n",
    "max_cnt = abs(n - 100)\n",
    "cnt = 0\n",
    "status = []\n",
    "for i in str(n):\n",
    "    if i not in nums:\n",
    "        status.append(int(i))\n",
    "        cnt += 1\n",
    "    else:\n",
    "        avail = []\n",
    "        while before >= 0:\n",
    "            before = int(i) - 1\n",
    "            if before not in nums:\n",
    "                avail.append(before)\n",
    "                break\n",
    "                \n",
    "        while after <= 9:\n",
    "            after = int(i) + 1\n",
    "            if after not in nums:\n",
    "                avail.append(after)\n",
    "                break\n",
    "        \n",
    "        if len(avail) == 0:\n",
    "            cnt = max_cnt\n",
    "            break\n",
    "        else:\n",
    "            \n",
    "        \n",
    "        \n",
    "print(min(max_cnt, cnt))"
   ]
  },
  {
   "cell_type": "markdown",
   "id": "7b7c2491",
   "metadata": {},
   "source": [
    "#### 1487. 물건 팔기"
   ]
  },
  {
   "cell_type": "code",
   "execution_count": 4,
   "id": "4ac2367f",
   "metadata": {},
   "outputs": [
    {
     "name": "stdout",
     "output_type": "stream",
     "text": [
      "3\n",
      "13 5\n",
      "22 15\n",
      "35 30\n",
      "35\n"
     ]
    }
   ],
   "source": [
    "n = int(input())\n",
    "\n",
    "data = {}\n",
    "for _ in range(n):\n",
    "    price, package = map(int, input().split())\n",
    "    if price in data:\n",
    "        data[price].append(package)\n",
    "    else:\n",
    "        data[price] = [package]\n",
    "\n",
    "data = sorted(data.items(), key=lambda x: x[0], reverse=True)\n",
    "\n",
    "count = 0\n",
    "results = []\n",
    "for price, pack_list in data:\n",
    "    count += len(pack_list)\n",
    "    profit = price * count - pack_sum\n",
    "    results.append([price, profit])\n",
    "\n",
    "result = sorted(results, key=lambda x: (-x[1], x[0]))[0]\n",
    "print(result[0])"
   ]
  },
  {
   "cell_type": "markdown",
   "id": "aaa4eb9b",
   "metadata": {},
   "source": [
    "#### 11747. 수열"
   ]
  },
  {
   "cell_type": "code",
   "execution_count": 2,
   "id": "d910ff3c",
   "metadata": {},
   "outputs": [
    {
     "name": "stdout",
     "output_type": "stream",
     "text": [
      "3\n",
      "3 0 1\n",
      "10\n"
     ]
    }
   ],
   "source": [
    "def compare(number_of_length, length):\n",
    "    result = -1\n",
    "    data_of_length = set()\n",
    "    for i in range(n - length + 1):\n",
    "        data_of_length.add(int(''.join(data[i: i + length])))\n",
    "    for number in number_of_length:\n",
    "        if number not in data_of_length:\n",
    "            result = number\n",
    "            break\n",
    "    \n",
    "    return result\n",
    "\n",
    "n = int(input())\n",
    "data = list(input().split())\n",
    "\n",
    "length = 1\n",
    "while length < n + 1:\n",
    "    number_of_length = list(range(10**length, 10**(length + 1))) \n",
    "     \n",
    "    result = compare(number_of_length, length)\n",
    "    if result != -1:\n",
    "        print(result)\n",
    "        break\n",
    "    else:\n",
    "        length += 1"
   ]
  },
  {
   "cell_type": "markdown",
   "id": "0920ef30",
   "metadata": {},
   "source": [
    "#### 1107. 리모컨"
   ]
  },
  {
   "cell_type": "code",
   "execution_count": 76,
   "id": "3cdf263c",
   "metadata": {},
   "outputs": [
    {
     "name": "stdout",
     "output_type": "stream",
     "text": [
      "9\n",
      "8\n",
      "0 3 4 5 6 7 8 9\n",
      "4\n"
     ]
    }
   ],
   "source": [
    "from itertools import product\n",
    "\n",
    "n = int(input())\n",
    "m = int(input())\n",
    "max_move = abs(n - 100)\n",
    "\n",
    "button = set(map(str, range(0, 10)))\n",
    "if m != 0:\n",
    "    button = button - set(list(input().split()))\n",
    "\n",
    "length = len(str(n))\n",
    "moves = []\n",
    "temp = []\n",
    "for i in range(1, length + 2):\n",
    "    for move in product(button, repeat=i):\n",
    "        temp.append(int(''.join(move)))\n",
    "        m = abs(int(''.join(move)) - n)\n",
    "        moves.append(m + i)\n",
    "if len(moves) > 0:\n",
    "    print(min(max_move, min(moves)))\n",
    "else:\n",
    "    print(max_move)"
   ]
  },
  {
   "cell_type": "markdown",
   "id": "2ba6894a",
   "metadata": {},
   "source": [
    "#### 14501. 퇴사"
   ]
  },
  {
   "cell_type": "code",
   "execution_count": null,
   "id": "3ddce2c6",
   "metadata": {},
   "outputs": [],
   "source": [
    "n = int(input())\n",
    "data = [list(map(int, input().split())) for _ in range(n)]\n",
    "\n"
   ]
  }
 ],
 "metadata": {
  "kernelspec": {
   "display_name": "Python 3 (ipykernel)",
   "language": "python",
   "name": "python3"
  },
  "language_info": {
   "codemirror_mode": {
    "name": "ipython",
    "version": 3
   },
   "file_extension": ".py",
   "mimetype": "text/x-python",
   "name": "python",
   "nbconvert_exporter": "python",
   "pygments_lexer": "ipython3",
   "version": "3.8.10"
  }
 },
 "nbformat": 4,
 "nbformat_minor": 5
}
