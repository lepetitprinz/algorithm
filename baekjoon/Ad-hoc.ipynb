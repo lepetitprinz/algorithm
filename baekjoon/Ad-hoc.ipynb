{
 "cells": [
  {
   "cell_type": "markdown",
   "id": "ffa5cab7",
   "metadata": {},
   "source": [
    "#### 25288. 영어 시험"
   ]
  },
  {
   "cell_type": "code",
   "execution_count": null,
   "id": "b4dacfe3",
   "metadata": {},
   "outputs": [],
   "source": [
    "n = int(input())\n",
    "data = list(input())\n",
    "result = ["
   ]
  },
  {
   "cell_type": "markdown",
   "id": "aa0ba02a",
   "metadata": {},
   "source": [
    "#### 10837. 동전 게임"
   ]
  },
  {
   "cell_type": "code",
   "execution_count": null,
   "id": "06ad4eb6",
   "metadata": {},
   "outputs": [],
   "source": [
    "def solve(k, m, n):\n",
    "    result = 0\n",
    "    if m == n:\n",
    "        result = 1\n",
    "    elif m > n:\n",
    "        if k - (m - 1) >= (m - 1) - n:\n",
    "            result = 1\n",
    "    else:\n",
    "        if (k - m) >= (n - 1) - m:\n",
    "            result = 1\n",
    "    return result\n",
    "    \n",
    "k = int(input())\n",
    "c = int(input())\n",
    "for _ in range(c):\n",
    "    m, n = map(int, input().split())\n",
    "    result = solve(k, m, n)\n",
    "    print(result)"
   ]
  }
 ],
 "metadata": {
  "kernelspec": {
   "display_name": "Python 3 (ipykernel)",
   "language": "python",
   "name": "python3"
  },
  "language_info": {
   "codemirror_mode": {
    "name": "ipython",
    "version": 3
   },
   "file_extension": ".py",
   "mimetype": "text/x-python",
   "name": "python",
   "nbconvert_exporter": "python",
   "pygments_lexer": "ipython3",
   "version": "3.8.15"
  }
 },
 "nbformat": 4,
 "nbformat_minor": 5
}
