{
 "cells": [
  {
   "cell_type": "markdown",
   "id": "41e31f64",
   "metadata": {},
   "source": [
    "### Mathematics"
   ]
  },
  {
   "cell_type": "code",
   "execution_count": null,
   "id": "671867b4",
   "metadata": {},
   "outputs": [],
   "source": [
    "import sys\n",
    "import math\n",
    "\n",
    "def is_prime(x):\n",
    "    if (x == 0) or (x == 1):\n",
    "        return False\n",
    "    \n",
    "    for i in range(2, int(math.sqrt(x)) + 1):\n",
    "        if x % i == 0:\n",
    "            return False\n",
    "    return True\n",
    "    \n",
    "    for i in range(2, int(math.sqrt(x)) + 1):\n",
    "        if x % i == 0:\n",
    "            return False\n",
    "    return True\n",
    "\n",
    "while True:\n",
    "    n = int(sys.stdin.readline().rstrip())\n",
    "    if n == 0:\n",
    "        break\n",
    "    else:\n",
    "        total = 0\n",
    "        for i in range(n+1, 2*n+1):\n",
    "            total += is_prime(i)\n",
    "        print(total)"
   ]
  },
  {
   "cell_type": "markdown",
   "id": "a7c9acb9",
   "metadata": {},
   "source": [
    "### 9020. 골드바흐의 추측"
   ]
  },
  {
   "cell_type": "code",
   "execution_count": null,
   "id": "1c0f8b70",
   "metadata": {},
   "outputs": [],
   "source": [
    "import math\n",
    "\n",
    "def is_prime(x):\n",
    "    if (x == 0) or (x == 1):\n",
    "        return False\n",
    "    \n",
    "    for i in range(2, int(math.sqrt(x)) + 1):\n",
    "        if x % i == 0:\n",
    "            return False\n",
    "    return True\n",
    "    \n",
    "    for i in range(2, int(math.sqrt(x)) + 1):\n",
    "        if x % i == 0:\n",
    "            return False\n",
    "    return True\n",
    "\n",
    "prime_list = [i for i in range(2, 10001) if is_prime(i)]\n",
    "\n",
    "n = int(input())\n",
    "for _ in range(n):\n",
    "    number = int(input())\n",
    "    middle = number//2\n",
    "    for i in range(0, middle):\n",
    "        if (middle-i in prime_list) and (middle+i in prime_list):\n",
    "            print(middle-i, middle+i)\n",
    "            break"
   ]
  },
  {
   "cell_type": "markdown",
   "id": "cb954ca1",
   "metadata": {},
   "source": [
    "### 11051. 이항 계수 2"
   ]
  },
  {
   "cell_type": "code",
   "execution_count": null,
   "id": "0c654a89",
   "metadata": {},
   "outputs": [],
   "source": [
    "n, k = map(int, input().split())\n",
    "\n",
    "def factorial(n):\n",
    "    result = 1\n",
    "    for i in range(2, n+1):\n",
    "        result *= i\n",
    "        \n",
    "    return result\n",
    "\n",
    "print(factorial(n) // factorial(k) // factorial(n-k) % 10007)"
   ]
  },
  {
   "cell_type": "code",
   "execution_count": null,
   "id": "a927e037",
   "metadata": {},
   "outputs": [],
   "source": [
    "import datetime as dt\n",
    "print(dt.date.today())"
   ]
  },
  {
   "cell_type": "code",
   "execution_count": null,
   "id": "86c959ab",
   "metadata": {},
   "outputs": [],
   "source": [
    "from collections import Counter\n",
    "test= Counter([1,1,2,3,4,5,7])"
   ]
  },
  {
   "cell_type": "code",
   "execution_count": null,
   "id": "6107b628",
   "metadata": {},
   "outputs": [],
   "source": [
    "from collections import Counter\n",
    "n = int(input())\n",
    "num_cnt = Counter(list(map(int, input().split())))\n",
    "print(num_cnt[int(input())])"
   ]
  },
  {
   "cell_type": "code",
   "execution_count": null,
   "id": "f3ce1649",
   "metadata": {},
   "outputs": [],
   "source": [
    "nums = list(range(1, 31))"
   ]
  },
  {
   "cell_type": "code",
   "execution_count": null,
   "id": "ae6ffab0",
   "metadata": {},
   "outputs": [],
   "source": [
    "nums.remove(1)"
   ]
  },
  {
   "cell_type": "code",
   "execution_count": null,
   "id": "6d4d2929",
   "metadata": {
    "scrolled": true
   },
   "outputs": [],
   "source": [
    "n, m = map(int, input().split())\n",
    "mat = []\n",
    "\n",
    "for _ in range(n):\n",
    "    line_n = list(map(int, input().split()))\n",
    "for _ in range(n):\n",
    "    line_m = list(map(int, input().split()))\n",
    "\n"
   ]
  },
  {
   "cell_type": "markdown",
   "id": "d237c2ee",
   "metadata": {},
   "source": [
    "#### 2004. 조합 0의 개수"
   ]
  },
  {
   "cell_type": "code",
   "execution_count": null,
   "id": "6f92847d",
   "metadata": {},
   "outputs": [],
   "source": [
    "n, m = map(int, input().split())\n",
    "\n",
    "def cnt_two(n):\n",
    "    two = 0\n",
    "    while n != 0:\n",
    "        n = n // 2\n",
    "        two += n\n",
    "    return two\n",
    "\n",
    "def cnt_five(n):\n",
    "    five = 0\n",
    "    while n != 0:\n",
    "        n = n // 5\n",
    "        five += n\n",
    "    return five\n",
    "\n",
    "n_two_cnt = cnt_two(n)\n",
    "m_two_cnt = cnt_two(m)\n",
    "n_m_two_cnt = cnt_two(n-m)\n",
    "two_cnt = n_two_cnt - m_two_cnt - n_m_two_cnt\n",
    "\n",
    "n_five_cnt = cnt_five(n)\n",
    "m_five_cnt = cnt_five(m)\n",
    "n_m_five_cnt = cnt_five(n-m)\n",
    "five_cnt = n_five_cnt - m_five_cnt - n_m_five_cnt\n",
    "\n",
    "print(min(two_cnt, five_cnt))"
   ]
  },
  {
   "cell_type": "markdown",
   "id": "e41772d1",
   "metadata": {},
   "source": [
    "#### 5671.호텔 방 번호"
   ]
  },
  {
   "cell_type": "code",
   "execution_count": null,
   "id": "cbdb7ab6",
   "metadata": {},
   "outputs": [],
   "source": [
    "a, b = map(int, input().split())\n",
    "cnt = 0\n",
    "for i in range(a, b+1):\n",
    "    if len(str(i)) == len(set(str(i))):\n",
    "        cnt += 1\n",
    "\n",
    "print(cnt)"
   ]
  },
  {
   "cell_type": "code",
   "execution_count": null,
   "id": "31ee0416",
   "metadata": {
    "scrolled": true
   },
   "outputs": [],
   "source": [
    "set(str(87))"
   ]
  },
  {
   "cell_type": "markdown",
   "id": "401b4269",
   "metadata": {},
   "source": [
    "#### 2485. 가로수"
   ]
  },
  {
   "cell_type": "code",
   "execution_count": null,
   "id": "36ef23ee",
   "metadata": {},
   "outputs": [],
   "source": [
    "from math import gcd"
   ]
  },
  {
   "cell_type": "code",
   "execution_count": null,
   "id": "cc58f8fe",
   "metadata": {
    "scrolled": false
   },
   "outputs": [],
   "source": [
    "n = int(input())\n",
    "diff_list = []\n",
    "temp = int(input())\n",
    "g = 0\n",
    "for i in range(n-1):\n",
    "    val = int(input())\n",
    "    diff = val - temp\n",
    "    diff_list.append(diff)\n",
    "    temp = val\n",
    "    if i == 0:\n",
    "        g = diff\n",
    "    else:\n",
    "        g = gcd(g, diff)\n",
    "        \n",
    "result = sum(d//g -1 for d in diff_list)\n",
    "print(result)"
   ]
  },
  {
   "cell_type": "markdown",
   "id": "b98413cb",
   "metadata": {},
   "source": [
    "#### 2312. 수 복원하기"
   ]
  },
  {
   "cell_type": "code",
   "execution_count": null,
   "id": "e6aff4cc",
   "metadata": {},
   "outputs": [],
   "source": [
    "def decompose(n):\n",
    "    result = {}\n",
    "    div = 2\n",
    "    while True:\n",
    "        if n == 1:\n",
    "            break\n",
    "        if n % div == 0:\n",
    "            n = n // div\n",
    "            if div in result:\n",
    "                result[div] += 1\n",
    "            else:\n",
    "                result[div] = 1\n",
    "        else:\n",
    "            div += 1\n",
    "    \n",
    "    return result\n",
    "\n",
    "test = int(input())\n",
    "for _ in range(test):\n",
    "    result = decompose(int(input()))\n",
    "    for k, v in result.items():\n",
    "        print(k, v)"
   ]
  },
  {
   "cell_type": "markdown",
   "id": "942b5757",
   "metadata": {},
   "source": [
    "#### 5874. 소를 찾아라"
   ]
  },
  {
   "cell_type": "code",
   "execution_count": null,
   "id": "cd814041",
   "metadata": {},
   "outputs": [],
   "source": [
    "string = input()\n",
    "forward = []\n",
    "backward = []\n",
    "\n",
    "for i in range(len(string)-1):\n",
    "    if string[i: i+2] == '((':\n",
    "        forward.append(i)\n",
    "    elif string[i: i+2] == '))':\n",
    "        backward.append(i)\n",
    "\n",
    "result = 0\n",
    "b_length = len(backward)\n",
    "for f in forward:\n",
    "    for j, b in enumerate(backward):\n",
    "        if f < b:\n",
    "            result += b_length - j\n",
    "            break\n",
    "\n",
    "print(result)"
   ]
  },
  {
   "cell_type": "markdown",
   "id": "0d5add8c",
   "metadata": {},
   "source": [
    "#### 10610. 30"
   ]
  },
  {
   "cell_type": "code",
   "execution_count": null,
   "id": "1a2ad20b",
   "metadata": {},
   "outputs": [],
   "source": [
    "n = list(map(int, list(input())))\n",
    "if 0 not in n:\n",
    "    print(-1)\n",
    "else:\n",
    "    if sum(n) % 3 == 0:\n",
    "        result = sorted(n, reverse=True)\n",
    "        print(*result, sep='')\n",
    "    else:\n",
    "        print(-1)"
   ]
  },
  {
   "cell_type": "markdown",
   "id": "6f44c164",
   "metadata": {},
   "source": [
    "#### 11895. 속이기"
   ]
  },
  {
   "cell_type": "code",
   "execution_count": null,
   "id": "f7fdc666",
   "metadata": {},
   "outputs": [],
   "source": [
    "n = int(input())\n",
    "data = sorted(list(map(int, input().split())))\n",
    "\n",
    "temp = data[0]\n",
    "for num in data[1:]:\n",
    "    temp = bin(temp ^ num)\n",
    "    temp = int(temp, 2)\n",
    "\n",
    "if temp == 0:\n",
    "    print(sum(data[1:]))\n",
    "else:\n",
    "    print(0)"
   ]
  },
  {
   "cell_type": "markdown",
   "id": "6c20c7fa",
   "metadata": {},
   "source": [
    "#### 1094. 막대기"
   ]
  },
  {
   "cell_type": "code",
   "execution_count": null,
   "id": "00996006",
   "metadata": {
    "scrolled": true
   },
   "outputs": [],
   "source": [
    "n = int(input())\n",
    "curr = [64]\n",
    "while True:\n",
    "    if sum(curr) == n:\n",
    "        break\n",
    "    else:\n",
    "        min_val = min(curr)\n",
    "        min_half_val = min_val // 2\n",
    "        if sum(curr) - min_half_val >= n:\n",
    "            curr.remove(min_val)\n",
    "            curr.append(min_half_val)\n",
    "        else:\n",
    "            curr.remove(min_val)\n",
    "            curr.extend([min_half_val, min_half_val])\n",
    "\n",
    "print(len(curr))"
   ]
  },
  {
   "cell_type": "markdown",
   "id": "bb8853ac",
   "metadata": {},
   "source": [
    "#### 11444. 피보나치 수 6"
   ]
  },
  {
   "cell_type": "code",
   "execution_count": null,
   "id": "9518e25a",
   "metadata": {},
   "outputs": [],
   "source": [
    "def fibonacci(n):\n",
    "    base = [[1,1],[1,0]]\n",
    "    if n == 1:\n",
    "        matrix = base\n",
    "    else:\n",
    "        div_matrix = fibonacci(n // 2)\n",
    "        matrix = [\n",
    "                    [\n",
    "                        (div_matrix[0][0] * div_matrix[0][0] + div_matrix[0][1] * div_matrix[1][0]) % 1000000007, \n",
    "                        (div_matrix[0][0] * div_matrix[0][1] + div_matrix[0][1] * div_matrix[1][1]) % 1000000007\n",
    "                    ],\n",
    "                    [\n",
    "                        (div_matrix[1][0] * div_matrix[0][0] + div_matrix[1][1] * div_matrix[1][0]) % 1000000007, \n",
    "                        (div_matrix[1][0] * div_matrix[0][1] + div_matrix[1][1] * div_matrix[1][1]) % 1000000007\n",
    "                    ]\n",
    "        ]\n",
    "        if n % 2 == 1:\n",
    "            matrix = [\n",
    "                        [\n",
    "                            (matrix[0][0] * base[0][0] + matrix[0][1] * base[1][0]) % 1000000007, \n",
    "                            (matrix[0][0] * base[0][1] + matrix[0][1] * base[1][1]) % 1000000007\n",
    "                        ],\n",
    "                        [\n",
    "                            (matrix[1][0] * base[0][0] + matrix[1][1] * base[1][0]) % 1000000007, \n",
    "                            (matrix[1][0] * base[0][1] + matrix[1][1] * base[1][1]) % 1000000007\n",
    "                        ]\n",
    "                    ]\n",
    "    return matrix\n",
    "\n",
    "n = int(input())\n",
    "print(fibonacci(n)[0][1] % 1000000007)\n"
   ]
  },
  {
   "cell_type": "markdown",
   "id": "31df341c",
   "metadata": {},
   "source": [
    "#### 10986. 나머지 합"
   ]
  },
  {
   "cell_type": "code",
   "execution_count": null,
   "id": "b6f4d990",
   "metadata": {},
   "outputs": [],
   "source": [
    "n, m = map(int, input().split())\n",
    "data = list(map(int, input().split()))\n",
    "\n",
    "mod_count = {}\n",
    "cumsum = data[0]\n",
    "mod_count[cumsum % m] = 1\n",
    "for i in range(1, n):\n",
    "    cumsum += data[i]\n",
    "    mod = cumsum % m\n",
    "    if mod in mod_count:\n",
    "        mod_count[mod] += 1\n",
    "    else:\n",
    "        mod_count[mod] = 1\n",
    "\n",
    "result = mod_count[0]\n",
    "for cnt in mod_count.values():\n",
    "    result += cnt * (cnt -1) // 2\n",
    "\n",
    "print(result)"
   ]
  },
  {
   "cell_type": "markdown",
   "id": "3f4c7c50",
   "metadata": {},
   "source": [
    "#### 19592. 장난감 경주"
   ]
  },
  {
   "cell_type": "code",
   "execution_count": null,
   "id": "c19274c5",
   "metadata": {},
   "outputs": [],
   "source": [
    "def solution(x, y, v_list):\n",
    "    time = [x//v for v in v_list]\n",
    "    min_time = min(time[:-1])\n",
    "    z = time[-1]\n",
    "    \n",
    "    result = 0\n",
    "    if min_time <= z:\n",
    "        if y + z >= min_time:\n",
    "            result = -1\n",
    "        else:\n",
    "            result = min_time - 1\n",
    "    \n",
    "    return result\n",
    "    \n",
    "t = int(input())\n",
    "for _ in range(t):\n",
    "    n, x, y = map(int, input().split())\n",
    "    v_list = list(map(int, input().split()))\n",
    "    result = solution(x, y, v_list)\n",
    "    print(result)"
   ]
  },
  {
   "cell_type": "markdown",
   "id": "7c73b13f",
   "metadata": {},
   "source": [
    "#### 1404. 토너먼트 승자"
   ]
  },
  {
   "cell_type": "code",
   "execution_count": null,
   "id": "b5eafeec",
   "metadata": {},
   "outputs": [],
   "source": [
    "prob = {}\n",
    "data = list(map(int, input().split()))\n",
    "\n",
    "prob = {i: [0] * 8 for i in range(8)}\n",
    "idx = 0\n",
    "l = 8\n",
    "for i in range(8):\n",
    "    for j in range(i+1, l):\n",
    "        prob[i][j] = data[idx] / 100\n",
    "        prob[j][i] = (100 - data[idx]) / 100\n",
    "        idx += 1\n",
    "\n",
    "result = []\n",
    "for i in range(8):\n",
    "    p = 1\n",
    "    if i % 2 == 0:\n",
    "        p *= prob[i][i+1]\n",
    "    else:\n",
    "        p *= prob[i][i-1]"
   ]
  },
  {
   "cell_type": "code",
   "execution_count": null,
   "id": "f6982b1f",
   "metadata": {},
   "outputs": [],
   "source": [
    "prob"
   ]
  },
  {
   "cell_type": "code",
   "execution_count": null,
   "id": "b1df517b",
   "metadata": {},
   "outputs": [],
   "source": [
    "prob = list(map(int, input().split()))\n",
    "maps = [[1] * 8 for _ in range(8)]\n",
    "idx = 0\n",
    "for i in range(7):\n",
    "    for j in range(i+1, 8):\n",
    "        prcnt = prob[idx]\n",
    "        maps[i][j] = prcnt\n",
    "        maps[j][i] = (100-prcnt)\n",
    "        idx += 1\n",
    "        \n",
    "percents = [1] * 8\n",
    "group = list(range(8))\n",
    "for i in range(3):\n",
    "    tmp = percents[:]\n",
    "    for j,g in enumerate(group):\n",
    "        q = g // 2\n",
    "        r = (g+1) % 2\n",
    "        group[j] = q\n",
    "        start = (2**(i+1)) * q + (2**i) * r\n",
    "        p = 0\n",
    "        for k in range(2**i):\n",
    "            p += percents[start+k] * maps[j][start+k]\n",
    "        tmp[j] = p * percents[j] / 100\n",
    "    percents = tmp\n",
    "print(*percents)"
   ]
  },
  {
   "cell_type": "markdown",
   "id": "18eb0ee5",
   "metadata": {},
   "source": [
    "#### 23827. 수열 (Easy)"
   ]
  },
  {
   "cell_type": "code",
   "execution_count": null,
   "id": "40783800",
   "metadata": {},
   "outputs": [],
   "source": [
    "n = int(input())\n",
    "data = list(map(int, input().split()))\n",
    "total = sum(data)\n",
    "\n",
    "result = 0\n",
    "for number in data:\n",
    "    result += number * (total - number)\n",
    "    result = result % 1000000007\n",
    "    total -= number\n",
    "\n",
    "print(result % 1000000007)"
   ]
  },
  {
   "cell_type": "markdown",
   "id": "2b55ba54",
   "metadata": {},
   "source": [
    "#### 6064. 카잉 달력"
   ]
  },
  {
   "cell_type": "code",
   "execution_count": null,
   "id": "07a4a25a",
   "metadata": {},
   "outputs": [],
   "source": [
    "from math import gcd\n",
    "\n",
    "def solution(m, n, x, y):\n",
    "    lcm = m * n // gcd(m, n)\n",
    "    \n",
    "    result = -1\n",
    "    left = x\n",
    "    right = y\n",
    "    while left < lcm:\n",
    "        if left == right:\n",
    "            result = left\n",
    "            break\n",
    "        elif left > right:\n",
    "            right += n\n",
    "        else:\n",
    "            left += m\n",
    "    \n",
    "    return result\n",
    "\n",
    "test = int(input())\n",
    "for _ in range(test):\n",
    "    m, n, x, y = map(int, input().split())\n",
    "    result = solution(m, n, x, y)\n",
    "    print(result)\n",
    "    "
   ]
  },
  {
   "cell_type": "markdown",
   "id": "78095323",
   "metadata": {},
   "source": [
    "#### 14608, 구분구적법 (Small)"
   ]
  },
  {
   "cell_type": "code",
   "execution_count": 16,
   "id": "48ca689b",
   "metadata": {},
   "outputs": [
    {
     "name": "stdout",
     "output_type": "stream",
     "text": [
      "1\n",
      "1 0\n",
      "0 1 2\n",
      "0.25\n"
     ]
    }
   ],
   "source": [
    "def function(x, c_list):\n",
    "    result = 0\n",
    "    for i, c in enumerate(c_list):\n",
    "        result += c * (x ** i)\n",
    "        \n",
    "    return result\n",
    "\n",
    "def integral(b, a, c_list):\n",
    "    area = 0\n",
    "    for i, c in enumerate(c_list):\n",
    "        i += 1\n",
    "        area += c * (b ** i - a ** i)/ i\n",
    "\n",
    "    return area\n",
    "        \n",
    "def calculate(a, b, n, e, c_list):\n",
    "    area = 0\n",
    "    delta = (b - a) / n\n",
    "    for i in range(n):\n",
    "        x = (a + i * delta + e) * delta\n",
    "        area += function(x, c_list)\n",
    "    \n",
    "    return area\n",
    "\n",
    "k = int(input())\n",
    "c_list = sorted(list(map(int, input().split())))\n",
    "a, b, n = map(int, input().split())\n",
    "\n",
    "s = 0\n",
    "e = (b - a) / n\n",
    "area_org = integral(b, a, c_list)\n",
    "area_new = 10 ** 10\n",
    "while abs(area_org - area_new) > 10**(-4):\n",
    "    middle = (s + e) / 2\n",
    "    area_new = calculate(a, b, n, middle, c_list)\n",
    "    if area_new > area_org:\n",
    "        e = middle\n",
    "    else:\n",
    "        s = middle\n",
    "        \n",
    "print(middle)"
   ]
  }
 ],
 "metadata": {
  "kernelspec": {
   "display_name": "Python 3 (ipykernel)",
   "language": "python",
   "name": "python3"
  },
  "language_info": {
   "codemirror_mode": {
    "name": "ipython",
    "version": 3
   },
   "file_extension": ".py",
   "mimetype": "text/x-python",
   "name": "python",
   "nbconvert_exporter": "python",
   "pygments_lexer": "ipython3",
   "version": "3.8.10"
  }
 },
 "nbformat": 4,
 "nbformat_minor": 5
}
