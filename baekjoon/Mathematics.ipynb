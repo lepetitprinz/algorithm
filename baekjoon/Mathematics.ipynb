{
 "cells": [
  {
   "cell_type": "markdown",
   "id": "41e31f64",
   "metadata": {},
   "source": [
    "### Mathematics"
   ]
  },
  {
   "cell_type": "code",
   "execution_count": null,
   "id": "671867b4",
   "metadata": {},
   "outputs": [],
   "source": [
    "import sys\n",
    "import math\n",
    "\n",
    "def is_prime(x):\n",
    "    if (x == 0) or (x == 1):\n",
    "        return False\n",
    "    \n",
    "    for i in range(2, int(math.sqrt(x)) + 1):\n",
    "        if x % i == 0:\n",
    "            return False\n",
    "    return True\n",
    "    \n",
    "    for i in range(2, int(math.sqrt(x)) + 1):\n",
    "        if x % i == 0:\n",
    "            return False\n",
    "    return True\n",
    "\n",
    "while True:\n",
    "    n = int(sys.stdin.readline().rstrip())\n",
    "    if n == 0:\n",
    "        break\n",
    "    else:\n",
    "        total = 0\n",
    "        for i in range(n+1, 2*n+1):\n",
    "            total += is_prime(i)\n",
    "        print(total)"
   ]
  },
  {
   "cell_type": "markdown",
   "id": "a7c9acb9",
   "metadata": {},
   "source": [
    "### 9020. 골드바흐의 추측"
   ]
  },
  {
   "cell_type": "markdown",
   "id": "0bc95cf4",
   "metadata": {},
   "source": [
    "1보다 큰 자연수 중에서  1과 자기 자신을 제외한 약수가 없는 자연수를 소수라고 한다. 예를 들어, 5는 1과 5를 제외한 약수가 없기 때문에 소수이다. 하지만, 6은 6 = 2 × 3 이기 때문에 소수가 아니다.\n",
    "\n",
    "골드바흐의 추측은 유명한 정수론의 미해결 문제로, 2보다 큰 모든 짝수는 두 소수의 합으로 나타낼 수 있다는 것이다. 이러한 수를 골드바흐 수라고 한다. 또, 짝수를 두 소수의 합으로 나타내는 표현을 그 수의 골드바흐 파티션이라고 한다. 예를 들면, 4 = 2 + 2, 6 = 3 + 3, 8 = 3 + 5, 10 = 5 + 5, 12 = 5 + 7, 14 = 3 + 11, 14 = 7 + 7이다. 10000보다 작거나 같은 모든 짝수 n에 대한 골드바흐 파티션은 존재한다.\n",
    "\n",
    "2보다 큰 짝수 n이 주어졌을 때, n의 골드바흐 파티션을 출력하는 프로그램을 작성하시오. 만약 가능한 n의 골드바흐 파티션이 여러 가지인 경우에는 두 소수의 차이가 가장 작은 것을 출력한다."
   ]
  },
  {
   "cell_type": "code",
   "execution_count": 13,
   "id": "1c0f8b70",
   "metadata": {},
   "outputs": [
    {
     "name": "stdout",
     "output_type": "stream",
     "text": [
      "1\n",
      "4\n",
      "2 2\n"
     ]
    }
   ],
   "source": [
    "import math\n",
    "\n",
    "def is_prime(x):\n",
    "    if (x == 0) or (x == 1):\n",
    "        return False\n",
    "    \n",
    "    for i in range(2, int(math.sqrt(x)) + 1):\n",
    "        if x % i == 0:\n",
    "            return False\n",
    "    return True\n",
    "    \n",
    "    for i in range(2, int(math.sqrt(x)) + 1):\n",
    "        if x % i == 0:\n",
    "            return False\n",
    "    return True\n",
    "\n",
    "prime_list = [i for i in range(2, 10001) if is_prime(i)]\n",
    "\n",
    "n = int(input())\n",
    "for _ in range(n):\n",
    "    number = int(input())\n",
    "    middle = number//2\n",
    "    for i in range(0, middle):\n",
    "        if (middle-i in prime_list) and (middle+i in prime_list):\n",
    "            print(middle-i, middle+i)\n",
    "            break"
   ]
  },
  {
   "cell_type": "markdown",
   "id": "cb954ca1",
   "metadata": {},
   "source": [
    "### 11051. 이항 계수 2"
   ]
  },
  {
   "cell_type": "code",
   "execution_count": 4,
   "id": "0c654a89",
   "metadata": {},
   "outputs": [
    {
     "name": "stdout",
     "output_type": "stream",
     "text": [
      "50 5\n",
      "7283\n"
     ]
    }
   ],
   "source": [
    "n, k = map(int, input().split())\n",
    "\n",
    "def factorial(n):\n",
    "    result = 1\n",
    "    for i in range(2, n+1):\n",
    "        result *= i\n",
    "        \n",
    "    return result\n",
    "\n",
    "print(factorial(n) // factorial(k) // factorial(n-k) % 10007)"
   ]
  },
  {
   "cell_type": "code",
   "execution_count": 6,
   "id": "a927e037",
   "metadata": {},
   "outputs": [
    {
     "name": "stdout",
     "output_type": "stream",
     "text": [
      "2022-06-06\n"
     ]
    }
   ],
   "source": [
    "import datetime as dt\n",
    "print(dt.date.today())"
   ]
  },
  {
   "cell_type": "code",
   "execution_count": 9,
   "id": "86c959ab",
   "metadata": {},
   "outputs": [],
   "source": [
    "from collections import Counter\n",
    "test= Counter([1,1,2,3,4,5,7])"
   ]
  },
  {
   "cell_type": "code",
   "execution_count": 12,
   "id": "6107b628",
   "metadata": {},
   "outputs": [
    {
     "name": "stdout",
     "output_type": "stream",
     "text": [
      "11\n",
      "1 4 1 2 4 2 4 2 3 4 4\n",
      "2\n",
      "3\n"
     ]
    }
   ],
   "source": [
    "from collections import Counter\n",
    "n = int(input())\n",
    "num_cnt = Counter(list(map(int, input().split())))\n",
    "print(num_cnt[int(input())])"
   ]
  },
  {
   "cell_type": "code",
   "execution_count": 13,
   "id": "f3ce1649",
   "metadata": {},
   "outputs": [],
   "source": [
    "nums = list(range(1, 31))"
   ]
  },
  {
   "cell_type": "code",
   "execution_count": 14,
   "id": "ae6ffab0",
   "metadata": {},
   "outputs": [],
   "source": [
    "nums.remove(1)"
   ]
  },
  {
   "cell_type": "code",
   "execution_count": 19,
   "id": "6d4d2929",
   "metadata": {
    "scrolled": true
   },
   "outputs": [
    {
     "name": "stdout",
     "output_type": "stream",
     "text": [
      "3 3\n",
      "1 1 1\n",
      "2 2 2\n",
      "3 3 3\n",
      "3 3 3\n",
      "4 4 4\n",
      "7 7 7\n",
      "5 5 5\n",
      "6 6 6\n",
      "11 11 11\n"
     ]
    }
   ],
   "source": [
    "n, m = map(int, input().split())\n",
    "mat = []\n",
    "\n",
    "\n",
    "for _ in range(n):\n",
    "    line_n = list(map(int, input().split()))\n",
    "for _ in range(n):\n",
    "    line_m = list(map(int, input().split()))\n",
    "\n"
   ]
  },
  {
   "cell_type": "markdown",
   "id": "d237c2ee",
   "metadata": {},
   "source": [
    "#### 2004. 조합 0의 개수"
   ]
  },
  {
   "cell_type": "code",
   "execution_count": 2,
   "id": "6f92847d",
   "metadata": {},
   "outputs": [
    {
     "name": "stdout",
     "output_type": "stream",
     "text": [
      "25 12\n",
      "2\n"
     ]
    }
   ],
   "source": [
    "n, m = map(int, input().split())\n",
    "\n",
    "def cnt_two(n):\n",
    "    two = 0\n",
    "    while n != 0:\n",
    "        n = n // 2\n",
    "        two += n\n",
    "    return two\n",
    "\n",
    "def cnt_five(n):\n",
    "    five = 0\n",
    "    while n != 0:\n",
    "        n = n // 5\n",
    "        five += n\n",
    "    return five\n",
    "\n",
    "n_two_cnt = cnt_two(n)\n",
    "m_two_cnt = cnt_two(m)\n",
    "n_m_two_cnt = cnt_two(n-m)\n",
    "two_cnt = n_two_cnt - m_two_cnt - n_m_two_cnt\n",
    "\n",
    "n_five_cnt = cnt_five(n)\n",
    "m_five_cnt = cnt_five(m)\n",
    "n_m_five_cnt = cnt_five(n-m)\n",
    "five_cnt = n_five_cnt - m_five_cnt - n_m_five_cnt\n",
    "\n",
    "print(min(two_cnt, five_cnt))"
   ]
  },
  {
   "cell_type": "markdown",
   "id": "e41772d1",
   "metadata": {},
   "source": [
    "#### 5671.호텔 방 번호"
   ]
  },
  {
   "cell_type": "code",
   "execution_count": 16,
   "id": "cbdb7ab6",
   "metadata": {},
   "outputs": [
    {
     "name": "stdout",
     "output_type": "stream",
     "text": [
      "100 101\n",
      "0\n"
     ]
    }
   ],
   "source": [
    "a, b = map(int, input().split())\n",
    "cnt = 0\n",
    "for i in range(a, b+1):\n",
    "    if len(str(i)) == len(set(str(i))):\n",
    "        cnt += 1\n",
    "\n",
    "print(cnt)"
   ]
  },
  {
   "cell_type": "code",
   "execution_count": 10,
   "id": "31ee0416",
   "metadata": {
    "scrolled": true
   },
   "outputs": [
    {
     "data": {
      "text/plain": [
       "{'7', '8'}"
      ]
     },
     "execution_count": 10,
     "metadata": {},
     "output_type": "execute_result"
    }
   ],
   "source": [
    "set(str(87))"
   ]
  },
  {
   "cell_type": "markdown",
   "id": "401b4269",
   "metadata": {},
   "source": [
    "#### 2485. 가로수"
   ]
  },
  {
   "cell_type": "code",
   "execution_count": 1,
   "id": "36ef23ee",
   "metadata": {},
   "outputs": [],
   "source": [
    "from math import gcd"
   ]
  },
  {
   "cell_type": "code",
   "execution_count": 12,
   "id": "cc58f8fe",
   "metadata": {
    "scrolled": false
   },
   "outputs": [
    {
     "name": "stdout",
     "output_type": "stream",
     "text": [
      "4\n",
      "2\n",
      "6\n",
      "12\n",
      "18\n",
      "5\n"
     ]
    }
   ],
   "source": [
    "n = int(input())\n",
    "diff_list = []\n",
    "temp = int(input())\n",
    "g = 0\n",
    "for i in range(n-1):\n",
    "    val = int(input())\n",
    "    diff = val - temp\n",
    "    diff_list.append(diff)\n",
    "    temp = val\n",
    "    if i == 0:\n",
    "        g = diff\n",
    "    else:\n",
    "        g = gcd(g, diff)\n",
    "        \n",
    "result = sum(d//g -1 for d in diff_list)\n",
    "print(result)"
   ]
  },
  {
   "cell_type": "code",
   "execution_count": null,
   "id": "efedab2e",
   "metadata": {},
   "outputs": [],
   "source": [
    "4\n",
    "2\n",
    "6\n",
    "12\n",
    "18"
   ]
  }
 ],
 "metadata": {
  "kernelspec": {
   "display_name": "Python 3 (ipykernel)",
   "language": "python",
   "name": "python3"
  },
  "language_info": {
   "codemirror_mode": {
    "name": "ipython",
    "version": 3
   },
   "file_extension": ".py",
   "mimetype": "text/x-python",
   "name": "python",
   "nbconvert_exporter": "python",
   "pygments_lexer": "ipython3",
   "version": "3.8.10"
  }
 },
 "nbformat": 4,
 "nbformat_minor": 5
}
