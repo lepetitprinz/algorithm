{
 "cells": [
  {
   "cell_type": "markdown",
   "id": "051803e7",
   "metadata": {},
   "source": [
    "#### 1865. 웜홀"
   ]
  },
  {
   "cell_type": "code",
   "execution_count": null,
   "id": "53b75777",
   "metadata": {},
   "outputs": [],
   "source": [
    "def solve():\n",
    "    n, e, w = map(int, input().split())\n",
    "    edges []\n",
    "    for _ in range(e + w):\n",
    "        u, v, c = map(int, input().split())\n",
    "        edges.append((u, v, c))\n",
    "    \n",
    "    INF = int(1e7)\n",
    "    distance = [INF] * (n  + 1)\n",
    "    negative_cycle = bellman_fold(n, e, 1, edegs, distance)\n",
    "    if negative_cycle:\n",
    "        print(\"YES\")\n",
    "    else:\n",
    "        print(\"NO\")\n",
    "        \n",
    "def bellman_fold(n, e, start, edges, distance):\n",
    "    distance[start] = 0\n",
    "    for i in range(n):\n",
    "        for j in range(e):\n",
    "            curr_node, next_node, cost = edges[j]\n",
    "            dist = distance[curr_node] + cost\n",
    "            if distance[curr_node] != INF and distance[next_node] > dist:\n",
    "                distance[next_node] = dist\n",
    "                if i == n - 1:\n",
    "                    return True\n",
    "            \n",
    "    return False\n",
    "\n",
    "t = int(input())\n",
    "for _ in range(t):\n",
    "    solve()"
   ]
  }
 ],
 "metadata": {
  "kernelspec": {
   "display_name": "Python 3 (ipykernel)",
   "language": "python",
   "name": "python3"
  },
  "language_info": {
   "codemirror_mode": {
    "name": "ipython",
    "version": 3
   },
   "file_extension": ".py",
   "mimetype": "text/x-python",
   "name": "python",
   "nbconvert_exporter": "python",
   "pygments_lexer": "ipython3",
   "version": "3.8.10"
  }
 },
 "nbformat": 4,
 "nbformat_minor": 5
}
