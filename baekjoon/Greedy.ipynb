{
 "cells": [
  {
   "cell_type": "code",
   "execution_count": null,
   "id": "88cd3022",
   "metadata": {
    "scrolled": false
   },
   "outputs": [],
   "source": [
    "import re\n",
    "\n",
    "problem = input()\n",
    "nums = [int(num) for num in (re.split('-|\\+', problem))]\n",
    "operator = [o for o in problem if o in ['+', '-']]\n",
    "\n",
    "sign = 1\n",
    "result = [nums[0]]\n",
    "for num, o in zip(nums[1:], operator):\n",
    "    if o == '-':\n",
    "        sign = -1\n",
    "        result.append(num * sign)\n",
    "    else:\n",
    "        result.append(num * sign)\n",
    "\n",
    "print(sum(result))"
   ]
  },
  {
   "cell_type": "code",
   "execution_count": null,
   "id": "cec63293",
   "metadata": {},
   "outputs": [],
   "source": [
    "import datetime as dt\n",
    "\n",
    "now = dt.datetime.today()\n",
    "diff = now - dt.timedelta(hours=9)\n",
    "print(diff.year)\n",
    "print(diff.month)\n",
    "print(diff.day)"
   ]
  },
  {
   "cell_type": "markdown",
   "id": "3fcc684a",
   "metadata": {},
   "source": [
    "#### 2217. 로프"
   ]
  },
  {
   "cell_type": "code",
   "execution_count": null,
   "id": "ae59cf26",
   "metadata": {},
   "outputs": [],
   "source": [
    "n = int(input())\n",
    "data = sorted([int(input()) for _ in range(n)])\n",
    "result = []\n",
    "for i in range(1, n+1):\n",
    "    result.append(data.pop() * i)\n",
    "\n",
    "print(max(result))"
   ]
  },
  {
   "cell_type": "markdown",
   "id": "a26cb902",
   "metadata": {},
   "source": [
    "#### 1049. 기타줄"
   ]
  },
  {
   "cell_type": "code",
   "execution_count": null,
   "id": "c2c4a009",
   "metadata": {},
   "outputs": [],
   "source": [
    "from math import ceil\n",
    "\n",
    "n, m = map(int, input().split())\n",
    "min_set = 1000\n",
    "min_each = 1000\n",
    "\n",
    "for _ in range(m):\n",
    "    s, e = map(int, input().split())\n",
    "    if s < min_set:\n",
    "        min_set = s\n",
    "    if e < min_each:\n",
    "        min_each = e\n",
    "\n",
    "each_price = n * min_each\n",
    "set_price = ceil(n / 6) * min_set\n",
    "multi_price = (n // 6) * min_set + (n % 6) * min_each\n",
    "print(min(each_price, set_price, multi_price))\n"
   ]
  },
  {
   "cell_type": "markdown",
   "id": "e5f04d57",
   "metadata": {},
   "source": [
    "#### 2828. 사과 담기 게임"
   ]
  },
  {
   "cell_type": "code",
   "execution_count": null,
   "id": "71d676d7",
   "metadata": {},
   "outputs": [],
   "source": [
    "n, m = map(int, input().split())\n",
    "left = 1\n",
    "right = m\n",
    "move_cnt = 0\n",
    "n_apple = int(input())\n",
    "for _ in range(n_apple):\n",
    "    apple = int(input())\n",
    "    if apple < left:\n",
    "        diff = left - apple\n",
    "        move_cnt += diff\n",
    "        left -= diff\n",
    "        right -= diff\n",
    "    elif apple > right:\n",
    "        diff = apple - right\n",
    "        move_cnt += diff\n",
    "        left += diff\n",
    "        right += diff\n",
    "        \n",
    "print(move_cnt)"
   ]
  },
  {
   "cell_type": "markdown",
   "id": "2993b458",
   "metadata": {},
   "source": [
    "#### 5186. 파티를 열어라!!!"
   ]
  },
  {
   "cell_type": "code",
   "execution_count": 27,
   "id": "37131d8b",
   "metadata": {
    "collapsed": true
   },
   "outputs": [
    {
     "name": "stdout",
     "output_type": "stream",
     "text": [
      "1\n",
      "8 3 2\n",
      "1 I\n",
      "1 I\n",
      "1 S\n",
      "2 I\n",
      "1 I\n",
      "1 I\n",
      "2 S\n",
      "2 S\n",
      "1 3\n",
      "1 3\n",
      "2 4\n",
      "Data Set 1:\n",
      "2\n"
     ]
    }
   ],
   "source": [
    "def car_mapping(car_map, region):\n",
    "    for r, nums in car_map.items():\n",
    "        nums\n",
    "        people = region.get(r, [])\n",
    "        for num in nums:\n",
    "            if 'S' in people:\n",
    "                people.remove('S')\n",
    "                num -= 1\n",
    "                for _ in range(num):\n",
    "                    if 'I' in people:\n",
    "                        people.remove('I')\n",
    "                    elif 'S' in people:\n",
    "                        people.remove('S')\n",
    "    \n",
    "    remain = 0\n",
    "    for r, p in region.items():\n",
    "        remain += len(p)\n",
    "    \n",
    "    return remain\n",
    "\n",
    "test = int(input())\n",
    "for i in range(1, test + 1):\n",
    "    n, c, l = map(int, input().split())\n",
    "    region = {}\n",
    "    car_map = {}\n",
    "    for _ in range(n):\n",
    "        r, s = input().split()\n",
    "        if int(r) in region:\n",
    "            region[int(r)].append(s)\n",
    "        else:\n",
    "            region[int(r)] = [s] \n",
    "            \n",
    "    for _ in range(c):\n",
    "        car, number = map(int, input().split())\n",
    "        if car in car_map:\n",
    "            car_map[car].append(number)\n",
    "        else:\n",
    "            car_map[car] = [number]\n",
    "            \n",
    "    result = car_mapping(car_map, region)\n",
    "    print(f'Data Set {i}:')\n",
    "    print(result)"
   ]
  },
  {
   "cell_type": "markdown",
   "id": "6024ea1e",
   "metadata": {},
   "source": [
    "#### 9237. 이장님 초대"
   ]
  },
  {
   "cell_type": "code",
   "execution_count": 7,
   "id": "60232cd5",
   "metadata": {},
   "outputs": [
    {
     "name": "stdout",
     "output_type": "stream",
     "text": [
      "6\n",
      "39 38 9 35 39 20\n",
      "42\n"
     ]
    }
   ],
   "source": [
    "n = int(input())\n",
    "data = sorted(list(map(int, input().split())), reverse=True)\n",
    "result = [val + i + 1 for i, val in enumerate(data)]\n",
    "print(max(result) + 1)"
   ]
  },
  {
   "cell_type": "markdown",
   "id": "e2820c4a",
   "metadata": {},
   "source": [
    "#### 15904. UCPC는 무엇의 약자일까"
   ]
  },
  {
   "cell_type": "code",
   "execution_count": 15,
   "id": "5b3a9b03",
   "metadata": {},
   "outputs": [
    {
     "name": "stdout",
     "output_type": "stream",
     "text": [
      "University Computer Programming\n",
      "I hate UCPC\n"
     ]
    }
   ],
   "source": [
    "word = input()\n",
    "search = ['U', 'C', 'P', 'C']\n",
    "for w in word:\n",
    "    if len(search) == 0:\n",
    "        break\n",
    "    else:\n",
    "        if w == search\n",
    "\n",
    "\n",
    "if result == 'UCPC':\n",
    "    print('I love UCPC')\n",
    "else:\n",
    "    print('I hate UCPC')"
   ]
  },
  {
   "cell_type": "markdown",
   "id": "9fb60712",
   "metadata": {},
   "source": [
    "#### 10774. 저지"
   ]
  },
  {
   "cell_type": "code",
   "execution_count": 26,
   "id": "4e376ba8",
   "metadata": {
    "collapsed": true
   },
   "outputs": [
    {
     "name": "stdout",
     "output_type": "stream",
     "text": [
      "4\n",
      "3\n",
      "M\n",
      "S\n",
      "S\n",
      "L\n",
      "L 3\n",
      "S 3\n",
      "L 1\n"
     ]
    }
   ],
   "source": [
    "size_map = {'S': 1, 'M': 2, 'L': 3}\n",
    "\n",
    "j = int(input())\n",
    "a = int(input())\n",
    "\n",
    "j_map = {}\n",
    "for i in range(j):\n",
    "    j_map[i+1] = size_map[input()]\n",
    "\n",
    "a_map = {}\n",
    "for _ in range(a):\n",
    "    size, number = input().split()\n",
    "    if int(number) in a_map:\n",
    "        a_map[int(number)].append(size_map[size])\n",
    "    else:\n",
    "        a_map[int(number)] = [size_map[size]]\n",
    "\n",
    "cnt = 0\n",
    "for num, size_list in a_map.items():\n",
    "    j_size = j_map.get(num, 4)\n",
    "    if j_size == 4:\n",
    "        break\n",
    "    else:\n",
    "        for s in set(size_list):\n",
    "            if s <= j_size:\n",
    "                cnt += 1\n",
    "                break\n",
    "print(cnt)"
   ]
  },
  {
   "cell_type": "markdown",
   "id": "760aefcb",
   "metadata": {},
   "source": [
    "#### 3135. 라디오"
   ]
  },
  {
   "cell_type": "code",
   "execution_count": 5,
   "id": "87058be4",
   "metadata": {
    "scrolled": true
   },
   "outputs": [
    {
     "name": "stdout",
     "output_type": "stream",
     "text": [
      "64 120\n",
      "1\n",
      "567\n",
      "56\n"
     ]
    }
   ],
   "source": [
    "a, b = map(int, input().split())\n",
    "n = int(input())\n",
    "bookmarks = [int(input()) for _ in range(n)]\n",
    "\n",
    "diff1 = abs(b - a)\n",
    "diff2 = min([abs(b - bookmark) for bookmark in bookmarks]) + 1\n",
    "print(min(diff1, diff2))"
   ]
  },
  {
   "cell_type": "markdown",
   "id": "b9dbcc5f",
   "metadata": {},
   "source": [
    "#### 1449. 수리공 항승"
   ]
  },
  {
   "cell_type": "code",
   "execution_count": null,
   "id": "2a2a227f",
   "metadata": {},
   "outputs": [],
   "source": [
    "from collections import deque\n",
    "\n",
    "n, l = map(int, input().split())\n",
    "data = sorted(list(map(int, input().split())))\n",
    "queue = deque(data)\n",
    "\n",
    "cnt = 1\n",
    "temp = list(range(data[0], data[0] + l))\n",
    "while queue:\n",
    "    q = queue.popleft()\n",
    "    if q > temp[-1]:\n",
    "        cnt += 1\n",
    "        temp = list(range(q, q + l))\n",
    "        queue.append(q)\n",
    "\n",
    "print(cnt)"
   ]
  },
  {
   "cell_type": "markdown",
   "id": "88e47e8e",
   "metadata": {},
   "source": [
    "#### 11256. 사탕"
   ]
  },
  {
   "cell_type": "code",
   "execution_count": 2,
   "id": "b1e377e1",
   "metadata": {},
   "outputs": [
    {
     "name": "stdout",
     "output_type": "stream",
     "text": [
      "2\n",
      "12 3\n",
      "2 7\n",
      "1 5\n",
      "3 2\n",
      "1\n",
      "20 3\n",
      "2 7\n",
      "1 5\n",
      "3 2\n",
      "2\n"
     ]
    }
   ],
   "source": [
    "t = int(input())\n",
    "\n",
    "for _ in range(t):\n",
    "    j, n = map(int, input().split())\n",
    "    box = []\n",
    "    for _ in range(n):\n",
    "        r, c = map(int, input().split())\n",
    "        box.append(r*c)\n",
    "    box = sorted(box)\n",
    "    cnt = 0\n",
    "    while j > 0:\n",
    "        j -= box.pop()\n",
    "        cnt += 1\n",
    "    print(cnt)"
   ]
  },
  {
   "cell_type": "markdown",
   "id": "9237f5b7",
   "metadata": {},
   "source": [
    "#### 1931. 회의실 배정"
   ]
  },
  {
   "cell_type": "code",
   "execution_count": 7,
   "id": "c38435ca",
   "metadata": {
    "scrolled": false
   },
   "outputs": [
    {
     "name": "stdout",
     "output_type": "stream",
     "text": [
      "11\n",
      "1 4\n",
      "3 5\n",
      "0 6\n",
      "5 7\n",
      "3 8\n",
      "5 9\n",
      "6 10\n",
      "8 11\n",
      "8 12\n",
      "2 13\n",
      "12 14\n",
      "4\n"
     ]
    }
   ],
   "source": [
    "n = int(input())\n",
    "data = []\n",
    "for _ in range(n):\n",
    "    start, end = map(int, input().split())\n",
    "    data.append([start, end])\n",
    "data = sorted(data, key=lambda x: (x[1], x[0]))\n",
    "\n",
    "cnt = 1\n",
    "end = data[0][1]\n",
    "for i in range(1, n):\n",
    "    if data[i][0] >= end:\n",
    "        cnt += 1\n",
    "        end = data[i][1]\n",
    "\n",
    "print(cnt)"
   ]
  },
  {
   "cell_type": "markdown",
   "id": "acae3a4d",
   "metadata": {},
   "source": [
    "#### 16208. 귀찮음"
   ]
  },
  {
   "cell_type": "code",
   "execution_count": 4,
   "id": "c1c77041",
   "metadata": {},
   "outputs": [
    {
     "name": "stdout",
     "output_type": "stream",
     "text": [
      "10\n",
      "12 43 22 51 2 55 8 21 98 50\n",
      "55164\n"
     ]
    }
   ],
   "source": [
    "n = int(input())\n",
    "data = sorted(list(map(int, input().split())))\n",
    "total = sum(data)\n",
    "\n",
    "result = 0\n",
    "for num in data:\n",
    "    total -= num\n",
    "    result += num * total\n",
    "\n",
    "print(result)"
   ]
  },
  {
   "cell_type": "markdown",
   "id": "1d8d0a75",
   "metadata": {},
   "source": [
    "#### 4159. 알래스카"
   ]
  },
  {
   "cell_type": "code",
   "execution_count": 7,
   "id": "e8598018",
   "metadata": {},
   "outputs": [
    {
     "name": "stdout",
     "output_type": "stream",
     "text": [
      "2\n",
      "900\n",
      "0\n",
      "IMPOSSIBLE\n",
      "0\n"
     ]
    }
   ],
   "source": [
    "while True:\n",
    "    n = int(input())\n",
    "    if n == 0:\n",
    "        break\n",
    "    data = sorted([int(input()) for _ in range(n)])\n",
    "\n",
    "    loc = 0\n",
    "    flag = True\n",
    "    for i in range(1, len(data)):\n",
    "        if loc >= 1222:\n",
    "            break\n",
    "        interval = data[i] - data[i-1]\n",
    "        if interval > 200:\n",
    "            flag = False\n",
    "            break\n",
    "        loc += interval\n",
    "\n",
    "    if loc < 1222:\n",
    "        flag = False\n",
    "\n",
    "    if flag:\n",
    "        print('POSSIBLE')\n",
    "    else:\n",
    "        print('IMPOSSIBLE')"
   ]
  },
  {
   "cell_type": "markdown",
   "id": "5bc50a14",
   "metadata": {},
   "source": [
    "#### 23028. 5학년은 다니기 싫어요"
   ]
  },
  {
   "cell_type": "code",
   "execution_count": 14,
   "id": "f5632c04",
   "metadata": {},
   "outputs": [
    {
     "name": "stdout",
     "output_type": "stream",
     "text": [
      "6 46 120\n",
      "3 3\n",
      "3 5\n",
      "6 2\n",
      "2 2\n",
      "3 1\n",
      "2 3\n",
      "1 5\n",
      "5 2\n",
      "2 3\n",
      "3 2\n",
      "Nae ga wae\n"
     ]
    }
   ],
   "source": [
    "from math import ceil\n",
    "\n",
    "n, a, b = map(int, input().split())\n",
    "semesters = [map(int, input().split()) for _ in range(10)]\n",
    "\n",
    "s = 8 - n\n",
    "major = 66 - a\n",
    "remain = 130 - b\n",
    "\n",
    "flag = False\n",
    "for m, r in semesters[:s]:\n",
    "    s_tot = 6\n",
    "    if major > 0:\n",
    "        m_need = ceil(major / 3)\n",
    "        m_use = min(m, m_need)\n",
    "        s_tot -= m_use\n",
    "        major -= m_use * 3\n",
    "        remain -= m_use * 3\n",
    "    remain -= min(s_tot, r) * 3\n",
    "        \n",
    "if major > 0 or remain > 0:\n",
    "    print('Nae ga wae')\n",
    "else:\n",
    "    print('Nice')"
   ]
  },
  {
   "cell_type": "markdown",
   "id": "651ed43d",
   "metadata": {},
   "source": [
    "#### 20363. 당근 키우기"
   ]
  },
  {
   "cell_type": "code",
   "execution_count": 1,
   "id": "e9828723",
   "metadata": {
    "collapsed": true
   },
   "outputs": [
    {
     "name": "stdout",
     "output_type": "stream",
     "text": [
      "10 10\n"
     ]
    },
    {
     "ename": "NameError",
     "evalue": "name 'first' is not defined",
     "output_type": "error",
     "traceback": [
      "\u001b[0;31m---------------------------------------------------------------------------\u001b[0m",
      "\u001b[0;31mNameError\u001b[0m                                 Traceback (most recent call last)",
      "Input \u001b[0;32mIn [1]\u001b[0m, in \u001b[0;36m<cell line: 6>\u001b[0;34m()\u001b[0m\n\u001b[1;32m      4\u001b[0m fisrt \u001b[38;5;241m=\u001b[39m \u001b[38;5;28mmax\u001b[39m(x, y)\n\u001b[1;32m      5\u001b[0m last \u001b[38;5;241m=\u001b[39m \u001b[38;5;28mmin\u001b[39m(x, y)\n\u001b[0;32m----> 6\u001b[0m count \u001b[38;5;241m+\u001b[39m\u001b[38;5;241m=\u001b[39m \u001b[43mfirst\u001b[49m\n\u001b[1;32m      7\u001b[0m count \u001b[38;5;241m+\u001b[39m\u001b[38;5;241m=\u001b[39m last\n\u001b[1;32m      8\u001b[0m count \u001b[38;5;241m+\u001b[39m\u001b[38;5;241m=\u001b[39m last \u001b[38;5;241m/\u001b[39m\u001b[38;5;241m/\u001b[39m \u001b[38;5;241m10\u001b[39m\n",
      "\u001b[0;31mNameError\u001b[0m: name 'first' is not defined"
     ]
    }
   ],
   "source": [
    "x, y = map(int, input().split())\n",
    "\n",
    "count = 0\n",
    "fisrt = max(x, y)\n",
    "last = min(x, y)\n",
    "count += first\n",
    "count += last\n",
    "count += last // 10\n",
    "\n",
    "print(count)"
   ]
  },
  {
   "cell_type": "markdown",
   "id": "6e459858",
   "metadata": {},
   "source": [
    "#### 17212. 달나라 토끼를 위한 구매대금 지불 도우미"
   ]
  },
  {
   "cell_type": "code",
   "execution_count": 13,
   "id": "2956bdfb",
   "metadata": {},
   "outputs": [
    {
     "name": "stdout",
     "output_type": "stream",
     "text": [
      "17\n",
      "4\n"
     ]
    }
   ],
   "source": [
    "price = int(input())\n",
    "\n",
    "result = 0\n",
    "for kind in [7, 5, 2, 1]:\n",
    "    if price == 0:\n",
    "        break\n",
    "    count = price // kind\n",
    "    result += count\n",
    "    price -= kind * count\n",
    "    \n",
    "print(result)    "
   ]
  },
  {
   "cell_type": "markdown",
   "id": "b2508b2b",
   "metadata": {},
   "source": [
    "#### 16162. 가희와 3단 고음"
   ]
  },
  {
   "cell_type": "code",
   "execution_count": 1,
   "id": "827d4db0",
   "metadata": {
    "scrolled": true
   },
   "outputs": [
    {
     "name": "stdout",
     "output_type": "stream",
     "text": [
      "7 3 3\n",
      "3 3 9 7 2 6 9\n",
      "2\n"
     ]
    }
   ],
   "source": [
    "n, a, d = map(int, input().split())\n",
    "data = list(map(int, input().split()))\n",
    "\n",
    "count = 0\n",
    "curr = a\n",
    "for i in data:\n",
    "    if i == a:\n",
    "        count += 1\n",
    "        curr += d\n",
    "print(count)"
   ]
  },
  {
   "cell_type": "markdown",
   "id": "454f0950",
   "metadata": {},
   "source": [
    "#### 15729. 방탈출"
   ]
  },
  {
   "cell_type": "code",
   "execution_count": 1,
   "id": "6729fef4",
   "metadata": {},
   "outputs": [
    {
     "name": "stdout",
     "output_type": "stream",
     "text": [
      "7\n",
      "7 0 0 1 0 0 1 0\n",
      "2\n"
     ]
    }
   ],
   "source": [
    "n = int(input())\n",
    "data = [0] * n\n",
    "goal = list(map(int, input().split()))\n",
    "\n",
    "count = 0\n",
    "for i in range(n):\n",
    "    if goal[i] == 1 and data[i] == 0:\n",
    "        count += 1\n",
    "        for j in range(i, i + 3):\n",
    "            if j < n:\n",
    "                if data[j] == 0:\n",
    "                    data[j] = 1\n",
    "                else:\n",
    "                    data[j] = 0\n",
    "    elif goal[i] == 0 and data[i] == 1:\n",
    "        count += 1\n",
    "        for j in range(i, i + 3):\n",
    "            if j < n:\n",
    "                if data[j] == 0:\n",
    "                    data[j] = 1\n",
    "                else:\n",
    "                    data[j] = 0\n",
    "\n",
    "print(count)"
   ]
  },
  {
   "cell_type": "code",
   "execution_count": null,
   "id": "95c3dedb",
   "metadata": {},
   "outputs": [],
   "source": []
  }
 ],
 "metadata": {
  "kernelspec": {
   "display_name": "Python 3 (ipykernel)",
   "language": "python",
   "name": "python3"
  },
  "language_info": {
   "codemirror_mode": {
    "name": "ipython",
    "version": 3
   },
   "file_extension": ".py",
   "mimetype": "text/x-python",
   "name": "python",
   "nbconvert_exporter": "python",
   "pygments_lexer": "ipython3",
   "version": "3.8.10"
  }
 },
 "nbformat": 4,
 "nbformat_minor": 5
}
