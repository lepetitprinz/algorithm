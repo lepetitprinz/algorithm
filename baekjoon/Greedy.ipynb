{
 "cells": [
  {
   "cell_type": "code",
   "execution_count": null,
   "id": "88cd3022",
   "metadata": {
    "scrolled": false
   },
   "outputs": [],
   "source": [
    "import re\n",
    "\n",
    "problem = input()\n",
    "nums = [int(num) for num in (re.split('-|\\+', problem))]\n",
    "operator = [o for o in problem if o in ['+', '-']]\n",
    "\n",
    "sign = 1\n",
    "result = [nums[0]]\n",
    "for num, o in zip(nums[1:], operator):\n",
    "    if o == '-':\n",
    "        sign = -1\n",
    "        result.append(num * sign)\n",
    "    else:\n",
    "        result.append(num * sign)\n",
    "\n",
    "print(sum(result))"
   ]
  },
  {
   "cell_type": "code",
   "execution_count": null,
   "id": "cec63293",
   "metadata": {},
   "outputs": [],
   "source": [
    "import datetime as dt\n",
    "\n",
    "now = dt.datetime.today()\n",
    "diff = now - dt.timedelta(hours=9)\n",
    "print(diff.year)\n",
    "print(diff.month)\n",
    "print(diff.day)"
   ]
  },
  {
   "cell_type": "markdown",
   "id": "3fcc684a",
   "metadata": {},
   "source": [
    "#### 2217. 로프"
   ]
  },
  {
   "cell_type": "code",
   "execution_count": null,
   "id": "ae59cf26",
   "metadata": {},
   "outputs": [],
   "source": [
    "n = int(input())\n",
    "data = sorted([int(input()) for _ in range(n)])\n",
    "result = []\n",
    "for i in range(1, n+1):\n",
    "    result.append(data.pop() * i)\n",
    "\n",
    "print(max(result))"
   ]
  },
  {
   "cell_type": "markdown",
   "id": "a26cb902",
   "metadata": {},
   "source": [
    "#### 1049. 기타줄"
   ]
  },
  {
   "cell_type": "code",
   "execution_count": null,
   "id": "c2c4a009",
   "metadata": {},
   "outputs": [],
   "source": [
    "from math import ceil\n",
    "\n",
    "n, m = map(int, input().split())\n",
    "min_set = 1000\n",
    "min_each = 1000\n",
    "\n",
    "for _ in range(m):\n",
    "    s, e = map(int, input().split())\n",
    "    if s < min_set:\n",
    "        min_set = s\n",
    "    if e < min_each:\n",
    "        min_each = e\n",
    "\n",
    "each_price = n * min_each\n",
    "set_price = ceil(n / 6) * min_set\n",
    "multi_price = (n // 6) * min_set + (n % 6) * min_each\n",
    "print(min(each_price, set_price, multi_price))\n"
   ]
  },
  {
   "cell_type": "markdown",
   "id": "e5f04d57",
   "metadata": {},
   "source": [
    "#### 2828. 사과 담기 게임"
   ]
  },
  {
   "cell_type": "code",
   "execution_count": null,
   "id": "71d676d7",
   "metadata": {},
   "outputs": [],
   "source": [
    "n, m = map(int, input().split())\n",
    "left = 1\n",
    "right = m\n",
    "move_cnt = 0\n",
    "n_apple = int(input())\n",
    "for _ in range(n_apple):\n",
    "    apple = int(input())\n",
    "    if apple < left:\n",
    "        diff = left - apple\n",
    "        move_cnt += diff\n",
    "        left -= diff\n",
    "        right -= diff\n",
    "    elif apple > right:\n",
    "        diff = apple - right\n",
    "        move_cnt += diff\n",
    "        left += diff\n",
    "        right += diff\n",
    "        \n",
    "print(move_cnt)"
   ]
  },
  {
   "cell_type": "markdown",
   "id": "2993b458",
   "metadata": {},
   "source": [
    "#### 5186. 파티를 열어라!!!"
   ]
  },
  {
   "cell_type": "code",
   "execution_count": 27,
   "id": "37131d8b",
   "metadata": {
    "collapsed": true
   },
   "outputs": [
    {
     "name": "stdout",
     "output_type": "stream",
     "text": [
      "1\n",
      "8 3 2\n",
      "1 I\n",
      "1 I\n",
      "1 S\n",
      "2 I\n",
      "1 I\n",
      "1 I\n",
      "2 S\n",
      "2 S\n",
      "1 3\n",
      "1 3\n",
      "2 4\n",
      "Data Set 1:\n",
      "2\n"
     ]
    }
   ],
   "source": [
    "def car_mapping(car_map, region):\n",
    "    for r, nums in car_map.items():\n",
    "        nums\n",
    "        people = region.get(r, [])\n",
    "        for num in nums:\n",
    "            if 'S' in people:\n",
    "                people.remove('S')\n",
    "                num -= 1\n",
    "                for _ in range(num):\n",
    "                    if 'I' in people:\n",
    "                        people.remove('I')\n",
    "                    elif 'S' in people:\n",
    "                        people.remove('S')\n",
    "    \n",
    "    remain = 0\n",
    "    for r, p in region.items():\n",
    "        remain += len(p)\n",
    "    \n",
    "    return remain\n",
    "\n",
    "test = int(input())\n",
    "for i in range(1, test + 1):\n",
    "    n, c, l = map(int, input().split())\n",
    "    region = {}\n",
    "    car_map = {}\n",
    "    for _ in range(n):\n",
    "        r, s = input().split()\n",
    "        if int(r) in region:\n",
    "            region[int(r)].append(s)\n",
    "        else:\n",
    "            region[int(r)] = [s] \n",
    "            \n",
    "    for _ in range(c):\n",
    "        car, number = map(int, input().split())\n",
    "        if car in car_map:\n",
    "            car_map[car].append(number)\n",
    "        else:\n",
    "            car_map[car] = [number]\n",
    "            \n",
    "    result = car_mapping(car_map, region)\n",
    "    print(f'Data Set {i}:')\n",
    "    print(result)"
   ]
  },
  {
   "cell_type": "markdown",
   "id": "6024ea1e",
   "metadata": {},
   "source": [
    "#### 9237. 이장님 초대"
   ]
  },
  {
   "cell_type": "code",
   "execution_count": 7,
   "id": "60232cd5",
   "metadata": {},
   "outputs": [
    {
     "name": "stdout",
     "output_type": "stream",
     "text": [
      "6\n",
      "39 38 9 35 39 20\n",
      "42\n"
     ]
    }
   ],
   "source": [
    "n = int(input())\n",
    "data = sorted(list(map(int, input().split())), reverse=True)\n",
    "result = [val + i + 1 for i, val in enumerate(data)]\n",
    "print(max(result) + 1)"
   ]
  },
  {
   "cell_type": "markdown",
   "id": "e2820c4a",
   "metadata": {},
   "source": [
    "#### 15904. UCPC는 무엇의 약자일까"
   ]
  },
  {
   "cell_type": "code",
   "execution_count": 15,
   "id": "5b3a9b03",
   "metadata": {},
   "outputs": [
    {
     "name": "stdout",
     "output_type": "stream",
     "text": [
      "University Computer Programming\n",
      "I hate UCPC\n"
     ]
    }
   ],
   "source": [
    "word = input()\n",
    "search = ['U', 'C', 'P', 'C']\n",
    "for w in word:\n",
    "    if len(search) == 0:\n",
    "        break\n",
    "    else:\n",
    "        if w == search\n",
    "\n",
    "\n",
    "if result == 'UCPC':\n",
    "    print('I love UCPC')\n",
    "else:\n",
    "    print('I hate UCPC')"
   ]
  },
  {
   "cell_type": "markdown",
   "id": "9fb60712",
   "metadata": {},
   "source": [
    "#### 10774. 저지"
   ]
  },
  {
   "cell_type": "code",
   "execution_count": 26,
   "id": "4e376ba8",
   "metadata": {
    "collapsed": true
   },
   "outputs": [
    {
     "name": "stdout",
     "output_type": "stream",
     "text": [
      "4\n",
      "3\n",
      "M\n",
      "S\n",
      "S\n",
      "L\n",
      "L 3\n",
      "S 3\n",
      "L 1\n"
     ]
    }
   ],
   "source": [
    "size_map = {'S': 1, 'M': 2, 'L': 3}\n",
    "\n",
    "j = int(input())\n",
    "a = int(input())\n",
    "\n",
    "j_map = {}\n",
    "for i in range(j):\n",
    "    j_map[i+1] = size_map[input()]\n",
    "\n",
    "a_map = {}\n",
    "for _ in range(a):\n",
    "    size, number = input().split()\n",
    "    if int(number) in a_map:\n",
    "        a_map[int(number)].append(size_map[size])\n",
    "    else:\n",
    "        a_map[int(number)] = [size_map[size]]\n",
    "\n",
    "cnt = 0\n",
    "for num, size_list in a_map.items():\n",
    "    j_size = j_map.get(num, 4)\n",
    "    if j_size == 4:\n",
    "        break\n",
    "    else:\n",
    "        for s in set(size_list):\n",
    "            if s <= j_size:\n",
    "                cnt += 1\n",
    "                break\n",
    "print(cnt)"
   ]
  },
  {
   "cell_type": "markdown",
   "id": "760aefcb",
   "metadata": {},
   "source": [
    "#### 3135. 라디오"
   ]
  },
  {
   "cell_type": "code",
   "execution_count": 5,
   "id": "87058be4",
   "metadata": {
    "scrolled": true
   },
   "outputs": [
    {
     "name": "stdout",
     "output_type": "stream",
     "text": [
      "64 120\n",
      "1\n",
      "567\n",
      "56\n"
     ]
    }
   ],
   "source": [
    "a, b = map(int, input().split())\n",
    "n = int(input())\n",
    "bookmarks = [int(input()) for _ in range(n)]\n",
    "\n",
    "diff1 = abs(b - a)\n",
    "diff2 = min([abs(b - bookmark) for bookmark in bookmarks]) + 1\n",
    "print(min(diff1, diff2))"
   ]
  },
  {
   "cell_type": "markdown",
   "id": "b9dbcc5f",
   "metadata": {},
   "source": [
    "#### 1449. 수리공 항승"
   ]
  },
  {
   "cell_type": "code",
   "execution_count": null,
   "id": "2a2a227f",
   "metadata": {},
   "outputs": [],
   "source": [
    "from collections import deque\n",
    "\n",
    "n, l = map(int, input().split())\n",
    "data = sorted(list(map(int, input().split())))\n",
    "queue = deque(data)\n",
    "\n",
    "cnt = 1\n",
    "temp = list(range(data[0], data[0] + l))\n",
    "while queue:\n",
    "    q = queue.popleft()\n",
    "    if q > temp[-1]:\n",
    "        cnt += 1\n",
    "        temp = list(range(q, q + l))\n",
    "        queue.append(q)\n",
    "\n",
    "print(cnt)"
   ]
  },
  {
   "cell_type": "markdown",
   "id": "88e47e8e",
   "metadata": {},
   "source": [
    "#### 11256. 사탕"
   ]
  },
  {
   "cell_type": "code",
   "execution_count": 2,
   "id": "b1e377e1",
   "metadata": {},
   "outputs": [
    {
     "name": "stdout",
     "output_type": "stream",
     "text": [
      "2\n",
      "12 3\n",
      "2 7\n",
      "1 5\n",
      "3 2\n",
      "1\n",
      "20 3\n",
      "2 7\n",
      "1 5\n",
      "3 2\n",
      "2\n"
     ]
    }
   ],
   "source": [
    "t = int(input())\n",
    "\n",
    "for _ in range(t):\n",
    "    j, n = map(int, input().split())\n",
    "    box = []\n",
    "    for _ in range(n):\n",
    "        r, c = map(int, input().split())\n",
    "        box.append(r*c)\n",
    "    box = sorted(box)\n",
    "    cnt = 0\n",
    "    while j > 0:\n",
    "        j -= box.pop()\n",
    "        cnt += 1\n",
    "    print(cnt)"
   ]
  },
  {
   "cell_type": "markdown",
   "id": "9237f5b7",
   "metadata": {},
   "source": [
    "#### 1931. 회의실 배정"
   ]
  },
  {
   "cell_type": "code",
   "execution_count": 7,
   "id": "c38435ca",
   "metadata": {
    "collapsed": true
   },
   "outputs": [
    {
     "name": "stdout",
     "output_type": "stream",
     "text": [
      "11\n",
      "1 4\n",
      "3 5\n",
      "0 6\n",
      "5 7\n",
      "3 8\n",
      "5 9\n",
      "6 10\n",
      "8 11\n",
      "8 12\n",
      "2 13\n",
      "12 14\n",
      "4\n"
     ]
    }
   ],
   "source": [
    "n = int(input())\n",
    "data = []\n",
    "for _ in range(n):\n",
    "    start, end = map(int, input().split())\n",
    "    data.append([start, end])\n",
    "data = sorted(data, key=lambda x: (x[1], x[0]))\n",
    "\n",
    "cnt = 1\n",
    "end = data[0][1]\n",
    "for i in range(1, n):\n",
    "    if data[i][0] >= end:\n",
    "        cnt += 1\n",
    "        end = data[i][1]\n",
    "\n",
    "print(cnt)"
   ]
  },
  {
   "cell_type": "markdown",
   "id": "acae3a4d",
   "metadata": {},
   "source": [
    "#### 16208. 귀찮음"
   ]
  },
  {
   "cell_type": "code",
   "execution_count": 4,
   "id": "c1c77041",
   "metadata": {},
   "outputs": [
    {
     "name": "stdout",
     "output_type": "stream",
     "text": [
      "10\n",
      "12 43 22 51 2 55 8 21 98 50\n",
      "55164\n"
     ]
    }
   ],
   "source": [
    "n = int(input())\n",
    "data = sorted(list(map(int, input().split())))\n",
    "total = sum(data)\n",
    "\n",
    "result = 0\n",
    "for num in data:\n",
    "    total -= num\n",
    "    result += num * total\n",
    "\n",
    "print(result)"
   ]
  },
  {
   "cell_type": "markdown",
   "id": "1d8d0a75",
   "metadata": {},
   "source": [
    "#### 4159. 알래스카"
   ]
  },
  {
   "cell_type": "code",
   "execution_count": 7,
   "id": "e8598018",
   "metadata": {},
   "outputs": [
    {
     "name": "stdout",
     "output_type": "stream",
     "text": [
      "2\n",
      "900\n",
      "0\n",
      "IMPOSSIBLE\n",
      "0\n"
     ]
    }
   ],
   "source": [
    "while True:\n",
    "    n = int(input())\n",
    "    if n == 0:\n",
    "        break\n",
    "    data = sorted([int(input()) for _ in range(n)])\n",
    "\n",
    "    loc = 0\n",
    "    flag = True\n",
    "    for i in range(1, len(data)):\n",
    "        if loc >= 1222:\n",
    "            break\n",
    "        interval = data[i] - data[i-1]\n",
    "        if interval > 200:\n",
    "            flag = False\n",
    "            break\n",
    "        loc += interval\n",
    "\n",
    "    if loc < 1222:\n",
    "        flag = False\n",
    "\n",
    "    if flag:\n",
    "        print('POSSIBLE')\n",
    "    else:\n",
    "        print('IMPOSSIBLE')"
   ]
  },
  {
   "cell_type": "markdown",
   "id": "5bc50a14",
   "metadata": {},
   "source": [
    "#### 23028. 5학년은 다니기 싫어요"
   ]
  },
  {
   "cell_type": "code",
   "execution_count": 14,
   "id": "f5632c04",
   "metadata": {},
   "outputs": [
    {
     "name": "stdout",
     "output_type": "stream",
     "text": [
      "6 46 120\n",
      "3 3\n",
      "3 5\n",
      "6 2\n",
      "2 2\n",
      "3 1\n",
      "2 3\n",
      "1 5\n",
      "5 2\n",
      "2 3\n",
      "3 2\n",
      "Nae ga wae\n"
     ]
    }
   ],
   "source": [
    "from math import ceil\n",
    "\n",
    "n, a, b = map(int, input().split())\n",
    "semesters = [map(int, input().split()) for _ in range(10)]\n",
    "\n",
    "s = 8 - n\n",
    "major = 66 - a\n",
    "remain = 130 - b\n",
    "\n",
    "flag = False\n",
    "for m, r in semesters[:s]:\n",
    "    s_tot = 6\n",
    "    if major > 0:\n",
    "        m_need = ceil(major / 3)\n",
    "        m_use = min(m, m_need)\n",
    "        s_tot -= m_use\n",
    "        major -= m_use * 3\n",
    "        remai4n -= m_use * 3\n",
    "    remain -= min(s_tot, r) * 3\n",
    "        \n",
    "if major > 0 or remain > 0:\n",
    "    print('Nae ga wae')\n",
    "else:\n",
    "    print('Nice')"
   ]
  },
  {
   "cell_type": "markdown",
   "id": "651ed43d",
   "metadata": {},
   "source": [
    "#### 20363. 당근 키우기"
   ]
  },
  {
   "cell_type": "code",
   "execution_count": 1,
   "id": "e9828723",
   "metadata": {
    "collapsed": true
   },
   "outputs": [
    {
     "name": "stdout",
     "output_type": "stream",
     "text": [
      "10 10\n"
     ]
    },
    {
     "ename": "NameError",
     "evalue": "name 'first' is not defined",
     "output_type": "error",
     "traceback": [
      "\u001b[0;31m---------------------------------------------------------------------------\u001b[0m",
      "\u001b[0;31mNameError\u001b[0m                                 Traceback (most recent call last)",
      "Input \u001b[0;32mIn [1]\u001b[0m, in \u001b[0;36m<cell line: 6>\u001b[0;34m()\u001b[0m\n\u001b[1;32m      4\u001b[0m fisrt \u001b[38;5;241m=\u001b[39m \u001b[38;5;28mmax\u001b[39m(x, y)\n\u001b[1;32m      5\u001b[0m last \u001b[38;5;241m=\u001b[39m \u001b[38;5;28mmin\u001b[39m(x, y)\n\u001b[0;32m----> 6\u001b[0m count \u001b[38;5;241m+\u001b[39m\u001b[38;5;241m=\u001b[39m \u001b[43mfirst\u001b[49m\n\u001b[1;32m      7\u001b[0m count \u001b[38;5;241m+\u001b[39m\u001b[38;5;241m=\u001b[39m last\n\u001b[1;32m      8\u001b[0m count \u001b[38;5;241m+\u001b[39m\u001b[38;5;241m=\u001b[39m last \u001b[38;5;241m/\u001b[39m\u001b[38;5;241m/\u001b[39m \u001b[38;5;241m10\u001b[39m\n",
      "\u001b[0;31mNameError\u001b[0m: name 'first' is not defined"
     ]
    }
   ],
   "source": [
    "x, y = map(int, input().split())\n",
    "\n",
    "count = 0\n",
    "fisrt = max(x, y)\n",
    "last = min(x, y)\n",
    "count += first\n",
    "count += last\n",
    "count += last // 10\n",
    "\n",
    "print(count)"
   ]
  },
  {
   "cell_type": "markdown",
   "id": "6e459858",
   "metadata": {},
   "source": [
    "#### 17212. 달나라 토끼를 위한 구매대금 지불 도우미"
   ]
  },
  {
   "cell_type": "code",
   "execution_count": 13,
   "id": "2956bdfb",
   "metadata": {},
   "outputs": [
    {
     "name": "stdout",
     "output_type": "stream",
     "text": [
      "17\n",
      "4\n"
     ]
    }
   ],
   "source": [
    "price = int(input())\n",
    "\n",
    "result = 0\n",
    "for kind in [7, 5, 2, 1]:\n",
    "    if price == 0:\n",
    "        break\n",
    "    count = price // kind\n",
    "    result += count\n",
    "    price -= kind * count\n",
    "    \n",
    "print(result)    "
   ]
  },
  {
   "cell_type": "markdown",
   "id": "b2508b2b",
   "metadata": {},
   "source": [
    "#### 16162. 가희와 3단 고음"
   ]
  },
  {
   "cell_type": "code",
   "execution_count": 1,
   "id": "827d4db0",
   "metadata": {
    "scrolled": true
   },
   "outputs": [
    {
     "name": "stdout",
     "output_type": "stream",
     "text": [
      "7 3 3\n",
      "3 3 9 7 2 6 9\n",
      "2\n"
     ]
    }
   ],
   "source": [
    "n, a, d = map(int, input().split())\n",
    "data = list(map(int, input().split()))\n",
    "\n",
    "count = 0\n",
    "curr = a\n",
    "for i in data:\n",
    "    if i == a:\n",
    "        count += 1\n",
    "        curr += d\n",
    "print(count)"
   ]
  },
  {
   "cell_type": "markdown",
   "id": "454f0950",
   "metadata": {},
   "source": [
    "#### 15729. 방탈출"
   ]
  },
  {
   "cell_type": "code",
   "execution_count": 1,
   "id": "6729fef4",
   "metadata": {},
   "outputs": [
    {
     "name": "stdout",
     "output_type": "stream",
     "text": [
      "7\n",
      "7 0 0 1 0 0 1 0\n",
      "2\n"
     ]
    }
   ],
   "source": [
    "n = int(input())\n",
    "data = [0] * n\n",
    "goal = list(map(int, input().split()))\n",
    "\n",
    "count = 0\n",
    "for i in range(n):\n",
    "    if goal[i] == 1 and data[i] == 0:\n",
    "        count += 1\n",
    "        for j in range(i, i + 3):\n",
    "            if j < n:\n",
    "                if data[j] == 0:\n",
    "                    data[j] = 1\n",
    "                else:\n",
    "                    data[j] = 0\n",
    "    elif goal[i] == 0 and data[i] == 1:\n",
    "        count += 1\n",
    "        for j in range(i, i + 3):\n",
    "            if j < n:\n",
    "                if data[j] == 0:\n",
    "                    data[j] = 1\n",
    "                else:\n",
    "                    data[j] = 0\n",
    "\n",
    "print(count)"
   ]
  },
  {
   "cell_type": "markdown",
   "id": "7bb01778",
   "metadata": {},
   "source": [
    "#### 24938. 키트 분배하기"
   ]
  },
  {
   "cell_type": "code",
   "execution_count": 2,
   "id": "1404c6e6",
   "metadata": {},
   "outputs": [
    {
     "name": "stdout",
     "output_type": "stream",
     "text": [
      "3\n",
      "1 3 2\n",
      "3\n"
     ]
    }
   ],
   "source": [
    "n = int(input())\n",
    "data = list(map(int, input().split()))\n",
    "target = sum(data) // n\n",
    "\n",
    "cnt = 0\n",
    "for i in range(n-1):\n",
    "    if data[i] != target:\n",
    "        diff = abs(target - data[i])\n",
    "        data[i] = target\n",
    "        cnt += diff\n",
    "        \n",
    "        if data[i] < target:\n",
    "            data[i + 1] -= diff\n",
    "        else:\n",
    "            data[i + 1] += diff\n",
    "\n",
    "print(cnt)"
   ]
  },
  {
   "cell_type": "markdown",
   "id": "347094cc",
   "metadata": {},
   "source": [
    "#### 23351. 물 주기"
   ]
  },
  {
   "cell_type": "code",
   "execution_count": 3,
   "id": "1949714e",
   "metadata": {},
   "outputs": [
    {
     "name": "stdout",
     "output_type": "stream",
     "text": [
      "6 3 2 2\n",
      "3\n"
     ]
    }
   ],
   "source": [
    "n, k, a, b = map(int, input().split())\n",
    "\n",
    "leaf = [k] * n\n",
    "day = 0\n",
    "while True:\n",
    "    day += 1\n",
    "    leaf = [l-1 for l in leaf]\n",
    "    if 0 in leaf:\n",
    "        break\n",
    "    \n",
    "    idx = leaf.index(min(leaf))\n",
    "    for i in range(idx, idx + a):\n",
    "        leaf[i] += b\n",
    "\n",
    "print(day)"
   ]
  },
  {
   "cell_type": "markdown",
   "id": "79dc7dac",
   "metadata": {},
   "source": [
    "####  1783. 병든 나이트"
   ]
  },
  {
   "cell_type": "code",
   "execution_count": 3,
   "id": "8c6a1ac8",
   "metadata": {},
   "outputs": [
    {
     "name": "stdout",
     "output_type": "stream",
     "text": [
      "17 5\n",
      "4\n"
     ]
    }
   ],
   "source": [
    "r, c = map(int, input().split())\n",
    "\n",
    "result = 0\n",
    "if r == 1:\n",
    "    result = 1\n",
    "elif r == 2:\n",
    "    result = min((c+1) // 2, 4)\n",
    "elif c < 7:\n",
    "    result = min(c, 4)\n",
    "else:\n",
    "    result = c - 2\n",
    "\n",
    "print(result)"
   ]
  },
  {
   "cell_type": "markdown",
   "id": "2dc2e6f5",
   "metadata": {},
   "source": [
    "#### 5911. 선물"
   ]
  },
  {
   "cell_type": "code",
   "execution_count": 17,
   "id": "33e1a1ba",
   "metadata": {
    "collapsed": true
   },
   "outputs": [
    {
     "name": "stdout",
     "output_type": "stream",
     "text": [
      "5 24\n",
      "4 2\n",
      "2 0\n",
      "8 1\n",
      "6 3\n",
      "12 5\n",
      "3\n"
     ]
    }
   ],
   "source": [
    "def make_data(n):\n",
    "    cost = []\n",
    "    half_max = 0\n",
    "    half_pair = None\n",
    "    for _ in range(n):\n",
    "        p, s = map(int, input().split())\n",
    "        cost.append((p, s))\n",
    "        half = p / 2 + s\n",
    "        if half < half_min:\n",
    "            half_min = half\n",
    "            half_pair = (p, s)\n",
    "            \n",
    "    cost.remove(half_pair)\n",
    "    cost = sorted(cost, key=lambda x: x[0] + x[1])\n",
    "    \n",
    "    return cost, half_pair\n",
    "\n",
    "n, b = map(int, input().split())\n",
    "data, half_pair = make_data(n)\n",
    "    \n",
    "cnt = 0\n",
    "for p, s in data:\n",
    "    cost = p + s\n",
    "    if cost < b:\n",
    "        b -= cost\n",
    "        cnt += 1\n",
    "    else:\n",
    "        p, s = half_pair \n",
    "        if p/2 + s <= b:\n",
    "            cnt += 1\n",
    "        break\n",
    "        \n",
    "print(cnt)"
   ]
  },
  {
   "cell_type": "markdown",
   "id": "caba6631",
   "metadata": {},
   "source": [
    "#### 22864. 피로도"
   ]
  },
  {
   "cell_type": "code",
   "execution_count": 4,
   "id": "3ed80924",
   "metadata": {},
   "outputs": [
    {
     "name": "stdout",
     "output_type": "stream",
     "text": [
      "11 5 1 10\n",
      "0\n"
     ]
    }
   ],
   "source": [
    "a, b, c, m = map(int, input().split())\n",
    "\n",
    "t = 0\n",
    "f = 0\n",
    "work = 0\n",
    "while t < 24:\n",
    "    if f + a > m:\n",
    "        f = max(f - c, 0)\n",
    "    else:\n",
    "        f += a\n",
    "        work += b\n",
    "    t += 1\n",
    "\n",
    "print(work)"
   ]
  },
  {
   "cell_type": "markdown",
   "id": "2d13c5e1",
   "metadata": {},
   "source": [
    "#### 9329. 패스트 푸드 상금"
   ]
  },
  {
   "cell_type": "code",
   "execution_count": 6,
   "id": "b7c175da",
   "metadata": {
    "collapsed": true
   },
   "outputs": [
    {
     "name": "stdout",
     "output_type": "stream",
     "text": [
      "1\n",
      "2 10\n",
      "3 1 2 3 100\n",
      "4 4 5 6 7 200\n",
      "2 3 1 4 5 2 2 1 3 4\n"
     ]
    },
    {
     "ename": "KeyError",
     "evalue": "-1",
     "output_type": "error",
     "traceback": [
      "\u001b[0;31m---------------------------------------------------------------------------\u001b[0m",
      "\u001b[0;31mKeyError\u001b[0m                                  Traceback (most recent call last)",
      "Input \u001b[0;32mIn [6]\u001b[0m, in \u001b[0;36m<cell line: 17>\u001b[0;34m()\u001b[0m\n\u001b[1;32m     25\u001b[0m sticker \u001b[38;5;241m=\u001b[39m \u001b[38;5;28mlist\u001b[39m(\u001b[38;5;28mmap\u001b[39m(\u001b[38;5;28mint\u001b[39m, \u001b[38;5;28minput\u001b[39m()\u001b[38;5;241m.\u001b[39msplit()))\n\u001b[1;32m     26\u001b[0m sticker \u001b[38;5;241m=\u001b[39m {i\u001b[38;5;241m+\u001b[39m\u001b[38;5;241m1\u001b[39m: cnt \u001b[38;5;28;01mfor\u001b[39;00m i, cnt \u001b[38;5;129;01min\u001b[39;00m \u001b[38;5;28menumerate\u001b[39m(sticker)}\n\u001b[0;32m---> 28\u001b[0m result \u001b[38;5;241m=\u001b[39m \u001b[43mgreedy\u001b[49m\u001b[43m(\u001b[49m\u001b[43msticker\u001b[49m\u001b[43m,\u001b[49m\u001b[43m \u001b[49m\u001b[43mreward\u001b[49m\u001b[43m)\u001b[49m\n\u001b[1;32m     29\u001b[0m \u001b[38;5;28mprint\u001b[39m(result)\n",
      "Input \u001b[0;32mIn [6]\u001b[0m, in \u001b[0;36mgreedy\u001b[0;34m(sticker, reward)\u001b[0m\n\u001b[1;32m      9\u001b[0m     result \u001b[38;5;241m+\u001b[39m\u001b[38;5;241m=\u001b[39m price \u001b[38;5;241m*\u001b[39m cnt\n\u001b[1;32m     10\u001b[0m     \u001b[38;5;28;01mfor\u001b[39;00m s \u001b[38;5;129;01min\u001b[39;00m curr:\n\u001b[0;32m---> 11\u001b[0m         sticker[s] \u001b[38;5;241m-\u001b[39m\u001b[38;5;241m=\u001b[39m cnt\n\u001b[1;32m     13\u001b[0m \u001b[38;5;28;01mreturn\u001b[39;00m result\n",
      "\u001b[0;31mKeyError\u001b[0m: -1"
     ]
    }
   ],
   "source": [
    "def greedy(sticker, reward):\n",
    "    reward = sorted(reward.items(), key=lambda x: x[0], reverse=True)\n",
    "\n",
    "    result = 0\n",
    "    for price, s_list in reward:\n",
    "        curr = [sticker[s] for s in s_list]\n",
    "        cnt = min(curr)\n",
    "\n",
    "        result += price * cnt\n",
    "        for s in s_list:\n",
    "            sticker[s] -= cnt\n",
    "\n",
    "    return result\n",
    "\n",
    "\n",
    "t = int(input())\n",
    "\n",
    "for _ in range(t):\n",
    "    n, m = map(int, input().split())\n",
    "    reward = {}\n",
    "    for _ in range(n):\n",
    "        data = list(map(int, input().split()))\n",
    "        reward_sticker = data[1: -1]\n",
    "        price = data[-1]\n",
    "        reward[price] = reward_sticker\n",
    "        \n",
    "    sticker = list(map(int, input().split()))\n",
    "    sticker = {i + 1: cnt for i, cnt in enumerate(sticker)}\n",
    "\n",
    "    result = greedy(sticker, reward)\n",
    "    print(result)"
   ]
  },
  {
   "cell_type": "markdown",
   "id": "a3a90474",
   "metadata": {},
   "source": [
    "#### 12961. 공 포장하기"
   ]
  },
  {
   "cell_type": "code",
   "execution_count": 29,
   "id": "c4a594cc",
   "metadata": {},
   "outputs": [
    {
     "name": "stdout",
     "output_type": "stream",
     "text": [
      "4 2 4\n",
      "3\n"
     ]
    }
   ],
   "source": [
    "def solution(data):\n",
    "    cnt = 0\n",
    "\n",
    "    # Step 1\n",
    "    min_cnt = min(data)\n",
    "    step1 = []\n",
    "    for v in data:\n",
    "        step1.append(v - min_cnt)\n",
    "    cnt += min_cnt\n",
    "\n",
    "    # Step 2\n",
    "    step2 = []\n",
    "    for v in step1:\n",
    "        c = v // 3\n",
    "        step2.append(v - c * 3)\n",
    "        cnt += c\n",
    "\n",
    "    # Step 3\n",
    "    if sum(step2) != 0:\n",
    "        if sum(step2) == 3:\n",
    "            cnt += 2\n",
    "        else:\n",
    "            cnt += 1\n",
    "\n",
    "    return cnt\n",
    "\n",
    "data = list(map(int, input().split()))\n",
    "result = solution(data)\n",
    "print(result)"
   ]
  },
  {
   "cell_type": "markdown",
   "id": "542b7574",
   "metadata": {},
   "source": [
    "#### 20310. 타노스"
   ]
  },
  {
   "cell_type": "code",
   "execution_count": 7,
   "id": "53335846",
   "metadata": {},
   "outputs": [
    {
     "name": "stdout",
     "output_type": "stream",
     "text": [
      "000011\n",
      "001\n"
     ]
    }
   ],
   "source": [
    "from collections import Counter\n",
    "seq = input()\n",
    "\n",
    "cnt = dict(Counter(seq))\n",
    "half_cnt = {k: v//2 for k, v in cnt.items()}\n",
    "\n",
    "new_seq = []\n",
    "for s in seq:\n",
    "    if s == '1':\n",
    "        if half_cnt[s] > 0:\n",
    "            half_cnt[s] -= 1\n",
    "        else:\n",
    "            new_seq.append(s)\n",
    "    else:\n",
    "        if half_cnt[s] > 0:\n",
    "            new_seq.append(s)\n",
    "            half_cnt[s] -= 1\n",
    "\n",
    "print(''.join(new_seq))"
   ]
  },
  {
   "cell_type": "markdown",
   "id": "0ff7d307",
   "metadata": {},
   "source": [
    "#### 15720. 카우버거"
   ]
  },
  {
   "cell_type": "code",
   "execution_count": 9,
   "id": "73214170",
   "metadata": {
    "scrolled": false
   },
   "outputs": [
    {
     "name": "stdout",
     "output_type": "stream",
     "text": [
      "3 3 2\n",
      "2000 3000 2500\n",
      "800 1300 1000\n",
      "500 1000\n",
      "12100\n",
      "11170.0\n"
     ]
    }
   ],
   "source": [
    "b, c, d = map(int, input().split())\n",
    "\n",
    "b_list = sorted(list(map(int, input().split())), reverse=True)\n",
    "c_list = sorted(list(map(int, input().split())), reverse=True)\n",
    "d_list = sorted(list(map(int, input().split())), reverse=True)\n",
    "\n",
    "org_price = sum(b_list) + sum(c_list) + sum(d_list)\n",
    "\n",
    "discount_cnt = min(b, c, d)\n",
    "discount_price = 0\n",
    "for i in range(discount_cnt):\n",
    "    discount_price += b_list[i] * 0.9\n",
    "    discount_price += c_list[i] * 0.9\n",
    "    discount_price += d_list[i] * 0.9\n",
    "\n",
    "for kind in [b_list, c_list, d_list]:\n",
    "    if len(kind) > discount_cnt:\n",
    "        discount_price += sum(kind[discount_cnt:])\n",
    "\n",
    "print(org_price)\n",
    "print(int(discount_price))"
   ]
  },
  {
   "cell_type": "markdown",
   "id": "5f64a2e1",
   "metadata": {},
   "source": [
    "#### 13305. 주유소"
   ]
  },
  {
   "cell_type": "code",
   "execution_count": 2,
   "id": "6b9aecb8",
   "metadata": {},
   "outputs": [
    {
     "name": "stdout",
     "output_type": "stream",
     "text": [
      "4\n",
      "2 3 1\n",
      "5 2 4 1\n",
      "14\n"
     ]
    }
   ],
   "source": [
    "n = int(input())\n",
    "oil_list = list(map(int, input().split()))\n",
    "distance = list(map(int, input().split()))\n",
    "\n",
    "oil_min = oil_list[0]\n",
    "price = oil_min * distance[0]\n",
    "for oil, dist in zip(oil_list[1:-1], distance[1:]):\n",
    "    if oil < oil_min:\n",
    "        oil_min = oil\n",
    "    price += oil_min * dist\n",
    "    \n",
    "print(price)"
   ]
  },
  {
   "cell_type": "markdown",
   "id": "907d8e2b",
   "metadata": {},
   "source": [
    "#### 1946. 신입 사원"
   ]
  },
  {
   "cell_type": "code",
   "execution_count": null,
   "id": "3b0fa743",
   "metadata": {},
   "outputs": [],
   "source": [
    "def solve(data):\n",
    "    bf_x, bf_y = data[0]\n",
    "    cnt = 1\n",
    "    for x, y in data[1:]:\n",
    "        if x > bf_x and y < bf_y:\n",
    "            cnt += 1\n",
    "            bf_x = x\n",
    "            bf_y = y\n",
    "    \n",
    "    return cnt\n",
    "\n",
    "t = int(input())\n",
    "for _ in range(t):\n",
    "    n = int(input())\n",
    "    data = []\n",
    "    for _ in range(n):\n",
    "        x, y = map(int, input().split())\n",
    "        data.append([x, y])\n",
    "    \n",
    "    data = sorted(data, key=lambda x: (x[0], -x[1]))\n",
    "    result = solve(data)\n",
    "    print(result)"
   ]
  }
 ],
 "metadata": {
  "kernelspec": {
   "display_name": "Python 3 (ipykernel)",
   "language": "python",
   "name": "python3"
  },
  "language_info": {
   "codemirror_mode": {
    "name": "ipython",
    "version": 3
   },
   "file_extension": ".py",
   "mimetype": "text/x-python",
   "name": "python",
   "nbconvert_exporter": "python",
   "pygments_lexer": "ipython3",
   "version": "3.8.10"
  }
 },
 "nbformat": 4,
 "nbformat_minor": 5
}
