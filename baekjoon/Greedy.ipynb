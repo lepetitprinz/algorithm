{
 "cells": [
  {
   "cell_type": "code",
   "execution_count": 4,
   "id": "246ab4e8",
   "metadata": {},
   "outputs": [],
   "source": [
    "import re"
   ]
  },
  {
   "cell_type": "code",
   "execution_count": 32,
   "id": "88cd3022",
   "metadata": {
    "scrolled": false
   },
   "outputs": [
    {
     "name": "stdout",
     "output_type": "stream",
     "text": [
      "1-2+3+4+5+6-10\n",
      "-29\n"
     ]
    }
   ],
   "source": [
    "problem = input()\n",
    "nums = [int(num) for num in (re.split('-|\\+', problem))]\n",
    "operator = [o for o in problem if o in ['+', '-']]\n",
    "\n",
    "sign = 1\n",
    "result = [nums[0]]\n",
    "for num, o in zip(nums[1:], operator):\n",
    "    if o == '-':\n",
    "        sign = -1\n",
    "        result.append(num * sign)\n",
    "    else:\n",
    "        result.append(num * sign)\n",
    "\n",
    "print(sum(result))"
   ]
  },
  {
   "cell_type": "code",
   "execution_count": 39,
   "id": "cec63293",
   "metadata": {},
   "outputs": [
    {
     "name": "stdout",
     "output_type": "stream",
     "text": [
      "2022\n",
      "7\n",
      "4\n"
     ]
    }
   ],
   "source": [
    "import datetime as dt\n",
    "\n",
    "now = dt.datetime.today()\n",
    "diff = now - dt.timedelta(hours=9)\n",
    "print(diff.year)\n",
    "print(diff.month)\n",
    "print(diff.day)"
   ]
  },
  {
   "cell_type": "code",
   "execution_count": null,
   "id": "ea0a6115",
   "metadata": {},
   "outputs": [],
   "source": []
  }
 ],
 "metadata": {
  "kernelspec": {
   "display_name": "Python 3 (ipykernel)",
   "language": "python",
   "name": "python3"
  },
  "language_info": {
   "codemirror_mode": {
    "name": "ipython",
    "version": 3
   },
   "file_extension": ".py",
   "mimetype": "text/x-python",
   "name": "python",
   "nbconvert_exporter": "python",
   "pygments_lexer": "ipython3",
   "version": "3.8.10"
  }
 },
 "nbformat": 4,
 "nbformat_minor": 5
}
