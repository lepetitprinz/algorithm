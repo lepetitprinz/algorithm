{
 "cells": [
  {
   "cell_type": "markdown",
   "id": "f34da000",
   "metadata": {},
   "source": [
    "### String"
   ]
  },
  {
   "cell_type": "markdown",
   "id": "5f6b3c35",
   "metadata": {},
   "source": [
    "#### 16171. 나는 친구가 적다 (Small)"
   ]
  },
  {
   "cell_type": "code",
   "execution_count": null,
   "id": "9fb3cf64",
   "metadata": {
    "scrolled": true
   },
   "outputs": [],
   "source": [
    "string = input()\n",
    "compare = input()\n",
    "string = ''.join(s for s in string if s.isalpha())\n",
    "\n",
    "if compare in string:\n",
    "    print(1)\n",
    "else:\n",
    "    print(0)"
   ]
  },
  {
   "cell_type": "markdown",
   "id": "d12c18cf",
   "metadata": {},
   "source": [
    "#### 4659. 비밀번호 발음하기"
   ]
  },
  {
   "cell_type": "code",
   "execution_count": 18,
   "id": "357da8f6",
   "metadata": {},
   "outputs": [],
   "source": [
    "from string import ascii_lowercase\n",
    "\n",
    "vowel =  ['a', 'e', 'i', 'o', 'u']\n",
    "consonant = set([w for w in ascii_lowercase if w not in vowel])\n",
    "vowel = set(vowel)\n",
    "\n",
    "def check(word):\n",
    "    flag = False\n",
    "    if len(set(word).intersection(vowel)) > 0:\n",
    "        if check_seq(word):\n",
    "            if check_seq_2(word):\n",
    "                flag = True\n",
    "    \n",
    "    return flag\n",
    "\n",
    "def check_seq(word):\n",
    "    flag = True\n",
    "    for i in range(len(word)-2):\n",
    "        temp = word[i: i+3]\n",
    "        if set(temp).issubset(vowel) or set(temp).issubset(consonant):\n",
    "            flag = False\n",
    "            break\n",
    "            \n",
    "    return flag\n",
    "\n",
    "def check_seq_2(word):\n",
    "    flag = True\n",
    "    temp = word[0]\n",
    "    for w in word[1:]:\n",
    "        if w == temp[-1]:\n",
    "            if w == 'e' or w == 'o':\n",
    "                continue\n",
    "            else:\n",
    "                flag = False\n",
    "                break\n",
    "        else:\n",
    "            temp = w\n",
    "    \n",
    "    return flag"
   ]
  },
  {
   "cell_type": "code",
   "execution_count": 19,
   "id": "afcc3edf",
   "metadata": {},
   "outputs": [
    {
     "name": "stdout",
     "output_type": "stream",
     "text": [
      "a\n",
      "<a> is acceptable\n",
      "tv\n",
      "<tv> is not acceptable\n",
      "ptoui\n",
      "<ptoui> is not acceptable\n",
      "bontres\n",
      "<bontres> is not acceptable\n",
      "zoggax\n",
      "<zoggax> is not acceptable\n",
      "wiinq\n",
      "<wiinq> is not acceptable\n",
      "eep\n",
      "<eep> is acceptable\n",
      "houctuh\n",
      "<houctuh> is acceptable\n",
      "end\n"
     ]
    }
   ],
   "source": [
    "while True:\n",
    "    word = input()\n",
    "    if word == 'end':\n",
    "        break\n",
    "    else:\n",
    "        if check(word):\n",
    "            print(f'<{word}> is acceptable')\n",
    "        else:\n",
    "            print(f'<{word}> is not acceptable')"
   ]
  },
  {
   "cell_type": "code",
   "execution_count": null,
   "id": "051c1c33",
   "metadata": {},
   "outputs": [],
   "source": []
  }
 ],
 "metadata": {
  "kernelspec": {
   "display_name": "Python 3 (ipykernel)",
   "language": "python",
   "name": "python3"
  },
  "language_info": {
   "codemirror_mode": {
    "name": "ipython",
    "version": 3
   },
   "file_extension": ".py",
   "mimetype": "text/x-python",
   "name": "python",
   "nbconvert_exporter": "python",
   "pygments_lexer": "ipython3",
   "version": "3.8.10"
  }
 },
 "nbformat": 4,
 "nbformat_minor": 5
}
