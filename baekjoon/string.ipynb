{
 "cells": [
  {
   "cell_type": "markdown",
   "id": "5f6b3c35",
   "metadata": {},
   "source": [
    "#### 16171. 나는 친구가 적다 (Small)"
   ]
  },
  {
   "cell_type": "code",
   "execution_count": null,
   "id": "9fb3cf64",
   "metadata": {
    "scrolled": true
   },
   "outputs": [],
   "source": [
    "string = input()\n",
    "compare = input()\n",
    "string = ''.join(s for s in string if s.isalpha())\n",
    "\n",
    "if compare in string:\n",
    "    print(1)\n",
    "else:\n",
    "    print(0)"
   ]
  },
  {
   "cell_type": "markdown",
   "id": "d12c18cf",
   "metadata": {},
   "source": [
    "#### 4659. 비밀번호 발음하기"
   ]
  },
  {
   "cell_type": "code",
   "execution_count": null,
   "id": "357da8f6",
   "metadata": {},
   "outputs": [],
   "source": [
    "from string import ascii_lowercase\n",
    "\n",
    "vowel =  ['a', 'e', 'i', 'o', 'u']\n",
    "consonant = set([w for w in ascii_lowercase if w not in vowel])\n",
    "vowel = set(vowel)\n",
    "\n",
    "def check(word):\n",
    "    flag = False\n",
    "    if len(set(word).intersection(vowel)) > 0:\n",
    "        if check_seq(word):\n",
    "            if check_seq_2(word):\n",
    "                flag = True\n",
    "    \n",
    "    return flag\n",
    "\n",
    "def check_seq(word):\n",
    "    flag = True\n",
    "    for i in range(len(word)-2):\n",
    "        temp = word[i: i+3]\n",
    "        if set(temp).issubset(vowel) or set(temp).issubset(consonant):\n",
    "            flag = False\n",
    "            break\n",
    "            \n",
    "    return flag\n",
    "\n",
    "def check_seq_2(word):\n",
    "    flag = True\n",
    "    temp = word[0]\n",
    "    for w in word[1:]:\n",
    "        if w == temp[-1]:\n",
    "            if w == 'e' or w == 'o':\n",
    "                continue\n",
    "            else:\n",
    "                flag = False\n",
    "                break\n",
    "        else:\n",
    "            temp = w\n",
    "    \n",
    "    return flag"
   ]
  },
  {
   "cell_type": "code",
   "execution_count": null,
   "id": "afcc3edf",
   "metadata": {},
   "outputs": [],
   "source": [
    "while True:\n",
    "    word = input()\n",
    "    if word == 'end':\n",
    "        break\n",
    "    else:\n",
    "        if check(word):\n",
    "            print(f'<{word}> is acceptable')\n",
    "        else:\n",
    "            print(f'<{word}> is not acceptable')"
   ]
  },
  {
   "cell_type": "markdown",
   "id": "bc671268",
   "metadata": {},
   "source": [
    "#### 14405. 피카츄"
   ]
  },
  {
   "cell_type": "code",
   "execution_count": null,
   "id": "80257a4c",
   "metadata": {},
   "outputs": [],
   "source": [
    "\"pi\", \"ka\", \"chu\""
   ]
  },
  {
   "cell_type": "code",
   "execution_count": null,
   "id": "d4146317",
   "metadata": {},
   "outputs": [],
   "source": [
    "word = input()\n",
    "word = word.replace('pi', ' ')\n",
    "word = word.replace('ka', ' ')\n",
    "word = word.replace('chu', ' ')\n",
    "word = word.replace(' ', '')\n",
    "\n",
    "if len(word) == 0:\n",
    "    print('YES')\n",
    "else:\n",
    "    print('NO')"
   ]
  },
  {
   "cell_type": "markdown",
   "id": "93b8d69f",
   "metadata": {},
   "source": [
    "#### 1380. 귀걸이"
   ]
  },
  {
   "cell_type": "code",
   "execution_count": 6,
   "id": "3c523f8f",
   "metadata": {
    "collapsed": true
   },
   "outputs": [
    {
     "name": "stdout",
     "output_type": "stream",
     "text": [
      "3\n",
      "Betty Boolean\n",
      "Alison Addaway\n",
      "Carrie Carryon\n",
      "1 b\n",
      "2 a\n",
      "3 b\n",
      "3 a\n",
      "1 a\n",
      "1 Alison Addaway\n",
      "0\n"
     ]
    }
   ],
   "source": [
    "scenario = 0\n",
    "while True:\n",
    "    scenario += 1\n",
    "    n = int(input())\n",
    "    if n == 0:\n",
    "        break\n",
    "    name = {i+1: input() for i in range(n)}\n",
    "    entry = []\n",
    "    for _ in range(2 * n - 1):\n",
    "        person, val = input().split()\n",
    "        person = int(person)\n",
    "        if person in entry:\n",
    "            entry.remove(person)\n",
    "        else:\n",
    "            entry.append(person)\n",
    "    \n",
    "    print(scenario, name[entry[0]])"
   ]
  },
  {
   "cell_type": "markdown",
   "id": "8986dbc7",
   "metadata": {},
   "source": [
    "#### 4821. 페이지 세기"
   ]
  },
  {
   "cell_type": "code",
   "execution_count": 9,
   "id": "34c497cf",
   "metadata": {
    "collapsed": true
   },
   "outputs": [
    {
     "name": "stdout",
     "output_type": "stream",
     "text": [
      "30\n",
      "10-15,25-28,8-4,13-20,9,8-8\n",
      "17\n",
      "19\n",
      "10-15,25-28,8-4,13-20,9,8-8\n",
      "12\n",
      "0\n"
     ]
    }
   ],
   "source": [
    "while True:\n",
    "    page = int(input())\n",
    "    if page == 0:\n",
    "        break\n",
    "    \n",
    "    requests = list(input().split(','))\n",
    "    result = set()\n",
    "    for request in requests:\n",
    "        r = request.split('-')\n",
    "        if len(r) == 1:\n",
    "            if r[0] <= page:\n",
    "                result.add(int(r[0]))\n",
    "        else:\n",
    "            result = result | set(range(int(r[0]), min(int(r[1]) + 1, page + 1)))\n",
    "    \n",
    "    print(len(result))"
   ]
  },
  {
   "cell_type": "markdown",
   "id": "e41a50fd",
   "metadata": {},
   "source": [
    "#### 1543. 문서 검색"
   ]
  },
  {
   "cell_type": "code",
   "execution_count": 5,
   "id": "8eaf2387",
   "metadata": {},
   "outputs": [
    {
     "name": "stdout",
     "output_type": "stream",
     "text": [
      "aaaaaaa\n",
      "aa\n",
      "3\n"
     ]
    }
   ],
   "source": [
    "word = input()\n",
    "s_word = input()\n",
    "s_len = len(s_word)\n",
    "\n",
    "idx = 0\n",
    "cnt = 0\n",
    "while idx < len(word):\n",
    "    if word[idx: idx + s_len] == s_word:\n",
    "        cnt += 1\n",
    "        idx += s_len\n",
    "    else:\n",
    "        idx += 1\n",
    "        \n",
    "print(cnt)"
   ]
  },
  {
   "cell_type": "markdown",
   "id": "3e10f119",
   "metadata": {},
   "source": [
    "#### 12605. 단어순서 뒤집기"
   ]
  },
  {
   "cell_type": "code",
   "execution_count": null,
   "id": "691bc907",
   "metadata": {},
   "outputs": [],
   "source": [
    "n = int(input())\n",
    "for i in range(n):\n",
    "    data = list(input().split())\n",
    "    data = data[::-1]\n",
    "    print(f\"Case #{i+1}: {' '.join(data)}\")"
   ]
  },
  {
   "cell_type": "markdown",
   "id": "d67d57fe",
   "metadata": {},
   "source": [
    "#### 4354. 문자열 제곱"
   ]
  },
  {
   "cell_type": "code",
   "execution_count": 12,
   "id": "a3a7d8b6",
   "metadata": {
    "scrolled": true
   },
   "outputs": [
    {
     "name": "stdout",
     "output_type": "stream",
     "text": [
      "abcabcabc\n",
      "3\n",
      ".\n"
     ]
    }
   ],
   "source": [
    "def solution(string, length):\n",
    "    result = 1\n",
    "    for i in range(1, length // 2 + 1):\n",
    "        if length % i == 0:\n",
    "            if kmp(string, length, i):\n",
    "                result = length // i\n",
    "                break\n",
    "\n",
    "    return result\n",
    "\n",
    "def kmp(string, length, width):\n",
    "    flag = True\n",
    "    s = string[:width]\n",
    "    for j in range(0, length, width):\n",
    "        if not string[j: j + width] == s:\n",
    "            flag = False\n",
    "            break\n",
    "\n",
    "    return flag\n",
    "\n",
    "while True:\n",
    "    string = input()\n",
    "    if string == '.':\n",
    "        break\n",
    "\n",
    "    length = len(string)\n",
    "    result = solution(string, length)\n",
    "\n",
    "    print(result)"
   ]
  },
  {
   "cell_type": "markdown",
   "id": "c24fd927",
   "metadata": {},
   "source": [
    "#### 11008. 복붙의 달인"
   ]
  },
  {
   "cell_type": "code",
   "execution_count": 4,
   "id": "bc722ef1",
   "metadata": {
    "scrolled": true
   },
   "outputs": [
    {
     "name": "stdout",
     "output_type": "stream",
     "text": [
      "1\n",
      "banabana bana\n",
      "2\n"
     ]
    }
   ],
   "source": [
    "t = int(input())\n",
    "for _ in range(t):\n",
    "    word, c = input().split()\n",
    "    c_len = len(c)\n",
    "\n",
    "    time = 0\n",
    "    idx = 0\n",
    "    while idx < len(word):\n",
    "        if word[idx] == c[0]:\n",
    "            if word[idx: idx + c_len] == c:\n",
    "                idx += c_len\n",
    "                time += 1\n",
    "            else:\n",
    "                idx += 1\n",
    "                time += 1\n",
    "        else:\n",
    "            idx += 1\n",
    "            time += 1\n",
    "    print(time)"
   ]
  },
  {
   "cell_type": "markdown",
   "id": "143a3590",
   "metadata": {},
   "source": [
    "#### 1769. 3의 배수"
   ]
  },
  {
   "cell_type": "code",
   "execution_count": 10,
   "id": "d1c35591",
   "metadata": {},
   "outputs": [
    {
     "name": "stdout",
     "output_type": "stream",
     "text": [
      "1234567\n",
      "3\n",
      "NO\n"
     ]
    }
   ],
   "source": [
    "word = input()\n",
    "cnt = 0\n",
    "while len(word) > 1:\n",
    "    word = sum(map(int, list(word)))\n",
    "    word = str(word)\n",
    "    cnt += 1\n",
    "\n",
    "number = int(word)\n",
    "if number % 3 == 0:\n",
    "    result = 'YES'\n",
    "else:\n",
    "    result = 'NO'\n",
    "    \n",
    "print(cnt)\n",
    "print(result)"
   ]
  },
  {
   "cell_type": "markdown",
   "id": "80667801",
   "metadata": {},
   "source": [
    "#### 1544. 사이클 단어"
   ]
  },
  {
   "cell_type": "code",
   "execution_count": 16,
   "id": "ef44499d",
   "metadata": {
    "scrolled": true
   },
   "outputs": [
    {
     "name": "stdout",
     "output_type": "stream",
     "text": [
      "5\n",
      "picture\n",
      "turepic\n",
      "icturep\n",
      "word\n",
      "ordw\n",
      "20\n"
     ]
    }
   ],
   "source": [
    "def cycle_word(word):\n",
    "    cycle = set()\n",
    "    for i in range(len(word)):\n",
    "        cycle.add(word[i:] + word[:i])\n",
    "\n",
    "    return cycle\n",
    "        \n",
    "n = int(input())\n",
    "words = []\n",
    "words_cycle = {}\n",
    "for _ in range(n):\n",
    "    word = input()\n",
    "    words.append(word)\n",
    "    words_cycle[word] = cycle_word(word)\n",
    "\n",
    "count = 0\n",
    "group = set()\n",
    "for w1 in words:\n",
    "    for w2 in words:\n",
    "        if w1 != w2 and w2 not in group:\n",
    "            if w2 in words_cycle[w1]:\n",
    "                group.add(w1)\n",
    "                group.add(w2)\n",
    "            else:\n",
    "                count += 1\n",
    "        else:\n",
    "            count += 1\n",
    "\n",
    "print(count)"
   ]
  },
  {
   "cell_type": "markdown",
   "id": "de4abb45",
   "metadata": {},
   "source": [
    "#### 3961. 터치스크린 키보드"
   ]
  },
  {
   "cell_type": "code",
   "execution_count": 7,
   "id": "9f8ad9fe",
   "metadata": {
    "scrolled": true
   },
   "outputs": [
    {
     "name": "stdout",
     "output_type": "stream",
     "text": [
      "1\n",
      "ifpv 3\n",
      "iopc\n",
      "icpc\n",
      "gcpc\n",
      "icpc 3\n",
      "gcpc 7\n",
      "iopc 7\n"
     ]
    }
   ],
   "source": [
    "loc = {\n",
    "    'q': (0, 0), 'w': (0, 1), 'e': (0, 2), 'r': (0, 3), 't': (0, 4), 'y': (0, 5), 'u': (0, 6), \n",
    "    'i': (0, 7), 'o': (0, 8), 'p': (0, 9),\n",
    "    'a': (1, 0), 's': (1, 1), 'd': (1, 2), 'f': (1, 3), 'g': (1, 4), 'h': (1, 5), 'j': (1, 6), \n",
    "    'k': (1, 7), 'l': (1, 8),\n",
    "    'z': (2, 0), 'x': (2, 1), 'c': (2, 2), 'v': (2, 3), 'b': (2, 4), 'n': (2, 5), 'm': (2, 6)\n",
    "}\n",
    "\n",
    "def compare_word(word1, word2):\n",
    "    distance = 0\n",
    "    for alpha1, alpha2 in zip(word1, word2):\n",
    "        distance += cal_manhattan_distance(alpha1, alpha2)\n",
    "    \n",
    "    return distance\n",
    "\n",
    "def cal_manhattan_distance(alpha1, alpha2):\n",
    "    x1, y1 = loc[alpha1]\n",
    "    x2, y2 = loc[alpha2]\n",
    "    \n",
    "    return abs(x2 - x1) + abs(y2 - y1)\n",
    "\n",
    "test = int(input())\n",
    "for _ in range(test):\n",
    "    w, l = input().split()\n",
    "    \n",
    "    dist = []\n",
    "    for _ in range(int(l)):\n",
    "        word = input()\n",
    "        dist.append([word, compare_word(w, word)])\n",
    "    result = sorted(dist, key=lambda x: (x[1], x[0]))\n",
    "    for r in result:\n",
    "        print(*r)"
   ]
  },
  {
   "cell_type": "markdown",
   "id": "02cfbb47",
   "metadata": {},
   "source": [
    "#### 1235. 학생 번호"
   ]
  },
  {
   "cell_type": "code",
   "execution_count": 3,
   "id": "2955e870",
   "metadata": {},
   "outputs": [
    {
     "name": "stdout",
     "output_type": "stream",
     "text": [
      "3\n",
      "1212345\n",
      "1212356\n",
      "0033445\n",
      "3\n"
     ]
    }
   ],
   "source": [
    "n = int(input())\n",
    "students = [input() for _ in range(n)]\n",
    "length = len(students[0])\n",
    "\n",
    "for i in range(1, length+1):\n",
    "    memory = set()\n",
    "    flag = True\n",
    "    for student in students:\n",
    "        sliced = student[-i:]\n",
    "        if sliced in memory:\n",
    "            flag = False\n",
    "            break\n",
    "        else:\n",
    "            memory.add(sliced)\n",
    "    \n",
    "    if flag:\n",
    "        break\n",
    "print(i)"
   ]
  },
  {
   "cell_type": "markdown",
   "id": "15fe799f",
   "metadata": {},
   "source": [
    "#### 1706. 크로스워드"
   ]
  },
  {
   "cell_type": "code",
   "execution_count": 2,
   "id": "383b6730",
   "metadata": {},
   "outputs": [
    {
     "name": "stdout",
     "output_type": "stream",
     "text": [
      "4 5\n",
      "adaca\n",
      "da##b\n",
      "abb#b\n",
      "abbac\n",
      "abb\n"
     ]
    }
   ],
   "source": [
    "r, c = map(int, input().split())\n",
    "arr = [list(input()) for _ in range(r)]\n",
    "\n",
    "words = []\n",
    "for i in range(r):\n",
    "    temp = []\n",
    "    for j in range(c):\n",
    "        char = arr[i][j]\n",
    "        if char != '#':\n",
    "            temp.append(char)\n",
    "        else:\n",
    "            if len(temp) > 1:\n",
    "                words.append(''.join(temp))\n",
    "            temp = []\n",
    "        \n",
    "for i in range(c):\n",
    "    temp = []\n",
    "    for j in range(r):\n",
    "        char = arr[j][i]\n",
    "        if char != '#':\n",
    "            temp.append(char)\n",
    "        else:\n",
    "            if len(temp) > 1:\n",
    "                words.append(''.join(temp))\n",
    "            temp = []\n",
    "            \n",
    "words = sorted(words)\n",
    "print(words[0])"
   ]
  },
  {
   "cell_type": "markdown",
   "id": "a58d8e72",
   "metadata": {},
   "source": [
    "#### 5525. IOIOI"
   ]
  },
  {
   "cell_type": "code",
   "execution_count": 13,
   "id": "ca126c5c",
   "metadata": {
    "collapsed": true
   },
   "outputs": [
    {
     "name": "stdout",
     "output_type": "stream",
     "text": [
      "2\n",
      "13\n",
      "OOIOIOIOIIOII\n",
      "2\n"
     ]
    }
   ],
   "source": [
    "def kmp(string, pattern):\n",
    "    table = [0 for _ in range(len(pattern))]\n",
    "    \n",
    "    i = 0\n",
    "    for j in range(1, len(pattern)):\n",
    "        while i > 0 and pattern[i] != pattern[j]:\n",
    "            i = table[i-1]\n",
    "        \n",
    "        if pattern[i] == pattern[j]:\n",
    "            i += 1\n",
    "            table[j] = i\n",
    "            \n",
    "    count = 0\n",
    "    i = 0\n",
    "    for j in range(len(string)):\n",
    "        while i > 0 and pattern[i] != string[j]:\n",
    "            i = table[i-1]\n",
    "        \n",
    "        if pattern[i] == string[j]:\n",
    "            i += 1\n",
    "            if i == len(pattern):\n",
    "                count += 1\n",
    "                i = table[i-1]\n",
    "\n",
    "    return count\n",
    "    \n",
    "n = int(input())\n",
    "m = int(input())\n",
    "string = input()\n",
    "\n",
    "pattern = ''.join(['I'] + ['OI'] * n)\n",
    "print(kmp(string, pattern))"
   ]
  },
  {
   "cell_type": "markdown",
   "id": "2f4e56cc",
   "metadata": {},
   "source": [
    "#### 14468. 소가 길을 건너간 이유 2"
   ]
  },
  {
   "cell_type": "code",
   "execution_count": 2,
   "id": "dc385ed8",
   "metadata": {
    "collapsed": true
   },
   "outputs": [
    {
     "name": "stdout",
     "output_type": "stream",
     "text": [
      "ABCCABDDEEFFGGHHIIJJKKLLMMNNOOPPQQRRSSTTUUVVWWXXYYZZ\n",
      "1\n"
     ]
    }
   ],
   "source": [
    "from string import ascii_uppercase\n",
    "from itertools import combinations\n",
    "\n",
    "seq = input()\n",
    "\n",
    "loc = {}\n",
    "for i, alpha in enumerate(seq):\n",
    "    if alpha in loc:\n",
    "        loc[alpha].append(i)\n",
    "    else:\n",
    "        loc[alpha] = [i]\n",
    "\n",
    "count = 0\n",
    "for x, y in combinations(ascii_uppercase, 2):\n",
    "    x1, x2 = loc[x] \n",
    "    y1, y2 = loc[y]\n",
    "    if (x1 < y1 < x2 < y2) or (y1 < x1 < y2 < x2):\n",
    "        count += 1\n",
    "\n",
    "print(count)"
   ]
  },
  {
   "cell_type": "markdown",
   "id": "c0b611a3",
   "metadata": {},
   "source": [
    "#### 5555. 반지"
   ]
  },
  {
   "cell_type": "code",
   "execution_count": 5,
   "id": "8dd9e37f",
   "metadata": {
    "collapsed": true
   },
   "outputs": [
    {
     "name": "stdout",
     "output_type": "stream",
     "text": [
      "PQR\n",
      "3\n",
      "PQRAAAAPQR\n",
      "BBPQRBBBBB\n",
      "CCCCCCCCCC\n",
      "2\n"
     ]
    }
   ],
   "source": [
    "search = input()\n",
    "length = len(search)\n",
    "\n",
    "count = 0\n",
    "for _ in range(int(input())):\n",
    "    string = input()\n",
    "    s_len = len(string)\n",
    "    for i in range(s_len):\n",
    "        end = i + length\n",
    "        if end <= s_len:\n",
    "            comp = string[i: end]\n",
    "        else:\n",
    "            comp = string[i: ] + string[: end - s_len]\n",
    "        if comp == search:\n",
    "            count += 1\n",
    "            break\n",
    "\n",
    "print(count)"
   ]
  },
  {
   "cell_type": "markdown",
   "id": "7b280bda",
   "metadata": {},
   "source": [
    "#### 1411. 비슷한 단어"
   ]
  },
  {
   "cell_type": "code",
   "execution_count": 11,
   "id": "dda14be4",
   "metadata": {
    "collapsed": true
   },
   "outputs": [
    {
     "name": "stdout",
     "output_type": "stream",
     "text": [
      "5\n",
      "aa\n",
      "ab\n",
      "bb\n",
      "cc\n",
      "cd\n",
      "4\n"
     ]
    }
   ],
   "source": [
    "def combination(n):\n",
    "    return n * (n - 1) // 2\n",
    "\n",
    "def get_rule(word):\n",
    "    history = {}\n",
    "    seq = 0\n",
    "    rule = []\n",
    "    for char in word:\n",
    "        if char in history:\n",
    "            rule.append(history[char])\n",
    "        else:\n",
    "            seq += 1\n",
    "            rule.append(str(seq))\n",
    "            history[char] = str(seq)\n",
    "            \n",
    "    return ''.join(rule)\n",
    "\n",
    "n = int(input())\n",
    "cnt = {}\n",
    "for _ in range(n):\n",
    "    word = input()\n",
    "    rule = get_rule(word)\n",
    "    if rule in cnt:\n",
    "        cnt[rule] += 1\n",
    "    else:\n",
    "        cnt[rule] = 1\n",
    "\n",
    "result = sum(combination(i) for i in cnt.values())\n",
    "print(result)"
   ]
  },
  {
   "cell_type": "markdown",
   "id": "1716e7d2",
   "metadata": {},
   "source": [
    "#### 12891. DNA 비밀번호"
   ]
  },
  {
   "cell_type": "code",
   "execution_count": 12,
   "id": "a6cf456c",
   "metadata": {},
   "outputs": [
    {
     "name": "stdout",
     "output_type": "stream",
     "text": [
      "4 2\n",
      "GATA\n",
      "1 0 0 1\n",
      "2\n"
     ]
    }
   ],
   "source": [
    "from collections import deque\n",
    "from collections import Counter\n",
    "\n",
    "def compare(cnt, sub_seq_cnt):\n",
    "    flag = 1\n",
    "    for k, v in cnt.items():\n",
    "        if sub_seq_cnt.get(k, 0) < v:\n",
    "            flag = 0\n",
    "            break\n",
    "\n",
    "    return flag\n",
    "\n",
    "def update_sub_seq_cnt(sub_seq_cnt, rm, add):\n",
    "    sub_seq_cnt[rm] -= 1\n",
    "    if add not in sub_seq_cnt:\n",
    "        sub_seq_cnt[add] = 1\n",
    "    else:\n",
    "        sub_seq_cnt[add] += 1\n",
    "    \n",
    "    return sub_seq_cnt\n",
    "\n",
    "s, p = map(int, input().split())\n",
    "seq = input()\n",
    "cnt = list(map(int, input().split()))\n",
    "cnt = {dna: val for dna, val in zip(['A', 'C', 'G', 'T'], cnt)}\n",
    "\n",
    "sub_seq = seq[:p]\n",
    "sub_seq_cnt = dict(Counter(sub_seq))\n",
    "queue = deque(sub_seq)\n",
    "\n",
    "result = compare(cnt, sub_seq_cnt)\n",
    "for s in seq[p:]:\n",
    "    remove_dna = queue.popleft()\n",
    "    sub_seq_cnt = update_sub_seq_cnt(sub_seq_cnt, remove_dna, s)\n",
    "    result += compare(cnt, sub_seq_cnt)\n",
    "    queue.append(s)\n",
    "\n",
    "print(result) "
   ]
  },
  {
   "cell_type": "code",
   "execution_count": null,
   "id": "cc6beaa7",
   "metadata": {},
   "outputs": [],
   "source": []
  }
 ],
 "metadata": {
  "kernelspec": {
   "display_name": "Python 3 (ipykernel)",
   "language": "python",
   "name": "python3"
  },
  "language_info": {
   "codemirror_mode": {
    "name": "ipython",
    "version": 3
   },
   "file_extension": ".py",
   "mimetype": "text/x-python",
   "name": "python",
   "nbconvert_exporter": "python",
   "pygments_lexer": "ipython3",
   "version": "3.8.10"
  }
 },
 "nbformat": 4,
 "nbformat_minor": 5
}
