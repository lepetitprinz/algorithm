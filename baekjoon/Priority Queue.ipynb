{
 "cells": [
  {
   "cell_type": "markdown",
   "id": "2f11f0c5",
   "metadata": {},
   "source": [
    "#### 11279. 최대 힙"
   ]
  },
  {
   "cell_type": "code",
   "execution_count": 6,
   "id": "d1f2143f",
   "metadata": {
    "collapsed": true
   },
   "outputs": [
    {
     "name": "stdout",
     "output_type": "stream",
     "text": [
      "13\n",
      "0\n",
      "result: 0\n",
      "1\n",
      "2\n",
      "0\n",
      "result: 2\n",
      "0\n",
      "result: 1\n",
      "3\n",
      "2\n",
      "1\n",
      "0\n",
      "result: 3\n",
      "0\n",
      "result: 2\n",
      "0\n",
      "result: 1\n",
      "0\n",
      "result: 0\n",
      "0\n",
      "result: 0\n"
     ]
    }
   ],
   "source": [
    "from heapq import heappush, heappop\n",
    "\n",
    "n = int(input())\n",
    "heap = []\n",
    "\n",
    "for _ in range(n):\n",
    "    number = int(input())\n",
    "    if number == 0:\n",
    "        if len(heap) > 0:\n",
    "            print(-heappop(heap))\n",
    "        else:\n",
    "            print(0)\n",
    "    else:\n",
    "        heappush(heap, -number)"
   ]
  },
  {
   "cell_type": "markdown",
   "id": "e4feab7e",
   "metadata": {},
   "source": [
    "#### 11279. 절대값 힙"
   ]
  },
  {
   "cell_type": "code",
   "execution_count": 4,
   "id": "29b1f42d",
   "metadata": {
    "collapsed": true
   },
   "outputs": [
    {
     "name": "stdout",
     "output_type": "stream",
     "text": [
      "18\n",
      "1\n",
      "-1\n",
      "0\n",
      "result: -1\n",
      "0\n",
      "result: 1\n",
      "0\n",
      "0\n",
      "1\n",
      "1\n",
      "-1\n",
      "-1\n",
      "2\n",
      "-2\n",
      "0\n",
      "result: -1\n",
      "0\n",
      "result: -1\n",
      "0\n",
      "result: 1\n",
      "0\n",
      "result: 1\n",
      "0\n",
      "result: -2\n",
      "0\n",
      "result: 2\n",
      "0\n",
      "0\n"
     ]
    }
   ],
   "source": [
    "from heapq import heappush, heappop\n",
    "\n",
    "n = int(input())\n",
    "heap = []\n",
    "for _ in range(n):\n",
    "    number = int(input())\n",
    "    if number == 0:\n",
    "        if len(heap) > 0:\n",
    "            abs_num, num = heappop(heap)\n",
    "            print(num)\n",
    "        else:\n",
    "            print(0)\n",
    "    else:\n",
    "        heappush(heap, [abs(number), number])"
   ]
  },
  {
   "cell_type": "markdown",
   "id": "6ae2fe52",
   "metadata": {},
   "source": [
    "#### 2075. N번째 큰 수"
   ]
  },
  {
   "cell_type": "code",
   "execution_count": 6,
   "id": "63984241",
   "metadata": {
    "scrolled": false
   },
   "outputs": [
    {
     "name": "stdout",
     "output_type": "stream",
     "text": [
      "5\n",
      "12 7 9 15 5\n",
      "13 8 11 19 6\n",
      "21 10 26 31 16\n",
      "48 14 28 35 25\n",
      "52 20 32 41 49\n",
      "35\n"
     ]
    }
   ],
   "source": [
    "from heapq import heappush, heappop\n",
    "\n",
    "n = int(input())\n",
    "heap = []\n",
    "\n",
    "for val in map(int, input().split()):\n",
    "    heappush(heap, val)\n",
    "        \n",
    "for _ in range(n - 1):\n",
    "    for val in map(int, input().split()):\n",
    "        min_val = heappop(heap)\n",
    "        if val > min_val:\n",
    "            heappush(heap, val)\n",
    "        else:\n",
    "            heappush(heap, min_val)\n",
    "\n",
    "print(heappop(heap))"
   ]
  },
  {
   "cell_type": "markdown",
   "id": "103ec2f0",
   "metadata": {},
   "source": [
    "#### 1715. 카드 정렬하기"
   ]
  },
  {
   "cell_type": "code",
   "execution_count": 9,
   "id": "52e02d6f",
   "metadata": {},
   "outputs": [
    {
     "name": "stdout",
     "output_type": "stream",
     "text": [
      "3\n",
      "10\n",
      "20\n",
      "40\n",
      "100\n"
     ]
    }
   ],
   "source": [
    "from heapq import heappush, heappop, heapify\n",
    "\n",
    "heap = []\n",
    "n = int(input())\n",
    "for _ in range(n):\n",
    "    heappush(heap, int(input()))\n",
    "\n",
    "total = 0\n",
    "for _ in range(n - 1):\n",
    "    a = heappop(heap)\n",
    "    b = heappop(heap)\n",
    "    add = a + b\n",
    "    total += add\n",
    "    heapify(heap, add)\n",
    "    \n",
    "print(total)"
   ]
  },
  {
   "cell_type": "code",
   "execution_count": null,
   "id": "542d3573",
   "metadata": {},
   "outputs": [],
   "source": []
  }
 ],
 "metadata": {
  "kernelspec": {
   "display_name": "Python 3 (ipykernel)",
   "language": "python",
   "name": "python3"
  },
  "language_info": {
   "codemirror_mode": {
    "name": "ipython",
    "version": 3
   },
   "file_extension": ".py",
   "mimetype": "text/x-python",
   "name": "python",
   "nbconvert_exporter": "python",
   "pygments_lexer": "ipython3",
   "version": "3.8.16"
  }
 },
 "nbformat": 4,
 "nbformat_minor": 5
}
