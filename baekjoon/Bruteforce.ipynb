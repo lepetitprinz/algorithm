{
 "cells": [
  {
   "cell_type": "markdown",
   "id": "2f99a86f",
   "metadata": {},
   "source": [
    "### Bruteforcing"
   ]
  },
  {
   "cell_type": "code",
   "execution_count": 1,
   "id": "d760cd5b",
   "metadata": {},
   "outputs": [],
   "source": [
    "cases = [\n",
    "    # ㅣ\n",
    "    [(0,0),(0,1),(0,2),(0,3)],\n",
    "    [(0,0),(1,0),(2,0),(3,0)],\n",
    "    # ㄱㄴ\n",
    "    [(0,0),(0,1),(1,1),(1,2)],\n",
    "    [(0,0),(1,0),(1,-1),(2,-1)],\n",
    "    # ㄱ\n",
    "    [(0,0),(0,1),(0,2),(1,2)],\n",
    "    [(0,0),(1,0),(2,0),(2,-1)],\n",
    "    [(0,0),(1,0),(1,1),(1,2)],\n",
    "    [(0,0),(0, -1),(1,-1),(2,-1)],\n",
    "    # ㅓ\n",
    "    [(0,0),(1,0),(1, -1),(2,0)],\n",
    "    [(0,0),(0,1),(-1,1),(0,2)],\n",
    "    [(0,0),(1,0),(1,1),(2,0)],\n",
    "    [(0,0),(0,1),(1,1),(0,2)],\n",
    "    # ㅁ\n",
    "    [(0,0),(1,0),(0,1),(1,1)]\n",
    "]"
   ]
  },
  {
   "cell_type": "code",
   "execution_count": null,
   "id": "6f2cdad9",
   "metadata": {
    "collapsed": true
   },
   "outputs": [
    {
     "name": "stdout",
     "output_type": "stream",
     "text": [
      "4\n",
      "70 2 1 7\n",
      "7 1 30 6\n",
      "4 30 30 5\n",
      "3 1 30 2\n",
      "120\n",
      "4\n",
      "-70 -2 -1 -7\n",
      "-7 -1 -30 -6\n",
      "-4 -30 -30 -5\n",
      "-3 -1 -30 -2\n",
      "-11\n"
     ]
    }
   ],
   "source": [
    "while True:\n",
    "    n = int(input())\n",
    "    if n == 0:\n",
    "        break\n",
    "    else:\n",
    "        arr = [list(map(int, input().split())) for _ in range(n)]\n",
    "        result = -4000000\n",
    "        for i in range(n):\n",
    "            for j in range(n):\n",
    "                for case in cases:\n",
    "                    temp = 0\n",
    "                    end = True\n",
    "                    for c in case:\n",
    "                        x, y = c\n",
    "                        x, y = x+i, y+j\n",
    "                        if x < 0 or x > n-1 or y < 0 or y > n-1:\n",
    "                            end = False\n",
    "                            break\n",
    "                        temp += arr[x][y]\n",
    "                    if end and temp > result:\n",
    "                        result = temp\n",
    "        print(result)"
   ]
  },
  {
   "cell_type": "markdown",
   "id": "37d902c2",
   "metadata": {},
   "source": [
    "\n",
    "#### 5568. 카드 놓기"
   ]
  },
  {
   "cell_type": "code",
   "execution_count": 6,
   "id": "ee4131ac",
   "metadata": {
    "collapsed": true
   },
   "outputs": [
    {
     "name": "stdout",
     "output_type": "stream",
     "text": [
      "6\n",
      "3\n",
      "72\n",
      "2\n",
      "12\n",
      "7\n",
      "2\n",
      "1\n",
      "68\n"
     ]
    }
   ],
   "source": [
    "from itertools import permutations\n",
    "\n",
    "n = int(input())\n",
    "k = int(input())\n",
    "data = [input() for _ in range(n)]\n",
    "\n",
    "result = set()\n",
    "for p in permutations(data, k):\n",
    "    result.add(''.join(p))\n",
    "\n",
    "print(len(result))"
   ]
  },
  {
   "cell_type": "markdown",
   "id": "0b19811b",
   "metadata": {},
   "source": [
    "#### 3407. 맹세"
   ]
  },
  {
   "cell_type": "code",
   "execution_count": 4,
   "id": "75561b1f",
   "metadata": {
    "collapsed": true
   },
   "outputs": [
    {
     "name": "stdout",
     "output_type": "stream",
     "text": [
      "4\n",
      "contest\n",
      "NO\n",
      "a\n",
      "NO\n",
      "a\n",
      "NO\n",
      "a\n",
      "NO\n"
     ]
    }
   ],
   "source": [
    "from collections import deque\n",
    "\n",
    "element = set([\n",
    "    'h','he','li','be','b','c','n','o','f','ne','na','mg',\n",
    "    'al','si','p','s','cl','ar','k','ca','sc','ti','v','cr',\n",
    "    'mn','fe','co','ni','cu','zn','ga','ge','as','se','br','kr',\n",
    "    'rb','sr','y','zr','nb','mo','tc','ru','rh','pd','ag','cd',\n",
    "    'in','sn','sb','te','i','xe','cs','ba','hf','ta','w','re',\n",
    "    'os','ir','pt','au','hg','tl','pb','bi','po','at','rn','fr',\n",
    "    'ra','rf','db','sg','bh','hs','mt','ds','rg','cn','fl',\n",
    "    'lv','la','ce','pr','nd','pm','sm','eu','gd','tb','dy',\n",
    "    'ho','er','tm','yb','lu','ac','th','pa','u','np','pu','am',\n",
    "    'cm','bk','cf','es','fm','md','no','lr'\n",
    "])\n",
    "\n",
    "def check(word):\n",
    "    queue = deque(word)\n",
    "    while queue:\n",
    "        w = queue.popleft()\n",
    "        for i in range(2):\n",
    "            if len(w) > i:\n",
    "                if w[0:i+1] in element:\n",
    "                    queue.append(w[i+1:])\n",
    "    \n",
    "n = int(input())\n",
    "for _ in range(n):\n",
    "    word = input()\n",
    "    if check(word):\n",
    "        print('YES')\n",
    "    else:\n",
    "        print(\"NO\")"
   ]
  },
  {
   "cell_type": "markdown",
   "id": "20e9bd7a",
   "metadata": {},
   "source": [
    "#### 2851. 슈퍼 마리오"
   ]
  },
  {
   "cell_type": "code",
   "execution_count": 5,
   "id": "3d1ac566",
   "metadata": {},
   "outputs": [
    {
     "name": "stdout",
     "output_type": "stream",
     "text": [
      "1\n",
      "2\n",
      "3\n",
      "5\n",
      "8\n",
      "13\n",
      "21\n",
      "34\n",
      "55\n",
      "89\n",
      "87\n"
     ]
    }
   ],
   "source": [
    "score = []\n",
    "for _ in range(10):\n",
    "    score.append(int(input()))\n",
    "    \n",
    "total = 0\n",
    "idx = 9\n",
    "for i in range(10):\n",
    "    total += score[i]\n",
    "    if total >= 100:\n",
    "        idx = i\n",
    "        break\n",
    "\n",
    "diff_bf = abs(total - score[idx] - 100)\n",
    "diff_af = abs(total - 100)\n",
    "if diff_bf == diff_af:\n",
    "    result = total\n",
    "elif diff_af < diff_bf:\n",
    "    result = total\n",
    "else:\n",
    "    result = total - score[idx]\n",
    "\n",
    "print(result)"
   ]
  },
  {
   "cell_type": "markdown",
   "id": "2ec6e1be",
   "metadata": {},
   "source": [
    "#### 1107. 리모컨"
   ]
  },
  {
   "cell_type": "code",
   "execution_count": null,
   "id": "30c33951",
   "metadata": {},
   "outputs": [],
   "source": [
    "n = int(input())\n",
    "m = int(input())\n",
    "nums = list(map(int, input().split()))\n",
    "\n",
    "max_cnt = abs(n - 100)\n",
    "cnt = 0\n",
    "status = []\n",
    "for i in str(n):\n",
    "    if i not in nums:\n",
    "        status.append(int(i))\n",
    "        cnt += 1\n",
    "    else:\n",
    "        avail = []\n",
    "        while before >= 0:\n",
    "            before = int(i) - 1\n",
    "            if before not in nums:\n",
    "                avail.append(before)\n",
    "                break\n",
    "                \n",
    "        while after <= 9:\n",
    "            after = int(i) + 1\n",
    "            if after not in nums:\n",
    "                avail.append(after)\n",
    "                break\n",
    "        \n",
    "        if len(avail) == 0:\n",
    "            cnt = max_cnt\n",
    "            break\n",
    "        else:\n",
    "            \n",
    "        \n",
    "        \n",
    "print(min(max_cnt, cnt))"
   ]
  },
  {
   "cell_type": "markdown",
   "id": "7b7c2491",
   "metadata": {},
   "source": [
    "#### 1487. 물건 팔기"
   ]
  },
  {
   "cell_type": "code",
   "execution_count": 4,
   "id": "4ac2367f",
   "metadata": {},
   "outputs": [
    {
     "name": "stdout",
     "output_type": "stream",
     "text": [
      "3\n",
      "13 5\n",
      "22 15\n",
      "35 30\n",
      "35\n"
     ]
    }
   ],
   "source": [
    "n = int(input())\n",
    "\n",
    "data = {}\n",
    "for _ in range(n):\n",
    "    price, package = map(int, input().split())\n",
    "    if price in data:\n",
    "        data[price].append(package)\n",
    "    else:\n",
    "        data[price] = [package]\n",
    "\n",
    "data = sorted(data.items(), key=lambda x: x[0], reverse=True)\n",
    "\n",
    "count = 0\n",
    "results = []\n",
    "for price, pack_list in data:\n",
    "    count += len(pack_list)\n",
    "    profit = price * count - pack_sum\n",
    "    results.append([price, profit])\n",
    "\n",
    "result = sorted(results, key=lambda x: (-x[1], x[0]))[0]\n",
    "print(result[0])"
   ]
  },
  {
   "cell_type": "markdown",
   "id": "aaa4eb9b",
   "metadata": {},
   "source": [
    "#### 11747. 수열"
   ]
  },
  {
   "cell_type": "code",
   "execution_count": 2,
   "id": "d910ff3c",
   "metadata": {},
   "outputs": [
    {
     "name": "stdout",
     "output_type": "stream",
     "text": [
      "3\n",
      "3 0 1\n",
      "10\n"
     ]
    }
   ],
   "source": [
    "def compare(number_of_length, length):\n",
    "    result = -1\n",
    "    data_of_length = set()\n",
    "    for i in range(n - length + 1):\n",
    "        data_of_length.add(int(''.join(data[i: i + length])))\n",
    "    for number in number_of_length:\n",
    "        if number not in data_of_length:\n",
    "            result = number\n",
    "            break\n",
    "    \n",
    "    return result\n",
    "\n",
    "n = int(input())\n",
    "data = list(input().split())\n",
    "\n",
    "length = 1\n",
    "while length < n + 1:\n",
    "    number_of_length = list(range(10**length, 10**(length + 1))) \n",
    "     \n",
    "    result = compare(number_of_length, length)\n",
    "    if result != -1:\n",
    "        print(result)\n",
    "        break\n",
    "    else:\n",
    "        length += 1"
   ]
  },
  {
   "cell_type": "markdown",
   "id": "0920ef30",
   "metadata": {},
   "source": [
    "#### 1107. 리모컨"
   ]
  },
  {
   "cell_type": "code",
   "execution_count": 76,
   "id": "3cdf263c",
   "metadata": {
    "scrolled": true
   },
   "outputs": [
    {
     "name": "stdout",
     "output_type": "stream",
     "text": [
      "9\n",
      "8\n",
      "0 3 4 5 6 7 8 9\n",
      "4\n"
     ]
    }
   ],
   "source": [
    "from itertools import product\n",
    "\n",
    "n = int(input())\n",
    "m = int(input())\n",
    "max_move = abs(n - 100)\n",
    "\n",
    "button = set(map(str, range(0, 10)))\n",
    "if m != 0:\n",
    "    button = button - set(list(input().split()))\n",
    "\n",
    "length = len(str(n))\n",
    "moves = []\n",
    "temp = []\n",
    "for i in range(1, length + 2):\n",
    "    for move in product(button, repeat=i):\n",
    "        temp.append(int(''.join(move)))\n",
    "        m = abs(int(''.join(move)) - n)\n",
    "        moves.append(m + i)\n",
    "if len(moves) > 0:\n",
    "    print(min(max_move, min(moves)))\n",
    "else:\n",
    "    print(max_move)"
   ]
  },
  {
   "cell_type": "markdown",
   "id": "d41d43c7",
   "metadata": {},
   "source": [
    "#### 15686. 치킨 배달"
   ]
  },
  {
   "cell_type": "code",
   "execution_count": null,
   "id": "ba50b1f6",
   "metadata": {},
   "outputs": [],
   "source": [
    "from itertools import combinations\n",
    "\n",
    "def search_loc(arr):\n",
    "\thouses = []\n",
    "\tchickens = []\n",
    "\n",
    "\tfor i, row in enumerate(arr):\n",
    "\t\tfor j, val in enumerate(row):\n",
    "\t\t\tif val == 1:\n",
    "\t\t\t\thouses.append((i, j))\n",
    "\t\t\telif val == 2:\n",
    "\t\t\t\tchickens.append((i, j))\n",
    "\n",
    "\treturn houses, chickens\n",
    "\n",
    "\n",
    "def calc_dist(p1, p2):\n",
    "\tr1, c1 = p1\n",
    "\tr2, c2 = p2\n",
    "\n",
    "\treturn abs(r1 - r2) + abs(c1 - c2)\n",
    "\n",
    "def get_distance_by_house(houses, chickens):\n",
    "    houses, chickens = search_loc(arr)\n",
    "    distances = []\n",
    "    for houses in houses:\n",
    "        distance = {}\n",
    "        for i, chicken in enumerate(chickens):\n",
    "            distance[i] = calc_dist(house, chicken\n",
    "        distances.append(distance)\n",
    "\n",
    "def get_min_distance(distances, c, m):\n",
    "    candidates = combinations(range(c), m)\n",
    "    city_distances = []\n",
    "    for house in distances:\n",
    "        city_distance = 0\n",
    "        for candidate in candidates:\n",
    "            house_min_dist = min(house[i] for i in candidate)\n",
    "            city_distance += house_min_dist\n",
    "        city_distances.append(city_distance)\n",
    "\n",
    "    return min(city_distances)            \n",
    "                        \n",
    "n, m = map(int, input().split())\n",
    "arr = []\n",
    "for _ in range(n):\n",
    "\tarr.append(list(map(int, input().split())))\n",
    "\n",
    "houses, chickens = search_loc(arr)\n",
    "distances = get_distance_by_house(houses, chickens)\n",
    "result = get_min_distance(distances, len(chickens), m)\n",
    "print(result)"
   ]
  },
  {
   "cell_type": "markdown",
   "id": "1d0e746f",
   "metadata": {},
   "source": [
    "#### 14502. 연구소"
   ]
  },
  {
   "cell_type": "code",
   "execution_count": null,
   "id": "6a147e7e",
   "metadata": {},
   "outputs": [],
   "source": [
    "from copy import deepcopy\n",
    "from itertools import combinations\n",
    "from collections import deque\n",
    "\n",
    "def make_candidates(empty):\n",
    "    candidates = combinations(empty, 3)\n",
    "    \n",
    "    return candidates\n",
    "\n",
    "def update_graph(graph, coordinate):\n",
    "    graph = deepcopy(graph)\n",
    "    for r, c in coordinate:\n",
    "        graph[r][c] = 1\n",
    "    \n",
    "    return graph\n",
    "\n",
    "def bfs(graph, start, visited):\n",
    "    virus_cnt = 0\n",
    "    queue = deque([])\n",
    "    for r, c in start:\n",
    "        queue.append([r, c])\n",
    "        visited[r][c] = True\n",
    "        virus_cnt += 1\n",
    "    \n",
    "    while queue:\n",
    "        r, c = queue.popleft()\n",
    "        for move in moves:\n",
    "            nr = r + move[0]\n",
    "            nc = c + move[1]\n",
    "            \n",
    "            if (0 <= nr < n) and (0 <= nc < m):\n",
    "                if not visited[nr][nc] and graph[nr][nc] == 0:\n",
    "                    visited[nr][nc] = True\n",
    "                    queue.append([nr, nc])\n",
    "                    virus_cnt += 1\n",
    "    \n",
    "    result = n * m - wall_cnt - virus_cnt\n",
    "    return result\n",
    "        \n",
    "n, m = map(int, input().split())\n",
    "graph = [list(map(int, input().split())) for _ in range(n)]\n",
    "\n",
    "empty = []\n",
    "start = []\n",
    "for i, row in enumerate(graph):\n",
    "    for j, val in enumerate(row):\n",
    "        if val == 0:\n",
    "            empty.append([i, j])\n",
    "        elif val == 2:\n",
    "            start.append([i, j])\n",
    "            \n",
    "wall_cnt = n * m - len(empty) - len(start) + 3\n",
    "            \n",
    "moves = [(0, 1), (1, 0), (0, -1), (-1, 0)]\n",
    "candidates = make_candidates(empty)\n",
    "results = []\n",
    "for candidate in candidates:\n",
    "    temp = update_graph(graph, coordinate)\n",
    "    visited = [[False] * m for _ in range(n)]\n",
    "    result = bfs(temp, start, visited)\n",
    "    results.append(result)\n",
    "\n",
    "print(max(results))"
   ]
  },
  {
   "cell_type": "markdown",
   "id": "35cfad72",
   "metadata": {},
   "source": [
    "#### 22970. 문제 재탕"
   ]
  },
  {
   "cell_type": "code",
   "execution_count": null,
   "id": "ba757dd3",
   "metadata": {},
   "outputs": [],
   "source": [
    "n = int(input())\n",
    "data = list(map(int, input().split()))\n",
    "\n",
    "if n in [1, 2]:\n",
    "    print(n)\n",
    "else:\n",
    "    max_upward, temp_upward = (1, 1)\n",
    "    max_downward, temp_downward = (1, 1)\n",
    "    max_mountain, temp_mountain = (1, 1)\n",
    "    latest_upward = 1\n",
    "    for i in range(1, n):\n",
    "        if data[i] > data[i-1]:\n",
    "            if data[i-1] < data[i-2]:\n",
    "                temp_mountain = latest_upward + temp_downward\n",
    "                if temp_mountain > max_mountain:\n",
    "                    max_mountain = temp_mountain\n",
    "                \n",
    "                \n",
    "            temp_upward += 1\n",
    "            if temp_downward > max_downward:\n",
    "                max_downward = temp_downward\n",
    "            temp_downward = 1\n",
    "        elif data[i] < data[i-1]:\n",
    "            temp_downward += 1\n",
    "            if temp_upward > max_downward:\n",
    "                max_downward = temp_upward\n",
    "            temp_upward = 1\n",
    "        else:\n",
    "            temp_upward = 1\n",
    "            temp_downward = 1\n",
    "            temp_mountain = 1\n"
   ]
  },
  {
   "cell_type": "code",
   "execution_count": 3,
   "id": "3cfb9444",
   "metadata": {
    "scrolled": false
   },
   "outputs": [
    {
     "name": "stdout",
     "output_type": "stream",
     "text": [
      "4\n",
      "0 1 2 3\n",
      "4 0 5 6\n",
      "7 1 0 2\n",
      "3 4 5 0\n",
      "1\n"
     ]
    }
   ],
   "source": [
    "from itertools import combinations\n",
    "from itertolls import permutations\n",
    "\n",
    "def calc_score(team, score):\n",
    "    scores = 0\n",
    "    for m1, m2 in permutations(team, 2):\n",
    "        scores += score[(m1, m2)]\n",
    "        \n",
    "    return scores\n",
    "\n",
    "n = int(input())\n",
    "score = {}\n",
    "for i in range(n):\n",
    "    row = map(int, input().split())\n",
    "    for j, val in enumerate(row):\n",
    "        score[(i, j)] = val\n",
    "\n",
    "people = set([i for i in range(n)])\n",
    "diff_min = 10000\n",
    "for team_1 in combinations(people, n // 2):\n",
    "    team_2 = people - set(team_1)\n",
    "    score_1 = calc_score(team_1, score)\n",
    "    score_2 = calc_score(team_2, score)\n",
    "    diff = abs(score_1 - score_2)\n",
    "    if diff < diff_min:\n",
    "        diff_min = diff\n",
    "\n",
    "print(diff)"
   ]
  },
  {
   "cell_type": "markdown",
   "id": "9b22e62e",
   "metadata": {},
   "source": [
    "#### 1812. 사탕"
   ]
  },
  {
   "cell_type": "code",
   "execution_count": 2,
   "id": "701c93b8",
   "metadata": {},
   "outputs": [
    {
     "name": "stdout",
     "output_type": "stream",
     "text": [
      "3\n",
      "5\n",
      "7\n",
      "6\n",
      "2\n",
      "3\n",
      "4\n"
     ]
    }
   ],
   "source": [
    "n = int(input())\n",
    "data = [int(input()) for _ in range(n)]\n",
    "\n",
    "total = sum(data) // 2\n",
    "\n",
    "results = []\n",
    "for i in range(n):\n",
    "    temp = 0\n",
    "    for j in range(i - 2, -1, -2):\n",
    "        temp += data[j]\n",
    "    \n",
    "    for k in range(i + 1, n, 2):\n",
    "        temp += data[k]\n",
    "    \n",
    "    results.append(total - temp)\n",
    "\n",
    "print(*results, sep='\\n')"
   ]
  },
  {
   "cell_type": "markdown",
   "id": "ff4b81ae",
   "metadata": {},
   "source": [
    "#### 1590. 캠프가는 영식"
   ]
  },
  {
   "cell_type": "code",
   "execution_count": 8,
   "id": "b778bfa7",
   "metadata": {},
   "outputs": [
    {
     "name": "stdout",
     "output_type": "stream",
     "text": [
      "5 395439\n",
      "407917 8774 24\n",
      "331425 4386 58\n",
      "502205 9420 32\n",
      "591461 1548 79\n",
      "504695 8047 53\n",
      "1776\n"
     ]
    }
   ],
   "source": [
    "n, t = map(int, input().split())\n",
    "\n",
    "interval = []\n",
    "for _ in range(n):\n",
    "    s, add, c = map(int, input().split())\n",
    "    \n",
    "    for i in range(c):\n",
    "        time = s + (add * i)\n",
    "        if time >= t:\n",
    "            interval.append(time)\n",
    "            break\n",
    "\n",
    "if len(interval) > 0:\n",
    "    min_interval = min(interval)\n",
    "    print(min_interval - t)\n",
    "else:\n",
    "    print(-1)"
   ]
  },
  {
   "cell_type": "code",
   "execution_count": null,
   "id": "a143dce0",
   "metadata": {},
   "outputs": [],
   "source": [
    "5 395439\n",
    "407917 8774 24\n",
    "331425 4386 58\n",
    "502205 9420 32\n",
    "591461 1548 79\n",
    "504695 8047 53"
   ]
  }
 ],
 "metadata": {
  "kernelspec": {
   "display_name": "Python 3 (ipykernel)",
   "language": "python",
   "name": "python3"
  },
  "language_info": {
   "codemirror_mode": {
    "name": "ipython",
    "version": 3
   },
   "file_extension": ".py",
   "mimetype": "text/x-python",
   "name": "python",
   "nbconvert_exporter": "python",
   "pygments_lexer": "ipython3",
   "version": "3.8.16"
  }
 },
 "nbformat": 4,
 "nbformat_minor": 5
}
