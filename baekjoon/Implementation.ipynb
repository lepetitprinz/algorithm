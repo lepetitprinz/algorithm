{
 "cells": [
  {
   "cell_type": "markdown",
   "id": "6879d494",
   "metadata": {},
   "source": [
    "### Implemetation"
   ]
  },
  {
   "cell_type": "markdown",
   "id": "223cc13f",
   "metadata": {},
   "source": [
    "#### 3231. 카드놀이"
   ]
  },
  {
   "cell_type": "code",
   "execution_count": null,
   "id": "22be8cdf",
   "metadata": {
    "scrolled": true
   },
   "outputs": [],
   "source": [
    "n = int(input())\n",
    "nums = [int(input()) for _ in range(n)]\n",
    "\n",
    "cnt = 0\n",
    "i = 1\n",
    "idx = nums.index(i)\n",
    "while i < n:\n",
    "    i += 1\n",
    "    temp = nums.index(i)\n",
    "    if temp < idx:\n",
    "        cnt += 1\n",
    "    idx = temp\n",
    "\n",
    "print(cnt)"
   ]
  },
  {
   "cell_type": "markdown",
   "id": "5e4428f3",
   "metadata": {},
   "source": [
    "#### 1205. 등수 구하기"
   ]
  },
  {
   "cell_type": "code",
   "execution_count": null,
   "id": "6c8590ea",
   "metadata": {},
   "outputs": [],
   "source": [
    "n, new, p = map(int, input().split())\n",
    "if n == 0:\n",
    "    print(1)\n",
    "else:\n",
    "    rank = list(map(int, input().split()))\n",
    "    if n == p:\n",
    "        if score <= rank[-1]:\n",
    "            print(-1)\n",
    "        else:\n",
    "            for i in range(n):\n",
    "                if score > rank[i]:\n",
    "                    rnk = i + 1\n",
    "                    break\n",
    "                elif score == rank[i]:\n",
    "                    rnk = i + 1\n",
    "                    break\n",
    "            print(rnk)\n",
    "    else:\n",
    "        rnk = n + 1\n",
    "        for i in range(n):\n",
    "            if score > rank[i]:\n",
    "                rnk = i + 1\n",
    "                break\n",
    "            elif score == rank[i]:\n",
    "                rnk = i + 1\n",
    "                break\n",
    "        print(rnk)"
   ]
  },
  {
   "cell_type": "markdown",
   "id": "d30a827a",
   "metadata": {},
   "source": [
    "#### 20546. 기적의 매매법"
   ]
  },
  {
   "cell_type": "code",
   "execution_count": null,
   "id": "f057adc3",
   "metadata": {
    "scrolled": true
   },
   "outputs": [],
   "source": [
    "def stock(money, price, method):\n",
    "    history = []\n",
    "    if method == 'bnp':\n",
    "        for p in price:\n",
    "            if money >= p:\n",
    "                number = money // p\n",
    "                history.append([p, number])\n",
    "                money -= p * number\n",
    "\n",
    "        result = [[p, number] for h, number in history]\n",
    "\n",
    "    else:\n",
    "        inc = 1\n",
    "        dec = 1\n",
    "        prev = price[0]\n",
    "        for p in price[1:]:\n",
    "            if inc == 3:\n",
    "                if len(history) > 0:\n",
    "                    money += sum(p * n for h, n in history)\n",
    "                    history = []\n",
    "            elif dec == 3:\n",
    "                if money >= p:\n",
    "                    number = money // p\n",
    "                    history.append([p, number])\n",
    "                    money -= p * number\n",
    "                    \n",
    "            dec, inc = update_seq(p, prev, dec, inc)\n",
    "            prev = p\n",
    "\n",
    "        result = [[p, number] for h, number in history]\n",
    "\n",
    "    return result, money\n",
    "\n",
    "\n",
    "def update_seq(p, prev, dec, inc):\n",
    "    if p > prev:\n",
    "        inc += 1\n",
    "        dec = 1\n",
    "    elif p < prev:\n",
    "        dec += 1\n",
    "        inc = 1\n",
    "    else:\n",
    "        inc = 1\n",
    "        dec = 1\n",
    "\n",
    "    return min(dec, 3), min(inc, 3)\n",
    "\n",
    "\n",
    "money = int(input())\n",
    "price = list(map(int, input().split()))\n",
    "\n",
    "h1, m1 = stock(money, price, 'bnp')\n",
    "h2, m2 = stock(money, price, 'timing')\n",
    "\n",
    "bnp = sum(p1 * n1 for p1, n1 in h1) + m1\n",
    "timing = sum(p2 * n2 for p2, n2 in h2) + m2\n",
    "\n",
    "if bnp > timing:\n",
    "    print('BNP')\n",
    "elif bnp < timing:\n",
    "    print('TIMING')\n",
    "else:\n",
    "    print('SAMESAME')"
   ]
  },
  {
   "cell_type": "code",
   "execution_count": null,
   "id": "260f6367",
   "metadata": {},
   "outputs": [],
   "source": [
    "15\n",
    "20 20 33 98 15 6 4 1 1 1 2 3 6 14"
   ]
  },
  {
   "cell_type": "code",
   "execution_count": null,
   "id": "5475ceb2",
   "metadata": {},
   "outputs": [],
   "source": [
    "bnp, timing(0)"
   ]
  },
  {
   "cell_type": "markdown",
   "id": "9fbefe13",
   "metadata": {},
   "source": [
    "#### 11723. 집합"
   ]
  },
  {
   "cell_type": "code",
   "execution_count": null,
   "id": "16386d5a",
   "metadata": {},
   "outputs": [],
   "source": [
    "m = int(input())\n",
    "\n",
    "data = set()\n",
    "all_set = set(map(str, range(1, 21)))\n",
    "for _ in range(m):\n",
    "    command = input().split()\n",
    "    if command[0] == 'add':\n",
    "        data.add(command[1])\n",
    "    elif command[0] == 'remove':\n",
    "        val = command[1]\n",
    "        if val in data:\n",
    "            data.remove(val)\n",
    "    elif command[0] == 'check':\n",
    "        if command[1] in data:\n",
    "            print(1)\n",
    "        else:\n",
    "            print(0)\n",
    "    elif command[0] == 'toggle':\n",
    "        val = command[1]\n",
    "        if val in data:\n",
    "            data.remove(val)\n",
    "        else:\n",
    "            data.add(val)\n",
    "    elif command[0] == 'all':\n",
    "        data = all_set\n",
    "    else:\n",
    "        data = set()"
   ]
  },
  {
   "cell_type": "markdown",
   "id": "2f74f1ab",
   "metadata": {},
   "source": [
    "#### 11637. 인기 투표"
   ]
  },
  {
   "cell_type": "code",
   "execution_count": null,
   "id": "9b876433",
   "metadata": {},
   "outputs": [],
   "source": [
    "test = int(input())\n",
    "for _ in range(test):\n",
    "    n = int(input())\n",
    "    data = {}\n",
    "    tot = 0\n",
    "    for i in range(n):\n",
    "        vote = int(input())\n",
    "        tot += vote\n",
    "        if vote in data:\n",
    "            data[vote].append(i+1)\n",
    "        else:\n",
    "            data[vote] = [i+1]\n",
    "    max_vote = max(data.keys())\n",
    "    winners = data[max_vote]\n",
    "    if len(winners) > 1:\n",
    "        print('no winner')\n",
    "    else:\n",
    "        winner = winners[0]\n",
    "        if max_vote > (tot/2):\n",
    "            print(f'majority winner {winner}')\n",
    "        else:\n",
    "            print(f'minority winner {winner}')"
   ]
  },
  {
   "cell_type": "markdown",
   "id": "b412eff4",
   "metadata": {},
   "source": [
    "#### 2578. 빙고"
   ]
  },
  {
   "cell_type": "code",
   "execution_count": null,
   "id": "94be982b",
   "metadata": {},
   "outputs": [],
   "source": [
    "def check(arr):\n",
    "    cnt = 0\n",
    "    cnt += vertical(arr)\n",
    "    cnt += horizon(arr)\n",
    "    cnt += diagonal(arr)\n",
    "    \n",
    "    flag = False\n",
    "    if cnt >= 3:\n",
    "        flag = True\n",
    "    \n",
    "    return flag\n",
    "\n",
    "def vertical(arr):\n",
    "    cnt = 0\n",
    "    for i in range(5):\n",
    "        flag = True\n",
    "        for j in range(5):\n",
    "            if not arr[i][j]:\n",
    "                flag = False\n",
    "                break\n",
    "        if flag:\n",
    "            cnt += 1\n",
    "    \n",
    "    return cnt\n",
    "\n",
    "def horizon(arr):\n",
    "    cnt = 0\n",
    "    for i in range(5):\n",
    "        flag = True\n",
    "        for j in range(5):\n",
    "            if not arr[j][i]:\n",
    "                flag = False\n",
    "                break\n",
    "        if flag:\n",
    "            cnt += 1\n",
    "\n",
    "    return cnt\n",
    "    \n",
    "def diagonal(arr):\n",
    "    cnt = 0\n",
    "    flag = True\n",
    "    for i in range(5):\n",
    "        if not arr[i][i]:\n",
    "            flag = False\n",
    "            break\n",
    "    if flag:\n",
    "        cnt += 1\n",
    "    \n",
    "    flag = True\n",
    "    for j in range(5):\n",
    "        if not arr[j][4 - j]:\n",
    "            flag = False\n",
    "            break\n",
    "    if flag:\n",
    "        cnt += 1\n",
    "    \n",
    "    return cnt\n",
    "\n",
    "arr = [[0]* 5 for _ in range(5)]\n",
    "loc = {}\n",
    "for i in range(5):\n",
    "    row = list(map(int, input().split()))\n",
    "    for j, num in enumerate(row):\n",
    "        loc[num] = (i, j)\n",
    "\n",
    "call = []\n",
    "for _ in range(5):\n",
    "    call.extend(list(map(int, input().split())))\n",
    "\n",
    "for i, num in enumerate(call):\n",
    "    r, c = loc[num]\n",
    "    arr[r][c] = 1\n",
    "    if check(arr):\n",
    "        print(i+1)\n",
    "        break"
   ]
  },
  {
   "cell_type": "markdown",
   "id": "69d4f5e1",
   "metadata": {},
   "source": [
    "#### 14500. 테트로미노"
   ]
  },
  {
   "cell_type": "code",
   "execution_count": null,
   "id": "bf17346c",
   "metadata": {},
   "outputs": [],
   "source": [
    "def dfs(r, c, cnt, total):\n",
    "    if result >= total + max_val * (3 - cnt):\n",
    "        return\n",
    "    \n",
    "    if cnt == 3:\n",
    "        result = max(result, total)\n",
    "        return\n",
    "    else:\n",
    "        for i in range(4):\n",
    "            nc = c + dc[i]\n",
    "            nr = r + dr[i]\n",
    "            if 0 <= nr < n and 0 <= nc < m:\n",
    "                if not visited[nr][nc]:\n",
    "                    if idx == 1:\n",
    "                        visited[nr][nc] = 1\n",
    "                        dfs(r, c, cnt + 1, total + graph[nr][nc])\n",
    "                        visited[nr][nc] = 0\n",
    "                    visited[nr][nc] = 1\n",
    "                    dfs(nr, nc, cnt + 1, total + graph[nr][nc])\n",
    "                    visited[nr][nc] = 0\n",
    "\n",
    "\n",
    "n, m = map(int, input().split())\n",
    "graph = [list(map(int, input().split())) for _ in range(n)]\n",
    "visited = [[False] * m for _ in range(n)]\n",
    "dr = [-1, 0, 1, 0]\n",
    "dc = [0, 1, 0, -1]\n",
    "\n",
    "result = 0\n",
    "max_val = max(map(max, graph))\n",
    "for c in range(n):\n",
    "    for r in range(m):\n",
    "        visited[c][r] = 1\n",
    "        dfs(c, r, 0, graph[c][r])\n",
    "        visited[c][r] = 0\n",
    "\n",
    "print(result)"
   ]
  },
  {
   "cell_type": "markdown",
   "id": "d10595fe",
   "metadata": {},
   "source": [
    "#### 16960. 스위치와 램프"
   ]
  },
  {
   "cell_type": "code",
   "execution_count": null,
   "id": "e9beda90",
   "metadata": {},
   "outputs": [],
   "source": [
    "n, m = map(int, input().split())\n",
    "\n",
    "switch_cnt = {}\n",
    "switches = []\n",
    "for _ in range(n):\n",
    "    data = list(map(int, input().split()))\n",
    "    if data[0] != 0:\n",
    "        vals = data[1:]\n",
    "        switches.append(vals)\n",
    "        for val in vals:\n",
    "            if val in switch_cnt:\n",
    "                switch_cnt[val] += 1\n",
    "            else:\n",
    "                switch_cnt[val] = 1\n",
    "\n",
    "ramp_all = set(list(range(1, m + 1)))\n",
    "flag = 1\n",
    "for switch in switches:\n",
    "    for val in switch:\n",
    "        if switch_cnt[val] == 1:\n",
    "            flag = 0\n",
    "            break\n",
    "\n",
    "print(flag)"
   ]
  },
  {
   "cell_type": "markdown",
   "id": "024e42ed",
   "metadata": {},
   "source": [
    "#### 2980. 도로와 신호등"
   ]
  },
  {
   "cell_type": "code",
   "execution_count": null,
   "id": "372dd06a",
   "metadata": {},
   "outputs": [],
   "source": [
    "n, l = map(int, input().split())\n",
    "sign = {}\n",
    "for _ in range(n):\n",
    "    d, r, g = map(int, input().split())\n",
    "    sign[d] = (r, g)\n",
    "\n",
    "time = 0\n",
    "loc = 0\n",
    "while loc <= l:\n",
    "    loc += 1\n",
    "    time += 1\n",
    "    if loc in sign:\n",
    "        r, g = sign[loc]\n",
    "        curr = time % (r + g)\n",
    "        if 0 <= curr < r:\n",
    "            time += r - curr\n",
    "\n",
    "print(t)\n"
   ]
  },
  {
   "cell_type": "markdown",
   "id": "817946c3",
   "metadata": {},
   "source": [
    "#### 1913. 달팽이"
   ]
  },
  {
   "cell_type": "code",
   "execution_count": null,
   "id": "6192a874",
   "metadata": {},
   "outputs": [],
   "source": [
    "def solution(n, num):\n",
    "    moves = [(1, 0), (0, 1), (-1, 0), (0, -1)]\n",
    "    arr = [[0] * n for _ in range(n)]\n",
    "\n",
    "    r, c = (0, 0)\n",
    "    cnt = n ** 2 - 1\n",
    "    direction = 0\n",
    "    point = (0, 0)\n",
    "\n",
    "    arr[r][c] = cnt\n",
    "    while cnt > 0:\n",
    "        move = moves[direction]\n",
    "        nr = r + move[0]\n",
    "        nc = c + move[1]\n",
    "\n",
    "        if 0 <= nr < n and 0 <= nc < n:\n",
    "            if arr[nr][nc] == 0:\n",
    "                arr[nr][nc] = cnt\n",
    "                r, c = (nr, nc)\n",
    "                cnt -= 1\n",
    "                if cnt == num:\n",
    "                    point = (r + 1, c + 1)\n",
    "            else:\n",
    "                direction = (direction + 1) % 4\n",
    "\n",
    "    return arr, point\n",
    "\n",
    "n = int(input())\n",
    "num = int(input())\n",
    "\n",
    "arr, point = solution(n, num)\n",
    "for row in arr:\n",
    "    print(*row)\n",
    "print(*point)"
   ]
  },
  {
   "cell_type": "markdown",
   "id": "04036ba8",
   "metadata": {},
   "source": [
    "#### 5600. 품질검사"
   ]
  },
  {
   "cell_type": "code",
   "execution_count": 3,
   "id": "bda86266",
   "metadata": {
    "collapsed": true
   },
   "outputs": [
    {
     "name": "stdout",
     "output_type": "stream",
     "text": [
      "2 2 2\n",
      "4\n",
      "2 4 5 0\n",
      "2 3 6 0\n",
      "1 4 5 0\n",
      "2 3 5 1\n",
      "2\n",
      "1\n",
      "1\n",
      "0\n",
      "1\n",
      "0\n"
     ]
    }
   ],
   "source": [
    "a, b, c = map(int, input().split())\n",
    "n = int(input())\n",
    "checks = [list(map(int, input().split())) for _ in range(n)]\n",
    "\n",
    "success = set([])\n",
    "for check in checks:\n",
    "    if check[3] == 1:\n",
    "        success.update(check[:3])\n",
    "        \n",
    "fail = set([])\n",
    "for check in checks:\n",
    "    temp = set(check[:3]) - success\n",
    "    if len(temp) == 1:\n",
    "        fail.update(temp)\n",
    "\n",
    "for i in range(1, a + b + c + 1):\n",
    "    if i in success:\n",
    "        print(1)\n",
    "    elif i in fail:\n",
    "        print(0)\n",
    "    else:\n",
    "        print(2)"
   ]
  },
  {
   "cell_type": "markdown",
   "id": "d4a50169",
   "metadata": {},
   "source": [
    "#### 2621. 카드게임"
   ]
  },
  {
   "cell_type": "code",
   "execution_count": 10,
   "id": "204f1801",
   "metadata": {
    "scrolled": true
   },
   "outputs": [
    {
     "name": "stdout",
     "output_type": "stream",
     "text": [
      "B 3\n",
      "B 7\n",
      "R 1\n",
      "B 2\n",
      "Y 7\n",
      "207\n"
     ]
    }
   ],
   "source": [
    "from collections import Counter\n",
    "\n",
    "colors = [] \n",
    "nums = []\n",
    "for _ in range(5):\n",
    "    c, n = input().split()\n",
    "    colors.append(c)\n",
    "    nums.append(int(n))\n",
    "\n",
    "col_cnt = Counter(colors)\n",
    "nums_cnt = Counter(nums)\n",
    "\n",
    "result = 0\n",
    "if len(col_cnt) == 1 and (max(nums) - min(nums) == 4):\n",
    "    result = max(nums) + 900\n",
    "elif 4 in nums_cnt.values():\n",
    "    for num, cnt in nums_cnt.items():\n",
    "        if cnt == 4:\n",
    "            result = num + 800\n",
    "elif 3 in nums_cnt.values() and 2 in nums_cnt.values():\n",
    "    for num, cnt in nums_cnt.items():\n",
    "        if cnt == 3:\n",
    "            result += num * 10 \n",
    "        elif cnt == 2:\n",
    "            result += num\n",
    "    result += 700\n",
    "elif 5 in col_cnt.values():\n",
    "    result += max(nums) + 600\n",
    "elif max(nums) - min(nums) == 4:\n",
    "    result = max(nums) + 500\n",
    "elif 3 in nums_cnt.values():\n",
    "    for num, cnt in nums_cnt.items():\n",
    "        if cnt == 3:\n",
    "            result = num + 400\n",
    "elif len(nums_cnt) == 3 and 2 in nums_cnt.values():\n",
    "    temp = []\n",
    "    for num, cnt in nums_cnt.items():\n",
    "        if cnt == 2:\n",
    "            temp.append(num)\n",
    "    result = max(temp) * 10 + min(temp) + 300\n",
    "elif 2 in nums_cnt.values():\n",
    "    for num, cnt in nums_cnt.items():\n",
    "        if cnt == 2:\n",
    "            result = num + 200\n",
    "else:\n",
    "    result = max(nums) + 100\n",
    "\n",
    "print(result)"
   ]
  },
  {
   "cell_type": "markdown",
   "id": "8391a256",
   "metadata": {},
   "source": [
    "#### 3054. 피터팬 프레임"
   ]
  },
  {
   "cell_type": "code",
   "execution_count": 25,
   "id": "4403aa81",
   "metadata": {
    "collapsed": true
   },
   "outputs": [
    {
     "name": "stdout",
     "output_type": "stream",
     "text": [
      "ABCDE\n",
      "..#...#...*...#...#..\n",
      ".#.#.#.#.*.*.#.#.#.#.\n",
      "#.A.#.B.*.C.*.D.#.E.*\n",
      ".#.#.#.#.*.*.#.#.#.#.\n",
      "..#...#...*...#...#..\n"
     ]
    }
   ],
   "source": [
    "word = input()\n",
    "length = len(word)\n",
    "frame_length = 5 + (length - 1) * 4\n",
    "\n",
    "frame = [['.'] * frame_length for _ in range(5)]\n",
    "start_index = [2, 1, 0, 1, 2]\n",
    "add_index = [4, 2, 2, 2, 4]\n",
    "\n",
    "\n",
    "# add simbol on frame\n",
    "for i, line in enumerate(frame):\n",
    "    idx = start_index[i]\n",
    "    add_idx = add_index[i]\n",
    "    \n",
    "    while idx < frame_length:\n",
    "        simbol = '#'\n",
    "        if i in [0, 1, 3, 4]:\n",
    "            if (idx // 4 + 1) % 3 == 0:\n",
    "                simbol = '*'\n",
    "        if i == 2 and idx != 0:\n",
    "            if (idx // 4 + 1) % 3 == 0 or (idx % 4 == 0 and (idx // 4) % 3 == 0):\n",
    "                simbol = '*'\n",
    "        \n",
    "            if length % 3 != 0:\n",
    "                \n",
    "        \n",
    "        line[idx] = simbol\n",
    "        idx += add_idx\n",
    "\n",
    "for i, char in enumerate(word):\n",
    "    loc = i * 4 + 2\n",
    "    frame[2][loc] = char\n",
    "        \n",
    "for line in frame:\n",
    "    print(''.join(line))"
   ]
  },
  {
   "cell_type": "code",
   "execution_count": 8,
   "id": "7852622c",
   "metadata": {
    "scrolled": true
   },
   "outputs": [
    {
     "name": "stdout",
     "output_type": "stream",
     "text": [
      "3 1\n",
      "21 21 80 80\n",
      "41 41 60 60\n",
      "71 71 90 90\n",
      "500\n"
     ]
    }
   ],
   "source": [
    "def append_mosaic(cnt, mosaic):\n",
    "    for from_x, from_y, to_x, to_y in mosaic:\n",
    "        for i in range(from_x, to_x + 1):\n",
    "            for j in range(from_y, to_y + 1):\n",
    "                cnt[(i, j)] += 1\n",
    "                \n",
    "    return cnt\n",
    "\n",
    "n, m = map(int, input().split())\n",
    "\n",
    "mosaic = []\n",
    "for _ in range(n):\n",
    "    from_x, from_y, to_x, to_y = map(int, input().split())\n",
    "    mosaic.append([from_x, from_y, to_x, to_y])\n",
    "\n",
    "cnt = {}\n",
    "for i in range(1, 101):\n",
    "    for j in range(1, 101):\n",
    "        cnt[(i, j)] = 0\n",
    "\n",
    "cnt = append_mosaic(cnt, mosaic)\n",
    "result = sum(1 for value in cnt.values() if value > m)\n",
    "print(result)\n"
   ]
  }
 ],
 "metadata": {
  "kernelspec": {
   "display_name": "Python 3 (ipykernel)",
   "language": "python",
   "name": "python3"
  },
  "language_info": {
   "codemirror_mode": {
    "name": "ipython",
    "version": 3
   },
   "file_extension": ".py",
   "mimetype": "text/x-python",
   "name": "python",
   "nbconvert_exporter": "python",
   "pygments_lexer": "ipython3",
   "version": "3.8.15"
  }
 },
 "nbformat": 4,
 "nbformat_minor": 5
}
