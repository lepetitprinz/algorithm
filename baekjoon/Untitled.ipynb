{
 "cells": [
  {
   "cell_type": "code",
   "execution_count": null,
   "id": "94b32598",
   "metadata": {},
   "outputs": [],
   "source": [
    "digit_1 = 2a\n",
    "digit_2 : 11a + 2b\n",
    "digit_3 : 101a + 11b + 2c \n",
    "digit_4 : 1001a + 101b + 11c + 2d"
   ]
  },
  {
   "cell_type": "code",
   "execution_count": 5,
   "id": "5f129570",
   "metadata": {},
   "outputs": [],
   "source": [
    "nums = []\n",
    "for i in range(1, 10):\n",
    "    nums.append(2 * i)\n",
    "    for j in range(0, 10):\n",
    "        nums.append(11*i + 2*j)\n",
    "        for k in range(0, 10):\n",
    "            nums.append(101*i + 11*j + 2*k)\n",
    "            for l in range(0, 10):\n",
    "                nums.append(1001*i + 101*j + 11*k + 2*l)\n",
    "\n",
    "result = sorted(list(set(range(1, 10001)) - set(nums)))\n",
    "\n",
    "for r in result:\n",
    "    print(r)"
   ]
  },
  {
   "cell_type": "code",
   "execution_count": null,
   "id": "35f389fc",
   "metadata": {},
   "outputs": [],
   "source": []
  }
 ],
 "metadata": {
  "kernelspec": {
   "display_name": "Python 3 (ipykernel)",
   "language": "python",
   "name": "python3"
  },
  "language_info": {
   "codemirror_mode": {
    "name": "ipython",
    "version": 3
   },
   "file_extension": ".py",
   "mimetype": "text/x-python",
   "name": "python",
   "nbconvert_exporter": "python",
   "pygments_lexer": "ipython3",
   "version": "3.8.10"
  }
 },
 "nbformat": 4,
 "nbformat_minor": 5
}
