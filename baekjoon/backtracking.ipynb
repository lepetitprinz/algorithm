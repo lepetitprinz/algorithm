{
 "cells": [
  {
   "cell_type": "markdown",
   "id": "e6b6ff7a",
   "metadata": {},
   "source": [
    "#### 14888. 연산자 끼워넣기"
   ]
  },
  {
   "cell_type": "code",
   "execution_count": null,
   "id": "6ffab6ba",
   "metadata": {},
   "outputs": [],
   "source": [
    "from itertools import permutations"
   ]
  },
  {
   "cell_type": "code",
   "execution_count": null,
   "id": "92995cc4",
   "metadata": {},
   "outputs": [],
   "source": [
    "oper_map = {0: '+', 1: '-', 2: '*', 3: '//'}\n",
    "n = int(input())\n",
    "nums = input().split()\n",
    "# operations = [oper_map[i] * times for i, times in enumerate(list(map(int, input().split()))) if times != 0]\n",
    "operations = []\n",
    "for i, times in enumerate(list(map(int, input().split()))):\n",
    "    operations.extend([oper_map[i]] * times)\n",
    "\n",
    "operation_case = set(permutations(operations, n-1))\n",
    "min_val = int(1e9)\n",
    "max_val = -1 * min_val\n",
    "for case in operation_case:\n",
    "    num = nums[0]\n",
    "    for i, op in enumerate(case):\n",
    "        if int(num) < 0 and op == '//':\n",
    "            num = str(-1 * eval(str(abs(int(num))) + op + nums[i+1]))\n",
    "            \n",
    "        else:\n",
    "            num = str(eval(num + op + nums[i+1]))\n",
    "            \n",
    "    num = int(num)    \n",
    "    if max_val < num:\n",
    "        max_val = num\n",
    "        \n",
    "    if min_val > num:\n",
    "        min_val = num\n",
    "        \n",
    "print(max_val)\n",
    "print(min_val)"
   ]
  },
  {
   "cell_type": "code",
   "execution_count": null,
   "id": "d0cadf16",
   "metadata": {},
   "outputs": [],
   "source": [
    "operation_case = set(permutations(operations, n-1))"
   ]
  },
  {
   "cell_type": "code",
   "execution_count": null,
   "id": "c922f66b",
   "metadata": {},
   "outputs": [],
   "source": [
    "max_val = -100 * n\n",
    "min_val = 0\n",
    "for case in operation_case:\n",
    "    num = nums[0]\n",
    "    for i, op in enumerate(case):\n",
    "        if int(num) < 0 and op == '//':\n",
    "            num = str(-1 * eval(str(abs(int(num))) + op + nums[i+1]))\n",
    "            \n",
    "        else:\n",
    "            num = str(eval(num + op + nums[i+1]))\n",
    "            \n",
    "    num = int(num)    \n",
    "    if max_val < num:\n",
    "        max_val = num\n",
    "        \n",
    "    if min_val > num:\n",
    "        min_val = num\n",
    "        \n",
    "print(max_val)\n",
    "print(min_val)"
   ]
  },
  {
   "cell_type": "markdown",
   "id": "ff55241c",
   "metadata": {},
   "source": [
    "#### 9742. 순열"
   ]
  },
  {
   "cell_type": "code",
   "execution_count": null,
   "id": "3471ada7",
   "metadata": {},
   "outputs": [],
   "source": [
    "from math import factorial\n",
    "\n",
    "while True:\n",
    "    try:\n",
    "        word, k = input().split()\n",
    "        k = int(k)\n",
    "        length = len(word)\n",
    "        if k > factorial(length):\n",
    "            print(f'{word} {k} = No permutation')\n",
    "        else:\n",
    "            w = word\n",
    "            n = k - 1\n",
    "            result = []\n",
    "            for i in range(1, length + 1):\n",
    "                loc = n // factorial(length - i)\n",
    "                n = n % factorial(length - i)\n",
    "                result.append(w[loc])\n",
    "                w = w[:loc] + w[loc + 1:]\n",
    "            print(f\"{word} {k} = {''.join(result)}\")\n",
    "    except:\n",
    "          break"
   ]
  },
  {
   "cell_type": "markdown",
   "id": "a39bf56d",
   "metadata": {},
   "source": [
    "#### 2992. 크면서 작은 수"
   ]
  },
  {
   "cell_type": "code",
   "execution_count": null,
   "id": "542389d6",
   "metadata": {},
   "outputs": [],
   "source": [
    "from itertools import permutations\n",
    "\n",
    "n = input()\n",
    "value = int(n)\n",
    "nums = set(permutations(list(n), len(n)))\n",
    "nums = sorted(list(nums))\n",
    "temp = 0\n",
    "for num in nums:\n",
    "    if int(''.join(num))  > value:\n",
    "        temp = int(''.join(num))\n",
    "        break\n",
    "print(temp)"
   ]
  },
  {
   "cell_type": "markdown",
   "id": "2f09f28f",
   "metadata": {},
   "source": [
    "#### 10974, 모든 순열"
   ]
  },
  {
   "cell_type": "code",
   "execution_count": null,
   "id": "75c093cb",
   "metadata": {},
   "outputs": [],
   "source": [
    "from itertools import permutations\n",
    "\n",
    "n = int(input())\n",
    "data = list(range(1, n + 1))\n",
    "result = list(permutations(data, len(data)))\n",
    "for r in result:\n",
    "    print(*r)"
   ]
  },
  {
   "cell_type": "markdown",
   "id": "6595ebbf",
   "metadata": {},
   "source": [
    "#### 15654. N과 M (5)"
   ]
  },
  {
   "cell_type": "code",
   "execution_count": null,
   "id": "9a932122",
   "metadata": {},
   "outputs": [],
   "source": [
    "from itertools import permutations\n",
    "\n",
    "n, m = map(int, input().split())\n",
    "data = sorted(list(map(int, input().split())))\n",
    "\n",
    "sequences = permutations(data, m)\n",
    "for sequence in sequences:\n",
    "    print(*sequence)"
   ]
  },
  {
   "cell_type": "markdown",
   "id": "bdc06927",
   "metadata": {},
   "source": [
    "#### 16943. 숫자 재배치"
   ]
  },
  {
   "cell_type": "code",
   "execution_count": null,
   "id": "7820d18c",
   "metadata": {},
   "outputs": [],
   "source": [
    "def backtracking(a, b):\n",
    "    a_list = list(map(int, a))\n",
    "    \n",
    "    flag = False\n",
    "    result = []\n",
    "    for i in range(len(b)):\n",
    "        if flag:\n",
    "            value = a_list.pop(a_list.index(max(a_list)))\n",
    "            result.append(value)\n",
    "        else:\n",
    "            b_val = int(b[i])\n",
    "            if b_val in a_list:\n",
    "                a_list.remove(b_val)\n",
    "                result.append(b_val)\n",
    "            else:\n",
    "                a_list = sorted(a_list, reverse=True)\n",
    "                for val in a_list:\n",
    "                    if val < b_val:\n",
    "                        result.append(val)\n",
    "                        a_list.remove(val)\n",
    "                        break\n",
    "                flag = True\n",
    "            \n",
    "    result = ''.join([str(num) for num in result])\n",
    "    \n",
    "    return result\n",
    "    \n",
    "a, b = input().split()\n",
    "\n",
    "if len(a) > len(b):\n",
    "    print(-1)\n",
    "elif len(a) < len(b):\n",
    "    a = sorted(list(a), reverse=True)\n",
    "    print(''.join(a))\n",
    "elif min(a) > max(b):\n",
    "    print(-1)\n",
    "else:\n",
    "    result = backtracking(a, b)\n",
    "    print(result)"
   ]
  },
  {
   "cell_type": "code",
   "execution_count": null,
   "id": "34ad72c1",
   "metadata": {},
   "outputs": [],
   "source": [
    "# Solution 2\n",
    "from itertools import permutations\n",
    "\n",
    "def backtracking(a, b):\n",
    "    b = int(b)\n",
    "    a = sorted(list(a), reverse=True)\n",
    "    result = 0\n",
    "    for candidate in permutations(a, len(a)):\n",
    "        value = int(''.join(candidate))\n",
    "        if value < b:\n",
    "            result = value\n",
    "            break\n",
    "    \n",
    "    if len(str(result)) < len(a):\n",
    "        result = -1\n",
    "    \n",
    "    return result\n",
    "    \n",
    "a, b = input().split()\n",
    "\n",
    "if len(a) > len(b):\n",
    "    print(-1)\n",
    "elif len(a) < len(b):\n",
    "    a = sorted(list(a), reverse=True)\n",
    "    print(''.join(a))\n",
    "elif min(a) > max(b):\n",
    "    print(-1)\n",
    "else:\n",
    "    result = backtracking(a, b)\n",
    "    print(result)"
   ]
  },
  {
   "cell_type": "markdown",
   "id": "43b855f6",
   "metadata": {},
   "source": [
    "#### 15657. N과 M (8)"
   ]
  },
  {
   "cell_type": "code",
   "execution_count": null,
   "id": "cddfc9cf",
   "metadata": {},
   "outputs": [],
   "source": [
    "def backtrack(data, result, m):\n",
    "    while m > 0:\n",
    "        for r in result:\n",
    "            for d in data:\n",
    "                if d >= r[-1]:\n",
    "                    r.append(d)\n",
    "        \n",
    "        result = backtrack(data, result, m - 1)\n",
    "\n",
    "    return result\n",
    "        \n",
    "n, m = map(int, input().split())\n",
    "data = sorted(list(map(int, input().split())))\n",
    "result = [[i] for i in data]\n",
    "result = backtrack(data, result, m - 1)\n",
    "for r in result:\n",
    "    print(*r)"
   ]
  },
  {
   "cell_type": "code",
   "execution_count": null,
   "id": "845853d4",
   "metadata": {},
   "outputs": [],
   "source": []
  }
 ],
 "metadata": {
  "kernelspec": {
   "display_name": "Python 3 (ipykernel)",
   "language": "python",
   "name": "python3"
  },
  "language_info": {
   "codemirror_mode": {
    "name": "ipython",
    "version": 3
   },
   "file_extension": ".py",
   "mimetype": "text/x-python",
   "name": "python",
   "nbconvert_exporter": "python",
   "pygments_lexer": "ipython3",
   "version": "3.8.10"
  }
 },
 "nbformat": 4,
 "nbformat_minor": 5
}
