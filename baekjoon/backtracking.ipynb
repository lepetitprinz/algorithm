{
 "cells": [
  {
   "cell_type": "markdown",
   "id": "e6b6ff7a",
   "metadata": {},
   "source": [
    "### 14888. 연산자 끼워넣기"
   ]
  },
  {
   "cell_type": "code",
   "execution_count": 40,
   "id": "6ffab6ba",
   "metadata": {},
   "outputs": [],
   "source": [
    "from itertools import permutations"
   ]
  },
  {
   "cell_type": "code",
   "execution_count": 39,
   "id": "92995cc4",
   "metadata": {},
   "outputs": [
    {
     "name": "stdout",
     "output_type": "stream",
     "text": [
      "2\n",
      "1 2\n",
      "0 1 0 0\n",
      "-1\n",
      "-1\n"
     ]
    }
   ],
   "source": [
    "oper_map = {0: '+', 1: '-', 2: '*', 3: '//'}\n",
    "n = int(input())\n",
    "nums = input().split()\n",
    "# operations = [oper_map[i] * times for i, times in enumerate(list(map(int, input().split()))) if times != 0]\n",
    "operations = []\n",
    "for i, times in enumerate(list(map(int, input().split()))):\n",
    "    operations.extend([oper_map[i]] * times)\n",
    "\n",
    "operation_case = set(permutations(operations, n-1))\n",
    "min_val = int(1e9)\n",
    "max_val = -1 * min_val\n",
    "for case in operation_case:\n",
    "    num = nums[0]\n",
    "    for i, op in enumerate(case):\n",
    "        if int(num) < 0 and op == '//':\n",
    "            num = str(-1 * eval(str(abs(int(num))) + op + nums[i+1]))\n",
    "            \n",
    "        else:\n",
    "            num = str(eval(num + op + nums[i+1]))\n",
    "            \n",
    "    num = int(num)    \n",
    "    if max_val < num:\n",
    "        max_val = num\n",
    "        \n",
    "    if min_val > num:\n",
    "        min_val = num\n",
    "        \n",
    "print(max_val)\n",
    "print(min_val)"
   ]
  },
  {
   "cell_type": "code",
   "execution_count": 22,
   "id": "d0cadf16",
   "metadata": {},
   "outputs": [],
   "source": [
    "operation_case = set(permutations(operations, n-1))"
   ]
  },
  {
   "cell_type": "code",
   "execution_count": 30,
   "id": "c922f66b",
   "metadata": {},
   "outputs": [
    {
     "name": "stdout",
     "output_type": "stream",
     "text": [
      "54\n",
      "-24\n"
     ]
    }
   ],
   "source": [
    "max_val = -100 * n\n",
    "min_val = 0\n",
    "for case in operation_case:\n",
    "    num = nums[0]\n",
    "    for i, op in enumerate(case):\n",
    "        if int(num) < 0 and op == '//':\n",
    "            num = str(-1 * eval(str(abs(int(num))) + op + nums[i+1]))\n",
    "            \n",
    "        else:\n",
    "            num = str(eval(num + op + nums[i+1]))\n",
    "            \n",
    "    num = int(num)    \n",
    "    if max_val < num:\n",
    "        max_val = num\n",
    "        \n",
    "    if min_val > num:\n",
    "        min_val = num\n",
    "        \n",
    "print(max_val)\n",
    "print(min_val)"
   ]
  },
  {
   "cell_type": "code",
   "execution_count": 28,
   "id": "f895e4a9",
   "metadata": {},
   "outputs": [
    {
     "name": "stdout",
     "output_type": "stream",
     "text": [
      "-//++* ++//-*\n"
     ]
    }
   ],
   "source": [
    "print(max_case[-1], min_case[-1])"
   ]
  },
  {
   "cell_type": "code",
   "execution_count": null,
   "id": "4497ed55",
   "metadata": {},
   "outputs": [],
   "source": []
  }
 ],
 "metadata": {
  "kernelspec": {
   "display_name": "Python 3 (ipykernel)",
   "language": "python",
   "name": "python3"
  },
  "language_info": {
   "codemirror_mode": {
    "name": "ipython",
    "version": 3
   },
   "file_extension": ".py",
   "mimetype": "text/x-python",
   "name": "python",
   "nbconvert_exporter": "python",
   "pygments_lexer": "ipython3",
   "version": "3.8.10"
  }
 },
 "nbformat": 4,
 "nbformat_minor": 5
}
