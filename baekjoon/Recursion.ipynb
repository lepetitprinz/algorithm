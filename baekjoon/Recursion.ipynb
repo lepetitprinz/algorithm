{
 "cells": [
  {
   "cell_type": "markdown",
   "id": "9910b827",
   "metadata": {},
   "source": [
    "#### 1780. 종이의 개수"
   ]
  },
  {
   "cell_type": "code",
   "execution_count": null,
   "id": "4da4cc5f",
   "metadata": {},
   "outputs": [],
   "source": [
    "def split_arr(arr):\n",
    "    length = len(arr)\n",
    "    if length == 1:\n",
    "        return arr[0]\n",
    "    \n",
    "    fst = arr[0][0]\n",
    "    flag = True\n",
    "    for i in range(length):\n",
    "        for j in range(length):\n",
    "            if arr[i][j] != fst:\n",
    "                flag = False\n",
    "                break\n",
    "    if flag:\n",
    "        return fst\n",
    "    else:\n",
    "        for\n",
    "    \n",
    "    return fst\n",
    "    \n",
    "n = int(input())\n"
   ]
  },
  {
   "cell_type": "markdown",
   "id": "4650b3e6",
   "metadata": {},
   "source": [
    "#### 2630. 색종이 만들기"
   ]
  },
  {
   "cell_type": "code",
   "execution_count": null,
   "id": "c8144c40",
   "metadata": {},
   "outputs": [],
   "source": [
    "def solution(x, y, n) :\n",
    "    value = arr[x][y]\n",
    "    for i in range(x, x + n) :\n",
    "        for j in range(y, y + n) :\n",
    "            if value != arr[i][j] :\n",
    "                solution(x, y, n//2)\n",
    "                solution(x, y + n//2, n//2)\n",
    "                solution(x + n//2, y, n//2)\n",
    "                solution(x + n//2, y + n//2, n//2)\n",
    "                return\n",
    "            \n",
    "    result.append(value)\n",
    "\n",
    "n = int(sys.stdin.readline())\n",
    "arr = [list(map(int, sys.stdin.readline().split())) for _ in range(n)] \n",
    "\n",
    "result = []\n",
    "solution(0,0, n)\n",
    "print(result.count(0))\n",
    "print(result.count(1))"
   ]
  },
  {
   "cell_type": "code",
   "execution_count": null,
   "id": "dc81e2df",
   "metadata": {},
   "outputs": [],
   "source": []
  }
 ],
 "metadata": {
  "kernelspec": {
   "display_name": "Python 3 (ipykernel)",
   "language": "python",
   "name": "python3"
  },
  "language_info": {
   "codemirror_mode": {
    "name": "ipython",
    "version": 3
   },
   "file_extension": ".py",
   "mimetype": "text/x-python",
   "name": "python",
   "nbconvert_exporter": "python",
   "pygments_lexer": "ipython3",
   "version": "3.8.10"
  }
 },
 "nbformat": 4,
 "nbformat_minor": 5
}
