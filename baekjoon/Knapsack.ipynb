{
 "cells": [
  {
   "cell_type": "markdown",
   "id": "66d0c6fc",
   "metadata": {},
   "source": [
    "#### 16493. 최대 페이지 수"
   ]
  },
  {
   "cell_type": "code",
   "execution_count": null,
   "id": "51a0ca95",
   "metadata": {},
   "outputs": [],
   "source": [
    "n, m = map(int, input().split())"
   ]
  }
 ],
 "metadata": {
  "kernelspec": {
   "display_name": "Python 3 (ipykernel)",
   "language": "python",
   "name": "python3"
  },
  "language_info": {
   "codemirror_mode": {
    "name": "ipython",
    "version": 3
   },
   "file_extension": ".py",
   "mimetype": "text/x-python",
   "name": "python",
   "nbconvert_exporter": "python",
   "pygments_lexer": "ipython3",
   "version": "3.8.10"
  }
 },
 "nbformat": 4,
 "nbformat_minor": 5
}
