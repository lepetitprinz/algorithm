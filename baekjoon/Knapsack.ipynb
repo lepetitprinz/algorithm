{
 "cells": [
  {
   "cell_type": "markdown",
   "id": "66d0c6fc",
   "metadata": {},
   "source": [
    "#### 1535. 안녕"
   ]
  },
  {
   "cell_type": "code",
   "execution_count": 8,
   "id": "51a0ca95",
   "metadata": {},
   "outputs": [
    {
     "name": "stdout",
     "output_type": "stream",
     "text": [
      "12\n",
      "1 1 1 1 1 1 1 1 1 1 1 1\n",
      "100 100 100 100 100 100 100 100 100 100 100 100\n",
      "1200\n"
     ]
    }
   ],
   "source": [
    "def dp(n, h, v):\n",
    "    d = [[0] * 100 for _ in range(n + 1)]\n",
    "    for j in range(100):\n",
    "        if j >= h[0]:\n",
    "            d[0][j] = v[0]\n",
    "    \n",
    "    for i in range(1, n):\n",
    "        for j in range(100):\n",
    "            prev = d[i - 1][j]\n",
    "            if j >= h[i]:\n",
    "                d[i][j] = max(prev, d[i - 1][j - h[i]] + v[i])\n",
    "            else:\n",
    "                d[i][j] = prev\n",
    "    \n",
    "    return d[n - 1][99]\n",
    "    \n",
    "n = int(input())\n",
    "h = list(map(int, input().split()))\n",
    "v = list(map(int, input().split()))\n",
    "result = dp(n, h, v)\n",
    "print(result)"
   ]
  },
  {
   "cell_type": "markdown",
   "id": "a5280bfe",
   "metadata": {},
   "source": [
    "#### 12865. 평범한 배낭"
   ]
  },
  {
   "cell_type": "code",
   "execution_count": 14,
   "id": "2e7fb6a1",
   "metadata": {},
   "outputs": [
    {
     "name": "stdout",
     "output_type": "stream",
     "text": [
      "4 7\n",
      "6 13\n",
      "4 8\n",
      "3 6\n",
      "5 12\n",
      "[[0, 0, 0, 0, 0, 0, 13, 13], [0, 0, 0, 0, 8, 8, 13, 13], [0, 0, 0, 6, 8, 8, 13, 14], [0, 0, 0, 6, 8, 12, 13, 14], [0, 0, 0, 0, 0, 0, 0, 0]]\n",
      "14\n"
     ]
    }
   ],
   "source": [
    "def dp(n, k, w, v):\n",
    "    d = [[0] * (k + 1) for _ in range(n + 1)]\n",
    "    for j in range(k + 1):\n",
    "        if j >= w[0]:\n",
    "            d[0][j] = v[0]\n",
    "    \n",
    "    for i in range(1, n):\n",
    "        for j in range(k + 1):\n",
    "            prev = d[i - 1][j]\n",
    "            if j >= w[i]:\n",
    "                d[i][j] = max(prev, d[i - 1][j - w[i]] + v[i])\n",
    "            else:\n",
    "                d[i][j] = prev\n",
    "    \n",
    "    return d[n - 1][k]\n",
    "\n",
    "n, k = map(int, input().split())\n",
    "w, v = [], [] \n",
    "for _ in range(n):\n",
    "    a, b = map(int, input().split())\n",
    "    w.append(a)\n",
    "    v.append(b)\n",
    "    \n",
    "result = dp(n, k, w, v)\n",
    "print(result)"
   ]
  },
  {
   "cell_type": "code",
   "execution_count": null,
   "id": "699762e4",
   "metadata": {},
   "outputs": [],
   "source": [
    "4 7\n",
    "6 13\n",
    "4 8\n",
    "3 6\n",
    "5 12"
   ]
  }
 ],
 "metadata": {
  "kernelspec": {
   "display_name": "Python 3 (ipykernel)",
   "language": "python",
   "name": "python3"
  },
  "language_info": {
   "codemirror_mode": {
    "name": "ipython",
    "version": 3
   },
   "file_extension": ".py",
   "mimetype": "text/x-python",
   "name": "python",
   "nbconvert_exporter": "python",
   "pygments_lexer": "ipython3",
   "version": "3.8.10"
  }
 },
 "nbformat": 4,
 "nbformat_minor": 5
}
