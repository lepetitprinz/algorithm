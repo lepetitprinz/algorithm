{
 "cells": [
  {
   "cell_type": "markdown",
   "id": "3840681d",
   "metadata": {},
   "source": [
    "### Simulation"
   ]
  },
  {
   "cell_type": "markdown",
   "id": "fc7ea1cd",
   "metadata": {},
   "source": [
    "#### 10709. 기상캐스터"
   ]
  },
  {
   "cell_type": "code",
   "execution_count": null,
   "id": "95a7b768",
   "metadata": {
    "scrolled": true
   },
   "outputs": [],
   "source": [
    "def forecast(data, w):\n",
    "    cloud_idx = -1\n",
    "    result = []\n",
    "    for i, info in enumerate(data):\n",
    "        if info == 'c':\n",
    "            idx = 0\n",
    "            cloud_idx = i\n",
    "        else:\n",
    "            if cloud_idx == -1:\n",
    "                idx = -1\n",
    "            else:\n",
    "                idx = i - cloud_idx\n",
    "        result.append(idx)\n",
    "\n",
    "    return result\n",
    "                \n",
    "h, w = map(int, input().split())\n",
    "result = []\n",
    "for _ in range(h):\n",
    "    data = input()\n",
    "    print(*forecast(data, w))"
   ]
  },
  {
   "cell_type": "markdown",
   "id": "9481952d",
   "metadata": {},
   "source": [
    "#### 1244. 스위치 켜고 끄기"
   ]
  },
  {
   "cell_type": "code",
   "execution_count": 15,
   "id": "a537c190",
   "metadata": {
    "scrolled": true
   },
   "outputs": [
    {
     "name": "stdout",
     "output_type": "stream",
     "text": [
      "8\n",
      "0 1 0 1 0 0 0 1\n",
      "2\n",
      "1 3\n",
      "2 3\n",
      "0 0 0 0 0 1 0 1\n"
     ]
    }
   ],
   "source": [
    "def action(switch, kind, idx, conv, length):\n",
    "    if kind == 1:\n",
    "        for i in range(idx, length, idx):\n",
    "            switch[i-1] = conv[switch[i-1]]\n",
    "    else:\n",
    "        switch[idx-1] = conv[switch[idx-1]]\n",
    "        for i in range(1, len(switch) // 2 + 1):\n",
    "            if (idx - i - 1) > 0 & (idx + i - 1) < length:\n",
    "                if switch[idx - i - 1] == switch[idx + i -1]:\n",
    "                    switch[idx - i - 1] = conv[switch[idx - i - 1]]\n",
    "                    switch[idx + i - 1] = conv[switch[idx + i - 1]]\n",
    "                else:\n",
    "                    break\n",
    "            else:\n",
    "                break\n",
    "    \n",
    "    return switch\n",
    "\n",
    "conv = {1: 0, 0: 1}\n",
    "n = int(input())\n",
    "switch = list(map(int, input().split()))\n",
    "length = len(switch)\n",
    "s = int(input())\n",
    "for _ in range(s):\n",
    "    kind, value = map(int, input().split())\n",
    "    switch = action(switch, kind, value, conv, length)\n",
    "print(*switch)"
   ]
  },
  {
   "cell_type": "markdown",
   "id": "4629b996",
   "metadata": {},
   "source": [
    "#### 22951. 송이의 카드게임"
   ]
  },
  {
   "cell_type": "code",
   "execution_count": 20,
   "id": "484d5cb7",
   "metadata": {},
   "outputs": [
    {
     "name": "stdout",
     "output_type": "stream",
     "text": [
      "3 2\n",
      "9 5\n",
      "1 2\n",
      "3 10\n"
     ]
    }
   ],
   "source": [
    "from collections import deque\n",
    "\n",
    "n, k = map(int, input().split())\n",
    "q = []\n",
    "data = {}\n",
    "for i in range(n):\n",
    "    temp = list(map(int, input().split()))\n",
    "    q.extend([[i+1, num] for num in temp])\n",
    "    \n",
    "queue = deque(q)\n",
    "move = 0\n",
    "cnt = 0\n",
    "while len(queue) > 1:\n",
    "    number = queue.popleft()\n",
    "    if cnt == move:\n",
    "        move = number[1] - 1\n",
    "        cnt = 0\n",
    "    else:\n",
    "        queue.append(number)\n",
    "        cnt += 1\n",
    "        \n",
    "result = queue.popleft()\n",
    "print(*result)"
   ]
  },
  {
   "cell_type": "markdown",
   "id": "86bd47cd",
   "metadata": {},
   "source": [
    "#### 3699. 주차 빌딩"
   ]
  },
  {
   "cell_type": "code",
   "execution_count": 17,
   "id": "9965c402",
   "metadata": {},
   "outputs": [
    {
     "name": "stdout",
     "output_type": "stream",
     "text": [
      "1\n",
      "1 5\n",
      "-1 2 1 -1 3\n",
      "35\n"
     ]
    }
   ],
   "source": [
    "from collections import deque\n",
    "\n",
    "def get_seq_order(row):\n",
    "    order = []\n",
    "    for number in row:\n",
    "        if number != -1:\n",
    "            order.append(number)\n",
    "    \n",
    "    return sorted(order)\n",
    "\n",
    "def rotation(queue, num, l):\n",
    "    idx = queue.index(num)\n",
    "    if idx < l/2:\n",
    "        move = idx + 1\n",
    "        for _ in range(move):\n",
    "            queue.rotate(-1)\n",
    "    else:\n",
    "        move = l - idx\n",
    "        for _ in range(move):\n",
    "            queue.rotate()\n",
    "    duration = move * 5\n",
    "    \n",
    "    return queue, duration\n",
    "\n",
    "t = int(input())\n",
    "for _ in range(t):\n",
    "    h, l = map(int, input().split())\n",
    "    \n",
    "    result = 0\n",
    "    for i in range(h):\n",
    "        row = list(map(int, input().split()))\n",
    "        seq = get_seq_order(row=row)\n",
    "        result += len(seq) * 2 * i\n",
    "        queue = deque(row)\n",
    "        \n",
    "        for num in seq:\n",
    "            queue, duration = rotation(queue, num, l)\n",
    "            result += duration\n",
    "        \n",
    "    print(result)"
   ]
  },
  {
   "cell_type": "code",
   "execution_count": 13,
   "id": "b5a5f8ce",
   "metadata": {},
   "outputs": [
    {
     "data": {
      "text/plain": [
       "deque([2, 3, 4, 5, 1])"
      ]
     },
     "execution_count": 13,
     "metadata": {},
     "output_type": "execute_result"
    }
   ],
   "source": [
    "1\n",
    "3 6\n",
    "-1 5 6 -1 -1 3\n",
    "-1 -1 7 -1 2 9\n",
    "-1 10 4 1 8 -1"
   ]
  },
  {
   "cell_type": "code",
   "execution_count": null,
   "id": "422da854",
   "metadata": {},
   "outputs": [],
   "source": []
  }
 ],
 "metadata": {
  "kernelspec": {
   "display_name": "Python 3 (ipykernel)",
   "language": "python",
   "name": "python3"
  },
  "language_info": {
   "codemirror_mode": {
    "name": "ipython",
    "version": 3
   },
   "file_extension": ".py",
   "mimetype": "text/x-python",
   "name": "python",
   "nbconvert_exporter": "python",
   "pygments_lexer": "ipython3",
   "version": "3.8.10"
  }
 },
 "nbformat": 4,
 "nbformat_minor": 5
}
