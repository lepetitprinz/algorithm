{
 "cells": [
  {
   "cell_type": "code",
   "execution_count": 23,
   "id": "3b5b11e1",
   "metadata": {},
   "outputs": [
    {
     "name": "stdout",
     "output_type": "stream",
     "text": [
      "5 5\n",
      "1\n"
     ]
    }
   ],
   "source": [
    "def rev_string(string):\n",
    "    return ''.join(list(string[::-1]))\n",
    "\n",
    "x, y = input().split()\n",
    "add = int(rev_string(x)) + int(rev_string(y))\n",
    "print(int(rev_string(str(add))))"
   ]
  },
  {
   "cell_type": "code",
   "execution_count": 4,
   "id": "8aee6c03",
   "metadata": {},
   "outputs": [
    {
     "name": "stdout",
     "output_type": "stream",
     "text": [
      "2000 1800\n",
      "0.7597469266479578\n"
     ]
    }
   ],
   "source": [
    "a, b = map(int, input().split())\n",
    "m = (b-a)/400\n",
    "print(1 / (1 + 10 ** m))"
   ]
  },
  {
   "cell_type": "code",
   "execution_count": null,
   "id": "1e808a9c",
   "metadata": {},
   "outputs": [],
   "source": []
  }
 ],
 "metadata": {
  "kernelspec": {
   "display_name": "Python 3 (ipykernel)",
   "language": "python",
   "name": "python3"
  },
  "language_info": {
   "codemirror_mode": {
    "name": "ipython",
    "version": 3
   },
   "file_extension": ".py",
   "mimetype": "text/x-python",
   "name": "python",
   "nbconvert_exporter": "python",
   "pygments_lexer": "ipython3",
   "version": "3.8.10"
  }
 },
 "nbformat": 4,
 "nbformat_minor": 5
}
