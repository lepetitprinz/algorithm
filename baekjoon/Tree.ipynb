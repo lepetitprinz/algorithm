{
 "cells": [
  {
   "cell_type": "markdown",
   "id": "aaf05126",
   "metadata": {},
   "source": [
    "#### 1991. 트리 순회"
   ]
  },
  {
   "cell_type": "code",
   "execution_count": 3,
   "id": "c4f62838",
   "metadata": {
    "collapsed": true
   },
   "outputs": [
    {
     "name": "stdout",
     "output_type": "stream",
     "text": [
      "7\n",
      "A B C\n",
      "B D .\n",
      "C E F\n",
      "E . .\n",
      "F . G\n",
      "D . .\n",
      "G . .\n",
      "ABDCEFG\n",
      "DBAECFG\n",
      "DBEGFCA"
     ]
    }
   ],
   "source": [
    "class Node(object):\n",
    "    def __init__(self, item, left, right):\n",
    "        self.item = item\n",
    "        self.left = left\n",
    "        self.right = right\n",
    "        \n",
    "def preorder(node, tree):\n",
    "    print(node.item, end='')\n",
    "    if node.left != '.':\n",
    "        preorder(tree[node.left], tree)\n",
    "    if node.right != '.':\n",
    "        preorder(tree[node.right], tree)\n",
    "        \n",
    "def inorder(node, tree):\n",
    "    if node.left != '.':\n",
    "        inorder(tree[node.left], tree)\n",
    "    print(node.item, end='')\n",
    "    if node.right != '.':\n",
    "        inorder(tree[node.right], tree)\n",
    "    \n",
    "def postorder(node, tree):\n",
    "    if node.left != '.':\n",
    "        postorder(tree[node.left], tree)\n",
    "    if node.right != '.':\n",
    "        postorder(tree[node.right], tree)\n",
    "    print(node.item, end='')\n",
    "    \n",
    "n = int(input())\n",
    "tree = {}\n",
    "for _ in range(n):\n",
    "    i, l, f = input().split()\n",
    "    tree[i] = Node(i, l, f)\n",
    "preorder(tree['A'], tree)\n",
    "print()\n",
    "inorder(tree['A'], tree)\n",
    "print()\n",
    "postorder(tree['A'], tree)"
   ]
  },
  {
   "cell_type": "markdown",
   "id": "bf9c0682",
   "metadata": {},
   "source": [
    "#### 9934. 완전 이진 트리"
   ]
  },
  {
   "cell_type": "code",
   "execution_count": 5,
   "id": "a67b6819",
   "metadata": {
    "collapsed": true
   },
   "outputs": [
    {
     "name": "stdout",
     "output_type": "stream",
     "text": [
      "3\n",
      "1 6 4 3 5 2 7\n",
      "3\n",
      "6 2\n",
      "1 4 5 7\n"
     ]
    }
   ],
   "source": [
    "def tree(start, end, depth):\n",
    "    if start == end:\n",
    "        level[depth].append(data[start])\n",
    "        return\n",
    "\n",
    "    root = (start + end) // 2\n",
    "    level[depth].append(data[root])\n",
    "    tree(start, root - 1, depth + 1)\n",
    "    tree(root + 1, end, depth + 1)\n",
    "\n",
    "k = int(input())\n",
    "data = list(map(int, input().split()))\n",
    "level = [[] for _ in range(k)]\n",
    "        \n",
    "tree(start=0, end=len(data)-1, depth=0)\n",
    "for row in level:\n",
    "    print(*row)"
   ]
  },
  {
   "cell_type": "markdown",
   "id": "879b0342",
   "metadata": {},
   "source": [
    "#### 1068. 트리"
   ]
  },
  {
   "cell_type": "code",
   "execution_count": 9,
   "id": "8a435a77",
   "metadata": {
    "scrolled": false
   },
   "outputs": [
    {
     "name": "stdout",
     "output_type": "stream",
     "text": [
      "5\n",
      "-1 0 0 1 1\n",
      "2\n"
     ]
    }
   ],
   "source": [
    "class TreeNode(object):\n",
    "    def __init__(self, val, root=None):\n",
    "        self.val = val\n",
    "        self.root = root\n",
    "        self.leaf = []\n",
    "\n",
    "n = int(input())\n",
    "link = list(map(int, input().split()))\n",
    "m = int(input())\n",
    "\n",
    "tree = []\n",
    "for i, l in enumerate(link):\n",
    "    if l == -1:\n",
    "        node = TreeNode(l)\n",
    "        tree.append(node)\n",
    "    else:\n",
    "        node = TreeNode(i, tree[l])\n",
    "        tree[l].leaf.append(node)\n",
    "        tree.append(node)"
   ]
  },
  {
   "cell_type": "code",
   "execution_count": 12,
   "id": "b531999b",
   "metadata": {},
   "outputs": [
    {
     "data": {
      "text/plain": [
       "[<__main__.TreeNode at 0x105fc2ac0>, <__main__.TreeNode at 0x106d58430>]"
      ]
     },
     "execution_count": 12,
     "metadata": {},
     "output_type": "execute_result"
    }
   ],
   "source": [
    "tree[1].leaf"
   ]
  },
  {
   "cell_type": "code",
   "execution_count": null,
   "id": "20ade0ba",
   "metadata": {},
   "outputs": [],
   "source": [
    "5\n",
    "-1 0 0 1 1\n",
    "2"
   ]
  }
 ],
 "metadata": {
  "kernelspec": {
   "display_name": "Python 3 (ipykernel)",
   "language": "python",
   "name": "python3"
  },
  "language_info": {
   "codemirror_mode": {
    "name": "ipython",
    "version": 3
   },
   "file_extension": ".py",
   "mimetype": "text/x-python",
   "name": "python",
   "nbconvert_exporter": "python",
   "pygments_lexer": "ipython3",
   "version": "3.8.16"
  }
 },
 "nbformat": 4,
 "nbformat_minor": 5
}
