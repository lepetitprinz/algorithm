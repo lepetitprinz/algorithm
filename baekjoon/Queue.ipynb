{
 "cells": [
  {
   "cell_type": "markdown",
   "id": "747f4ae9",
   "metadata": {},
   "source": [
    "### 18258"
   ]
  },
  {
   "cell_type": "code",
   "execution_count": 1,
   "id": "e5e584e6",
   "metadata": {},
   "outputs": [],
   "source": [
    "from collections import deque"
   ]
  },
  {
   "cell_type": "code",
   "execution_count": null,
   "id": "11d4d3d9",
   "metadata": {},
   "outputs": [],
   "source": [
    "n = int(input())\n",
    "\n",
    "queue = deque()\n",
    "for _ in range(n):\n",
    "    command = input().split()\n",
    "    if command[0] == 'push':\n",
    "        queue.append(command[1])\n",
    "    elif command[0] == 'pop':\n",
    "        if len(queue) == 0:\n",
    "            print(-1)\n",
    "        else:\n",
    "            print(queue.popleft())\n",
    "    elif command[0] == 'size':\n",
    "        print(len(queue))\n",
    "    elif command[0] == 'empty':\n",
    "        if len(queue) == 0:\n",
    "            print(1)\n",
    "        else:\n",
    "            print(0)\n",
    "    elif command[0] == 'front':\n",
    "        if len(queue) == 0:\n",
    "            print(-1)\n",
    "        else:\n",
    "            print(queue[0])\n",
    "    elif command[0] == 'back':\n",
    "        if len(queue) == 0:\n",
    "            print(-1)\n",
    "        else:\n",
    "            print(queue[-1])"
   ]
  },
  {
   "cell_type": "markdown",
   "id": "3e326236",
   "metadata": {},
   "source": [
    "### 1021"
   ]
  },
  {
   "cell_type": "code",
   "execution_count": null,
   "id": "b373e29b",
   "metadata": {
    "scrolled": true
   },
   "outputs": [],
   "source": [
    "n, m = map(int, input().split())\n",
    "pick = list(map(int, input().split()))\n",
    "nums = list(range(1, n+1))\n",
    "\n",
    "move = 0\n",
    "cur_idx = 0\n",
    "for number in pick:\n",
    "    if nums[0] == number:\n",
    "        nums.pop(0)\n",
    "    else:\n",
    "        idx = nums.index(number)\n",
    "        left = n - idx + 1\n",
    "        move += min(idx, len(nums) - idx)\n",
    "        \n",
    "        nums = nums[idx:] + nums[:idx]\n",
    "        nums.pop(0)\n",
    "    \n",
    "print(move)"
   ]
  },
  {
   "cell_type": "markdown",
   "id": "cc85c05c",
   "metadata": {},
   "source": [
    "### 5430"
   ]
  },
  {
   "cell_type": "code",
   "execution_count": 2,
   "id": "205e24cf",
   "metadata": {},
   "outputs": [],
   "source": [
    "def ac(queue, f):\n",
    "    for command in f:\n",
    "        if command == 'R':\n",
    "            queue.reverse()\n",
    "        else:\n",
    "            try:\n",
    "                queue.popleft()\n",
    "            except:\n",
    "                return 'error'\n",
    "            \n",
    "    return str(list(queue)).replace(' ', '')"
   ]
  },
  {
   "cell_type": "code",
   "execution_count": 4,
   "id": "634111a9",
   "metadata": {
    "scrolled": true
   },
   "outputs": [
    {
     "name": "stdout",
     "output_type": "stream",
     "text": [
      "1\n",
      "RDD\n",
      "4\n",
      "[1,2,3,4]\n",
      "[2,1]\n"
     ]
    }
   ],
   "source": [
    "t = int(input())\n",
    "for _ in range(t):\n",
    "    f = input()\n",
    "    n = int(input())\n",
    "    queue = deque(eval(input()))\n",
    "    \n",
    "    result = ac(queue, f)\n",
    "    print(result)"
   ]
  },
  {
   "cell_type": "markdown",
   "id": "6153d421",
   "metadata": {},
   "source": [
    "#### 2161. 카드1"
   ]
  },
  {
   "cell_type": "code",
   "execution_count": 8,
   "id": "c9b4f77d",
   "metadata": {},
   "outputs": [
    {
     "name": "stdout",
     "output_type": "stream",
     "text": [
      "7\n",
      "1 3 5 7 4 2 6\n"
     ]
    }
   ],
   "source": [
    "from collections import deque\n",
    "\n",
    "n = int(input())\n",
    "queue = deque(range(1, n+1))\n",
    "result = []\n",
    "while queue:\n",
    "    result.append(str(queue.popleft()))\n",
    "    if len(queue) == 0:\n",
    "        break\n",
    "    q = queue.popleft()\n",
    "    queue.append(q)\n",
    "\n",
    "print(' '.join(result))"
   ]
  },
  {
   "cell_type": "markdown",
   "id": "a168a349",
   "metadata": {},
   "source": [
    "#### "
   ]
  },
  {
   "cell_type": "code",
   "execution_count": 5,
   "id": "da7210a7",
   "metadata": {},
   "outputs": [
    {
     "name": "stdout",
     "output_type": "stream",
     "text": [
      "1\n",
      "test\n",
      "YES\n"
     ]
    }
   ],
   "source": [
    "from collections import deque\n",
    "\n",
    "element = set([\n",
    "    'h','he','li','be','b','c','n','o','f','ne','na','mg',\n",
    "    'al','si','p','s','cl','ar','k','ca','sc','ti','v','cr',\n",
    "    'mn','fe','co','ni','cu','zn','ga','ge','as','se','br','kr',\n",
    "    'rb','sr','y','zr','nb','mo','tc','ru','rh','pd','ag','cd',\n",
    "    'in','sn','sb','te','i','xe','cs','ba','hf','ta','w','re',\n",
    "    'os','ir','pt','au','hg','tl','pb','bi','po','at','rn','fr',\n",
    "    'ra','rf','db','sg','bh','hs','mt','ds','rg','cn','fl',\n",
    "    'lv','la','ce','pr','nd','pm','sm','eu','gd','tb','dy',\n",
    "    'ho','er','tm','yb','lu','ac','th','pa','u','np','pu','am',\n",
    "    'cm','bk','cf','es','fm','md','no','lr'\n",
    "])\n",
    "\n",
    "def check(word):\n",
    "    queue = deque()\n",
    "    while queue:\n",
    "        w = queue.popleft()\n",
    "        if w == '':\n",
    "            break\n",
    "        for i in range(2):\n",
    "            if len(w) > i:\n",
    "                if w[0:i+1] in element:\n",
    "                    queue.append(w[i+1:])\n",
    "\n",
    "    if w == '':\n",
    "        result = 'YES'\n",
    "    else:\n",
    "        result = 'NO'\n",
    "\n",
    "    return result\n",
    "                    \n",
    "n = int(input())\n",
    "for _ in range(n):\n",
    "    word = input()\n",
    "    result = check(word)\n",
    "    print(result)"
   ]
  },
  {
   "cell_type": "markdown",
   "id": "60358f65",
   "metadata": {},
   "source": [
    "#### 13422. 도둑"
   ]
  },
  {
   "cell_type": "code",
   "execution_count": null,
   "id": "4c350702",
   "metadata": {},
   "outputs": [],
   "source": [
    "def slide(n, m, k, money):\n",
    "    prev = money[0]\n",
    "    \n",
    "    for i in range()\n",
    "\n",
    "\n",
    "t = int(input())\n",
    "for _ in range(t):\n",
    "    n, m, k = map(int, input().split())\n",
    "    money = list(map(int, input().split()))\n",
    "    \n",
    "    "
   ]
  },
  {
   "cell_type": "markdown",
   "id": "b666a08d",
   "metadata": {},
   "source": [
    "#### 12873. 기념품"
   ]
  },
  {
   "cell_type": "code",
   "execution_count": 11,
   "id": "449f7f3d",
   "metadata": {},
   "outputs": [
    {
     "name": "stdout",
     "output_type": "stream",
     "text": [
      "1000\n",
      "265\n"
     ]
    }
   ],
   "source": [
    "def queue(people):\n",
    "    t = 1\n",
    "    length = len(people)\n",
    "    while length > 1:\n",
    "        move = (t ** 3) % length\n",
    "        people = people[move:] + people[:move - 1]\n",
    "        length -= 1\n",
    "        t += 1\n",
    "        \n",
    "    return people[0]\n",
    "    \n",
    "n = int(input())\n",
    "people = [i + 1 for i in range(n)]\n",
    "result = queue(people)\n",
    "\n",
    "print(result)"
   ]
  },
  {
   "cell_type": "code",
   "execution_count": 14,
   "id": "e25d8afa",
   "metadata": {},
   "outputs": [
    {
     "name": "stdout",
     "output_type": "stream",
     "text": [
      "10\n",
      "9\n"
     ]
    }
   ],
   "source": [
    "from collections import deque\n",
    "\n",
    "def queue(people):\n",
    "    t = 1\n",
    "    length = len(people)\n",
    "    q = deque(people)\n",
    "    \n",
    "    while length > 1:\n",
    "        move = (t ** 3) % length\n",
    "        for _ in range(move - 1):\n",
    "            q.rotate()\n",
    "        q.popleft()\n",
    "        length -= 1\n",
    "        t += 1\n",
    "\n",
    "    return q.popleft()\n",
    "\n",
    "\n",
    "n = int(input())\n",
    "people = [i + 1 for i in range(n)]\n",
    "result = queue(people)\n",
    "\n",
    "print(result)"
   ]
  },
  {
   "cell_type": "markdown",
   "id": "6c3553ba",
   "metadata": {},
   "source": [
    "#### 15828. Router"
   ]
  },
  {
   "cell_type": "code",
   "execution_count": 1,
   "id": "89f6901a",
   "metadata": {
    "collapsed": true
   },
   "outputs": [
    {
     "name": "stdout",
     "output_type": "stream",
     "text": [
      "5\n",
      "1\n",
      "2\n",
      "0\n",
      "3\n",
      "4\n",
      "0\n",
      "5\n",
      "6\n",
      "0\n",
      "0\n",
      "-1\n",
      "5 6\n"
     ]
    }
   ],
   "source": [
    "from collections import deque\n",
    "\n",
    "n = int(input())\n",
    "queue = deque()\n",
    "\n",
    "while True:\n",
    "    number = int(input())\n",
    "    if number == -1:\n",
    "        break\n",
    "\n",
    "    if number == 0:\n",
    "        queue.popleft()\n",
    "    else:\n",
    "        if len(queue) < n:\n",
    "            queue.append(number)\n",
    "            \n",
    "print(*queue)"
   ]
  },
  {
   "cell_type": "markdown",
   "id": "52149c5a",
   "metadata": {},
   "source": [
    "#### 14612. 김식당"
   ]
  },
  {
   "cell_type": "code",
   "execution_count": 3,
   "id": "43a29e67",
   "metadata": {
    "collapsed": true
   },
   "outputs": [
    {
     "name": "stdout",
     "output_type": "stream",
     "text": [
      "7 3\n",
      "order 1 4\n",
      "1\n",
      "order 2 2\n",
      "1 2\n",
      "order 3 3\n",
      "1 2 3\n",
      "sort\n",
      "2 3 1\n",
      "complete 3\n",
      "2 1\n",
      "complete 2\n",
      "1\n",
      "complete 1\n",
      "\n"
     ]
    }
   ],
   "source": [
    "n, m = map(int, input().split())\n",
    "\n",
    "queue = []\n",
    "order_time = {}\n",
    "for _ in range(n):\n",
    "    order = input().split()\n",
    "    if order[0] == \"order\":\n",
    "        table = int(order[1])\n",
    "        time = int(order[2])\n",
    "        queue.append(table)\n",
    "        order_time[table] = time\n",
    "    elif order[0] == \"sort\":\n",
    "        queue = sorted(queue, key=lambda x: (order_time[x], x))\n",
    "    else:\n",
    "        table = int(order[1])\n",
    "        queue.remove(table)\n",
    "        \n",
    "    if len(queue) > 0:\n",
    "        print(*queue)\n",
    "    else:\n",
    "        print(\"sleep\")"
   ]
  },
  {
   "cell_type": "code",
   "execution_count": null,
   "id": "04c15bd4",
   "metadata": {},
   "outputs": [],
   "source": [
    "7 3\n",
    "order 1 4\n",
    "order 2 2\n",
    "order 3 3\n",
    "sort\n",
    "complete 3\n",
    "complete 2\n",
    "complete 1"
   ]
  }
 ],
 "metadata": {
  "kernelspec": {
   "display_name": "Python 3 (ipykernel)",
   "language": "python",
   "name": "python3"
  },
  "language_info": {
   "codemirror_mode": {
    "name": "ipython",
    "version": 3
   },
   "file_extension": ".py",
   "mimetype": "text/x-python",
   "name": "python",
   "nbconvert_exporter": "python",
   "pygments_lexer": "ipython3",
   "version": "3.8.16"
  }
 },
 "nbformat": 4,
 "nbformat_minor": 5
}
