{
 "cells": [
  {
   "cell_type": "markdown",
   "id": "747f4ae9",
   "metadata": {},
   "source": [
    "### 18258"
   ]
  },
  {
   "cell_type": "code",
   "execution_count": 1,
   "id": "e5e584e6",
   "metadata": {},
   "outputs": [],
   "source": [
    "from collections import deque"
   ]
  },
  {
   "cell_type": "code",
   "execution_count": null,
   "id": "11d4d3d9",
   "metadata": {},
   "outputs": [],
   "source": [
    "n = int(input())\n",
    "\n",
    "queue = deque()\n",
    "for _ in range(n):\n",
    "    command = input().split()\n",
    "    if command[0] == 'push':\n",
    "        queue.append(command[1])\n",
    "    elif command[0] == 'pop':\n",
    "        if len(queue) == 0:\n",
    "            print(-1)\n",
    "        else:\n",
    "            print(queue.popleft())\n",
    "    elif command[0] == 'size':\n",
    "        print(len(queue))\n",
    "    elif command[0] == 'empty':\n",
    "        if len(queue) == 0:\n",
    "            print(1)\n",
    "        else:\n",
    "            print(0)\n",
    "    elif command[0] == 'front':\n",
    "        if len(queue) == 0:\n",
    "            print(-1)\n",
    "        else:\n",
    "            print(queue[0])\n",
    "    elif command[0] == 'back':\n",
    "        if len(queue) == 0:\n",
    "            print(-1)\n",
    "        else:\n",
    "            print(queue[-1])"
   ]
  },
  {
   "cell_type": "markdown",
   "id": "3e326236",
   "metadata": {},
   "source": [
    "### 1021"
   ]
  },
  {
   "cell_type": "code",
   "execution_count": null,
   "id": "b373e29b",
   "metadata": {
    "scrolled": true
   },
   "outputs": [],
   "source": [
    "n, m = map(int, input().split())\n",
    "pick = list(map(int, input().split()))\n",
    "nums = list(range(1, n+1))\n",
    "\n",
    "move = 0\n",
    "cur_idx = 0\n",
    "for number in pick:\n",
    "    if nums[0] == number:\n",
    "        nums.pop(0)\n",
    "    else:\n",
    "        idx = nums.index(number)\n",
    "        left = n - idx + 1\n",
    "        move += min(idx, len(nums) - idx)\n",
    "        \n",
    "        nums = nums[idx:] + nums[:idx]\n",
    "        nums.pop(0)\n",
    "    \n",
    "print(move)"
   ]
  },
  {
   "cell_type": "markdown",
   "id": "cc85c05c",
   "metadata": {},
   "source": [
    "### 5430"
   ]
  },
  {
   "cell_type": "code",
   "execution_count": 2,
   "id": "205e24cf",
   "metadata": {},
   "outputs": [],
   "source": [
    "def ac(queue, f):\n",
    "    for command in f:\n",
    "        if command == 'R':\n",
    "            queue.reverse()\n",
    "        else:\n",
    "            try:\n",
    "                queue.popleft()\n",
    "            except:\n",
    "                return 'error'\n",
    "            \n",
    "    return str(list(queue)).replace(' ', '')"
   ]
  },
  {
   "cell_type": "code",
   "execution_count": 4,
   "id": "634111a9",
   "metadata": {},
   "outputs": [
    {
     "name": "stdout",
     "output_type": "stream",
     "text": [
      "1\n",
      "RDD\n",
      "4\n",
      "[1,2,3,4]\n",
      "[2,1]\n"
     ]
    }
   ],
   "source": [
    "t = int(input())\n",
    "for _ in range(t):\n",
    "    f = input()\n",
    "    n = int(input())\n",
    "    queue = deque(eval(input()))\n",
    "    \n",
    "    result = ac(queue, f)\n",
    "    print(result)"
   ]
  },
  {
   "cell_type": "code",
   "execution_count": null,
   "id": "a73ed1cb",
   "metadata": {},
   "outputs": [],
   "source": [
    "#### 4\n",
    "RDD\n",
    "4\n",
    "[1,2,3,4]\n",
    "DD\n",
    "1\n",
    "[42]\n",
    "RRD\n",
    "6\n",
    "[1,1,2,3,5,8]\n",
    "D\n",
    "0\n",
    "[]"
   ]
  }
 ],
 "metadata": {
  "kernelspec": {
   "display_name": "Python 3 (ipykernel)",
   "language": "python",
   "name": "python3"
  },
  "language_info": {
   "codemirror_mode": {
    "name": "ipython",
    "version": 3
   },
   "file_extension": ".py",
   "mimetype": "text/x-python",
   "name": "python",
   "nbconvert_exporter": "python",
   "pygments_lexer": "ipython3",
   "version": "3.8.10"
  }
 },
 "nbformat": 4,
 "nbformat_minor": 5
}
