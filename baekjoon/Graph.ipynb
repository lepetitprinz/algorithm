{
 "cells": [
  {
   "cell_type": "markdown",
   "id": "5540619d",
   "metadata": {},
   "source": [
    "### Graph"
   ]
  },
  {
   "cell_type": "markdown",
   "id": "ea8b9a89",
   "metadata": {},
   "source": [
    "### 2210. 숫자판 점프"
   ]
  },
  {
   "cell_type": "code",
   "execution_count": 18,
   "id": "fc8e3383",
   "metadata": {},
   "outputs": [
    {
     "name": "stdout",
     "output_type": "stream",
     "text": [
      "15\n"
     ]
    }
   ],
   "source": [
    "def dfs(r, c, seq):\n",
    "    if len(seq) == 6:\n",
    "        if seq not in result:\n",
    "            result.append(seq)\n",
    "        return\n",
    "    \n",
    "    for move in moves:\n",
    "        move_r = r + move[0]\n",
    "        move_c = c + move[1]\n",
    "        if 0 <= move_r < 5 and 0 <= move_c < 5:\n",
    "            dfs(move_r, move_c, seq + arr[move_c][move_r])\n",
    "\n",
    "arr = [list(map(str, input().split())) for _ in range(5)]\n",
    "moves = [(-1,0),(1,0),(0,-1),(0,1)]\n",
    "result = []\n",
    "for i in range(5):\n",
    "    for j in range(5):\n",
    "        dfs(i, j, arr[i][j])\n",
    "        \n",
    "print(len(result))"
   ]
  },
  {
   "cell_type": "markdown",
   "id": "7c68e95a",
   "metadata": {},
   "source": [
    "#### 14248. 점프 점프"
   ]
  },
  {
   "cell_type": "code",
   "execution_count": 9,
   "id": "98c38dc2",
   "metadata": {
    "collapsed": true
   },
   "outputs": [
    {
     "name": "stdout",
     "output_type": "stream",
     "text": [
      "5\n",
      "1 4 2 2 1\n",
      "3\n",
      "5\n"
     ]
    }
   ],
   "source": [
    "n = int(input())\n",
    "jump = {i: num for i, num in enumerate(list(map(int, input().split())))}\n",
    "loc = int(input()) - 1\n",
    "\n",
    "result = [loc]\n",
    "queue = deque([loc])\n",
    "while queue:\n",
    "    loc = queue.popleft()\n",
    "    move = jump[loc]\n",
    "    left = loc - move\n",
    "    right = loc + move\n",
    "    \n",
    "    if (left not in result) & (0 <= left < n):\n",
    "        result.append(left)\n",
    "        queue.append(left)\n",
    "    if (right not in result) & (0 <= right < n):\n",
    "        result.append(right)\n",
    "        queue.append(right)\n",
    "    \n",
    "print(len(result))"
   ]
  },
  {
   "cell_type": "markdown",
   "id": "b6328970",
   "metadata": {},
   "source": [
    "#### 2232. 지뢰"
   ]
  },
  {
   "cell_type": "code",
   "execution_count": 34,
   "id": "f16341eb",
   "metadata": {
    "collapsed": true
   },
   "outputs": [
    {
     "name": "stdout",
     "output_type": "stream",
     "text": [
      "9\n",
      "1\n",
      "2\n",
      "5\n",
      "4\n",
      "3\n",
      "3\n",
      "6\n",
      "6\n",
      "2\n"
     ]
    }
   ],
   "source": [
    "import heapq\n",
    "\n",
    "def check(data, idx, direction, visit):\n",
    "    move = idx + direction\n",
    "    if 0 <= move < length:\n",
    "        if not visit.get(move, 0):\n",
    "            if data[move] < data[idx]:\n",
    "                visit[move] = 1\n",
    "                visit = check(data, move, direction, visit)\n",
    "\n",
    "    return visit\n",
    "\n",
    "n = int(input())\n",
    "data = []\n",
    "heap = []\n",
    "for i in range(n):\n",
    "    num = int(input())\n",
    "    data.append(num)\n",
    "    heapq.heappush(heap, (-num, i))\n",
    "\n",
    "visit = {}\n",
    "result = []\n",
    "length = len(data)\n",
    "while True:\n",
    "    val, idx = heapq.heappop(heap)\n",
    "    visit[idx] = 1\n",
    "    result.append(idx+1)\n",
    "    visit = check(data, idx, 1, visit)\n",
    "    visit = check(data, idx, -1, visit)\n",
    "\n",
    "    if len(visit) == length:\n",
    "        break\n",
    "        \n",
    "result = sorted(result)\n",
    "print(*result, sep='\\n')"
   ]
  },
  {
   "cell_type": "markdown",
   "id": "03f0c57c",
   "metadata": {},
   "source": [
    "#### 11265. 끝나지 않는 파티"
   ]
  },
  {
   "cell_type": "code",
   "execution_count": 8,
   "id": "9a656a05",
   "metadata": {
    "collapsed": true
   },
   "outputs": [
    {
     "name": "stdout",
     "output_type": "stream",
     "text": [
      "5 10\n",
      "0 4 4 8 7\n",
      "7 0 7 7 4\n",
      "1 4 0 5 4\n",
      "5 2 2 0 7\n",
      "1 4 1 6 0\n"
     ]
    }
   ],
   "source": [
    "n, m = map(int, input().split())\n",
    "\n",
    "# Floyd–warshall\n",
    "inf = int(1e10)\n",
    "graph = [[inf] * (n) for _ in range(n)]\n",
    "for i in range(n):\n",
    "    graph[i][i] = 0\n",
    "\n",
    "for i in range(n):\n",
    "    row = list(map(int, input().split()))\n",
    "    for j, val in enumerate(row):\n",
    "        graph[i][j] = val\n",
    "\n",
    "for k in range(n):\n",
    "    for i in range(n):\n",
    "        for j in range(n):\n",
    "            graph[i][j] = min(graph[i][j], graph[i][k] + graph[k][j])\n",
    "            \n",
    "for _ in range(m):\n",
    "    i, j, hour = map(int, input().split())\n",
    "    if graph[i-1][j-1] > hour:\n",
    "        print(\"Stay here\")\n",
    "    else:\n",
    "        print(\"Enjoy other party\")"
   ]
  },
  {
   "cell_type": "code",
   "execution_count": null,
   "id": "2deab313",
   "metadata": {
    "collapsed": true
   },
   "outputs": [
    {
     "name": "stdout",
     "output_type": "stream",
     "text": [
      "5\n",
      "NYNNN\n",
      "YNYNN\n",
      "NNYNY\n",
      "NNNYN\n"
     ]
    }
   ],
   "source": [
    "def conversion(string):\n",
    "    val = 0\n",
    "    if string == 'Y':\n",
    "        val = 1\n",
    "    return val\n",
    "\n",
    "n = int(input())\n",
    "graph = [[0] * n for _ in range(n)]\n",
    "\n",
    "for i in range(n):\n",
    "    row = list(map(conversion, input()))\n",
    "    for j in range(n):\n",
    "        graph[i][j] = row[j]\n",
    "\n",
    "result = 0\n",
    "for k in range(1, n):\n",
    "    for j in range(1, n):\n",
    "        graph[0][j] = max(graph[0][j], graph[0][k] + graph[k][j])\n",
    "        result = max(result, graph[0][j])\n",
    "\n",
    "print(result)"
   ]
  },
  {
   "cell_type": "markdown",
   "id": "94901a1a",
   "metadata": {},
   "source": [
    "#### 2644. 촌수계산"
   ]
  },
  {
   "cell_type": "code",
   "execution_count": 8,
   "id": "f0e77826",
   "metadata": {
    "collapsed": true
   },
   "outputs": [
    {
     "name": "stdout",
     "output_type": "stream",
     "text": [
      "9\n",
      "7 3\n",
      "7\n",
      "1 2\n",
      "1 3\n",
      "2 7\n",
      "2 8\n",
      "2 9\n",
      "4 5\n",
      "4 6\n",
      "3\n"
     ]
    }
   ],
   "source": [
    "n = int(input())\n",
    "x, y = map(int, input().split())\n",
    "m = int(input())\n",
    "\n",
    "inf = int(1e4)\n",
    "graph = [[inf] * n for _ in range(n)]\n",
    "for i in range(n):\n",
    "    graph[i][i] = 0\n",
    "\n",
    "for _ in range(m):\n",
    "    t, f = map(int, input().split())\n",
    "    graph[f-1][t-1] = 1\n",
    "    graph[t-1][f-1] = 1\n",
    "    \n",
    "for k in range(n):\n",
    "    for i in range(n):\n",
    "        for j in range(n):\n",
    "            graph[i][j] = min(graph[i][j] , graph[i][k] + graph[k][j])\n",
    "            \n",
    "print(graph[x-1][y-1])"
   ]
  },
  {
   "cell_type": "code",
   "execution_count": null,
   "id": "c258f43c",
   "metadata": {},
   "outputs": [],
   "source": [
    "n = int(input())\n",
    "x, y = map(int, input().split())\n",
    "m = int(input())\n",
    "\n",
    "graph = [[-1] * n for _ in range(n)]\n",
    "for i in range(n):\n",
    "    graph[i][i] = 0\n",
    "\n",
    "for _ in range(m):\n",
    "    t, f = map(int, input().split())\n",
    "    graph[f-1][t-1] = 1\n",
    "    graph[t-1][f-1] = 1\n",
    "    \n",
    "for k in range(n):\n",
    "    for i in range(n):\n",
    "        if graph[i][k] > 0:\n",
    "            for j in range(i+1, n):\n",
    "                if graph[k][j] > 0:\n",
    "                    graph[i][j] = min(graph[i][j] , graph[i][k] + graph[k][j])\n",
    "                    graph[j][i] = graph[i][j]\n",
    "            \n",
    "print(graph[x-1][y-1])"
   ]
  },
  {
   "cell_type": "markdown",
   "id": "f6945754",
   "metadata": {},
   "source": [
    "#### 1260. DFS와 BFS"
   ]
  },
  {
   "cell_type": "code",
   "execution_count": 5,
   "id": "b9a4e9c1",
   "metadata": {
    "collapsed": true
   },
   "outputs": [
    {
     "name": "stdout",
     "output_type": "stream",
     "text": [
      "5 5 3\n",
      "5 4\n",
      "5 2\n",
      "1 2\n",
      "3 4\n",
      "3 1\n",
      "3 1 2 5 4 \n",
      "3 1 4 2 5 "
     ]
    }
   ],
   "source": [
    "from collections import deque\n",
    "\n",
    "def dfs(graph, v, visited):\n",
    "    visited[v] = True\n",
    "    print(v, end=' ')\n",
    "    \n",
    "    for i in graph[v]:\n",
    "        if not visited[i]:\n",
    "            dfs(graph, i, visited)\n",
    "\n",
    "def bfs(graph, start, visited):\n",
    "    visited[start] = True\n",
    "    \n",
    "    queue = deque([start])\n",
    "    while queue:\n",
    "        v = queue.popleft()\n",
    "        print(v, end=' ')\n",
    "        for i in graph[v]:\n",
    "            if not visited[i]:\n",
    "                queue.append(i)\n",
    "                visited[i] = True\n",
    "            \n",
    "n, m, v = map(int, input().split())\n",
    "graph = [[] for _ in range(n+1)]\n",
    "for _ in range(m):\n",
    "    f, t = map(int, input().split())\n",
    "    graph[f].append(t)\n",
    "    graph[t].append(f)\n",
    "    \n",
    "for g in graph:\n",
    "    g.sort()\n",
    "    \n",
    "visited = [False] * (n+1)\n",
    "dfs(graph, v, visited)\n",
    "print('')\n",
    "visited = [False] * (n+1)\n",
    "bfs(graph, v, visited)"
   ]
  },
  {
   "cell_type": "markdown",
   "id": "55b3a20b",
   "metadata": {},
   "source": [
    "#### 1389. 케빈 베이컨의 6단계 법칙"
   ]
  },
  {
   "cell_type": "code",
   "execution_count": 22,
   "id": "54ea7f02",
   "metadata": {
    "collapsed": true
   },
   "outputs": [
    {
     "name": "stdout",
     "output_type": "stream",
     "text": [
      "5 5\n",
      "1 3\n",
      "1 4\n",
      "4 5\n",
      "4 3\n",
      "3 2\n",
      "3\n"
     ]
    }
   ],
   "source": [
    "n, m = map(int, input().split())\n",
    "\n",
    "graph = [[int(1e3)] * (n+1) for _ in range(n+1)]\n",
    "for i in range(n+1):\n",
    "    graph[i][i] = 0\n",
    "\n",
    "for _ in range(m):\n",
    "    f, t = map(int, input().split())\n",
    "    graph[f][t] = 1\n",
    "    graph[t][f] = 1\n",
    "    \n",
    "for k in range(n+1):\n",
    "    for i in range(n+1):\n",
    "        for j in range(n+1):\n",
    "            graph[i][j] = min(graph[i][j], graph[i][k] + graph[k][j])\n",
    "\n",
    "result = [sum(g) for g in graph]\n",
    "print(result.index(min(result)))"
   ]
  },
  {
   "cell_type": "markdown",
   "id": "bb72b46c",
   "metadata": {},
   "source": [
    "#### 11724. 연결 요소의 개수"
   ]
  },
  {
   "cell_type": "code",
   "execution_count": 2,
   "id": "dfcd6383",
   "metadata": {
    "collapsed": true
   },
   "outputs": [
    {
     "name": "stdout",
     "output_type": "stream",
     "text": [
      "6 5\n",
      "1 2\n",
      "2 5\n",
      "5 1\n",
      "3 4\n",
      "4 6\n",
      "2\n"
     ]
    }
   ],
   "source": [
    "from collections import deque\n",
    "\n",
    "def bfs(graph, start, visited):\n",
    "    visited[start] = True\n",
    "    \n",
    "    queue = deque([start])\n",
    "    while queue:\n",
    "        v = queue.popleft()\n",
    "        for i in graph[v]:\n",
    "            if not visited[i]:\n",
    "                queue.append(i)\n",
    "                visited[i] = True\n",
    "            \n",
    "n, m = map(int, input().split())\n",
    "visited = [False] * (n + 1)\n",
    "graph = [[] for _ in range(n + 1)]\n",
    "\n",
    "for _ in range(m):\n",
    "    u, v = map(int, input().split())\n",
    "    graph[u].append(v)\n",
    "    graph[v].append(u)\n",
    "\n",
    "count = 0\n",
    "for i in range(1, n + 1):\n",
    "    if not visited[i]:\n",
    "        if not graph[i]:\n",
    "            count += 1\n",
    "            visited[i] = True\n",
    "        else:\n",
    "            bfs(graph, i, visited)\n",
    "            count += 1\n",
    "\n",
    "print(count)"
   ]
  },
  {
   "cell_type": "markdown",
   "id": "8361b546",
   "metadata": {},
   "source": [
    "#### 11725. 트리의 부모 찾기"
   ]
  },
  {
   "cell_type": "code",
   "execution_count": 9,
   "id": "77140dc7",
   "metadata": {},
   "outputs": [
    {
     "name": "stdout",
     "output_type": "stream",
     "text": [
      "7\n",
      "1 6\n",
      "6 3\n",
      "3 5\n",
      "4 1\n",
      "2 4\n",
      "4 7\n"
     ]
    }
   ],
   "source": [
    "from collections import deque\n",
    "\n",
    "def bfs(graph, start, visited):\n",
    "    queue = deque([start])\n",
    "    visited[start] = True\n",
    "    \n",
    "    while queue:\n",
    "        value = queue.popleft()\n",
    "        for i in graph[value]:\n",
    "            if not visited[i]:\n",
    "                queue.append(i)\n",
    "                visited[i] = True\n",
    "                result[i-1] = value\n",
    "\n",
    "n = int(input())\n",
    "graph = [[] for _ in range(n + 1)]\n",
    "for _ in range(n-1):\n",
    "    u, v = map(int, input().split())\n",
    "    graph[u].append(v)\n",
    "    graph[v].append(u)\n",
    "\n",
    "visited = [False] * (n + 1)\n",
    "result = [0] * n\n",
    "bfs(graph, 1, visited)\n",
    "print(*result[1:], sep='\\n')"
   ]
  },
  {
   "cell_type": "markdown",
   "id": "e374ca1b",
   "metadata": {},
   "source": [
    "#### 2667. 단지번호붙이기"
   ]
  },
  {
   "cell_type": "code",
   "execution_count": 1,
   "id": "d4388b17",
   "metadata": {},
   "outputs": [],
   "source": [
    "from collections import deque\n",
    "\n",
    "def bfs(graph, start, visited):\n",
    "    col, row = start\n",
    "    queue = deque([start])\n",
    "    visited[col][row] = True\n",
    "    \n",
    "    number = 1\n",
    "    while queue:\n",
    "        col, row = queue.popleft()\n",
    "        \n",
    "        for move in moves:\n",
    "            move_col = col + move[0]\n",
    "            move_row = row + move[1]\n",
    "            if (0 <= move_col < n) and (0 <= move_row < n):\n",
    "                if graph[col][row] == '1':\n",
    "                    if not visited[move_col][move_row]:\n",
    "                        number += 1\n",
    "                        queue.append([move_col, move_row])\n",
    "                        visited[move_col][move_row] = True\n",
    "                        \n",
    "    return number\n",
    "\n",
    "n = int(input())\n",
    "graph = [list(input()) for _ in range(n)]\n",
    "visited = [[False] * n for _ in range(n)]\n",
    "\n",
    "moves = [(0, 1), (1, 0), (0, -1), (-1, 0)]\n",
    "result = []\n",
    "cnt = 0\n",
    "for col in range(n):\n",
    "    for row in range(n):\n",
    "        if graph[col][row] != '0':\n",
    "            if not visited[col][row]:\n",
    "                cnt += 1\n",
    "                result.append(bfs(graph, [col, row], visited))\n",
    "\n",
    "print(cnt)\n",
    "print(*result, sep='\\n')"
   ]
  },
  {
   "cell_type": "markdown",
   "id": "8b2d7bfe",
   "metadata": {},
   "source": [
    "#### 4963. 섬의 개수"
   ]
  },
  {
   "cell_type": "code",
   "execution_count": null,
   "id": "d050ce07",
   "metadata": {},
   "outputs": [],
   "source": [
    "from collections import deque\n",
    "\n",
    "moves = [(0, 1), (1, 0), (0, -1), (-1, 0), (-1, 1), (1, -1), (-1, -1), (1, 1)]\n",
    "\n",
    "def bfs(graph, start, visited):\n",
    "    queue = deque([start])\n",
    "    col, row = start\n",
    "    visited[col][row] = True\n",
    "    \n",
    "    while queue:\n",
    "        col, row = queue.popleft()\n",
    "        \n",
    "        for c, r in moves:\n",
    "            move_col = col + c \n",
    "            move_row = row + r\n",
    "            if (0 <= move_col < h) and (0 <= move_row < w):\n",
    "                if graph[move_col][move_row] == 1 and not visited[move_col][move_row]:\n",
    "                    queue.append([move_col, move_row])\n",
    "                    visited[move_col][move_row] = True\n",
    "\n",
    "while True:\n",
    "    w, h = map(int, input().split())\n",
    "    if w == 0 and h == 0:\n",
    "        break\n",
    "    else:\n",
    "        graph = [list(map(int, input().split())) for _ in range(h)]\n",
    "        visited = [[False] * w for _ in range(h)]\n",
    "        \n",
    "        count = 0\n",
    "        for i in range(h):\n",
    "            for j in range(w):\n",
    "                if graph[i][j] == 1 and not visited[i][j]:\n",
    "                    bfs(graph, [i, j], visited)\n",
    "                    count += 1\n",
    "        \n",
    "        print(count)\n",
    "        "
   ]
  },
  {
   "cell_type": "markdown",
   "id": "bc6e04cb",
   "metadata": {},
   "source": [
    "#### 영역 구하기"
   ]
  },
  {
   "cell_type": "code",
   "execution_count": null,
   "id": "9f5dc5e5",
   "metadata": {},
   "outputs": [],
   "source": [
    "from collections import deque\n",
    "\n",
    "def draw_rectangle(graph, p1, p2):\n",
    "    x1, y1 = p1\n",
    "    x2, y2 = p2\n",
    "    for i in range(y1, y2):\n",
    "        for j in range(x1, x2):\n",
    "            graph[i][j] = True\n",
    "\n",
    "    return graph\n",
    "\n",
    "\n",
    "def bfs(start, visited, moves):\n",
    "    queue = deque([start])\n",
    "    c, r = start\n",
    "    visited[c][r] = True\n",
    "\n",
    "    area = 1\n",
    "    while queue:\n",
    "        c, r = queue.popleft()\n",
    "        for move in moves:\n",
    "            move_c = c + move[0]\n",
    "            move_r = r + move[1]\n",
    "            if (0 <= move_c < m) and (0 <= move_r < n):\n",
    "                if not visited[move_c][move_r]:\n",
    "                    area += 1\n",
    "                    visited[move_c][move_r] = True\n",
    "                    queue.append([move_c, move_r])\n",
    "\n",
    "    return area\n",
    "\n",
    "\n",
    "m, n, k = map(int, input().split())\n",
    "visited = [[False] * n for _ in range(m)]\n",
    "for _ in range(k):\n",
    "    x1, y1, x2, y2 = map(int, input().split())\n",
    "    visited = draw_rectangle(visited, (x1, y1), (x2, y2))\n",
    "\n",
    "moves = [(1, 0), (0, 1), (-1, 0), (0, -1)]\n",
    "count = 0\n",
    "areas = []\n",
    "for i in range(m):\n",
    "    for j in range(n):\n",
    "        if not visited[i][j]:\n",
    "            count += 1\n",
    "            areas.append(bfs(start=[i, j], visited=visited, moves=moves))\n",
    "\n",
    "print(count)\n",
    "print(*sorted(areas))"
   ]
  },
  {
   "cell_type": "markdown",
   "id": "50434fad",
   "metadata": {},
   "source": [
    "#### 2468. 안전 영역"
   ]
  },
  {
   "cell_type": "code",
   "execution_count": 16,
   "id": "b191660d",
   "metadata": {
    "collapsed": true
   },
   "outputs": [
    {
     "name": "stdout",
     "output_type": "stream",
     "text": [
      "2\n",
      "1 1\n",
      "1 1\n",
      "1\n"
     ]
    }
   ],
   "source": [
    "from collections import deque\n",
    "\n",
    "\n",
    "def bfs(graph, start, visited, height):\n",
    "    queue = deque([start])\n",
    "    col, row = start\n",
    "    visited[col][row] = True\n",
    "\n",
    "    while queue:\n",
    "        col, row = queue.popleft()\n",
    "\n",
    "        for direction in directions:\n",
    "            d_col = col + direction[0]\n",
    "            d_row = row + direction[1]\n",
    "            if (0 <= d_col < n) and (0 <= d_row < n):\n",
    "                if graph[d_col][d_row] > height:\n",
    "                    if not visited[d_col][d_row]:\n",
    "                        queue.append([d_col, d_row])\n",
    "                        visited[d_col][d_row] = True\n",
    "\n",
    "\n",
    "n = int(input())\n",
    "graph = []\n",
    "heights = set()\n",
    "for _ in range(n):\n",
    "    height = list(map(int, input().split()))\n",
    "    graph.append(height)\n",
    "    heights.update(height)\n",
    "\n",
    "counts = []\n",
    "directions = [(0, 1), (1, 0), (0, -1), (-1, 0)]\n",
    "for height in heights:\n",
    "    count = 0\n",
    "    visited = [[False] * n for _ in range(n)]\n",
    "    for c in range(n):\n",
    "        for r in range(n):\n",
    "            if graph[c][r] > height:\n",
    "                if not visited[c][r]:\n",
    "                    count += 1\n",
    "                    bfs(graph, [c, r], visited, height)\n",
    "    counts.append(count)\n",
    "\n",
    "print(max(max(counts), 1))"
   ]
  },
  {
   "cell_type": "markdown",
   "id": "a4ea5615",
   "metadata": {},
   "source": [
    "#### 1325. 효율적인 해킹"
   ]
  },
  {
   "cell_type": "code",
   "execution_count": 5,
   "id": "5d7e37f8",
   "metadata": {
    "collapsed": true
   },
   "outputs": [
    {
     "name": "stdout",
     "output_type": "stream",
     "text": [
      "5 4\n",
      "3 1\n",
      "3 2\n",
      "4 3\n",
      "5 3\n",
      "1 2\n"
     ]
    }
   ],
   "source": [
    "from collections import deque\n",
    "\n",
    "def bfs(graph, start, visited):\n",
    "    queue = deque([start])\n",
    "    visited[start] = True\n",
    "    \n",
    "    depth = 0\n",
    "    while queue:\n",
    "        node = queue.popleft()\n",
    "        \n",
    "        for i in graph[node]:\n",
    "            if not visited[i]:\n",
    "                visited[i] = True\n",
    "                queue.append(i)\n",
    "                depth += 1\n",
    "    \n",
    "    return depth\n",
    "\n",
    "n, m = map(int, input().split())\n",
    "graph = [[] for _ in range(n+1)]\n",
    "for _ in range(m):\n",
    "    u, v = map(int, input().split())\n",
    "    graph[v].append(u)\n",
    "\n",
    "result = {}\n",
    "for i in range(1, n+1):\n",
    "    visited = [False] * (n+1)\n",
    "    depth = bfs(graph, i, visited)\n",
    "    if depth in result:\n",
    "        result[depth].append(i)\n",
    "    else:\n",
    "        result[depth] = [i]\n",
    "\n",
    "print(*sorted(result[max(result)]))"
   ]
  },
  {
   "cell_type": "markdown",
   "id": "951c0e26",
   "metadata": {},
   "source": [
    "#### 11403. 경로 찾기"
   ]
  },
  {
   "cell_type": "code",
   "execution_count": 5,
   "id": "f5ee8fb5",
   "metadata": {
    "collapsed": true
   },
   "outputs": [
    {
     "name": "stdout",
     "output_type": "stream",
     "text": [
      "3\n",
      "0 1 0\n",
      "0 0 1\n",
      "1 0 0\n",
      "1 1 1\n",
      "1 1 1\n",
      "1 1 1\n"
     ]
    }
   ],
   "source": [
    "n = int(input())\n",
    "graph = [list(map(int, input().split())) for _ in range(n)]\n",
    "\n",
    "for k in range(n):\n",
    "    for i in range(n):\n",
    "        for j in range(n):\n",
    "            if graph[i][k] and graph[k][j]:\n",
    "                graph[i][j] = 1\n",
    "for row in graph:\n",
    "    print(*row)"
   ]
  },
  {
   "cell_type": "markdown",
   "id": "4e0c67b4",
   "metadata": {},
   "source": [
    "#### 10026. 적록색약"
   ]
  },
  {
   "cell_type": "code",
   "execution_count": 4,
   "id": "df0c5d78",
   "metadata": {
    "collapsed": true
   },
   "outputs": [
    {
     "name": "stdout",
     "output_type": "stream",
     "text": [
      "5\n",
      "RRRBB\n",
      "GGBBB\n",
      "BBBRR\n",
      "BBRRR\n",
      "RRRRR\n",
      "4 3\n"
     ]
    }
   ],
   "source": [
    "from collections import deque\n",
    "\n",
    "def bfs(graph, start, color, visited):\n",
    "    col, row = start\n",
    "    queue = deque([[col, row]])\n",
    "    \n",
    "    while queue:\n",
    "        col, row = queue.popleft()\n",
    "        \n",
    "        for move in moves:\n",
    "            nc = col + move[0]\n",
    "            nr = row + move[1]\n",
    "            if (0 <= nc < n) and (0 <= nr < n):\n",
    "                if not visited[nc][nr] and graph[nc][nr] == color:\n",
    "                    visited[nc][nr] = True\n",
    "                    queue.append([nc, nr])\n",
    "\n",
    "n = int(input())\n",
    "rgb_map = {'R': 'G'}\n",
    "graph1 = [[] for _ in range(n)]\n",
    "graph2 = [[] for _ in range(n)]\n",
    "for _ in range(n):\n",
    "    row = input()\n",
    "    for i, rgb in enumerate(row):\n",
    "        graph1[i].append(rgb)\n",
    "        graph2[i].append(rgb_map.get(rgb, rgb))\n",
    "        \n",
    "count1 = 0\n",
    "count2 = 0\n",
    "visited1 = [[False] * n for _ in range(n)]\n",
    "visited2 = [[False] * n for _ in range(n)]\n",
    "moves = [(0, 1) ,(1, 0) ,(0, -1) ,(-1, 0)]\n",
    "for c in range(n):\n",
    "    for r in range(n):\n",
    "        if not visited1[c][r]:\n",
    "            bfs(graph1, [c, r], graph1[c][r], visited1)\n",
    "            count1 += 1\n",
    "        if not visited2[c][r]:\n",
    "            count2 += 1\n",
    "            bfs(graph2, [c, r], graph2[c][r], visited2)\n",
    "            \n",
    "print(f'{count1} {count2}')"
   ]
  },
  {
   "cell_type": "markdown",
   "id": "0357ec9e",
   "metadata": {},
   "source": [
    "#### 1005. ACM Craft"
   ]
  },
  {
   "cell_type": "code",
   "execution_count": null,
   "id": "78dc4a28",
   "metadata": {},
   "outputs": [],
   "source": [
    "from collections import deque\n",
    "\n",
    "def bfs(graph, start, visited, times):\n",
    "    queue = deque([[start, 0]])\n",
    "    visited[start] = True\n",
    "    \n",
    "    step = 0\n",
    "    result = {i: 0 for i in range(1, len(times))}\n",
    "    while queue:\n",
    "        node, step = queue.popleft()\n",
    "        \n",
    "        for i in graph[node]:\n",
    "            if not visited[i]:\n",
    "                visited[i] = True\n",
    "                queue.append([node, step + 1])\n",
    "                if result[step + 1] < times[i-1]:\n",
    "                    result[step + 1] = times[i-1]\n",
    "    \n",
    "    return result\n",
    "\n",
    "t = int(input())\n",
    "\n",
    "for _ in range(t):\n",
    "    n, k = map(int, input().split())\n",
    "    times = list(map(int, input().split()))\n",
    "    graph = [[] for _ in range(n)]\n",
    "    for _ in range(k):\n",
    "        u, v = map(int, input().split())\n",
    "        graph[v].append(u)\n",
    "    w = int(input())\n",
    "\n",
    "    visited = [False] * (n + 1)\n",
    "    result = bfs(graph, w, visited, times)\n",
    "    print(result)"
   ]
  },
  {
   "cell_type": "code",
   "execution_count": null,
   "id": "ce876f93",
   "metadata": {},
   "outputs": [],
   "source": [
    "from collections import deque\n",
    "\n",
    "t = int(input())\n",
    "for _ in range(t):\n",
    "    n, k = map(int, input().split())\n",
    "    times = list(map(int, input().split()))\n",
    "    prev_cnt = [0]*n\n",
    "    conn = {i:[] for i in range(n)}\n",
    "    prev = {i:[] for i in range(n)}\n",
    "    poss = set(list(range(n)))\n",
    "    for _ in range(k):\n",
    "        x, y = map(int, input().split())\n",
    "        prev_cnt[y-1] += 1\n",
    "        conn[x-1].append(y-1)\n",
    "        prev[y-1].append(x-1)\n",
    "        poss.discard(y-1)\n",
    "\n",
    "    num = int(input())\n",
    "\n",
    "    poss = deque(list(poss))\n",
    "    rst = [0] * n\n",
    "    while poss:\n",
    "        building = poss.popleft()\n",
    "        time = 0\n",
    "        for b in prev[building]:\n",
    "            time = max(time, rst[b])\n",
    "        rst[building] = time + times[building]\n",
    "        if building == num-1:\n",
    "            print(rst[building])\n",
    "            break\n",
    "\n",
    "        for b in conn[building]:\n",
    "            prev_cnt[b] -= 1\n",
    "            if prev_cnt[b] == 0:\n",
    "                poss.append(b)\n"
   ]
  },
  {
   "cell_type": "markdown",
   "id": "803c502c",
   "metadata": {},
   "source": [
    "#### 17204. 죽음의 게임"
   ]
  },
  {
   "cell_type": "code",
   "execution_count": 3,
   "id": "d8c4dbcd",
   "metadata": {
    "collapsed": true
   },
   "outputs": [
    {
     "name": "stdout",
     "output_type": "stream",
     "text": [
      "6 2\n",
      "1\n",
      "3\n",
      "5\n",
      "4\n",
      "0\n",
      "2\n",
      "6\n"
     ]
    }
   ],
   "source": [
    "n, k = map(int, input().split())\n",
    "\n",
    "direction = {}\n",
    "for i in range(n):\n",
    "    direction[i] = int(input())\n",
    "\n",
    "count = 0\n",
    "loc = 0\n",
    "while count < n:\n",
    "    count += 1\n",
    "    loc = direction[loc]\n",
    "    if loc == k:\n",
    "        break\n",
    "\n",
    "if count != n:\n",
    "    print(count)\n",
    "else:\n",
    "    print(-1)"
   ]
  },
  {
   "cell_type": "markdown",
   "id": "24ffb704",
   "metadata": {},
   "source": [
    "#### 16236. 아기 상어"
   ]
  },
  {
   "cell_type": "code",
   "execution_count": null,
   "id": "245c1d52",
   "metadata": {},
   "outputs": [],
   "source": [
    "from collections import deque\n",
    "\n",
    "def bfs(graph, start, visited):\n",
    "    queue = deque([start])\n",
    "    r, c = start\n",
    "    visited[r][c] = True\n",
    "    \n",
    "    size = [2, 0]\n",
    "    while queue:\n",
    "        \n",
    "    \n",
    "n = int(input())\n",
    "\n",
    "graph = [list(map(int, input().split())) for _ in range(n)]\n",
    "\n",
    "start = None\n",
    "for i, row in enumerate(graph):\n",
    "    for j, value in enumerate(row):\n",
    "        if value == 9:\n",
    "            start = (i, j) \n",
    "            break\n",
    "\n",
    "moves = [(0, 1), (1, 0), (0, -1), (-1, 0)]\n",
    "visited = [[False] * n for _ in range(n)]\n"
   ]
  }
 ],
 "metadata": {
  "kernelspec": {
   "display_name": "Python 3 (ipykernel)",
   "language": "python",
   "name": "python3"
  },
  "language_info": {
   "codemirror_mode": {
    "name": "ipython",
    "version": 3
   },
   "file_extension": ".py",
   "mimetype": "text/x-python",
   "name": "python",
   "nbconvert_exporter": "python",
   "pygments_lexer": "ipython3",
   "version": "3.8.10"
  }
 },
 "nbformat": 4,
 "nbformat_minor": 5
}
