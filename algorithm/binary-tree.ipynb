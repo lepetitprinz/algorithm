{
 "cells": [
  {
   "cell_type": "code",
   "execution_count": 4,
   "id": "960fa92b",
   "metadata": {},
   "outputs": [],
   "source": [
    "class TreeNode:\n",
    "    def __init__(self, val=0, left=None, right=None):\n",
    "        self.val = val\n",
    "        self.left = left\n",
    "        self.right = right"
   ]
  },
  {
   "cell_type": "markdown",
   "id": "ae0fd26c",
   "metadata": {},
   "source": [
    "#### Preorder Traversal"
   ]
  },
  {
   "cell_type": "code",
   "execution_count": 5,
   "id": "100e9a99",
   "metadata": {},
   "outputs": [],
   "source": [
    "from typing import Optional, List\n",
    "\n",
    "\n",
    "def preorderTraversal(root: Optional[TreeNode]) -> List[int]:\n",
    "    def preOrder(curr):\n",
    "        if curr:\n",
    "            yield curr.val\n",
    "        for i in preOrder(curr.left):\n",
    "            yield i\n",
    "        for j in preOrder(curr.right):\n",
    "            yield j\n",
    "    \n",
    "    pre_order = preOrder(root)\n",
    "    ans = []\n",
    "    for i in pre_order:\n",
    "        ans.append(i)\n",
    "    \n",
    "    return ans\n",
    "    \n",
    "def preorderTraversal(root: Optional[TreeNode]) -> List[int]:\n",
    "    if not root: return []\n",
    "    \n",
    "    stack = [root]\n",
    "    output = []\n",
    "    \n",
    "    while stack:\n",
    "        node = stack.pop()\n",
    "        output.append(node.val)\n",
    "        \n",
    "        if node.right:\n",
    "            stack.append(node.right)\n",
    "        if node.left:\n",
    "            stack.append(node.left)\n",
    "            \n",
    "    return output"
   ]
  },
  {
   "cell_type": "markdown",
   "id": "5c17b83c",
   "metadata": {},
   "source": [
    "#### "
   ]
  },
  {
   "cell_type": "code",
   "execution_count": null,
   "id": "531bc00d",
   "metadata": {},
   "outputs": [],
   "source": [
    "def inorderTraversal(root: Optional[TreeNode]) -> List[int]:\n",
    "    res = []\n",
    "    stack = [(root, False)]\n",
    "    while stack:\n",
    "        node, visited = stack.pop()\n",
    "        if node:\n",
    "            if visited:\n",
    "                res.append(node.val)\n",
    "            else:  \n",
    "                stack.append((node.right, False))\n",
    "                stack.append((node, True))\n",
    "                stack.append((node.left, False))\n",
    "    return res\n",
    "\n",
    "def inorderTraversal(root: Optional[TreeNode]) -> List[int]:\n",
    "    st = []\n",
    "    res = []\n",
    "\n",
    "    while root or st:\n",
    "        # go to the leftmost leaf\n",
    "        while root:\n",
    "            st.append(root)\n",
    "            root = root.left\n",
    "\n",
    "        root = st.pop()\n",
    "        res.append(root.val)\n",
    "\n",
    "        # visit current root's right node\n",
    "        root = root.right\n",
    "\n",
    "    return res"
   ]
  }
 ],
 "metadata": {
  "kernelspec": {
   "display_name": "Python 3 (ipykernel)",
   "language": "python",
   "name": "python3"
  },
  "language_info": {
   "codemirror_mode": {
    "name": "ipython",
    "version": 3
   },
   "file_extension": ".py",
   "mimetype": "text/x-python",
   "name": "python",
   "nbconvert_exporter": "python",
   "pygments_lexer": "ipython3",
   "version": "3.8.16"
  }
 },
 "nbformat": 4,
 "nbformat_minor": 5
}
