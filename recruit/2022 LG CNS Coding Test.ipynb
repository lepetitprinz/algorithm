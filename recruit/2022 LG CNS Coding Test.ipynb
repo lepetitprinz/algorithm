{
 "cells": [
  {
   "cell_type": "markdown",
   "id": "1c1b37db",
   "metadata": {},
   "source": [
    "#### Problem 1"
   ]
  },
  {
   "cell_type": "code",
   "execution_count": null,
   "id": "b583a23c",
   "metadata": {},
   "outputs": [],
   "source": [
    "from copy import deepcopy\n",
    "from itertools import combinations\n",
    "\n",
    "def solution(marbles):\n",
    "    length = len(marbles)\n",
    "    \n",
    "    # choose the number list\n",
    "    result = []\n",
    "    for i in range(length, 0, -1):\n",
    "        for candidate in combinations(marbles, i):\n",
    "            min_diff = search_min_difference(n, candidate):\n",
    "            result.append(min_diff)\n",
    "            \n",
    "    print('!')\n",
    "            \n",
    "def search_min_difference(n, candidate):\n",
    "    if n % 2 == 0:\n",
    "        min_diff = cal_differnce(n // 2, sum(n) / 2, candidate)\n",
    "    else:\n",
    "        min_diff = cal_differnce_odd(n, candidate):\n",
    "    \n",
    "    return min_diff\n",
    "        \n",
    "        \n",
    "def cal_differnce(n, mid, candidate):\n",
    "    result = None\n",
    "    min_diff = sum(candidate)\n",
    "    for c in combinations(candidate, n):\n",
    "        diff = abs(sum(c) - mid)\n",
    "        if diff == 0:\n",
    "            result = [min_diff, c]\n",
    "            break\n",
    "        \n",
    "        if diff < min_diff:\n",
    "            min_diff = diff\n",
    "            result = [min_diff, c]\n",
    "\n",
    "    return result\n",
    "\n",
    "def cal_differnce_odd(n, candidate):\n",
    "    candidate = sorted(candidate)\n",
    "    \n",
    "    result = []\n",
    "    for num in candidate:\n",
    "        cand_copy = deepcopy(candidate)\n",
    "        cand_copy.remove(num)\n",
    "        min_diff = cal_differnce(n - 1, sum(cand_copy) / 2, cand_copy)\n",
    "        min_diff.append(num)\n",
    "        result.append(min_diff)\n",
    "    \n",
    "    result = sorted(result, key=lambda x: (x[0], x[2]))[0]\n",
    "    \n",
    "    return result[:-1]"
   ]
  }
 ],
 "metadata": {
  "kernelspec": {
   "display_name": "Python 3 (ipykernel)",
   "language": "python",
   "name": "python3"
  },
  "language_info": {
   "codemirror_mode": {
    "name": "ipython",
    "version": 3
   },
   "file_extension": ".py",
   "mimetype": "text/x-python",
   "name": "python",
   "nbconvert_exporter": "python",
   "pygments_lexer": "ipython3",
   "version": "3.8.15"
  }
 },
 "nbformat": 4,
 "nbformat_minor": 5
}
