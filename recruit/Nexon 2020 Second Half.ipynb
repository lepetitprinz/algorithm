{
 "cells": [
  {
   "cell_type": "markdown",
   "id": "ece30643",
   "metadata": {},
   "source": [
    "#### Nexon"
   ]
  },
  {
   "cell_type": "markdown",
   "id": "5899d1cb",
   "metadata": {},
   "source": [
    "#### 2. String Search"
   ]
  },
  {
   "cell_type": "code",
   "execution_count": 70,
   "id": "72646de3",
   "metadata": {},
   "outputs": [],
   "source": [
    "from copy import deepcopy\n",
    "\n",
    "def getMaximumRemovals(order, source, target):\n",
    "    count = 0\n",
    "    order_alpha = {i + 1: alpha for i, alpha in enumerate(source)}\n",
    "    status = {}\n",
    "    for i, s in enumerate(source):\n",
    "        if s in status:\n",
    "            status[s].add(i+1)\n",
    "        else:\n",
    "            status[s] = set([i + 1])\n",
    "    \n",
    "    for o in order:\n",
    "        # remove index number\n",
    "        status[order_alpha[o]].remove(o)\n",
    "        # Check the subsequence\n",
    "        if search_sequence(status, target):\n",
    "            count += 1\n",
    "        else:\n",
    "            return count\n",
    "        \n",
    "    return count\n",
    "        \n",
    "def search_sequence(status, target):\n",
    "    status = deepcopy(status)\n",
    "    \n",
    "    t = target[0]\n",
    "    idx = status[t]\n",
    "    if len(idx) :\n",
    "        idx = list(idx)[0]\n",
    "        status[t].remove(idx)\n",
    "        \n",
    "        for t in target[1:]:\n",
    "            t_idx_list = status.get(t, None)\n",
    "            if t is None:\n",
    "                return False\n",
    "            else:\n",
    "                flag = False\n",
    "                for t_idx in t_idx_list:\n",
    "                    if t_idx < idx:\n",
    "                        status[t].remove(t_idx)\n",
    "                    else:\n",
    "                        idx = t_idx\n",
    "                        flag = True\n",
    "                        break\n",
    "                if not flag:\n",
    "                    return False\n",
    "                \n",
    "    else:\n",
    "        return False\n",
    "        \n",
    "    return True"
   ]
  },
  {
   "cell_type": "code",
   "execution_count": 71,
   "id": "e1bdd515",
   "metadata": {},
   "outputs": [],
   "source": [
    "order1 = [7, 1, 2, 5, 4, 3]\n",
    "source1 = 'abbabaa'\n",
    "target1 = 'bb'\n",
    "\n",
    "order2 = [1, 4, 2, 3, 5]\n",
    "source2 = 'hkbdi'\n",
    "target2 = 'kd'\n",
    "\n",
    "order3 = [1, 2, 3, 4]\n",
    "source3 = 'abcd'\n",
    "target3 = 'abcd'"
   ]
  },
  {
   "cell_type": "code",
   "execution_count": 72,
   "id": "bfe43d4a",
   "metadata": {},
   "outputs": [
    {
     "name": "stdout",
     "output_type": "stream",
     "text": [
      "3\n"
     ]
    }
   ],
   "source": [
    "result = getMaximumRemovals(order1, source1, target1)\n",
    "print(result)"
   ]
  },
  {
   "cell_type": "code",
   "execution_count": 73,
   "id": "9fe75ef2",
   "metadata": {
    "scrolled": true
   },
   "outputs": [
    {
     "name": "stdout",
     "output_type": "stream",
     "text": [
      "1\n"
     ]
    }
   ],
   "source": [
    "result = getMaximumRemovals(order2, source2, target2)\n",
    "print(result)"
   ]
  },
  {
   "cell_type": "code",
   "execution_count": 74,
   "id": "e2ce3056",
   "metadata": {
    "scrolled": false
   },
   "outputs": [
    {
     "name": "stdout",
     "output_type": "stream",
     "text": [
      "0\n"
     ]
    }
   ],
   "source": [
    "result = getMaximumRemovals(order3, source3, target3)\n",
    "print(result)"
   ]
  },
  {
   "cell_type": "markdown",
   "id": "a72cb39d",
   "metadata": {},
   "source": [
    "#### 3"
   ]
  },
  {
   "cell_type": "code",
   "execution_count": 75,
   "id": "11ddce9e",
   "metadata": {},
   "outputs": [],
   "source": [
    "def binary_search(start, end, players, new):\n",
    "    half = (start + end) // 2\n",
    "    if start == end:\n",
    "        players.insert(half, new)\n",
    "    else:\n",
    "        if half == start:\n",
    "            if players[half] >= new:\n",
    "                players.insert(half+1, new)\n",
    "            else:\n",
    "                players.insert(half, new)\n",
    "        else:\n",
    "            if players[half] < new:\n",
    "                players = binary_search(start, half, players, new)\n",
    "            elif players[half] > new:\n",
    "                players = binary_search(half + 1, end, players, new)\n",
    "            else:\n",
    "                players.insert(half, new)\n",
    "\n",
    "    return players\n",
    "\n",
    "\n",
    "def getMinimumHealth(initial_players, new_players, rank):\n",
    "    # Write your code here\n",
    "    players = sorted(initial_players, reverse=True)\n",
    "\n",
    "    strength = players[rank-1]\n",
    "    health = strength\n",
    "    for i, player in enumerate(new_players):\n",
    "        if player > strength:\n",
    "            players = binary_search(0, rank, players, player)\n",
    "            strength = players[rank - 1]\n",
    "        health += strength\n",
    "\n",
    "    return health"
   ]
  },
  {
   "cell_type": "markdown",
   "id": "f4088d7c",
   "metadata": {},
   "source": [
    "#### 5. Two junctions"
   ]
  },
  {
   "cell_type": "code",
   "execution_count": 18,
   "id": "f5da7a96",
   "metadata": {},
   "outputs": [],
   "source": [
    "from heapq import heappush, heappop\n",
    "\n",
    "INF = int(1e9)\n",
    "\n",
    "def minCostPath(g_nodes, g_edges, g_from, g_to, g_weight, x, y):\n",
    "    graph = set_graph(g_nodes, g_from, g_to, g_weight)\n",
    "    \n",
    "    result = 0\n",
    "    for start, end in [(1, x), (x, y), (y, g_nodes)]:\n",
    "        distance = [INF] * (g_nodes + 1)\n",
    "        result += dijkstra(graph, start, end, distance)\n",
    "        \n",
    "    return result\n",
    "    \n",
    "def set_graph(g_nodes, g_from, g_to, g_weight):\n",
    "    graph = [[] for _ in range(g_nodes + 1)]\n",
    "    for u, v, c in zip(g_from, g_to, g_weight):\n",
    "        graph[u].append((v, c))\n",
    "        graph[v].append((u, c))\n",
    "    \n",
    "    return graph\n",
    "\n",
    "def dijkstra(graph, start, end, distance):\n",
    "    queue = []\n",
    "    heappush(queue, (0, start))\n",
    "    distance[start] = 0\n",
    "    while queue:\n",
    "        dist, now = heappop(queue)\n",
    "        if distance[now] < dist:\n",
    "            continue\n",
    "        for i in graph[now]:\n",
    "            cost = dist + i[1]\n",
    "            if cost < distance[i[0]]:\n",
    "                distance[i[0]] = cost\n",
    "                heappush(queue, (cost, i[0]))\n",
    "                \n",
    "    return distance[end]"
   ]
  },
  {
   "cell_type": "code",
   "execution_count": 19,
   "id": "0c0e8519",
   "metadata": {},
   "outputs": [],
   "source": [
    "g_nodes, g_edges = (4, 5)\n",
    "g_from = [1, 1, 2, 2, 3]\n",
    "g_to = [2, 4, 4, 3, 4]\n",
    "g_weight = [6, 9, 10, 6, 11]\n",
    "x = 2\n",
    "y = 3"
   ]
  },
  {
   "cell_type": "code",
   "execution_count": 20,
   "id": "981469cf",
   "metadata": {
    "scrolled": true
   },
   "outputs": [
    {
     "name": "stdout",
     "output_type": "stream",
     "text": [
      "23\n"
     ]
    }
   ],
   "source": [
    "answer = minCostPath(g_nodes, g_edges, g_from, g_to, g_weight, x, y)\n",
    "print(answer)"
   ]
  },
  {
   "cell_type": "markdown",
   "id": "c68524bf",
   "metadata": {},
   "source": [
    "#### 6. REST API: Country Codes"
   ]
  },
  {
   "cell_type": "code",
   "execution_count": 39,
   "id": "ca4ac6d8",
   "metadata": {},
   "outputs": [],
   "source": [
    "import requests\n",
    "\n",
    "base_url = 'https://jsonmock.hackerrank.com/api/countries?name='\n",
    "\n",
    "def getPhoneNumbers(country, PhoneNumber):\n",
    "    url = base_url + country\n",
    "    json = get_json(url)\n",
    "    calling_code = get_calling_codes(json)\n",
    "    \n",
    "    result = ''\n",
    "    if calling_code == '-1':\n",
    "        result = '-1'\n",
    "    else:\n",
    "        result = '+' + calling_code + ' ' + PhoneNumber\n",
    "        \n",
    "    return result\n",
    "    \n",
    "def get_json(url, data={}):\n",
    "    response = requests.get(url)\n",
    "    \n",
    "    return response.json()\n",
    "\n",
    "def get_calling_codes(json):\n",
    "    data = json['data']\n",
    "    if len(data) > 0:\n",
    "        calling_codes = data[0]['callingCodes'][0]\n",
    "    else:\n",
    "        calling_codes = '-1'\n",
    "        \n",
    "    return calling_codes"
   ]
  },
  {
   "cell_type": "code",
   "execution_count": 40,
   "id": "e1edea34",
   "metadata": {},
   "outputs": [],
   "source": [
    "country1 = 'Afghanistan'\n",
    "PhoneNumber1 = '656445445'\n",
    "\n",
    "country2 = 'Oceania'\n",
    "PhoneNumber2 = '987574876'"
   ]
  },
  {
   "cell_type": "code",
   "execution_count": 41,
   "id": "abab850f",
   "metadata": {},
   "outputs": [
    {
     "name": "stdout",
     "output_type": "stream",
     "text": [
      "-1\n"
     ]
    }
   ],
   "source": [
    "result = getPhoneNumbers(country2, PhoneNumber2)\n",
    "print(result)"
   ]
  },
  {
   "cell_type": "code",
   "execution_count": 76,
   "id": "947b951e",
   "metadata": {},
   "outputs": [],
   "source": [
    "for t in set([]):\n",
    "    print('!')"
   ]
  },
  {
   "cell_type": "code",
   "execution_count": null,
   "id": "ed6b4797",
   "metadata": {},
   "outputs": [],
   "source": []
  }
 ],
 "metadata": {
  "kernelspec": {
   "display_name": "Python 3 (ipykernel)",
   "language": "python",
   "name": "python3"
  },
  "language_info": {
   "codemirror_mode": {
    "name": "ipython",
    "version": 3
   },
   "file_extension": ".py",
   "mimetype": "text/x-python",
   "name": "python",
   "nbconvert_exporter": "python",
   "pygments_lexer": "ipython3",
   "version": "3.8.10"
  }
 },
 "nbformat": 4,
 "nbformat_minor": 5
}
