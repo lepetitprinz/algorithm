{
 "cells": [
  {
   "cell_type": "code",
   "execution_count": 7,
   "id": "2799f228",
   "metadata": {},
   "outputs": [],
   "source": [
    "from math import ceil\n",
    "\n",
    "def solution(n, box):\n",
    "    result = 10 ** 9\n",
    "    max_val = max(box)\n",
    "    total = sum(box)\n",
    "    if box[0] == max_val:\n",
    "        result = box[0]\n",
    "    else:\n",
    "        avg = ceil(total / n)\n",
    "        for i in range(n - 1, 0, -1):\n",
    "            val = box[i]\n",
    "            if val < avg:\n",
    "                total -= i\n",
    "                avg = ceil(total / i)\n",
    "            else:\n",
    "                diff = val - avg\n",
    "                box[i] -= diff\n",
    "                box[i - 1] += diff\n",
    "    \n",
    "    return max(box)"
   ]
  },
  {
   "cell_type": "code",
   "execution_count": 8,
   "id": "2a3a9c3d",
   "metadata": {},
   "outputs": [
    {
     "name": "stdout",
     "output_type": "stream",
     "text": [
      "5\n"
     ]
    }
   ],
   "source": [
    "result = solution(4, [1, 5, 7, 6])\n",
    "print(result)"
   ]
  },
  {
   "cell_type": "code",
   "execution_count": null,
   "id": "8694d76e",
   "metadata": {},
   "outputs": [],
   "source": []
  }
 ],
 "metadata": {
  "kernelspec": {
   "display_name": "Python 3 (ipykernel)",
   "language": "python",
   "name": "python3"
  },
  "language_info": {
   "codemirror_mode": {
    "name": "ipython",
    "version": 3
   },
   "file_extension": ".py",
   "mimetype": "text/x-python",
   "name": "python",
   "nbconvert_exporter": "python",
   "pygments_lexer": "ipython3",
   "version": "3.8.10"
  }
 },
 "nbformat": 4,
 "nbformat_minor": 5
}
