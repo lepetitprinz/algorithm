{
 "cells": [
  {
   "cell_type": "markdown",
   "id": "303e1e03",
   "metadata": {},
   "source": [
    "### Problem 2"
   ]
  },
  {
   "cell_type": "code",
   "execution_count": null,
   "id": "8b71043a",
   "metadata": {},
   "outputs": [],
   "source": [
    "def solution(periods, payments, estimates):\n",
    "    answer = [0, 0]\n",
    "    members_grade = {i: False for i in range(len(periods))}\n",
    "    payments = [payments[i] + [estimates[i]] for i in range(len(periods))]\n",
    "\n",
    "    for i in range(2):\n",
    "        for j in range(len(periods)):\n",
    "            total_payment = sum(payments[j][i: i+12])\n",
    "            period = periods[j] + i\n",
    "\n",
    "            if (period >= 60 and total_payment >= 600000) or (period >= 24 and total_payment >= 900000):\n",
    "                if i == 1:\n",
    "                    if members_grade[j]:\n",
    "                        continue\n",
    "                    else:\n",
    "                        answer[0] += 1\n",
    "                members_grade[j] = True\n",
    "        \n",
    "            else:\n",
    "                if i == 1:\n",
    "                    if members_grade[j]:\n",
    "                        answer[1] += 1\n",
    "                members_grade[j] = False\n",
    "                \n",
    "    return answer"
   ]
  },
  {
   "cell_type": "markdown",
   "id": "6cf9fe38",
   "metadata": {},
   "source": [
    "### Problem 3"
   ]
  },
  {
   "cell_type": "code",
   "execution_count": null,
   "id": "29a80ca3",
   "metadata": {},
   "outputs": [],
   "source": [
    "def solution(n, plans, clients):\n",
    "    price_list, price_map, serve_map = prep_plan(plans)\n",
    "    \n",
    "    result = []\n",
    "    for client in clients:\n",
    "        info = client.split()\n",
    "        price = info[0]\n",
    "        service = info[1:]\n",
    "        result.append(recommend(\n",
    "            price, service, price_list, price_map, serve_map\n",
    "        ))\n",
    "    \n",
    "    return result\n",
    "    \n",
    "def prep_plan(plans):\n",
    "    price_list = []\n",
    "    price_map = {}\n",
    "    serve_map = {}\n",
    "    \n",
    "    # Make plan dataset\n",
    "    for i, plan in enumerate(plans):\n",
    "        plan_split = plan.split()\n",
    "        price = plan_split[0]\n",
    "        services = plan_split[1:]\n",
    "        \n",
    "        price_list.append(price)\n",
    "        price_map[price] = i\n",
    "        for service in services:\n",
    "            serve_map[service] = i\n",
    "            \n",
    "    return price_list, price_map, serve_map\n",
    "            \n",
    "def recommend(price, service, price_list, price_map, serve_map):\n",
    "    try:\n",
    "        serve_idx = max([serve_map[s] for s in service])\n",
    "        price_idx = price_map[serve_idx]\n",
    "        \n",
    "    except:\n",
    "        return 0\n",
    "    "
   ]
  },
  {
   "cell_type": "code",
   "execution_count": null,
   "id": "eca5030e",
   "metadata": {},
   "outputs": [],
   "source": [
    "n = 5\n",
    "plans = [\"100 1 3\", \"500 4\", \"2000 5\"]\n",
    "clients = [\"300 3 5\", \"1500 1\", \"100 1 3\", \"50 1 2\"]"
   ]
  },
  {
   "cell_type": "markdown",
   "id": "58c75f83",
   "metadata": {},
   "source": [
    "### Problem 4"
   ]
  },
  {
   "cell_type": "code",
   "execution_count": null,
   "id": "060b4a5b",
   "metadata": {},
   "outputs": [],
   "source": [
    "from collections import deque\n",
    "\n",
    "def solution(grids, k):\n",
    "    n, m = len(grid), len(grid[0])\n",
    "    visited = [[0 for _ in range(m)] for _ in range(n)]\n",
    "        \n",
    "    dx = [-1, 1, 0, 0]\n",
    "    dy = [0, 0, -1, 1]\n",
    "    \n",
    "    # Initialize\n",
    "    queue = deque()\n",
    "    q.append([0] * 5)\n",
    "    visited[0][0] = 1\n",
    "    rest_day = n * m\n",
    "    \n",
    "    while queue:\n",
    "        x, y, "
   ]
  },
  {
   "cell_type": "markdown",
   "id": "1fd10daf",
   "metadata": {},
   "source": [
    "### Problem 4"
   ]
  },
  {
   "cell_type": "code",
   "execution_count": null,
   "id": "cad44246",
   "metadata": {},
   "outputs": [],
   "source": [
    "from collections import deque\n",
    "\n",
    "moves = [(-1,0), (1,0), (0,-1), (0,1)]\n",
    "\n",
    "def solution(grid, k):\n",
    "    n, m = len(grid), len(grid[0])\n",
    "    visited = [[0 for _ in range(m)] for _ in range(n)]\n",
    "\n",
    "    q = deque()\n",
    "    q.append((0,0,0,0,0))\n",
    "    visited[0][0] = 1\n",
    "    min_days = n * m\n",
    "\n",
    "    while q:\n",
    "        x, y, cnt, days, mountain_cnt = q.popleft()\n",
    "        if x == n-1 and y == m-1:\n",
    "            if cnt == mountain_cnt:\n",
    "                min_days = min(min_days, days- 1)\n",
    "            else:\n",
    "                min_days = min(min_days, days)\n",
    "\n",
    "        for move in moves:\n",
    "            move_x = x + move[0]\n",
    "            move_y = y + move[1]\n",
    "\n",
    "            if move_x < 0 or move_x >= n or move_y < 0 or move_y >= m:\n",
    "                continue\n",
    "\n",
    "            else:\n",
    "                grid_state = grid[move_x][move_y]\n",
    "                if grid_state == '#':\n",
    "                    continue\n",
    "                    \n",
    "                elif grid_state == 'F':\n",
    "                    if visited[move_x][move_y] == 0:\n",
    "                        if mountain_cnt == k - 1:\n",
    "                            continue\n",
    "\n",
    "                        else:\n",
    "                            if cnt == k - 1:\n",
    "                                mountain_cnt -= 1\n",
    "                                cnt = mountain_cnt\n",
    "                                days += 1\n",
    "\n",
    "                        q.append((move_x, move_y, cnt + 1, days, mountain_cnt + 1))\n",
    "                        visited[move_x][move_y] = 1\n",
    "                else:\n",
    "                    if visited[move_x][move_y] == 0:\n",
    "                        if cnt == k:\n",
    "                            days += 1\n",
    "                            cnt = 0\n",
    "                        q.append((move_x, move_y, cnt + 1, days, mountain_cnt))\n",
    "                        visited[move_x][move_y] = 1\n",
    "\n",
    "    return min_days\n"
   ]
  }
 ],
 "metadata": {
  "kernelspec": {
   "display_name": "Python 3 (ipykernel)",
   "language": "python",
   "name": "python3"
  },
  "language_info": {
   "codemirror_mode": {
    "name": "ipython",
    "version": 3
   },
   "file_extension": ".py",
   "mimetype": "text/x-python",
   "name": "python",
   "nbconvert_exporter": "python",
   "pygments_lexer": "ipython3",
   "version": "3.8.10"
  }
 },
 "nbformat": 4,
 "nbformat_minor": 5
}
