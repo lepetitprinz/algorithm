{
 "cells": [
  {
   "cell_type": "code",
   "execution_count": 160,
   "id": "26b57d56",
   "metadata": {},
   "outputs": [],
   "source": [
    "import numpy as np\n",
    "import datetime as dt"
   ]
  },
  {
   "cell_type": "code",
   "execution_count": 182,
   "id": "d22e4d99",
   "metadata": {},
   "outputs": [],
   "source": [
    "alp = 10\n",
    "cop = 10\n",
    "problems = [[10,15,2,1,2], [20,20,3,3,4]]"
   ]
  },
  {
   "cell_type": "code",
   "execution_count": 183,
   "id": "e9ad585a",
   "metadata": {},
   "outputs": [],
   "source": [
    "def problem3(alp, cop, problems):\n",
    "    problems = add_total_power(problems)\n",
    "    problems = sorted(problems, key=lambda x: x[-1])\n",
    "    \n",
    "    solved = []\n",
    "    time = 0\n",
    "    while problems:\n",
    "        solvable = check_solve_prob(alp, cop, problems)\n",
    "        if solvable:\n",
    "            for problem in solvable:\n",
    "                problems.remove(problem)\n",
    "                solved.append(problem)\n",
    "                alp, cop, time = solve_problem(alp, cop, time, problem)\n",
    "        else:\n",
    "            if len(solved) == 0:\n",
    "                alp, cop, time = increase_power(alp, cop, problems[0], time)\n",
    "            else:\n",
    "                choose, next_problem, solved_best = decide_solve_or_increase(alp, cop, solved, problems)\n",
    "                if choose == 'solve':\n",
    "                    problems.remove(next_problem)\n",
    "                    solved.append(next_problem)\n",
    "                    alp, cop, time = solve_problem(alp, cop, time, solved_best)\n",
    "                else:\n",
    "                    increase_power(alp, cop, next_problem, time)\n",
    "                    \n",
    "    return time"
   ]
  },
  {
   "cell_type": "code",
   "execution_count": 184,
   "id": "a0515734",
   "metadata": {},
   "outputs": [],
   "source": [
    "def decide_solve_or_increase(alp, cop, solved, problems):\n",
    "    next_problem, diff_alp, diff_cop = choose_next_problem(alp, cop, problems)\n",
    "    solved_best = choose_best_solved(diff_alp, diff_cop, solved)\n",
    "    choose = compare_solve_increase(diff_alp, diff_cop, solved_best)\n",
    "    \n",
    "    return choose, next_problem, solved_best"
   ]
  },
  {
   "cell_type": "code",
   "execution_count": 185,
   "id": "32250a12",
   "metadata": {},
   "outputs": [],
   "source": [
    "def compare_solve_increase(diff_alp, diff_cop, solved_best):\n",
    "    choose = ''\n",
    "    alp_gap = max(diff_alp - solved_best[0], 0)\n",
    "    cop_gap = max(diff_cop - solved_best[1], 0)\n",
    "    \n",
    "    if solved_best[4] <= (diff_alp+diff_cop-alp_gap-cop_gap):\n",
    "        choose = 'solve'\n",
    "    else:\n",
    "        choose = 'increase'\n",
    "    \n",
    "    return choose"
   ]
  },
  {
   "cell_type": "code",
   "execution_count": 186,
   "id": "f5ebbc92",
   "metadata": {},
   "outputs": [],
   "source": [
    "def choose_best_solved(diff_alp, diff_cop, solved):\n",
    "    best = []\n",
    "    for i, s in enumerate(solved):\n",
    "        diff = diff_alp - s[0] + diff_cop - s[1]\n",
    "        best.append([i, diff])\n",
    "    best = sorted(best, key=lambda x: x[1])[0]\n",
    "    \n",
    "    return solved[best[0]]"
   ]
  },
  {
   "cell_type": "code",
   "execution_count": 198,
   "id": "5c949858",
   "metadata": {},
   "outputs": [],
   "source": [
    "def choose_next_problem(alp, cop, problems):\n",
    "    ability_diff = []\n",
    "    for i, prob in enumerate(problems):\n",
    "        diff_alp = max(prob[0] - alp, 0)\n",
    "        diff_cop = max(prob[1] - cop, 0)\n",
    "        diff_sum = diff_alp + diff_cop\n",
    "        ability_diff.append([diff_alp, diff_cop, diff_sum, i])\n",
    "    next_problem = sorted(ability_diff, key=lambda x: x[2], reverse=True)[0]\n",
    "\n",
    "    return problems[next_problem[3]], next_problem[0], next_problem[1]"
   ]
  },
  {
   "cell_type": "code",
   "execution_count": 199,
   "id": "634d1e41",
   "metadata": {},
   "outputs": [],
   "source": [
    "def increase_power(alp, cop, problem, time):\n",
    "    alp_need = problem[0] - alp\n",
    "    cop_need = problem[1] - cop\n",
    "    time = time + alp_need + cop_need\n",
    "    \n",
    "    return problem[0], problem[1], time"
   ]
  },
  {
   "cell_type": "code",
   "execution_count": 200,
   "id": "3952c8c6",
   "metadata": {},
   "outputs": [],
   "source": [
    "def solve_problem(alp, cop, time, problem):\n",
    "    alp += problem[2]\n",
    "    cop += problem[3]\n",
    "    time += problem[4]\n",
    "    \n",
    "    return alp, cop, time"
   ]
  },
  {
   "cell_type": "code",
   "execution_count": 201,
   "id": "033cb2c1",
   "metadata": {},
   "outputs": [],
   "source": [
    "def check_solve_prob(alp, cop, problems):\n",
    "    solvable = []\n",
    "    for problem in problems:\n",
    "        if (alp >= problem[0]) and (cop >= problem[1]):\n",
    "            solvable.append(problem)\n",
    "    \n",
    "    return solvable"
   ]
  },
  {
   "cell_type": "code",
   "execution_count": 202,
   "id": "c723c205",
   "metadata": {},
   "outputs": [],
   "source": [
    "def add_total_power(problems):\n",
    "    for problem in problems:\n",
    "        problem.append(problem[0] + problem[1])\n",
    "        \n",
    "    return problems"
   ]
  },
  {
   "cell_type": "code",
   "execution_count": 203,
   "id": "084905a6",
   "metadata": {},
   "outputs": [
    {
     "data": {
      "text/plain": [
       "9"
      ]
     },
     "execution_count": 203,
     "metadata": {},
     "output_type": "execute_result"
    }
   ],
   "source": [
    "problem3(alp, cop, problems)"
   ]
  },
  {
   "cell_type": "code",
   "execution_count": null,
   "id": "571a10ae",
   "metadata": {},
   "outputs": [],
   "source": []
  },
  {
   "cell_type": "code",
   "execution_count": null,
   "id": "a5e22ab1",
   "metadata": {},
   "outputs": [],
   "source": []
  },
  {
   "cell_type": "code",
   "execution_count": null,
   "id": "e702aaf6",
   "metadata": {},
   "outputs": [],
   "source": []
  },
  {
   "cell_type": "code",
   "execution_count": null,
   "id": "d5b6de65",
   "metadata": {},
   "outputs": [],
   "source": []
  },
  {
   "cell_type": "markdown",
   "id": "8297467b",
   "metadata": {},
   "source": [
    "#### Problem 5"
   ]
  },
  {
   "cell_type": "code",
   "execution_count": 40,
   "id": "2488a270",
   "metadata": {},
   "outputs": [],
   "source": [
    "rc1 = [[1,2,3], [4,5,6], [7,8,9]]\n",
    "operations1 = ['Rotate', 'ShiftRow']\n",
    "\n",
    "rc2 = [[1,2,3,4], [5,6,7,8], [9,10,11,12]]\n",
    "operations2 = ['ShiftRow', 'Rotate', 'ShiftRow', 'Rotate']"
   ]
  },
  {
   "cell_type": "code",
   "execution_count": 109,
   "id": "a85501fc",
   "metadata": {},
   "outputs": [],
   "source": [
    "def problem5(rc, operations):\n",
    "    for operation in operations:\n",
    "        if operation == 'Rotate':\n",
    "            rc = rotate(rc)\n",
    "        else:\n",
    "            rc = shift(rc)\n",
    "            \n",
    "    return rc\n",
    "\n",
    "def shift(rc):\n",
    "    rc_new = []\n",
    "    rc_new.append(rc[-1])\n",
    "    rc_new.extend(rc[:-1])\n",
    "    \n",
    "    return rc_new\n",
    "\n",
    "def rotate(rc):\n",
    "    arr = np.array(rc)\n",
    "    first_row = arr[0, :-1].copy()\n",
    "    last_row = arr[-1, 1:].copy()\n",
    "    first_col = arr[1:, 0].copy()\n",
    "    last_col = arr[:-1, -1].copy()\n",
    "    \n",
    "    arr[0, 1:] = first_row\n",
    "    arr[-1, :-1] = last_row\n",
    "    arr[:-1, 0] = first_col\n",
    "    arr[1:, -1] = last_col\n",
    "    \n",
    "    return arr.tolist()"
   ]
  },
  {
   "cell_type": "code",
   "execution_count": 110,
   "id": "b934bbc8",
   "metadata": {},
   "outputs": [
    {
     "data": {
      "text/plain": [
       "[[8, 9, 6], [4, 1, 2], [7, 5, 3]]"
      ]
     },
     "execution_count": 110,
     "metadata": {},
     "output_type": "execute_result"
    }
   ],
   "source": [
    "problem5(rc1, operations1)"
   ]
  },
  {
   "cell_type": "code",
   "execution_count": 111,
   "id": "f3fd6989",
   "metadata": {},
   "outputs": [
    {
     "name": "stdout",
     "output_type": "stream",
     "text": [
      "[[1, 6, 7, 8], [5, 9, 10, 4], [2, 3, 12, 11]] 0:00:00.000680\n"
     ]
    }
   ],
   "source": [
    "start = dt.datetime.now()\n",
    "result = problem5(rc2, operations2)\n",
    "end = dt.datetime.now()\n",
    "\n",
    "print(result, end-start)"
   ]
  },
  {
   "cell_type": "code",
   "execution_count": 122,
   "id": "9510d9f0",
   "metadata": {},
   "outputs": [],
   "source": [
    "from collections import deque\n",
    "\n",
    "def problem2(queue1, queue2):\n",
    "    queue = queue1 + queue2\n",
    "    total = sum(queue)\n",
    "    if total % 2 != 0:\n",
    "        return -1\n",
    "\n",
    "    half = int(total / 2)\n",
    "    q = deque(queue)\n",
    "\n",
    "    elem_sum = 0\n",
    "    cnt = 0\n",
    "    tmp = deque()\n",
    "    for i in range(len(q)):\n",
    "        if i >= len(queue1):\n",
    "            cnt += 1\n",
    "        elem = q.popleft()\n",
    "        tmp.append(elem)\n",
    "        elem_sum += elem\n",
    "        while elem_sum > half:\n",
    "            move_elem = tmp.popleft()\n",
    "            elem_sum -= move_elem\n",
    "            q.append(move_elem)\n",
    "            cnt += 1\n",
    "\n",
    "        if elem_sum == half:\n",
    "            return cnt\n",
    "\n",
    "    return -1"
   ]
  },
  {
   "cell_type": "code",
   "execution_count": null,
   "id": "a8730dff",
   "metadata": {},
   "outputs": [],
   "source": []
  }
 ],
 "metadata": {
  "kernelspec": {
   "display_name": "Python 3 (ipykernel)",
   "language": "python",
   "name": "python3"
  },
  "language_info": {
   "codemirror_mode": {
    "name": "ipython",
    "version": 3
   },
   "file_extension": ".py",
   "mimetype": "text/x-python",
   "name": "python",
   "nbconvert_exporter": "python",
   "pygments_lexer": "ipython3",
   "version": "3.8.10"
  }
 },
 "nbformat": 4,
 "nbformat_minor": 5
}
