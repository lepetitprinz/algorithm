{
 "cells": [
  {
   "cell_type": "markdown",
   "id": "c2ec8069",
   "metadata": {},
   "source": [
    "#### Problem 3"
   ]
  },
  {
   "cell_type": "code",
   "execution_count": 51,
   "id": "7a1b2836",
   "metadata": {},
   "outputs": [],
   "source": [
    "from itertools import product\n",
    "\n",
    "def purchase_by_user(threshold, emoticons, discounts):\n",
    "    purchase = 0\n",
    "    for emoticon, discount in zip(emoticons, discounts):\n",
    "        if discount >= threshold:\n",
    "            purchase += emoticon * (1 - discount)\n",
    "    \n",
    "    return int(purchase)\n",
    "\n",
    "def solution(users, emoticons):\n",
    "    discount_list = [0.1, 0.2, 0.3, 0.4]\n",
    "    \n",
    "    result = []\n",
    "    for discounts in product(discount_list, repeat=len(emoticons)):\n",
    "        emoticon_plus = 0\n",
    "        profit = 0\n",
    "        for user in users:\n",
    "            purchase = purchase_by_user(\n",
    "                threshold=user[0]/100, \n",
    "                emoticons=emoticons, \n",
    "                discounts=discounts\n",
    "            )\n",
    "            \n",
    "            if purchase >= user[1]:\n",
    "                emoticon_plus += 1\n",
    "            else:\n",
    "                profit += purchase\n",
    "        \n",
    "        result.append([emoticon_plus, profit])\n",
    "    \n",
    "    result = sorted(result, key=lambda x: (-x[0], -x[1]))\n",
    "    \n",
    "    return result[0]"
   ]
  },
  {
   "cell_type": "code",
   "execution_count": 52,
   "id": "ae902db9",
   "metadata": {},
   "outputs": [],
   "source": [
    "users1 = [[40, 10000], [25, 10000]]\n",
    "emoticons1 = [7000, 9000]\n",
    "\n",
    "users2 = [[40, 2900], [23, 10000], [11, 5200], [5, 5900], [40, 3100], [27, 9200], [32, 6900]]\n",
    "emoticons2 = [1300, 1500, 1600, 4900]"
   ]
  },
  {
   "cell_type": "code",
   "execution_count": 53,
   "id": "8b1ff8bd",
   "metadata": {},
   "outputs": [
    {
     "data": {
      "text/plain": [
       "[1, 5400]"
      ]
     },
     "execution_count": 53,
     "metadata": {},
     "output_type": "execute_result"
    }
   ],
   "source": [
    "solution(users1, emoticons1)"
   ]
  },
  {
   "cell_type": "code",
   "execution_count": 54,
   "id": "4da9b66e",
   "metadata": {},
   "outputs": [
    {
     "data": {
      "text/plain": [
       "[4, 13860]"
      ]
     },
     "execution_count": 54,
     "metadata": {},
     "output_type": "execute_result"
    }
   ],
   "source": [
    "solution(users2, emoticons2)"
   ]
  },
  {
   "cell_type": "markdown",
   "id": "0594c786",
   "metadata": {},
   "source": [
    "#### Problem 5"
   ]
  },
  {
   "cell_type": "code",
   "execution_count": 140,
   "id": "734d3e15",
   "metadata": {},
   "outputs": [],
   "source": [
    "def update(arr, cmd, loc, merge_map):\n",
    "    if len(cmd) == 4:\n",
    "        r, c = int(cmd[1]), int(cmd[2])\n",
    "        prev = arr[r][c]\n",
    "        word = cmd[3]\n",
    "        if merge_map.get((r, c), False):\n",
    "            for i, j in merge_map[(r, c)]:\n",
    "                if prev != 'EMPTY':\n",
    "                    loc[prev].remove((i, j))\n",
    "                if word in loc:\n",
    "                    loc[word].append((i, j))\n",
    "                else:\n",
    "                    loc[word] = [(i, j)]\n",
    "                arr[i][j] = word\n",
    "\n",
    "        else:\n",
    "            if prev != 'EMPTY':\n",
    "                loc[prev].add((r, c))\n",
    "            if word in loc:\n",
    "                loc[word].add((r, c))\n",
    "            else:\n",
    "                loc[word] = set([(r, c)])\n",
    "            arr[r][c] = word\n",
    "\n",
    "    else:\n",
    "        word1, word2 = cmd[1], cmd[2]\n",
    "        loc_list = loc[word1]\n",
    "        for r, c in loc_list:\n",
    "            arr[r][c] = word2\n",
    "\n",
    "        if loc.get(word2, False):\n",
    "            loc[word2] = loc[word2] + loc_list\n",
    "        else:\n",
    "            loc[word2] = loc_list\n",
    "\n",
    "        del loc[word1]\n",
    "\n",
    "    return arr, loc\n",
    "\n",
    "\n",
    "def merge(arr, cmd, loc, merge_map):\n",
    "    r1, c1, r2, c2 = map(int, cmd[1:])\n",
    "    if arr[r1][c1] != 'EMPTY':\n",
    "        word = arr[r1][c1]\n",
    "    else:\n",
    "        word = arr[r2][c2]\n",
    "\n",
    "    merge_set = set()\n",
    "    for i in range(min(r1, r2), max(r1, r2) + 1):\n",
    "        for j in range(min(c1, c2), max(c1, c2) + 1):\n",
    "            prev = arr[i][j]\n",
    "            if loc.get(prev, False):\n",
    "                loc[prev].remove((i, j))\n",
    "\n",
    "            arr[i][j] = word\n",
    "\n",
    "            merge_set.add((i, j))\n",
    "            if merge_map.get((i, j), False):\n",
    "                merge_set.update(merge_map[(i, j)])\n",
    "\n",
    "    for i, j in merge_set:\n",
    "        if (i, j) in merge_map:\n",
    "            merge_map[(i, j)].update(merge_set)\n",
    "        else:\n",
    "            merge_map[(i, j)] = merge_set\n",
    "\n",
    "    loc[word] = loc[word] | merge_set\n",
    "\n",
    "    return arr, loc, merge_map\n",
    "\n",
    "\n",
    "def unmerge(arr, cmd, loc, merge_map):\n",
    "    r, c = map(int, cmd[1:])\n",
    "    merge_list = merge_map[(r, c)]\n",
    "    for i, j in merge_list:\n",
    "        del merge_map[(i, j)]\n",
    "        if i == r and j == c:\n",
    "            continue\n",
    "        else:\n",
    "            prev = arr[i][j]\n",
    "            if loc.get(prev, False):\n",
    "                loc[prev].remove((i, j))\n",
    "\n",
    "            arr[i][j] = 'EMPTY'\n",
    "\n",
    "    return arr, loc, merge_map\n",
    "\n",
    "\n",
    "def solution(commands):\n",
    "    arr = [['EMPTY'] * 51 for _ in range(51)]\n",
    "\n",
    "    result = []\n",
    "    loc = {}\n",
    "    merge_map = {}\n",
    "    for cmd in commands:\n",
    "        cmd = cmd.split(' ')\n",
    "        if cmd[0] == 'UPDATE':\n",
    "            arr, loc = update(arr, cmd, loc, merge_map)\n",
    "        elif cmd[0] == 'MERGE':\n",
    "            arr, loc, merge_map = merge(arr, cmd, loc, merge_map)\n",
    "        elif cmd[0] == 'UNMERGE':\n",
    "            arr, loc, merge_map = unmerge(arr, cmd, loc, merge_map)\n",
    "        elif cmd[0] == 'PRINT':\n",
    "            result.append(arr[int(cmd[1])][int(cmd[2])])\n",
    "\n",
    "    return result"
   ]
  },
  {
   "cell_type": "code",
   "execution_count": 141,
   "id": "a2b37fa8",
   "metadata": {},
   "outputs": [],
   "source": [
    "commands1 = [\n",
    "    \"UPDATE 1 1 menu\", \n",
    "    \"UPDATE 1 2 category\", \n",
    "    \"UPDATE 2 1 bibimbap\", \n",
    "    \"UPDATE 2 2 korean\", \n",
    "    \"UPDATE 2 3 rice\", \n",
    "    \"UPDATE 3 1 ramyeon\", \n",
    "    \"UPDATE 3 2 korean\", \n",
    "    \"UPDATE 3 3 noodle\", \n",
    "    \"UPDATE 3 4 instant\",\n",
    "    \"UPDATE 4 1 pasta\", \n",
    "    \"UPDATE 4 2 italian\", \n",
    "    \"UPDATE 4 3 noodle\", \n",
    "    \"MERGE 1 2 1 3\", \n",
    "    \"MERGE 1 3 1 4\", \n",
    "    \"UPDATE korean hansik\", \n",
    "    \"UPDATE 1 3 group\", \n",
    "    \"UNMERGE 1 4\", \n",
    "    \"PRINT 1 3\", \n",
    "    \"PRINT 1 4\"\n",
    "]\n",
    "\n",
    "commands2 = [\n",
    "    \"UPDATE 1 1 a\", \"UPDATE 1 2 b\", \"UPDATE 2 1 c\", \"UPDATE 2 2 d\", \"MERGE 1 1 1 2\", \n",
    "    \"MERGE 2 2 2 1\", \"MERGE 2 1 1 1\", \"PRINT 1 1\", \"UNMERGE 2 2\", \"PRINT 1 1\"\n",
    "]\n",
    "\n",
    "commands3 = [\n",
    "    \"UPDATE 1 1 a\",\n",
    "    \"UPDATE 2 2 b\",\n",
    "    \"UPDATE 3 3 c\",\n",
    "    \"MERGE 1 1 2 2\",\n",
    "    \"MERGE 2 2 3 3\",\n",
    "    \"UNMERGE 2 2\",\n",
    "]"
   ]
  },
  {
   "cell_type": "code",
   "execution_count": 146,
   "id": "156b6622",
   "metadata": {},
   "outputs": [
    {
     "data": {
      "text/plain": [
       "['d', 'EMPTY']"
      ]
     },
     "execution_count": 146,
     "metadata": {},
     "output_type": "execute_result"
    }
   ],
   "source": [
    "solution(commands2)"
   ]
  },
  {
   "cell_type": "markdown",
   "id": "88065622",
   "metadata": {},
   "source": [
    "#### Problem 7"
   ]
  },
  {
   "cell_type": "code",
   "execution_count": 168,
   "id": "7b96efd4",
   "metadata": {},
   "outputs": [],
   "source": [
    "from collections import deque\n",
    "\n",
    "\n",
    "def tree(graph, direction):\n",
    "    queue = deque([1])\n",
    "\n",
    "    while queue:\n",
    "        node = queue.popleft()\n",
    "        if direction.get(node, False):\n",
    "            queue.append(direction[node])\n",
    "            graph, direction = update_direction(graph, direction, node)\n",
    "\n",
    "    return graph, node, direction\n",
    "\n",
    "\n",
    "def update_direction(graph, direction, node):\n",
    "    next_node = graph[node].popleft()\n",
    "    direction[node] = next_node\n",
    "    graph[node].append(next_node)\n",
    "\n",
    "    return graph, direction\n",
    "\n",
    "\n",
    "def solution(edges, target):\n",
    "    graph = {}\n",
    "    for u, v in edges:\n",
    "        if u in graph:\n",
    "            graph[u].append(v)\n",
    "        else:\n",
    "            graph[u] = [v]\n",
    "\n",
    "    for u, v_list in graph.items():\n",
    "        graph[u] = deque(sorted(v_list))\n",
    "\n",
    "    direction = {}\n",
    "    for node, edge in graph.items():\n",
    "        direction[node] = min(edge)\n",
    "\n",
    "    seq = []\n",
    "    max_len = sum(target)\n",
    "    i = 0\n",
    "    while i < max_len:\n",
    "        i += 1\n",
    "        graph, loc, direction = tree(graph, direction)\n",
    "        seq.append(loc)\n",
    "\n",
    "    return seq"
   ]
  },
  {
   "cell_type": "code",
   "execution_count": 169,
   "id": "6dffb370",
   "metadata": {},
   "outputs": [],
   "source": [
    "edges1 = [[2, 4], [1, 2], [6, 8], [1, 3], [5, 7], [2, 5], [3, 6], [6, 10], [6, 9]]\n",
    "target1 = [0, 0, 0, 3, 0, 0, 5, 1, 2, 3]"
   ]
  },
  {
   "cell_type": "code",
   "execution_count": 170,
   "id": "1c5331a6",
   "metadata": {},
   "outputs": [
    {
     "name": "stdout",
     "output_type": "stream",
     "text": [
      "[4, 8, 7, 9, 4, 10, 7, 8, 4, 9, 7, 10, 4, 8]\n"
     ]
    }
   ],
   "source": [
    "print(solution(edges1, target1))"
   ]
  },
  {
   "cell_type": "code",
   "execution_count": 171,
   "id": "382b84c7",
   "metadata": {
    "scrolled": true
   },
   "outputs": [
    {
     "data": {
      "text/plain": [
       "14"
      ]
     },
     "execution_count": 171,
     "metadata": {},
     "output_type": "execute_result"
    }
   ],
   "source": [
    "sum(target1)"
   ]
  },
  {
   "cell_type": "markdown",
   "id": "79f7d731",
   "metadata": {},
   "source": [
    "#### Problem 6"
   ]
  },
  {
   "cell_type": "code",
   "execution_count": null,
   "id": "f1c7a3f7",
   "metadata": {},
   "outputs": [],
   "source": [
    "def solution(n, m, x, y, r, c, k):\n",
    "    answer = ''\n",
    "    cnts = {'d':0, 'l':0, 'r':0, 'u':0}\n",
    "    row = x - r\n",
    "    col = y - c\n",
    "    cnt = abs(row) + abs(col)\n",
    "    k -= cnt\n",
    "    if k % 2 == 1:\n",
    "        answer = 'impossible'\n",
    "    else:\n",
    "        if row > 0:\n",
    "            cnts['u'] = row\n",
    "        else:\n",
    "            cnts['d'] = -row\n",
    "\n",
    "        if col > 0:\n",
    "            cnts['l'] = col\n",
    "        else:\n",
    "            cnts['r'] = -col\n",
    "\n",
    "        answer = 'd'*cnts['d']\n",
    "        last = 'u'*cnts['u']\n",
    "        if r < n:\n",
    "            move = min(k//2, n-r)\n",
    "            answer += 'd' * move\n",
    "            last += 'u' * move\n",
    "            k -= 2*move\n",
    "\n",
    "        answer += 'l'*cnts['l']\n",
    "        last = 'r'*cnts['r'] + last\n",
    "        if c > 1:\n",
    "            move  = min(k // 2 , c-2)\n",
    "            answer += 'l' * move\n",
    "            last = 'r' * move + last\n",
    "            k -= 2*move\n",
    "        else:\n",
    "            if k >= 2:\n",
    "                answer += 'r'\n",
    "                last = 'l' + last\n",
    "                k -= 2\n",
    "        answer += 'lr' * (k//2) + last\n",
    "    return answer\n"
   ]
  }
 ],
 "metadata": {
  "kernelspec": {
   "display_name": "Python 3 (ipykernel)",
   "language": "python",
   "name": "python3"
  },
  "language_info": {
   "codemirror_mode": {
    "name": "ipython",
    "version": 3
   },
   "file_extension": ".py",
   "mimetype": "text/x-python",
   "name": "python",
   "nbconvert_exporter": "python",
   "pygments_lexer": "ipython3",
   "version": "3.8.10"
  }
 },
 "nbformat": 4,
 "nbformat_minor": 5
}
