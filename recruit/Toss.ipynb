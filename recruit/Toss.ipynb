{
 "cells": [
  {
   "cell_type": "markdown",
   "id": "5348168a",
   "metadata": {},
   "source": [
    "####  문제 1"
   ]
  },
  {
   "cell_type": "code",
   "execution_count": 23,
   "id": "46d0b939",
   "metadata": {},
   "outputs": [],
   "source": [
    "def solution(skills, team, k):\n",
    "    team = sorted(team)\n",
    "    team_first = team[0]\n",
    "    team_last = team[-1]\n",
    "    temp = sum(skills[:k])\n",
    "    if k >= team_last:\n",
    "        best = temp * 2\n",
    "    else:\n",
    "        best = temp\n",
    "    \n",
    "    for i in range(k, len(skills)):\n",
    "        from_idx = i - k\n",
    "        temp = temp - skills[from_idx] + skills[i]\n",
    "        if (from_idx + 1 <= team_first-1) & (i+1 >= team_last):\n",
    "            comp = temp * 2\n",
    "        else:\n",
    "            comp = temp\n",
    "        \n",
    "        if comp > best:\n",
    "            best = comp\n",
    "    \n",
    "    return best"
   ]
  },
  {
   "cell_type": "code",
   "execution_count": 24,
   "id": "0f22a332",
   "metadata": {},
   "outputs": [
    {
     "data": {
      "text/plain": [
       "14"
      ]
     },
     "execution_count": 24,
     "metadata": {},
     "output_type": "execute_result"
    }
   ],
   "source": [
    "solution([3,2,4,1], [2, 4], 3)"
   ]
  },
  {
   "cell_type": "code",
   "execution_count": 25,
   "id": "9d109c2e",
   "metadata": {},
   "outputs": [
    {
     "data": {
      "text/plain": [
       "8"
      ]
     },
     "execution_count": 25,
     "metadata": {},
     "output_type": "execute_result"
    }
   ],
   "source": [
    "solution([1, 1, 4, 2, 1, 1], [2, 1, 5], 4)"
   ]
  },
  {
   "cell_type": "code",
   "execution_count": 26,
   "id": "b1765800",
   "metadata": {},
   "outputs": [
    {
     "data": {
      "text/plain": [
       "13"
      ]
     },
     "execution_count": 26,
     "metadata": {},
     "output_type": "execute_result"
    }
   ],
   "source": [
    "solution([5, 8, 3, 1], [4, 3], 2)"
   ]
  },
  {
   "cell_type": "code",
   "execution_count": null,
   "id": "d5a47d74",
   "metadata": {},
   "outputs": [],
   "source": []
  }
 ],
 "metadata": {
  "kernelspec": {
   "display_name": "Python 3 (ipykernel)",
   "language": "python",
   "name": "python3"
  },
  "language_info": {
   "codemirror_mode": {
    "name": "ipython",
    "version": 3
   },
   "file_extension": ".py",
   "mimetype": "text/x-python",
   "name": "python",
   "nbconvert_exporter": "python",
   "pygments_lexer": "ipython3",
   "version": "3.8.10"
  }
 },
 "nbformat": 4,
 "nbformat_minor": 5
}
