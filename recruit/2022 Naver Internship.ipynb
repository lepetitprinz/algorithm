{
 "cells": [
  {
   "cell_type": "markdown",
   "id": "2072cb9d",
   "metadata": {},
   "source": [
    "### Problem 1"
   ]
  },
  {
   "cell_type": "code",
   "execution_count": 26,
   "id": "a661124c",
   "metadata": {},
   "outputs": [],
   "source": [
    "import numpy as np"
   ]
  },
  {
   "cell_type": "code",
   "execution_count": 27,
   "id": "5f4bb211",
   "metadata": {},
   "outputs": [],
   "source": [
    "arr = np.array([\n",
    "     [0 ,0, 1, 1, 1, 1, 0],\n",
    "     [0, 0 ,1 ,0 ,0 ,0 ,0],\n",
    "     [0, 0 ,1 ,0 ,0 ,0 ,0],\n",
    "     [0, 0 ,1 ,1 ,1 ,1 ,0],\n",
    "     [0 ,0 ,0 ,0 ,0 ,1 ,0],\n",
    "     [0 ,0 ,1 ,0 ,0 ,1 ,0],\n",
    "     [0 ,0 ,1 ,1 ,1 ,1, 0]\n",
    "])"
   ]
  },
  {
   "cell_type": "code",
   "execution_count": 23,
   "id": "9ea4455c",
   "metadata": {},
   "outputs": [],
   "source": [
    "def solution(s):\n",
    "    lines = s.split('\\n')\n",
    "    column = lines[0]\n",
    "    rows = lines[1:]\n",
    "    \n",
    "    result = str(column)\n",
    "    for row in rows:\n",
    "        if 'NULL' not in set(row.split(',')):\n",
    "            result += '\\n' + str(row)\n",
    "    \n",
    "    return result"
   ]
  },
  {
   "cell_type": "code",
   "execution_count": 24,
   "id": "578150a1",
   "metadata": {},
   "outputs": [],
   "source": [
    "s1 = \"id,name,age,score\\n1,Jack,NULL,12\\n17,Betty,28,11\"\n",
    "s2 = 'header,header\\nANNUL,ANNULLED\\nnull,NILL\\nNULL,NULL'"
   ]
  },
  {
   "cell_type": "code",
   "execution_count": 25,
   "id": "249e9039",
   "metadata": {},
   "outputs": [
    {
     "data": {
      "text/plain": [
       "'header,header\\nANNUL,ANNULLED\\nnull,NILL'"
      ]
     },
     "execution_count": 25,
     "metadata": {},
     "output_type": "execute_result"
    }
   ],
   "source": [
    "result = solution(s2)\n",
    "result"
   ]
  },
  {
   "cell_type": "code",
   "execution_count": 14,
   "id": "f3bcf719",
   "metadata": {},
   "outputs": [
    {
     "data": {
      "text/plain": [
       "['header,header', 'ANNUL,ANNULLED', 'null,NILL', 'NULL,NULL']"
      ]
     },
     "execution_count": 14,
     "metadata": {},
     "output_type": "execute_result"
    }
   ],
   "source": [
    "s2.split('\\n')"
   ]
  },
  {
   "cell_type": "markdown",
   "id": "90afcaec",
   "metadata": {},
   "source": [
    "### Problem 4"
   ]
  },
  {
   "cell_type": "code",
   "execution_count": 36,
   "id": "a4a3ce7a",
   "metadata": {},
   "outputs": [],
   "source": [
    "def solution(S, A):\n",
    "    ls = [0 for i in range(len(S))]\n",
    "    for j in range(len(S)):\n",
    "        ls = add_conn(j, S, A, ls)\n",
    "        \n",
    "def add_conn(j, string, locations, ls):\n",
    "    loc = locations[j]\n",
    "    if loc == -1:\n",
    "        ls[j] += 1\n",
    "    else:\n",
    "        if string[loc] != string[j]:\n",
    "            ls[loc] += 1\n",
    "            add_conn(loc, string, locations, ls)"
   ]
  },
  {
   "cell_type": "code",
   "execution_count": 35,
   "id": "908b4782",
   "metadata": {},
   "outputs": [],
   "source": [
    "S = 'abbaaba'\n",
    "A = [-1, 0 ,0 ,0 ,1 ,2, 4]"
   ]
  },
  {
   "cell_type": "code",
   "execution_count": 38,
   "id": "e368a641",
   "metadata": {},
   "outputs": [
    {
     "ename": "TypeError",
     "evalue": "'NoneType' object is not subscriptable",
     "output_type": "error",
     "traceback": [
      "\u001b[0;31m---------------------------------------------------------------------------\u001b[0m",
      "\u001b[0;31mTypeError\u001b[0m                                 Traceback (most recent call last)",
      "Input \u001b[0;32mIn [38]\u001b[0m, in \u001b[0;36m<cell line: 1>\u001b[0;34m()\u001b[0m\n\u001b[0;32m----> 1\u001b[0m \u001b[43msolution\u001b[49m\u001b[43m(\u001b[49m\u001b[43mS\u001b[49m\u001b[43m,\u001b[49m\u001b[43m \u001b[49m\u001b[43mA\u001b[49m\u001b[43m)\u001b[49m\n",
      "Input \u001b[0;32mIn [36]\u001b[0m, in \u001b[0;36msolution\u001b[0;34m(S, A)\u001b[0m\n\u001b[1;32m      2\u001b[0m ls \u001b[38;5;241m=\u001b[39m [\u001b[38;5;241m0\u001b[39m \u001b[38;5;28;01mfor\u001b[39;00m i \u001b[38;5;129;01min\u001b[39;00m \u001b[38;5;28mrange\u001b[39m(\u001b[38;5;28mlen\u001b[39m(S))]\n\u001b[1;32m      3\u001b[0m \u001b[38;5;28;01mfor\u001b[39;00m j \u001b[38;5;129;01min\u001b[39;00m \u001b[38;5;28mrange\u001b[39m(\u001b[38;5;28mlen\u001b[39m(S)):\n\u001b[0;32m----> 4\u001b[0m     ls \u001b[38;5;241m=\u001b[39m \u001b[43madd_conn\u001b[49m\u001b[43m(\u001b[49m\u001b[43mj\u001b[49m\u001b[43m,\u001b[49m\u001b[43m \u001b[49m\u001b[43mS\u001b[49m\u001b[43m,\u001b[49m\u001b[43m \u001b[49m\u001b[43mA\u001b[49m\u001b[43m,\u001b[49m\u001b[43m \u001b[49m\u001b[43mls\u001b[49m\u001b[43m)\u001b[49m\n",
      "Input \u001b[0;32mIn [36]\u001b[0m, in \u001b[0;36madd_conn\u001b[0;34m(j, string, locations, ls)\u001b[0m\n\u001b[1;32m     10\u001b[0m \u001b[38;5;28;01melse\u001b[39;00m:\n\u001b[1;32m     11\u001b[0m     \u001b[38;5;28;01mif\u001b[39;00m string[loc] \u001b[38;5;241m!=\u001b[39m string[j]:\n\u001b[0;32m---> 12\u001b[0m         ls[loc] \u001b[38;5;241m+\u001b[39m\u001b[38;5;241m=\u001b[39m \u001b[38;5;241m1\u001b[39m\n\u001b[1;32m     13\u001b[0m         add_conn(loc, string, locations, ls)\n",
      "\u001b[0;31mTypeError\u001b[0m: 'NoneType' object is not subscriptable"
     ]
    }
   ],
   "source": [
    "solution(S, A)"
   ]
  },
  {
   "cell_type": "code",
   "execution_count": null,
   "id": "ddc3caf2",
   "metadata": {},
   "outputs": [],
   "source": []
  }
 ],
 "metadata": {
  "kernelspec": {
   "display_name": "Python 3 (ipykernel)",
   "language": "python",
   "name": "python3"
  },
  "language_info": {
   "codemirror_mode": {
    "name": "ipython",
    "version": 3
   },
   "file_extension": ".py",
   "mimetype": "text/x-python",
   "name": "python",
   "nbconvert_exporter": "python",
   "pygments_lexer": "ipython3",
   "version": "3.8.10"
  }
 },
 "nbformat": 4,
 "nbformat_minor": 5
}
